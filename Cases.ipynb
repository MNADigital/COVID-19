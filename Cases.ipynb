{
 "cells": [
  {
   "cell_type": "code",
   "execution_count": 118,
   "metadata": {
    "colab": {},
    "colab_type": "code",
    "id": "h-2ZoFBCqG4-"
   },
   "outputs": [],
   "source": [
    "import pandas as pd\n",
    "from datetime import date, timedelta\n",
    "import altair as alt"
   ]
  },
  {
   "cell_type": "code",
   "execution_count": 119,
   "metadata": {
    "colab": {},
    "colab_type": "code",
    "id": "mVbK7jhKqG5G"
   },
   "outputs": [],
   "source": [
    "# Configuration variables\n",
    "today = date.today()\n",
    "yesterday = date.today() - timedelta(days=1)\n",
    "our_utla_codes = [\n",
    "    'E08000025', # Birmingham\n",
    "    'E08000027', # Dudley\n",
    "    'E08000028', # Sandwell\n",
    "    'E06000051', # Shropshire\n",
    "    'E10000028', # Staffordshire\n",
    "    'E06000021', # Stoke-on-Trent\n",
    "    'E06000020', # Telford and Wrekin\n",
    "    'E08000030', # Walsall\n",
    "    'E08000031', # Wolverhampton\n",
    "    'E10000034', # Worcestershire\n",
    "]\n",
    "pheh_url = 'https://fingertips.phe.org.uk/documents/Historic%20COVID-19%20Dashboard%20Data.xlsx'\n",
    "pheh_header_row = 7 # zero indexed\n",
    "pheh_utla_sheet = 'UTLAs'\n",
    "pheh_utla_csv_filename = 'pheh-utla.csv'"
   ]
  }
 ],
 "metadata": {
  "colab": {
   "name": "Deaths.ipynb",
   "provenance": []
  },
  "kernelspec": {
   "display_name": "Python 3",
   "language": "python",
   "name": "python3"
  },
  "language_info": {
   "codemirror_mode": {
    "name": "ipython",
    "version": 3
   },
   "file_extension": ".py",
   "mimetype": "text/x-python",
   "name": "python",
   "nbconvert_exporter": "python",
   "pygments_lexer": "ipython3",
   "version": "3.8.2"
  }
 },
 "nbformat": 4,
 "nbformat_minor": 4
}
