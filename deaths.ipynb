{
 "cells": [
  {
   "cell_type": "code",
   "execution_count": 17,
   "metadata": {},
   "outputs": [],
   "source": [
    "import pandas as pd\n",
    "from datetime import date, timedelta\n",
    "import urllib\n",
    "import numpy as np\n",
    "import altair as alt\n",
    "from functools import reduce"
   ]
  },
  {
   "cell_type": "code",
   "execution_count": 18,
   "metadata": {},
   "outputs": [],
   "source": [
    "# Configuration\n",
    "\n",
    "## Jupyter options\n",
    "pd.set_option('mode.chained_assignment', None)\n",
    "\n",
    "## Global variables\n",
    "today = date.today()\n",
    "yesterday = date.today() - timedelta(days=1)\n",
    "import_directory = 'Imports/'\n",
    "\n",
    "## NHS File Format\n",
    "nhs_file_format = 'https://www.england.nhs.uk/statistics/wp-content/uploads/sites/2/DIRECTORY/COVID-19-total-announced-deaths-DATE.xlsx'\n",
    "nhs_file_date_format = '%-d-%B-%Y'\n",
    "nhs_file_directory_format = '%Y/%m'"
   ]
  },
  {
   "cell_type": "code",
   "execution_count": 19,
   "metadata": {},
   "outputs": [],
   "source": [
    "## Defining the trust codes relevant to MNA\n",
    "### All\n",
    "our_trust_codes = [\n",
    "    'RYW', # Birmingham Community Healthcare NHS Foundation Trust\n",
    "    'RNA', # The Dudley Group NHS Foundation Trust\n",
    "    'RL4', # The Royal Wolverhampton NHS Trust\n",
    "    'RXK', # Sandwell And West Birmingham Hospitals NHS Trust\n",
    "    'RXW', # Shrewsbury And Telford Hospital NHS Trust\n",
    "    'RRJ', # The Royal Orthopaedic Hospital NHS Foundation Trust\n",
    "    'RRK', # University Hospitals Birmingham NHS Foundation Trust\n",
    "    'RJE', # University Hospitals Of North Midlands NHS Trust\n",
    "    'RBK', # Walsall Healthcare NHS Trust\n",
    "    'RWP', # Worcestershire Acute Hospitals NHS Trust\n",
    "    'R1A', # Worcestershire Health And Care NHS Trust\n",
    "    'RL1', # The Robert Jones And Agnes Hunt Orthopaedic Hospital NHS Foundation Trust\n",
    "    'RLY', # North Staffordshire Combined Healthcare NHS Trust\n",
    "    'R1D', # Shropshire Community Health NHS Trust\n",
    "    'RRE', # Midlands Partnership NHS Foundation Trust\n",
    "]\n",
    "\n",
    "### Groups\n",
    "trustcodes_expressandstar = [\n",
    "    'RYW', # Birmingham Community Healthcare NHS Foundation Trust\n",
    "    'RNA', # The Dudley Group NHS Foundation Trust\n",
    "    'RL4', # The Royal Wolverhampton NHS Trust\n",
    "    'RXK', # Sandwell And West Birmingham Hospitals NHS Trust\n",
    "    'RRJ', # The Royal Orthopaedic Hospital NHS Foundation Trust\n",
    "    'RRK', # University Hospitals Birmingham NHS Foundation Trust\n",
    "    'RJE', # University Hospitals Of North Midlands NHS Trust\n",
    "    'RBK', # Walsall Healthcare NHS Trust\n",
    "    'RLY', # North Staffordshire Combined Healthcare NHS Trust\n",
    "    'RRE', # Midlands Partnership NHS Foundation Trust\n",
    "]\n",
    "\n",
    "trustcodes_shropshirestar = [\n",
    "    'RL1', # The Robert Jones And Agnes Hunt Orthopaedic Hospital NHS Foundation Trust\n",
    "    'RXW', # Shrewsbury And Telford Hospital NHS Trust\n",
    "    'R1D', # Shropshire Community Health NHS Trust\n",
    "]\n",
    "\n",
    "trustcodes_blackcountryandbirmingham = [\n",
    "    'RYW', # Birmingham Community Healthcare NHS Foundation Trust\n",
    "    'RNA', # The Dudley Group NHS Foundation Trust\n",
    "    'RL4', # The Royal Wolverhampton NHS Trust\n",
    "    'RXK', # Sandwell And West Birmingham Hospitals NHS Trust\n",
    "    'RRJ', # The Royal Orthopaedic Hospital NHS Foundation Trust\n",
    "    'RRK', # University Hospitals Birmingham NHS Foundation Trust\n",
    "    'RBK', # Walsall Healthcare NHS Trust\n",
    "]\n",
    "\n",
    "trustcodes_sandwellandbirmingham = [\n",
    "    'RYW', # Birmingham Community Healthcare NHS Foundation Trust\n",
    "    'RXK', # Sandwell And West Birmingham Hospitals NHS Trust\n",
    "    'RRJ', # The Royal Orthopaedic Hospital NHS Foundation Trust\n",
    "    'RRK', # University Hospitals Birmingham NHS Foundation Trust\n",
    "]\n",
    "\n",
    "trustcodes_worcestershire = [\n",
    "    'RWP', # Worcestershire Acute Hospitals NHS Trust\n",
    "    'R1A', # Worcestershire Health And Care NHS Trust\n",
    "]\n",
    "\n",
    "trustcodes_staffordshire = [\n",
    "    'RJE', # University Hospitals Of North Midlands NHS Trust\n",
    "    'RLY', # North Staffordshire Combined Healthcare NHS Trust\n",
    "    'RRE', # Midlands Partnership NHS Foundation Trust\n",
    "]\n",
    "\n",
    "trustcodes_wolverhampton = [\n",
    "    'RL4', # The Royal Wolverhampton NHS Trust\n",
    "]\n",
    "\n",
    "trustcodes_walsall = [\n",
    "    'RBK', # Walsall Healthcare NHS Trust\n",
    "]\n",
    "\n",
    "trustcodes_dudley = [\n",
    "    'RNA', # The Dudley Group NHS Foundation Trust\n",
    "]\n",
    "\n",
    "# create an MNA group from the de-duplicated sum of E&S and SS\n",
    "trustcodes_mna = trustcodes_expressandstar.copy()\n",
    "for code in trustcodes_shropshirestar:\n",
    "    if code not in trustcodes_mna:\n",
    "        trustcodes_mna.append(code)"
   ]
  },
  {
   "cell_type": "code",
   "execution_count": 31,
   "metadata": {},
   "outputs": [],
   "source": [
    "start_date = date(2020, 4, 4) # as of today (2020-04-15) this is the first day/file to exist\n",
    "end_date = date.today()\n",
    "\n",
    "def get_real_url(date):\n",
    "    real_url = False\n",
    "    # builder variables\n",
    "    ## how many suffixes to try ( highest so far is 1 — 20200422 )\n",
    "    nhs_max_suffix = 2\n",
    "    \n",
    "    ## make a list of suffixes\n",
    "    suffixes = list(\n",
    "        map(\n",
    "            lambda n: '.xlsx' if n==0 else f'-{n}.xlsx',\n",
    "            reversed(range(nhs_max_suffix+1))\n",
    "        )\n",
    "    )\n",
    "    \n",
    "    ## filenames so far\n",
    "    filenames = ['COVID-19-total-announced-deaths-','COVID-19-all-announced-deaths-',]\n",
    "    \n",
    "    ## date format, only one so far (!)\n",
    "    date_format = '%-d-%B-%Y'\n",
    "    \n",
    "    ## directory date format\n",
    "    directory_format = '%Y/%m/'\n",
    "    \n",
    "    ## domain and initial path\n",
    "    file_start = 'https://www.england.nhs.uk/statistics/wp-content/uploads/sites/2/'\n",
    "    \n",
    "    # testing\n",
    "    for suffix in suffixes:\n",
    "        if (real_url==False):\n",
    "            for name in filenames:\n",
    "                if (real_url==False):\n",
    "                    url = file_start + date.strftime(directory_format) + name + date.strftime(nhs_file_date_format) + suffix\n",
    "                    try:\n",
    "                        urllib.request.urlopen(url)\n",
    "                        real_url = url\n",
    "                        break\n",
    "                    except:\n",
    "                        pass\n",
    "    \n",
    "    return real_url\n",
    "        \n",
    "data = filter( # iterates through the object, leaving only files which exist\n",
    "    lambda day: day['url'] != False,\n",
    "    map(\n",
    "        lambda date : { # iterates through list of days, returning an object / dictionary\n",
    "            'date': date,\n",
    "            'url': get_real_url(date)\n",
    "        },\n",
    "        map( # list of days\n",
    "            lambda interval : start_date + timedelta(days=interval),\n",
    "            range((end_date - start_date).days+1)\n",
    "        )\n",
    "    )\n",
    ")"
   ]
  },
  {
   "cell_type": "code",
   "execution_count": null,
   "metadata": {},
   "outputs": [],
   "source": [
    "def map_nhsdeaths_to_dataframe(x):\n",
    "    csv_filename = import_directory + 'nhsdeathsbytrust-' + x['date'].strftime('%Y%m%d') + '.csv'\n",
    "    excel = None\n",
    "    \n",
    "    try:\n",
    "        excel = pd.read_excel(\n",
    "            x['url'],\n",
    "            header=15,\n",
    "            sheet_name='COVID19 total deaths by trust'\n",
    "        )\n",
    "    except: # sheet name changed on 20200521\n",
    "        excel = pd.read_excel(\n",
    "            x['url'],\n",
    "            header=15,\n",
    "            sheet_name='Tab4 Deaths by trust'\n",
    "        )\n",
    "    excel.to_csv(csv_filename)\n",
    "    csv = pd.read_csv(csv_filename)\n",
    "\n",
    "    ## Filtering down to our_trusts\n",
    "    our_trusts = csv[csv.Code.isin(our_trust_codes)] # filter to our trusts\n",
    "    our_trusts = our_trusts.filter(regex='(^Code$|^Name$|[0-9]{4}-.+|^Up to.01-Mar-20$)', axis=1) # filter to only the required columns\n",
    "    our_trusts = our_trusts.rename(columns={'Code': 'code', 'Name' : 'name'}) # clean up column names\n",
    "    our_trusts = pd.melt(our_trusts, id_vars=['code','name'], var_name='date of death', value_name='deaths') # un-pivot the date columns\n",
    "    our_trusts['date of death'] = our_trusts['date of death'].str.replace('Up to 01-Mar-20','2020-02-29 00:00:00')\n",
    "    our_trusts['date of death'] = pd.to_datetime(our_trusts['date of death']) # clean all dates to YYYY-MM-DD\n",
    "\n",
    "    ## Adding cumulative deaths\n",
    "    our_trusts['cumulative deaths'] = our_trusts.groupby('name').cumsum()\n",
    "\n",
    "    ## Cleaning float\n",
    "    our_trusts['deaths'] = our_trusts['deaths'].convert_dtypes(convert_integer=True)\n",
    "    our_trusts['cumulative deaths'] = our_trusts['cumulative deaths'].convert_dtypes(convert_integer=True)\n",
    "    \n",
    "    ## Add dataframe as a new column\n",
    "    x['dataframe'] = our_trusts\n",
    "    \n",
    "    return x\n",
    "\n",
    "def map_add_reported_day(x):\n",
    "    x['dataframe']['date reported'] = x['date']\n",
    "    return x\n",
    "\n",
    "our_trusts_historical = reduce(\n",
    "    lambda all_data, day_data : all_data.append(day_data,ignore_index=True),\n",
    "    map(\n",
    "        lambda x : x['dataframe'],\n",
    "        map(\n",
    "            map_add_reported_day,\n",
    "            map(map_nhsdeaths_to_dataframe, data)\n",
    "        )\n",
    "    ),\n",
    "    pd.DataFrame(columns = ['code','name','date of death','date reported','deaths','cumulative deaths'])\n",
    ")"
   ]
  },
  {
   "cell_type": "code",
   "execution_count": null,
   "metadata": {},
   "outputs": [],
   "source": [
    "def get_latest_deaths(code_group=False):\n",
    "    df = our_trusts_historical.copy()\n",
    "    \n",
    "    last_day = df['date reported'].max()\n",
    "    penultimate_day = last_day - timedelta(days=1)\n",
    "\n",
    "    df = df[(df['date reported'] == last_day) | (df['date reported'] == penultimate_day)]\n",
    "    df = df.groupby(['code','name','date reported'], as_index=False)['deaths'].sum()\n",
    "    df['reporting diff'] = df.groupby('code')['deaths'].diff().convert_dtypes(convert_integer=True)\n",
    "    df = df[df['date reported'] == last_day]\n",
    "    df = df.sort_values(by=['reporting diff'], ascending=False)\n",
    "    \n",
    "    if code_group:\n",
    "        df = df[df.code.isin(code_group)]\n",
    "        df = df.groupby('date reported', as_index=False).sum()\n",
    "        \n",
    "    return df"
   ]
  },
  {
   "cell_type": "code",
   "execution_count": null,
   "metadata": {},
   "outputs": [],
   "source": [
    "get_latest_deaths()"
   ]
  },
  {
   "cell_type": "code",
   "execution_count": null,
   "metadata": {},
   "outputs": [],
   "source": [
    "get_latest_deaths(trustcodes_staffordshire)"
   ]
  },
  {
   "cell_type": "code",
   "execution_count": null,
   "metadata": {},
   "outputs": [],
   "source": [
    "get_latest_deaths(trustcodes_worcestershire)"
   ]
  },
  {
   "cell_type": "code",
   "execution_count": null,
   "metadata": {},
   "outputs": [],
   "source": [
    "get_latest_deaths(trustcodes_sandwellandbirmingham)"
   ]
  },
  {
   "cell_type": "code",
   "execution_count": null,
   "metadata": {},
   "outputs": [],
   "source": [
    "get_latest_deaths(trustcodes_blackcountryandbirmingham)"
   ]
  },
  {
   "cell_type": "code",
   "execution_count": null,
   "metadata": {},
   "outputs": [],
   "source": [
    "get_latest_deaths(trustcodes_expressandstar)"
   ]
  },
  {
   "cell_type": "markdown",
   "metadata": {},
   "source": [
    "# Shropshire Star"
   ]
  },
  {
   "cell_type": "code",
   "execution_count": null,
   "metadata": {},
   "outputs": [],
   "source": [
    "get_latest_deaths(trustcodes_shropshirestar)"
   ]
  },
  {
   "cell_type": "markdown",
   "metadata": {},
   "source": [
    "# Charts"
   ]
  },
  {
   "cell_type": "markdown",
   "metadata": {},
   "source": [
    "## Deaths on date died by trust"
   ]
  },
  {
   "cell_type": "code",
   "execution_count": null,
   "metadata": {},
   "outputs": [],
   "source": [
    "chart_doddbt = our_trusts_historical.copy()\n",
    "chart_doddbt_latest = chart_doddbt['date reported'].max()\n",
    "chart_doddbt = chart_doddbt[chart_doddbt['date reported'] == chart_doddbt_latest]\n",
    "chart_doddbt = chart_doddbt.groupby(['code','name','date of death'], as_index=False)['deaths'].sum()\n",
    "chart_doddbt['cumulative deaths'] = chart_doddbt.groupby('name').cumsum()\n",
    "\n",
    "alt.Chart(chart_doddbt).mark_line().encode(\n",
    "    x='date of death',\n",
    "    y='deaths',\n",
    "    color='name'\n",
    ")"
   ]
  },
  {
   "cell_type": "code",
   "execution_count": null,
   "metadata": {},
   "outputs": [],
   "source": [
    "alt.Chart(chart_doddbt).mark_bar().encode(\n",
    "    column='date of death',\n",
    "    x='deaths',\n",
    "    y='name',\n",
    "    color='name'\n",
    ").properties(width=220)"
   ]
  },
  {
   "cell_type": "markdown",
   "metadata": {},
   "source": [
    "### Cumulative"
   ]
  },
  {
   "cell_type": "code",
   "execution_count": null,
   "metadata": {},
   "outputs": [],
   "source": [
    "alt.Chart(chart_doddbt).mark_line().encode(\n",
    "    x='date of death',\n",
    "    y='cumulative deaths',\n",
    "    color='name'\n",
    ")"
   ]
  },
  {
   "cell_type": "markdown",
   "metadata": {},
   "source": [
    "## Deaths on date died Shropshire"
   ]
  },
  {
   "cell_type": "code",
   "execution_count": null,
   "metadata": {},
   "outputs": [],
   "source": [
    "chart_dodds = chart_doddbt.copy()\n",
    "chart_dodds = chart_dodds[chart_dodds.code.isin(trustcodes_shropshirestar)]\n",
    "chart_dodds = chart_dodds.groupby(['date of death'], as_index=False)['deaths'].sum()\n",
    "alt.Chart(chart_dodds).mark_bar().encode(\n",
    "    x='date of death',\n",
    "    y='deaths'\n",
    ")"
   ]
  },
  {
   "cell_type": "markdown",
   "metadata": {},
   "source": [
    "### Cumulative"
   ]
  },
  {
   "cell_type": "code",
   "execution_count": null,
   "metadata": {},
   "outputs": [],
   "source": [
    "chart_dodds = chart_doddbt.copy()\n",
    "chart_dodds = chart_dodds[chart_dodds.code.isin(trustcodes_shropshirestar)]\n",
    "chart_dodds = chart_dodds.groupby(['date of death'], as_index=False)['cumulative deaths'].sum()\n",
    "alt.Chart(chart_dodds).mark_area().encode(\n",
    "    x='date of death',\n",
    "    y='cumulative deaths'\n",
    ")"
   ]
  },
  {
   "cell_type": "markdown",
   "metadata": {},
   "source": [
    "### Cumulative by trust"
   ]
  },
  {
   "cell_type": "code",
   "execution_count": null,
   "metadata": {},
   "outputs": [],
   "source": [
    "chart_dodds = chart_doddbt.copy()\n",
    "chart_dodds = chart_dodds[chart_dodds.code.isin(trustcodes_shropshirestar)]\n",
    "alt.Chart(chart_dodds).mark_line().encode(\n",
    "    x='date of death',\n",
    "    y='cumulative deaths',\n",
    "    color='name'\n",
    ").configure_legend(labelLimit=0,orient='bottom')"
   ]
  },
  {
   "cell_type": "markdown",
   "metadata": {},
   "source": [
    "## Deaths on date died Express & Star"
   ]
  },
  {
   "cell_type": "code",
   "execution_count": null,
   "metadata": {},
   "outputs": [],
   "source": [
    "chart_dodde = chart_doddbt.copy()\n",
    "chart_dodde = chart_dodde[chart_dodde.code.isin(trustcodes_expressandstar)]\n",
    "chart_dodde = chart_dodde.groupby(['date of death'], as_index=False)['deaths'].sum()\n",
    "alt.Chart(chart_dodde).mark_bar().encode(\n",
    "    x='date of death',\n",
    "    y='deaths'\n",
    ")"
   ]
  },
  {
   "cell_type": "markdown",
   "metadata": {},
   "source": [
    "### Cumulative"
   ]
  },
  {
   "cell_type": "code",
   "execution_count": null,
   "metadata": {},
   "outputs": [],
   "source": [
    "chart_dodde = chart_doddbt.copy()\n",
    "chart_dodde = chart_dodde[chart_dodde.code.isin(trustcodes_expressandstar)]\n",
    "chart_dodde = chart_dodde.groupby(['date of death'], as_index=False)['cumulative deaths'].sum()\n",
    "alt.Chart(chart_dodde).mark_area().encode(\n",
    "    x='date of death',\n",
    "    y='cumulative deaths'\n",
    ")"
   ]
  },
  {
   "cell_type": "markdown",
   "metadata": {},
   "source": [
    "### Cumulative by trust"
   ]
  },
  {
   "cell_type": "code",
   "execution_count": null,
   "metadata": {},
   "outputs": [],
   "source": [
    "chart_dodde = chart_doddbt.copy()\n",
    "chart_dodde = chart_dodde[chart_dodde.code.isin(trustcodes_expressandstar)]\n",
    "alt.Chart(chart_dodde).mark_line().encode(\n",
    "    x='date of death',\n",
    "    y='cumulative deaths',\n",
    "    color=alt.Color('name',sort=[\n",
    "        'UNIVERSITY HOSPITALS BIRMINGHAM NHS FOUNDATION TRUST',\n",
    "        'SANDWELL AND WEST BIRMINGHAM HOSPITALS NHS TRUST',\n",
    "        'THE ROYAL WOLVERHAMPTON NHS TRUST',\n",
    "        'THE DUDLEY GROUP NHS FOUNDATION TRUST',\n",
    "        'UNIVERSITY HOSPITALS OF NORTH MIDLANDS NHS TRUST',\n",
    "        'BIRMINGHAM COMMUNITY HEALTHCARE NHS FOUNDATION TRUST'\n",
    "    ])\n",
    ").configure_legend(labelLimit=0, orient='bottom',direction='vertical')"
   ]
  },
  {
   "cell_type": "markdown",
   "metadata": {},
   "source": [
    "## Deaths on date died MNA"
   ]
  },
  {
   "cell_type": "code",
   "execution_count": null,
   "metadata": {},
   "outputs": [],
   "source": [
    "chart_doddmna = chart_doddbt.copy()\n",
    "chart_doddmna = chart_doddmna[chart_doddmna.code.isin(trustcodes_mna)]\n",
    "chart_doddmna = chart_doddmna.groupby(['date of death'], as_index=False)['deaths'].sum()\n",
    "alt.Chart(chart_doddmna).mark_bar().encode(\n",
    "    x='date of death',\n",
    "    y='deaths'\n",
    ")"
   ]
  },
  {
   "cell_type": "code",
   "execution_count": null,
   "metadata": {},
   "outputs": [],
   "source": [
    "chart_doddmna = chart_doddbt.copy()\n",
    "chart_doddmna = chart_doddmna[chart_doddmna.code.isin(trustcodes_mna)]\n",
    "chart_doddmna = chart_doddmna.groupby(['date of death'], as_index=False)['cumulative deaths'].sum()\n",
    "alt.Chart(chart_doddmna).mark_area().encode(\n",
    "    x='date of death',\n",
    "    y='cumulative deaths'\n",
    ")"
   ]
  }
 ],
 "metadata": {
  "kernelspec": {
   "display_name": "Python 3",
   "language": "python",
   "name": "python3"
  },
  "language_info": {
   "codemirror_mode": {
    "name": "ipython",
    "version": 3
   },
   "file_extension": ".py",
   "mimetype": "text/x-python",
   "name": "python",
   "nbconvert_exporter": "python",
   "pygments_lexer": "ipython3",
   "version": "3.8.2"
  }
 },
 "nbformat": 4,
 "nbformat_minor": 4
}
