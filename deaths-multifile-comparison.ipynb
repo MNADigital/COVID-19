{
 "cells": [
  {
   "cell_type": "code",
   "execution_count": 56,
   "metadata": {},
   "outputs": [],
   "source": [
    "import pandas as pd\n",
    "from datetime import date, timedelta\n",
    "import urllib\n",
    "import numpy as np\n",
    "import altair as alt"
   ]
  },
  {
   "cell_type": "code",
   "execution_count": 57,
   "metadata": {},
   "outputs": [],
   "source": [
    "# NHS File Format\n",
    "nhs_file_format = \"https://www.england.nhs.uk/statistics/wp-content/uploads/sites/2/DIRECTORY/COVID-19-total-announced-deaths-DATE.xlsx\"\n",
    "nhs_file_date_format = \"%-d-%B-%Y\"\n",
    "nhs_file_directory_format = \"%Y/%m\""
   ]
  },
  {
   "cell_type": "code",
   "execution_count": 58,
   "metadata": {},
   "outputs": [],
   "source": [
    "# Create a list of dates\n",
    "start_date = date(2020, 4, 1)   # start date\n",
    "end_date = date.today()\n",
    "delta = end_date - start_date       # as timedelta\n",
    "file_dates = [] # initialise empty list\n",
    "\n",
    "for i in range(delta.days + 1):\n",
    "    file_dates.append(start_date + timedelta(days=i))"
   ]
  },
  {
   "cell_type": "code",
   "execution_count": 59,
   "metadata": {},
   "outputs": [],
   "source": [
    "# Create a list URLs\n",
    "paths = []\n",
    "real_paths = []\n",
    "\n",
    "for day in file_dates:\n",
    "    path = nhs_file_format.replace(\"DATE\",day.strftime(nhs_file_date_format))\n",
    "    path = path.replace(\"DIRECTORY\",day.strftime(nhs_file_directory_format))\n",
    "    \n",
    "    paths.append(path)\n",
    "\n",
    "for path in paths:\n",
    "    try:\n",
    "      urllib.request.urlopen(path)\n",
    "      real_paths.append(path)\n",
    "        \n",
    "    except urllib.error.HTTPError as e:\n",
    "        pass"
   ]
  },
  {
   "cell_type": "code",
   "execution_count": 63,
   "metadata": {},
   "outputs": [
    {
     "data": {
      "text/plain": [
       "['https://www.england.nhs.uk/statistics/wp-content/uploads/sites/2/2020/04/COVID-19-total-announced-deaths-4-April-2020.xlsx',\n",
       " 'https://www.england.nhs.uk/statistics/wp-content/uploads/sites/2/2020/04/COVID-19-total-announced-deaths-5-April-2020.xlsx',\n",
       " 'https://www.england.nhs.uk/statistics/wp-content/uploads/sites/2/2020/04/COVID-19-total-announced-deaths-6-April-2020.xlsx',\n",
       " 'https://www.england.nhs.uk/statistics/wp-content/uploads/sites/2/2020/04/COVID-19-total-announced-deaths-7-April-2020.xlsx',\n",
       " 'https://www.england.nhs.uk/statistics/wp-content/uploads/sites/2/2020/04/COVID-19-total-announced-deaths-8-April-2020.xlsx',\n",
       " 'https://www.england.nhs.uk/statistics/wp-content/uploads/sites/2/2020/04/COVID-19-total-announced-deaths-9-April-2020.xlsx',\n",
       " 'https://www.england.nhs.uk/statistics/wp-content/uploads/sites/2/2020/04/COVID-19-total-announced-deaths-10-April-2020.xlsx',\n",
       " 'https://www.england.nhs.uk/statistics/wp-content/uploads/sites/2/2020/04/COVID-19-total-announced-deaths-11-April-2020.xlsx',\n",
       " 'https://www.england.nhs.uk/statistics/wp-content/uploads/sites/2/2020/04/COVID-19-total-announced-deaths-12-April-2020.xlsx',\n",
       " 'https://www.england.nhs.uk/statistics/wp-content/uploads/sites/2/2020/04/COVID-19-total-announced-deaths-13-April-2020.xlsx',\n",
       " 'https://www.england.nhs.uk/statistics/wp-content/uploads/sites/2/2020/04/COVID-19-total-announced-deaths-14-April-2020.xlsx']"
      ]
     },
     "execution_count": 63,
     "metadata": {},
     "output_type": "execute_result"
    }
   ],
   "source": [
    "real_paths"
   ]
  },
  {
   "cell_type": "code",
   "execution_count": null,
   "metadata": {},
   "outputs": [],
   "source": []
  }
 ],
 "metadata": {
  "kernelspec": {
   "display_name": "Python 3",
   "language": "python",
   "name": "python3"
  },
  "language_info": {
   "codemirror_mode": {
    "name": "ipython",
    "version": 3
   },
   "file_extension": ".py",
   "mimetype": "text/x-python",
   "name": "python",
   "nbconvert_exporter": "python",
   "pygments_lexer": "ipython3",
   "version": "3.8.2"
  }
 },
 "nbformat": 4,
 "nbformat_minor": 4
}
