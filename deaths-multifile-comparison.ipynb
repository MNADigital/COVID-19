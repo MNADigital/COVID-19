{
 "cells": [
  {
   "cell_type": "code",
   "execution_count": 100,
   "metadata": {},
   "outputs": [],
   "source": [
    "import pandas as pd\n",
    "from datetime import date, timedelta\n",
    "import urllib\n",
    "import numpy as np\n",
    "import altair as alt"
   ]
  },
  {
   "cell_type": "code",
   "execution_count": 101,
   "metadata": {},
   "outputs": [],
   "source": [
    "# NHS File Format\n",
    "nhs_file_format = \"https://www.england.nhs.uk/statistics/wp-content/uploads/sites/2/DIRECTORY/COVID-19-total-announced-deaths-DATE.xlsx\"\n",
    "nhs_file_date_format = \"%-d-%B-%Y\"\n",
    "nhs_file_directory_format = \"%Y/%m\""
   ]
  },
  {
   "cell_type": "code",
   "execution_count": 112,
   "metadata": {},
   "outputs": [],
   "source": [
    "start_date = date(2020, 4, 1)\n",
    "end_date = date.today()\n",
    "\n",
    "def filter_real_urls(day):\n",
    "    try:\n",
    "      urllib.request.urlopen(day[\"url\"])\n",
    "      return True\n",
    "        \n",
    "    except:\n",
    "        return False\n",
    "\n",
    "paths = filter(\n",
    "    filter_real_urls,\n",
    "    map(\n",
    "        lambda date : {\n",
    "            \"date\": date,\n",
    "            \"url\": nhs_file_format.replace(\n",
    "                \"DATE\",\n",
    "                date.strftime(nhs_file_date_format)\n",
    "            ).replace(\n",
    "                \"DIRECTORY\",\n",
    "                date.strftime(nhs_file_directory_format)\n",
    "            )\n",
    "        },\n",
    "        map(\n",
    "            lambda interval : start_date + timedelta(days=interval),\n",
    "            range((end_date - start_date).days+1)\n",
    "        )\n",
    "    )\n",
    ")"
   ]
  },
  {
   "cell_type": "code",
   "execution_count": 113,
   "metadata": {},
   "outputs": [
    {
     "data": {
      "text/plain": [
       "[{'date': datetime.date(2020, 4, 4),\n",
       "  'url': 'https://www.england.nhs.uk/statistics/wp-content/uploads/sites/2/2020/04/COVID-19-total-announced-deaths-4-April-2020.xlsx'},\n",
       " {'date': datetime.date(2020, 4, 5),\n",
       "  'url': 'https://www.england.nhs.uk/statistics/wp-content/uploads/sites/2/2020/04/COVID-19-total-announced-deaths-5-April-2020.xlsx'},\n",
       " {'date': datetime.date(2020, 4, 6),\n",
       "  'url': 'https://www.england.nhs.uk/statistics/wp-content/uploads/sites/2/2020/04/COVID-19-total-announced-deaths-6-April-2020.xlsx'},\n",
       " {'date': datetime.date(2020, 4, 7),\n",
       "  'url': 'https://www.england.nhs.uk/statistics/wp-content/uploads/sites/2/2020/04/COVID-19-total-announced-deaths-7-April-2020.xlsx'},\n",
       " {'date': datetime.date(2020, 4, 8),\n",
       "  'url': 'https://www.england.nhs.uk/statistics/wp-content/uploads/sites/2/2020/04/COVID-19-total-announced-deaths-8-April-2020.xlsx'},\n",
       " {'date': datetime.date(2020, 4, 9),\n",
       "  'url': 'https://www.england.nhs.uk/statistics/wp-content/uploads/sites/2/2020/04/COVID-19-total-announced-deaths-9-April-2020.xlsx'},\n",
       " {'date': datetime.date(2020, 4, 10),\n",
       "  'url': 'https://www.england.nhs.uk/statistics/wp-content/uploads/sites/2/2020/04/COVID-19-total-announced-deaths-10-April-2020.xlsx'},\n",
       " {'date': datetime.date(2020, 4, 11),\n",
       "  'url': 'https://www.england.nhs.uk/statistics/wp-content/uploads/sites/2/2020/04/COVID-19-total-announced-deaths-11-April-2020.xlsx'},\n",
       " {'date': datetime.date(2020, 4, 12),\n",
       "  'url': 'https://www.england.nhs.uk/statistics/wp-content/uploads/sites/2/2020/04/COVID-19-total-announced-deaths-12-April-2020.xlsx'},\n",
       " {'date': datetime.date(2020, 4, 13),\n",
       "  'url': 'https://www.england.nhs.uk/statistics/wp-content/uploads/sites/2/2020/04/COVID-19-total-announced-deaths-13-April-2020.xlsx'},\n",
       " {'date': datetime.date(2020, 4, 14),\n",
       "  'url': 'https://www.england.nhs.uk/statistics/wp-content/uploads/sites/2/2020/04/COVID-19-total-announced-deaths-14-April-2020.xlsx'}]"
      ]
     },
     "execution_count": 113,
     "metadata": {},
     "output_type": "execute_result"
    }
   ],
   "source": [
    "list(paths)"
   ]
  },
  {
   "cell_type": "code",
   "execution_count": null,
   "metadata": {},
   "outputs": [],
   "source": [
    "# make a new empty dataframe\n",
    "\n",
    "# for each item in paths\n",
    "    # convert excel to csv\n",
    "    # filter and clean\n",
    "    # create dataframe\n",
    "    # add a column for date reported based on the file date / path date\n",
    "    # merge/append this into the new dataframe\n",
    "\n",
    "# functions\n",
    "    # 1 convert to csv, filter and clean, returns dataframe\n",
    "    # 2 will be called from a map/loop on the path list, and for each, adds a column and merges into the new dataframe"
   ]
  }
 ],
 "metadata": {
  "kernelspec": {
   "display_name": "Python 3",
   "language": "python",
   "name": "python3"
  },
  "language_info": {
   "codemirror_mode": {
    "name": "ipython",
    "version": 3
   },
   "file_extension": ".py",
   "mimetype": "text/x-python",
   "name": "python",
   "nbconvert_exporter": "python",
   "pygments_lexer": "ipython3",
   "version": "3.8.2"
  }
 },
 "nbformat": 4,
 "nbformat_minor": 4
}
