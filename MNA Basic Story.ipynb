{
 "cells": [
  {
   "cell_type": "code",
   "execution_count": 734,
   "metadata": {},
   "outputs": [],
   "source": [
    "import pandas as pd\n",
    "from datetime import date, timedelta\n",
    "import urllib\n",
    "import numpy as np\n",
    "import altair as alt"
   ]
  },
  {
   "cell_type": "code",
   "execution_count": 735,
   "metadata": {},
   "outputs": [],
   "source": [
    "# Global variables\n",
    "today = date.today()\n",
    "yesterday = date.today() - timedelta(days=1)"
   ]
  },
  {
   "cell_type": "code",
   "execution_count": 736,
   "metadata": {},
   "outputs": [],
   "source": [
    "# Functions\n",
    "def new_group(code, name, code_list, dataframe):\n",
    "    df = dataframe[dataframe.code.isin(code_list)].groupby(\"date\", as_index=False).sum()\n",
    "    df[\"code\"] = code\n",
    "    df[\"name\"] = name\n",
    "    return df\n",
    "\n",
    "def get_data(code,dataframe=our_utla):\n",
    "    return dataframe[(dataframe[\"code\"] == code) & ((dataframe[\"date\"] == pd.to_datetime(yesterday)) | (dataframe[\"date\"] == pd.to_datetime(today)))]"
   ]
  },
  {
   "cell_type": "code",
   "execution_count": 737,
   "metadata": {},
   "outputs": [],
   "source": [
    "# NHS\n",
    "nhs_header_row = 15\n",
    "nhs_trust_sheet_name = 'COVID19 total deaths by trust'\n",
    "nhs_csv_trusts = 'nhs_csv_trusts.csv'\n",
    "our_trust_codes = [\n",
    "    'RYW', # Birmingham Community Healthcare NHS Foundation Trust\n",
    "    'RNA', # The Dudley Group NHS Foundation Trust\n",
    "    'RL4', # The Royal Wolverhampton NHS Trust\n",
    "    'RXK', # Sandwell And West Birmingham Hospitals NHS Trust\n",
    "    'RXW', # Shrewsbury And Telford Hospital NHS Trust\n",
    "    'RRJ', # The Royal Orthopaedic Hospital NHS Foundation Trust\n",
    "    'RRK', # University Hospitals Birmingham NHS Foundation Trust\n",
    "    'RJE', # University Hospitals Of North Midlands NHS Trust\n",
    "    'RBK', # Walsall Healthcare NHS Trust\n",
    "    'RWP', # Worcestershire Acute Hospitals NHS Trust\n",
    "    'R1A', # Worcestershire Health And Care NHS Trust\n",
    "    'RL1', # The Robert Jones And Agnes Hunt Orthopaedic Hospital NHS Foundation Trust\n",
    "]\n",
    "nhs_file_format = \"https://www.england.nhs.uk/statistics/wp-content/uploads/sites/2/DIRECTORY/COVID-19-total-announced-deaths-DATE.xlsx\"\n",
    "nhs_file_date_format = \"%-d-%B-%Y\"\n",
    "nhs_file_directory_format = \"%Y/%m\"\n",
    "nhs_latest_file = False\n",
    "\n",
    "nhs_today_file = nhs_file_format.replace(\"DATE\",today.strftime(nhs_file_date_format))\n",
    "nhs_today_file = nhs_today_file.replace(\"DIRECTORY\",today.strftime(nhs_file_directory_format))\n",
    "\n",
    "nhs_yesterday_file = nhs_file_format.replace(\"DATE\",yesterday.strftime(nhs_file_date_format))\n",
    "nhs_yesterday_file = nhs_yesterday_file.replace(\"DIRECTORY\",yesterday.strftime(nhs_file_directory_format))\n",
    "\n",
    "## NHS file handling with fallback\n",
    "try:\n",
    "  urllib.request.urlopen(nhs_today_file)\n",
    "  nhs_latest_file = nhs_today_file\n",
    "except urllib.error.HTTPError as e:\n",
    "  try:\n",
    "    nhs_latest_file = urllib.request.urlopen(nhs_yesterday_file)\n",
    "    nhs_latest_file = nhs_yesterday_file\n",
    "  except urllib.error.HTTPError as e:\n",
    "    pass\n",
    "\n",
    "## Import a specific sheet from the NHS Excel file and convert to CSV\n",
    "nhs_excel = pd.read_excel(nhs_latest_file, header=nhs_header_row, sheet_name=nhs_trust_sheet_name)\n",
    "nhs_excel.to_csv(nhs_csv_trusts)\n",
    "nhs_trusts = pd.read_csv(nhs_csv_trusts)\n",
    "\n",
    "## Filtering down to our_trusts\n",
    "our_trusts = nhs_trusts[nhs_trusts.Code.isin(our_trust_codes)] # filter to our trusts\n",
    "our_trusts = our_trusts.filter(regex='(^Code$|^Name$|[0-9]{4}-.+|^Up to.01-Mar-20$)', axis=1) # filter to only the required columns\n",
    "our_trusts = our_trusts.rename(columns={\"Code\": \"code\", \"Name\" : \"name\"}) # clean up column names\n",
    "our_trusts = pd.melt(our_trusts, id_vars=[\"code\",\"name\"], var_name=\"date\", value_name=\"deaths\") # un-pivot the date columns\n",
    "our_trusts[\"date\"] = our_trusts[\"date\"].str.replace(\"Up to 01-Mar-20\",\"2020-02-29 00:00:00\")\n",
    "our_trusts[\"date\"] = pd.to_datetime(our_trusts.date) # clean all dates to YYYY-MM-DD\n",
    "\n",
    "## Adding cumulative deaths\n",
    "our_trusts[\"cumulative_deaths\"] = our_trusts.groupby(\"name\").cumsum()\n",
    "\n",
    "## Cleaning float\n",
    "our_trusts[\"deaths\"] = our_trusts[\"deaths\"].convert_dtypes(convert_integer=True)\n",
    "our_trusts[\"cumulative_deaths\"] = our_trusts[\"cumulative_deaths\"].convert_dtypes(convert_integer=True)\n",
    "\n",
    "## Additional Groups / SubTotals\n",
    "### Create Groups\n",
    "#### Total Region\n",
    "group_totalregion_trusts = new_group(\"ManualREG\",\"Total Region\",[\n",
    "    'RYW', # Birmingham Community Healthcare NHS Foundation Trust\n",
    "    'RNA', # The Dudley Group NHS Foundation Trust\n",
    "    'RL4', # The Royal Wolverhampton NHS Trust\n",
    "    'RXK', # Sandwell And West Birmingham Hospitals NHS Trust\n",
    "    'RXW', # Shrewsbury And Telford Hospital NHS Trust\n",
    "    'RRJ', # The Royal Orthopaedic Hospital NHS Foundation Trust\n",
    "    'RRK', # University Hospitals Birmingham NHS Foundation Trust\n",
    "    'RJE', # University Hospitals Of North Midlands NHS Trust\n",
    "    'RBK', # Walsall Healthcare NHS Trust\n",
    "    'RWP', # Worcestershire Acute Hospitals NHS Trust\n",
    "    'R1A', # Worcestershire Health And Care NHS Trust\n",
    "    'RL1', # The Robert Jones And Agnes Hunt Orthopaedic Hospital NHS Foundation Trust\n",
    "],our_trusts)\n",
    "#### Black Country and Birmingham\n",
    "group_blackcountryandbirmingham_trusts = new_group(\"ManualBAB\",\"Black Country and Birmingham\",[\n",
    "    'RYW', # Birmingham Community Healthcare NHS Foundation Trust\n",
    "    'RNA', # The Dudley Group NHS Foundation Trust\n",
    "    'RL4', # The Royal Wolverhampton NHS Trust\n",
    "    'RXK', # Sandwell And West Birmingham Hospitals NHS Trust\n",
    "    'RRJ', # The Royal Orthopaedic Hospital NHS Foundation Trust\n",
    "    'RRK', # University Hospitals Birmingham NHS Foundation Trust\n",
    "    'RBK', # Walsall Healthcare NHS Trust\n",
    "],our_trusts)\n",
    "#### Sandwell and Birmingham\n",
    "group_sandwellandbirmingham_trusts = new_group(\"ManualSAB\",\"Sandwell and Birmingham\",[\n",
    "    'RYW', # Birmingham Community Healthcare NHS Foundation Trust\n",
    "    'RXK', # Sandwell And West Birmingham Hospitals NHS Trust\n",
    "    'RRJ', # The Royal Orthopaedic Hospital NHS Foundation Trust\n",
    "    'RRK', # University Hospitals Birmingham NHS Foundation Trust\n",
    "],our_trusts)\n",
    "\n",
    "#### Worcestershire\n",
    "group_worcestershire_trusts = new_group(\"ManualWOR\",\"Worcestershire\",[\n",
    "    'RWP', # Worcestershire Acute Hospitals NHS Trust\n",
    "    'R1A', # Worcestershire Health And Care NHS Trust\n",
    "],our_trusts)\n",
    "\n",
    "### Add Groups\n",
    "our_trust_groups = pd.DataFrame(columns = [\"code\",\"name\",\"date\",\"deaths\",\"cumulative_deaths\"])\n",
    "our_trust_groups = our_trust_groups.append([\n",
    "    group_sandwellandbirmingham_trusts,\n",
    "    group_worcestershire_trusts,\n",
    "    group_blackcountryandbirmingham_trusts,\n",
    "    group_totalregion_trusts\n",
    "], ignore_index=True)"
   ]
  },
  {
   "cell_type": "code",
   "execution_count": 738,
   "metadata": {},
   "outputs": [],
   "source": [
    "# Public Health England (PHE)\n",
    "our_utla_codes = [\n",
    "    'E08000025', # Birmingham\n",
    "    'E08000027', # Dudley\n",
    "    'E08000028', # Sandwell\n",
    "    'E06000051', # Shropshire\n",
    "    'E10000028', # Staffordshire\n",
    "    'E06000021', # Stoke-on-Trent\n",
    "    'E06000020', # Telford and Wrekin\n",
    "    'E08000030', # Walsall\n",
    "    'E08000031', # Wolverhampton\n",
    "    'E10000034', # Worcestershire\n",
    "]\n",
    "pheh_url = 'https://fingertips.phe.org.uk/documents/Historic%20COVID-19%20Dashboard%20Data.xlsx'\n",
    "pheh_header_row = 7 # zero indexed\n",
    "pheh_utla_sheet = 'UTLAs'\n",
    "pheh_utla_csv_filename = 'pheh-utla.csv'\n",
    "\n",
    "## Import a specific sheet from the PHE Excel file and convert to CSV\n",
    "pheh_utla_excel = pd.read_excel(pheh_url, header=pheh_header_row, sheet_name=pheh_utla_sheet)\n",
    "pheh_utla_excel.to_csv(pheh_utla_csv_filename)\n",
    "pheh_utla = pd.read_csv(pheh_utla_csv_filename)\n",
    "\n",
    "## Filtering down to our UTLAs\n",
    "our_utla = pheh_utla.rename(columns={\"Area Code\": \"code\", \"Area Name\" : \"name\"}) # clean up column names\n",
    "our_utla = our_utla[our_utla.code.isin(our_utla_codes)] # filter to our trusts\n",
    "our_utla.drop('Unnamed: 0', axis='columns', inplace=True)\n",
    "our_utla = pd.melt(our_utla, id_vars=[\"code\",\"name\"], var_name=\"date\", value_name=\"cases\") # un-pivot the date columns\n",
    "our_utla[\"date\"] = pd.to_datetime(our_utla.date) # clean all dates to YYYY-MM-DD\n",
    "our_utla[\"diff\"] = our_utla.groupby(\"code\")[\"cases\"].diff().convert_dtypes(convert_integer=True) # add daily variance\n",
    "\n",
    "## Additional Groups / SubTotals\n",
    "### Create Groups\n",
    "#### Total Region\n",
    "group_totalregion_cases = new_group(\"ManualREG\",\"Total Region\",[\n",
    "\n",
    "    'E08000025', # Birmingham\n",
    "    'E08000027', # Dudley\n",
    "    'E08000028', # Sandwell\n",
    "    'E06000051', # Shropshire\n",
    "    'E10000028', # Staffordshire\n",
    "    'E06000021', # Stoke-on-Trent\n",
    "    'E06000020', # Telford and Wrekin\n",
    "    'E08000030', # Walsall\n",
    "    'E08000031', # Wolverhampton\n",
    "    'E10000034', # Worcestershire\n",
    "],our_utla)\n",
    "#### Black Country\n",
    "group_blackcountry_cases = new_group(\"ManualBLC\",\"Black Country\",[\n",
    "    'E08000027', # Dudley\n",
    "    'E08000028', # Sandwell\n",
    "    'E08000030', # Walsall\n",
    "    'E08000031', # Wolverhampton\n",
    "],our_utla)\n",
    "#### Black Country and Birmingham\n",
    "group_blackcountryandbirmingham_cases = new_group(\"ManualBAB\",\"Black Country and Birmingham\",[\n",
    "    'E08000025', # Birmingham\n",
    "    'E08000027', # Dudley\n",
    "    'E08000028', # Sandwell\n",
    "    'E08000030', # Walsall\n",
    "    'E08000031', # Wolverhampton\n",
    "],our_utla)\n",
    "#### Sandwell and Birmingham\n",
    "group_sandwellandbirmingham_cases = new_group(\"ManualSAB\",\"Sandwell and Birmingham\",[\n",
    "    'E08000025', # Birmingham\n",
    "    'E08000028', # Sandwell\n",
    "],our_utla)\n",
    "#### Staffordshire\n",
    "group_staffordshire_cases = new_group(\"ManualSTF\",\"Staffordshire\",[   \n",
    "    'E10000028', # Staffordshire\n",
    "    'E06000021', # Stoke-on-Trent\n",
    "],our_utla)\n",
    "\n",
    "### Add Groups\n",
    "our_utla_groups = pd.DataFrame(columns = [\"code\",\"name\",\"date\",\"cases\",\"diff\"])\n",
    "our_utla_groups = our_utla_groups.append([\n",
    "    group_blackcountry_cases,\n",
    "    group_sandwellandbirmingham_cases,\n",
    "    group_staffordshire_cases,\n",
    "    group_blackcountryandbirmingham_cases,\n",
    "    group_totalregion_cases,\n",
    "], ignore_index=True)"
   ]
  },
  {
   "cell_type": "code",
   "execution_count": 739,
   "metadata": {},
   "outputs": [],
   "source": [
    "## Data views\n",
    "### Interesting\n",
    "view_reductions = our_utla[our_utla[\"diff\"] < 0] # instances where the cumulative case count went down\n",
    "view_yesterday = our_utla[our_utla[\"date\"] == pd.to_datetime(yesterday)]\n",
    "view_today = our_utla[our_utla[\"date\"] == pd.to_datetime(today)]\n",
    "view_latest_deaths = our_trusts.pivot_table(our_trusts, index=[\"code\",\"name\"], aggfunc=np.sum)\n",
    "\n",
    "### Required\n",
    "#### Country\n",
    "view_uk_cases = \"\"\n",
    "view_uk_deaths = \"\"\n",
    "view_england_cases = \"\"\n",
    "view_england_deaths = \"\"\n",
    "view_scotland_cases = \"\"\n",
    "view_scotland_deaths = \"\"\n",
    "view_wales_cases = \"\"\n",
    "view_wales_deaths = \"\"\n",
    "view_northernireland_cases = \"\"\n",
    "view_northernireland_deaths = \"\"\n",
    "\n",
    "#### Total Region\n",
    "view_totalregion_cases = get_data(\"ManualREG\",our_utla_groups)\n",
    "view_totalregion_deaths = get_data(\"ManualREG\",our_trust_groups)\n",
    "\n",
    "#### Black Country and Birmingham\n",
    "view_blackcountry_cases = get_data(\"ManualBLC\",our_utla_groups)\n",
    "view_blackcountryandbirmingham_cases = get_data(\"ManualBAB\",our_utla_groups)\n",
    "view_blackcountryandbirmingham_deaths = get_data(\"ManualBAB\",our_trust_groups)\n",
    "\n",
    "#### Wolverhampton\n",
    "view_wolverhampton_cases = get_data(\"E08000031\")\n",
    "view_wolverhampton_deaths = get_data(\"RL4\",our_trusts)\n",
    "\n",
    "#### Walsall\n",
    "view_walsall_cases = get_data(\"E08000030\")\n",
    "view_walsall_deaths = get_data(\"RBK\",our_trusts)\n",
    "\n",
    "#### Dudley\n",
    "view_dudley_cases = get_data(\"E08000027\")\n",
    "view_dudley_deaths = get_data(\"RNA\",our_trusts)\n",
    "\n",
    "#### Sandwell and Birmingham\n",
    "view_sandwell_cases = get_data(\"E08000028\")\n",
    "view_birmingham_cases = get_data(\"E08000025\")\n",
    "view_total_sandwellandbirmingham_cases = get_data(\"ManualSAB\",our_utla_groups)\n",
    "view_total_sandwellandbirmingham_deaths = get_data(\"ManualSAB\",our_trust_groups)\n",
    "\n",
    "#### Staffordshire\n",
    "view_staffordshire_cases = get_data(\"E10000028\")\n",
    "view_stoke_cases = get_data(\"E06000021\")\n",
    "view_total_staffordshire_cases = get_data(\"ManualSTF\",our_utla_groups)\n",
    "\n",
    "#### Worcestershire\n",
    "view_worcestershire_cases = get_data(\"E10000034\")\n",
    "view_worcetershire_deaths = get_data(\"ManualWOR\",our_trust_groups)"
   ]
  },
  {
   "cell_type": "markdown",
   "metadata": {},
   "source": [
    "# UK"
   ]
  },
  {
   "cell_type": "code",
   "execution_count": 740,
   "metadata": {},
   "outputs": [
    {
     "data": {
      "text/plain": [
       "''"
      ]
     },
     "execution_count": 740,
     "metadata": {},
     "output_type": "execute_result"
    }
   ],
   "source": [
    "view_uk_cases"
   ]
  },
  {
   "cell_type": "code",
   "execution_count": 741,
   "metadata": {},
   "outputs": [
    {
     "data": {
      "text/plain": [
       "''"
      ]
     },
     "execution_count": 741,
     "metadata": {},
     "output_type": "execute_result"
    }
   ],
   "source": [
    "view_uk_deaths"
   ]
  },
  {
   "cell_type": "markdown",
   "metadata": {},
   "source": [
    "# England"
   ]
  },
  {
   "cell_type": "code",
   "execution_count": 742,
   "metadata": {},
   "outputs": [
    {
     "data": {
      "text/plain": [
       "''"
      ]
     },
     "execution_count": 742,
     "metadata": {},
     "output_type": "execute_result"
    }
   ],
   "source": [
    "view_england_cases"
   ]
  },
  {
   "cell_type": "code",
   "execution_count": 743,
   "metadata": {},
   "outputs": [
    {
     "data": {
      "text/plain": [
       "''"
      ]
     },
     "execution_count": 743,
     "metadata": {},
     "output_type": "execute_result"
    }
   ],
   "source": [
    "view_england_deaths"
   ]
  },
  {
   "cell_type": "markdown",
   "metadata": {},
   "source": [
    "# Scotland"
   ]
  },
  {
   "cell_type": "code",
   "execution_count": 744,
   "metadata": {},
   "outputs": [
    {
     "data": {
      "text/plain": [
       "''"
      ]
     },
     "execution_count": 744,
     "metadata": {},
     "output_type": "execute_result"
    }
   ],
   "source": [
    "view_scotland_cases"
   ]
  },
  {
   "cell_type": "code",
   "execution_count": 745,
   "metadata": {},
   "outputs": [
    {
     "data": {
      "text/plain": [
       "''"
      ]
     },
     "execution_count": 745,
     "metadata": {},
     "output_type": "execute_result"
    }
   ],
   "source": [
    "view_scotland_deaths"
   ]
  },
  {
   "cell_type": "markdown",
   "metadata": {},
   "source": [
    "# Wales"
   ]
  },
  {
   "cell_type": "code",
   "execution_count": 746,
   "metadata": {},
   "outputs": [
    {
     "data": {
      "text/plain": [
       "''"
      ]
     },
     "execution_count": 746,
     "metadata": {},
     "output_type": "execute_result"
    }
   ],
   "source": [
    "view_wales_cases"
   ]
  },
  {
   "cell_type": "code",
   "execution_count": 747,
   "metadata": {},
   "outputs": [
    {
     "data": {
      "text/plain": [
       "''"
      ]
     },
     "execution_count": 747,
     "metadata": {},
     "output_type": "execute_result"
    }
   ],
   "source": [
    "view_wales_deaths"
   ]
  },
  {
   "cell_type": "markdown",
   "metadata": {},
   "source": [
    "# Northern Ireland"
   ]
  },
  {
   "cell_type": "code",
   "execution_count": 748,
   "metadata": {},
   "outputs": [
    {
     "data": {
      "text/plain": [
       "''"
      ]
     },
     "execution_count": 748,
     "metadata": {},
     "output_type": "execute_result"
    }
   ],
   "source": [
    "view_northernireland_cases"
   ]
  },
  {
   "cell_type": "code",
   "execution_count": 749,
   "metadata": {},
   "outputs": [
    {
     "data": {
      "text/plain": [
       "''"
      ]
     },
     "execution_count": 749,
     "metadata": {},
     "output_type": "execute_result"
    }
   ],
   "source": [
    "view_northernireland_deaths"
   ]
  },
  {
   "cell_type": "markdown",
   "metadata": {},
   "source": [
    "# Total Region\n",
    "_Combining Black Country, Birmingham and Staffordshire._"
   ]
  },
  {
   "cell_type": "code",
   "execution_count": 750,
   "metadata": {},
   "outputs": [
    {
     "data": {
      "text/html": [
       "<div>\n",
       "<style scoped>\n",
       "    .dataframe tbody tr th:only-of-type {\n",
       "        vertical-align: middle;\n",
       "    }\n",
       "\n",
       "    .dataframe tbody tr th {\n",
       "        vertical-align: top;\n",
       "    }\n",
       "\n",
       "    .dataframe thead th {\n",
       "        text-align: right;\n",
       "    }\n",
       "</style>\n",
       "<table border=\"1\" class=\"dataframe\">\n",
       "  <thead>\n",
       "    <tr style=\"text-align: right;\">\n",
       "      <th></th>\n",
       "      <th>code</th>\n",
       "      <th>name</th>\n",
       "      <th>date</th>\n",
       "      <th>cases</th>\n",
       "      <th>diff</th>\n",
       "    </tr>\n",
       "  </thead>\n",
       "  <tbody>\n",
       "    <tr>\n",
       "      <th>154</th>\n",
       "      <td>ManualREG</td>\n",
       "      <td>Total Region</td>\n",
       "      <td>2020-04-08</td>\n",
       "      <td>4489</td>\n",
       "      <td>355</td>\n",
       "    </tr>\n",
       "  </tbody>\n",
       "</table>\n",
       "</div>"
      ],
      "text/plain": [
       "          code          name       date cases diff\n",
       "154  ManualREG  Total Region 2020-04-08  4489  355"
      ]
     },
     "execution_count": 750,
     "metadata": {},
     "output_type": "execute_result"
    }
   ],
   "source": [
    "view_totalregion_cases"
   ]
  },
  {
   "cell_type": "code",
   "execution_count": 751,
   "metadata": {},
   "outputs": [
    {
     "data": {
      "text/html": [
       "<div>\n",
       "<style scoped>\n",
       "    .dataframe tbody tr th:only-of-type {\n",
       "        vertical-align: middle;\n",
       "    }\n",
       "\n",
       "    .dataframe tbody tr th {\n",
       "        vertical-align: top;\n",
       "    }\n",
       "\n",
       "    .dataframe thead th {\n",
       "        text-align: right;\n",
       "    }\n",
       "</style>\n",
       "<table border=\"1\" class=\"dataframe\">\n",
       "  <thead>\n",
       "    <tr style=\"text-align: right;\">\n",
       "      <th></th>\n",
       "      <th>code</th>\n",
       "      <th>name</th>\n",
       "      <th>date</th>\n",
       "      <th>deaths</th>\n",
       "      <th>cumulative_deaths</th>\n",
       "    </tr>\n",
       "  </thead>\n",
       "  <tbody>\n",
       "    <tr>\n",
       "      <th>159</th>\n",
       "      <td>ManualREG</td>\n",
       "      <td>Total Region</td>\n",
       "      <td>2020-04-08</td>\n",
       "      <td>6</td>\n",
       "      <td>865</td>\n",
       "    </tr>\n",
       "  </tbody>\n",
       "</table>\n",
       "</div>"
      ],
      "text/plain": [
       "          code          name       date deaths cumulative_deaths\n",
       "159  ManualREG  Total Region 2020-04-08      6               865"
      ]
     },
     "execution_count": 751,
     "metadata": {},
     "output_type": "execute_result"
    }
   ],
   "source": [
    "view_totalregion_deaths"
   ]
  },
  {
   "cell_type": "markdown",
   "metadata": {},
   "source": [
    "# Total Black Country and Birmingham"
   ]
  },
  {
   "cell_type": "code",
   "execution_count": 752,
   "metadata": {},
   "outputs": [
    {
     "data": {
      "text/html": [
       "<div>\n",
       "<style scoped>\n",
       "    .dataframe tbody tr th:only-of-type {\n",
       "        vertical-align: middle;\n",
       "    }\n",
       "\n",
       "    .dataframe tbody tr th {\n",
       "        vertical-align: top;\n",
       "    }\n",
       "\n",
       "    .dataframe thead th {\n",
       "        text-align: right;\n",
       "    }\n",
       "</style>\n",
       "<table border=\"1\" class=\"dataframe\">\n",
       "  <thead>\n",
       "    <tr style=\"text-align: right;\">\n",
       "      <th></th>\n",
       "      <th>code</th>\n",
       "      <th>name</th>\n",
       "      <th>date</th>\n",
       "      <th>cases</th>\n",
       "      <th>diff</th>\n",
       "    </tr>\n",
       "  </thead>\n",
       "  <tbody>\n",
       "    <tr>\n",
       "      <th>30</th>\n",
       "      <td>ManualBLC</td>\n",
       "      <td>Black Country</td>\n",
       "      <td>2020-04-08</td>\n",
       "      <td>1515</td>\n",
       "      <td>122</td>\n",
       "    </tr>\n",
       "  </tbody>\n",
       "</table>\n",
       "</div>"
      ],
      "text/plain": [
       "         code           name       date cases diff\n",
       "30  ManualBLC  Black Country 2020-04-08  1515  122"
      ]
     },
     "execution_count": 752,
     "metadata": {},
     "output_type": "execute_result"
    }
   ],
   "source": [
    "view_blackcountry_cases"
   ]
  },
  {
   "cell_type": "code",
   "execution_count": 753,
   "metadata": {},
   "outputs": [
    {
     "data": {
      "text/html": [
       "<div>\n",
       "<style scoped>\n",
       "    .dataframe tbody tr th:only-of-type {\n",
       "        vertical-align: middle;\n",
       "    }\n",
       "\n",
       "    .dataframe tbody tr th {\n",
       "        vertical-align: top;\n",
       "    }\n",
       "\n",
       "    .dataframe thead th {\n",
       "        text-align: right;\n",
       "    }\n",
       "</style>\n",
       "<table border=\"1\" class=\"dataframe\">\n",
       "  <thead>\n",
       "    <tr style=\"text-align: right;\">\n",
       "      <th></th>\n",
       "      <th>code</th>\n",
       "      <th>name</th>\n",
       "      <th>date</th>\n",
       "      <th>cases</th>\n",
       "      <th>diff</th>\n",
       "    </tr>\n",
       "  </thead>\n",
       "  <tbody>\n",
       "    <tr>\n",
       "      <th>123</th>\n",
       "      <td>ManualBAB</td>\n",
       "      <td>Black Country and Birmingham</td>\n",
       "      <td>2020-04-08</td>\n",
       "      <td>2977</td>\n",
       "      <td>212</td>\n",
       "    </tr>\n",
       "  </tbody>\n",
       "</table>\n",
       "</div>"
      ],
      "text/plain": [
       "          code                          name       date cases diff\n",
       "123  ManualBAB  Black Country and Birmingham 2020-04-08  2977  212"
      ]
     },
     "execution_count": 753,
     "metadata": {},
     "output_type": "execute_result"
    }
   ],
   "source": [
    "view_blackcountryandbirmingham_cases"
   ]
  },
  {
   "cell_type": "code",
   "execution_count": 754,
   "metadata": {},
   "outputs": [
    {
     "data": {
      "text/html": [
       "<div>\n",
       "<style scoped>\n",
       "    .dataframe tbody tr th:only-of-type {\n",
       "        vertical-align: middle;\n",
       "    }\n",
       "\n",
       "    .dataframe tbody tr th {\n",
       "        vertical-align: top;\n",
       "    }\n",
       "\n",
       "    .dataframe thead th {\n",
       "        text-align: right;\n",
       "    }\n",
       "</style>\n",
       "<table border=\"1\" class=\"dataframe\">\n",
       "  <thead>\n",
       "    <tr style=\"text-align: right;\">\n",
       "      <th></th>\n",
       "      <th>code</th>\n",
       "      <th>name</th>\n",
       "      <th>date</th>\n",
       "      <th>deaths</th>\n",
       "      <th>cumulative_deaths</th>\n",
       "    </tr>\n",
       "  </thead>\n",
       "  <tbody>\n",
       "    <tr>\n",
       "      <th>119</th>\n",
       "      <td>ManualBAB</td>\n",
       "      <td>Black Country and Birmingham</td>\n",
       "      <td>2020-04-08</td>\n",
       "      <td>2</td>\n",
       "      <td>701</td>\n",
       "    </tr>\n",
       "  </tbody>\n",
       "</table>\n",
       "</div>"
      ],
      "text/plain": [
       "          code                          name       date deaths  \\\n",
       "119  ManualBAB  Black Country and Birmingham 2020-04-08      2   \n",
       "\n",
       "    cumulative_deaths  \n",
       "119               701  "
      ]
     },
     "execution_count": 754,
     "metadata": {},
     "output_type": "execute_result"
    }
   ],
   "source": [
    "view_blackcountryandbirmingham_deaths"
   ]
  },
  {
   "cell_type": "markdown",
   "metadata": {},
   "source": [
    "# Wolverhampton"
   ]
  },
  {
   "cell_type": "code",
   "execution_count": 755,
   "metadata": {},
   "outputs": [
    {
     "data": {
      "text/html": [
       "<div>\n",
       "<style scoped>\n",
       "    .dataframe tbody tr th:only-of-type {\n",
       "        vertical-align: middle;\n",
       "    }\n",
       "\n",
       "    .dataframe tbody tr th {\n",
       "        vertical-align: top;\n",
       "    }\n",
       "\n",
       "    .dataframe thead th {\n",
       "        text-align: right;\n",
       "    }\n",
       "</style>\n",
       "<table border=\"1\" class=\"dataframe\">\n",
       "  <thead>\n",
       "    <tr style=\"text-align: right;\">\n",
       "      <th></th>\n",
       "      <th>code</th>\n",
       "      <th>name</th>\n",
       "      <th>date</th>\n",
       "      <th>cases</th>\n",
       "      <th>diff</th>\n",
       "    </tr>\n",
       "  </thead>\n",
       "  <tbody>\n",
       "    <tr>\n",
       "      <th>307</th>\n",
       "      <td>E08000031</td>\n",
       "      <td>Wolverhampton</td>\n",
       "      <td>2020-04-08</td>\n",
       "      <td>354</td>\n",
       "      <td>19</td>\n",
       "    </tr>\n",
       "  </tbody>\n",
       "</table>\n",
       "</div>"
      ],
      "text/plain": [
       "          code           name       date  cases  diff\n",
       "307  E08000031  Wolverhampton 2020-04-08    354    19"
      ]
     },
     "execution_count": 755,
     "metadata": {},
     "output_type": "execute_result"
    }
   ],
   "source": [
    "view_wolverhampton_cases"
   ]
  },
  {
   "cell_type": "code",
   "execution_count": 756,
   "metadata": {},
   "outputs": [
    {
     "data": {
      "text/html": [
       "<div>\n",
       "<style scoped>\n",
       "    .dataframe tbody tr th:only-of-type {\n",
       "        vertical-align: middle;\n",
       "    }\n",
       "\n",
       "    .dataframe tbody tr th {\n",
       "        vertical-align: top;\n",
       "    }\n",
       "\n",
       "    .dataframe thead th {\n",
       "        text-align: right;\n",
       "    }\n",
       "</style>\n",
       "<table border=\"1\" class=\"dataframe\">\n",
       "  <thead>\n",
       "    <tr style=\"text-align: right;\">\n",
       "      <th></th>\n",
       "      <th>code</th>\n",
       "      <th>name</th>\n",
       "      <th>date</th>\n",
       "      <th>deaths</th>\n",
       "      <th>cumulative_deaths</th>\n",
       "    </tr>\n",
       "  </thead>\n",
       "  <tbody>\n",
       "    <tr>\n",
       "      <th>474</th>\n",
       "      <td>RL4</td>\n",
       "      <td>THE ROYAL WOLVERHAMPTON NHS TRUST</td>\n",
       "      <td>2020-04-08</td>\n",
       "      <td>2</td>\n",
       "      <td>126</td>\n",
       "    </tr>\n",
       "  </tbody>\n",
       "</table>\n",
       "</div>"
      ],
      "text/plain": [
       "    code                               name       date  deaths  \\\n",
       "474  RL4  THE ROYAL WOLVERHAMPTON NHS TRUST 2020-04-08       2   \n",
       "\n",
       "     cumulative_deaths  \n",
       "474                126  "
      ]
     },
     "execution_count": 756,
     "metadata": {},
     "output_type": "execute_result"
    }
   ],
   "source": [
    "view_wolverhampton_deaths"
   ]
  },
  {
   "cell_type": "markdown",
   "metadata": {},
   "source": [
    "# Walsall"
   ]
  },
  {
   "cell_type": "code",
   "execution_count": 757,
   "metadata": {},
   "outputs": [
    {
     "data": {
      "text/html": [
       "<div>\n",
       "<style scoped>\n",
       "    .dataframe tbody tr th:only-of-type {\n",
       "        vertical-align: middle;\n",
       "    }\n",
       "\n",
       "    .dataframe tbody tr th {\n",
       "        vertical-align: top;\n",
       "    }\n",
       "\n",
       "    .dataframe thead th {\n",
       "        text-align: right;\n",
       "    }\n",
       "</style>\n",
       "<table border=\"1\" class=\"dataframe\">\n",
       "  <thead>\n",
       "    <tr style=\"text-align: right;\">\n",
       "      <th></th>\n",
       "      <th>code</th>\n",
       "      <th>name</th>\n",
       "      <th>date</th>\n",
       "      <th>cases</th>\n",
       "      <th>diff</th>\n",
       "    </tr>\n",
       "  </thead>\n",
       "  <tbody>\n",
       "    <tr>\n",
       "      <th>306</th>\n",
       "      <td>E08000030</td>\n",
       "      <td>Walsall</td>\n",
       "      <td>2020-04-08</td>\n",
       "      <td>421</td>\n",
       "      <td>35</td>\n",
       "    </tr>\n",
       "  </tbody>\n",
       "</table>\n",
       "</div>"
      ],
      "text/plain": [
       "          code     name       date  cases  diff\n",
       "306  E08000030  Walsall 2020-04-08    421    35"
      ]
     },
     "execution_count": 757,
     "metadata": {},
     "output_type": "execute_result"
    }
   ],
   "source": [
    "view_walsall_cases"
   ]
  },
  {
   "cell_type": "code",
   "execution_count": 758,
   "metadata": {},
   "outputs": [
    {
     "data": {
      "text/html": [
       "<div>\n",
       "<style scoped>\n",
       "    .dataframe tbody tr th:only-of-type {\n",
       "        vertical-align: middle;\n",
       "    }\n",
       "\n",
       "    .dataframe tbody tr th {\n",
       "        vertical-align: top;\n",
       "    }\n",
       "\n",
       "    .dataframe thead th {\n",
       "        text-align: right;\n",
       "    }\n",
       "</style>\n",
       "<table border=\"1\" class=\"dataframe\">\n",
       "  <thead>\n",
       "    <tr style=\"text-align: right;\">\n",
       "      <th></th>\n",
       "      <th>code</th>\n",
       "      <th>name</th>\n",
       "      <th>date</th>\n",
       "      <th>deaths</th>\n",
       "      <th>cumulative_deaths</th>\n",
       "    </tr>\n",
       "  </thead>\n",
       "  <tbody>\n",
       "    <tr>\n",
       "      <th>477</th>\n",
       "      <td>RBK</td>\n",
       "      <td>WALSALL HEALTHCARE NHS TRUST</td>\n",
       "      <td>2020-04-08</td>\n",
       "      <td>0</td>\n",
       "      <td>37</td>\n",
       "    </tr>\n",
       "  </tbody>\n",
       "</table>\n",
       "</div>"
      ],
      "text/plain": [
       "    code                          name       date  deaths  cumulative_deaths\n",
       "477  RBK  WALSALL HEALTHCARE NHS TRUST 2020-04-08       0                 37"
      ]
     },
     "execution_count": 758,
     "metadata": {},
     "output_type": "execute_result"
    }
   ],
   "source": [
    "view_walsall_deaths"
   ]
  },
  {
   "cell_type": "markdown",
   "metadata": {},
   "source": [
    "# Dudley"
   ]
  },
  {
   "cell_type": "code",
   "execution_count": 759,
   "metadata": {},
   "outputs": [
    {
     "data": {
      "text/html": [
       "<div>\n",
       "<style scoped>\n",
       "    .dataframe tbody tr th:only-of-type {\n",
       "        vertical-align: middle;\n",
       "    }\n",
       "\n",
       "    .dataframe tbody tr th {\n",
       "        vertical-align: top;\n",
       "    }\n",
       "\n",
       "    .dataframe thead th {\n",
       "        text-align: right;\n",
       "    }\n",
       "</style>\n",
       "<table border=\"1\" class=\"dataframe\">\n",
       "  <thead>\n",
       "    <tr style=\"text-align: right;\">\n",
       "      <th></th>\n",
       "      <th>code</th>\n",
       "      <th>name</th>\n",
       "      <th>date</th>\n",
       "      <th>cases</th>\n",
       "      <th>diff</th>\n",
       "    </tr>\n",
       "  </thead>\n",
       "  <tbody>\n",
       "    <tr>\n",
       "      <th>304</th>\n",
       "      <td>E08000027</td>\n",
       "      <td>Dudley</td>\n",
       "      <td>2020-04-08</td>\n",
       "      <td>341</td>\n",
       "      <td>32</td>\n",
       "    </tr>\n",
       "  </tbody>\n",
       "</table>\n",
       "</div>"
      ],
      "text/plain": [
       "          code    name       date  cases  diff\n",
       "304  E08000027  Dudley 2020-04-08    341    32"
      ]
     },
     "execution_count": 759,
     "metadata": {},
     "output_type": "execute_result"
    }
   ],
   "source": [
    "view_dudley_cases"
   ]
  },
  {
   "cell_type": "code",
   "execution_count": 760,
   "metadata": {},
   "outputs": [
    {
     "data": {
      "text/html": [
       "<div>\n",
       "<style scoped>\n",
       "    .dataframe tbody tr th:only-of-type {\n",
       "        vertical-align: middle;\n",
       "    }\n",
       "\n",
       "    .dataframe tbody tr th {\n",
       "        vertical-align: top;\n",
       "    }\n",
       "\n",
       "    .dataframe thead th {\n",
       "        text-align: right;\n",
       "    }\n",
       "</style>\n",
       "<table border=\"1\" class=\"dataframe\">\n",
       "  <thead>\n",
       "    <tr style=\"text-align: right;\">\n",
       "      <th></th>\n",
       "      <th>code</th>\n",
       "      <th>name</th>\n",
       "      <th>date</th>\n",
       "      <th>deaths</th>\n",
       "      <th>cumulative_deaths</th>\n",
       "    </tr>\n",
       "  </thead>\n",
       "  <tbody>\n",
       "    <tr>\n",
       "      <th>471</th>\n",
       "      <td>RNA</td>\n",
       "      <td>THE DUDLEY GROUP NHS FOUNDATION TRUST</td>\n",
       "      <td>2020-04-08</td>\n",
       "      <td>0</td>\n",
       "      <td>110</td>\n",
       "    </tr>\n",
       "  </tbody>\n",
       "</table>\n",
       "</div>"
      ],
      "text/plain": [
       "    code                                   name       date  deaths  \\\n",
       "471  RNA  THE DUDLEY GROUP NHS FOUNDATION TRUST 2020-04-08       0   \n",
       "\n",
       "     cumulative_deaths  \n",
       "471                110  "
      ]
     },
     "execution_count": 760,
     "metadata": {},
     "output_type": "execute_result"
    }
   ],
   "source": [
    "view_dudley_deaths"
   ]
  },
  {
   "cell_type": "markdown",
   "metadata": {},
   "source": [
    "# Sandwell and Birmingham"
   ]
  },
  {
   "cell_type": "code",
   "execution_count": 761,
   "metadata": {},
   "outputs": [
    {
     "data": {
      "text/html": [
       "<div>\n",
       "<style scoped>\n",
       "    .dataframe tbody tr th:only-of-type {\n",
       "        vertical-align: middle;\n",
       "    }\n",
       "\n",
       "    .dataframe tbody tr th {\n",
       "        vertical-align: top;\n",
       "    }\n",
       "\n",
       "    .dataframe thead th {\n",
       "        text-align: right;\n",
       "    }\n",
       "</style>\n",
       "<table border=\"1\" class=\"dataframe\">\n",
       "  <thead>\n",
       "    <tr style=\"text-align: right;\">\n",
       "      <th></th>\n",
       "      <th>code</th>\n",
       "      <th>name</th>\n",
       "      <th>date</th>\n",
       "      <th>cases</th>\n",
       "      <th>diff</th>\n",
       "    </tr>\n",
       "  </thead>\n",
       "  <tbody>\n",
       "    <tr>\n",
       "      <th>305</th>\n",
       "      <td>E08000028</td>\n",
       "      <td>Sandwell</td>\n",
       "      <td>2020-04-08</td>\n",
       "      <td>399</td>\n",
       "      <td>36</td>\n",
       "    </tr>\n",
       "  </tbody>\n",
       "</table>\n",
       "</div>"
      ],
      "text/plain": [
       "          code      name       date  cases  diff\n",
       "305  E08000028  Sandwell 2020-04-08    399    36"
      ]
     },
     "execution_count": 761,
     "metadata": {},
     "output_type": "execute_result"
    }
   ],
   "source": [
    "view_sandwell_cases"
   ]
  },
  {
   "cell_type": "code",
   "execution_count": 762,
   "metadata": {},
   "outputs": [
    {
     "data": {
      "text/html": [
       "<div>\n",
       "<style scoped>\n",
       "    .dataframe tbody tr th:only-of-type {\n",
       "        vertical-align: middle;\n",
       "    }\n",
       "\n",
       "    .dataframe tbody tr th {\n",
       "        vertical-align: top;\n",
       "    }\n",
       "\n",
       "    .dataframe thead th {\n",
       "        text-align: right;\n",
       "    }\n",
       "</style>\n",
       "<table border=\"1\" class=\"dataframe\">\n",
       "  <thead>\n",
       "    <tr style=\"text-align: right;\">\n",
       "      <th></th>\n",
       "      <th>code</th>\n",
       "      <th>name</th>\n",
       "      <th>date</th>\n",
       "      <th>cases</th>\n",
       "      <th>diff</th>\n",
       "    </tr>\n",
       "  </thead>\n",
       "  <tbody>\n",
       "    <tr>\n",
       "      <th>303</th>\n",
       "      <td>E08000025</td>\n",
       "      <td>Birmingham</td>\n",
       "      <td>2020-04-08</td>\n",
       "      <td>1462</td>\n",
       "      <td>90</td>\n",
       "    </tr>\n",
       "  </tbody>\n",
       "</table>\n",
       "</div>"
      ],
      "text/plain": [
       "          code        name       date  cases  diff\n",
       "303  E08000025  Birmingham 2020-04-08   1462    90"
      ]
     },
     "execution_count": 762,
     "metadata": {},
     "output_type": "execute_result"
    }
   ],
   "source": [
    "view_birmingham_cases"
   ]
  },
  {
   "cell_type": "code",
   "execution_count": 763,
   "metadata": {},
   "outputs": [
    {
     "data": {
      "text/html": [
       "<div>\n",
       "<style scoped>\n",
       "    .dataframe tbody tr th:only-of-type {\n",
       "        vertical-align: middle;\n",
       "    }\n",
       "\n",
       "    .dataframe tbody tr th {\n",
       "        vertical-align: top;\n",
       "    }\n",
       "\n",
       "    .dataframe thead th {\n",
       "        text-align: right;\n",
       "    }\n",
       "</style>\n",
       "<table border=\"1\" class=\"dataframe\">\n",
       "  <thead>\n",
       "    <tr style=\"text-align: right;\">\n",
       "      <th></th>\n",
       "      <th>code</th>\n",
       "      <th>name</th>\n",
       "      <th>date</th>\n",
       "      <th>cases</th>\n",
       "      <th>diff</th>\n",
       "    </tr>\n",
       "  </thead>\n",
       "  <tbody>\n",
       "    <tr>\n",
       "      <th>61</th>\n",
       "      <td>ManualSAB</td>\n",
       "      <td>Sandwell and Birmingham</td>\n",
       "      <td>2020-04-08</td>\n",
       "      <td>1861</td>\n",
       "      <td>126</td>\n",
       "    </tr>\n",
       "  </tbody>\n",
       "</table>\n",
       "</div>"
      ],
      "text/plain": [
       "         code                     name       date cases diff\n",
       "61  ManualSAB  Sandwell and Birmingham 2020-04-08  1861  126"
      ]
     },
     "execution_count": 763,
     "metadata": {},
     "output_type": "execute_result"
    }
   ],
   "source": [
    "view_total_sandwellandbirmingham_cases"
   ]
  },
  {
   "cell_type": "code",
   "execution_count": 764,
   "metadata": {},
   "outputs": [
    {
     "data": {
      "text/html": [
       "<div>\n",
       "<style scoped>\n",
       "    .dataframe tbody tr th:only-of-type {\n",
       "        vertical-align: middle;\n",
       "    }\n",
       "\n",
       "    .dataframe tbody tr th {\n",
       "        vertical-align: top;\n",
       "    }\n",
       "\n",
       "    .dataframe thead th {\n",
       "        text-align: right;\n",
       "    }\n",
       "</style>\n",
       "<table border=\"1\" class=\"dataframe\">\n",
       "  <thead>\n",
       "    <tr style=\"text-align: right;\">\n",
       "      <th></th>\n",
       "      <th>code</th>\n",
       "      <th>name</th>\n",
       "      <th>date</th>\n",
       "      <th>deaths</th>\n",
       "      <th>cumulative_deaths</th>\n",
       "    </tr>\n",
       "  </thead>\n",
       "  <tbody>\n",
       "    <tr>\n",
       "      <th>39</th>\n",
       "      <td>ManualSAB</td>\n",
       "      <td>Sandwell and Birmingham</td>\n",
       "      <td>2020-04-08</td>\n",
       "      <td>0</td>\n",
       "      <td>428</td>\n",
       "    </tr>\n",
       "  </tbody>\n",
       "</table>\n",
       "</div>"
      ],
      "text/plain": [
       "         code                     name       date deaths cumulative_deaths\n",
       "39  ManualSAB  Sandwell and Birmingham 2020-04-08      0               428"
      ]
     },
     "execution_count": 764,
     "metadata": {},
     "output_type": "execute_result"
    }
   ],
   "source": [
    "view_total_sandwellandbirmingham_deaths"
   ]
  },
  {
   "cell_type": "markdown",
   "metadata": {},
   "source": [
    "# Staffordshire"
   ]
  },
  {
   "cell_type": "code",
   "execution_count": 765,
   "metadata": {},
   "outputs": [
    {
     "data": {
      "text/html": [
       "<div>\n",
       "<style scoped>\n",
       "    .dataframe tbody tr th:only-of-type {\n",
       "        vertical-align: middle;\n",
       "    }\n",
       "\n",
       "    .dataframe tbody tr th {\n",
       "        vertical-align: top;\n",
       "    }\n",
       "\n",
       "    .dataframe thead th {\n",
       "        text-align: right;\n",
       "    }\n",
       "</style>\n",
       "<table border=\"1\" class=\"dataframe\">\n",
       "  <thead>\n",
       "    <tr style=\"text-align: right;\">\n",
       "      <th></th>\n",
       "      <th>code</th>\n",
       "      <th>name</th>\n",
       "      <th>date</th>\n",
       "      <th>cases</th>\n",
       "      <th>diff</th>\n",
       "    </tr>\n",
       "  </thead>\n",
       "  <tbody>\n",
       "    <tr>\n",
       "      <th>308</th>\n",
       "      <td>E10000028</td>\n",
       "      <td>Staffordshire</td>\n",
       "      <td>2020-04-08</td>\n",
       "      <td>673</td>\n",
       "      <td>76</td>\n",
       "    </tr>\n",
       "  </tbody>\n",
       "</table>\n",
       "</div>"
      ],
      "text/plain": [
       "          code           name       date  cases  diff\n",
       "308  E10000028  Staffordshire 2020-04-08    673    76"
      ]
     },
     "execution_count": 765,
     "metadata": {},
     "output_type": "execute_result"
    }
   ],
   "source": [
    "view_staffordshire_cases"
   ]
  },
  {
   "cell_type": "code",
   "execution_count": 766,
   "metadata": {},
   "outputs": [
    {
     "data": {
      "text/html": [
       "<div>\n",
       "<style scoped>\n",
       "    .dataframe tbody tr th:only-of-type {\n",
       "        vertical-align: middle;\n",
       "    }\n",
       "\n",
       "    .dataframe tbody tr th {\n",
       "        vertical-align: top;\n",
       "    }\n",
       "\n",
       "    .dataframe thead th {\n",
       "        text-align: right;\n",
       "    }\n",
       "</style>\n",
       "<table border=\"1\" class=\"dataframe\">\n",
       "  <thead>\n",
       "    <tr style=\"text-align: right;\">\n",
       "      <th></th>\n",
       "      <th>code</th>\n",
       "      <th>name</th>\n",
       "      <th>date</th>\n",
       "      <th>cases</th>\n",
       "      <th>diff</th>\n",
       "    </tr>\n",
       "  </thead>\n",
       "  <tbody>\n",
       "    <tr>\n",
       "      <th>301</th>\n",
       "      <td>E06000021</td>\n",
       "      <td>Stoke-on-Trent</td>\n",
       "      <td>2020-04-08</td>\n",
       "      <td>130</td>\n",
       "      <td>13</td>\n",
       "    </tr>\n",
       "  </tbody>\n",
       "</table>\n",
       "</div>"
      ],
      "text/plain": [
       "          code            name       date  cases  diff\n",
       "301  E06000021  Stoke-on-Trent 2020-04-08    130    13"
      ]
     },
     "execution_count": 766,
     "metadata": {},
     "output_type": "execute_result"
    }
   ],
   "source": [
    "view_stoke_cases"
   ]
  },
  {
   "cell_type": "code",
   "execution_count": 767,
   "metadata": {},
   "outputs": [
    {
     "data": {
      "text/html": [
       "<div>\n",
       "<style scoped>\n",
       "    .dataframe tbody tr th:only-of-type {\n",
       "        vertical-align: middle;\n",
       "    }\n",
       "\n",
       "    .dataframe tbody tr th {\n",
       "        vertical-align: top;\n",
       "    }\n",
       "\n",
       "    .dataframe thead th {\n",
       "        text-align: right;\n",
       "    }\n",
       "</style>\n",
       "<table border=\"1\" class=\"dataframe\">\n",
       "  <thead>\n",
       "    <tr style=\"text-align: right;\">\n",
       "      <th></th>\n",
       "      <th>code</th>\n",
       "      <th>name</th>\n",
       "      <th>date</th>\n",
       "      <th>cases</th>\n",
       "      <th>diff</th>\n",
       "    </tr>\n",
       "  </thead>\n",
       "  <tbody>\n",
       "    <tr>\n",
       "      <th>92</th>\n",
       "      <td>ManualSTF</td>\n",
       "      <td>Staffordshire</td>\n",
       "      <td>2020-04-08</td>\n",
       "      <td>803</td>\n",
       "      <td>89</td>\n",
       "    </tr>\n",
       "  </tbody>\n",
       "</table>\n",
       "</div>"
      ],
      "text/plain": [
       "         code           name       date cases diff\n",
       "92  ManualSTF  Staffordshire 2020-04-08   803   89"
      ]
     },
     "execution_count": 767,
     "metadata": {},
     "output_type": "execute_result"
    }
   ],
   "source": [
    "view_total_staffordshire_cases"
   ]
  },
  {
   "cell_type": "markdown",
   "metadata": {},
   "source": [
    "# Worcestershire"
   ]
  },
  {
   "cell_type": "code",
   "execution_count": 768,
   "metadata": {},
   "outputs": [
    {
     "data": {
      "text/html": [
       "<div>\n",
       "<style scoped>\n",
       "    .dataframe tbody tr th:only-of-type {\n",
       "        vertical-align: middle;\n",
       "    }\n",
       "\n",
       "    .dataframe tbody tr th {\n",
       "        vertical-align: top;\n",
       "    }\n",
       "\n",
       "    .dataframe thead th {\n",
       "        text-align: right;\n",
       "    }\n",
       "</style>\n",
       "<table border=\"1\" class=\"dataframe\">\n",
       "  <thead>\n",
       "    <tr style=\"text-align: right;\">\n",
       "      <th></th>\n",
       "      <th>code</th>\n",
       "      <th>name</th>\n",
       "      <th>date</th>\n",
       "      <th>cases</th>\n",
       "      <th>diff</th>\n",
       "    </tr>\n",
       "  </thead>\n",
       "  <tbody>\n",
       "    <tr>\n",
       "      <th>309</th>\n",
       "      <td>E10000034</td>\n",
       "      <td>Worcestershire</td>\n",
       "      <td>2020-04-08</td>\n",
       "      <td>439</td>\n",
       "      <td>20</td>\n",
       "    </tr>\n",
       "  </tbody>\n",
       "</table>\n",
       "</div>"
      ],
      "text/plain": [
       "          code            name       date  cases  diff\n",
       "309  E10000034  Worcestershire 2020-04-08    439    20"
      ]
     },
     "execution_count": 768,
     "metadata": {},
     "output_type": "execute_result"
    }
   ],
   "source": [
    "view_worcestershire_cases"
   ]
  },
  {
   "cell_type": "code",
   "execution_count": 769,
   "metadata": {},
   "outputs": [
    {
     "data": {
      "text/html": [
       "<div>\n",
       "<style scoped>\n",
       "    .dataframe tbody tr th:only-of-type {\n",
       "        vertical-align: middle;\n",
       "    }\n",
       "\n",
       "    .dataframe tbody tr th {\n",
       "        vertical-align: top;\n",
       "    }\n",
       "\n",
       "    .dataframe thead th {\n",
       "        text-align: right;\n",
       "    }\n",
       "</style>\n",
       "<table border=\"1\" class=\"dataframe\">\n",
       "  <thead>\n",
       "    <tr style=\"text-align: right;\">\n",
       "      <th></th>\n",
       "      <th>code</th>\n",
       "      <th>name</th>\n",
       "      <th>date</th>\n",
       "      <th>deaths</th>\n",
       "      <th>cumulative_deaths</th>\n",
       "    </tr>\n",
       "  </thead>\n",
       "  <tbody>\n",
       "    <tr>\n",
       "      <th>79</th>\n",
       "      <td>ManualWOR</td>\n",
       "      <td>Worcestershire</td>\n",
       "      <td>2020-04-08</td>\n",
       "      <td>1</td>\n",
       "      <td>56</td>\n",
       "    </tr>\n",
       "  </tbody>\n",
       "</table>\n",
       "</div>"
      ],
      "text/plain": [
       "         code            name       date deaths cumulative_deaths\n",
       "79  ManualWOR  Worcestershire 2020-04-08      1                56"
      ]
     },
     "execution_count": 769,
     "metadata": {},
     "output_type": "execute_result"
    }
   ],
   "source": [
    "view_worcetershire_deaths"
   ]
  }
 ],
 "metadata": {
  "kernelspec": {
   "display_name": "Python 3",
   "language": "python",
   "name": "python3"
  },
  "language_info": {
   "codemirror_mode": {
    "name": "ipython",
    "version": 3
   },
   "file_extension": ".py",
   "mimetype": "text/x-python",
   "name": "python",
   "nbconvert_exporter": "python",
   "pygments_lexer": "ipython3",
   "version": "3.8.2"
  }
 },
 "nbformat": 4,
 "nbformat_minor": 4
}
