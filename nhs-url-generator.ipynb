{
 "cells": [
  {
   "cell_type": "code",
   "execution_count": 6,
   "metadata": {},
   "outputs": [],
   "source": [
    "import pandas as pd\n",
    "from datetime import date, timedelta\n",
    "import urllib\n",
    "import numpy as np\n",
    "import altair as alt\n",
    "from functools import reduce"
   ]
  },
  {
   "cell_type": "code",
   "execution_count": 7,
   "metadata": {},
   "outputs": [],
   "source": [
    "## Global variables\n",
    "today = date.today()\n",
    "yesterday = date.today() - timedelta(days=1)\n",
    "import_directory = 'Imports/'\n",
    "\n",
    "## NHS File Format\n",
    "nhs_file_format = 'https://www.england.nhs.uk/statistics/wp-content/uploads/sites/2/DIRECTORY/COVID-19-total-announced-deaths-DATE.xlsx'\n",
    "nhs_file_date_format = '%-d-%B-%Y'\n",
    "nhs_file_directory_format = '%Y/%m'"
   ]
  },
  {
   "cell_type": "code",
   "execution_count": 3,
   "metadata": {},
   "outputs": [],
   "source": [
    "nhs_max_suffix = 5"
   ]
  },
  {
   "cell_type": "code",
   "execution_count": 4,
   "metadata": {},
   "outputs": [
    {
     "data": {
      "text/plain": [
       "range(0, 5)"
      ]
     },
     "execution_count": 4,
     "metadata": {},
     "output_type": "execute_result"
    }
   ],
   "source": [
    "range(nhs_max_suffix)"
   ]
  },
  {
   "cell_type": "code",
   "execution_count": 5,
   "metadata": {},
   "outputs": [],
   "source": [
    "def map_suffix(n):\n",
    "    if n == 0:\n",
    "        return '.xlsx'\n",
    "    else:\n",
    "        return f'-{n}.xlsx'"
   ]
  },
  {
   "cell_type": "code",
   "execution_count": 6,
   "metadata": {},
   "outputs": [
    {
     "data": {
      "text/plain": [
       "['-5.xlsx', '-4.xlsx', '-3.xlsx', '-2.xlsx', '-1.xlsx', '.xlsx']"
      ]
     },
     "execution_count": 6,
     "metadata": {},
     "output_type": "execute_result"
    }
   ],
   "source": [
    "list(\n",
    "    map(\n",
    "        map_suffix,\n",
    "        reversed(range(nhs_max_suffix+1))\n",
    "    )\n",
    ")"
   ]
  },
  {
   "cell_type": "code",
   "execution_count": 7,
   "metadata": {},
   "outputs": [],
   "source": [
    "dates_to_try = [\n",
    "    date.today(),\n",
    "    date.today() - timedelta(days=1),\n",
    "]"
   ]
  },
  {
   "cell_type": "code",
   "execution_count": 8,
   "metadata": {},
   "outputs": [
    {
     "data": {
      "text/plain": [
       "['22-April-2020', '21-April-2020']"
      ]
     },
     "execution_count": 8,
     "metadata": {},
     "output_type": "execute_result"
    }
   ],
   "source": [
    "list(\n",
    "    map(\n",
    "        lambda date: date.strftime(nhs_file_date_format),\n",
    "        dates_to_try\n",
    "    )\n",
    ")"
   ]
  },
  {
   "cell_type": "code",
   "execution_count": 9,
   "metadata": {},
   "outputs": [],
   "source": [
    "nhs_filenames = [\n",
    "    'COVID-19-total-announced-deaths-',\n",
    "    'COVID-19-all-announced-deaths-',\n",
    "]"
   ]
  },
  {
   "cell_type": "code",
   "execution_count": 10,
   "metadata": {},
   "outputs": [
    {
     "data": {
      "text/plain": [
       "['2020/04', '2020/04']"
      ]
     },
     "execution_count": 10,
     "metadata": {},
     "output_type": "execute_result"
    }
   ],
   "source": [
    "list(\n",
    "    map(\n",
    "        lambda date: date.strftime(nhs_file_directory_format),\n",
    "        dates_to_try\n",
    "    )\n",
    ")"
   ]
  },
  {
   "cell_type": "code",
   "execution_count": 24,
   "metadata": {},
   "outputs": [
    {
     "data": {
      "text/plain": [
       "[datetime.date(2020, 4, 4),\n",
       " datetime.date(2020, 4, 5),\n",
       " datetime.date(2020, 4, 6),\n",
       " datetime.date(2020, 4, 7),\n",
       " datetime.date(2020, 4, 8),\n",
       " datetime.date(2020, 4, 9),\n",
       " datetime.date(2020, 4, 10),\n",
       " datetime.date(2020, 4, 11),\n",
       " datetime.date(2020, 4, 12),\n",
       " datetime.date(2020, 4, 13),\n",
       " datetime.date(2020, 4, 14),\n",
       " datetime.date(2020, 4, 15),\n",
       " datetime.date(2020, 4, 16),\n",
       " datetime.date(2020, 4, 17),\n",
       " datetime.date(2020, 4, 18),\n",
       " datetime.date(2020, 4, 19),\n",
       " datetime.date(2020, 4, 20),\n",
       " datetime.date(2020, 4, 21),\n",
       " datetime.date(2020, 4, 22)]"
      ]
     },
     "execution_count": 24,
     "metadata": {},
     "output_type": "execute_result"
    }
   ],
   "source": [
    "start_date = date(2020, 4, 4) # as of today (2020-04-15) this is the first day/file to exist\n",
    "end_date = date.today()\n",
    "list(\n",
    "    map( # list of days\n",
    "        lambda interval : start_date + timedelta(days=interval),\n",
    "        range((end_date - start_date).days+1)\n",
    "    )\n",
    ")"
   ]
  },
  {
   "cell_type": "code",
   "execution_count": 34,
   "metadata": {},
   "outputs": [
    {
     "name": "stdout",
     "output_type": "stream",
     "text": [
      "https://www.england.nhs.uk/statistics/wp-content/uploads/sites/2/2020/04/COVID-19-total-announced-deaths-22-April-2020.xlsx\n",
      "https://www.england.nhs.uk/statistics/wp-content/uploads/sites/2/2020/04/COVID-19-total-announced-deaths-21-April-2020-1.xlsx\n",
      "https://www.england.nhs.uk/statistics/wp-content/uploads/sites/2/2020/04/COVID-19-total-announced-deaths-21-April-2020.xlsx\n",
      "https://www.england.nhs.uk/statistics/wp-content/uploads/sites/2/2020/04/COVID-19-total-announced-deaths-14-April-2020.xlsx\n",
      "https://www.england.nhs.uk/statistics/wp-content/uploads/sites/2/2020/04/COVID-19-total-announced-deaths-13-April-2020.xlsx\n",
      "https://www.england.nhs.uk/statistics/wp-content/uploads/sites/2/2020/04/COVID-19-total-announced-deaths-12-April-2020.xlsx\n",
      "https://www.england.nhs.uk/statistics/wp-content/uploads/sites/2/2020/04/COVID-19-total-announced-deaths-11-April-2020.xlsx\n",
      "https://www.england.nhs.uk/statistics/wp-content/uploads/sites/2/2020/04/COVID-19-total-announced-deaths-10-April-2020.xlsx\n",
      "https://www.england.nhs.uk/statistics/wp-content/uploads/sites/2/2020/04/COVID-19-total-announced-deaths-9-April-2020.xlsx\n",
      "https://www.england.nhs.uk/statistics/wp-content/uploads/sites/2/2020/04/COVID-19-total-announced-deaths-8-April-2020.xlsx\n",
      "https://www.england.nhs.uk/statistics/wp-content/uploads/sites/2/2020/04/COVID-19-total-announced-deaths-7-April-2020.xlsx\n",
      "https://www.england.nhs.uk/statistics/wp-content/uploads/sites/2/2020/04/COVID-19-total-announced-deaths-6-April-2020.xlsx\n",
      "https://www.england.nhs.uk/statistics/wp-content/uploads/sites/2/2020/04/COVID-19-total-announced-deaths-5-April-2020.xlsx\n",
      "https://www.england.nhs.uk/statistics/wp-content/uploads/sites/2/2020/04/COVID-19-total-announced-deaths-4-April-2020.xlsx\n"
     ]
    }
   ],
   "source": [
    "def map_suffix(n):\n",
    "    if n == 0:\n",
    "        return '.xlsx'\n",
    "    else:\n",
    "        return f'-{n}.xlsx'\n",
    "\n",
    "nhs_max_suffix = 2\n",
    "suffixes = list(map(map_suffix,reversed(range(nhs_max_suffix+1))))\n",
    "start_date = date(2020, 4, 4) # as of today (2020-04-15) this is the first day/file to exist\n",
    "end_date = date.today()\n",
    "dates = reversed(list(map(lambda interval : start_date + timedelta(days=interval),range((end_date - start_date).days+1)))\n",
    ")\n",
    "filenames = ['COVID-19-total-announced-deaths-','COVID-19-all-announced-deaths-',]\n",
    "nhs_file_date_format = '%-d-%B-%Y'\n",
    "nhs_file_directory_format = '%Y/%m/'\n",
    "nhs_file_start = 'https://www.england.nhs.uk/statistics/wp-content/uploads/sites/2/'\n",
    "\n",
    "def url_builder(start,date,filename,suffix):\n",
    "    url = start\n",
    "    url += date.strftime(nhs_file_directory_format)\n",
    "    url += filename\n",
    "    url += date.strftime(nhs_file_date_format)\n",
    "    url += suffix\n",
    "    \n",
    "    return url\n",
    "\n",
    "urls = []\n",
    "\n",
    "for day in dates:\n",
    "    for suffix in suffixes:\n",
    "        for name in filenames:\n",
    "            url = url_builder(nhs_file_start,day,name,suffix)\n",
    "            try:\n",
    "                urllib.request.urlopen(url)\n",
    "                print(url)\n",
    "            except:\n",
    "                pass"
   ]
  },
  {
   "cell_type": "markdown",
   "metadata": {},
   "source": [
    "_Disappointingly, on top of the naming convention volatility it seems older files are being deleted. I knew the path for April 15 and it isn't available on that URL anymore. Perhaps it renamed within the day but I doubt it._"
   ]
  },
  {
   "cell_type": "code",
   "execution_count": 36,
   "metadata": {},
   "outputs": [],
   "source": [
    "def get_real_url(date):\n",
    "    real_url = False\n",
    "    # builder variables\n",
    "    ## how many suffixes to try ( highest so far is 1 — 20200422 )\n",
    "    nhs_max_suffix = 2\n",
    "    \n",
    "    ## make a list of suffixes\n",
    "    suffixes = list(\n",
    "        map(\n",
    "            lambda n: '.xlsx' if n==0 else f'-{n}.xlsx',\n",
    "            reversed(range(nhs_max_suffix+1))\n",
    "        )\n",
    "    )\n",
    "    \n",
    "    ## filenames so far\n",
    "    filenames = ['COVID-19-total-announced-deaths-','COVID-19-all-announced-deaths-',]\n",
    "    \n",
    "    ## date format, only one so far (!)\n",
    "    date_format = '%-d-%B-%Y'\n",
    "    \n",
    "    ## directory date format\n",
    "    directory_format = '%Y/%m/'\n",
    "    \n",
    "    ## domain and initial path\n",
    "    file_start = 'https://www.england.nhs.uk/statistics/wp-content/uploads/sites/2/'\n",
    "    \n",
    "    # testing\n",
    "    for suffix in suffixes:\n",
    "        if (real_url==False):\n",
    "            for name in filenames:\n",
    "                if (real_url==False):\n",
    "                    url = file_start + date.strftime(directory_format) + name + date.strftime(nhs_file_date_format) + suffix\n",
    "                    try:\n",
    "                        urllib.request.urlopen(url)\n",
    "                        real_url = url\n",
    "                        break\n",
    "                    except:\n",
    "                        pass\n",
    "    \n",
    "    return real_url"
   ]
  },
  {
   "cell_type": "code",
   "execution_count": 37,
   "metadata": {},
   "outputs": [
    {
     "data": {
      "text/plain": [
       "'https://www.england.nhs.uk/statistics/wp-content/uploads/sites/2/2020/04/COVID-19-total-announced-deaths-21-April-2020-1.xlsx'"
      ]
     },
     "execution_count": 37,
     "metadata": {},
     "output_type": "execute_result"
    }
   ],
   "source": [
    "get_real_url(\n",
    "    date(2020, 4, 21)\n",
    ")"
   ]
  },
  {
   "cell_type": "code",
   "execution_count": null,
   "metadata": {},
   "outputs": [],
   "source": []
  }
 ],
 "metadata": {
  "kernelspec": {
   "display_name": "Python 3",
   "language": "python",
   "name": "python3"
  },
  "language_info": {
   "codemirror_mode": {
    "name": "ipython",
    "version": 3
   },
   "file_extension": ".py",
   "mimetype": "text/x-python",
   "name": "python",
   "nbconvert_exporter": "python",
   "pygments_lexer": "ipython3",
   "version": "3.8.2"
  }
 },
 "nbformat": 4,
 "nbformat_minor": 4
}
