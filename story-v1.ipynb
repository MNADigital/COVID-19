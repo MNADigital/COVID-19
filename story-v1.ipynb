{
 "cells": [
  {
   "cell_type": "code",
   "execution_count": 1,
   "metadata": {},
   "outputs": [],
   "source": [
    "%run cases.ipynb"
   ]
  },
  {
   "cell_type": "code",
   "execution_count": 2,
   "metadata": {},
   "outputs": [],
   "source": [
    "%run deaths.ipynb"
   ]
  },
  {
   "cell_type": "markdown",
   "metadata": {},
   "source": [
    "# UK"
   ]
  },
  {
   "cell_type": "markdown",
   "metadata": {},
   "source": [
    "# England"
   ]
  },
  {
   "cell_type": "markdown",
   "metadata": {},
   "source": [
    "# Scotland"
   ]
  },
  {
   "cell_type": "markdown",
   "metadata": {},
   "source": [
    "# Wales"
   ]
  },
  {
   "cell_type": "markdown",
   "metadata": {},
   "source": [
    "# Northern Ireland"
   ]
  },
  {
   "cell_type": "markdown",
   "metadata": {},
   "source": [
    "# Total E&S Region\n",
    "_Combining Black Country, Birmingham and Staffordshire._"
   ]
  },
  {
   "cell_type": "code",
   "execution_count": 3,
   "metadata": {},
   "outputs": [
    {
     "data": {
      "text/html": [
       "<div>\n",
       "<style scoped>\n",
       "    .dataframe tbody tr th:only-of-type {\n",
       "        vertical-align: middle;\n",
       "    }\n",
       "\n",
       "    .dataframe tbody tr th {\n",
       "        vertical-align: top;\n",
       "    }\n",
       "\n",
       "    .dataframe thead th {\n",
       "        text-align: right;\n",
       "    }\n",
       "</style>\n",
       "<table border=\"1\" class=\"dataframe\">\n",
       "  <thead>\n",
       "    <tr style=\"text-align: right;\">\n",
       "      <th></th>\n",
       "      <th>date</th>\n",
       "      <th>new cases</th>\n",
       "      <th>cumulative cases</th>\n",
       "    </tr>\n",
       "  </thead>\n",
       "  <tbody>\n",
       "    <tr>\n",
       "      <th>48</th>\n",
       "      <td>2020-04-19</td>\n",
       "      <td>15</td>\n",
       "      <td>6466</td>\n",
       "    </tr>\n",
       "  </tbody>\n",
       "</table>\n",
       "</div>"
      ],
      "text/plain": [
       "          date  new cases  cumulative cases\n",
       "48  2020-04-19         15              6466"
      ]
     },
     "execution_count": 3,
     "metadata": {},
     "output_type": "execute_result"
    }
   ],
   "source": [
    "get_latest_cases(utlacodes_expressandstar)"
   ]
  },
  {
   "cell_type": "code",
   "execution_count": 4,
   "metadata": {},
   "outputs": [
    {
     "data": {
      "text/html": [
       "<div>\n",
       "<style scoped>\n",
       "    .dataframe tbody tr th:only-of-type {\n",
       "        vertical-align: middle;\n",
       "    }\n",
       "\n",
       "    .dataframe tbody tr th {\n",
       "        vertical-align: top;\n",
       "    }\n",
       "\n",
       "    .dataframe thead th {\n",
       "        text-align: right;\n",
       "    }\n",
       "</style>\n",
       "<table border=\"1\" class=\"dataframe\">\n",
       "  <thead>\n",
       "    <tr style=\"text-align: right;\">\n",
       "      <th></th>\n",
       "      <th>date reported</th>\n",
       "      <th>deaths</th>\n",
       "      <th>reporting diff</th>\n",
       "    </tr>\n",
       "  </thead>\n",
       "  <tbody>\n",
       "    <tr>\n",
       "      <th>0</th>\n",
       "      <td>2020-04-20</td>\n",
       "      <td>1563</td>\n",
       "      <td>32</td>\n",
       "    </tr>\n",
       "  </tbody>\n",
       "</table>\n",
       "</div>"
      ],
      "text/plain": [
       "  date reported  deaths  reporting diff\n",
       "0    2020-04-20    1563              32"
      ]
     },
     "execution_count": 4,
     "metadata": {},
     "output_type": "execute_result"
    }
   ],
   "source": [
    "get_latest_deaths(trustcodes_expressandstar)"
   ]
  },
  {
   "cell_type": "markdown",
   "metadata": {},
   "source": [
    "# Total Black Country and Birmingham"
   ]
  },
  {
   "cell_type": "code",
   "execution_count": 5,
   "metadata": {},
   "outputs": [
    {
     "data": {
      "text/html": [
       "<div>\n",
       "<style scoped>\n",
       "    .dataframe tbody tr th:only-of-type {\n",
       "        vertical-align: middle;\n",
       "    }\n",
       "\n",
       "    .dataframe tbody tr th {\n",
       "        vertical-align: top;\n",
       "    }\n",
       "\n",
       "    .dataframe thead th {\n",
       "        text-align: right;\n",
       "    }\n",
       "</style>\n",
       "<table border=\"1\" class=\"dataframe\">\n",
       "  <thead>\n",
       "    <tr style=\"text-align: right;\">\n",
       "      <th></th>\n",
       "      <th>date</th>\n",
       "      <th>new cases</th>\n",
       "      <th>cumulative cases</th>\n",
       "    </tr>\n",
       "  </thead>\n",
       "  <tbody>\n",
       "    <tr>\n",
       "      <th>45</th>\n",
       "      <td>2020-04-19</td>\n",
       "      <td>0</td>\n",
       "      <td>2612</td>\n",
       "    </tr>\n",
       "  </tbody>\n",
       "</table>\n",
       "</div>"
      ],
      "text/plain": [
       "          date  new cases  cumulative cases\n",
       "45  2020-04-19          0              2612"
      ]
     },
     "execution_count": 5,
     "metadata": {},
     "output_type": "execute_result"
    }
   ],
   "source": [
    "get_latest_cases(utlacodes_blackcountry)"
   ]
  },
  {
   "cell_type": "code",
   "execution_count": 6,
   "metadata": {},
   "outputs": [
    {
     "data": {
      "text/html": [
       "<div>\n",
       "<style scoped>\n",
       "    .dataframe tbody tr th:only-of-type {\n",
       "        vertical-align: middle;\n",
       "    }\n",
       "\n",
       "    .dataframe tbody tr th {\n",
       "        vertical-align: top;\n",
       "    }\n",
       "\n",
       "    .dataframe thead th {\n",
       "        text-align: right;\n",
       "    }\n",
       "</style>\n",
       "<table border=\"1\" class=\"dataframe\">\n",
       "  <thead>\n",
       "    <tr style=\"text-align: right;\">\n",
       "      <th></th>\n",
       "      <th>date</th>\n",
       "      <th>new cases</th>\n",
       "      <th>cumulative cases</th>\n",
       "    </tr>\n",
       "  </thead>\n",
       "  <tbody>\n",
       "    <tr>\n",
       "      <th>46</th>\n",
       "      <td>2020-04-19</td>\n",
       "      <td>0</td>\n",
       "      <td>4922</td>\n",
       "    </tr>\n",
       "  </tbody>\n",
       "</table>\n",
       "</div>"
      ],
      "text/plain": [
       "          date  new cases  cumulative cases\n",
       "46  2020-04-19          0              4922"
      ]
     },
     "execution_count": 6,
     "metadata": {},
     "output_type": "execute_result"
    }
   ],
   "source": [
    "get_latest_cases(utlacodes_blackcountryandbirmingham)"
   ]
  },
  {
   "cell_type": "code",
   "execution_count": 7,
   "metadata": {},
   "outputs": [
    {
     "data": {
      "text/html": [
       "<div>\n",
       "<style scoped>\n",
       "    .dataframe tbody tr th:only-of-type {\n",
       "        vertical-align: middle;\n",
       "    }\n",
       "\n",
       "    .dataframe tbody tr th {\n",
       "        vertical-align: top;\n",
       "    }\n",
       "\n",
       "    .dataframe thead th {\n",
       "        text-align: right;\n",
       "    }\n",
       "</style>\n",
       "<table border=\"1\" class=\"dataframe\">\n",
       "  <thead>\n",
       "    <tr style=\"text-align: right;\">\n",
       "      <th></th>\n",
       "      <th>date reported</th>\n",
       "      <th>deaths</th>\n",
       "      <th>reporting diff</th>\n",
       "    </tr>\n",
       "  </thead>\n",
       "  <tbody>\n",
       "    <tr>\n",
       "      <th>0</th>\n",
       "      <td>2020-04-20</td>\n",
       "      <td>1369</td>\n",
       "      <td>25</td>\n",
       "    </tr>\n",
       "  </tbody>\n",
       "</table>\n",
       "</div>"
      ],
      "text/plain": [
       "  date reported  deaths  reporting diff\n",
       "0    2020-04-20    1369              25"
      ]
     },
     "execution_count": 7,
     "metadata": {},
     "output_type": "execute_result"
    }
   ],
   "source": [
    "get_latest_deaths(trustcodes_blackcountryandbirmingham)"
   ]
  },
  {
   "cell_type": "markdown",
   "metadata": {},
   "source": [
    "# Wolverhampton"
   ]
  },
  {
   "cell_type": "code",
   "execution_count": 8,
   "metadata": {},
   "outputs": [
    {
     "data": {
      "text/html": [
       "<div>\n",
       "<style scoped>\n",
       "    .dataframe tbody tr th:only-of-type {\n",
       "        vertical-align: middle;\n",
       "    }\n",
       "\n",
       "    .dataframe tbody tr th {\n",
       "        vertical-align: top;\n",
       "    }\n",
       "\n",
       "    .dataframe thead th {\n",
       "        text-align: right;\n",
       "    }\n",
       "</style>\n",
       "<table border=\"1\" class=\"dataframe\">\n",
       "  <thead>\n",
       "    <tr style=\"text-align: right;\">\n",
       "      <th></th>\n",
       "      <th>date</th>\n",
       "      <th>new cases</th>\n",
       "      <th>cumulative cases</th>\n",
       "    </tr>\n",
       "  </thead>\n",
       "  <tbody>\n",
       "    <tr>\n",
       "      <th>43</th>\n",
       "      <td>2020-04-19</td>\n",
       "      <td>0</td>\n",
       "      <td>581</td>\n",
       "    </tr>\n",
       "  </tbody>\n",
       "</table>\n",
       "</div>"
      ],
      "text/plain": [
       "          date  new cases  cumulative cases\n",
       "43  2020-04-19          0               581"
      ]
     },
     "execution_count": 8,
     "metadata": {},
     "output_type": "execute_result"
    }
   ],
   "source": [
    "get_latest_cases(utlacodes_wolverhampton)"
   ]
  },
  {
   "cell_type": "code",
   "execution_count": 9,
   "metadata": {},
   "outputs": [
    {
     "data": {
      "text/html": [
       "<div>\n",
       "<style scoped>\n",
       "    .dataframe tbody tr th:only-of-type {\n",
       "        vertical-align: middle;\n",
       "    }\n",
       "\n",
       "    .dataframe tbody tr th {\n",
       "        vertical-align: top;\n",
       "    }\n",
       "\n",
       "    .dataframe thead th {\n",
       "        text-align: right;\n",
       "    }\n",
       "</style>\n",
       "<table border=\"1\" class=\"dataframe\">\n",
       "  <thead>\n",
       "    <tr style=\"text-align: right;\">\n",
       "      <th></th>\n",
       "      <th>date reported</th>\n",
       "      <th>deaths</th>\n",
       "      <th>reporting diff</th>\n",
       "    </tr>\n",
       "  </thead>\n",
       "  <tbody>\n",
       "    <tr>\n",
       "      <th>0</th>\n",
       "      <td>2020-04-20</td>\n",
       "      <td>207</td>\n",
       "      <td>5</td>\n",
       "    </tr>\n",
       "  </tbody>\n",
       "</table>\n",
       "</div>"
      ],
      "text/plain": [
       "  date reported  deaths  reporting diff\n",
       "0    2020-04-20     207               5"
      ]
     },
     "execution_count": 9,
     "metadata": {},
     "output_type": "execute_result"
    }
   ],
   "source": [
    "get_latest_deaths(trustcodes_wolverhampton)"
   ]
  },
  {
   "cell_type": "markdown",
   "metadata": {},
   "source": [
    "# Walsall"
   ]
  },
  {
   "cell_type": "code",
   "execution_count": 10,
   "metadata": {},
   "outputs": [
    {
     "data": {
      "text/html": [
       "<div>\n",
       "<style scoped>\n",
       "    .dataframe tbody tr th:only-of-type {\n",
       "        vertical-align: middle;\n",
       "    }\n",
       "\n",
       "    .dataframe tbody tr th {\n",
       "        vertical-align: top;\n",
       "    }\n",
       "\n",
       "    .dataframe thead th {\n",
       "        text-align: right;\n",
       "    }\n",
       "</style>\n",
       "<table border=\"1\" class=\"dataframe\">\n",
       "  <thead>\n",
       "    <tr style=\"text-align: right;\">\n",
       "      <th></th>\n",
       "      <th>date</th>\n",
       "      <th>new cases</th>\n",
       "      <th>cumulative cases</th>\n",
       "    </tr>\n",
       "  </thead>\n",
       "  <tbody>\n",
       "    <tr>\n",
       "      <th>41</th>\n",
       "      <td>2020-04-19</td>\n",
       "      <td>0</td>\n",
       "      <td>687</td>\n",
       "    </tr>\n",
       "  </tbody>\n",
       "</table>\n",
       "</div>"
      ],
      "text/plain": [
       "          date  new cases  cumulative cases\n",
       "41  2020-04-19          0               687"
      ]
     },
     "execution_count": 10,
     "metadata": {},
     "output_type": "execute_result"
    }
   ],
   "source": [
    "get_latest_cases(utlacodes_walsall)"
   ]
  },
  {
   "cell_type": "code",
   "execution_count": 11,
   "metadata": {},
   "outputs": [
    {
     "data": {
      "text/html": [
       "<div>\n",
       "<style scoped>\n",
       "    .dataframe tbody tr th:only-of-type {\n",
       "        vertical-align: middle;\n",
       "    }\n",
       "\n",
       "    .dataframe tbody tr th {\n",
       "        vertical-align: top;\n",
       "    }\n",
       "\n",
       "    .dataframe thead th {\n",
       "        text-align: right;\n",
       "    }\n",
       "</style>\n",
       "<table border=\"1\" class=\"dataframe\">\n",
       "  <thead>\n",
       "    <tr style=\"text-align: right;\">\n",
       "      <th></th>\n",
       "      <th>date reported</th>\n",
       "      <th>deaths</th>\n",
       "      <th>reporting diff</th>\n",
       "    </tr>\n",
       "  </thead>\n",
       "  <tbody>\n",
       "    <tr>\n",
       "      <th>0</th>\n",
       "      <td>2020-04-20</td>\n",
       "      <td>128</td>\n",
       "      <td>0</td>\n",
       "    </tr>\n",
       "  </tbody>\n",
       "</table>\n",
       "</div>"
      ],
      "text/plain": [
       "  date reported  deaths  reporting diff\n",
       "0    2020-04-20     128               0"
      ]
     },
     "execution_count": 11,
     "metadata": {},
     "output_type": "execute_result"
    }
   ],
   "source": [
    "get_latest_deaths(trustcodes_walsall)"
   ]
  },
  {
   "cell_type": "markdown",
   "metadata": {},
   "source": [
    "# Dudley"
   ]
  },
  {
   "cell_type": "code",
   "execution_count": 12,
   "metadata": {},
   "outputs": [
    {
     "data": {
      "text/html": [
       "<div>\n",
       "<style scoped>\n",
       "    .dataframe tbody tr th:only-of-type {\n",
       "        vertical-align: middle;\n",
       "    }\n",
       "\n",
       "    .dataframe tbody tr th {\n",
       "        vertical-align: top;\n",
       "    }\n",
       "\n",
       "    .dataframe thead th {\n",
       "        text-align: right;\n",
       "    }\n",
       "</style>\n",
       "<table border=\"1\" class=\"dataframe\">\n",
       "  <thead>\n",
       "    <tr style=\"text-align: right;\">\n",
       "      <th></th>\n",
       "      <th>date</th>\n",
       "      <th>new cases</th>\n",
       "      <th>cumulative cases</th>\n",
       "    </tr>\n",
       "  </thead>\n",
       "  <tbody>\n",
       "    <tr>\n",
       "      <th>41</th>\n",
       "      <td>2020-04-19</td>\n",
       "      <td>0</td>\n",
       "      <td>586</td>\n",
       "    </tr>\n",
       "  </tbody>\n",
       "</table>\n",
       "</div>"
      ],
      "text/plain": [
       "          date  new cases  cumulative cases\n",
       "41  2020-04-19          0               586"
      ]
     },
     "execution_count": 12,
     "metadata": {},
     "output_type": "execute_result"
    }
   ],
   "source": [
    "get_latest_cases(utlacodes_dudley)"
   ]
  },
  {
   "cell_type": "code",
   "execution_count": 13,
   "metadata": {},
   "outputs": [
    {
     "data": {
      "text/html": [
       "<div>\n",
       "<style scoped>\n",
       "    .dataframe tbody tr th:only-of-type {\n",
       "        vertical-align: middle;\n",
       "    }\n",
       "\n",
       "    .dataframe tbody tr th {\n",
       "        vertical-align: top;\n",
       "    }\n",
       "\n",
       "    .dataframe thead th {\n",
       "        text-align: right;\n",
       "    }\n",
       "</style>\n",
       "<table border=\"1\" class=\"dataframe\">\n",
       "  <thead>\n",
       "    <tr style=\"text-align: right;\">\n",
       "      <th></th>\n",
       "      <th>date reported</th>\n",
       "      <th>deaths</th>\n",
       "      <th>reporting diff</th>\n",
       "    </tr>\n",
       "  </thead>\n",
       "  <tbody>\n",
       "    <tr>\n",
       "      <th>0</th>\n",
       "      <td>2020-04-20</td>\n",
       "      <td>172</td>\n",
       "      <td>3</td>\n",
       "    </tr>\n",
       "  </tbody>\n",
       "</table>\n",
       "</div>"
      ],
      "text/plain": [
       "  date reported  deaths  reporting diff\n",
       "0    2020-04-20     172               3"
      ]
     },
     "execution_count": 13,
     "metadata": {},
     "output_type": "execute_result"
    }
   ],
   "source": [
    "get_latest_deaths(trustcodes_dudley)"
   ]
  },
  {
   "cell_type": "markdown",
   "metadata": {},
   "source": [
    "# Sandwell and Birmingham"
   ]
  },
  {
   "cell_type": "code",
   "execution_count": 14,
   "metadata": {},
   "outputs": [
    {
     "data": {
      "text/html": [
       "<div>\n",
       "<style scoped>\n",
       "    .dataframe tbody tr th:only-of-type {\n",
       "        vertical-align: middle;\n",
       "    }\n",
       "\n",
       "    .dataframe tbody tr th {\n",
       "        vertical-align: top;\n",
       "    }\n",
       "\n",
       "    .dataframe thead th {\n",
       "        text-align: right;\n",
       "    }\n",
       "</style>\n",
       "<table border=\"1\" class=\"dataframe\">\n",
       "  <thead>\n",
       "    <tr style=\"text-align: right;\">\n",
       "      <th></th>\n",
       "      <th>date</th>\n",
       "      <th>new cases</th>\n",
       "      <th>cumulative cases</th>\n",
       "    </tr>\n",
       "  </thead>\n",
       "  <tbody>\n",
       "    <tr>\n",
       "      <th>39</th>\n",
       "      <td>2020-04-19</td>\n",
       "      <td>0</td>\n",
       "      <td>758</td>\n",
       "    </tr>\n",
       "  </tbody>\n",
       "</table>\n",
       "</div>"
      ],
      "text/plain": [
       "          date  new cases  cumulative cases\n",
       "39  2020-04-19          0               758"
      ]
     },
     "execution_count": 14,
     "metadata": {},
     "output_type": "execute_result"
    }
   ],
   "source": [
    "get_latest_cases(utlacodes_sandwell)"
   ]
  },
  {
   "cell_type": "code",
   "execution_count": 15,
   "metadata": {},
   "outputs": [
    {
     "data": {
      "text/html": [
       "<div>\n",
       "<style scoped>\n",
       "    .dataframe tbody tr th:only-of-type {\n",
       "        vertical-align: middle;\n",
       "    }\n",
       "\n",
       "    .dataframe tbody tr th {\n",
       "        vertical-align: top;\n",
       "    }\n",
       "\n",
       "    .dataframe thead th {\n",
       "        text-align: right;\n",
       "    }\n",
       "</style>\n",
       "<table border=\"1\" class=\"dataframe\">\n",
       "  <thead>\n",
       "    <tr style=\"text-align: right;\">\n",
       "      <th></th>\n",
       "      <th>date</th>\n",
       "      <th>new cases</th>\n",
       "      <th>cumulative cases</th>\n",
       "    </tr>\n",
       "  </thead>\n",
       "  <tbody>\n",
       "    <tr>\n",
       "      <th>45</th>\n",
       "      <td>2020-04-19</td>\n",
       "      <td>0</td>\n",
       "      <td>2310</td>\n",
       "    </tr>\n",
       "  </tbody>\n",
       "</table>\n",
       "</div>"
      ],
      "text/plain": [
       "          date  new cases  cumulative cases\n",
       "45  2020-04-19          0              2310"
      ]
     },
     "execution_count": 15,
     "metadata": {},
     "output_type": "execute_result"
    }
   ],
   "source": [
    "get_latest_cases(utlacodes_birmingham)"
   ]
  },
  {
   "cell_type": "code",
   "execution_count": 16,
   "metadata": {},
   "outputs": [
    {
     "data": {
      "text/html": [
       "<div>\n",
       "<style scoped>\n",
       "    .dataframe tbody tr th:only-of-type {\n",
       "        vertical-align: middle;\n",
       "    }\n",
       "\n",
       "    .dataframe tbody tr th {\n",
       "        vertical-align: top;\n",
       "    }\n",
       "\n",
       "    .dataframe thead th {\n",
       "        text-align: right;\n",
       "    }\n",
       "</style>\n",
       "<table border=\"1\" class=\"dataframe\">\n",
       "  <thead>\n",
       "    <tr style=\"text-align: right;\">\n",
       "      <th></th>\n",
       "      <th>date</th>\n",
       "      <th>new cases</th>\n",
       "      <th>cumulative cases</th>\n",
       "    </tr>\n",
       "  </thead>\n",
       "  <tbody>\n",
       "    <tr>\n",
       "      <th>45</th>\n",
       "      <td>2020-04-19</td>\n",
       "      <td>0</td>\n",
       "      <td>3068</td>\n",
       "    </tr>\n",
       "  </tbody>\n",
       "</table>\n",
       "</div>"
      ],
      "text/plain": [
       "          date  new cases  cumulative cases\n",
       "45  2020-04-19          0              3068"
      ]
     },
     "execution_count": 16,
     "metadata": {},
     "output_type": "execute_result"
    }
   ],
   "source": [
    "get_latest_cases(utlacodes_sandwellandbirmingham)"
   ]
  },
  {
   "cell_type": "code",
   "execution_count": 17,
   "metadata": {},
   "outputs": [
    {
     "data": {
      "text/html": [
       "<div>\n",
       "<style scoped>\n",
       "    .dataframe tbody tr th:only-of-type {\n",
       "        vertical-align: middle;\n",
       "    }\n",
       "\n",
       "    .dataframe tbody tr th {\n",
       "        vertical-align: top;\n",
       "    }\n",
       "\n",
       "    .dataframe thead th {\n",
       "        text-align: right;\n",
       "    }\n",
       "</style>\n",
       "<table border=\"1\" class=\"dataframe\">\n",
       "  <thead>\n",
       "    <tr style=\"text-align: right;\">\n",
       "      <th></th>\n",
       "      <th>date reported</th>\n",
       "      <th>deaths</th>\n",
       "      <th>reporting diff</th>\n",
       "    </tr>\n",
       "  </thead>\n",
       "  <tbody>\n",
       "    <tr>\n",
       "      <th>0</th>\n",
       "      <td>2020-04-20</td>\n",
       "      <td>862</td>\n",
       "      <td>17</td>\n",
       "    </tr>\n",
       "  </tbody>\n",
       "</table>\n",
       "</div>"
      ],
      "text/plain": [
       "  date reported  deaths  reporting diff\n",
       "0    2020-04-20     862              17"
      ]
     },
     "execution_count": 17,
     "metadata": {},
     "output_type": "execute_result"
    }
   ],
   "source": [
    "get_latest_deaths(trustcodes_sandwellandbirmingham)"
   ]
  },
  {
   "cell_type": "markdown",
   "metadata": {},
   "source": [
    "# Staffordshire"
   ]
  },
  {
   "cell_type": "code",
   "execution_count": 18,
   "metadata": {},
   "outputs": [
    {
     "data": {
      "text/html": [
       "<div>\n",
       "<style scoped>\n",
       "    .dataframe tbody tr th:only-of-type {\n",
       "        vertical-align: middle;\n",
       "    }\n",
       "\n",
       "    .dataframe tbody tr th {\n",
       "        vertical-align: top;\n",
       "    }\n",
       "\n",
       "    .dataframe thead th {\n",
       "        text-align: right;\n",
       "    }\n",
       "</style>\n",
       "<table border=\"1\" class=\"dataframe\">\n",
       "  <thead>\n",
       "    <tr style=\"text-align: right;\">\n",
       "      <th></th>\n",
       "      <th>date</th>\n",
       "      <th>new cases</th>\n",
       "      <th>cumulative cases</th>\n",
       "    </tr>\n",
       "  </thead>\n",
       "  <tbody>\n",
       "    <tr>\n",
       "      <th>45</th>\n",
       "      <td>2020-04-19</td>\n",
       "      <td>10</td>\n",
       "      <td>1248</td>\n",
       "    </tr>\n",
       "  </tbody>\n",
       "</table>\n",
       "</div>"
      ],
      "text/plain": [
       "          date  new cases  cumulative cases\n",
       "45  2020-04-19         10              1248"
      ]
     },
     "execution_count": 18,
     "metadata": {},
     "output_type": "execute_result"
    }
   ],
   "source": [
    "get_latest_cases(utlacodes_staffordshire)"
   ]
  },
  {
   "cell_type": "code",
   "execution_count": 19,
   "metadata": {},
   "outputs": [
    {
     "data": {
      "text/html": [
       "<div>\n",
       "<style scoped>\n",
       "    .dataframe tbody tr th:only-of-type {\n",
       "        vertical-align: middle;\n",
       "    }\n",
       "\n",
       "    .dataframe tbody tr th {\n",
       "        vertical-align: top;\n",
       "    }\n",
       "\n",
       "    .dataframe thead th {\n",
       "        text-align: right;\n",
       "    }\n",
       "</style>\n",
       "<table border=\"1\" class=\"dataframe\">\n",
       "  <thead>\n",
       "    <tr style=\"text-align: right;\">\n",
       "      <th></th>\n",
       "      <th>date</th>\n",
       "      <th>new cases</th>\n",
       "      <th>cumulative cases</th>\n",
       "    </tr>\n",
       "  </thead>\n",
       "  <tbody>\n",
       "    <tr>\n",
       "      <th>35</th>\n",
       "      <td>2020-04-19</td>\n",
       "      <td>5</td>\n",
       "      <td>296</td>\n",
       "    </tr>\n",
       "  </tbody>\n",
       "</table>\n",
       "</div>"
      ],
      "text/plain": [
       "          date  new cases  cumulative cases\n",
       "35  2020-04-19          5               296"
      ]
     },
     "execution_count": 19,
     "metadata": {},
     "output_type": "execute_result"
    }
   ],
   "source": [
    "get_latest_cases(utlacodes_stoke)"
   ]
  },
  {
   "cell_type": "code",
   "execution_count": 20,
   "metadata": {},
   "outputs": [
    {
     "data": {
      "text/html": [
       "<div>\n",
       "<style scoped>\n",
       "    .dataframe tbody tr th:only-of-type {\n",
       "        vertical-align: middle;\n",
       "    }\n",
       "\n",
       "    .dataframe tbody tr th {\n",
       "        vertical-align: top;\n",
       "    }\n",
       "\n",
       "    .dataframe thead th {\n",
       "        text-align: right;\n",
       "    }\n",
       "</style>\n",
       "<table border=\"1\" class=\"dataframe\">\n",
       "  <thead>\n",
       "    <tr style=\"text-align: right;\">\n",
       "      <th></th>\n",
       "      <th>date</th>\n",
       "      <th>new cases</th>\n",
       "      <th>cumulative cases</th>\n",
       "    </tr>\n",
       "  </thead>\n",
       "  <tbody>\n",
       "    <tr>\n",
       "      <th>45</th>\n",
       "      <td>2020-04-19</td>\n",
       "      <td>15</td>\n",
       "      <td>1544</td>\n",
       "    </tr>\n",
       "  </tbody>\n",
       "</table>\n",
       "</div>"
      ],
      "text/plain": [
       "          date  new cases  cumulative cases\n",
       "45  2020-04-19         15              1544"
      ]
     },
     "execution_count": 20,
     "metadata": {},
     "output_type": "execute_result"
    }
   ],
   "source": [
    "get_latest_cases(utlacodes_staffordshireandstoke)"
   ]
  },
  {
   "cell_type": "markdown",
   "metadata": {},
   "source": [
    "## Total Staffordshire Deaths\n",
    "_North Staffordshire Combined Healthcare NHS Trust (RLY) + University Hospitals of North Midlands NHS Trust (RJE)_"
   ]
  },
  {
   "cell_type": "code",
   "execution_count": 21,
   "metadata": {},
   "outputs": [
    {
     "data": {
      "text/html": [
       "<div>\n",
       "<style scoped>\n",
       "    .dataframe tbody tr th:only-of-type {\n",
       "        vertical-align: middle;\n",
       "    }\n",
       "\n",
       "    .dataframe tbody tr th {\n",
       "        vertical-align: top;\n",
       "    }\n",
       "\n",
       "    .dataframe thead th {\n",
       "        text-align: right;\n",
       "    }\n",
       "</style>\n",
       "<table border=\"1\" class=\"dataframe\">\n",
       "  <thead>\n",
       "    <tr style=\"text-align: right;\">\n",
       "      <th></th>\n",
       "      <th>date reported</th>\n",
       "      <th>deaths</th>\n",
       "      <th>reporting diff</th>\n",
       "    </tr>\n",
       "  </thead>\n",
       "  <tbody>\n",
       "    <tr>\n",
       "      <th>0</th>\n",
       "      <td>2020-04-20</td>\n",
       "      <td>128</td>\n",
       "      <td>3</td>\n",
       "    </tr>\n",
       "  </tbody>\n",
       "</table>\n",
       "</div>"
      ],
      "text/plain": [
       "  date reported  deaths  reporting diff\n",
       "0    2020-04-20     128               3"
      ]
     },
     "execution_count": 21,
     "metadata": {},
     "output_type": "execute_result"
    }
   ],
   "source": [
    "get_latest_deaths(trustcodes_staffordshire)"
   ]
  },
  {
   "cell_type": "markdown",
   "metadata": {},
   "source": [
    "# Worcestershire"
   ]
  },
  {
   "cell_type": "code",
   "execution_count": 22,
   "metadata": {},
   "outputs": [
    {
     "data": {
      "text/html": [
       "<div>\n",
       "<style scoped>\n",
       "    .dataframe tbody tr th:only-of-type {\n",
       "        vertical-align: middle;\n",
       "    }\n",
       "\n",
       "    .dataframe tbody tr th {\n",
       "        vertical-align: top;\n",
       "    }\n",
       "\n",
       "    .dataframe thead th {\n",
       "        text-align: right;\n",
       "    }\n",
       "</style>\n",
       "<table border=\"1\" class=\"dataframe\">\n",
       "  <thead>\n",
       "    <tr style=\"text-align: right;\">\n",
       "      <th></th>\n",
       "      <th>date</th>\n",
       "      <th>new cases</th>\n",
       "      <th>cumulative cases</th>\n",
       "    </tr>\n",
       "  </thead>\n",
       "  <tbody>\n",
       "    <tr>\n",
       "      <th>41</th>\n",
       "      <td>2020-04-19</td>\n",
       "      <td>0</td>\n",
       "      <td>887</td>\n",
       "    </tr>\n",
       "  </tbody>\n",
       "</table>\n",
       "</div>"
      ],
      "text/plain": [
       "          date  new cases  cumulative cases\n",
       "41  2020-04-19          0               887"
      ]
     },
     "execution_count": 22,
     "metadata": {},
     "output_type": "execute_result"
    }
   ],
   "source": [
    "get_latest_cases(utlacodes_worcestershire)"
   ]
  },
  {
   "cell_type": "code",
   "execution_count": 23,
   "metadata": {},
   "outputs": [
    {
     "data": {
      "text/html": [
       "<div>\n",
       "<style scoped>\n",
       "    .dataframe tbody tr th:only-of-type {\n",
       "        vertical-align: middle;\n",
       "    }\n",
       "\n",
       "    .dataframe tbody tr th {\n",
       "        vertical-align: top;\n",
       "    }\n",
       "\n",
       "    .dataframe thead th {\n",
       "        text-align: right;\n",
       "    }\n",
       "</style>\n",
       "<table border=\"1\" class=\"dataframe\">\n",
       "  <thead>\n",
       "    <tr style=\"text-align: right;\">\n",
       "      <th></th>\n",
       "      <th>date reported</th>\n",
       "      <th>deaths</th>\n",
       "      <th>reporting diff</th>\n",
       "    </tr>\n",
       "  </thead>\n",
       "  <tbody>\n",
       "    <tr>\n",
       "      <th>0</th>\n",
       "      <td>2020-04-20</td>\n",
       "      <td>160</td>\n",
       "      <td>2</td>\n",
       "    </tr>\n",
       "  </tbody>\n",
       "</table>\n",
       "</div>"
      ],
      "text/plain": [
       "  date reported  deaths  reporting diff\n",
       "0    2020-04-20     160               2"
      ]
     },
     "execution_count": 23,
     "metadata": {},
     "output_type": "execute_result"
    }
   ],
   "source": [
    "get_latest_deaths(trustcodes_worcestershire)"
   ]
  },
  {
   "cell_type": "markdown",
   "metadata": {},
   "source": [
    "# Latest deaths across all trusts"
   ]
  },
  {
   "cell_type": "code",
   "execution_count": 24,
   "metadata": {},
   "outputs": [
    {
     "data": {
      "text/html": [
       "<div>\n",
       "<style scoped>\n",
       "    .dataframe tbody tr th:only-of-type {\n",
       "        vertical-align: middle;\n",
       "    }\n",
       "\n",
       "    .dataframe tbody tr th {\n",
       "        vertical-align: top;\n",
       "    }\n",
       "\n",
       "    .dataframe thead th {\n",
       "        text-align: right;\n",
       "    }\n",
       "</style>\n",
       "<table border=\"1\" class=\"dataframe\">\n",
       "  <thead>\n",
       "    <tr style=\"text-align: right;\">\n",
       "      <th></th>\n",
       "      <th>code</th>\n",
       "      <th>name</th>\n",
       "      <th>date reported</th>\n",
       "      <th>deaths</th>\n",
       "      <th>reporting diff</th>\n",
       "    </tr>\n",
       "  </thead>\n",
       "  <tbody>\n",
       "    <tr>\n",
       "      <th>19</th>\n",
       "      <td>RRK</td>\n",
       "      <td>UNIVERSITY HOSPITALS BIRMINGHAM NHS FOUNDATION...</td>\n",
       "      <td>2020-04-20</td>\n",
       "      <td>600</td>\n",
       "      <td>11</td>\n",
       "    </tr>\n",
       "    <tr>\n",
       "      <th>11</th>\n",
       "      <td>RL4</td>\n",
       "      <td>THE ROYAL WOLVERHAMPTON NHS TRUST</td>\n",
       "      <td>2020-04-20</td>\n",
       "      <td>207</td>\n",
       "      <td>5</td>\n",
       "    </tr>\n",
       "    <tr>\n",
       "      <th>23</th>\n",
       "      <td>RXK</td>\n",
       "      <td>SANDWELL AND WEST BIRMINGHAM HOSPITALS NHS TRUST</td>\n",
       "      <td>2020-04-20</td>\n",
       "      <td>245</td>\n",
       "      <td>5</td>\n",
       "    </tr>\n",
       "    <tr>\n",
       "      <th>7</th>\n",
       "      <td>RJE</td>\n",
       "      <td>UNIVERSITY HOSPITALS OF NORTH MIDLANDS NHS TRUST</td>\n",
       "      <td>2020-04-20</td>\n",
       "      <td>127</td>\n",
       "      <td>3</td>\n",
       "    </tr>\n",
       "    <tr>\n",
       "      <th>15</th>\n",
       "      <td>RNA</td>\n",
       "      <td>THE DUDLEY GROUP NHS FOUNDATION TRUST</td>\n",
       "      <td>2020-04-20</td>\n",
       "      <td>172</td>\n",
       "      <td>3</td>\n",
       "    </tr>\n",
       "    <tr>\n",
       "      <th>3</th>\n",
       "      <td>R1D</td>\n",
       "      <td>SHROPSHIRE COMMUNITY HEALTH NHS TRUST</td>\n",
       "      <td>2020-04-20</td>\n",
       "      <td>3</td>\n",
       "      <td>2</td>\n",
       "    </tr>\n",
       "    <tr>\n",
       "      <th>21</th>\n",
       "      <td>RWP</td>\n",
       "      <td>WORCESTERSHIRE ACUTE HOSPITALS NHS TRUST</td>\n",
       "      <td>2020-04-20</td>\n",
       "      <td>146</td>\n",
       "      <td>2</td>\n",
       "    </tr>\n",
       "    <tr>\n",
       "      <th>25</th>\n",
       "      <td>RXW</td>\n",
       "      <td>SHREWSBURY AND TELFORD HOSPITAL NHS TRUST</td>\n",
       "      <td>2020-04-20</td>\n",
       "      <td>61</td>\n",
       "      <td>2</td>\n",
       "    </tr>\n",
       "    <tr>\n",
       "      <th>27</th>\n",
       "      <td>RYW</td>\n",
       "      <td>BIRMINGHAM COMMUNITY HEALTHCARE NHS FOUNDATION...</td>\n",
       "      <td>2020-04-20</td>\n",
       "      <td>15</td>\n",
       "      <td>1</td>\n",
       "    </tr>\n",
       "    <tr>\n",
       "      <th>1</th>\n",
       "      <td>R1A</td>\n",
       "      <td>WORCESTERSHIRE HEALTH AND CARE NHS TRUST</td>\n",
       "      <td>2020-04-20</td>\n",
       "      <td>14</td>\n",
       "      <td>0</td>\n",
       "    </tr>\n",
       "    <tr>\n",
       "      <th>5</th>\n",
       "      <td>RBK</td>\n",
       "      <td>WALSALL HEALTHCARE NHS TRUST</td>\n",
       "      <td>2020-04-20</td>\n",
       "      <td>128</td>\n",
       "      <td>0</td>\n",
       "    </tr>\n",
       "    <tr>\n",
       "      <th>9</th>\n",
       "      <td>RL1</td>\n",
       "      <td>THE ROBERT JONES AND AGNES HUNT ORTHOPAEDIC HO...</td>\n",
       "      <td>2020-04-20</td>\n",
       "      <td>2</td>\n",
       "      <td>0</td>\n",
       "    </tr>\n",
       "    <tr>\n",
       "      <th>13</th>\n",
       "      <td>RLY</td>\n",
       "      <td>NORTH STAFFORDSHIRE COMBINED HEALTHCARE NHS TRUST</td>\n",
       "      <td>2020-04-20</td>\n",
       "      <td>1</td>\n",
       "      <td>0</td>\n",
       "    </tr>\n",
       "    <tr>\n",
       "      <th>17</th>\n",
       "      <td>RRJ</td>\n",
       "      <td>THE ROYAL ORTHOPAEDIC HOSPITAL NHS FOUNDATION ...</td>\n",
       "      <td>2020-04-20</td>\n",
       "      <td>2</td>\n",
       "      <td>0</td>\n",
       "    </tr>\n",
       "  </tbody>\n",
       "</table>\n",
       "</div>"
      ],
      "text/plain": [
       "   code                                               name date reported  \\\n",
       "19  RRK  UNIVERSITY HOSPITALS BIRMINGHAM NHS FOUNDATION...    2020-04-20   \n",
       "11  RL4                  THE ROYAL WOLVERHAMPTON NHS TRUST    2020-04-20   \n",
       "23  RXK   SANDWELL AND WEST BIRMINGHAM HOSPITALS NHS TRUST    2020-04-20   \n",
       "7   RJE   UNIVERSITY HOSPITALS OF NORTH MIDLANDS NHS TRUST    2020-04-20   \n",
       "15  RNA              THE DUDLEY GROUP NHS FOUNDATION TRUST    2020-04-20   \n",
       "3   R1D              SHROPSHIRE COMMUNITY HEALTH NHS TRUST    2020-04-20   \n",
       "21  RWP           WORCESTERSHIRE ACUTE HOSPITALS NHS TRUST    2020-04-20   \n",
       "25  RXW          SHREWSBURY AND TELFORD HOSPITAL NHS TRUST    2020-04-20   \n",
       "27  RYW  BIRMINGHAM COMMUNITY HEALTHCARE NHS FOUNDATION...    2020-04-20   \n",
       "1   R1A           WORCESTERSHIRE HEALTH AND CARE NHS TRUST    2020-04-20   \n",
       "5   RBK                       WALSALL HEALTHCARE NHS TRUST    2020-04-20   \n",
       "9   RL1  THE ROBERT JONES AND AGNES HUNT ORTHOPAEDIC HO...    2020-04-20   \n",
       "13  RLY  NORTH STAFFORDSHIRE COMBINED HEALTHCARE NHS TRUST    2020-04-20   \n",
       "17  RRJ  THE ROYAL ORTHOPAEDIC HOSPITAL NHS FOUNDATION ...    2020-04-20   \n",
       "\n",
       "    deaths  reporting diff  \n",
       "19     600              11  \n",
       "11     207               5  \n",
       "23     245               5  \n",
       "7      127               3  \n",
       "15     172               3  \n",
       "3        3               2  \n",
       "21     146               2  \n",
       "25      61               2  \n",
       "27      15               1  \n",
       "1       14               0  \n",
       "5      128               0  \n",
       "9        2               0  \n",
       "13       1               0  \n",
       "17       2               0  "
      ]
     },
     "execution_count": 24,
     "metadata": {},
     "output_type": "execute_result"
    }
   ],
   "source": [
    "get_latest_deaths()"
   ]
  },
  {
   "cell_type": "markdown",
   "metadata": {},
   "source": [
    "# Charts"
   ]
  },
  {
   "cell_type": "markdown",
   "metadata": {},
   "source": [
    "## Deaths on date died by trust"
   ]
  },
  {
   "cell_type": "code",
   "execution_count": 25,
   "metadata": {},
   "outputs": [
    {
     "data": {
      "text/html": [
       "\n",
       "<div id=\"altair-viz-9d77c8ae37414845ab865537b6b49e1b\"></div>\n",
       "<script type=\"text/javascript\">\n",
       "  (function(spec, embedOpt){\n",
       "    let outputDiv = document.currentScript.previousElementSibling;\n",
       "    if (outputDiv.id !== \"altair-viz-9d77c8ae37414845ab865537b6b49e1b\") {\n",
       "      outputDiv = document.getElementById(\"altair-viz-9d77c8ae37414845ab865537b6b49e1b\");\n",
       "    }\n",
       "    const paths = {\n",
       "      \"vega\": \"https://cdn.jsdelivr.net/npm//vega@5?noext\",\n",
       "      \"vega-lib\": \"https://cdn.jsdelivr.net/npm//vega-lib?noext\",\n",
       "      \"vega-lite\": \"https://cdn.jsdelivr.net/npm//vega-lite@4.8.1?noext\",\n",
       "      \"vega-embed\": \"https://cdn.jsdelivr.net/npm//vega-embed@6?noext\",\n",
       "    };\n",
       "\n",
       "    function loadScript(lib) {\n",
       "      return new Promise(function(resolve, reject) {\n",
       "        var s = document.createElement('script');\n",
       "        s.src = paths[lib];\n",
       "        s.async = true;\n",
       "        s.onload = () => resolve(paths[lib]);\n",
       "        s.onerror = () => reject(`Error loading script: ${paths[lib]}`);\n",
       "        document.getElementsByTagName(\"head\")[0].appendChild(s);\n",
       "      });\n",
       "    }\n",
       "\n",
       "    function showError(err) {\n",
       "      outputDiv.innerHTML = `<div class=\"error\" style=\"color:red;\">${err}</div>`;\n",
       "      throw err;\n",
       "    }\n",
       "\n",
       "    function displayChart(vegaEmbed) {\n",
       "      vegaEmbed(outputDiv, spec, embedOpt)\n",
       "        .catch(err => showError(`Javascript Error: ${err.message}<br>This usually means there's a typo in your chart specification. See the javascript console for the full traceback.`));\n",
       "    }\n",
       "\n",
       "    if(typeof define === \"function\" && define.amd) {\n",
       "      requirejs.config({paths});\n",
       "      require([\"vega-embed\"], displayChart, err => showError(`Error loading script: ${err.message}`));\n",
       "    } else if (typeof vegaEmbed === \"function\") {\n",
       "      displayChart(vegaEmbed);\n",
       "    } else {\n",
       "      loadScript(\"vega\")\n",
       "        .then(() => loadScript(\"vega-lite\"))\n",
       "        .then(() => loadScript(\"vega-embed\"))\n",
       "        .catch(showError)\n",
       "        .then(() => displayChart(vegaEmbed));\n",
       "    }\n",
       "  })({\"config\": {\"view\": {\"continuousWidth\": 400, \"continuousHeight\": 300}}, \"data\": {\"name\": \"data-457eb793dc24a7c9db36f6272bd11c35\"}, \"mark\": \"line\", \"encoding\": {\"color\": {\"type\": \"nominal\", \"field\": \"name\"}, \"x\": {\"type\": \"temporal\", \"field\": \"date of death\"}, \"y\": {\"type\": \"quantitative\", \"field\": \"deaths\"}}, \"$schema\": \"https://vega.github.io/schema/vega-lite/v4.8.1.json\", \"datasets\": {\"data-457eb793dc24a7c9db36f6272bd11c35\": [{\"code\": \"R1A\", \"name\": \"WORCESTERSHIRE HEALTH AND CARE NHS TRUST\", \"date of death\": \"2020-02-29T00:00:00\", \"deaths\": 0, \"cumulative deaths\": 0}, {\"code\": \"R1A\", \"name\": \"WORCESTERSHIRE HEALTH AND CARE NHS TRUST\", \"date of death\": \"2020-03-01T00:00:00\", \"deaths\": 0, \"cumulative deaths\": 0}, {\"code\": \"R1A\", \"name\": \"WORCESTERSHIRE HEALTH AND CARE NHS TRUST\", \"date of death\": \"2020-03-02T00:00:00\", \"deaths\": 0, \"cumulative deaths\": 0}, {\"code\": \"R1A\", \"name\": \"WORCESTERSHIRE HEALTH AND CARE NHS TRUST\", \"date of death\": \"2020-03-03T00:00:00\", \"deaths\": 0, \"cumulative deaths\": 0}, {\"code\": \"R1A\", \"name\": \"WORCESTERSHIRE HEALTH AND CARE NHS TRUST\", \"date of death\": \"2020-03-04T00:00:00\", \"deaths\": 0, \"cumulative deaths\": 0}, {\"code\": \"R1A\", \"name\": \"WORCESTERSHIRE HEALTH AND CARE NHS TRUST\", \"date of death\": \"2020-03-05T00:00:00\", \"deaths\": 0, \"cumulative deaths\": 0}, {\"code\": \"R1A\", \"name\": \"WORCESTERSHIRE HEALTH AND CARE NHS TRUST\", \"date of death\": \"2020-03-06T00:00:00\", \"deaths\": 0, \"cumulative deaths\": 0}, {\"code\": \"R1A\", \"name\": \"WORCESTERSHIRE HEALTH AND CARE NHS TRUST\", \"date of death\": \"2020-03-07T00:00:00\", \"deaths\": 0, \"cumulative deaths\": 0}, {\"code\": \"R1A\", \"name\": \"WORCESTERSHIRE HEALTH AND CARE NHS TRUST\", \"date of death\": \"2020-03-08T00:00:00\", \"deaths\": 0, \"cumulative deaths\": 0}, {\"code\": \"R1A\", \"name\": \"WORCESTERSHIRE HEALTH AND CARE NHS TRUST\", \"date of death\": \"2020-03-09T00:00:00\", \"deaths\": 0, \"cumulative deaths\": 0}, {\"code\": \"R1A\", \"name\": \"WORCESTERSHIRE HEALTH AND CARE NHS TRUST\", \"date of death\": \"2020-03-10T00:00:00\", \"deaths\": 0, \"cumulative deaths\": 0}, {\"code\": \"R1A\", \"name\": \"WORCESTERSHIRE HEALTH AND CARE NHS TRUST\", \"date of death\": \"2020-03-11T00:00:00\", \"deaths\": 0, \"cumulative deaths\": 0}, {\"code\": \"R1A\", \"name\": \"WORCESTERSHIRE HEALTH AND CARE NHS TRUST\", \"date of death\": \"2020-03-12T00:00:00\", \"deaths\": 0, \"cumulative deaths\": 0}, {\"code\": \"R1A\", \"name\": \"WORCESTERSHIRE HEALTH AND CARE NHS TRUST\", \"date of death\": \"2020-03-13T00:00:00\", \"deaths\": 0, \"cumulative deaths\": 0}, {\"code\": \"R1A\", \"name\": \"WORCESTERSHIRE HEALTH AND CARE NHS TRUST\", \"date of death\": \"2020-03-14T00:00:00\", \"deaths\": 0, \"cumulative deaths\": 0}, {\"code\": \"R1A\", \"name\": \"WORCESTERSHIRE HEALTH AND CARE NHS TRUST\", \"date of death\": \"2020-03-15T00:00:00\", \"deaths\": 0, \"cumulative deaths\": 0}, {\"code\": \"R1A\", \"name\": \"WORCESTERSHIRE HEALTH AND CARE NHS TRUST\", \"date of death\": \"2020-03-16T00:00:00\", \"deaths\": 0, \"cumulative deaths\": 0}, {\"code\": \"R1A\", \"name\": \"WORCESTERSHIRE HEALTH AND CARE NHS TRUST\", \"date of death\": \"2020-03-17T00:00:00\", \"deaths\": 0, \"cumulative deaths\": 0}, {\"code\": \"R1A\", \"name\": \"WORCESTERSHIRE HEALTH AND CARE NHS TRUST\", \"date of death\": \"2020-03-18T00:00:00\", \"deaths\": 0, \"cumulative deaths\": 0}, {\"code\": \"R1A\", \"name\": \"WORCESTERSHIRE HEALTH AND CARE NHS TRUST\", \"date of death\": \"2020-03-19T00:00:00\", \"deaths\": 0, \"cumulative deaths\": 0}, {\"code\": \"R1A\", \"name\": \"WORCESTERSHIRE HEALTH AND CARE NHS TRUST\", \"date of death\": \"2020-03-20T00:00:00\", \"deaths\": 0, \"cumulative deaths\": 0}, {\"code\": \"R1A\", \"name\": \"WORCESTERSHIRE HEALTH AND CARE NHS TRUST\", \"date of death\": \"2020-03-21T00:00:00\", \"deaths\": 0, \"cumulative deaths\": 0}, {\"code\": \"R1A\", \"name\": \"WORCESTERSHIRE HEALTH AND CARE NHS TRUST\", \"date of death\": \"2020-03-22T00:00:00\", \"deaths\": 0, \"cumulative deaths\": 0}, {\"code\": \"R1A\", \"name\": \"WORCESTERSHIRE HEALTH AND CARE NHS TRUST\", \"date of death\": \"2020-03-23T00:00:00\", \"deaths\": 0, \"cumulative deaths\": 0}, {\"code\": \"R1A\", \"name\": \"WORCESTERSHIRE HEALTH AND CARE NHS TRUST\", \"date of death\": \"2020-03-24T00:00:00\", \"deaths\": 0, \"cumulative deaths\": 0}, {\"code\": \"R1A\", \"name\": \"WORCESTERSHIRE HEALTH AND CARE NHS TRUST\", \"date of death\": \"2020-03-25T00:00:00\", \"deaths\": 0, \"cumulative deaths\": 0}, {\"code\": \"R1A\", \"name\": \"WORCESTERSHIRE HEALTH AND CARE NHS TRUST\", \"date of death\": \"2020-03-26T00:00:00\", \"deaths\": 1, \"cumulative deaths\": 1}, {\"code\": \"R1A\", \"name\": \"WORCESTERSHIRE HEALTH AND CARE NHS TRUST\", \"date of death\": \"2020-03-27T00:00:00\", \"deaths\": 0, \"cumulative deaths\": 1}, {\"code\": \"R1A\", \"name\": \"WORCESTERSHIRE HEALTH AND CARE NHS TRUST\", \"date of death\": \"2020-03-28T00:00:00\", \"deaths\": 0, \"cumulative deaths\": 1}, {\"code\": \"R1A\", \"name\": \"WORCESTERSHIRE HEALTH AND CARE NHS TRUST\", \"date of death\": \"2020-03-29T00:00:00\", \"deaths\": 0, \"cumulative deaths\": 1}, {\"code\": \"R1A\", \"name\": \"WORCESTERSHIRE HEALTH AND CARE NHS TRUST\", \"date of death\": \"2020-03-30T00:00:00\", \"deaths\": 0, \"cumulative deaths\": 1}, {\"code\": \"R1A\", \"name\": \"WORCESTERSHIRE HEALTH AND CARE NHS TRUST\", \"date of death\": \"2020-03-31T00:00:00\", \"deaths\": 0, \"cumulative deaths\": 1}, {\"code\": \"R1A\", \"name\": \"WORCESTERSHIRE HEALTH AND CARE NHS TRUST\", \"date of death\": \"2020-04-01T00:00:00\", \"deaths\": 0, \"cumulative deaths\": 1}, {\"code\": \"R1A\", \"name\": \"WORCESTERSHIRE HEALTH AND CARE NHS TRUST\", \"date of death\": \"2020-04-02T00:00:00\", \"deaths\": 1, \"cumulative deaths\": 2}, {\"code\": \"R1A\", \"name\": \"WORCESTERSHIRE HEALTH AND CARE NHS TRUST\", \"date of death\": \"2020-04-03T00:00:00\", \"deaths\": 0, \"cumulative deaths\": 2}, {\"code\": \"R1A\", \"name\": \"WORCESTERSHIRE HEALTH AND CARE NHS TRUST\", \"date of death\": \"2020-04-04T00:00:00\", \"deaths\": 1, \"cumulative deaths\": 3}, {\"code\": \"R1A\", \"name\": \"WORCESTERSHIRE HEALTH AND CARE NHS TRUST\", \"date of death\": \"2020-04-05T00:00:00\", \"deaths\": 0, \"cumulative deaths\": 3}, {\"code\": \"R1A\", \"name\": \"WORCESTERSHIRE HEALTH AND CARE NHS TRUST\", \"date of death\": \"2020-04-06T00:00:00\", \"deaths\": 0, \"cumulative deaths\": 3}, {\"code\": \"R1A\", \"name\": \"WORCESTERSHIRE HEALTH AND CARE NHS TRUST\", \"date of death\": \"2020-04-07T00:00:00\", \"deaths\": 1, \"cumulative deaths\": 4}, {\"code\": \"R1A\", \"name\": \"WORCESTERSHIRE HEALTH AND CARE NHS TRUST\", \"date of death\": \"2020-04-08T00:00:00\", \"deaths\": 0, \"cumulative deaths\": 4}, {\"code\": \"R1A\", \"name\": \"WORCESTERSHIRE HEALTH AND CARE NHS TRUST\", \"date of death\": \"2020-04-09T00:00:00\", \"deaths\": 0, \"cumulative deaths\": 4}, {\"code\": \"R1A\", \"name\": \"WORCESTERSHIRE HEALTH AND CARE NHS TRUST\", \"date of death\": \"2020-04-10T00:00:00\", \"deaths\": 1, \"cumulative deaths\": 5}, {\"code\": \"R1A\", \"name\": \"WORCESTERSHIRE HEALTH AND CARE NHS TRUST\", \"date of death\": \"2020-04-11T00:00:00\", \"deaths\": 1, \"cumulative deaths\": 6}, {\"code\": \"R1A\", \"name\": \"WORCESTERSHIRE HEALTH AND CARE NHS TRUST\", \"date of death\": \"2020-04-12T00:00:00\", \"deaths\": 2, \"cumulative deaths\": 8}, {\"code\": \"R1A\", \"name\": \"WORCESTERSHIRE HEALTH AND CARE NHS TRUST\", \"date of death\": \"2020-04-13T00:00:00\", \"deaths\": 1, \"cumulative deaths\": 9}, {\"code\": \"R1A\", \"name\": \"WORCESTERSHIRE HEALTH AND CARE NHS TRUST\", \"date of death\": \"2020-04-14T00:00:00\", \"deaths\": 0, \"cumulative deaths\": 9}, {\"code\": \"R1A\", \"name\": \"WORCESTERSHIRE HEALTH AND CARE NHS TRUST\", \"date of death\": \"2020-04-15T00:00:00\", \"deaths\": 1, \"cumulative deaths\": 10}, {\"code\": \"R1A\", \"name\": \"WORCESTERSHIRE HEALTH AND CARE NHS TRUST\", \"date of death\": \"2020-04-16T00:00:00\", \"deaths\": 0, \"cumulative deaths\": 10}, {\"code\": \"R1A\", \"name\": \"WORCESTERSHIRE HEALTH AND CARE NHS TRUST\", \"date of death\": \"2020-04-17T00:00:00\", \"deaths\": 1, \"cumulative deaths\": 11}, {\"code\": \"R1A\", \"name\": \"WORCESTERSHIRE HEALTH AND CARE NHS TRUST\", \"date of death\": \"2020-04-18T00:00:00\", \"deaths\": 3, \"cumulative deaths\": 14}, {\"code\": \"R1A\", \"name\": \"WORCESTERSHIRE HEALTH AND CARE NHS TRUST\", \"date of death\": \"2020-04-19T00:00:00\", \"deaths\": 0, \"cumulative deaths\": 14}, {\"code\": \"R1D\", \"name\": \"SHROPSHIRE COMMUNITY HEALTH NHS TRUST\", \"date of death\": \"2020-02-29T00:00:00\", \"deaths\": 0, \"cumulative deaths\": 0}, {\"code\": \"R1D\", \"name\": \"SHROPSHIRE COMMUNITY HEALTH NHS TRUST\", \"date of death\": \"2020-03-01T00:00:00\", \"deaths\": 0, \"cumulative deaths\": 0}, {\"code\": \"R1D\", \"name\": \"SHROPSHIRE COMMUNITY HEALTH NHS TRUST\", \"date of death\": \"2020-03-02T00:00:00\", \"deaths\": 0, \"cumulative deaths\": 0}, {\"code\": \"R1D\", \"name\": \"SHROPSHIRE COMMUNITY HEALTH NHS TRUST\", \"date of death\": \"2020-03-03T00:00:00\", \"deaths\": 0, \"cumulative deaths\": 0}, {\"code\": \"R1D\", \"name\": \"SHROPSHIRE COMMUNITY HEALTH NHS TRUST\", \"date of death\": \"2020-03-04T00:00:00\", \"deaths\": 0, \"cumulative deaths\": 0}, {\"code\": \"R1D\", \"name\": \"SHROPSHIRE COMMUNITY HEALTH NHS TRUST\", \"date of death\": \"2020-03-05T00:00:00\", \"deaths\": 0, \"cumulative deaths\": 0}, {\"code\": \"R1D\", \"name\": \"SHROPSHIRE COMMUNITY HEALTH NHS TRUST\", \"date of death\": \"2020-03-06T00:00:00\", \"deaths\": 0, \"cumulative deaths\": 0}, {\"code\": \"R1D\", \"name\": \"SHROPSHIRE COMMUNITY HEALTH NHS TRUST\", \"date of death\": \"2020-03-07T00:00:00\", \"deaths\": 0, \"cumulative deaths\": 0}, {\"code\": \"R1D\", \"name\": \"SHROPSHIRE COMMUNITY HEALTH NHS TRUST\", \"date of death\": \"2020-03-08T00:00:00\", \"deaths\": 0, \"cumulative deaths\": 0}, {\"code\": \"R1D\", \"name\": \"SHROPSHIRE COMMUNITY HEALTH NHS TRUST\", \"date of death\": \"2020-03-09T00:00:00\", \"deaths\": 0, \"cumulative deaths\": 0}, {\"code\": \"R1D\", \"name\": \"SHROPSHIRE COMMUNITY HEALTH NHS TRUST\", \"date of death\": \"2020-03-10T00:00:00\", \"deaths\": 0, \"cumulative deaths\": 0}, {\"code\": \"R1D\", \"name\": \"SHROPSHIRE COMMUNITY HEALTH NHS TRUST\", \"date of death\": \"2020-03-11T00:00:00\", \"deaths\": 0, \"cumulative deaths\": 0}, {\"code\": \"R1D\", \"name\": \"SHROPSHIRE COMMUNITY HEALTH NHS TRUST\", \"date of death\": \"2020-03-12T00:00:00\", \"deaths\": 0, \"cumulative deaths\": 0}, {\"code\": \"R1D\", \"name\": \"SHROPSHIRE COMMUNITY HEALTH NHS TRUST\", \"date of death\": \"2020-03-13T00:00:00\", \"deaths\": 0, \"cumulative deaths\": 0}, {\"code\": \"R1D\", \"name\": \"SHROPSHIRE COMMUNITY HEALTH NHS TRUST\", \"date of death\": \"2020-03-14T00:00:00\", \"deaths\": 0, \"cumulative deaths\": 0}, {\"code\": \"R1D\", \"name\": \"SHROPSHIRE COMMUNITY HEALTH NHS TRUST\", \"date of death\": \"2020-03-15T00:00:00\", \"deaths\": 0, \"cumulative deaths\": 0}, {\"code\": \"R1D\", \"name\": \"SHROPSHIRE COMMUNITY HEALTH NHS TRUST\", \"date of death\": \"2020-03-16T00:00:00\", \"deaths\": 0, \"cumulative deaths\": 0}, {\"code\": \"R1D\", \"name\": \"SHROPSHIRE COMMUNITY HEALTH NHS TRUST\", \"date of death\": \"2020-03-17T00:00:00\", \"deaths\": 0, \"cumulative deaths\": 0}, {\"code\": \"R1D\", \"name\": \"SHROPSHIRE COMMUNITY HEALTH NHS TRUST\", \"date of death\": \"2020-03-18T00:00:00\", \"deaths\": 0, \"cumulative deaths\": 0}, {\"code\": \"R1D\", \"name\": \"SHROPSHIRE COMMUNITY HEALTH NHS TRUST\", \"date of death\": \"2020-03-19T00:00:00\", \"deaths\": 0, \"cumulative deaths\": 0}, {\"code\": \"R1D\", \"name\": \"SHROPSHIRE COMMUNITY HEALTH NHS TRUST\", \"date of death\": \"2020-03-20T00:00:00\", \"deaths\": 0, \"cumulative deaths\": 0}, {\"code\": \"R1D\", \"name\": \"SHROPSHIRE COMMUNITY HEALTH NHS TRUST\", \"date of death\": \"2020-03-21T00:00:00\", \"deaths\": 0, \"cumulative deaths\": 0}, {\"code\": \"R1D\", \"name\": \"SHROPSHIRE COMMUNITY HEALTH NHS TRUST\", \"date of death\": \"2020-03-22T00:00:00\", \"deaths\": 0, \"cumulative deaths\": 0}, {\"code\": \"R1D\", \"name\": \"SHROPSHIRE COMMUNITY HEALTH NHS TRUST\", \"date of death\": \"2020-03-23T00:00:00\", \"deaths\": 0, \"cumulative deaths\": 0}, {\"code\": \"R1D\", \"name\": \"SHROPSHIRE COMMUNITY HEALTH NHS TRUST\", \"date of death\": \"2020-03-24T00:00:00\", \"deaths\": 0, \"cumulative deaths\": 0}, {\"code\": \"R1D\", \"name\": \"SHROPSHIRE COMMUNITY HEALTH NHS TRUST\", \"date of death\": \"2020-03-25T00:00:00\", \"deaths\": 0, \"cumulative deaths\": 0}, {\"code\": \"R1D\", \"name\": \"SHROPSHIRE COMMUNITY HEALTH NHS TRUST\", \"date of death\": \"2020-03-26T00:00:00\", \"deaths\": 0, \"cumulative deaths\": 0}, {\"code\": \"R1D\", \"name\": \"SHROPSHIRE COMMUNITY HEALTH NHS TRUST\", \"date of death\": \"2020-03-27T00:00:00\", \"deaths\": 0, \"cumulative deaths\": 0}, {\"code\": \"R1D\", \"name\": \"SHROPSHIRE COMMUNITY HEALTH NHS TRUST\", \"date of death\": \"2020-03-28T00:00:00\", \"deaths\": 0, \"cumulative deaths\": 0}, {\"code\": \"R1D\", \"name\": \"SHROPSHIRE COMMUNITY HEALTH NHS TRUST\", \"date of death\": \"2020-03-29T00:00:00\", \"deaths\": 0, \"cumulative deaths\": 0}, {\"code\": \"R1D\", \"name\": \"SHROPSHIRE COMMUNITY HEALTH NHS TRUST\", \"date of death\": \"2020-03-30T00:00:00\", \"deaths\": 0, \"cumulative deaths\": 0}, {\"code\": \"R1D\", \"name\": \"SHROPSHIRE COMMUNITY HEALTH NHS TRUST\", \"date of death\": \"2020-03-31T00:00:00\", \"deaths\": 0, \"cumulative deaths\": 0}, {\"code\": \"R1D\", \"name\": \"SHROPSHIRE COMMUNITY HEALTH NHS TRUST\", \"date of death\": \"2020-04-01T00:00:00\", \"deaths\": 0, \"cumulative deaths\": 0}, {\"code\": \"R1D\", \"name\": \"SHROPSHIRE COMMUNITY HEALTH NHS TRUST\", \"date of death\": \"2020-04-02T00:00:00\", \"deaths\": 0, \"cumulative deaths\": 0}, {\"code\": \"R1D\", \"name\": \"SHROPSHIRE COMMUNITY HEALTH NHS TRUST\", \"date of death\": \"2020-04-03T00:00:00\", \"deaths\": 0, \"cumulative deaths\": 0}, {\"code\": \"R1D\", \"name\": \"SHROPSHIRE COMMUNITY HEALTH NHS TRUST\", \"date of death\": \"2020-04-04T00:00:00\", \"deaths\": 0, \"cumulative deaths\": 0}, {\"code\": \"R1D\", \"name\": \"SHROPSHIRE COMMUNITY HEALTH NHS TRUST\", \"date of death\": \"2020-04-05T00:00:00\", \"deaths\": 0, \"cumulative deaths\": 0}, {\"code\": \"R1D\", \"name\": \"SHROPSHIRE COMMUNITY HEALTH NHS TRUST\", \"date of death\": \"2020-04-06T00:00:00\", \"deaths\": 0, \"cumulative deaths\": 0}, {\"code\": \"R1D\", \"name\": \"SHROPSHIRE COMMUNITY HEALTH NHS TRUST\", \"date of death\": \"2020-04-07T00:00:00\", \"deaths\": 0, \"cumulative deaths\": 0}, {\"code\": \"R1D\", \"name\": \"SHROPSHIRE COMMUNITY HEALTH NHS TRUST\", \"date of death\": \"2020-04-08T00:00:00\", \"deaths\": 0, \"cumulative deaths\": 0}, {\"code\": \"R1D\", \"name\": \"SHROPSHIRE COMMUNITY HEALTH NHS TRUST\", \"date of death\": \"2020-04-09T00:00:00\", \"deaths\": 0, \"cumulative deaths\": 0}, {\"code\": \"R1D\", \"name\": \"SHROPSHIRE COMMUNITY HEALTH NHS TRUST\", \"date of death\": \"2020-04-10T00:00:00\", \"deaths\": 0, \"cumulative deaths\": 0}, {\"code\": \"R1D\", \"name\": \"SHROPSHIRE COMMUNITY HEALTH NHS TRUST\", \"date of death\": \"2020-04-11T00:00:00\", \"deaths\": 0, \"cumulative deaths\": 0}, {\"code\": \"R1D\", \"name\": \"SHROPSHIRE COMMUNITY HEALTH NHS TRUST\", \"date of death\": \"2020-04-12T00:00:00\", \"deaths\": 1, \"cumulative deaths\": 1}, {\"code\": \"R1D\", \"name\": \"SHROPSHIRE COMMUNITY HEALTH NHS TRUST\", \"date of death\": \"2020-04-13T00:00:00\", \"deaths\": 0, \"cumulative deaths\": 1}, {\"code\": \"R1D\", \"name\": \"SHROPSHIRE COMMUNITY HEALTH NHS TRUST\", \"date of death\": \"2020-04-14T00:00:00\", \"deaths\": 0, \"cumulative deaths\": 1}, {\"code\": \"R1D\", \"name\": \"SHROPSHIRE COMMUNITY HEALTH NHS TRUST\", \"date of death\": \"2020-04-15T00:00:00\", \"deaths\": 1, \"cumulative deaths\": 2}, {\"code\": \"R1D\", \"name\": \"SHROPSHIRE COMMUNITY HEALTH NHS TRUST\", \"date of death\": \"2020-04-16T00:00:00\", \"deaths\": 0, \"cumulative deaths\": 2}, {\"code\": \"R1D\", \"name\": \"SHROPSHIRE COMMUNITY HEALTH NHS TRUST\", \"date of death\": \"2020-04-17T00:00:00\", \"deaths\": 0, \"cumulative deaths\": 2}, {\"code\": \"R1D\", \"name\": \"SHROPSHIRE COMMUNITY HEALTH NHS TRUST\", \"date of death\": \"2020-04-18T00:00:00\", \"deaths\": 1, \"cumulative deaths\": 3}, {\"code\": \"R1D\", \"name\": \"SHROPSHIRE COMMUNITY HEALTH NHS TRUST\", \"date of death\": \"2020-04-19T00:00:00\", \"deaths\": 0, \"cumulative deaths\": 3}, {\"code\": \"RBK\", \"name\": \"WALSALL HEALTHCARE NHS TRUST\", \"date of death\": \"2020-02-29T00:00:00\", \"deaths\": 0, \"cumulative deaths\": 0}, {\"code\": \"RBK\", \"name\": \"WALSALL HEALTHCARE NHS TRUST\", \"date of death\": \"2020-03-01T00:00:00\", \"deaths\": 0, \"cumulative deaths\": 0}, {\"code\": \"RBK\", \"name\": \"WALSALL HEALTHCARE NHS TRUST\", \"date of death\": \"2020-03-02T00:00:00\", \"deaths\": 0, \"cumulative deaths\": 0}, {\"code\": \"RBK\", \"name\": \"WALSALL HEALTHCARE NHS TRUST\", \"date of death\": \"2020-03-03T00:00:00\", \"deaths\": 0, \"cumulative deaths\": 0}, {\"code\": \"RBK\", \"name\": \"WALSALL HEALTHCARE NHS TRUST\", \"date of death\": \"2020-03-04T00:00:00\", \"deaths\": 0, \"cumulative deaths\": 0}, {\"code\": \"RBK\", \"name\": \"WALSALL HEALTHCARE NHS TRUST\", \"date of death\": \"2020-03-05T00:00:00\", \"deaths\": 0, \"cumulative deaths\": 0}, {\"code\": \"RBK\", \"name\": \"WALSALL HEALTHCARE NHS TRUST\", \"date of death\": \"2020-03-06T00:00:00\", \"deaths\": 0, \"cumulative deaths\": 0}, {\"code\": \"RBK\", \"name\": \"WALSALL HEALTHCARE NHS TRUST\", \"date of death\": \"2020-03-07T00:00:00\", \"deaths\": 0, \"cumulative deaths\": 0}, {\"code\": \"RBK\", \"name\": \"WALSALL HEALTHCARE NHS TRUST\", \"date of death\": \"2020-03-08T00:00:00\", \"deaths\": 0, \"cumulative deaths\": 0}, {\"code\": \"RBK\", \"name\": \"WALSALL HEALTHCARE NHS TRUST\", \"date of death\": \"2020-03-09T00:00:00\", \"deaths\": 0, \"cumulative deaths\": 0}, {\"code\": \"RBK\", \"name\": \"WALSALL HEALTHCARE NHS TRUST\", \"date of death\": \"2020-03-10T00:00:00\", \"deaths\": 0, \"cumulative deaths\": 0}, {\"code\": \"RBK\", \"name\": \"WALSALL HEALTHCARE NHS TRUST\", \"date of death\": \"2020-03-11T00:00:00\", \"deaths\": 0, \"cumulative deaths\": 0}, {\"code\": \"RBK\", \"name\": \"WALSALL HEALTHCARE NHS TRUST\", \"date of death\": \"2020-03-12T00:00:00\", \"deaths\": 1, \"cumulative deaths\": 1}, {\"code\": \"RBK\", \"name\": \"WALSALL HEALTHCARE NHS TRUST\", \"date of death\": \"2020-03-13T00:00:00\", \"deaths\": 0, \"cumulative deaths\": 1}, {\"code\": \"RBK\", \"name\": \"WALSALL HEALTHCARE NHS TRUST\", \"date of death\": \"2020-03-14T00:00:00\", \"deaths\": 0, \"cumulative deaths\": 1}, {\"code\": \"RBK\", \"name\": \"WALSALL HEALTHCARE NHS TRUST\", \"date of death\": \"2020-03-15T00:00:00\", \"deaths\": 0, \"cumulative deaths\": 1}, {\"code\": \"RBK\", \"name\": \"WALSALL HEALTHCARE NHS TRUST\", \"date of death\": \"2020-03-16T00:00:00\", \"deaths\": 1, \"cumulative deaths\": 2}, {\"code\": \"RBK\", \"name\": \"WALSALL HEALTHCARE NHS TRUST\", \"date of death\": \"2020-03-17T00:00:00\", \"deaths\": 0, \"cumulative deaths\": 2}, {\"code\": \"RBK\", \"name\": \"WALSALL HEALTHCARE NHS TRUST\", \"date of death\": \"2020-03-18T00:00:00\", \"deaths\": 0, \"cumulative deaths\": 2}, {\"code\": \"RBK\", \"name\": \"WALSALL HEALTHCARE NHS TRUST\", \"date of death\": \"2020-03-19T00:00:00\", \"deaths\": 0, \"cumulative deaths\": 2}, {\"code\": \"RBK\", \"name\": \"WALSALL HEALTHCARE NHS TRUST\", \"date of death\": \"2020-03-20T00:00:00\", \"deaths\": 0, \"cumulative deaths\": 2}, {\"code\": \"RBK\", \"name\": \"WALSALL HEALTHCARE NHS TRUST\", \"date of death\": \"2020-03-21T00:00:00\", \"deaths\": 0, \"cumulative deaths\": 2}, {\"code\": \"RBK\", \"name\": \"WALSALL HEALTHCARE NHS TRUST\", \"date of death\": \"2020-03-22T00:00:00\", \"deaths\": 1, \"cumulative deaths\": 3}, {\"code\": \"RBK\", \"name\": \"WALSALL HEALTHCARE NHS TRUST\", \"date of death\": \"2020-03-23T00:00:00\", \"deaths\": 1, \"cumulative deaths\": 4}, {\"code\": \"RBK\", \"name\": \"WALSALL HEALTHCARE NHS TRUST\", \"date of death\": \"2020-03-24T00:00:00\", \"deaths\": 4, \"cumulative deaths\": 8}, {\"code\": \"RBK\", \"name\": \"WALSALL HEALTHCARE NHS TRUST\", \"date of death\": \"2020-03-25T00:00:00\", \"deaths\": 2, \"cumulative deaths\": 10}, {\"code\": \"RBK\", \"name\": \"WALSALL HEALTHCARE NHS TRUST\", \"date of death\": \"2020-03-26T00:00:00\", \"deaths\": 3, \"cumulative deaths\": 13}, {\"code\": \"RBK\", \"name\": \"WALSALL HEALTHCARE NHS TRUST\", \"date of death\": \"2020-03-27T00:00:00\", \"deaths\": 7, \"cumulative deaths\": 20}, {\"code\": \"RBK\", \"name\": \"WALSALL HEALTHCARE NHS TRUST\", \"date of death\": \"2020-03-28T00:00:00\", \"deaths\": 6, \"cumulative deaths\": 26}, {\"code\": \"RBK\", \"name\": \"WALSALL HEALTHCARE NHS TRUST\", \"date of death\": \"2020-03-29T00:00:00\", \"deaths\": 5, \"cumulative deaths\": 31}, {\"code\": \"RBK\", \"name\": \"WALSALL HEALTHCARE NHS TRUST\", \"date of death\": \"2020-03-30T00:00:00\", \"deaths\": 5, \"cumulative deaths\": 36}, {\"code\": \"RBK\", \"name\": \"WALSALL HEALTHCARE NHS TRUST\", \"date of death\": \"2020-03-31T00:00:00\", \"deaths\": 4, \"cumulative deaths\": 40}, {\"code\": \"RBK\", \"name\": \"WALSALL HEALTHCARE NHS TRUST\", \"date of death\": \"2020-04-01T00:00:00\", \"deaths\": 5, \"cumulative deaths\": 45}, {\"code\": \"RBK\", \"name\": \"WALSALL HEALTHCARE NHS TRUST\", \"date of death\": \"2020-04-02T00:00:00\", \"deaths\": 11, \"cumulative deaths\": 56}, {\"code\": \"RBK\", \"name\": \"WALSALL HEALTHCARE NHS TRUST\", \"date of death\": \"2020-04-03T00:00:00\", \"deaths\": 8, \"cumulative deaths\": 64}, {\"code\": \"RBK\", \"name\": \"WALSALL HEALTHCARE NHS TRUST\", \"date of death\": \"2020-04-04T00:00:00\", \"deaths\": 9, \"cumulative deaths\": 73}, {\"code\": \"RBK\", \"name\": \"WALSALL HEALTHCARE NHS TRUST\", \"date of death\": \"2020-04-05T00:00:00\", \"deaths\": 5, \"cumulative deaths\": 78}, {\"code\": \"RBK\", \"name\": \"WALSALL HEALTHCARE NHS TRUST\", \"date of death\": \"2020-04-06T00:00:00\", \"deaths\": 5, \"cumulative deaths\": 83}, {\"code\": \"RBK\", \"name\": \"WALSALL HEALTHCARE NHS TRUST\", \"date of death\": \"2020-04-07T00:00:00\", \"deaths\": 6, \"cumulative deaths\": 89}, {\"code\": \"RBK\", \"name\": \"WALSALL HEALTHCARE NHS TRUST\", \"date of death\": \"2020-04-08T00:00:00\", \"deaths\": 7, \"cumulative deaths\": 96}, {\"code\": \"RBK\", \"name\": \"WALSALL HEALTHCARE NHS TRUST\", \"date of death\": \"2020-04-09T00:00:00\", \"deaths\": 6, \"cumulative deaths\": 102}, {\"code\": \"RBK\", \"name\": \"WALSALL HEALTHCARE NHS TRUST\", \"date of death\": \"2020-04-10T00:00:00\", \"deaths\": 7, \"cumulative deaths\": 109}, {\"code\": \"RBK\", \"name\": \"WALSALL HEALTHCARE NHS TRUST\", \"date of death\": \"2020-04-11T00:00:00\", \"deaths\": 3, \"cumulative deaths\": 112}, {\"code\": \"RBK\", \"name\": \"WALSALL HEALTHCARE NHS TRUST\", \"date of death\": \"2020-04-12T00:00:00\", \"deaths\": 3, \"cumulative deaths\": 115}, {\"code\": \"RBK\", \"name\": \"WALSALL HEALTHCARE NHS TRUST\", \"date of death\": \"2020-04-13T00:00:00\", \"deaths\": 7, \"cumulative deaths\": 122}, {\"code\": \"RBK\", \"name\": \"WALSALL HEALTHCARE NHS TRUST\", \"date of death\": \"2020-04-14T00:00:00\", \"deaths\": 4, \"cumulative deaths\": 126}, {\"code\": \"RBK\", \"name\": \"WALSALL HEALTHCARE NHS TRUST\", \"date of death\": \"2020-04-15T00:00:00\", \"deaths\": 2, \"cumulative deaths\": 128}, {\"code\": \"RBK\", \"name\": \"WALSALL HEALTHCARE NHS TRUST\", \"date of death\": \"2020-04-16T00:00:00\", \"deaths\": 0, \"cumulative deaths\": 128}, {\"code\": \"RBK\", \"name\": \"WALSALL HEALTHCARE NHS TRUST\", \"date of death\": \"2020-04-17T00:00:00\", \"deaths\": 0, \"cumulative deaths\": 128}, {\"code\": \"RBK\", \"name\": \"WALSALL HEALTHCARE NHS TRUST\", \"date of death\": \"2020-04-18T00:00:00\", \"deaths\": 0, \"cumulative deaths\": 128}, {\"code\": \"RBK\", \"name\": \"WALSALL HEALTHCARE NHS TRUST\", \"date of death\": \"2020-04-19T00:00:00\", \"deaths\": 0, \"cumulative deaths\": 128}, {\"code\": \"RJE\", \"name\": \"UNIVERSITY HOSPITALS OF NORTH MIDLANDS NHS TRUST\", \"date of death\": \"2020-02-29T00:00:00\", \"deaths\": 0, \"cumulative deaths\": 0}, {\"code\": \"RJE\", \"name\": \"UNIVERSITY HOSPITALS OF NORTH MIDLANDS NHS TRUST\", \"date of death\": \"2020-03-01T00:00:00\", \"deaths\": 0, \"cumulative deaths\": 0}, {\"code\": \"RJE\", \"name\": \"UNIVERSITY HOSPITALS OF NORTH MIDLANDS NHS TRUST\", \"date of death\": \"2020-03-02T00:00:00\", \"deaths\": 0, \"cumulative deaths\": 0}, {\"code\": \"RJE\", \"name\": \"UNIVERSITY HOSPITALS OF NORTH MIDLANDS NHS TRUST\", \"date of death\": \"2020-03-03T00:00:00\", \"deaths\": 0, \"cumulative deaths\": 0}, {\"code\": \"RJE\", \"name\": \"UNIVERSITY HOSPITALS OF NORTH MIDLANDS NHS TRUST\", \"date of death\": \"2020-03-04T00:00:00\", \"deaths\": 0, \"cumulative deaths\": 0}, {\"code\": \"RJE\", \"name\": \"UNIVERSITY HOSPITALS OF NORTH MIDLANDS NHS TRUST\", \"date of death\": \"2020-03-05T00:00:00\", \"deaths\": 0, \"cumulative deaths\": 0}, {\"code\": \"RJE\", \"name\": \"UNIVERSITY HOSPITALS OF NORTH MIDLANDS NHS TRUST\", \"date of death\": \"2020-03-06T00:00:00\", \"deaths\": 0, \"cumulative deaths\": 0}, {\"code\": \"RJE\", \"name\": \"UNIVERSITY HOSPITALS OF NORTH MIDLANDS NHS TRUST\", \"date of death\": \"2020-03-07T00:00:00\", \"deaths\": 0, \"cumulative deaths\": 0}, {\"code\": \"RJE\", \"name\": \"UNIVERSITY HOSPITALS OF NORTH MIDLANDS NHS TRUST\", \"date of death\": \"2020-03-08T00:00:00\", \"deaths\": 0, \"cumulative deaths\": 0}, {\"code\": \"RJE\", \"name\": \"UNIVERSITY HOSPITALS OF NORTH MIDLANDS NHS TRUST\", \"date of death\": \"2020-03-09T00:00:00\", \"deaths\": 0, \"cumulative deaths\": 0}, {\"code\": \"RJE\", \"name\": \"UNIVERSITY HOSPITALS OF NORTH MIDLANDS NHS TRUST\", \"date of death\": \"2020-03-10T00:00:00\", \"deaths\": 0, \"cumulative deaths\": 0}, {\"code\": \"RJE\", \"name\": \"UNIVERSITY HOSPITALS OF NORTH MIDLANDS NHS TRUST\", \"date of death\": \"2020-03-11T00:00:00\", \"deaths\": 0, \"cumulative deaths\": 0}, {\"code\": \"RJE\", \"name\": \"UNIVERSITY HOSPITALS OF NORTH MIDLANDS NHS TRUST\", \"date of death\": \"2020-03-12T00:00:00\", \"deaths\": 0, \"cumulative deaths\": 0}, {\"code\": \"RJE\", \"name\": \"UNIVERSITY HOSPITALS OF NORTH MIDLANDS NHS TRUST\", \"date of death\": \"2020-03-13T00:00:00\", \"deaths\": 0, \"cumulative deaths\": 0}, {\"code\": \"RJE\", \"name\": \"UNIVERSITY HOSPITALS OF NORTH MIDLANDS NHS TRUST\", \"date of death\": \"2020-03-14T00:00:00\", \"deaths\": 0, \"cumulative deaths\": 0}, {\"code\": \"RJE\", \"name\": \"UNIVERSITY HOSPITALS OF NORTH MIDLANDS NHS TRUST\", \"date of death\": \"2020-03-15T00:00:00\", \"deaths\": 0, \"cumulative deaths\": 0}, {\"code\": \"RJE\", \"name\": \"UNIVERSITY HOSPITALS OF NORTH MIDLANDS NHS TRUST\", \"date of death\": \"2020-03-16T00:00:00\", \"deaths\": 0, \"cumulative deaths\": 0}, {\"code\": \"RJE\", \"name\": \"UNIVERSITY HOSPITALS OF NORTH MIDLANDS NHS TRUST\", \"date of death\": \"2020-03-17T00:00:00\", \"deaths\": 0, \"cumulative deaths\": 0}, {\"code\": \"RJE\", \"name\": \"UNIVERSITY HOSPITALS OF NORTH MIDLANDS NHS TRUST\", \"date of death\": \"2020-03-18T00:00:00\", \"deaths\": 0, \"cumulative deaths\": 0}, {\"code\": \"RJE\", \"name\": \"UNIVERSITY HOSPITALS OF NORTH MIDLANDS NHS TRUST\", \"date of death\": \"2020-03-19T00:00:00\", \"deaths\": 0, \"cumulative deaths\": 0}, {\"code\": \"RJE\", \"name\": \"UNIVERSITY HOSPITALS OF NORTH MIDLANDS NHS TRUST\", \"date of death\": \"2020-03-20T00:00:00\", \"deaths\": 3, \"cumulative deaths\": 3}, {\"code\": \"RJE\", \"name\": \"UNIVERSITY HOSPITALS OF NORTH MIDLANDS NHS TRUST\", \"date of death\": \"2020-03-21T00:00:00\", \"deaths\": 0, \"cumulative deaths\": 3}, {\"code\": \"RJE\", \"name\": \"UNIVERSITY HOSPITALS OF NORTH MIDLANDS NHS TRUST\", \"date of death\": \"2020-03-22T00:00:00\", \"deaths\": 0, \"cumulative deaths\": 3}, {\"code\": \"RJE\", \"name\": \"UNIVERSITY HOSPITALS OF NORTH MIDLANDS NHS TRUST\", \"date of death\": \"2020-03-23T00:00:00\", \"deaths\": 0, \"cumulative deaths\": 3}, {\"code\": \"RJE\", \"name\": \"UNIVERSITY HOSPITALS OF NORTH MIDLANDS NHS TRUST\", \"date of death\": \"2020-03-24T00:00:00\", \"deaths\": 0, \"cumulative deaths\": 3}, {\"code\": \"RJE\", \"name\": \"UNIVERSITY HOSPITALS OF NORTH MIDLANDS NHS TRUST\", \"date of death\": \"2020-03-25T00:00:00\", \"deaths\": 1, \"cumulative deaths\": 4}, {\"code\": \"RJE\", \"name\": \"UNIVERSITY HOSPITALS OF NORTH MIDLANDS NHS TRUST\", \"date of death\": \"2020-03-26T00:00:00\", \"deaths\": 2, \"cumulative deaths\": 6}, {\"code\": \"RJE\", \"name\": \"UNIVERSITY HOSPITALS OF NORTH MIDLANDS NHS TRUST\", \"date of death\": \"2020-03-27T00:00:00\", \"deaths\": 4, \"cumulative deaths\": 10}, {\"code\": \"RJE\", \"name\": \"UNIVERSITY HOSPITALS OF NORTH MIDLANDS NHS TRUST\", \"date of death\": \"2020-03-28T00:00:00\", \"deaths\": 2, \"cumulative deaths\": 12}, {\"code\": \"RJE\", \"name\": \"UNIVERSITY HOSPITALS OF NORTH MIDLANDS NHS TRUST\", \"date of death\": \"2020-03-29T00:00:00\", \"deaths\": 4, \"cumulative deaths\": 16}, {\"code\": \"RJE\", \"name\": \"UNIVERSITY HOSPITALS OF NORTH MIDLANDS NHS TRUST\", \"date of death\": \"2020-03-30T00:00:00\", \"deaths\": 4, \"cumulative deaths\": 20}, {\"code\": \"RJE\", \"name\": \"UNIVERSITY HOSPITALS OF NORTH MIDLANDS NHS TRUST\", \"date of death\": \"2020-03-31T00:00:00\", \"deaths\": 2, \"cumulative deaths\": 22}, {\"code\": \"RJE\", \"name\": \"UNIVERSITY HOSPITALS OF NORTH MIDLANDS NHS TRUST\", \"date of death\": \"2020-04-01T00:00:00\", \"deaths\": 8, \"cumulative deaths\": 30}, {\"code\": \"RJE\", \"name\": \"UNIVERSITY HOSPITALS OF NORTH MIDLANDS NHS TRUST\", \"date of death\": \"2020-04-02T00:00:00\", \"deaths\": 6, \"cumulative deaths\": 36}, {\"code\": \"RJE\", \"name\": \"UNIVERSITY HOSPITALS OF NORTH MIDLANDS NHS TRUST\", \"date of death\": \"2020-04-03T00:00:00\", \"deaths\": 9, \"cumulative deaths\": 45}, {\"code\": \"RJE\", \"name\": \"UNIVERSITY HOSPITALS OF NORTH MIDLANDS NHS TRUST\", \"date of death\": \"2020-04-04T00:00:00\", \"deaths\": 8, \"cumulative deaths\": 53}, {\"code\": \"RJE\", \"name\": \"UNIVERSITY HOSPITALS OF NORTH MIDLANDS NHS TRUST\", \"date of death\": \"2020-04-05T00:00:00\", \"deaths\": 7, \"cumulative deaths\": 60}, {\"code\": \"RJE\", \"name\": \"UNIVERSITY HOSPITALS OF NORTH MIDLANDS NHS TRUST\", \"date of death\": \"2020-04-06T00:00:00\", \"deaths\": 8, \"cumulative deaths\": 68}, {\"code\": \"RJE\", \"name\": \"UNIVERSITY HOSPITALS OF NORTH MIDLANDS NHS TRUST\", \"date of death\": \"2020-04-07T00:00:00\", \"deaths\": 1, \"cumulative deaths\": 69}, {\"code\": \"RJE\", \"name\": \"UNIVERSITY HOSPITALS OF NORTH MIDLANDS NHS TRUST\", \"date of death\": \"2020-04-08T00:00:00\", \"deaths\": 9, \"cumulative deaths\": 78}, {\"code\": \"RJE\", \"name\": \"UNIVERSITY HOSPITALS OF NORTH MIDLANDS NHS TRUST\", \"date of death\": \"2020-04-09T00:00:00\", \"deaths\": 5, \"cumulative deaths\": 83}, {\"code\": \"RJE\", \"name\": \"UNIVERSITY HOSPITALS OF NORTH MIDLANDS NHS TRUST\", \"date of death\": \"2020-04-10T00:00:00\", \"deaths\": 4, \"cumulative deaths\": 87}, {\"code\": \"RJE\", \"name\": \"UNIVERSITY HOSPITALS OF NORTH MIDLANDS NHS TRUST\", \"date of death\": \"2020-04-11T00:00:00\", \"deaths\": 5, \"cumulative deaths\": 92}, {\"code\": \"RJE\", \"name\": \"UNIVERSITY HOSPITALS OF NORTH MIDLANDS NHS TRUST\", \"date of death\": \"2020-04-12T00:00:00\", \"deaths\": 4, \"cumulative deaths\": 96}, {\"code\": \"RJE\", \"name\": \"UNIVERSITY HOSPITALS OF NORTH MIDLANDS NHS TRUST\", \"date of death\": \"2020-04-13T00:00:00\", \"deaths\": 3, \"cumulative deaths\": 99}, {\"code\": \"RJE\", \"name\": \"UNIVERSITY HOSPITALS OF NORTH MIDLANDS NHS TRUST\", \"date of death\": \"2020-04-14T00:00:00\", \"deaths\": 4, \"cumulative deaths\": 103}, {\"code\": \"RJE\", \"name\": \"UNIVERSITY HOSPITALS OF NORTH MIDLANDS NHS TRUST\", \"date of death\": \"2020-04-15T00:00:00\", \"deaths\": 10, \"cumulative deaths\": 113}, {\"code\": \"RJE\", \"name\": \"UNIVERSITY HOSPITALS OF NORTH MIDLANDS NHS TRUST\", \"date of death\": \"2020-04-16T00:00:00\", \"deaths\": 3, \"cumulative deaths\": 116}, {\"code\": \"RJE\", \"name\": \"UNIVERSITY HOSPITALS OF NORTH MIDLANDS NHS TRUST\", \"date of death\": \"2020-04-17T00:00:00\", \"deaths\": 6, \"cumulative deaths\": 122}, {\"code\": \"RJE\", \"name\": \"UNIVERSITY HOSPITALS OF NORTH MIDLANDS NHS TRUST\", \"date of death\": \"2020-04-18T00:00:00\", \"deaths\": 4, \"cumulative deaths\": 126}, {\"code\": \"RJE\", \"name\": \"UNIVERSITY HOSPITALS OF NORTH MIDLANDS NHS TRUST\", \"date of death\": \"2020-04-19T00:00:00\", \"deaths\": 1, \"cumulative deaths\": 127}, {\"code\": \"RL1\", \"name\": \"THE ROBERT JONES AND AGNES HUNT ORTHOPAEDIC HOSPITAL NHS FOUNDATION TRUST\", \"date of death\": \"2020-02-29T00:00:00\", \"deaths\": 0, \"cumulative deaths\": 0}, {\"code\": \"RL1\", \"name\": \"THE ROBERT JONES AND AGNES HUNT ORTHOPAEDIC HOSPITAL NHS FOUNDATION TRUST\", \"date of death\": \"2020-03-01T00:00:00\", \"deaths\": 0, \"cumulative deaths\": 0}, {\"code\": \"RL1\", \"name\": \"THE ROBERT JONES AND AGNES HUNT ORTHOPAEDIC HOSPITAL NHS FOUNDATION TRUST\", \"date of death\": \"2020-03-02T00:00:00\", \"deaths\": 0, \"cumulative deaths\": 0}, {\"code\": \"RL1\", \"name\": \"THE ROBERT JONES AND AGNES HUNT ORTHOPAEDIC HOSPITAL NHS FOUNDATION TRUST\", \"date of death\": \"2020-03-03T00:00:00\", \"deaths\": 0, \"cumulative deaths\": 0}, {\"code\": \"RL1\", \"name\": \"THE ROBERT JONES AND AGNES HUNT ORTHOPAEDIC HOSPITAL NHS FOUNDATION TRUST\", \"date of death\": \"2020-03-04T00:00:00\", \"deaths\": 0, \"cumulative deaths\": 0}, {\"code\": \"RL1\", \"name\": \"THE ROBERT JONES AND AGNES HUNT ORTHOPAEDIC HOSPITAL NHS FOUNDATION TRUST\", \"date of death\": \"2020-03-05T00:00:00\", \"deaths\": 0, \"cumulative deaths\": 0}, {\"code\": \"RL1\", \"name\": \"THE ROBERT JONES AND AGNES HUNT ORTHOPAEDIC HOSPITAL NHS FOUNDATION TRUST\", \"date of death\": \"2020-03-06T00:00:00\", \"deaths\": 0, \"cumulative deaths\": 0}, {\"code\": \"RL1\", \"name\": \"THE ROBERT JONES AND AGNES HUNT ORTHOPAEDIC HOSPITAL NHS FOUNDATION TRUST\", \"date of death\": \"2020-03-07T00:00:00\", \"deaths\": 0, \"cumulative deaths\": 0}, {\"code\": \"RL1\", \"name\": \"THE ROBERT JONES AND AGNES HUNT ORTHOPAEDIC HOSPITAL NHS FOUNDATION TRUST\", \"date of death\": \"2020-03-08T00:00:00\", \"deaths\": 0, \"cumulative deaths\": 0}, {\"code\": \"RL1\", \"name\": \"THE ROBERT JONES AND AGNES HUNT ORTHOPAEDIC HOSPITAL NHS FOUNDATION TRUST\", \"date of death\": \"2020-03-09T00:00:00\", \"deaths\": 0, \"cumulative deaths\": 0}, {\"code\": \"RL1\", \"name\": \"THE ROBERT JONES AND AGNES HUNT ORTHOPAEDIC HOSPITAL NHS FOUNDATION TRUST\", \"date of death\": \"2020-03-10T00:00:00\", \"deaths\": 0, \"cumulative deaths\": 0}, {\"code\": \"RL1\", \"name\": \"THE ROBERT JONES AND AGNES HUNT ORTHOPAEDIC HOSPITAL NHS FOUNDATION TRUST\", \"date of death\": \"2020-03-11T00:00:00\", \"deaths\": 0, \"cumulative deaths\": 0}, {\"code\": \"RL1\", \"name\": \"THE ROBERT JONES AND AGNES HUNT ORTHOPAEDIC HOSPITAL NHS FOUNDATION TRUST\", \"date of death\": \"2020-03-12T00:00:00\", \"deaths\": 0, \"cumulative deaths\": 0}, {\"code\": \"RL1\", \"name\": \"THE ROBERT JONES AND AGNES HUNT ORTHOPAEDIC HOSPITAL NHS FOUNDATION TRUST\", \"date of death\": \"2020-03-13T00:00:00\", \"deaths\": 0, \"cumulative deaths\": 0}, {\"code\": \"RL1\", \"name\": \"THE ROBERT JONES AND AGNES HUNT ORTHOPAEDIC HOSPITAL NHS FOUNDATION TRUST\", \"date of death\": \"2020-03-14T00:00:00\", \"deaths\": 0, \"cumulative deaths\": 0}, {\"code\": \"RL1\", \"name\": \"THE ROBERT JONES AND AGNES HUNT ORTHOPAEDIC HOSPITAL NHS FOUNDATION TRUST\", \"date of death\": \"2020-03-15T00:00:00\", \"deaths\": 0, \"cumulative deaths\": 0}, {\"code\": \"RL1\", \"name\": \"THE ROBERT JONES AND AGNES HUNT ORTHOPAEDIC HOSPITAL NHS FOUNDATION TRUST\", \"date of death\": \"2020-03-16T00:00:00\", \"deaths\": 0, \"cumulative deaths\": 0}, {\"code\": \"RL1\", \"name\": \"THE ROBERT JONES AND AGNES HUNT ORTHOPAEDIC HOSPITAL NHS FOUNDATION TRUST\", \"date of death\": \"2020-03-17T00:00:00\", \"deaths\": 0, \"cumulative deaths\": 0}, {\"code\": \"RL1\", \"name\": \"THE ROBERT JONES AND AGNES HUNT ORTHOPAEDIC HOSPITAL NHS FOUNDATION TRUST\", \"date of death\": \"2020-03-18T00:00:00\", \"deaths\": 0, \"cumulative deaths\": 0}, {\"code\": \"RL1\", \"name\": \"THE ROBERT JONES AND AGNES HUNT ORTHOPAEDIC HOSPITAL NHS FOUNDATION TRUST\", \"date of death\": \"2020-03-19T00:00:00\", \"deaths\": 0, \"cumulative deaths\": 0}, {\"code\": \"RL1\", \"name\": \"THE ROBERT JONES AND AGNES HUNT ORTHOPAEDIC HOSPITAL NHS FOUNDATION TRUST\", \"date of death\": \"2020-03-20T00:00:00\", \"deaths\": 0, \"cumulative deaths\": 0}, {\"code\": \"RL1\", \"name\": \"THE ROBERT JONES AND AGNES HUNT ORTHOPAEDIC HOSPITAL NHS FOUNDATION TRUST\", \"date of death\": \"2020-03-21T00:00:00\", \"deaths\": 0, \"cumulative deaths\": 0}, {\"code\": \"RL1\", \"name\": \"THE ROBERT JONES AND AGNES HUNT ORTHOPAEDIC HOSPITAL NHS FOUNDATION TRUST\", \"date of death\": \"2020-03-22T00:00:00\", \"deaths\": 0, \"cumulative deaths\": 0}, {\"code\": \"RL1\", \"name\": \"THE ROBERT JONES AND AGNES HUNT ORTHOPAEDIC HOSPITAL NHS FOUNDATION TRUST\", \"date of death\": \"2020-03-23T00:00:00\", \"deaths\": 0, \"cumulative deaths\": 0}, {\"code\": \"RL1\", \"name\": \"THE ROBERT JONES AND AGNES HUNT ORTHOPAEDIC HOSPITAL NHS FOUNDATION TRUST\", \"date of death\": \"2020-03-24T00:00:00\", \"deaths\": 0, \"cumulative deaths\": 0}, {\"code\": \"RL1\", \"name\": \"THE ROBERT JONES AND AGNES HUNT ORTHOPAEDIC HOSPITAL NHS FOUNDATION TRUST\", \"date of death\": \"2020-03-25T00:00:00\", \"deaths\": 0, \"cumulative deaths\": 0}, {\"code\": \"RL1\", \"name\": \"THE ROBERT JONES AND AGNES HUNT ORTHOPAEDIC HOSPITAL NHS FOUNDATION TRUST\", \"date of death\": \"2020-03-26T00:00:00\", \"deaths\": 0, \"cumulative deaths\": 0}, {\"code\": \"RL1\", \"name\": \"THE ROBERT JONES AND AGNES HUNT ORTHOPAEDIC HOSPITAL NHS FOUNDATION TRUST\", \"date of death\": \"2020-03-27T00:00:00\", \"deaths\": 0, \"cumulative deaths\": 0}, {\"code\": \"RL1\", \"name\": \"THE ROBERT JONES AND AGNES HUNT ORTHOPAEDIC HOSPITAL NHS FOUNDATION TRUST\", \"date of death\": \"2020-03-28T00:00:00\", \"deaths\": 0, \"cumulative deaths\": 0}, {\"code\": \"RL1\", \"name\": \"THE ROBERT JONES AND AGNES HUNT ORTHOPAEDIC HOSPITAL NHS FOUNDATION TRUST\", \"date of death\": \"2020-03-29T00:00:00\", \"deaths\": 0, \"cumulative deaths\": 0}, {\"code\": \"RL1\", \"name\": \"THE ROBERT JONES AND AGNES HUNT ORTHOPAEDIC HOSPITAL NHS FOUNDATION TRUST\", \"date of death\": \"2020-03-30T00:00:00\", \"deaths\": 0, \"cumulative deaths\": 0}, {\"code\": \"RL1\", \"name\": \"THE ROBERT JONES AND AGNES HUNT ORTHOPAEDIC HOSPITAL NHS FOUNDATION TRUST\", \"date of death\": \"2020-03-31T00:00:00\", \"deaths\": 0, \"cumulative deaths\": 0}, {\"code\": \"RL1\", \"name\": \"THE ROBERT JONES AND AGNES HUNT ORTHOPAEDIC HOSPITAL NHS FOUNDATION TRUST\", \"date of death\": \"2020-04-01T00:00:00\", \"deaths\": 0, \"cumulative deaths\": 0}, {\"code\": \"RL1\", \"name\": \"THE ROBERT JONES AND AGNES HUNT ORTHOPAEDIC HOSPITAL NHS FOUNDATION TRUST\", \"date of death\": \"2020-04-02T00:00:00\", \"deaths\": 0, \"cumulative deaths\": 0}, {\"code\": \"RL1\", \"name\": \"THE ROBERT JONES AND AGNES HUNT ORTHOPAEDIC HOSPITAL NHS FOUNDATION TRUST\", \"date of death\": \"2020-04-03T00:00:00\", \"deaths\": 0, \"cumulative deaths\": 0}, {\"code\": \"RL1\", \"name\": \"THE ROBERT JONES AND AGNES HUNT ORTHOPAEDIC HOSPITAL NHS FOUNDATION TRUST\", \"date of death\": \"2020-04-04T00:00:00\", \"deaths\": 1, \"cumulative deaths\": 1}, {\"code\": \"RL1\", \"name\": \"THE ROBERT JONES AND AGNES HUNT ORTHOPAEDIC HOSPITAL NHS FOUNDATION TRUST\", \"date of death\": \"2020-04-05T00:00:00\", \"deaths\": 0, \"cumulative deaths\": 1}, {\"code\": \"RL1\", \"name\": \"THE ROBERT JONES AND AGNES HUNT ORTHOPAEDIC HOSPITAL NHS FOUNDATION TRUST\", \"date of death\": \"2020-04-06T00:00:00\", \"deaths\": 0, \"cumulative deaths\": 1}, {\"code\": \"RL1\", \"name\": \"THE ROBERT JONES AND AGNES HUNT ORTHOPAEDIC HOSPITAL NHS FOUNDATION TRUST\", \"date of death\": \"2020-04-07T00:00:00\", \"deaths\": 0, \"cumulative deaths\": 1}, {\"code\": \"RL1\", \"name\": \"THE ROBERT JONES AND AGNES HUNT ORTHOPAEDIC HOSPITAL NHS FOUNDATION TRUST\", \"date of death\": \"2020-04-08T00:00:00\", \"deaths\": 0, \"cumulative deaths\": 1}, {\"code\": \"RL1\", \"name\": \"THE ROBERT JONES AND AGNES HUNT ORTHOPAEDIC HOSPITAL NHS FOUNDATION TRUST\", \"date of death\": \"2020-04-09T00:00:00\", \"deaths\": 1, \"cumulative deaths\": 2}, {\"code\": \"RL1\", \"name\": \"THE ROBERT JONES AND AGNES HUNT ORTHOPAEDIC HOSPITAL NHS FOUNDATION TRUST\", \"date of death\": \"2020-04-10T00:00:00\", \"deaths\": 0, \"cumulative deaths\": 2}, {\"code\": \"RL1\", \"name\": \"THE ROBERT JONES AND AGNES HUNT ORTHOPAEDIC HOSPITAL NHS FOUNDATION TRUST\", \"date of death\": \"2020-04-11T00:00:00\", \"deaths\": 0, \"cumulative deaths\": 2}, {\"code\": \"RL1\", \"name\": \"THE ROBERT JONES AND AGNES HUNT ORTHOPAEDIC HOSPITAL NHS FOUNDATION TRUST\", \"date of death\": \"2020-04-12T00:00:00\", \"deaths\": 0, \"cumulative deaths\": 2}, {\"code\": \"RL1\", \"name\": \"THE ROBERT JONES AND AGNES HUNT ORTHOPAEDIC HOSPITAL NHS FOUNDATION TRUST\", \"date of death\": \"2020-04-13T00:00:00\", \"deaths\": 0, \"cumulative deaths\": 2}, {\"code\": \"RL1\", \"name\": \"THE ROBERT JONES AND AGNES HUNT ORTHOPAEDIC HOSPITAL NHS FOUNDATION TRUST\", \"date of death\": \"2020-04-14T00:00:00\", \"deaths\": 0, \"cumulative deaths\": 2}, {\"code\": \"RL1\", \"name\": \"THE ROBERT JONES AND AGNES HUNT ORTHOPAEDIC HOSPITAL NHS FOUNDATION TRUST\", \"date of death\": \"2020-04-15T00:00:00\", \"deaths\": 0, \"cumulative deaths\": 2}, {\"code\": \"RL1\", \"name\": \"THE ROBERT JONES AND AGNES HUNT ORTHOPAEDIC HOSPITAL NHS FOUNDATION TRUST\", \"date of death\": \"2020-04-16T00:00:00\", \"deaths\": 0, \"cumulative deaths\": 2}, {\"code\": \"RL1\", \"name\": \"THE ROBERT JONES AND AGNES HUNT ORTHOPAEDIC HOSPITAL NHS FOUNDATION TRUST\", \"date of death\": \"2020-04-17T00:00:00\", \"deaths\": 0, \"cumulative deaths\": 2}, {\"code\": \"RL1\", \"name\": \"THE ROBERT JONES AND AGNES HUNT ORTHOPAEDIC HOSPITAL NHS FOUNDATION TRUST\", \"date of death\": \"2020-04-18T00:00:00\", \"deaths\": 0, \"cumulative deaths\": 2}, {\"code\": \"RL1\", \"name\": \"THE ROBERT JONES AND AGNES HUNT ORTHOPAEDIC HOSPITAL NHS FOUNDATION TRUST\", \"date of death\": \"2020-04-19T00:00:00\", \"deaths\": 0, \"cumulative deaths\": 2}, {\"code\": \"RL4\", \"name\": \"THE ROYAL WOLVERHAMPTON NHS TRUST\", \"date of death\": \"2020-02-29T00:00:00\", \"deaths\": 0, \"cumulative deaths\": 0}, {\"code\": \"RL4\", \"name\": \"THE ROYAL WOLVERHAMPTON NHS TRUST\", \"date of death\": \"2020-03-01T00:00:00\", \"deaths\": 0, \"cumulative deaths\": 0}, {\"code\": \"RL4\", \"name\": \"THE ROYAL WOLVERHAMPTON NHS TRUST\", \"date of death\": \"2020-03-02T00:00:00\", \"deaths\": 0, \"cumulative deaths\": 0}, {\"code\": \"RL4\", \"name\": \"THE ROYAL WOLVERHAMPTON NHS TRUST\", \"date of death\": \"2020-03-03T00:00:00\", \"deaths\": 0, \"cumulative deaths\": 0}, {\"code\": \"RL4\", \"name\": \"THE ROYAL WOLVERHAMPTON NHS TRUST\", \"date of death\": \"2020-03-04T00:00:00\", \"deaths\": 0, \"cumulative deaths\": 0}, {\"code\": \"RL4\", \"name\": \"THE ROYAL WOLVERHAMPTON NHS TRUST\", \"date of death\": \"2020-03-05T00:00:00\", \"deaths\": 0, \"cumulative deaths\": 0}, {\"code\": \"RL4\", \"name\": \"THE ROYAL WOLVERHAMPTON NHS TRUST\", \"date of death\": \"2020-03-06T00:00:00\", \"deaths\": 0, \"cumulative deaths\": 0}, {\"code\": \"RL4\", \"name\": \"THE ROYAL WOLVERHAMPTON NHS TRUST\", \"date of death\": \"2020-03-07T00:00:00\", \"deaths\": 0, \"cumulative deaths\": 0}, {\"code\": \"RL4\", \"name\": \"THE ROYAL WOLVERHAMPTON NHS TRUST\", \"date of death\": \"2020-03-08T00:00:00\", \"deaths\": 2, \"cumulative deaths\": 2}, {\"code\": \"RL4\", \"name\": \"THE ROYAL WOLVERHAMPTON NHS TRUST\", \"date of death\": \"2020-03-09T00:00:00\", \"deaths\": 0, \"cumulative deaths\": 2}, {\"code\": \"RL4\", \"name\": \"THE ROYAL WOLVERHAMPTON NHS TRUST\", \"date of death\": \"2020-03-10T00:00:00\", \"deaths\": 0, \"cumulative deaths\": 2}, {\"code\": \"RL4\", \"name\": \"THE ROYAL WOLVERHAMPTON NHS TRUST\", \"date of death\": \"2020-03-11T00:00:00\", \"deaths\": 0, \"cumulative deaths\": 2}, {\"code\": \"RL4\", \"name\": \"THE ROYAL WOLVERHAMPTON NHS TRUST\", \"date of death\": \"2020-03-12T00:00:00\", \"deaths\": 1, \"cumulative deaths\": 3}, {\"code\": \"RL4\", \"name\": \"THE ROYAL WOLVERHAMPTON NHS TRUST\", \"date of death\": \"2020-03-13T00:00:00\", \"deaths\": 0, \"cumulative deaths\": 3}, {\"code\": \"RL4\", \"name\": \"THE ROYAL WOLVERHAMPTON NHS TRUST\", \"date of death\": \"2020-03-14T00:00:00\", \"deaths\": 2, \"cumulative deaths\": 5}, {\"code\": \"RL4\", \"name\": \"THE ROYAL WOLVERHAMPTON NHS TRUST\", \"date of death\": \"2020-03-15T00:00:00\", \"deaths\": 1, \"cumulative deaths\": 6}, {\"code\": \"RL4\", \"name\": \"THE ROYAL WOLVERHAMPTON NHS TRUST\", \"date of death\": \"2020-03-16T00:00:00\", \"deaths\": 1, \"cumulative deaths\": 7}, {\"code\": \"RL4\", \"name\": \"THE ROYAL WOLVERHAMPTON NHS TRUST\", \"date of death\": \"2020-03-17T00:00:00\", \"deaths\": 4, \"cumulative deaths\": 11}, {\"code\": \"RL4\", \"name\": \"THE ROYAL WOLVERHAMPTON NHS TRUST\", \"date of death\": \"2020-03-18T00:00:00\", \"deaths\": 1, \"cumulative deaths\": 12}, {\"code\": \"RL4\", \"name\": \"THE ROYAL WOLVERHAMPTON NHS TRUST\", \"date of death\": \"2020-03-19T00:00:00\", \"deaths\": 1, \"cumulative deaths\": 13}, {\"code\": \"RL4\", \"name\": \"THE ROYAL WOLVERHAMPTON NHS TRUST\", \"date of death\": \"2020-03-20T00:00:00\", \"deaths\": 6, \"cumulative deaths\": 19}, {\"code\": \"RL4\", \"name\": \"THE ROYAL WOLVERHAMPTON NHS TRUST\", \"date of death\": \"2020-03-21T00:00:00\", \"deaths\": 1, \"cumulative deaths\": 20}, {\"code\": \"RL4\", \"name\": \"THE ROYAL WOLVERHAMPTON NHS TRUST\", \"date of death\": \"2020-03-22T00:00:00\", \"deaths\": 2, \"cumulative deaths\": 22}, {\"code\": \"RL4\", \"name\": \"THE ROYAL WOLVERHAMPTON NHS TRUST\", \"date of death\": \"2020-03-23T00:00:00\", \"deaths\": 5, \"cumulative deaths\": 27}, {\"code\": \"RL4\", \"name\": \"THE ROYAL WOLVERHAMPTON NHS TRUST\", \"date of death\": \"2020-03-24T00:00:00\", \"deaths\": 4, \"cumulative deaths\": 31}, {\"code\": \"RL4\", \"name\": \"THE ROYAL WOLVERHAMPTON NHS TRUST\", \"date of death\": \"2020-03-25T00:00:00\", \"deaths\": 7, \"cumulative deaths\": 38}, {\"code\": \"RL4\", \"name\": \"THE ROYAL WOLVERHAMPTON NHS TRUST\", \"date of death\": \"2020-03-26T00:00:00\", \"deaths\": 3, \"cumulative deaths\": 41}, {\"code\": \"RL4\", \"name\": \"THE ROYAL WOLVERHAMPTON NHS TRUST\", \"date of death\": \"2020-03-27T00:00:00\", \"deaths\": 2, \"cumulative deaths\": 43}, {\"code\": \"RL4\", \"name\": \"THE ROYAL WOLVERHAMPTON NHS TRUST\", \"date of death\": \"2020-03-28T00:00:00\", \"deaths\": 8, \"cumulative deaths\": 51}, {\"code\": \"RL4\", \"name\": \"THE ROYAL WOLVERHAMPTON NHS TRUST\", \"date of death\": \"2020-03-29T00:00:00\", \"deaths\": 6, \"cumulative deaths\": 57}, {\"code\": \"RL4\", \"name\": \"THE ROYAL WOLVERHAMPTON NHS TRUST\", \"date of death\": \"2020-03-30T00:00:00\", \"deaths\": 7, \"cumulative deaths\": 64}, {\"code\": \"RL4\", \"name\": \"THE ROYAL WOLVERHAMPTON NHS TRUST\", \"date of death\": \"2020-03-31T00:00:00\", \"deaths\": 3, \"cumulative deaths\": 67}, {\"code\": \"RL4\", \"name\": \"THE ROYAL WOLVERHAMPTON NHS TRUST\", \"date of death\": \"2020-04-01T00:00:00\", \"deaths\": 13, \"cumulative deaths\": 80}, {\"code\": \"RL4\", \"name\": \"THE ROYAL WOLVERHAMPTON NHS TRUST\", \"date of death\": \"2020-04-02T00:00:00\", \"deaths\": 10, \"cumulative deaths\": 90}, {\"code\": \"RL4\", \"name\": \"THE ROYAL WOLVERHAMPTON NHS TRUST\", \"date of death\": \"2020-04-03T00:00:00\", \"deaths\": 8, \"cumulative deaths\": 98}, {\"code\": \"RL4\", \"name\": \"THE ROYAL WOLVERHAMPTON NHS TRUST\", \"date of death\": \"2020-04-04T00:00:00\", \"deaths\": 9, \"cumulative deaths\": 107}, {\"code\": \"RL4\", \"name\": \"THE ROYAL WOLVERHAMPTON NHS TRUST\", \"date of death\": \"2020-04-05T00:00:00\", \"deaths\": 7, \"cumulative deaths\": 114}, {\"code\": \"RL4\", \"name\": \"THE ROYAL WOLVERHAMPTON NHS TRUST\", \"date of death\": \"2020-04-06T00:00:00\", \"deaths\": 6, \"cumulative deaths\": 120}, {\"code\": \"RL4\", \"name\": \"THE ROYAL WOLVERHAMPTON NHS TRUST\", \"date of death\": \"2020-04-07T00:00:00\", \"deaths\": 6, \"cumulative deaths\": 126}, {\"code\": \"RL4\", \"name\": \"THE ROYAL WOLVERHAMPTON NHS TRUST\", \"date of death\": \"2020-04-08T00:00:00\", \"deaths\": 8, \"cumulative deaths\": 134}, {\"code\": \"RL4\", \"name\": \"THE ROYAL WOLVERHAMPTON NHS TRUST\", \"date of death\": \"2020-04-09T00:00:00\", \"deaths\": 8, \"cumulative deaths\": 142}, {\"code\": \"RL4\", \"name\": \"THE ROYAL WOLVERHAMPTON NHS TRUST\", \"date of death\": \"2020-04-10T00:00:00\", \"deaths\": 10, \"cumulative deaths\": 152}, {\"code\": \"RL4\", \"name\": \"THE ROYAL WOLVERHAMPTON NHS TRUST\", \"date of death\": \"2020-04-11T00:00:00\", \"deaths\": 9, \"cumulative deaths\": 161}, {\"code\": \"RL4\", \"name\": \"THE ROYAL WOLVERHAMPTON NHS TRUST\", \"date of death\": \"2020-04-12T00:00:00\", \"deaths\": 6, \"cumulative deaths\": 167}, {\"code\": \"RL4\", \"name\": \"THE ROYAL WOLVERHAMPTON NHS TRUST\", \"date of death\": \"2020-04-13T00:00:00\", \"deaths\": 8, \"cumulative deaths\": 175}, {\"code\": \"RL4\", \"name\": \"THE ROYAL WOLVERHAMPTON NHS TRUST\", \"date of death\": \"2020-04-14T00:00:00\", \"deaths\": 7, \"cumulative deaths\": 182}, {\"code\": \"RL4\", \"name\": \"THE ROYAL WOLVERHAMPTON NHS TRUST\", \"date of death\": \"2020-04-15T00:00:00\", \"deaths\": 6, \"cumulative deaths\": 188}, {\"code\": \"RL4\", \"name\": \"THE ROYAL WOLVERHAMPTON NHS TRUST\", \"date of death\": \"2020-04-16T00:00:00\", \"deaths\": 7, \"cumulative deaths\": 195}, {\"code\": \"RL4\", \"name\": \"THE ROYAL WOLVERHAMPTON NHS TRUST\", \"date of death\": \"2020-04-17T00:00:00\", \"deaths\": 9, \"cumulative deaths\": 204}, {\"code\": \"RL4\", \"name\": \"THE ROYAL WOLVERHAMPTON NHS TRUST\", \"date of death\": \"2020-04-18T00:00:00\", \"deaths\": 2, \"cumulative deaths\": 206}, {\"code\": \"RL4\", \"name\": \"THE ROYAL WOLVERHAMPTON NHS TRUST\", \"date of death\": \"2020-04-19T00:00:00\", \"deaths\": 1, \"cumulative deaths\": 207}, {\"code\": \"RLY\", \"name\": \"NORTH STAFFORDSHIRE COMBINED HEALTHCARE NHS TRUST\", \"date of death\": \"2020-02-29T00:00:00\", \"deaths\": 0, \"cumulative deaths\": 0}, {\"code\": \"RLY\", \"name\": \"NORTH STAFFORDSHIRE COMBINED HEALTHCARE NHS TRUST\", \"date of death\": \"2020-03-01T00:00:00\", \"deaths\": 0, \"cumulative deaths\": 0}, {\"code\": \"RLY\", \"name\": \"NORTH STAFFORDSHIRE COMBINED HEALTHCARE NHS TRUST\", \"date of death\": \"2020-03-02T00:00:00\", \"deaths\": 0, \"cumulative deaths\": 0}, {\"code\": \"RLY\", \"name\": \"NORTH STAFFORDSHIRE COMBINED HEALTHCARE NHS TRUST\", \"date of death\": \"2020-03-03T00:00:00\", \"deaths\": 0, \"cumulative deaths\": 0}, {\"code\": \"RLY\", \"name\": \"NORTH STAFFORDSHIRE COMBINED HEALTHCARE NHS TRUST\", \"date of death\": \"2020-03-04T00:00:00\", \"deaths\": 0, \"cumulative deaths\": 0}, {\"code\": \"RLY\", \"name\": \"NORTH STAFFORDSHIRE COMBINED HEALTHCARE NHS TRUST\", \"date of death\": \"2020-03-05T00:00:00\", \"deaths\": 0, \"cumulative deaths\": 0}, {\"code\": \"RLY\", \"name\": \"NORTH STAFFORDSHIRE COMBINED HEALTHCARE NHS TRUST\", \"date of death\": \"2020-03-06T00:00:00\", \"deaths\": 0, \"cumulative deaths\": 0}, {\"code\": \"RLY\", \"name\": \"NORTH STAFFORDSHIRE COMBINED HEALTHCARE NHS TRUST\", \"date of death\": \"2020-03-07T00:00:00\", \"deaths\": 0, \"cumulative deaths\": 0}, {\"code\": \"RLY\", \"name\": \"NORTH STAFFORDSHIRE COMBINED HEALTHCARE NHS TRUST\", \"date of death\": \"2020-03-08T00:00:00\", \"deaths\": 0, \"cumulative deaths\": 0}, {\"code\": \"RLY\", \"name\": \"NORTH STAFFORDSHIRE COMBINED HEALTHCARE NHS TRUST\", \"date of death\": \"2020-03-09T00:00:00\", \"deaths\": 0, \"cumulative deaths\": 0}, {\"code\": \"RLY\", \"name\": \"NORTH STAFFORDSHIRE COMBINED HEALTHCARE NHS TRUST\", \"date of death\": \"2020-03-10T00:00:00\", \"deaths\": 0, \"cumulative deaths\": 0}, {\"code\": \"RLY\", \"name\": \"NORTH STAFFORDSHIRE COMBINED HEALTHCARE NHS TRUST\", \"date of death\": \"2020-03-11T00:00:00\", \"deaths\": 0, \"cumulative deaths\": 0}, {\"code\": \"RLY\", \"name\": \"NORTH STAFFORDSHIRE COMBINED HEALTHCARE NHS TRUST\", \"date of death\": \"2020-03-12T00:00:00\", \"deaths\": 0, \"cumulative deaths\": 0}, {\"code\": \"RLY\", \"name\": \"NORTH STAFFORDSHIRE COMBINED HEALTHCARE NHS TRUST\", \"date of death\": \"2020-03-13T00:00:00\", \"deaths\": 0, \"cumulative deaths\": 0}, {\"code\": \"RLY\", \"name\": \"NORTH STAFFORDSHIRE COMBINED HEALTHCARE NHS TRUST\", \"date of death\": \"2020-03-14T00:00:00\", \"deaths\": 0, \"cumulative deaths\": 0}, {\"code\": \"RLY\", \"name\": \"NORTH STAFFORDSHIRE COMBINED HEALTHCARE NHS TRUST\", \"date of death\": \"2020-03-15T00:00:00\", \"deaths\": 0, \"cumulative deaths\": 0}, {\"code\": \"RLY\", \"name\": \"NORTH STAFFORDSHIRE COMBINED HEALTHCARE NHS TRUST\", \"date of death\": \"2020-03-16T00:00:00\", \"deaths\": 0, \"cumulative deaths\": 0}, {\"code\": \"RLY\", \"name\": \"NORTH STAFFORDSHIRE COMBINED HEALTHCARE NHS TRUST\", \"date of death\": \"2020-03-17T00:00:00\", \"deaths\": 0, \"cumulative deaths\": 0}, {\"code\": \"RLY\", \"name\": \"NORTH STAFFORDSHIRE COMBINED HEALTHCARE NHS TRUST\", \"date of death\": \"2020-03-18T00:00:00\", \"deaths\": 0, \"cumulative deaths\": 0}, {\"code\": \"RLY\", \"name\": \"NORTH STAFFORDSHIRE COMBINED HEALTHCARE NHS TRUST\", \"date of death\": \"2020-03-19T00:00:00\", \"deaths\": 0, \"cumulative deaths\": 0}, {\"code\": \"RLY\", \"name\": \"NORTH STAFFORDSHIRE COMBINED HEALTHCARE NHS TRUST\", \"date of death\": \"2020-03-20T00:00:00\", \"deaths\": 0, \"cumulative deaths\": 0}, {\"code\": \"RLY\", \"name\": \"NORTH STAFFORDSHIRE COMBINED HEALTHCARE NHS TRUST\", \"date of death\": \"2020-03-21T00:00:00\", \"deaths\": 0, \"cumulative deaths\": 0}, {\"code\": \"RLY\", \"name\": \"NORTH STAFFORDSHIRE COMBINED HEALTHCARE NHS TRUST\", \"date of death\": \"2020-03-22T00:00:00\", \"deaths\": 0, \"cumulative deaths\": 0}, {\"code\": \"RLY\", \"name\": \"NORTH STAFFORDSHIRE COMBINED HEALTHCARE NHS TRUST\", \"date of death\": \"2020-03-23T00:00:00\", \"deaths\": 0, \"cumulative deaths\": 0}, {\"code\": \"RLY\", \"name\": \"NORTH STAFFORDSHIRE COMBINED HEALTHCARE NHS TRUST\", \"date of death\": \"2020-03-24T00:00:00\", \"deaths\": 0, \"cumulative deaths\": 0}, {\"code\": \"RLY\", \"name\": \"NORTH STAFFORDSHIRE COMBINED HEALTHCARE NHS TRUST\", \"date of death\": \"2020-03-25T00:00:00\", \"deaths\": 0, \"cumulative deaths\": 0}, {\"code\": \"RLY\", \"name\": \"NORTH STAFFORDSHIRE COMBINED HEALTHCARE NHS TRUST\", \"date of death\": \"2020-03-26T00:00:00\", \"deaths\": 0, \"cumulative deaths\": 0}, {\"code\": \"RLY\", \"name\": \"NORTH STAFFORDSHIRE COMBINED HEALTHCARE NHS TRUST\", \"date of death\": \"2020-03-27T00:00:00\", \"deaths\": 0, \"cumulative deaths\": 0}, {\"code\": \"RLY\", \"name\": \"NORTH STAFFORDSHIRE COMBINED HEALTHCARE NHS TRUST\", \"date of death\": \"2020-03-28T00:00:00\", \"deaths\": 0, \"cumulative deaths\": 0}, {\"code\": \"RLY\", \"name\": \"NORTH STAFFORDSHIRE COMBINED HEALTHCARE NHS TRUST\", \"date of death\": \"2020-03-29T00:00:00\", \"deaths\": 0, \"cumulative deaths\": 0}, {\"code\": \"RLY\", \"name\": \"NORTH STAFFORDSHIRE COMBINED HEALTHCARE NHS TRUST\", \"date of death\": \"2020-03-30T00:00:00\", \"deaths\": 0, \"cumulative deaths\": 0}, {\"code\": \"RLY\", \"name\": \"NORTH STAFFORDSHIRE COMBINED HEALTHCARE NHS TRUST\", \"date of death\": \"2020-03-31T00:00:00\", \"deaths\": 0, \"cumulative deaths\": 0}, {\"code\": \"RLY\", \"name\": \"NORTH STAFFORDSHIRE COMBINED HEALTHCARE NHS TRUST\", \"date of death\": \"2020-04-01T00:00:00\", \"deaths\": 0, \"cumulative deaths\": 0}, {\"code\": \"RLY\", \"name\": \"NORTH STAFFORDSHIRE COMBINED HEALTHCARE NHS TRUST\", \"date of death\": \"2020-04-02T00:00:00\", \"deaths\": 0, \"cumulative deaths\": 0}, {\"code\": \"RLY\", \"name\": \"NORTH STAFFORDSHIRE COMBINED HEALTHCARE NHS TRUST\", \"date of death\": \"2020-04-03T00:00:00\", \"deaths\": 0, \"cumulative deaths\": 0}, {\"code\": \"RLY\", \"name\": \"NORTH STAFFORDSHIRE COMBINED HEALTHCARE NHS TRUST\", \"date of death\": \"2020-04-04T00:00:00\", \"deaths\": 0, \"cumulative deaths\": 0}, {\"code\": \"RLY\", \"name\": \"NORTH STAFFORDSHIRE COMBINED HEALTHCARE NHS TRUST\", \"date of death\": \"2020-04-05T00:00:00\", \"deaths\": 0, \"cumulative deaths\": 0}, {\"code\": \"RLY\", \"name\": \"NORTH STAFFORDSHIRE COMBINED HEALTHCARE NHS TRUST\", \"date of death\": \"2020-04-06T00:00:00\", \"deaths\": 0, \"cumulative deaths\": 0}, {\"code\": \"RLY\", \"name\": \"NORTH STAFFORDSHIRE COMBINED HEALTHCARE NHS TRUST\", \"date of death\": \"2020-04-07T00:00:00\", \"deaths\": 0, \"cumulative deaths\": 0}, {\"code\": \"RLY\", \"name\": \"NORTH STAFFORDSHIRE COMBINED HEALTHCARE NHS TRUST\", \"date of death\": \"2020-04-08T00:00:00\", \"deaths\": 0, \"cumulative deaths\": 0}, {\"code\": \"RLY\", \"name\": \"NORTH STAFFORDSHIRE COMBINED HEALTHCARE NHS TRUST\", \"date of death\": \"2020-04-09T00:00:00\", \"deaths\": 0, \"cumulative deaths\": 0}, {\"code\": \"RLY\", \"name\": \"NORTH STAFFORDSHIRE COMBINED HEALTHCARE NHS TRUST\", \"date of death\": \"2020-04-10T00:00:00\", \"deaths\": 0, \"cumulative deaths\": 0}, {\"code\": \"RLY\", \"name\": \"NORTH STAFFORDSHIRE COMBINED HEALTHCARE NHS TRUST\", \"date of death\": \"2020-04-11T00:00:00\", \"deaths\": 0, \"cumulative deaths\": 0}, {\"code\": \"RLY\", \"name\": \"NORTH STAFFORDSHIRE COMBINED HEALTHCARE NHS TRUST\", \"date of death\": \"2020-04-12T00:00:00\", \"deaths\": 1, \"cumulative deaths\": 1}, {\"code\": \"RLY\", \"name\": \"NORTH STAFFORDSHIRE COMBINED HEALTHCARE NHS TRUST\", \"date of death\": \"2020-04-13T00:00:00\", \"deaths\": 0, \"cumulative deaths\": 1}, {\"code\": \"RLY\", \"name\": \"NORTH STAFFORDSHIRE COMBINED HEALTHCARE NHS TRUST\", \"date of death\": \"2020-04-14T00:00:00\", \"deaths\": 0, \"cumulative deaths\": 1}, {\"code\": \"RLY\", \"name\": \"NORTH STAFFORDSHIRE COMBINED HEALTHCARE NHS TRUST\", \"date of death\": \"2020-04-15T00:00:00\", \"deaths\": 0, \"cumulative deaths\": 1}, {\"code\": \"RLY\", \"name\": \"NORTH STAFFORDSHIRE COMBINED HEALTHCARE NHS TRUST\", \"date of death\": \"2020-04-16T00:00:00\", \"deaths\": 0, \"cumulative deaths\": 1}, {\"code\": \"RLY\", \"name\": \"NORTH STAFFORDSHIRE COMBINED HEALTHCARE NHS TRUST\", \"date of death\": \"2020-04-17T00:00:00\", \"deaths\": 0, \"cumulative deaths\": 1}, {\"code\": \"RLY\", \"name\": \"NORTH STAFFORDSHIRE COMBINED HEALTHCARE NHS TRUST\", \"date of death\": \"2020-04-18T00:00:00\", \"deaths\": 0, \"cumulative deaths\": 1}, {\"code\": \"RLY\", \"name\": \"NORTH STAFFORDSHIRE COMBINED HEALTHCARE NHS TRUST\", \"date of death\": \"2020-04-19T00:00:00\", \"deaths\": 0, \"cumulative deaths\": 1}, {\"code\": \"RNA\", \"name\": \"THE DUDLEY GROUP NHS FOUNDATION TRUST\", \"date of death\": \"2020-02-29T00:00:00\", \"deaths\": 0, \"cumulative deaths\": 0}, {\"code\": \"RNA\", \"name\": \"THE DUDLEY GROUP NHS FOUNDATION TRUST\", \"date of death\": \"2020-03-01T00:00:00\", \"deaths\": 0, \"cumulative deaths\": 0}, {\"code\": \"RNA\", \"name\": \"THE DUDLEY GROUP NHS FOUNDATION TRUST\", \"date of death\": \"2020-03-02T00:00:00\", \"deaths\": 0, \"cumulative deaths\": 0}, {\"code\": \"RNA\", \"name\": \"THE DUDLEY GROUP NHS FOUNDATION TRUST\", \"date of death\": \"2020-03-03T00:00:00\", \"deaths\": 0, \"cumulative deaths\": 0}, {\"code\": \"RNA\", \"name\": \"THE DUDLEY GROUP NHS FOUNDATION TRUST\", \"date of death\": \"2020-03-04T00:00:00\", \"deaths\": 0, \"cumulative deaths\": 0}, {\"code\": \"RNA\", \"name\": \"THE DUDLEY GROUP NHS FOUNDATION TRUST\", \"date of death\": \"2020-03-05T00:00:00\", \"deaths\": 0, \"cumulative deaths\": 0}, {\"code\": \"RNA\", \"name\": \"THE DUDLEY GROUP NHS FOUNDATION TRUST\", \"date of death\": \"2020-03-06T00:00:00\", \"deaths\": 0, \"cumulative deaths\": 0}, {\"code\": \"RNA\", \"name\": \"THE DUDLEY GROUP NHS FOUNDATION TRUST\", \"date of death\": \"2020-03-07T00:00:00\", \"deaths\": 0, \"cumulative deaths\": 0}, {\"code\": \"RNA\", \"name\": \"THE DUDLEY GROUP NHS FOUNDATION TRUST\", \"date of death\": \"2020-03-08T00:00:00\", \"deaths\": 1, \"cumulative deaths\": 1}, {\"code\": \"RNA\", \"name\": \"THE DUDLEY GROUP NHS FOUNDATION TRUST\", \"date of death\": \"2020-03-09T00:00:00\", \"deaths\": 0, \"cumulative deaths\": 1}, {\"code\": \"RNA\", \"name\": \"THE DUDLEY GROUP NHS FOUNDATION TRUST\", \"date of death\": \"2020-03-10T00:00:00\", \"deaths\": 0, \"cumulative deaths\": 1}, {\"code\": \"RNA\", \"name\": \"THE DUDLEY GROUP NHS FOUNDATION TRUST\", \"date of death\": \"2020-03-11T00:00:00\", \"deaths\": 0, \"cumulative deaths\": 1}, {\"code\": \"RNA\", \"name\": \"THE DUDLEY GROUP NHS FOUNDATION TRUST\", \"date of death\": \"2020-03-12T00:00:00\", \"deaths\": 1, \"cumulative deaths\": 2}, {\"code\": \"RNA\", \"name\": \"THE DUDLEY GROUP NHS FOUNDATION TRUST\", \"date of death\": \"2020-03-13T00:00:00\", \"deaths\": 2, \"cumulative deaths\": 4}, {\"code\": \"RNA\", \"name\": \"THE DUDLEY GROUP NHS FOUNDATION TRUST\", \"date of death\": \"2020-03-14T00:00:00\", \"deaths\": 0, \"cumulative deaths\": 4}, {\"code\": \"RNA\", \"name\": \"THE DUDLEY GROUP NHS FOUNDATION TRUST\", \"date of death\": \"2020-03-15T00:00:00\", \"deaths\": 1, \"cumulative deaths\": 5}, {\"code\": \"RNA\", \"name\": \"THE DUDLEY GROUP NHS FOUNDATION TRUST\", \"date of death\": \"2020-03-16T00:00:00\", \"deaths\": 2, \"cumulative deaths\": 7}, {\"code\": \"RNA\", \"name\": \"THE DUDLEY GROUP NHS FOUNDATION TRUST\", \"date of death\": \"2020-03-17T00:00:00\", \"deaths\": 0, \"cumulative deaths\": 7}, {\"code\": \"RNA\", \"name\": \"THE DUDLEY GROUP NHS FOUNDATION TRUST\", \"date of death\": \"2020-03-18T00:00:00\", \"deaths\": 0, \"cumulative deaths\": 7}, {\"code\": \"RNA\", \"name\": \"THE DUDLEY GROUP NHS FOUNDATION TRUST\", \"date of death\": \"2020-03-19T00:00:00\", \"deaths\": 1, \"cumulative deaths\": 8}, {\"code\": \"RNA\", \"name\": \"THE DUDLEY GROUP NHS FOUNDATION TRUST\", \"date of death\": \"2020-03-20T00:00:00\", \"deaths\": 2, \"cumulative deaths\": 10}, {\"code\": \"RNA\", \"name\": \"THE DUDLEY GROUP NHS FOUNDATION TRUST\", \"date of death\": \"2020-03-21T00:00:00\", \"deaths\": 2, \"cumulative deaths\": 12}, {\"code\": \"RNA\", \"name\": \"THE DUDLEY GROUP NHS FOUNDATION TRUST\", \"date of death\": \"2020-03-22T00:00:00\", \"deaths\": 0, \"cumulative deaths\": 12}, {\"code\": \"RNA\", \"name\": \"THE DUDLEY GROUP NHS FOUNDATION TRUST\", \"date of death\": \"2020-03-23T00:00:00\", \"deaths\": 1, \"cumulative deaths\": 13}, {\"code\": \"RNA\", \"name\": \"THE DUDLEY GROUP NHS FOUNDATION TRUST\", \"date of death\": \"2020-03-24T00:00:00\", \"deaths\": 3, \"cumulative deaths\": 16}, {\"code\": \"RNA\", \"name\": \"THE DUDLEY GROUP NHS FOUNDATION TRUST\", \"date of death\": \"2020-03-25T00:00:00\", \"deaths\": 3, \"cumulative deaths\": 19}, {\"code\": \"RNA\", \"name\": \"THE DUDLEY GROUP NHS FOUNDATION TRUST\", \"date of death\": \"2020-03-26T00:00:00\", \"deaths\": 6, \"cumulative deaths\": 25}, {\"code\": \"RNA\", \"name\": \"THE DUDLEY GROUP NHS FOUNDATION TRUST\", \"date of death\": \"2020-03-27T00:00:00\", \"deaths\": 5, \"cumulative deaths\": 30}, {\"code\": \"RNA\", \"name\": \"THE DUDLEY GROUP NHS FOUNDATION TRUST\", \"date of death\": \"2020-03-28T00:00:00\", \"deaths\": 3, \"cumulative deaths\": 33}, {\"code\": \"RNA\", \"name\": \"THE DUDLEY GROUP NHS FOUNDATION TRUST\", \"date of death\": \"2020-03-29T00:00:00\", \"deaths\": 9, \"cumulative deaths\": 42}, {\"code\": \"RNA\", \"name\": \"THE DUDLEY GROUP NHS FOUNDATION TRUST\", \"date of death\": \"2020-03-30T00:00:00\", \"deaths\": 10, \"cumulative deaths\": 52}, {\"code\": \"RNA\", \"name\": \"THE DUDLEY GROUP NHS FOUNDATION TRUST\", \"date of death\": \"2020-03-31T00:00:00\", \"deaths\": 8, \"cumulative deaths\": 60}, {\"code\": \"RNA\", \"name\": \"THE DUDLEY GROUP NHS FOUNDATION TRUST\", \"date of death\": \"2020-04-01T00:00:00\", \"deaths\": 8, \"cumulative deaths\": 68}, {\"code\": \"RNA\", \"name\": \"THE DUDLEY GROUP NHS FOUNDATION TRUST\", \"date of death\": \"2020-04-02T00:00:00\", \"deaths\": 14, \"cumulative deaths\": 82}, {\"code\": \"RNA\", \"name\": \"THE DUDLEY GROUP NHS FOUNDATION TRUST\", \"date of death\": \"2020-04-03T00:00:00\", \"deaths\": 9, \"cumulative deaths\": 91}, {\"code\": \"RNA\", \"name\": \"THE DUDLEY GROUP NHS FOUNDATION TRUST\", \"date of death\": \"2020-04-04T00:00:00\", \"deaths\": 5, \"cumulative deaths\": 96}, {\"code\": \"RNA\", \"name\": \"THE DUDLEY GROUP NHS FOUNDATION TRUST\", \"date of death\": \"2020-04-05T00:00:00\", \"deaths\": 4, \"cumulative deaths\": 100}, {\"code\": \"RNA\", \"name\": \"THE DUDLEY GROUP NHS FOUNDATION TRUST\", \"date of death\": \"2020-04-06T00:00:00\", \"deaths\": 6, \"cumulative deaths\": 106}, {\"code\": \"RNA\", \"name\": \"THE DUDLEY GROUP NHS FOUNDATION TRUST\", \"date of death\": \"2020-04-07T00:00:00\", \"deaths\": 8, \"cumulative deaths\": 114}, {\"code\": \"RNA\", \"name\": \"THE DUDLEY GROUP NHS FOUNDATION TRUST\", \"date of death\": \"2020-04-08T00:00:00\", \"deaths\": 7, \"cumulative deaths\": 121}, {\"code\": \"RNA\", \"name\": \"THE DUDLEY GROUP NHS FOUNDATION TRUST\", \"date of death\": \"2020-04-09T00:00:00\", \"deaths\": 7, \"cumulative deaths\": 128}, {\"code\": \"RNA\", \"name\": \"THE DUDLEY GROUP NHS FOUNDATION TRUST\", \"date of death\": \"2020-04-10T00:00:00\", \"deaths\": 4, \"cumulative deaths\": 132}, {\"code\": \"RNA\", \"name\": \"THE DUDLEY GROUP NHS FOUNDATION TRUST\", \"date of death\": \"2020-04-11T00:00:00\", \"deaths\": 6, \"cumulative deaths\": 138}, {\"code\": \"RNA\", \"name\": \"THE DUDLEY GROUP NHS FOUNDATION TRUST\", \"date of death\": \"2020-04-12T00:00:00\", \"deaths\": 9, \"cumulative deaths\": 147}, {\"code\": \"RNA\", \"name\": \"THE DUDLEY GROUP NHS FOUNDATION TRUST\", \"date of death\": \"2020-04-13T00:00:00\", \"deaths\": 8, \"cumulative deaths\": 155}, {\"code\": \"RNA\", \"name\": \"THE DUDLEY GROUP NHS FOUNDATION TRUST\", \"date of death\": \"2020-04-14T00:00:00\", \"deaths\": 3, \"cumulative deaths\": 158}, {\"code\": \"RNA\", \"name\": \"THE DUDLEY GROUP NHS FOUNDATION TRUST\", \"date of death\": \"2020-04-15T00:00:00\", \"deaths\": 7, \"cumulative deaths\": 165}, {\"code\": \"RNA\", \"name\": \"THE DUDLEY GROUP NHS FOUNDATION TRUST\", \"date of death\": \"2020-04-16T00:00:00\", \"deaths\": 2, \"cumulative deaths\": 167}, {\"code\": \"RNA\", \"name\": \"THE DUDLEY GROUP NHS FOUNDATION TRUST\", \"date of death\": \"2020-04-17T00:00:00\", \"deaths\": 3, \"cumulative deaths\": 170}, {\"code\": \"RNA\", \"name\": \"THE DUDLEY GROUP NHS FOUNDATION TRUST\", \"date of death\": \"2020-04-18T00:00:00\", \"deaths\": 2, \"cumulative deaths\": 172}, {\"code\": \"RNA\", \"name\": \"THE DUDLEY GROUP NHS FOUNDATION TRUST\", \"date of death\": \"2020-04-19T00:00:00\", \"deaths\": 0, \"cumulative deaths\": 172}, {\"code\": \"RRJ\", \"name\": \"THE ROYAL ORTHOPAEDIC HOSPITAL NHS FOUNDATION TRUST\", \"date of death\": \"2020-02-29T00:00:00\", \"deaths\": 0, \"cumulative deaths\": 0}, {\"code\": \"RRJ\", \"name\": \"THE ROYAL ORTHOPAEDIC HOSPITAL NHS FOUNDATION TRUST\", \"date of death\": \"2020-03-01T00:00:00\", \"deaths\": 0, \"cumulative deaths\": 0}, {\"code\": \"RRJ\", \"name\": \"THE ROYAL ORTHOPAEDIC HOSPITAL NHS FOUNDATION TRUST\", \"date of death\": \"2020-03-02T00:00:00\", \"deaths\": 0, \"cumulative deaths\": 0}, {\"code\": \"RRJ\", \"name\": \"THE ROYAL ORTHOPAEDIC HOSPITAL NHS FOUNDATION TRUST\", \"date of death\": \"2020-03-03T00:00:00\", \"deaths\": 0, \"cumulative deaths\": 0}, {\"code\": \"RRJ\", \"name\": \"THE ROYAL ORTHOPAEDIC HOSPITAL NHS FOUNDATION TRUST\", \"date of death\": \"2020-03-04T00:00:00\", \"deaths\": 0, \"cumulative deaths\": 0}, {\"code\": \"RRJ\", \"name\": \"THE ROYAL ORTHOPAEDIC HOSPITAL NHS FOUNDATION TRUST\", \"date of death\": \"2020-03-05T00:00:00\", \"deaths\": 0, \"cumulative deaths\": 0}, {\"code\": \"RRJ\", \"name\": \"THE ROYAL ORTHOPAEDIC HOSPITAL NHS FOUNDATION TRUST\", \"date of death\": \"2020-03-06T00:00:00\", \"deaths\": 0, \"cumulative deaths\": 0}, {\"code\": \"RRJ\", \"name\": \"THE ROYAL ORTHOPAEDIC HOSPITAL NHS FOUNDATION TRUST\", \"date of death\": \"2020-03-07T00:00:00\", \"deaths\": 0, \"cumulative deaths\": 0}, {\"code\": \"RRJ\", \"name\": \"THE ROYAL ORTHOPAEDIC HOSPITAL NHS FOUNDATION TRUST\", \"date of death\": \"2020-03-08T00:00:00\", \"deaths\": 0, \"cumulative deaths\": 0}, {\"code\": \"RRJ\", \"name\": \"THE ROYAL ORTHOPAEDIC HOSPITAL NHS FOUNDATION TRUST\", \"date of death\": \"2020-03-09T00:00:00\", \"deaths\": 0, \"cumulative deaths\": 0}, {\"code\": \"RRJ\", \"name\": \"THE ROYAL ORTHOPAEDIC HOSPITAL NHS FOUNDATION TRUST\", \"date of death\": \"2020-03-10T00:00:00\", \"deaths\": 0, \"cumulative deaths\": 0}, {\"code\": \"RRJ\", \"name\": \"THE ROYAL ORTHOPAEDIC HOSPITAL NHS FOUNDATION TRUST\", \"date of death\": \"2020-03-11T00:00:00\", \"deaths\": 0, \"cumulative deaths\": 0}, {\"code\": \"RRJ\", \"name\": \"THE ROYAL ORTHOPAEDIC HOSPITAL NHS FOUNDATION TRUST\", \"date of death\": \"2020-03-12T00:00:00\", \"deaths\": 0, \"cumulative deaths\": 0}, {\"code\": \"RRJ\", \"name\": \"THE ROYAL ORTHOPAEDIC HOSPITAL NHS FOUNDATION TRUST\", \"date of death\": \"2020-03-13T00:00:00\", \"deaths\": 0, \"cumulative deaths\": 0}, {\"code\": \"RRJ\", \"name\": \"THE ROYAL ORTHOPAEDIC HOSPITAL NHS FOUNDATION TRUST\", \"date of death\": \"2020-03-14T00:00:00\", \"deaths\": 0, \"cumulative deaths\": 0}, {\"code\": \"RRJ\", \"name\": \"THE ROYAL ORTHOPAEDIC HOSPITAL NHS FOUNDATION TRUST\", \"date of death\": \"2020-03-15T00:00:00\", \"deaths\": 0, \"cumulative deaths\": 0}, {\"code\": \"RRJ\", \"name\": \"THE ROYAL ORTHOPAEDIC HOSPITAL NHS FOUNDATION TRUST\", \"date of death\": \"2020-03-16T00:00:00\", \"deaths\": 0, \"cumulative deaths\": 0}, {\"code\": \"RRJ\", \"name\": \"THE ROYAL ORTHOPAEDIC HOSPITAL NHS FOUNDATION TRUST\", \"date of death\": \"2020-03-17T00:00:00\", \"deaths\": 0, \"cumulative deaths\": 0}, {\"code\": \"RRJ\", \"name\": \"THE ROYAL ORTHOPAEDIC HOSPITAL NHS FOUNDATION TRUST\", \"date of death\": \"2020-03-18T00:00:00\", \"deaths\": 0, \"cumulative deaths\": 0}, {\"code\": \"RRJ\", \"name\": \"THE ROYAL ORTHOPAEDIC HOSPITAL NHS FOUNDATION TRUST\", \"date of death\": \"2020-03-19T00:00:00\", \"deaths\": 0, \"cumulative deaths\": 0}, {\"code\": \"RRJ\", \"name\": \"THE ROYAL ORTHOPAEDIC HOSPITAL NHS FOUNDATION TRUST\", \"date of death\": \"2020-03-20T00:00:00\", \"deaths\": 0, \"cumulative deaths\": 0}, {\"code\": \"RRJ\", \"name\": \"THE ROYAL ORTHOPAEDIC HOSPITAL NHS FOUNDATION TRUST\", \"date of death\": \"2020-03-21T00:00:00\", \"deaths\": 0, \"cumulative deaths\": 0}, {\"code\": \"RRJ\", \"name\": \"THE ROYAL ORTHOPAEDIC HOSPITAL NHS FOUNDATION TRUST\", \"date of death\": \"2020-03-22T00:00:00\", \"deaths\": 0, \"cumulative deaths\": 0}, {\"code\": \"RRJ\", \"name\": \"THE ROYAL ORTHOPAEDIC HOSPITAL NHS FOUNDATION TRUST\", \"date of death\": \"2020-03-23T00:00:00\", \"deaths\": 0, \"cumulative deaths\": 0}, {\"code\": \"RRJ\", \"name\": \"THE ROYAL ORTHOPAEDIC HOSPITAL NHS FOUNDATION TRUST\", \"date of death\": \"2020-03-24T00:00:00\", \"deaths\": 0, \"cumulative deaths\": 0}, {\"code\": \"RRJ\", \"name\": \"THE ROYAL ORTHOPAEDIC HOSPITAL NHS FOUNDATION TRUST\", \"date of death\": \"2020-03-25T00:00:00\", \"deaths\": 0, \"cumulative deaths\": 0}, {\"code\": \"RRJ\", \"name\": \"THE ROYAL ORTHOPAEDIC HOSPITAL NHS FOUNDATION TRUST\", \"date of death\": \"2020-03-26T00:00:00\", \"deaths\": 0, \"cumulative deaths\": 0}, {\"code\": \"RRJ\", \"name\": \"THE ROYAL ORTHOPAEDIC HOSPITAL NHS FOUNDATION TRUST\", \"date of death\": \"2020-03-27T00:00:00\", \"deaths\": 0, \"cumulative deaths\": 0}, {\"code\": \"RRJ\", \"name\": \"THE ROYAL ORTHOPAEDIC HOSPITAL NHS FOUNDATION TRUST\", \"date of death\": \"2020-03-28T00:00:00\", \"deaths\": 0, \"cumulative deaths\": 0}, {\"code\": \"RRJ\", \"name\": \"THE ROYAL ORTHOPAEDIC HOSPITAL NHS FOUNDATION TRUST\", \"date of death\": \"2020-03-29T00:00:00\", \"deaths\": 0, \"cumulative deaths\": 0}, {\"code\": \"RRJ\", \"name\": \"THE ROYAL ORTHOPAEDIC HOSPITAL NHS FOUNDATION TRUST\", \"date of death\": \"2020-03-30T00:00:00\", \"deaths\": 0, \"cumulative deaths\": 0}, {\"code\": \"RRJ\", \"name\": \"THE ROYAL ORTHOPAEDIC HOSPITAL NHS FOUNDATION TRUST\", \"date of death\": \"2020-03-31T00:00:00\", \"deaths\": 0, \"cumulative deaths\": 0}, {\"code\": \"RRJ\", \"name\": \"THE ROYAL ORTHOPAEDIC HOSPITAL NHS FOUNDATION TRUST\", \"date of death\": \"2020-04-01T00:00:00\", \"deaths\": 1, \"cumulative deaths\": 1}, {\"code\": \"RRJ\", \"name\": \"THE ROYAL ORTHOPAEDIC HOSPITAL NHS FOUNDATION TRUST\", \"date of death\": \"2020-04-02T00:00:00\", \"deaths\": 0, \"cumulative deaths\": 1}, {\"code\": \"RRJ\", \"name\": \"THE ROYAL ORTHOPAEDIC HOSPITAL NHS FOUNDATION TRUST\", \"date of death\": \"2020-04-03T00:00:00\", \"deaths\": 0, \"cumulative deaths\": 1}, {\"code\": \"RRJ\", \"name\": \"THE ROYAL ORTHOPAEDIC HOSPITAL NHS FOUNDATION TRUST\", \"date of death\": \"2020-04-04T00:00:00\", \"deaths\": 0, \"cumulative deaths\": 1}, {\"code\": \"RRJ\", \"name\": \"THE ROYAL ORTHOPAEDIC HOSPITAL NHS FOUNDATION TRUST\", \"date of death\": \"2020-04-05T00:00:00\", \"deaths\": 0, \"cumulative deaths\": 1}, {\"code\": \"RRJ\", \"name\": \"THE ROYAL ORTHOPAEDIC HOSPITAL NHS FOUNDATION TRUST\", \"date of death\": \"2020-04-06T00:00:00\", \"deaths\": 0, \"cumulative deaths\": 1}, {\"code\": \"RRJ\", \"name\": \"THE ROYAL ORTHOPAEDIC HOSPITAL NHS FOUNDATION TRUST\", \"date of death\": \"2020-04-07T00:00:00\", \"deaths\": 0, \"cumulative deaths\": 1}, {\"code\": \"RRJ\", \"name\": \"THE ROYAL ORTHOPAEDIC HOSPITAL NHS FOUNDATION TRUST\", \"date of death\": \"2020-04-08T00:00:00\", \"deaths\": 0, \"cumulative deaths\": 1}, {\"code\": \"RRJ\", \"name\": \"THE ROYAL ORTHOPAEDIC HOSPITAL NHS FOUNDATION TRUST\", \"date of death\": \"2020-04-09T00:00:00\", \"deaths\": 0, \"cumulative deaths\": 1}, {\"code\": \"RRJ\", \"name\": \"THE ROYAL ORTHOPAEDIC HOSPITAL NHS FOUNDATION TRUST\", \"date of death\": \"2020-04-10T00:00:00\", \"deaths\": 1, \"cumulative deaths\": 2}, {\"code\": \"RRJ\", \"name\": \"THE ROYAL ORTHOPAEDIC HOSPITAL NHS FOUNDATION TRUST\", \"date of death\": \"2020-04-11T00:00:00\", \"deaths\": 0, \"cumulative deaths\": 2}, {\"code\": \"RRJ\", \"name\": \"THE ROYAL ORTHOPAEDIC HOSPITAL NHS FOUNDATION TRUST\", \"date of death\": \"2020-04-12T00:00:00\", \"deaths\": 0, \"cumulative deaths\": 2}, {\"code\": \"RRJ\", \"name\": \"THE ROYAL ORTHOPAEDIC HOSPITAL NHS FOUNDATION TRUST\", \"date of death\": \"2020-04-13T00:00:00\", \"deaths\": 0, \"cumulative deaths\": 2}, {\"code\": \"RRJ\", \"name\": \"THE ROYAL ORTHOPAEDIC HOSPITAL NHS FOUNDATION TRUST\", \"date of death\": \"2020-04-14T00:00:00\", \"deaths\": 0, \"cumulative deaths\": 2}, {\"code\": \"RRJ\", \"name\": \"THE ROYAL ORTHOPAEDIC HOSPITAL NHS FOUNDATION TRUST\", \"date of death\": \"2020-04-15T00:00:00\", \"deaths\": 0, \"cumulative deaths\": 2}, {\"code\": \"RRJ\", \"name\": \"THE ROYAL ORTHOPAEDIC HOSPITAL NHS FOUNDATION TRUST\", \"date of death\": \"2020-04-16T00:00:00\", \"deaths\": 0, \"cumulative deaths\": 2}, {\"code\": \"RRJ\", \"name\": \"THE ROYAL ORTHOPAEDIC HOSPITAL NHS FOUNDATION TRUST\", \"date of death\": \"2020-04-17T00:00:00\", \"deaths\": 0, \"cumulative deaths\": 2}, {\"code\": \"RRJ\", \"name\": \"THE ROYAL ORTHOPAEDIC HOSPITAL NHS FOUNDATION TRUST\", \"date of death\": \"2020-04-18T00:00:00\", \"deaths\": 0, \"cumulative deaths\": 2}, {\"code\": \"RRJ\", \"name\": \"THE ROYAL ORTHOPAEDIC HOSPITAL NHS FOUNDATION TRUST\", \"date of death\": \"2020-04-19T00:00:00\", \"deaths\": 0, \"cumulative deaths\": 2}, {\"code\": \"RRK\", \"name\": \"UNIVERSITY HOSPITALS BIRMINGHAM NHS FOUNDATION TRUST\", \"date of death\": \"2020-02-29T00:00:00\", \"deaths\": 0, \"cumulative deaths\": 0}, {\"code\": \"RRK\", \"name\": \"UNIVERSITY HOSPITALS BIRMINGHAM NHS FOUNDATION TRUST\", \"date of death\": \"2020-03-01T00:00:00\", \"deaths\": 0, \"cumulative deaths\": 0}, {\"code\": \"RRK\", \"name\": \"UNIVERSITY HOSPITALS BIRMINGHAM NHS FOUNDATION TRUST\", \"date of death\": \"2020-03-02T00:00:00\", \"deaths\": 0, \"cumulative deaths\": 0}, {\"code\": \"RRK\", \"name\": \"UNIVERSITY HOSPITALS BIRMINGHAM NHS FOUNDATION TRUST\", \"date of death\": \"2020-03-03T00:00:00\", \"deaths\": 0, \"cumulative deaths\": 0}, {\"code\": \"RRK\", \"name\": \"UNIVERSITY HOSPITALS BIRMINGHAM NHS FOUNDATION TRUST\", \"date of death\": \"2020-03-04T00:00:00\", \"deaths\": 0, \"cumulative deaths\": 0}, {\"code\": \"RRK\", \"name\": \"UNIVERSITY HOSPITALS BIRMINGHAM NHS FOUNDATION TRUST\", \"date of death\": \"2020-03-05T00:00:00\", \"deaths\": 0, \"cumulative deaths\": 0}, {\"code\": \"RRK\", \"name\": \"UNIVERSITY HOSPITALS BIRMINGHAM NHS FOUNDATION TRUST\", \"date of death\": \"2020-03-06T00:00:00\", \"deaths\": 0, \"cumulative deaths\": 0}, {\"code\": \"RRK\", \"name\": \"UNIVERSITY HOSPITALS BIRMINGHAM NHS FOUNDATION TRUST\", \"date of death\": \"2020-03-07T00:00:00\", \"deaths\": 0, \"cumulative deaths\": 0}, {\"code\": \"RRK\", \"name\": \"UNIVERSITY HOSPITALS BIRMINGHAM NHS FOUNDATION TRUST\", \"date of death\": \"2020-03-08T00:00:00\", \"deaths\": 0, \"cumulative deaths\": 0}, {\"code\": \"RRK\", \"name\": \"UNIVERSITY HOSPITALS BIRMINGHAM NHS FOUNDATION TRUST\", \"date of death\": \"2020-03-09T00:00:00\", \"deaths\": 0, \"cumulative deaths\": 0}, {\"code\": \"RRK\", \"name\": \"UNIVERSITY HOSPITALS BIRMINGHAM NHS FOUNDATION TRUST\", \"date of death\": \"2020-03-10T00:00:00\", \"deaths\": 0, \"cumulative deaths\": 0}, {\"code\": \"RRK\", \"name\": \"UNIVERSITY HOSPITALS BIRMINGHAM NHS FOUNDATION TRUST\", \"date of death\": \"2020-03-11T00:00:00\", \"deaths\": 0, \"cumulative deaths\": 0}, {\"code\": \"RRK\", \"name\": \"UNIVERSITY HOSPITALS BIRMINGHAM NHS FOUNDATION TRUST\", \"date of death\": \"2020-03-12T00:00:00\", \"deaths\": 0, \"cumulative deaths\": 0}, {\"code\": \"RRK\", \"name\": \"UNIVERSITY HOSPITALS BIRMINGHAM NHS FOUNDATION TRUST\", \"date of death\": \"2020-03-13T00:00:00\", \"deaths\": 0, \"cumulative deaths\": 0}, {\"code\": \"RRK\", \"name\": \"UNIVERSITY HOSPITALS BIRMINGHAM NHS FOUNDATION TRUST\", \"date of death\": \"2020-03-14T00:00:00\", \"deaths\": 1, \"cumulative deaths\": 1}, {\"code\": \"RRK\", \"name\": \"UNIVERSITY HOSPITALS BIRMINGHAM NHS FOUNDATION TRUST\", \"date of death\": \"2020-03-15T00:00:00\", \"deaths\": 1, \"cumulative deaths\": 2}, {\"code\": \"RRK\", \"name\": \"UNIVERSITY HOSPITALS BIRMINGHAM NHS FOUNDATION TRUST\", \"date of death\": \"2020-03-16T00:00:00\", \"deaths\": 0, \"cumulative deaths\": 2}, {\"code\": \"RRK\", \"name\": \"UNIVERSITY HOSPITALS BIRMINGHAM NHS FOUNDATION TRUST\", \"date of death\": \"2020-03-17T00:00:00\", \"deaths\": 1, \"cumulative deaths\": 3}, {\"code\": \"RRK\", \"name\": \"UNIVERSITY HOSPITALS BIRMINGHAM NHS FOUNDATION TRUST\", \"date of death\": \"2020-03-18T00:00:00\", \"deaths\": 1, \"cumulative deaths\": 4}, {\"code\": \"RRK\", \"name\": \"UNIVERSITY HOSPITALS BIRMINGHAM NHS FOUNDATION TRUST\", \"date of death\": \"2020-03-19T00:00:00\", \"deaths\": 2, \"cumulative deaths\": 6}, {\"code\": \"RRK\", \"name\": \"UNIVERSITY HOSPITALS BIRMINGHAM NHS FOUNDATION TRUST\", \"date of death\": \"2020-03-20T00:00:00\", \"deaths\": 5, \"cumulative deaths\": 11}, {\"code\": \"RRK\", \"name\": \"UNIVERSITY HOSPITALS BIRMINGHAM NHS FOUNDATION TRUST\", \"date of death\": \"2020-03-21T00:00:00\", \"deaths\": 2, \"cumulative deaths\": 13}, {\"code\": \"RRK\", \"name\": \"UNIVERSITY HOSPITALS BIRMINGHAM NHS FOUNDATION TRUST\", \"date of death\": \"2020-03-22T00:00:00\", \"deaths\": 9, \"cumulative deaths\": 22}, {\"code\": \"RRK\", \"name\": \"UNIVERSITY HOSPITALS BIRMINGHAM NHS FOUNDATION TRUST\", \"date of death\": \"2020-03-23T00:00:00\", \"deaths\": 5, \"cumulative deaths\": 27}, {\"code\": \"RRK\", \"name\": \"UNIVERSITY HOSPITALS BIRMINGHAM NHS FOUNDATION TRUST\", \"date of death\": \"2020-03-24T00:00:00\", \"deaths\": 5, \"cumulative deaths\": 32}, {\"code\": \"RRK\", \"name\": \"UNIVERSITY HOSPITALS BIRMINGHAM NHS FOUNDATION TRUST\", \"date of death\": \"2020-03-25T00:00:00\", \"deaths\": 12, \"cumulative deaths\": 44}, {\"code\": \"RRK\", \"name\": \"UNIVERSITY HOSPITALS BIRMINGHAM NHS FOUNDATION TRUST\", \"date of death\": \"2020-03-26T00:00:00\", \"deaths\": 13, \"cumulative deaths\": 57}, {\"code\": \"RRK\", \"name\": \"UNIVERSITY HOSPITALS BIRMINGHAM NHS FOUNDATION TRUST\", \"date of death\": \"2020-03-27T00:00:00\", \"deaths\": 19, \"cumulative deaths\": 76}, {\"code\": \"RRK\", \"name\": \"UNIVERSITY HOSPITALS BIRMINGHAM NHS FOUNDATION TRUST\", \"date of death\": \"2020-03-28T00:00:00\", \"deaths\": 21, \"cumulative deaths\": 97}, {\"code\": \"RRK\", \"name\": \"UNIVERSITY HOSPITALS BIRMINGHAM NHS FOUNDATION TRUST\", \"date of death\": \"2020-03-29T00:00:00\", \"deaths\": 39, \"cumulative deaths\": 136}, {\"code\": \"RRK\", \"name\": \"UNIVERSITY HOSPITALS BIRMINGHAM NHS FOUNDATION TRUST\", \"date of death\": \"2020-03-30T00:00:00\", \"deaths\": 25, \"cumulative deaths\": 161}, {\"code\": \"RRK\", \"name\": \"UNIVERSITY HOSPITALS BIRMINGHAM NHS FOUNDATION TRUST\", \"date of death\": \"2020-03-31T00:00:00\", \"deaths\": 1, \"cumulative deaths\": 162}, {\"code\": \"RRK\", \"name\": \"UNIVERSITY HOSPITALS BIRMINGHAM NHS FOUNDATION TRUST\", \"date of death\": \"2020-04-01T00:00:00\", \"deaths\": 26, \"cumulative deaths\": 188}, {\"code\": \"RRK\", \"name\": \"UNIVERSITY HOSPITALS BIRMINGHAM NHS FOUNDATION TRUST\", \"date of death\": \"2020-04-02T00:00:00\", \"deaths\": 26, \"cumulative deaths\": 214}, {\"code\": \"RRK\", \"name\": \"UNIVERSITY HOSPITALS BIRMINGHAM NHS FOUNDATION TRUST\", \"date of death\": \"2020-04-03T00:00:00\", \"deaths\": 17, \"cumulative deaths\": 231}, {\"code\": \"RRK\", \"name\": \"UNIVERSITY HOSPITALS BIRMINGHAM NHS FOUNDATION TRUST\", \"date of death\": \"2020-04-04T00:00:00\", \"deaths\": 24, \"cumulative deaths\": 255}, {\"code\": \"RRK\", \"name\": \"UNIVERSITY HOSPITALS BIRMINGHAM NHS FOUNDATION TRUST\", \"date of death\": \"2020-04-05T00:00:00\", \"deaths\": 35, \"cumulative deaths\": 290}, {\"code\": \"RRK\", \"name\": \"UNIVERSITY HOSPITALS BIRMINGHAM NHS FOUNDATION TRUST\", \"date of death\": \"2020-04-06T00:00:00\", \"deaths\": 29, \"cumulative deaths\": 319}, {\"code\": \"RRK\", \"name\": \"UNIVERSITY HOSPITALS BIRMINGHAM NHS FOUNDATION TRUST\", \"date of death\": \"2020-04-07T00:00:00\", \"deaths\": 25, \"cumulative deaths\": 344}, {\"code\": \"RRK\", \"name\": \"UNIVERSITY HOSPITALS BIRMINGHAM NHS FOUNDATION TRUST\", \"date of death\": \"2020-04-08T00:00:00\", \"deaths\": 36, \"cumulative deaths\": 380}, {\"code\": \"RRK\", \"name\": \"UNIVERSITY HOSPITALS BIRMINGHAM NHS FOUNDATION TRUST\", \"date of death\": \"2020-04-09T00:00:00\", \"deaths\": 22, \"cumulative deaths\": 402}, {\"code\": \"RRK\", \"name\": \"UNIVERSITY HOSPITALS BIRMINGHAM NHS FOUNDATION TRUST\", \"date of death\": \"2020-04-10T00:00:00\", \"deaths\": 23, \"cumulative deaths\": 425}, {\"code\": \"RRK\", \"name\": \"UNIVERSITY HOSPITALS BIRMINGHAM NHS FOUNDATION TRUST\", \"date of death\": \"2020-04-11T00:00:00\", \"deaths\": 29, \"cumulative deaths\": 454}, {\"code\": \"RRK\", \"name\": \"UNIVERSITY HOSPITALS BIRMINGHAM NHS FOUNDATION TRUST\", \"date of death\": \"2020-04-12T00:00:00\", \"deaths\": 19, \"cumulative deaths\": 473}, {\"code\": \"RRK\", \"name\": \"UNIVERSITY HOSPITALS BIRMINGHAM NHS FOUNDATION TRUST\", \"date of death\": \"2020-04-13T00:00:00\", \"deaths\": 18, \"cumulative deaths\": 491}, {\"code\": \"RRK\", \"name\": \"UNIVERSITY HOSPITALS BIRMINGHAM NHS FOUNDATION TRUST\", \"date of death\": \"2020-04-14T00:00:00\", \"deaths\": 28, \"cumulative deaths\": 519}, {\"code\": \"RRK\", \"name\": \"UNIVERSITY HOSPITALS BIRMINGHAM NHS FOUNDATION TRUST\", \"date of death\": \"2020-04-15T00:00:00\", \"deaths\": 28, \"cumulative deaths\": 547}, {\"code\": \"RRK\", \"name\": \"UNIVERSITY HOSPITALS BIRMINGHAM NHS FOUNDATION TRUST\", \"date of death\": \"2020-04-16T00:00:00\", \"deaths\": 19, \"cumulative deaths\": 566}, {\"code\": \"RRK\", \"name\": \"UNIVERSITY HOSPITALS BIRMINGHAM NHS FOUNDATION TRUST\", \"date of death\": \"2020-04-17T00:00:00\", \"deaths\": 24, \"cumulative deaths\": 590}, {\"code\": \"RRK\", \"name\": \"UNIVERSITY HOSPITALS BIRMINGHAM NHS FOUNDATION TRUST\", \"date of death\": \"2020-04-18T00:00:00\", \"deaths\": 10, \"cumulative deaths\": 600}, {\"code\": \"RRK\", \"name\": \"UNIVERSITY HOSPITALS BIRMINGHAM NHS FOUNDATION TRUST\", \"date of death\": \"2020-04-19T00:00:00\", \"deaths\": 0, \"cumulative deaths\": 600}, {\"code\": \"RWP\", \"name\": \"WORCESTERSHIRE ACUTE HOSPITALS NHS TRUST\", \"date of death\": \"2020-02-29T00:00:00\", \"deaths\": 0, \"cumulative deaths\": 0}, {\"code\": \"RWP\", \"name\": \"WORCESTERSHIRE ACUTE HOSPITALS NHS TRUST\", \"date of death\": \"2020-03-01T00:00:00\", \"deaths\": 0, \"cumulative deaths\": 0}, {\"code\": \"RWP\", \"name\": \"WORCESTERSHIRE ACUTE HOSPITALS NHS TRUST\", \"date of death\": \"2020-03-02T00:00:00\", \"deaths\": 0, \"cumulative deaths\": 0}, {\"code\": \"RWP\", \"name\": \"WORCESTERSHIRE ACUTE HOSPITALS NHS TRUST\", \"date of death\": \"2020-03-03T00:00:00\", \"deaths\": 0, \"cumulative deaths\": 0}, {\"code\": \"RWP\", \"name\": \"WORCESTERSHIRE ACUTE HOSPITALS NHS TRUST\", \"date of death\": \"2020-03-04T00:00:00\", \"deaths\": 0, \"cumulative deaths\": 0}, {\"code\": \"RWP\", \"name\": \"WORCESTERSHIRE ACUTE HOSPITALS NHS TRUST\", \"date of death\": \"2020-03-05T00:00:00\", \"deaths\": 0, \"cumulative deaths\": 0}, {\"code\": \"RWP\", \"name\": \"WORCESTERSHIRE ACUTE HOSPITALS NHS TRUST\", \"date of death\": \"2020-03-06T00:00:00\", \"deaths\": 0, \"cumulative deaths\": 0}, {\"code\": \"RWP\", \"name\": \"WORCESTERSHIRE ACUTE HOSPITALS NHS TRUST\", \"date of death\": \"2020-03-07T00:00:00\", \"deaths\": 0, \"cumulative deaths\": 0}, {\"code\": \"RWP\", \"name\": \"WORCESTERSHIRE ACUTE HOSPITALS NHS TRUST\", \"date of death\": \"2020-03-08T00:00:00\", \"deaths\": 0, \"cumulative deaths\": 0}, {\"code\": \"RWP\", \"name\": \"WORCESTERSHIRE ACUTE HOSPITALS NHS TRUST\", \"date of death\": \"2020-03-09T00:00:00\", \"deaths\": 0, \"cumulative deaths\": 0}, {\"code\": \"RWP\", \"name\": \"WORCESTERSHIRE ACUTE HOSPITALS NHS TRUST\", \"date of death\": \"2020-03-10T00:00:00\", \"deaths\": 0, \"cumulative deaths\": 0}, {\"code\": \"RWP\", \"name\": \"WORCESTERSHIRE ACUTE HOSPITALS NHS TRUST\", \"date of death\": \"2020-03-11T00:00:00\", \"deaths\": 0, \"cumulative deaths\": 0}, {\"code\": \"RWP\", \"name\": \"WORCESTERSHIRE ACUTE HOSPITALS NHS TRUST\", \"date of death\": \"2020-03-12T00:00:00\", \"deaths\": 0, \"cumulative deaths\": 0}, {\"code\": \"RWP\", \"name\": \"WORCESTERSHIRE ACUTE HOSPITALS NHS TRUST\", \"date of death\": \"2020-03-13T00:00:00\", \"deaths\": 0, \"cumulative deaths\": 0}, {\"code\": \"RWP\", \"name\": \"WORCESTERSHIRE ACUTE HOSPITALS NHS TRUST\", \"date of death\": \"2020-03-14T00:00:00\", \"deaths\": 0, \"cumulative deaths\": 0}, {\"code\": \"RWP\", \"name\": \"WORCESTERSHIRE ACUTE HOSPITALS NHS TRUST\", \"date of death\": \"2020-03-15T00:00:00\", \"deaths\": 0, \"cumulative deaths\": 0}, {\"code\": \"RWP\", \"name\": \"WORCESTERSHIRE ACUTE HOSPITALS NHS TRUST\", \"date of death\": \"2020-03-16T00:00:00\", \"deaths\": 0, \"cumulative deaths\": 0}, {\"code\": \"RWP\", \"name\": \"WORCESTERSHIRE ACUTE HOSPITALS NHS TRUST\", \"date of death\": \"2020-03-17T00:00:00\", \"deaths\": 0, \"cumulative deaths\": 0}, {\"code\": \"RWP\", \"name\": \"WORCESTERSHIRE ACUTE HOSPITALS NHS TRUST\", \"date of death\": \"2020-03-18T00:00:00\", \"deaths\": 0, \"cumulative deaths\": 0}, {\"code\": \"RWP\", \"name\": \"WORCESTERSHIRE ACUTE HOSPITALS NHS TRUST\", \"date of death\": \"2020-03-19T00:00:00\", \"deaths\": 0, \"cumulative deaths\": 0}, {\"code\": \"RWP\", \"name\": \"WORCESTERSHIRE ACUTE HOSPITALS NHS TRUST\", \"date of death\": \"2020-03-20T00:00:00\", \"deaths\": 3, \"cumulative deaths\": 3}, {\"code\": \"RWP\", \"name\": \"WORCESTERSHIRE ACUTE HOSPITALS NHS TRUST\", \"date of death\": \"2020-03-21T00:00:00\", \"deaths\": 2, \"cumulative deaths\": 5}, {\"code\": \"RWP\", \"name\": \"WORCESTERSHIRE ACUTE HOSPITALS NHS TRUST\", \"date of death\": \"2020-03-22T00:00:00\", \"deaths\": 1, \"cumulative deaths\": 6}, {\"code\": \"RWP\", \"name\": \"WORCESTERSHIRE ACUTE HOSPITALS NHS TRUST\", \"date of death\": \"2020-03-23T00:00:00\", \"deaths\": 1, \"cumulative deaths\": 7}, {\"code\": \"RWP\", \"name\": \"WORCESTERSHIRE ACUTE HOSPITALS NHS TRUST\", \"date of death\": \"2020-03-24T00:00:00\", \"deaths\": 1, \"cumulative deaths\": 8}, {\"code\": \"RWP\", \"name\": \"WORCESTERSHIRE ACUTE HOSPITALS NHS TRUST\", \"date of death\": \"2020-03-25T00:00:00\", \"deaths\": 3, \"cumulative deaths\": 11}, {\"code\": \"RWP\", \"name\": \"WORCESTERSHIRE ACUTE HOSPITALS NHS TRUST\", \"date of death\": \"2020-03-26T00:00:00\", \"deaths\": 5, \"cumulative deaths\": 16}, {\"code\": \"RWP\", \"name\": \"WORCESTERSHIRE ACUTE HOSPITALS NHS TRUST\", \"date of death\": \"2020-03-27T00:00:00\", \"deaths\": 3, \"cumulative deaths\": 19}, {\"code\": \"RWP\", \"name\": \"WORCESTERSHIRE ACUTE HOSPITALS NHS TRUST\", \"date of death\": \"2020-03-28T00:00:00\", \"deaths\": 4, \"cumulative deaths\": 23}, {\"code\": \"RWP\", \"name\": \"WORCESTERSHIRE ACUTE HOSPITALS NHS TRUST\", \"date of death\": \"2020-03-29T00:00:00\", \"deaths\": 4, \"cumulative deaths\": 27}, {\"code\": \"RWP\", \"name\": \"WORCESTERSHIRE ACUTE HOSPITALS NHS TRUST\", \"date of death\": \"2020-03-30T00:00:00\", \"deaths\": 2, \"cumulative deaths\": 29}, {\"code\": \"RWP\", \"name\": \"WORCESTERSHIRE ACUTE HOSPITALS NHS TRUST\", \"date of death\": \"2020-03-31T00:00:00\", \"deaths\": 8, \"cumulative deaths\": 37}, {\"code\": \"RWP\", \"name\": \"WORCESTERSHIRE ACUTE HOSPITALS NHS TRUST\", \"date of death\": \"2020-04-01T00:00:00\", \"deaths\": 11, \"cumulative deaths\": 48}, {\"code\": \"RWP\", \"name\": \"WORCESTERSHIRE ACUTE HOSPITALS NHS TRUST\", \"date of death\": \"2020-04-02T00:00:00\", \"deaths\": 8, \"cumulative deaths\": 56}, {\"code\": \"RWP\", \"name\": \"WORCESTERSHIRE ACUTE HOSPITALS NHS TRUST\", \"date of death\": \"2020-04-03T00:00:00\", \"deaths\": 4, \"cumulative deaths\": 60}, {\"code\": \"RWP\", \"name\": \"WORCESTERSHIRE ACUTE HOSPITALS NHS TRUST\", \"date of death\": \"2020-04-04T00:00:00\", \"deaths\": 7, \"cumulative deaths\": 67}, {\"code\": \"RWP\", \"name\": \"WORCESTERSHIRE ACUTE HOSPITALS NHS TRUST\", \"date of death\": \"2020-04-05T00:00:00\", \"deaths\": 8, \"cumulative deaths\": 75}, {\"code\": \"RWP\", \"name\": \"WORCESTERSHIRE ACUTE HOSPITALS NHS TRUST\", \"date of death\": \"2020-04-06T00:00:00\", \"deaths\": 3, \"cumulative deaths\": 78}, {\"code\": \"RWP\", \"name\": \"WORCESTERSHIRE ACUTE HOSPITALS NHS TRUST\", \"date of death\": \"2020-04-07T00:00:00\", \"deaths\": 5, \"cumulative deaths\": 83}, {\"code\": \"RWP\", \"name\": \"WORCESTERSHIRE ACUTE HOSPITALS NHS TRUST\", \"date of death\": \"2020-04-08T00:00:00\", \"deaths\": 5, \"cumulative deaths\": 88}, {\"code\": \"RWP\", \"name\": \"WORCESTERSHIRE ACUTE HOSPITALS NHS TRUST\", \"date of death\": \"2020-04-09T00:00:00\", \"deaths\": 6, \"cumulative deaths\": 94}, {\"code\": \"RWP\", \"name\": \"WORCESTERSHIRE ACUTE HOSPITALS NHS TRUST\", \"date of death\": \"2020-04-10T00:00:00\", \"deaths\": 8, \"cumulative deaths\": 102}, {\"code\": \"RWP\", \"name\": \"WORCESTERSHIRE ACUTE HOSPITALS NHS TRUST\", \"date of death\": \"2020-04-11T00:00:00\", \"deaths\": 4, \"cumulative deaths\": 106}, {\"code\": \"RWP\", \"name\": \"WORCESTERSHIRE ACUTE HOSPITALS NHS TRUST\", \"date of death\": \"2020-04-12T00:00:00\", \"deaths\": 9, \"cumulative deaths\": 115}, {\"code\": \"RWP\", \"name\": \"WORCESTERSHIRE ACUTE HOSPITALS NHS TRUST\", \"date of death\": \"2020-04-13T00:00:00\", \"deaths\": 9, \"cumulative deaths\": 124}, {\"code\": \"RWP\", \"name\": \"WORCESTERSHIRE ACUTE HOSPITALS NHS TRUST\", \"date of death\": \"2020-04-14T00:00:00\", \"deaths\": 5, \"cumulative deaths\": 129}, {\"code\": \"RWP\", \"name\": \"WORCESTERSHIRE ACUTE HOSPITALS NHS TRUST\", \"date of death\": \"2020-04-15T00:00:00\", \"deaths\": 7, \"cumulative deaths\": 136}, {\"code\": \"RWP\", \"name\": \"WORCESTERSHIRE ACUTE HOSPITALS NHS TRUST\", \"date of death\": \"2020-04-16T00:00:00\", \"deaths\": 4, \"cumulative deaths\": 140}, {\"code\": \"RWP\", \"name\": \"WORCESTERSHIRE ACUTE HOSPITALS NHS TRUST\", \"date of death\": \"2020-04-17T00:00:00\", \"deaths\": 3, \"cumulative deaths\": 143}, {\"code\": \"RWP\", \"name\": \"WORCESTERSHIRE ACUTE HOSPITALS NHS TRUST\", \"date of death\": \"2020-04-18T00:00:00\", \"deaths\": 2, \"cumulative deaths\": 145}, {\"code\": \"RWP\", \"name\": \"WORCESTERSHIRE ACUTE HOSPITALS NHS TRUST\", \"date of death\": \"2020-04-19T00:00:00\", \"deaths\": 1, \"cumulative deaths\": 146}, {\"code\": \"RXK\", \"name\": \"SANDWELL AND WEST BIRMINGHAM HOSPITALS NHS TRUST\", \"date of death\": \"2020-02-29T00:00:00\", \"deaths\": 1, \"cumulative deaths\": 1}, {\"code\": \"RXK\", \"name\": \"SANDWELL AND WEST BIRMINGHAM HOSPITALS NHS TRUST\", \"date of death\": \"2020-03-01T00:00:00\", \"deaths\": 0, \"cumulative deaths\": 1}, {\"code\": \"RXK\", \"name\": \"SANDWELL AND WEST BIRMINGHAM HOSPITALS NHS TRUST\", \"date of death\": \"2020-03-02T00:00:00\", \"deaths\": 0, \"cumulative deaths\": 1}, {\"code\": \"RXK\", \"name\": \"SANDWELL AND WEST BIRMINGHAM HOSPITALS NHS TRUST\", \"date of death\": \"2020-03-03T00:00:00\", \"deaths\": 0, \"cumulative deaths\": 1}, {\"code\": \"RXK\", \"name\": \"SANDWELL AND WEST BIRMINGHAM HOSPITALS NHS TRUST\", \"date of death\": \"2020-03-04T00:00:00\", \"deaths\": 0, \"cumulative deaths\": 1}, {\"code\": \"RXK\", \"name\": \"SANDWELL AND WEST BIRMINGHAM HOSPITALS NHS TRUST\", \"date of death\": \"2020-03-05T00:00:00\", \"deaths\": 0, \"cumulative deaths\": 1}, {\"code\": \"RXK\", \"name\": \"SANDWELL AND WEST BIRMINGHAM HOSPITALS NHS TRUST\", \"date of death\": \"2020-03-06T00:00:00\", \"deaths\": 0, \"cumulative deaths\": 1}, {\"code\": \"RXK\", \"name\": \"SANDWELL AND WEST BIRMINGHAM HOSPITALS NHS TRUST\", \"date of death\": \"2020-03-07T00:00:00\", \"deaths\": 0, \"cumulative deaths\": 1}, {\"code\": \"RXK\", \"name\": \"SANDWELL AND WEST BIRMINGHAM HOSPITALS NHS TRUST\", \"date of death\": \"2020-03-08T00:00:00\", \"deaths\": 0, \"cumulative deaths\": 1}, {\"code\": \"RXK\", \"name\": \"SANDWELL AND WEST BIRMINGHAM HOSPITALS NHS TRUST\", \"date of death\": \"2020-03-09T00:00:00\", \"deaths\": 0, \"cumulative deaths\": 1}, {\"code\": \"RXK\", \"name\": \"SANDWELL AND WEST BIRMINGHAM HOSPITALS NHS TRUST\", \"date of death\": \"2020-03-10T00:00:00\", \"deaths\": 0, \"cumulative deaths\": 1}, {\"code\": \"RXK\", \"name\": \"SANDWELL AND WEST BIRMINGHAM HOSPITALS NHS TRUST\", \"date of death\": \"2020-03-11T00:00:00\", \"deaths\": 0, \"cumulative deaths\": 1}, {\"code\": \"RXK\", \"name\": \"SANDWELL AND WEST BIRMINGHAM HOSPITALS NHS TRUST\", \"date of death\": \"2020-03-12T00:00:00\", \"deaths\": 1, \"cumulative deaths\": 2}, {\"code\": \"RXK\", \"name\": \"SANDWELL AND WEST BIRMINGHAM HOSPITALS NHS TRUST\", \"date of death\": \"2020-03-13T00:00:00\", \"deaths\": 1, \"cumulative deaths\": 3}, {\"code\": \"RXK\", \"name\": \"SANDWELL AND WEST BIRMINGHAM HOSPITALS NHS TRUST\", \"date of death\": \"2020-03-14T00:00:00\", \"deaths\": 0, \"cumulative deaths\": 3}, {\"code\": \"RXK\", \"name\": \"SANDWELL AND WEST BIRMINGHAM HOSPITALS NHS TRUST\", \"date of death\": \"2020-03-15T00:00:00\", \"deaths\": 0, \"cumulative deaths\": 3}, {\"code\": \"RXK\", \"name\": \"SANDWELL AND WEST BIRMINGHAM HOSPITALS NHS TRUST\", \"date of death\": \"2020-03-16T00:00:00\", \"deaths\": 6, \"cumulative deaths\": 9}, {\"code\": \"RXK\", \"name\": \"SANDWELL AND WEST BIRMINGHAM HOSPITALS NHS TRUST\", \"date of death\": \"2020-03-17T00:00:00\", \"deaths\": 1, \"cumulative deaths\": 10}, {\"code\": \"RXK\", \"name\": \"SANDWELL AND WEST BIRMINGHAM HOSPITALS NHS TRUST\", \"date of death\": \"2020-03-18T00:00:00\", \"deaths\": 5, \"cumulative deaths\": 15}, {\"code\": \"RXK\", \"name\": \"SANDWELL AND WEST BIRMINGHAM HOSPITALS NHS TRUST\", \"date of death\": \"2020-03-19T00:00:00\", \"deaths\": 3, \"cumulative deaths\": 18}, {\"code\": \"RXK\", \"name\": \"SANDWELL AND WEST BIRMINGHAM HOSPITALS NHS TRUST\", \"date of death\": \"2020-03-20T00:00:00\", \"deaths\": 1, \"cumulative deaths\": 19}, {\"code\": \"RXK\", \"name\": \"SANDWELL AND WEST BIRMINGHAM HOSPITALS NHS TRUST\", \"date of death\": \"2020-03-21T00:00:00\", \"deaths\": 1, \"cumulative deaths\": 20}, {\"code\": \"RXK\", \"name\": \"SANDWELL AND WEST BIRMINGHAM HOSPITALS NHS TRUST\", \"date of death\": \"2020-03-22T00:00:00\", \"deaths\": 2, \"cumulative deaths\": 22}, {\"code\": \"RXK\", \"name\": \"SANDWELL AND WEST BIRMINGHAM HOSPITALS NHS TRUST\", \"date of death\": \"2020-03-23T00:00:00\", \"deaths\": 7, \"cumulative deaths\": 29}, {\"code\": \"RXK\", \"name\": \"SANDWELL AND WEST BIRMINGHAM HOSPITALS NHS TRUST\", \"date of death\": \"2020-03-24T00:00:00\", \"deaths\": 2, \"cumulative deaths\": 31}, {\"code\": \"RXK\", \"name\": \"SANDWELL AND WEST BIRMINGHAM HOSPITALS NHS TRUST\", \"date of death\": \"2020-03-25T00:00:00\", \"deaths\": 1, \"cumulative deaths\": 32}, {\"code\": \"RXK\", \"name\": \"SANDWELL AND WEST BIRMINGHAM HOSPITALS NHS TRUST\", \"date of death\": \"2020-03-26T00:00:00\", \"deaths\": 4, \"cumulative deaths\": 36}, {\"code\": \"RXK\", \"name\": \"SANDWELL AND WEST BIRMINGHAM HOSPITALS NHS TRUST\", \"date of death\": \"2020-03-27T00:00:00\", \"deaths\": 5, \"cumulative deaths\": 41}, {\"code\": \"RXK\", \"name\": \"SANDWELL AND WEST BIRMINGHAM HOSPITALS NHS TRUST\", \"date of death\": \"2020-03-28T00:00:00\", \"deaths\": 6, \"cumulative deaths\": 47}, {\"code\": \"RXK\", \"name\": \"SANDWELL AND WEST BIRMINGHAM HOSPITALS NHS TRUST\", \"date of death\": \"2020-03-29T00:00:00\", \"deaths\": 14, \"cumulative deaths\": 61}, {\"code\": \"RXK\", \"name\": \"SANDWELL AND WEST BIRMINGHAM HOSPITALS NHS TRUST\", \"date of death\": \"2020-03-30T00:00:00\", \"deaths\": 16, \"cumulative deaths\": 77}, {\"code\": \"RXK\", \"name\": \"SANDWELL AND WEST BIRMINGHAM HOSPITALS NHS TRUST\", \"date of death\": \"2020-03-31T00:00:00\", \"deaths\": 5, \"cumulative deaths\": 82}, {\"code\": \"RXK\", \"name\": \"SANDWELL AND WEST BIRMINGHAM HOSPITALS NHS TRUST\", \"date of death\": \"2020-04-01T00:00:00\", \"deaths\": 8, \"cumulative deaths\": 90}, {\"code\": \"RXK\", \"name\": \"SANDWELL AND WEST BIRMINGHAM HOSPITALS NHS TRUST\", \"date of death\": \"2020-04-02T00:00:00\", \"deaths\": 6, \"cumulative deaths\": 96}, {\"code\": \"RXK\", \"name\": \"SANDWELL AND WEST BIRMINGHAM HOSPITALS NHS TRUST\", \"date of death\": \"2020-04-03T00:00:00\", \"deaths\": 6, \"cumulative deaths\": 102}, {\"code\": \"RXK\", \"name\": \"SANDWELL AND WEST BIRMINGHAM HOSPITALS NHS TRUST\", \"date of death\": \"2020-04-04T00:00:00\", \"deaths\": 12, \"cumulative deaths\": 114}, {\"code\": \"RXK\", \"name\": \"SANDWELL AND WEST BIRMINGHAM HOSPITALS NHS TRUST\", \"date of death\": \"2020-04-05T00:00:00\", \"deaths\": 12, \"cumulative deaths\": 126}, {\"code\": \"RXK\", \"name\": \"SANDWELL AND WEST BIRMINGHAM HOSPITALS NHS TRUST\", \"date of death\": \"2020-04-06T00:00:00\", \"deaths\": 13, \"cumulative deaths\": 139}, {\"code\": \"RXK\", \"name\": \"SANDWELL AND WEST BIRMINGHAM HOSPITALS NHS TRUST\", \"date of death\": \"2020-04-07T00:00:00\", \"deaths\": 8, \"cumulative deaths\": 147}, {\"code\": \"RXK\", \"name\": \"SANDWELL AND WEST BIRMINGHAM HOSPITALS NHS TRUST\", \"date of death\": \"2020-04-08T00:00:00\", \"deaths\": 20, \"cumulative deaths\": 167}, {\"code\": \"RXK\", \"name\": \"SANDWELL AND WEST BIRMINGHAM HOSPITALS NHS TRUST\", \"date of death\": \"2020-04-09T00:00:00\", \"deaths\": 8, \"cumulative deaths\": 175}, {\"code\": \"RXK\", \"name\": \"SANDWELL AND WEST BIRMINGHAM HOSPITALS NHS TRUST\", \"date of death\": \"2020-04-10T00:00:00\", \"deaths\": 15, \"cumulative deaths\": 190}, {\"code\": \"RXK\", \"name\": \"SANDWELL AND WEST BIRMINGHAM HOSPITALS NHS TRUST\", \"date of death\": \"2020-04-11T00:00:00\", \"deaths\": 11, \"cumulative deaths\": 201}, {\"code\": \"RXK\", \"name\": \"SANDWELL AND WEST BIRMINGHAM HOSPITALS NHS TRUST\", \"date of death\": \"2020-04-12T00:00:00\", \"deaths\": 9, \"cumulative deaths\": 210}, {\"code\": \"RXK\", \"name\": \"SANDWELL AND WEST BIRMINGHAM HOSPITALS NHS TRUST\", \"date of death\": \"2020-04-13T00:00:00\", \"deaths\": 7, \"cumulative deaths\": 217}, {\"code\": \"RXK\", \"name\": \"SANDWELL AND WEST BIRMINGHAM HOSPITALS NHS TRUST\", \"date of death\": \"2020-04-14T00:00:00\", \"deaths\": 6, \"cumulative deaths\": 223}, {\"code\": \"RXK\", \"name\": \"SANDWELL AND WEST BIRMINGHAM HOSPITALS NHS TRUST\", \"date of death\": \"2020-04-15T00:00:00\", \"deaths\": 9, \"cumulative deaths\": 232}, {\"code\": \"RXK\", \"name\": \"SANDWELL AND WEST BIRMINGHAM HOSPITALS NHS TRUST\", \"date of death\": \"2020-04-16T00:00:00\", \"deaths\": 6, \"cumulative deaths\": 238}, {\"code\": \"RXK\", \"name\": \"SANDWELL AND WEST BIRMINGHAM HOSPITALS NHS TRUST\", \"date of death\": \"2020-04-17T00:00:00\", \"deaths\": 4, \"cumulative deaths\": 242}, {\"code\": \"RXK\", \"name\": \"SANDWELL AND WEST BIRMINGHAM HOSPITALS NHS TRUST\", \"date of death\": \"2020-04-18T00:00:00\", \"deaths\": 3, \"cumulative deaths\": 245}, {\"code\": \"RXK\", \"name\": \"SANDWELL AND WEST BIRMINGHAM HOSPITALS NHS TRUST\", \"date of death\": \"2020-04-19T00:00:00\", \"deaths\": 0, \"cumulative deaths\": 245}, {\"code\": \"RXW\", \"name\": \"SHREWSBURY AND TELFORD HOSPITAL NHS TRUST\", \"date of death\": \"2020-02-29T00:00:00\", \"deaths\": 0, \"cumulative deaths\": 0}, {\"code\": \"RXW\", \"name\": \"SHREWSBURY AND TELFORD HOSPITAL NHS TRUST\", \"date of death\": \"2020-03-01T00:00:00\", \"deaths\": 0, \"cumulative deaths\": 0}, {\"code\": \"RXW\", \"name\": \"SHREWSBURY AND TELFORD HOSPITAL NHS TRUST\", \"date of death\": \"2020-03-02T00:00:00\", \"deaths\": 0, \"cumulative deaths\": 0}, {\"code\": \"RXW\", \"name\": \"SHREWSBURY AND TELFORD HOSPITAL NHS TRUST\", \"date of death\": \"2020-03-03T00:00:00\", \"deaths\": 0, \"cumulative deaths\": 0}, {\"code\": \"RXW\", \"name\": \"SHREWSBURY AND TELFORD HOSPITAL NHS TRUST\", \"date of death\": \"2020-03-04T00:00:00\", \"deaths\": 0, \"cumulative deaths\": 0}, {\"code\": \"RXW\", \"name\": \"SHREWSBURY AND TELFORD HOSPITAL NHS TRUST\", \"date of death\": \"2020-03-05T00:00:00\", \"deaths\": 0, \"cumulative deaths\": 0}, {\"code\": \"RXW\", \"name\": \"SHREWSBURY AND TELFORD HOSPITAL NHS TRUST\", \"date of death\": \"2020-03-06T00:00:00\", \"deaths\": 0, \"cumulative deaths\": 0}, {\"code\": \"RXW\", \"name\": \"SHREWSBURY AND TELFORD HOSPITAL NHS TRUST\", \"date of death\": \"2020-03-07T00:00:00\", \"deaths\": 0, \"cumulative deaths\": 0}, {\"code\": \"RXW\", \"name\": \"SHREWSBURY AND TELFORD HOSPITAL NHS TRUST\", \"date of death\": \"2020-03-08T00:00:00\", \"deaths\": 0, \"cumulative deaths\": 0}, {\"code\": \"RXW\", \"name\": \"SHREWSBURY AND TELFORD HOSPITAL NHS TRUST\", \"date of death\": \"2020-03-09T00:00:00\", \"deaths\": 0, \"cumulative deaths\": 0}, {\"code\": \"RXW\", \"name\": \"SHREWSBURY AND TELFORD HOSPITAL NHS TRUST\", \"date of death\": \"2020-03-10T00:00:00\", \"deaths\": 0, \"cumulative deaths\": 0}, {\"code\": \"RXW\", \"name\": \"SHREWSBURY AND TELFORD HOSPITAL NHS TRUST\", \"date of death\": \"2020-03-11T00:00:00\", \"deaths\": 0, \"cumulative deaths\": 0}, {\"code\": \"RXW\", \"name\": \"SHREWSBURY AND TELFORD HOSPITAL NHS TRUST\", \"date of death\": \"2020-03-12T00:00:00\", \"deaths\": 0, \"cumulative deaths\": 0}, {\"code\": \"RXW\", \"name\": \"SHREWSBURY AND TELFORD HOSPITAL NHS TRUST\", \"date of death\": \"2020-03-13T00:00:00\", \"deaths\": 0, \"cumulative deaths\": 0}, {\"code\": \"RXW\", \"name\": \"SHREWSBURY AND TELFORD HOSPITAL NHS TRUST\", \"date of death\": \"2020-03-14T00:00:00\", \"deaths\": 0, \"cumulative deaths\": 0}, {\"code\": \"RXW\", \"name\": \"SHREWSBURY AND TELFORD HOSPITAL NHS TRUST\", \"date of death\": \"2020-03-15T00:00:00\", \"deaths\": 1, \"cumulative deaths\": 1}, {\"code\": \"RXW\", \"name\": \"SHREWSBURY AND TELFORD HOSPITAL NHS TRUST\", \"date of death\": \"2020-03-16T00:00:00\", \"deaths\": 0, \"cumulative deaths\": 1}, {\"code\": \"RXW\", \"name\": \"SHREWSBURY AND TELFORD HOSPITAL NHS TRUST\", \"date of death\": \"2020-03-17T00:00:00\", \"deaths\": 0, \"cumulative deaths\": 1}, {\"code\": \"RXW\", \"name\": \"SHREWSBURY AND TELFORD HOSPITAL NHS TRUST\", \"date of death\": \"2020-03-18T00:00:00\", \"deaths\": 0, \"cumulative deaths\": 1}, {\"code\": \"RXW\", \"name\": \"SHREWSBURY AND TELFORD HOSPITAL NHS TRUST\", \"date of death\": \"2020-03-19T00:00:00\", \"deaths\": 1, \"cumulative deaths\": 2}, {\"code\": \"RXW\", \"name\": \"SHREWSBURY AND TELFORD HOSPITAL NHS TRUST\", \"date of death\": \"2020-03-20T00:00:00\", \"deaths\": 0, \"cumulative deaths\": 2}, {\"code\": \"RXW\", \"name\": \"SHREWSBURY AND TELFORD HOSPITAL NHS TRUST\", \"date of death\": \"2020-03-21T00:00:00\", \"deaths\": 1, \"cumulative deaths\": 3}, {\"code\": \"RXW\", \"name\": \"SHREWSBURY AND TELFORD HOSPITAL NHS TRUST\", \"date of death\": \"2020-03-22T00:00:00\", \"deaths\": 0, \"cumulative deaths\": 3}, {\"code\": \"RXW\", \"name\": \"SHREWSBURY AND TELFORD HOSPITAL NHS TRUST\", \"date of death\": \"2020-03-23T00:00:00\", \"deaths\": 0, \"cumulative deaths\": 3}, {\"code\": \"RXW\", \"name\": \"SHREWSBURY AND TELFORD HOSPITAL NHS TRUST\", \"date of death\": \"2020-03-24T00:00:00\", \"deaths\": 0, \"cumulative deaths\": 3}, {\"code\": \"RXW\", \"name\": \"SHREWSBURY AND TELFORD HOSPITAL NHS TRUST\", \"date of death\": \"2020-03-25T00:00:00\", \"deaths\": 0, \"cumulative deaths\": 3}, {\"code\": \"RXW\", \"name\": \"SHREWSBURY AND TELFORD HOSPITAL NHS TRUST\", \"date of death\": \"2020-03-26T00:00:00\", \"deaths\": 3, \"cumulative deaths\": 6}, {\"code\": \"RXW\", \"name\": \"SHREWSBURY AND TELFORD HOSPITAL NHS TRUST\", \"date of death\": \"2020-03-27T00:00:00\", \"deaths\": 2, \"cumulative deaths\": 8}, {\"code\": \"RXW\", \"name\": \"SHREWSBURY AND TELFORD HOSPITAL NHS TRUST\", \"date of death\": \"2020-03-28T00:00:00\", \"deaths\": 4, \"cumulative deaths\": 12}, {\"code\": \"RXW\", \"name\": \"SHREWSBURY AND TELFORD HOSPITAL NHS TRUST\", \"date of death\": \"2020-03-29T00:00:00\", \"deaths\": 3, \"cumulative deaths\": 15}, {\"code\": \"RXW\", \"name\": \"SHREWSBURY AND TELFORD HOSPITAL NHS TRUST\", \"date of death\": \"2020-03-30T00:00:00\", \"deaths\": 2, \"cumulative deaths\": 17}, {\"code\": \"RXW\", \"name\": \"SHREWSBURY AND TELFORD HOSPITAL NHS TRUST\", \"date of death\": \"2020-03-31T00:00:00\", \"deaths\": 1, \"cumulative deaths\": 18}, {\"code\": \"RXW\", \"name\": \"SHREWSBURY AND TELFORD HOSPITAL NHS TRUST\", \"date of death\": \"2020-04-01T00:00:00\", \"deaths\": 3, \"cumulative deaths\": 21}, {\"code\": \"RXW\", \"name\": \"SHREWSBURY AND TELFORD HOSPITAL NHS TRUST\", \"date of death\": \"2020-04-02T00:00:00\", \"deaths\": 2, \"cumulative deaths\": 23}, {\"code\": \"RXW\", \"name\": \"SHREWSBURY AND TELFORD HOSPITAL NHS TRUST\", \"date of death\": \"2020-04-03T00:00:00\", \"deaths\": 4, \"cumulative deaths\": 27}, {\"code\": \"RXW\", \"name\": \"SHREWSBURY AND TELFORD HOSPITAL NHS TRUST\", \"date of death\": \"2020-04-04T00:00:00\", \"deaths\": 4, \"cumulative deaths\": 31}, {\"code\": \"RXW\", \"name\": \"SHREWSBURY AND TELFORD HOSPITAL NHS TRUST\", \"date of death\": \"2020-04-05T00:00:00\", \"deaths\": 3, \"cumulative deaths\": 34}, {\"code\": \"RXW\", \"name\": \"SHREWSBURY AND TELFORD HOSPITAL NHS TRUST\", \"date of death\": \"2020-04-06T00:00:00\", \"deaths\": 0, \"cumulative deaths\": 34}, {\"code\": \"RXW\", \"name\": \"SHREWSBURY AND TELFORD HOSPITAL NHS TRUST\", \"date of death\": \"2020-04-07T00:00:00\", \"deaths\": 1, \"cumulative deaths\": 35}, {\"code\": \"RXW\", \"name\": \"SHREWSBURY AND TELFORD HOSPITAL NHS TRUST\", \"date of death\": \"2020-04-08T00:00:00\", \"deaths\": 2, \"cumulative deaths\": 37}, {\"code\": \"RXW\", \"name\": \"SHREWSBURY AND TELFORD HOSPITAL NHS TRUST\", \"date of death\": \"2020-04-09T00:00:00\", \"deaths\": 0, \"cumulative deaths\": 37}, {\"code\": \"RXW\", \"name\": \"SHREWSBURY AND TELFORD HOSPITAL NHS TRUST\", \"date of death\": \"2020-04-10T00:00:00\", \"deaths\": 2, \"cumulative deaths\": 39}, {\"code\": \"RXW\", \"name\": \"SHREWSBURY AND TELFORD HOSPITAL NHS TRUST\", \"date of death\": \"2020-04-11T00:00:00\", \"deaths\": 8, \"cumulative deaths\": 47}, {\"code\": \"RXW\", \"name\": \"SHREWSBURY AND TELFORD HOSPITAL NHS TRUST\", \"date of death\": \"2020-04-12T00:00:00\", \"deaths\": 2, \"cumulative deaths\": 49}, {\"code\": \"RXW\", \"name\": \"SHREWSBURY AND TELFORD HOSPITAL NHS TRUST\", \"date of death\": \"2020-04-13T00:00:00\", \"deaths\": 3, \"cumulative deaths\": 52}, {\"code\": \"RXW\", \"name\": \"SHREWSBURY AND TELFORD HOSPITAL NHS TRUST\", \"date of death\": \"2020-04-14T00:00:00\", \"deaths\": 0, \"cumulative deaths\": 52}, {\"code\": \"RXW\", \"name\": \"SHREWSBURY AND TELFORD HOSPITAL NHS TRUST\", \"date of death\": \"2020-04-15T00:00:00\", \"deaths\": 3, \"cumulative deaths\": 55}, {\"code\": \"RXW\", \"name\": \"SHREWSBURY AND TELFORD HOSPITAL NHS TRUST\", \"date of death\": \"2020-04-16T00:00:00\", \"deaths\": 2, \"cumulative deaths\": 57}, {\"code\": \"RXW\", \"name\": \"SHREWSBURY AND TELFORD HOSPITAL NHS TRUST\", \"date of death\": \"2020-04-17T00:00:00\", \"deaths\": 1, \"cumulative deaths\": 58}, {\"code\": \"RXW\", \"name\": \"SHREWSBURY AND TELFORD HOSPITAL NHS TRUST\", \"date of death\": \"2020-04-18T00:00:00\", \"deaths\": 3, \"cumulative deaths\": 61}, {\"code\": \"RXW\", \"name\": \"SHREWSBURY AND TELFORD HOSPITAL NHS TRUST\", \"date of death\": \"2020-04-19T00:00:00\", \"deaths\": 0, \"cumulative deaths\": 61}, {\"code\": \"RYW\", \"name\": \"BIRMINGHAM COMMUNITY HEALTHCARE NHS FOUNDATION TRUST\", \"date of death\": \"2020-02-29T00:00:00\", \"deaths\": 0, \"cumulative deaths\": 0}, {\"code\": \"RYW\", \"name\": \"BIRMINGHAM COMMUNITY HEALTHCARE NHS FOUNDATION TRUST\", \"date of death\": \"2020-03-01T00:00:00\", \"deaths\": 0, \"cumulative deaths\": 0}, {\"code\": \"RYW\", \"name\": \"BIRMINGHAM COMMUNITY HEALTHCARE NHS FOUNDATION TRUST\", \"date of death\": \"2020-03-02T00:00:00\", \"deaths\": 0, \"cumulative deaths\": 0}, {\"code\": \"RYW\", \"name\": \"BIRMINGHAM COMMUNITY HEALTHCARE NHS FOUNDATION TRUST\", \"date of death\": \"2020-03-03T00:00:00\", \"deaths\": 0, \"cumulative deaths\": 0}, {\"code\": \"RYW\", \"name\": \"BIRMINGHAM COMMUNITY HEALTHCARE NHS FOUNDATION TRUST\", \"date of death\": \"2020-03-04T00:00:00\", \"deaths\": 0, \"cumulative deaths\": 0}, {\"code\": \"RYW\", \"name\": \"BIRMINGHAM COMMUNITY HEALTHCARE NHS FOUNDATION TRUST\", \"date of death\": \"2020-03-05T00:00:00\", \"deaths\": 0, \"cumulative deaths\": 0}, {\"code\": \"RYW\", \"name\": \"BIRMINGHAM COMMUNITY HEALTHCARE NHS FOUNDATION TRUST\", \"date of death\": \"2020-03-06T00:00:00\", \"deaths\": 0, \"cumulative deaths\": 0}, {\"code\": \"RYW\", \"name\": \"BIRMINGHAM COMMUNITY HEALTHCARE NHS FOUNDATION TRUST\", \"date of death\": \"2020-03-07T00:00:00\", \"deaths\": 0, \"cumulative deaths\": 0}, {\"code\": \"RYW\", \"name\": \"BIRMINGHAM COMMUNITY HEALTHCARE NHS FOUNDATION TRUST\", \"date of death\": \"2020-03-08T00:00:00\", \"deaths\": 0, \"cumulative deaths\": 0}, {\"code\": \"RYW\", \"name\": \"BIRMINGHAM COMMUNITY HEALTHCARE NHS FOUNDATION TRUST\", \"date of death\": \"2020-03-09T00:00:00\", \"deaths\": 0, \"cumulative deaths\": 0}, {\"code\": \"RYW\", \"name\": \"BIRMINGHAM COMMUNITY HEALTHCARE NHS FOUNDATION TRUST\", \"date of death\": \"2020-03-10T00:00:00\", \"deaths\": 0, \"cumulative deaths\": 0}, {\"code\": \"RYW\", \"name\": \"BIRMINGHAM COMMUNITY HEALTHCARE NHS FOUNDATION TRUST\", \"date of death\": \"2020-03-11T00:00:00\", \"deaths\": 0, \"cumulative deaths\": 0}, {\"code\": \"RYW\", \"name\": \"BIRMINGHAM COMMUNITY HEALTHCARE NHS FOUNDATION TRUST\", \"date of death\": \"2020-03-12T00:00:00\", \"deaths\": 0, \"cumulative deaths\": 0}, {\"code\": \"RYW\", \"name\": \"BIRMINGHAM COMMUNITY HEALTHCARE NHS FOUNDATION TRUST\", \"date of death\": \"2020-03-13T00:00:00\", \"deaths\": 0, \"cumulative deaths\": 0}, {\"code\": \"RYW\", \"name\": \"BIRMINGHAM COMMUNITY HEALTHCARE NHS FOUNDATION TRUST\", \"date of death\": \"2020-03-14T00:00:00\", \"deaths\": 0, \"cumulative deaths\": 0}, {\"code\": \"RYW\", \"name\": \"BIRMINGHAM COMMUNITY HEALTHCARE NHS FOUNDATION TRUST\", \"date of death\": \"2020-03-15T00:00:00\", \"deaths\": 0, \"cumulative deaths\": 0}, {\"code\": \"RYW\", \"name\": \"BIRMINGHAM COMMUNITY HEALTHCARE NHS FOUNDATION TRUST\", \"date of death\": \"2020-03-16T00:00:00\", \"deaths\": 0, \"cumulative deaths\": 0}, {\"code\": \"RYW\", \"name\": \"BIRMINGHAM COMMUNITY HEALTHCARE NHS FOUNDATION TRUST\", \"date of death\": \"2020-03-17T00:00:00\", \"deaths\": 0, \"cumulative deaths\": 0}, {\"code\": \"RYW\", \"name\": \"BIRMINGHAM COMMUNITY HEALTHCARE NHS FOUNDATION TRUST\", \"date of death\": \"2020-03-18T00:00:00\", \"deaths\": 0, \"cumulative deaths\": 0}, {\"code\": \"RYW\", \"name\": \"BIRMINGHAM COMMUNITY HEALTHCARE NHS FOUNDATION TRUST\", \"date of death\": \"2020-03-19T00:00:00\", \"deaths\": 0, \"cumulative deaths\": 0}, {\"code\": \"RYW\", \"name\": \"BIRMINGHAM COMMUNITY HEALTHCARE NHS FOUNDATION TRUST\", \"date of death\": \"2020-03-20T00:00:00\", \"deaths\": 0, \"cumulative deaths\": 0}, {\"code\": \"RYW\", \"name\": \"BIRMINGHAM COMMUNITY HEALTHCARE NHS FOUNDATION TRUST\", \"date of death\": \"2020-03-21T00:00:00\", \"deaths\": 0, \"cumulative deaths\": 0}, {\"code\": \"RYW\", \"name\": \"BIRMINGHAM COMMUNITY HEALTHCARE NHS FOUNDATION TRUST\", \"date of death\": \"2020-03-22T00:00:00\", \"deaths\": 0, \"cumulative deaths\": 0}, {\"code\": \"RYW\", \"name\": \"BIRMINGHAM COMMUNITY HEALTHCARE NHS FOUNDATION TRUST\", \"date of death\": \"2020-03-23T00:00:00\", \"deaths\": 0, \"cumulative deaths\": 0}, {\"code\": \"RYW\", \"name\": \"BIRMINGHAM COMMUNITY HEALTHCARE NHS FOUNDATION TRUST\", \"date of death\": \"2020-03-24T00:00:00\", \"deaths\": 0, \"cumulative deaths\": 0}, {\"code\": \"RYW\", \"name\": \"BIRMINGHAM COMMUNITY HEALTHCARE NHS FOUNDATION TRUST\", \"date of death\": \"2020-03-25T00:00:00\", \"deaths\": 0, \"cumulative deaths\": 0}, {\"code\": \"RYW\", \"name\": \"BIRMINGHAM COMMUNITY HEALTHCARE NHS FOUNDATION TRUST\", \"date of death\": \"2020-03-26T00:00:00\", \"deaths\": 0, \"cumulative deaths\": 0}, {\"code\": \"RYW\", \"name\": \"BIRMINGHAM COMMUNITY HEALTHCARE NHS FOUNDATION TRUST\", \"date of death\": \"2020-03-27T00:00:00\", \"deaths\": 0, \"cumulative deaths\": 0}, {\"code\": \"RYW\", \"name\": \"BIRMINGHAM COMMUNITY HEALTHCARE NHS FOUNDATION TRUST\", \"date of death\": \"2020-03-28T00:00:00\", \"deaths\": 0, \"cumulative deaths\": 0}, {\"code\": \"RYW\", \"name\": \"BIRMINGHAM COMMUNITY HEALTHCARE NHS FOUNDATION TRUST\", \"date of death\": \"2020-03-29T00:00:00\", \"deaths\": 0, \"cumulative deaths\": 0}, {\"code\": \"RYW\", \"name\": \"BIRMINGHAM COMMUNITY HEALTHCARE NHS FOUNDATION TRUST\", \"date of death\": \"2020-03-30T00:00:00\", \"deaths\": 1, \"cumulative deaths\": 1}, {\"code\": \"RYW\", \"name\": \"BIRMINGHAM COMMUNITY HEALTHCARE NHS FOUNDATION TRUST\", \"date of death\": \"2020-03-31T00:00:00\", \"deaths\": 0, \"cumulative deaths\": 1}, {\"code\": \"RYW\", \"name\": \"BIRMINGHAM COMMUNITY HEALTHCARE NHS FOUNDATION TRUST\", \"date of death\": \"2020-04-01T00:00:00\", \"deaths\": 0, \"cumulative deaths\": 1}, {\"code\": \"RYW\", \"name\": \"BIRMINGHAM COMMUNITY HEALTHCARE NHS FOUNDATION TRUST\", \"date of death\": \"2020-04-02T00:00:00\", \"deaths\": 1, \"cumulative deaths\": 2}, {\"code\": \"RYW\", \"name\": \"BIRMINGHAM COMMUNITY HEALTHCARE NHS FOUNDATION TRUST\", \"date of death\": \"2020-04-03T00:00:00\", \"deaths\": 0, \"cumulative deaths\": 2}, {\"code\": \"RYW\", \"name\": \"BIRMINGHAM COMMUNITY HEALTHCARE NHS FOUNDATION TRUST\", \"date of death\": \"2020-04-04T00:00:00\", \"deaths\": 1, \"cumulative deaths\": 3}, {\"code\": \"RYW\", \"name\": \"BIRMINGHAM COMMUNITY HEALTHCARE NHS FOUNDATION TRUST\", \"date of death\": \"2020-04-05T00:00:00\", \"deaths\": 0, \"cumulative deaths\": 3}, {\"code\": \"RYW\", \"name\": \"BIRMINGHAM COMMUNITY HEALTHCARE NHS FOUNDATION TRUST\", \"date of death\": \"2020-04-06T00:00:00\", \"deaths\": 2, \"cumulative deaths\": 5}, {\"code\": \"RYW\", \"name\": \"BIRMINGHAM COMMUNITY HEALTHCARE NHS FOUNDATION TRUST\", \"date of death\": \"2020-04-07T00:00:00\", \"deaths\": 2, \"cumulative deaths\": 7}, {\"code\": \"RYW\", \"name\": \"BIRMINGHAM COMMUNITY HEALTHCARE NHS FOUNDATION TRUST\", \"date of death\": \"2020-04-08T00:00:00\", \"deaths\": 0, \"cumulative deaths\": 7}, {\"code\": \"RYW\", \"name\": \"BIRMINGHAM COMMUNITY HEALTHCARE NHS FOUNDATION TRUST\", \"date of death\": \"2020-04-09T00:00:00\", \"deaths\": 1, \"cumulative deaths\": 8}, {\"code\": \"RYW\", \"name\": \"BIRMINGHAM COMMUNITY HEALTHCARE NHS FOUNDATION TRUST\", \"date of death\": \"2020-04-10T00:00:00\", \"deaths\": 1, \"cumulative deaths\": 9}, {\"code\": \"RYW\", \"name\": \"BIRMINGHAM COMMUNITY HEALTHCARE NHS FOUNDATION TRUST\", \"date of death\": \"2020-04-11T00:00:00\", \"deaths\": 1, \"cumulative deaths\": 10}, {\"code\": \"RYW\", \"name\": \"BIRMINGHAM COMMUNITY HEALTHCARE NHS FOUNDATION TRUST\", \"date of death\": \"2020-04-12T00:00:00\", \"deaths\": 1, \"cumulative deaths\": 11}, {\"code\": \"RYW\", \"name\": \"BIRMINGHAM COMMUNITY HEALTHCARE NHS FOUNDATION TRUST\", \"date of death\": \"2020-04-13T00:00:00\", \"deaths\": 1, \"cumulative deaths\": 12}, {\"code\": \"RYW\", \"name\": \"BIRMINGHAM COMMUNITY HEALTHCARE NHS FOUNDATION TRUST\", \"date of death\": \"2020-04-14T00:00:00\", \"deaths\": 0, \"cumulative deaths\": 12}, {\"code\": \"RYW\", \"name\": \"BIRMINGHAM COMMUNITY HEALTHCARE NHS FOUNDATION TRUST\", \"date of death\": \"2020-04-15T00:00:00\", \"deaths\": 2, \"cumulative deaths\": 14}, {\"code\": \"RYW\", \"name\": \"BIRMINGHAM COMMUNITY HEALTHCARE NHS FOUNDATION TRUST\", \"date of death\": \"2020-04-16T00:00:00\", \"deaths\": 0, \"cumulative deaths\": 14}, {\"code\": \"RYW\", \"name\": \"BIRMINGHAM COMMUNITY HEALTHCARE NHS FOUNDATION TRUST\", \"date of death\": \"2020-04-17T00:00:00\", \"deaths\": 1, \"cumulative deaths\": 15}, {\"code\": \"RYW\", \"name\": \"BIRMINGHAM COMMUNITY HEALTHCARE NHS FOUNDATION TRUST\", \"date of death\": \"2020-04-18T00:00:00\", \"deaths\": 0, \"cumulative deaths\": 15}, {\"code\": \"RYW\", \"name\": \"BIRMINGHAM COMMUNITY HEALTHCARE NHS FOUNDATION TRUST\", \"date of death\": \"2020-04-19T00:00:00\", \"deaths\": 0, \"cumulative deaths\": 15}]}}, {\"mode\": \"vega-lite\"});\n",
       "</script>"
      ],
      "text/plain": [
       "alt.Chart(...)"
      ]
     },
     "execution_count": 25,
     "metadata": {},
     "output_type": "execute_result"
    }
   ],
   "source": [
    "chart_doddbt = our_trusts_historical.copy()\n",
    "chart_doddbt_latest = chart_doddbt['date reported'].max()\n",
    "chart_doddbt = chart_doddbt[chart_doddbt['date reported'] == chart_doddbt_latest]\n",
    "chart_doddbt = chart_doddbt.groupby(['code','name','date of death'], as_index=False)['deaths'].sum()\n",
    "chart_doddbt['cumulative deaths'] = chart_doddbt.groupby('name').cumsum()\n",
    "\n",
    "alt.Chart(chart_doddbt).mark_line().encode(\n",
    "    x='date of death',\n",
    "    y='deaths',\n",
    "    color='name'\n",
    ")"
   ]
  },
  {
   "cell_type": "code",
   "execution_count": 26,
   "metadata": {},
   "outputs": [
    {
     "data": {
      "text/html": [
       "\n",
       "<div id=\"altair-viz-b7f3d481d2514605b9f932b28dfe3027\"></div>\n",
       "<script type=\"text/javascript\">\n",
       "  (function(spec, embedOpt){\n",
       "    let outputDiv = document.currentScript.previousElementSibling;\n",
       "    if (outputDiv.id !== \"altair-viz-b7f3d481d2514605b9f932b28dfe3027\") {\n",
       "      outputDiv = document.getElementById(\"altair-viz-b7f3d481d2514605b9f932b28dfe3027\");\n",
       "    }\n",
       "    const paths = {\n",
       "      \"vega\": \"https://cdn.jsdelivr.net/npm//vega@5?noext\",\n",
       "      \"vega-lib\": \"https://cdn.jsdelivr.net/npm//vega-lib?noext\",\n",
       "      \"vega-lite\": \"https://cdn.jsdelivr.net/npm//vega-lite@4.8.1?noext\",\n",
       "      \"vega-embed\": \"https://cdn.jsdelivr.net/npm//vega-embed@6?noext\",\n",
       "    };\n",
       "\n",
       "    function loadScript(lib) {\n",
       "      return new Promise(function(resolve, reject) {\n",
       "        var s = document.createElement('script');\n",
       "        s.src = paths[lib];\n",
       "        s.async = true;\n",
       "        s.onload = () => resolve(paths[lib]);\n",
       "        s.onerror = () => reject(`Error loading script: ${paths[lib]}`);\n",
       "        document.getElementsByTagName(\"head\")[0].appendChild(s);\n",
       "      });\n",
       "    }\n",
       "\n",
       "    function showError(err) {\n",
       "      outputDiv.innerHTML = `<div class=\"error\" style=\"color:red;\">${err}</div>`;\n",
       "      throw err;\n",
       "    }\n",
       "\n",
       "    function displayChart(vegaEmbed) {\n",
       "      vegaEmbed(outputDiv, spec, embedOpt)\n",
       "        .catch(err => showError(`Javascript Error: ${err.message}<br>This usually means there's a typo in your chart specification. See the javascript console for the full traceback.`));\n",
       "    }\n",
       "\n",
       "    if(typeof define === \"function\" && define.amd) {\n",
       "      requirejs.config({paths});\n",
       "      require([\"vega-embed\"], displayChart, err => showError(`Error loading script: ${err.message}`));\n",
       "    } else if (typeof vegaEmbed === \"function\") {\n",
       "      displayChart(vegaEmbed);\n",
       "    } else {\n",
       "      loadScript(\"vega\")\n",
       "        .then(() => loadScript(\"vega-lite\"))\n",
       "        .then(() => loadScript(\"vega-embed\"))\n",
       "        .catch(showError)\n",
       "        .then(() => displayChart(vegaEmbed));\n",
       "    }\n",
       "  })({\"config\": {\"view\": {\"continuousWidth\": 400, \"continuousHeight\": 300}}, \"data\": {\"name\": \"data-457eb793dc24a7c9db36f6272bd11c35\"}, \"mark\": \"bar\", \"encoding\": {\"color\": {\"type\": \"nominal\", \"field\": \"name\"}, \"column\": {\"type\": \"temporal\", \"field\": \"date of death\"}, \"x\": {\"type\": \"quantitative\", \"field\": \"deaths\"}, \"y\": {\"type\": \"nominal\", \"field\": \"name\"}}, \"width\": 220, \"$schema\": \"https://vega.github.io/schema/vega-lite/v4.8.1.json\", \"datasets\": {\"data-457eb793dc24a7c9db36f6272bd11c35\": [{\"code\": \"R1A\", \"name\": \"WORCESTERSHIRE HEALTH AND CARE NHS TRUST\", \"date of death\": \"2020-02-29T00:00:00\", \"deaths\": 0, \"cumulative deaths\": 0}, {\"code\": \"R1A\", \"name\": \"WORCESTERSHIRE HEALTH AND CARE NHS TRUST\", \"date of death\": \"2020-03-01T00:00:00\", \"deaths\": 0, \"cumulative deaths\": 0}, {\"code\": \"R1A\", \"name\": \"WORCESTERSHIRE HEALTH AND CARE NHS TRUST\", \"date of death\": \"2020-03-02T00:00:00\", \"deaths\": 0, \"cumulative deaths\": 0}, {\"code\": \"R1A\", \"name\": \"WORCESTERSHIRE HEALTH AND CARE NHS TRUST\", \"date of death\": \"2020-03-03T00:00:00\", \"deaths\": 0, \"cumulative deaths\": 0}, {\"code\": \"R1A\", \"name\": \"WORCESTERSHIRE HEALTH AND CARE NHS TRUST\", \"date of death\": \"2020-03-04T00:00:00\", \"deaths\": 0, \"cumulative deaths\": 0}, {\"code\": \"R1A\", \"name\": \"WORCESTERSHIRE HEALTH AND CARE NHS TRUST\", \"date of death\": \"2020-03-05T00:00:00\", \"deaths\": 0, \"cumulative deaths\": 0}, {\"code\": \"R1A\", \"name\": \"WORCESTERSHIRE HEALTH AND CARE NHS TRUST\", \"date of death\": \"2020-03-06T00:00:00\", \"deaths\": 0, \"cumulative deaths\": 0}, {\"code\": \"R1A\", \"name\": \"WORCESTERSHIRE HEALTH AND CARE NHS TRUST\", \"date of death\": \"2020-03-07T00:00:00\", \"deaths\": 0, \"cumulative deaths\": 0}, {\"code\": \"R1A\", \"name\": \"WORCESTERSHIRE HEALTH AND CARE NHS TRUST\", \"date of death\": \"2020-03-08T00:00:00\", \"deaths\": 0, \"cumulative deaths\": 0}, {\"code\": \"R1A\", \"name\": \"WORCESTERSHIRE HEALTH AND CARE NHS TRUST\", \"date of death\": \"2020-03-09T00:00:00\", \"deaths\": 0, \"cumulative deaths\": 0}, {\"code\": \"R1A\", \"name\": \"WORCESTERSHIRE HEALTH AND CARE NHS TRUST\", \"date of death\": \"2020-03-10T00:00:00\", \"deaths\": 0, \"cumulative deaths\": 0}, {\"code\": \"R1A\", \"name\": \"WORCESTERSHIRE HEALTH AND CARE NHS TRUST\", \"date of death\": \"2020-03-11T00:00:00\", \"deaths\": 0, \"cumulative deaths\": 0}, {\"code\": \"R1A\", \"name\": \"WORCESTERSHIRE HEALTH AND CARE NHS TRUST\", \"date of death\": \"2020-03-12T00:00:00\", \"deaths\": 0, \"cumulative deaths\": 0}, {\"code\": \"R1A\", \"name\": \"WORCESTERSHIRE HEALTH AND CARE NHS TRUST\", \"date of death\": \"2020-03-13T00:00:00\", \"deaths\": 0, \"cumulative deaths\": 0}, {\"code\": \"R1A\", \"name\": \"WORCESTERSHIRE HEALTH AND CARE NHS TRUST\", \"date of death\": \"2020-03-14T00:00:00\", \"deaths\": 0, \"cumulative deaths\": 0}, {\"code\": \"R1A\", \"name\": \"WORCESTERSHIRE HEALTH AND CARE NHS TRUST\", \"date of death\": \"2020-03-15T00:00:00\", \"deaths\": 0, \"cumulative deaths\": 0}, {\"code\": \"R1A\", \"name\": \"WORCESTERSHIRE HEALTH AND CARE NHS TRUST\", \"date of death\": \"2020-03-16T00:00:00\", \"deaths\": 0, \"cumulative deaths\": 0}, {\"code\": \"R1A\", \"name\": \"WORCESTERSHIRE HEALTH AND CARE NHS TRUST\", \"date of death\": \"2020-03-17T00:00:00\", \"deaths\": 0, \"cumulative deaths\": 0}, {\"code\": \"R1A\", \"name\": \"WORCESTERSHIRE HEALTH AND CARE NHS TRUST\", \"date of death\": \"2020-03-18T00:00:00\", \"deaths\": 0, \"cumulative deaths\": 0}, {\"code\": \"R1A\", \"name\": \"WORCESTERSHIRE HEALTH AND CARE NHS TRUST\", \"date of death\": \"2020-03-19T00:00:00\", \"deaths\": 0, \"cumulative deaths\": 0}, {\"code\": \"R1A\", \"name\": \"WORCESTERSHIRE HEALTH AND CARE NHS TRUST\", \"date of death\": \"2020-03-20T00:00:00\", \"deaths\": 0, \"cumulative deaths\": 0}, {\"code\": \"R1A\", \"name\": \"WORCESTERSHIRE HEALTH AND CARE NHS TRUST\", \"date of death\": \"2020-03-21T00:00:00\", \"deaths\": 0, \"cumulative deaths\": 0}, {\"code\": \"R1A\", \"name\": \"WORCESTERSHIRE HEALTH AND CARE NHS TRUST\", \"date of death\": \"2020-03-22T00:00:00\", \"deaths\": 0, \"cumulative deaths\": 0}, {\"code\": \"R1A\", \"name\": \"WORCESTERSHIRE HEALTH AND CARE NHS TRUST\", \"date of death\": \"2020-03-23T00:00:00\", \"deaths\": 0, \"cumulative deaths\": 0}, {\"code\": \"R1A\", \"name\": \"WORCESTERSHIRE HEALTH AND CARE NHS TRUST\", \"date of death\": \"2020-03-24T00:00:00\", \"deaths\": 0, \"cumulative deaths\": 0}, {\"code\": \"R1A\", \"name\": \"WORCESTERSHIRE HEALTH AND CARE NHS TRUST\", \"date of death\": \"2020-03-25T00:00:00\", \"deaths\": 0, \"cumulative deaths\": 0}, {\"code\": \"R1A\", \"name\": \"WORCESTERSHIRE HEALTH AND CARE NHS TRUST\", \"date of death\": \"2020-03-26T00:00:00\", \"deaths\": 1, \"cumulative deaths\": 1}, {\"code\": \"R1A\", \"name\": \"WORCESTERSHIRE HEALTH AND CARE NHS TRUST\", \"date of death\": \"2020-03-27T00:00:00\", \"deaths\": 0, \"cumulative deaths\": 1}, {\"code\": \"R1A\", \"name\": \"WORCESTERSHIRE HEALTH AND CARE NHS TRUST\", \"date of death\": \"2020-03-28T00:00:00\", \"deaths\": 0, \"cumulative deaths\": 1}, {\"code\": \"R1A\", \"name\": \"WORCESTERSHIRE HEALTH AND CARE NHS TRUST\", \"date of death\": \"2020-03-29T00:00:00\", \"deaths\": 0, \"cumulative deaths\": 1}, {\"code\": \"R1A\", \"name\": \"WORCESTERSHIRE HEALTH AND CARE NHS TRUST\", \"date of death\": \"2020-03-30T00:00:00\", \"deaths\": 0, \"cumulative deaths\": 1}, {\"code\": \"R1A\", \"name\": \"WORCESTERSHIRE HEALTH AND CARE NHS TRUST\", \"date of death\": \"2020-03-31T00:00:00\", \"deaths\": 0, \"cumulative deaths\": 1}, {\"code\": \"R1A\", \"name\": \"WORCESTERSHIRE HEALTH AND CARE NHS TRUST\", \"date of death\": \"2020-04-01T00:00:00\", \"deaths\": 0, \"cumulative deaths\": 1}, {\"code\": \"R1A\", \"name\": \"WORCESTERSHIRE HEALTH AND CARE NHS TRUST\", \"date of death\": \"2020-04-02T00:00:00\", \"deaths\": 1, \"cumulative deaths\": 2}, {\"code\": \"R1A\", \"name\": \"WORCESTERSHIRE HEALTH AND CARE NHS TRUST\", \"date of death\": \"2020-04-03T00:00:00\", \"deaths\": 0, \"cumulative deaths\": 2}, {\"code\": \"R1A\", \"name\": \"WORCESTERSHIRE HEALTH AND CARE NHS TRUST\", \"date of death\": \"2020-04-04T00:00:00\", \"deaths\": 1, \"cumulative deaths\": 3}, {\"code\": \"R1A\", \"name\": \"WORCESTERSHIRE HEALTH AND CARE NHS TRUST\", \"date of death\": \"2020-04-05T00:00:00\", \"deaths\": 0, \"cumulative deaths\": 3}, {\"code\": \"R1A\", \"name\": \"WORCESTERSHIRE HEALTH AND CARE NHS TRUST\", \"date of death\": \"2020-04-06T00:00:00\", \"deaths\": 0, \"cumulative deaths\": 3}, {\"code\": \"R1A\", \"name\": \"WORCESTERSHIRE HEALTH AND CARE NHS TRUST\", \"date of death\": \"2020-04-07T00:00:00\", \"deaths\": 1, \"cumulative deaths\": 4}, {\"code\": \"R1A\", \"name\": \"WORCESTERSHIRE HEALTH AND CARE NHS TRUST\", \"date of death\": \"2020-04-08T00:00:00\", \"deaths\": 0, \"cumulative deaths\": 4}, {\"code\": \"R1A\", \"name\": \"WORCESTERSHIRE HEALTH AND CARE NHS TRUST\", \"date of death\": \"2020-04-09T00:00:00\", \"deaths\": 0, \"cumulative deaths\": 4}, {\"code\": \"R1A\", \"name\": \"WORCESTERSHIRE HEALTH AND CARE NHS TRUST\", \"date of death\": \"2020-04-10T00:00:00\", \"deaths\": 1, \"cumulative deaths\": 5}, {\"code\": \"R1A\", \"name\": \"WORCESTERSHIRE HEALTH AND CARE NHS TRUST\", \"date of death\": \"2020-04-11T00:00:00\", \"deaths\": 1, \"cumulative deaths\": 6}, {\"code\": \"R1A\", \"name\": \"WORCESTERSHIRE HEALTH AND CARE NHS TRUST\", \"date of death\": \"2020-04-12T00:00:00\", \"deaths\": 2, \"cumulative deaths\": 8}, {\"code\": \"R1A\", \"name\": \"WORCESTERSHIRE HEALTH AND CARE NHS TRUST\", \"date of death\": \"2020-04-13T00:00:00\", \"deaths\": 1, \"cumulative deaths\": 9}, {\"code\": \"R1A\", \"name\": \"WORCESTERSHIRE HEALTH AND CARE NHS TRUST\", \"date of death\": \"2020-04-14T00:00:00\", \"deaths\": 0, \"cumulative deaths\": 9}, {\"code\": \"R1A\", \"name\": \"WORCESTERSHIRE HEALTH AND CARE NHS TRUST\", \"date of death\": \"2020-04-15T00:00:00\", \"deaths\": 1, \"cumulative deaths\": 10}, {\"code\": \"R1A\", \"name\": \"WORCESTERSHIRE HEALTH AND CARE NHS TRUST\", \"date of death\": \"2020-04-16T00:00:00\", \"deaths\": 0, \"cumulative deaths\": 10}, {\"code\": \"R1A\", \"name\": \"WORCESTERSHIRE HEALTH AND CARE NHS TRUST\", \"date of death\": \"2020-04-17T00:00:00\", \"deaths\": 1, \"cumulative deaths\": 11}, {\"code\": \"R1A\", \"name\": \"WORCESTERSHIRE HEALTH AND CARE NHS TRUST\", \"date of death\": \"2020-04-18T00:00:00\", \"deaths\": 3, \"cumulative deaths\": 14}, {\"code\": \"R1A\", \"name\": \"WORCESTERSHIRE HEALTH AND CARE NHS TRUST\", \"date of death\": \"2020-04-19T00:00:00\", \"deaths\": 0, \"cumulative deaths\": 14}, {\"code\": \"R1D\", \"name\": \"SHROPSHIRE COMMUNITY HEALTH NHS TRUST\", \"date of death\": \"2020-02-29T00:00:00\", \"deaths\": 0, \"cumulative deaths\": 0}, {\"code\": \"R1D\", \"name\": \"SHROPSHIRE COMMUNITY HEALTH NHS TRUST\", \"date of death\": \"2020-03-01T00:00:00\", \"deaths\": 0, \"cumulative deaths\": 0}, {\"code\": \"R1D\", \"name\": \"SHROPSHIRE COMMUNITY HEALTH NHS TRUST\", \"date of death\": \"2020-03-02T00:00:00\", \"deaths\": 0, \"cumulative deaths\": 0}, {\"code\": \"R1D\", \"name\": \"SHROPSHIRE COMMUNITY HEALTH NHS TRUST\", \"date of death\": \"2020-03-03T00:00:00\", \"deaths\": 0, \"cumulative deaths\": 0}, {\"code\": \"R1D\", \"name\": \"SHROPSHIRE COMMUNITY HEALTH NHS TRUST\", \"date of death\": \"2020-03-04T00:00:00\", \"deaths\": 0, \"cumulative deaths\": 0}, {\"code\": \"R1D\", \"name\": \"SHROPSHIRE COMMUNITY HEALTH NHS TRUST\", \"date of death\": \"2020-03-05T00:00:00\", \"deaths\": 0, \"cumulative deaths\": 0}, {\"code\": \"R1D\", \"name\": \"SHROPSHIRE COMMUNITY HEALTH NHS TRUST\", \"date of death\": \"2020-03-06T00:00:00\", \"deaths\": 0, \"cumulative deaths\": 0}, {\"code\": \"R1D\", \"name\": \"SHROPSHIRE COMMUNITY HEALTH NHS TRUST\", \"date of death\": \"2020-03-07T00:00:00\", \"deaths\": 0, \"cumulative deaths\": 0}, {\"code\": \"R1D\", \"name\": \"SHROPSHIRE COMMUNITY HEALTH NHS TRUST\", \"date of death\": \"2020-03-08T00:00:00\", \"deaths\": 0, \"cumulative deaths\": 0}, {\"code\": \"R1D\", \"name\": \"SHROPSHIRE COMMUNITY HEALTH NHS TRUST\", \"date of death\": \"2020-03-09T00:00:00\", \"deaths\": 0, \"cumulative deaths\": 0}, {\"code\": \"R1D\", \"name\": \"SHROPSHIRE COMMUNITY HEALTH NHS TRUST\", \"date of death\": \"2020-03-10T00:00:00\", \"deaths\": 0, \"cumulative deaths\": 0}, {\"code\": \"R1D\", \"name\": \"SHROPSHIRE COMMUNITY HEALTH NHS TRUST\", \"date of death\": \"2020-03-11T00:00:00\", \"deaths\": 0, \"cumulative deaths\": 0}, {\"code\": \"R1D\", \"name\": \"SHROPSHIRE COMMUNITY HEALTH NHS TRUST\", \"date of death\": \"2020-03-12T00:00:00\", \"deaths\": 0, \"cumulative deaths\": 0}, {\"code\": \"R1D\", \"name\": \"SHROPSHIRE COMMUNITY HEALTH NHS TRUST\", \"date of death\": \"2020-03-13T00:00:00\", \"deaths\": 0, \"cumulative deaths\": 0}, {\"code\": \"R1D\", \"name\": \"SHROPSHIRE COMMUNITY HEALTH NHS TRUST\", \"date of death\": \"2020-03-14T00:00:00\", \"deaths\": 0, \"cumulative deaths\": 0}, {\"code\": \"R1D\", \"name\": \"SHROPSHIRE COMMUNITY HEALTH NHS TRUST\", \"date of death\": \"2020-03-15T00:00:00\", \"deaths\": 0, \"cumulative deaths\": 0}, {\"code\": \"R1D\", \"name\": \"SHROPSHIRE COMMUNITY HEALTH NHS TRUST\", \"date of death\": \"2020-03-16T00:00:00\", \"deaths\": 0, \"cumulative deaths\": 0}, {\"code\": \"R1D\", \"name\": \"SHROPSHIRE COMMUNITY HEALTH NHS TRUST\", \"date of death\": \"2020-03-17T00:00:00\", \"deaths\": 0, \"cumulative deaths\": 0}, {\"code\": \"R1D\", \"name\": \"SHROPSHIRE COMMUNITY HEALTH NHS TRUST\", \"date of death\": \"2020-03-18T00:00:00\", \"deaths\": 0, \"cumulative deaths\": 0}, {\"code\": \"R1D\", \"name\": \"SHROPSHIRE COMMUNITY HEALTH NHS TRUST\", \"date of death\": \"2020-03-19T00:00:00\", \"deaths\": 0, \"cumulative deaths\": 0}, {\"code\": \"R1D\", \"name\": \"SHROPSHIRE COMMUNITY HEALTH NHS TRUST\", \"date of death\": \"2020-03-20T00:00:00\", \"deaths\": 0, \"cumulative deaths\": 0}, {\"code\": \"R1D\", \"name\": \"SHROPSHIRE COMMUNITY HEALTH NHS TRUST\", \"date of death\": \"2020-03-21T00:00:00\", \"deaths\": 0, \"cumulative deaths\": 0}, {\"code\": \"R1D\", \"name\": \"SHROPSHIRE COMMUNITY HEALTH NHS TRUST\", \"date of death\": \"2020-03-22T00:00:00\", \"deaths\": 0, \"cumulative deaths\": 0}, {\"code\": \"R1D\", \"name\": \"SHROPSHIRE COMMUNITY HEALTH NHS TRUST\", \"date of death\": \"2020-03-23T00:00:00\", \"deaths\": 0, \"cumulative deaths\": 0}, {\"code\": \"R1D\", \"name\": \"SHROPSHIRE COMMUNITY HEALTH NHS TRUST\", \"date of death\": \"2020-03-24T00:00:00\", \"deaths\": 0, \"cumulative deaths\": 0}, {\"code\": \"R1D\", \"name\": \"SHROPSHIRE COMMUNITY HEALTH NHS TRUST\", \"date of death\": \"2020-03-25T00:00:00\", \"deaths\": 0, \"cumulative deaths\": 0}, {\"code\": \"R1D\", \"name\": \"SHROPSHIRE COMMUNITY HEALTH NHS TRUST\", \"date of death\": \"2020-03-26T00:00:00\", \"deaths\": 0, \"cumulative deaths\": 0}, {\"code\": \"R1D\", \"name\": \"SHROPSHIRE COMMUNITY HEALTH NHS TRUST\", \"date of death\": \"2020-03-27T00:00:00\", \"deaths\": 0, \"cumulative deaths\": 0}, {\"code\": \"R1D\", \"name\": \"SHROPSHIRE COMMUNITY HEALTH NHS TRUST\", \"date of death\": \"2020-03-28T00:00:00\", \"deaths\": 0, \"cumulative deaths\": 0}, {\"code\": \"R1D\", \"name\": \"SHROPSHIRE COMMUNITY HEALTH NHS TRUST\", \"date of death\": \"2020-03-29T00:00:00\", \"deaths\": 0, \"cumulative deaths\": 0}, {\"code\": \"R1D\", \"name\": \"SHROPSHIRE COMMUNITY HEALTH NHS TRUST\", \"date of death\": \"2020-03-30T00:00:00\", \"deaths\": 0, \"cumulative deaths\": 0}, {\"code\": \"R1D\", \"name\": \"SHROPSHIRE COMMUNITY HEALTH NHS TRUST\", \"date of death\": \"2020-03-31T00:00:00\", \"deaths\": 0, \"cumulative deaths\": 0}, {\"code\": \"R1D\", \"name\": \"SHROPSHIRE COMMUNITY HEALTH NHS TRUST\", \"date of death\": \"2020-04-01T00:00:00\", \"deaths\": 0, \"cumulative deaths\": 0}, {\"code\": \"R1D\", \"name\": \"SHROPSHIRE COMMUNITY HEALTH NHS TRUST\", \"date of death\": \"2020-04-02T00:00:00\", \"deaths\": 0, \"cumulative deaths\": 0}, {\"code\": \"R1D\", \"name\": \"SHROPSHIRE COMMUNITY HEALTH NHS TRUST\", \"date of death\": \"2020-04-03T00:00:00\", \"deaths\": 0, \"cumulative deaths\": 0}, {\"code\": \"R1D\", \"name\": \"SHROPSHIRE COMMUNITY HEALTH NHS TRUST\", \"date of death\": \"2020-04-04T00:00:00\", \"deaths\": 0, \"cumulative deaths\": 0}, {\"code\": \"R1D\", \"name\": \"SHROPSHIRE COMMUNITY HEALTH NHS TRUST\", \"date of death\": \"2020-04-05T00:00:00\", \"deaths\": 0, \"cumulative deaths\": 0}, {\"code\": \"R1D\", \"name\": \"SHROPSHIRE COMMUNITY HEALTH NHS TRUST\", \"date of death\": \"2020-04-06T00:00:00\", \"deaths\": 0, \"cumulative deaths\": 0}, {\"code\": \"R1D\", \"name\": \"SHROPSHIRE COMMUNITY HEALTH NHS TRUST\", \"date of death\": \"2020-04-07T00:00:00\", \"deaths\": 0, \"cumulative deaths\": 0}, {\"code\": \"R1D\", \"name\": \"SHROPSHIRE COMMUNITY HEALTH NHS TRUST\", \"date of death\": \"2020-04-08T00:00:00\", \"deaths\": 0, \"cumulative deaths\": 0}, {\"code\": \"R1D\", \"name\": \"SHROPSHIRE COMMUNITY HEALTH NHS TRUST\", \"date of death\": \"2020-04-09T00:00:00\", \"deaths\": 0, \"cumulative deaths\": 0}, {\"code\": \"R1D\", \"name\": \"SHROPSHIRE COMMUNITY HEALTH NHS TRUST\", \"date of death\": \"2020-04-10T00:00:00\", \"deaths\": 0, \"cumulative deaths\": 0}, {\"code\": \"R1D\", \"name\": \"SHROPSHIRE COMMUNITY HEALTH NHS TRUST\", \"date of death\": \"2020-04-11T00:00:00\", \"deaths\": 0, \"cumulative deaths\": 0}, {\"code\": \"R1D\", \"name\": \"SHROPSHIRE COMMUNITY HEALTH NHS TRUST\", \"date of death\": \"2020-04-12T00:00:00\", \"deaths\": 1, \"cumulative deaths\": 1}, {\"code\": \"R1D\", \"name\": \"SHROPSHIRE COMMUNITY HEALTH NHS TRUST\", \"date of death\": \"2020-04-13T00:00:00\", \"deaths\": 0, \"cumulative deaths\": 1}, {\"code\": \"R1D\", \"name\": \"SHROPSHIRE COMMUNITY HEALTH NHS TRUST\", \"date of death\": \"2020-04-14T00:00:00\", \"deaths\": 0, \"cumulative deaths\": 1}, {\"code\": \"R1D\", \"name\": \"SHROPSHIRE COMMUNITY HEALTH NHS TRUST\", \"date of death\": \"2020-04-15T00:00:00\", \"deaths\": 1, \"cumulative deaths\": 2}, {\"code\": \"R1D\", \"name\": \"SHROPSHIRE COMMUNITY HEALTH NHS TRUST\", \"date of death\": \"2020-04-16T00:00:00\", \"deaths\": 0, \"cumulative deaths\": 2}, {\"code\": \"R1D\", \"name\": \"SHROPSHIRE COMMUNITY HEALTH NHS TRUST\", \"date of death\": \"2020-04-17T00:00:00\", \"deaths\": 0, \"cumulative deaths\": 2}, {\"code\": \"R1D\", \"name\": \"SHROPSHIRE COMMUNITY HEALTH NHS TRUST\", \"date of death\": \"2020-04-18T00:00:00\", \"deaths\": 1, \"cumulative deaths\": 3}, {\"code\": \"R1D\", \"name\": \"SHROPSHIRE COMMUNITY HEALTH NHS TRUST\", \"date of death\": \"2020-04-19T00:00:00\", \"deaths\": 0, \"cumulative deaths\": 3}, {\"code\": \"RBK\", \"name\": \"WALSALL HEALTHCARE NHS TRUST\", \"date of death\": \"2020-02-29T00:00:00\", \"deaths\": 0, \"cumulative deaths\": 0}, {\"code\": \"RBK\", \"name\": \"WALSALL HEALTHCARE NHS TRUST\", \"date of death\": \"2020-03-01T00:00:00\", \"deaths\": 0, \"cumulative deaths\": 0}, {\"code\": \"RBK\", \"name\": \"WALSALL HEALTHCARE NHS TRUST\", \"date of death\": \"2020-03-02T00:00:00\", \"deaths\": 0, \"cumulative deaths\": 0}, {\"code\": \"RBK\", \"name\": \"WALSALL HEALTHCARE NHS TRUST\", \"date of death\": \"2020-03-03T00:00:00\", \"deaths\": 0, \"cumulative deaths\": 0}, {\"code\": \"RBK\", \"name\": \"WALSALL HEALTHCARE NHS TRUST\", \"date of death\": \"2020-03-04T00:00:00\", \"deaths\": 0, \"cumulative deaths\": 0}, {\"code\": \"RBK\", \"name\": \"WALSALL HEALTHCARE NHS TRUST\", \"date of death\": \"2020-03-05T00:00:00\", \"deaths\": 0, \"cumulative deaths\": 0}, {\"code\": \"RBK\", \"name\": \"WALSALL HEALTHCARE NHS TRUST\", \"date of death\": \"2020-03-06T00:00:00\", \"deaths\": 0, \"cumulative deaths\": 0}, {\"code\": \"RBK\", \"name\": \"WALSALL HEALTHCARE NHS TRUST\", \"date of death\": \"2020-03-07T00:00:00\", \"deaths\": 0, \"cumulative deaths\": 0}, {\"code\": \"RBK\", \"name\": \"WALSALL HEALTHCARE NHS TRUST\", \"date of death\": \"2020-03-08T00:00:00\", \"deaths\": 0, \"cumulative deaths\": 0}, {\"code\": \"RBK\", \"name\": \"WALSALL HEALTHCARE NHS TRUST\", \"date of death\": \"2020-03-09T00:00:00\", \"deaths\": 0, \"cumulative deaths\": 0}, {\"code\": \"RBK\", \"name\": \"WALSALL HEALTHCARE NHS TRUST\", \"date of death\": \"2020-03-10T00:00:00\", \"deaths\": 0, \"cumulative deaths\": 0}, {\"code\": \"RBK\", \"name\": \"WALSALL HEALTHCARE NHS TRUST\", \"date of death\": \"2020-03-11T00:00:00\", \"deaths\": 0, \"cumulative deaths\": 0}, {\"code\": \"RBK\", \"name\": \"WALSALL HEALTHCARE NHS TRUST\", \"date of death\": \"2020-03-12T00:00:00\", \"deaths\": 1, \"cumulative deaths\": 1}, {\"code\": \"RBK\", \"name\": \"WALSALL HEALTHCARE NHS TRUST\", \"date of death\": \"2020-03-13T00:00:00\", \"deaths\": 0, \"cumulative deaths\": 1}, {\"code\": \"RBK\", \"name\": \"WALSALL HEALTHCARE NHS TRUST\", \"date of death\": \"2020-03-14T00:00:00\", \"deaths\": 0, \"cumulative deaths\": 1}, {\"code\": \"RBK\", \"name\": \"WALSALL HEALTHCARE NHS TRUST\", \"date of death\": \"2020-03-15T00:00:00\", \"deaths\": 0, \"cumulative deaths\": 1}, {\"code\": \"RBK\", \"name\": \"WALSALL HEALTHCARE NHS TRUST\", \"date of death\": \"2020-03-16T00:00:00\", \"deaths\": 1, \"cumulative deaths\": 2}, {\"code\": \"RBK\", \"name\": \"WALSALL HEALTHCARE NHS TRUST\", \"date of death\": \"2020-03-17T00:00:00\", \"deaths\": 0, \"cumulative deaths\": 2}, {\"code\": \"RBK\", \"name\": \"WALSALL HEALTHCARE NHS TRUST\", \"date of death\": \"2020-03-18T00:00:00\", \"deaths\": 0, \"cumulative deaths\": 2}, {\"code\": \"RBK\", \"name\": \"WALSALL HEALTHCARE NHS TRUST\", \"date of death\": \"2020-03-19T00:00:00\", \"deaths\": 0, \"cumulative deaths\": 2}, {\"code\": \"RBK\", \"name\": \"WALSALL HEALTHCARE NHS TRUST\", \"date of death\": \"2020-03-20T00:00:00\", \"deaths\": 0, \"cumulative deaths\": 2}, {\"code\": \"RBK\", \"name\": \"WALSALL HEALTHCARE NHS TRUST\", \"date of death\": \"2020-03-21T00:00:00\", \"deaths\": 0, \"cumulative deaths\": 2}, {\"code\": \"RBK\", \"name\": \"WALSALL HEALTHCARE NHS TRUST\", \"date of death\": \"2020-03-22T00:00:00\", \"deaths\": 1, \"cumulative deaths\": 3}, {\"code\": \"RBK\", \"name\": \"WALSALL HEALTHCARE NHS TRUST\", \"date of death\": \"2020-03-23T00:00:00\", \"deaths\": 1, \"cumulative deaths\": 4}, {\"code\": \"RBK\", \"name\": \"WALSALL HEALTHCARE NHS TRUST\", \"date of death\": \"2020-03-24T00:00:00\", \"deaths\": 4, \"cumulative deaths\": 8}, {\"code\": \"RBK\", \"name\": \"WALSALL HEALTHCARE NHS TRUST\", \"date of death\": \"2020-03-25T00:00:00\", \"deaths\": 2, \"cumulative deaths\": 10}, {\"code\": \"RBK\", \"name\": \"WALSALL HEALTHCARE NHS TRUST\", \"date of death\": \"2020-03-26T00:00:00\", \"deaths\": 3, \"cumulative deaths\": 13}, {\"code\": \"RBK\", \"name\": \"WALSALL HEALTHCARE NHS TRUST\", \"date of death\": \"2020-03-27T00:00:00\", \"deaths\": 7, \"cumulative deaths\": 20}, {\"code\": \"RBK\", \"name\": \"WALSALL HEALTHCARE NHS TRUST\", \"date of death\": \"2020-03-28T00:00:00\", \"deaths\": 6, \"cumulative deaths\": 26}, {\"code\": \"RBK\", \"name\": \"WALSALL HEALTHCARE NHS TRUST\", \"date of death\": \"2020-03-29T00:00:00\", \"deaths\": 5, \"cumulative deaths\": 31}, {\"code\": \"RBK\", \"name\": \"WALSALL HEALTHCARE NHS TRUST\", \"date of death\": \"2020-03-30T00:00:00\", \"deaths\": 5, \"cumulative deaths\": 36}, {\"code\": \"RBK\", \"name\": \"WALSALL HEALTHCARE NHS TRUST\", \"date of death\": \"2020-03-31T00:00:00\", \"deaths\": 4, \"cumulative deaths\": 40}, {\"code\": \"RBK\", \"name\": \"WALSALL HEALTHCARE NHS TRUST\", \"date of death\": \"2020-04-01T00:00:00\", \"deaths\": 5, \"cumulative deaths\": 45}, {\"code\": \"RBK\", \"name\": \"WALSALL HEALTHCARE NHS TRUST\", \"date of death\": \"2020-04-02T00:00:00\", \"deaths\": 11, \"cumulative deaths\": 56}, {\"code\": \"RBK\", \"name\": \"WALSALL HEALTHCARE NHS TRUST\", \"date of death\": \"2020-04-03T00:00:00\", \"deaths\": 8, \"cumulative deaths\": 64}, {\"code\": \"RBK\", \"name\": \"WALSALL HEALTHCARE NHS TRUST\", \"date of death\": \"2020-04-04T00:00:00\", \"deaths\": 9, \"cumulative deaths\": 73}, {\"code\": \"RBK\", \"name\": \"WALSALL HEALTHCARE NHS TRUST\", \"date of death\": \"2020-04-05T00:00:00\", \"deaths\": 5, \"cumulative deaths\": 78}, {\"code\": \"RBK\", \"name\": \"WALSALL HEALTHCARE NHS TRUST\", \"date of death\": \"2020-04-06T00:00:00\", \"deaths\": 5, \"cumulative deaths\": 83}, {\"code\": \"RBK\", \"name\": \"WALSALL HEALTHCARE NHS TRUST\", \"date of death\": \"2020-04-07T00:00:00\", \"deaths\": 6, \"cumulative deaths\": 89}, {\"code\": \"RBK\", \"name\": \"WALSALL HEALTHCARE NHS TRUST\", \"date of death\": \"2020-04-08T00:00:00\", \"deaths\": 7, \"cumulative deaths\": 96}, {\"code\": \"RBK\", \"name\": \"WALSALL HEALTHCARE NHS TRUST\", \"date of death\": \"2020-04-09T00:00:00\", \"deaths\": 6, \"cumulative deaths\": 102}, {\"code\": \"RBK\", \"name\": \"WALSALL HEALTHCARE NHS TRUST\", \"date of death\": \"2020-04-10T00:00:00\", \"deaths\": 7, \"cumulative deaths\": 109}, {\"code\": \"RBK\", \"name\": \"WALSALL HEALTHCARE NHS TRUST\", \"date of death\": \"2020-04-11T00:00:00\", \"deaths\": 3, \"cumulative deaths\": 112}, {\"code\": \"RBK\", \"name\": \"WALSALL HEALTHCARE NHS TRUST\", \"date of death\": \"2020-04-12T00:00:00\", \"deaths\": 3, \"cumulative deaths\": 115}, {\"code\": \"RBK\", \"name\": \"WALSALL HEALTHCARE NHS TRUST\", \"date of death\": \"2020-04-13T00:00:00\", \"deaths\": 7, \"cumulative deaths\": 122}, {\"code\": \"RBK\", \"name\": \"WALSALL HEALTHCARE NHS TRUST\", \"date of death\": \"2020-04-14T00:00:00\", \"deaths\": 4, \"cumulative deaths\": 126}, {\"code\": \"RBK\", \"name\": \"WALSALL HEALTHCARE NHS TRUST\", \"date of death\": \"2020-04-15T00:00:00\", \"deaths\": 2, \"cumulative deaths\": 128}, {\"code\": \"RBK\", \"name\": \"WALSALL HEALTHCARE NHS TRUST\", \"date of death\": \"2020-04-16T00:00:00\", \"deaths\": 0, \"cumulative deaths\": 128}, {\"code\": \"RBK\", \"name\": \"WALSALL HEALTHCARE NHS TRUST\", \"date of death\": \"2020-04-17T00:00:00\", \"deaths\": 0, \"cumulative deaths\": 128}, {\"code\": \"RBK\", \"name\": \"WALSALL HEALTHCARE NHS TRUST\", \"date of death\": \"2020-04-18T00:00:00\", \"deaths\": 0, \"cumulative deaths\": 128}, {\"code\": \"RBK\", \"name\": \"WALSALL HEALTHCARE NHS TRUST\", \"date of death\": \"2020-04-19T00:00:00\", \"deaths\": 0, \"cumulative deaths\": 128}, {\"code\": \"RJE\", \"name\": \"UNIVERSITY HOSPITALS OF NORTH MIDLANDS NHS TRUST\", \"date of death\": \"2020-02-29T00:00:00\", \"deaths\": 0, \"cumulative deaths\": 0}, {\"code\": \"RJE\", \"name\": \"UNIVERSITY HOSPITALS OF NORTH MIDLANDS NHS TRUST\", \"date of death\": \"2020-03-01T00:00:00\", \"deaths\": 0, \"cumulative deaths\": 0}, {\"code\": \"RJE\", \"name\": \"UNIVERSITY HOSPITALS OF NORTH MIDLANDS NHS TRUST\", \"date of death\": \"2020-03-02T00:00:00\", \"deaths\": 0, \"cumulative deaths\": 0}, {\"code\": \"RJE\", \"name\": \"UNIVERSITY HOSPITALS OF NORTH MIDLANDS NHS TRUST\", \"date of death\": \"2020-03-03T00:00:00\", \"deaths\": 0, \"cumulative deaths\": 0}, {\"code\": \"RJE\", \"name\": \"UNIVERSITY HOSPITALS OF NORTH MIDLANDS NHS TRUST\", \"date of death\": \"2020-03-04T00:00:00\", \"deaths\": 0, \"cumulative deaths\": 0}, {\"code\": \"RJE\", \"name\": \"UNIVERSITY HOSPITALS OF NORTH MIDLANDS NHS TRUST\", \"date of death\": \"2020-03-05T00:00:00\", \"deaths\": 0, \"cumulative deaths\": 0}, {\"code\": \"RJE\", \"name\": \"UNIVERSITY HOSPITALS OF NORTH MIDLANDS NHS TRUST\", \"date of death\": \"2020-03-06T00:00:00\", \"deaths\": 0, \"cumulative deaths\": 0}, {\"code\": \"RJE\", \"name\": \"UNIVERSITY HOSPITALS OF NORTH MIDLANDS NHS TRUST\", \"date of death\": \"2020-03-07T00:00:00\", \"deaths\": 0, \"cumulative deaths\": 0}, {\"code\": \"RJE\", \"name\": \"UNIVERSITY HOSPITALS OF NORTH MIDLANDS NHS TRUST\", \"date of death\": \"2020-03-08T00:00:00\", \"deaths\": 0, \"cumulative deaths\": 0}, {\"code\": \"RJE\", \"name\": \"UNIVERSITY HOSPITALS OF NORTH MIDLANDS NHS TRUST\", \"date of death\": \"2020-03-09T00:00:00\", \"deaths\": 0, \"cumulative deaths\": 0}, {\"code\": \"RJE\", \"name\": \"UNIVERSITY HOSPITALS OF NORTH MIDLANDS NHS TRUST\", \"date of death\": \"2020-03-10T00:00:00\", \"deaths\": 0, \"cumulative deaths\": 0}, {\"code\": \"RJE\", \"name\": \"UNIVERSITY HOSPITALS OF NORTH MIDLANDS NHS TRUST\", \"date of death\": \"2020-03-11T00:00:00\", \"deaths\": 0, \"cumulative deaths\": 0}, {\"code\": \"RJE\", \"name\": \"UNIVERSITY HOSPITALS OF NORTH MIDLANDS NHS TRUST\", \"date of death\": \"2020-03-12T00:00:00\", \"deaths\": 0, \"cumulative deaths\": 0}, {\"code\": \"RJE\", \"name\": \"UNIVERSITY HOSPITALS OF NORTH MIDLANDS NHS TRUST\", \"date of death\": \"2020-03-13T00:00:00\", \"deaths\": 0, \"cumulative deaths\": 0}, {\"code\": \"RJE\", \"name\": \"UNIVERSITY HOSPITALS OF NORTH MIDLANDS NHS TRUST\", \"date of death\": \"2020-03-14T00:00:00\", \"deaths\": 0, \"cumulative deaths\": 0}, {\"code\": \"RJE\", \"name\": \"UNIVERSITY HOSPITALS OF NORTH MIDLANDS NHS TRUST\", \"date of death\": \"2020-03-15T00:00:00\", \"deaths\": 0, \"cumulative deaths\": 0}, {\"code\": \"RJE\", \"name\": \"UNIVERSITY HOSPITALS OF NORTH MIDLANDS NHS TRUST\", \"date of death\": \"2020-03-16T00:00:00\", \"deaths\": 0, \"cumulative deaths\": 0}, {\"code\": \"RJE\", \"name\": \"UNIVERSITY HOSPITALS OF NORTH MIDLANDS NHS TRUST\", \"date of death\": \"2020-03-17T00:00:00\", \"deaths\": 0, \"cumulative deaths\": 0}, {\"code\": \"RJE\", \"name\": \"UNIVERSITY HOSPITALS OF NORTH MIDLANDS NHS TRUST\", \"date of death\": \"2020-03-18T00:00:00\", \"deaths\": 0, \"cumulative deaths\": 0}, {\"code\": \"RJE\", \"name\": \"UNIVERSITY HOSPITALS OF NORTH MIDLANDS NHS TRUST\", \"date of death\": \"2020-03-19T00:00:00\", \"deaths\": 0, \"cumulative deaths\": 0}, {\"code\": \"RJE\", \"name\": \"UNIVERSITY HOSPITALS OF NORTH MIDLANDS NHS TRUST\", \"date of death\": \"2020-03-20T00:00:00\", \"deaths\": 3, \"cumulative deaths\": 3}, {\"code\": \"RJE\", \"name\": \"UNIVERSITY HOSPITALS OF NORTH MIDLANDS NHS TRUST\", \"date of death\": \"2020-03-21T00:00:00\", \"deaths\": 0, \"cumulative deaths\": 3}, {\"code\": \"RJE\", \"name\": \"UNIVERSITY HOSPITALS OF NORTH MIDLANDS NHS TRUST\", \"date of death\": \"2020-03-22T00:00:00\", \"deaths\": 0, \"cumulative deaths\": 3}, {\"code\": \"RJE\", \"name\": \"UNIVERSITY HOSPITALS OF NORTH MIDLANDS NHS TRUST\", \"date of death\": \"2020-03-23T00:00:00\", \"deaths\": 0, \"cumulative deaths\": 3}, {\"code\": \"RJE\", \"name\": \"UNIVERSITY HOSPITALS OF NORTH MIDLANDS NHS TRUST\", \"date of death\": \"2020-03-24T00:00:00\", \"deaths\": 0, \"cumulative deaths\": 3}, {\"code\": \"RJE\", \"name\": \"UNIVERSITY HOSPITALS OF NORTH MIDLANDS NHS TRUST\", \"date of death\": \"2020-03-25T00:00:00\", \"deaths\": 1, \"cumulative deaths\": 4}, {\"code\": \"RJE\", \"name\": \"UNIVERSITY HOSPITALS OF NORTH MIDLANDS NHS TRUST\", \"date of death\": \"2020-03-26T00:00:00\", \"deaths\": 2, \"cumulative deaths\": 6}, {\"code\": \"RJE\", \"name\": \"UNIVERSITY HOSPITALS OF NORTH MIDLANDS NHS TRUST\", \"date of death\": \"2020-03-27T00:00:00\", \"deaths\": 4, \"cumulative deaths\": 10}, {\"code\": \"RJE\", \"name\": \"UNIVERSITY HOSPITALS OF NORTH MIDLANDS NHS TRUST\", \"date of death\": \"2020-03-28T00:00:00\", \"deaths\": 2, \"cumulative deaths\": 12}, {\"code\": \"RJE\", \"name\": \"UNIVERSITY HOSPITALS OF NORTH MIDLANDS NHS TRUST\", \"date of death\": \"2020-03-29T00:00:00\", \"deaths\": 4, \"cumulative deaths\": 16}, {\"code\": \"RJE\", \"name\": \"UNIVERSITY HOSPITALS OF NORTH MIDLANDS NHS TRUST\", \"date of death\": \"2020-03-30T00:00:00\", \"deaths\": 4, \"cumulative deaths\": 20}, {\"code\": \"RJE\", \"name\": \"UNIVERSITY HOSPITALS OF NORTH MIDLANDS NHS TRUST\", \"date of death\": \"2020-03-31T00:00:00\", \"deaths\": 2, \"cumulative deaths\": 22}, {\"code\": \"RJE\", \"name\": \"UNIVERSITY HOSPITALS OF NORTH MIDLANDS NHS TRUST\", \"date of death\": \"2020-04-01T00:00:00\", \"deaths\": 8, \"cumulative deaths\": 30}, {\"code\": \"RJE\", \"name\": \"UNIVERSITY HOSPITALS OF NORTH MIDLANDS NHS TRUST\", \"date of death\": \"2020-04-02T00:00:00\", \"deaths\": 6, \"cumulative deaths\": 36}, {\"code\": \"RJE\", \"name\": \"UNIVERSITY HOSPITALS OF NORTH MIDLANDS NHS TRUST\", \"date of death\": \"2020-04-03T00:00:00\", \"deaths\": 9, \"cumulative deaths\": 45}, {\"code\": \"RJE\", \"name\": \"UNIVERSITY HOSPITALS OF NORTH MIDLANDS NHS TRUST\", \"date of death\": \"2020-04-04T00:00:00\", \"deaths\": 8, \"cumulative deaths\": 53}, {\"code\": \"RJE\", \"name\": \"UNIVERSITY HOSPITALS OF NORTH MIDLANDS NHS TRUST\", \"date of death\": \"2020-04-05T00:00:00\", \"deaths\": 7, \"cumulative deaths\": 60}, {\"code\": \"RJE\", \"name\": \"UNIVERSITY HOSPITALS OF NORTH MIDLANDS NHS TRUST\", \"date of death\": \"2020-04-06T00:00:00\", \"deaths\": 8, \"cumulative deaths\": 68}, {\"code\": \"RJE\", \"name\": \"UNIVERSITY HOSPITALS OF NORTH MIDLANDS NHS TRUST\", \"date of death\": \"2020-04-07T00:00:00\", \"deaths\": 1, \"cumulative deaths\": 69}, {\"code\": \"RJE\", \"name\": \"UNIVERSITY HOSPITALS OF NORTH MIDLANDS NHS TRUST\", \"date of death\": \"2020-04-08T00:00:00\", \"deaths\": 9, \"cumulative deaths\": 78}, {\"code\": \"RJE\", \"name\": \"UNIVERSITY HOSPITALS OF NORTH MIDLANDS NHS TRUST\", \"date of death\": \"2020-04-09T00:00:00\", \"deaths\": 5, \"cumulative deaths\": 83}, {\"code\": \"RJE\", \"name\": \"UNIVERSITY HOSPITALS OF NORTH MIDLANDS NHS TRUST\", \"date of death\": \"2020-04-10T00:00:00\", \"deaths\": 4, \"cumulative deaths\": 87}, {\"code\": \"RJE\", \"name\": \"UNIVERSITY HOSPITALS OF NORTH MIDLANDS NHS TRUST\", \"date of death\": \"2020-04-11T00:00:00\", \"deaths\": 5, \"cumulative deaths\": 92}, {\"code\": \"RJE\", \"name\": \"UNIVERSITY HOSPITALS OF NORTH MIDLANDS NHS TRUST\", \"date of death\": \"2020-04-12T00:00:00\", \"deaths\": 4, \"cumulative deaths\": 96}, {\"code\": \"RJE\", \"name\": \"UNIVERSITY HOSPITALS OF NORTH MIDLANDS NHS TRUST\", \"date of death\": \"2020-04-13T00:00:00\", \"deaths\": 3, \"cumulative deaths\": 99}, {\"code\": \"RJE\", \"name\": \"UNIVERSITY HOSPITALS OF NORTH MIDLANDS NHS TRUST\", \"date of death\": \"2020-04-14T00:00:00\", \"deaths\": 4, \"cumulative deaths\": 103}, {\"code\": \"RJE\", \"name\": \"UNIVERSITY HOSPITALS OF NORTH MIDLANDS NHS TRUST\", \"date of death\": \"2020-04-15T00:00:00\", \"deaths\": 10, \"cumulative deaths\": 113}, {\"code\": \"RJE\", \"name\": \"UNIVERSITY HOSPITALS OF NORTH MIDLANDS NHS TRUST\", \"date of death\": \"2020-04-16T00:00:00\", \"deaths\": 3, \"cumulative deaths\": 116}, {\"code\": \"RJE\", \"name\": \"UNIVERSITY HOSPITALS OF NORTH MIDLANDS NHS TRUST\", \"date of death\": \"2020-04-17T00:00:00\", \"deaths\": 6, \"cumulative deaths\": 122}, {\"code\": \"RJE\", \"name\": \"UNIVERSITY HOSPITALS OF NORTH MIDLANDS NHS TRUST\", \"date of death\": \"2020-04-18T00:00:00\", \"deaths\": 4, \"cumulative deaths\": 126}, {\"code\": \"RJE\", \"name\": \"UNIVERSITY HOSPITALS OF NORTH MIDLANDS NHS TRUST\", \"date of death\": \"2020-04-19T00:00:00\", \"deaths\": 1, \"cumulative deaths\": 127}, {\"code\": \"RL1\", \"name\": \"THE ROBERT JONES AND AGNES HUNT ORTHOPAEDIC HOSPITAL NHS FOUNDATION TRUST\", \"date of death\": \"2020-02-29T00:00:00\", \"deaths\": 0, \"cumulative deaths\": 0}, {\"code\": \"RL1\", \"name\": \"THE ROBERT JONES AND AGNES HUNT ORTHOPAEDIC HOSPITAL NHS FOUNDATION TRUST\", \"date of death\": \"2020-03-01T00:00:00\", \"deaths\": 0, \"cumulative deaths\": 0}, {\"code\": \"RL1\", \"name\": \"THE ROBERT JONES AND AGNES HUNT ORTHOPAEDIC HOSPITAL NHS FOUNDATION TRUST\", \"date of death\": \"2020-03-02T00:00:00\", \"deaths\": 0, \"cumulative deaths\": 0}, {\"code\": \"RL1\", \"name\": \"THE ROBERT JONES AND AGNES HUNT ORTHOPAEDIC HOSPITAL NHS FOUNDATION TRUST\", \"date of death\": \"2020-03-03T00:00:00\", \"deaths\": 0, \"cumulative deaths\": 0}, {\"code\": \"RL1\", \"name\": \"THE ROBERT JONES AND AGNES HUNT ORTHOPAEDIC HOSPITAL NHS FOUNDATION TRUST\", \"date of death\": \"2020-03-04T00:00:00\", \"deaths\": 0, \"cumulative deaths\": 0}, {\"code\": \"RL1\", \"name\": \"THE ROBERT JONES AND AGNES HUNT ORTHOPAEDIC HOSPITAL NHS FOUNDATION TRUST\", \"date of death\": \"2020-03-05T00:00:00\", \"deaths\": 0, \"cumulative deaths\": 0}, {\"code\": \"RL1\", \"name\": \"THE ROBERT JONES AND AGNES HUNT ORTHOPAEDIC HOSPITAL NHS FOUNDATION TRUST\", \"date of death\": \"2020-03-06T00:00:00\", \"deaths\": 0, \"cumulative deaths\": 0}, {\"code\": \"RL1\", \"name\": \"THE ROBERT JONES AND AGNES HUNT ORTHOPAEDIC HOSPITAL NHS FOUNDATION TRUST\", \"date of death\": \"2020-03-07T00:00:00\", \"deaths\": 0, \"cumulative deaths\": 0}, {\"code\": \"RL1\", \"name\": \"THE ROBERT JONES AND AGNES HUNT ORTHOPAEDIC HOSPITAL NHS FOUNDATION TRUST\", \"date of death\": \"2020-03-08T00:00:00\", \"deaths\": 0, \"cumulative deaths\": 0}, {\"code\": \"RL1\", \"name\": \"THE ROBERT JONES AND AGNES HUNT ORTHOPAEDIC HOSPITAL NHS FOUNDATION TRUST\", \"date of death\": \"2020-03-09T00:00:00\", \"deaths\": 0, \"cumulative deaths\": 0}, {\"code\": \"RL1\", \"name\": \"THE ROBERT JONES AND AGNES HUNT ORTHOPAEDIC HOSPITAL NHS FOUNDATION TRUST\", \"date of death\": \"2020-03-10T00:00:00\", \"deaths\": 0, \"cumulative deaths\": 0}, {\"code\": \"RL1\", \"name\": \"THE ROBERT JONES AND AGNES HUNT ORTHOPAEDIC HOSPITAL NHS FOUNDATION TRUST\", \"date of death\": \"2020-03-11T00:00:00\", \"deaths\": 0, \"cumulative deaths\": 0}, {\"code\": \"RL1\", \"name\": \"THE ROBERT JONES AND AGNES HUNT ORTHOPAEDIC HOSPITAL NHS FOUNDATION TRUST\", \"date of death\": \"2020-03-12T00:00:00\", \"deaths\": 0, \"cumulative deaths\": 0}, {\"code\": \"RL1\", \"name\": \"THE ROBERT JONES AND AGNES HUNT ORTHOPAEDIC HOSPITAL NHS FOUNDATION TRUST\", \"date of death\": \"2020-03-13T00:00:00\", \"deaths\": 0, \"cumulative deaths\": 0}, {\"code\": \"RL1\", \"name\": \"THE ROBERT JONES AND AGNES HUNT ORTHOPAEDIC HOSPITAL NHS FOUNDATION TRUST\", \"date of death\": \"2020-03-14T00:00:00\", \"deaths\": 0, \"cumulative deaths\": 0}, {\"code\": \"RL1\", \"name\": \"THE ROBERT JONES AND AGNES HUNT ORTHOPAEDIC HOSPITAL NHS FOUNDATION TRUST\", \"date of death\": \"2020-03-15T00:00:00\", \"deaths\": 0, \"cumulative deaths\": 0}, {\"code\": \"RL1\", \"name\": \"THE ROBERT JONES AND AGNES HUNT ORTHOPAEDIC HOSPITAL NHS FOUNDATION TRUST\", \"date of death\": \"2020-03-16T00:00:00\", \"deaths\": 0, \"cumulative deaths\": 0}, {\"code\": \"RL1\", \"name\": \"THE ROBERT JONES AND AGNES HUNT ORTHOPAEDIC HOSPITAL NHS FOUNDATION TRUST\", \"date of death\": \"2020-03-17T00:00:00\", \"deaths\": 0, \"cumulative deaths\": 0}, {\"code\": \"RL1\", \"name\": \"THE ROBERT JONES AND AGNES HUNT ORTHOPAEDIC HOSPITAL NHS FOUNDATION TRUST\", \"date of death\": \"2020-03-18T00:00:00\", \"deaths\": 0, \"cumulative deaths\": 0}, {\"code\": \"RL1\", \"name\": \"THE ROBERT JONES AND AGNES HUNT ORTHOPAEDIC HOSPITAL NHS FOUNDATION TRUST\", \"date of death\": \"2020-03-19T00:00:00\", \"deaths\": 0, \"cumulative deaths\": 0}, {\"code\": \"RL1\", \"name\": \"THE ROBERT JONES AND AGNES HUNT ORTHOPAEDIC HOSPITAL NHS FOUNDATION TRUST\", \"date of death\": \"2020-03-20T00:00:00\", \"deaths\": 0, \"cumulative deaths\": 0}, {\"code\": \"RL1\", \"name\": \"THE ROBERT JONES AND AGNES HUNT ORTHOPAEDIC HOSPITAL NHS FOUNDATION TRUST\", \"date of death\": \"2020-03-21T00:00:00\", \"deaths\": 0, \"cumulative deaths\": 0}, {\"code\": \"RL1\", \"name\": \"THE ROBERT JONES AND AGNES HUNT ORTHOPAEDIC HOSPITAL NHS FOUNDATION TRUST\", \"date of death\": \"2020-03-22T00:00:00\", \"deaths\": 0, \"cumulative deaths\": 0}, {\"code\": \"RL1\", \"name\": \"THE ROBERT JONES AND AGNES HUNT ORTHOPAEDIC HOSPITAL NHS FOUNDATION TRUST\", \"date of death\": \"2020-03-23T00:00:00\", \"deaths\": 0, \"cumulative deaths\": 0}, {\"code\": \"RL1\", \"name\": \"THE ROBERT JONES AND AGNES HUNT ORTHOPAEDIC HOSPITAL NHS FOUNDATION TRUST\", \"date of death\": \"2020-03-24T00:00:00\", \"deaths\": 0, \"cumulative deaths\": 0}, {\"code\": \"RL1\", \"name\": \"THE ROBERT JONES AND AGNES HUNT ORTHOPAEDIC HOSPITAL NHS FOUNDATION TRUST\", \"date of death\": \"2020-03-25T00:00:00\", \"deaths\": 0, \"cumulative deaths\": 0}, {\"code\": \"RL1\", \"name\": \"THE ROBERT JONES AND AGNES HUNT ORTHOPAEDIC HOSPITAL NHS FOUNDATION TRUST\", \"date of death\": \"2020-03-26T00:00:00\", \"deaths\": 0, \"cumulative deaths\": 0}, {\"code\": \"RL1\", \"name\": \"THE ROBERT JONES AND AGNES HUNT ORTHOPAEDIC HOSPITAL NHS FOUNDATION TRUST\", \"date of death\": \"2020-03-27T00:00:00\", \"deaths\": 0, \"cumulative deaths\": 0}, {\"code\": \"RL1\", \"name\": \"THE ROBERT JONES AND AGNES HUNT ORTHOPAEDIC HOSPITAL NHS FOUNDATION TRUST\", \"date of death\": \"2020-03-28T00:00:00\", \"deaths\": 0, \"cumulative deaths\": 0}, {\"code\": \"RL1\", \"name\": \"THE ROBERT JONES AND AGNES HUNT ORTHOPAEDIC HOSPITAL NHS FOUNDATION TRUST\", \"date of death\": \"2020-03-29T00:00:00\", \"deaths\": 0, \"cumulative deaths\": 0}, {\"code\": \"RL1\", \"name\": \"THE ROBERT JONES AND AGNES HUNT ORTHOPAEDIC HOSPITAL NHS FOUNDATION TRUST\", \"date of death\": \"2020-03-30T00:00:00\", \"deaths\": 0, \"cumulative deaths\": 0}, {\"code\": \"RL1\", \"name\": \"THE ROBERT JONES AND AGNES HUNT ORTHOPAEDIC HOSPITAL NHS FOUNDATION TRUST\", \"date of death\": \"2020-03-31T00:00:00\", \"deaths\": 0, \"cumulative deaths\": 0}, {\"code\": \"RL1\", \"name\": \"THE ROBERT JONES AND AGNES HUNT ORTHOPAEDIC HOSPITAL NHS FOUNDATION TRUST\", \"date of death\": \"2020-04-01T00:00:00\", \"deaths\": 0, \"cumulative deaths\": 0}, {\"code\": \"RL1\", \"name\": \"THE ROBERT JONES AND AGNES HUNT ORTHOPAEDIC HOSPITAL NHS FOUNDATION TRUST\", \"date of death\": \"2020-04-02T00:00:00\", \"deaths\": 0, \"cumulative deaths\": 0}, {\"code\": \"RL1\", \"name\": \"THE ROBERT JONES AND AGNES HUNT ORTHOPAEDIC HOSPITAL NHS FOUNDATION TRUST\", \"date of death\": \"2020-04-03T00:00:00\", \"deaths\": 0, \"cumulative deaths\": 0}, {\"code\": \"RL1\", \"name\": \"THE ROBERT JONES AND AGNES HUNT ORTHOPAEDIC HOSPITAL NHS FOUNDATION TRUST\", \"date of death\": \"2020-04-04T00:00:00\", \"deaths\": 1, \"cumulative deaths\": 1}, {\"code\": \"RL1\", \"name\": \"THE ROBERT JONES AND AGNES HUNT ORTHOPAEDIC HOSPITAL NHS FOUNDATION TRUST\", \"date of death\": \"2020-04-05T00:00:00\", \"deaths\": 0, \"cumulative deaths\": 1}, {\"code\": \"RL1\", \"name\": \"THE ROBERT JONES AND AGNES HUNT ORTHOPAEDIC HOSPITAL NHS FOUNDATION TRUST\", \"date of death\": \"2020-04-06T00:00:00\", \"deaths\": 0, \"cumulative deaths\": 1}, {\"code\": \"RL1\", \"name\": \"THE ROBERT JONES AND AGNES HUNT ORTHOPAEDIC HOSPITAL NHS FOUNDATION TRUST\", \"date of death\": \"2020-04-07T00:00:00\", \"deaths\": 0, \"cumulative deaths\": 1}, {\"code\": \"RL1\", \"name\": \"THE ROBERT JONES AND AGNES HUNT ORTHOPAEDIC HOSPITAL NHS FOUNDATION TRUST\", \"date of death\": \"2020-04-08T00:00:00\", \"deaths\": 0, \"cumulative deaths\": 1}, {\"code\": \"RL1\", \"name\": \"THE ROBERT JONES AND AGNES HUNT ORTHOPAEDIC HOSPITAL NHS FOUNDATION TRUST\", \"date of death\": \"2020-04-09T00:00:00\", \"deaths\": 1, \"cumulative deaths\": 2}, {\"code\": \"RL1\", \"name\": \"THE ROBERT JONES AND AGNES HUNT ORTHOPAEDIC HOSPITAL NHS FOUNDATION TRUST\", \"date of death\": \"2020-04-10T00:00:00\", \"deaths\": 0, \"cumulative deaths\": 2}, {\"code\": \"RL1\", \"name\": \"THE ROBERT JONES AND AGNES HUNT ORTHOPAEDIC HOSPITAL NHS FOUNDATION TRUST\", \"date of death\": \"2020-04-11T00:00:00\", \"deaths\": 0, \"cumulative deaths\": 2}, {\"code\": \"RL1\", \"name\": \"THE ROBERT JONES AND AGNES HUNT ORTHOPAEDIC HOSPITAL NHS FOUNDATION TRUST\", \"date of death\": \"2020-04-12T00:00:00\", \"deaths\": 0, \"cumulative deaths\": 2}, {\"code\": \"RL1\", \"name\": \"THE ROBERT JONES AND AGNES HUNT ORTHOPAEDIC HOSPITAL NHS FOUNDATION TRUST\", \"date of death\": \"2020-04-13T00:00:00\", \"deaths\": 0, \"cumulative deaths\": 2}, {\"code\": \"RL1\", \"name\": \"THE ROBERT JONES AND AGNES HUNT ORTHOPAEDIC HOSPITAL NHS FOUNDATION TRUST\", \"date of death\": \"2020-04-14T00:00:00\", \"deaths\": 0, \"cumulative deaths\": 2}, {\"code\": \"RL1\", \"name\": \"THE ROBERT JONES AND AGNES HUNT ORTHOPAEDIC HOSPITAL NHS FOUNDATION TRUST\", \"date of death\": \"2020-04-15T00:00:00\", \"deaths\": 0, \"cumulative deaths\": 2}, {\"code\": \"RL1\", \"name\": \"THE ROBERT JONES AND AGNES HUNT ORTHOPAEDIC HOSPITAL NHS FOUNDATION TRUST\", \"date of death\": \"2020-04-16T00:00:00\", \"deaths\": 0, \"cumulative deaths\": 2}, {\"code\": \"RL1\", \"name\": \"THE ROBERT JONES AND AGNES HUNT ORTHOPAEDIC HOSPITAL NHS FOUNDATION TRUST\", \"date of death\": \"2020-04-17T00:00:00\", \"deaths\": 0, \"cumulative deaths\": 2}, {\"code\": \"RL1\", \"name\": \"THE ROBERT JONES AND AGNES HUNT ORTHOPAEDIC HOSPITAL NHS FOUNDATION TRUST\", \"date of death\": \"2020-04-18T00:00:00\", \"deaths\": 0, \"cumulative deaths\": 2}, {\"code\": \"RL1\", \"name\": \"THE ROBERT JONES AND AGNES HUNT ORTHOPAEDIC HOSPITAL NHS FOUNDATION TRUST\", \"date of death\": \"2020-04-19T00:00:00\", \"deaths\": 0, \"cumulative deaths\": 2}, {\"code\": \"RL4\", \"name\": \"THE ROYAL WOLVERHAMPTON NHS TRUST\", \"date of death\": \"2020-02-29T00:00:00\", \"deaths\": 0, \"cumulative deaths\": 0}, {\"code\": \"RL4\", \"name\": \"THE ROYAL WOLVERHAMPTON NHS TRUST\", \"date of death\": \"2020-03-01T00:00:00\", \"deaths\": 0, \"cumulative deaths\": 0}, {\"code\": \"RL4\", \"name\": \"THE ROYAL WOLVERHAMPTON NHS TRUST\", \"date of death\": \"2020-03-02T00:00:00\", \"deaths\": 0, \"cumulative deaths\": 0}, {\"code\": \"RL4\", \"name\": \"THE ROYAL WOLVERHAMPTON NHS TRUST\", \"date of death\": \"2020-03-03T00:00:00\", \"deaths\": 0, \"cumulative deaths\": 0}, {\"code\": \"RL4\", \"name\": \"THE ROYAL WOLVERHAMPTON NHS TRUST\", \"date of death\": \"2020-03-04T00:00:00\", \"deaths\": 0, \"cumulative deaths\": 0}, {\"code\": \"RL4\", \"name\": \"THE ROYAL WOLVERHAMPTON NHS TRUST\", \"date of death\": \"2020-03-05T00:00:00\", \"deaths\": 0, \"cumulative deaths\": 0}, {\"code\": \"RL4\", \"name\": \"THE ROYAL WOLVERHAMPTON NHS TRUST\", \"date of death\": \"2020-03-06T00:00:00\", \"deaths\": 0, \"cumulative deaths\": 0}, {\"code\": \"RL4\", \"name\": \"THE ROYAL WOLVERHAMPTON NHS TRUST\", \"date of death\": \"2020-03-07T00:00:00\", \"deaths\": 0, \"cumulative deaths\": 0}, {\"code\": \"RL4\", \"name\": \"THE ROYAL WOLVERHAMPTON NHS TRUST\", \"date of death\": \"2020-03-08T00:00:00\", \"deaths\": 2, \"cumulative deaths\": 2}, {\"code\": \"RL4\", \"name\": \"THE ROYAL WOLVERHAMPTON NHS TRUST\", \"date of death\": \"2020-03-09T00:00:00\", \"deaths\": 0, \"cumulative deaths\": 2}, {\"code\": \"RL4\", \"name\": \"THE ROYAL WOLVERHAMPTON NHS TRUST\", \"date of death\": \"2020-03-10T00:00:00\", \"deaths\": 0, \"cumulative deaths\": 2}, {\"code\": \"RL4\", \"name\": \"THE ROYAL WOLVERHAMPTON NHS TRUST\", \"date of death\": \"2020-03-11T00:00:00\", \"deaths\": 0, \"cumulative deaths\": 2}, {\"code\": \"RL4\", \"name\": \"THE ROYAL WOLVERHAMPTON NHS TRUST\", \"date of death\": \"2020-03-12T00:00:00\", \"deaths\": 1, \"cumulative deaths\": 3}, {\"code\": \"RL4\", \"name\": \"THE ROYAL WOLVERHAMPTON NHS TRUST\", \"date of death\": \"2020-03-13T00:00:00\", \"deaths\": 0, \"cumulative deaths\": 3}, {\"code\": \"RL4\", \"name\": \"THE ROYAL WOLVERHAMPTON NHS TRUST\", \"date of death\": \"2020-03-14T00:00:00\", \"deaths\": 2, \"cumulative deaths\": 5}, {\"code\": \"RL4\", \"name\": \"THE ROYAL WOLVERHAMPTON NHS TRUST\", \"date of death\": \"2020-03-15T00:00:00\", \"deaths\": 1, \"cumulative deaths\": 6}, {\"code\": \"RL4\", \"name\": \"THE ROYAL WOLVERHAMPTON NHS TRUST\", \"date of death\": \"2020-03-16T00:00:00\", \"deaths\": 1, \"cumulative deaths\": 7}, {\"code\": \"RL4\", \"name\": \"THE ROYAL WOLVERHAMPTON NHS TRUST\", \"date of death\": \"2020-03-17T00:00:00\", \"deaths\": 4, \"cumulative deaths\": 11}, {\"code\": \"RL4\", \"name\": \"THE ROYAL WOLVERHAMPTON NHS TRUST\", \"date of death\": \"2020-03-18T00:00:00\", \"deaths\": 1, \"cumulative deaths\": 12}, {\"code\": \"RL4\", \"name\": \"THE ROYAL WOLVERHAMPTON NHS TRUST\", \"date of death\": \"2020-03-19T00:00:00\", \"deaths\": 1, \"cumulative deaths\": 13}, {\"code\": \"RL4\", \"name\": \"THE ROYAL WOLVERHAMPTON NHS TRUST\", \"date of death\": \"2020-03-20T00:00:00\", \"deaths\": 6, \"cumulative deaths\": 19}, {\"code\": \"RL4\", \"name\": \"THE ROYAL WOLVERHAMPTON NHS TRUST\", \"date of death\": \"2020-03-21T00:00:00\", \"deaths\": 1, \"cumulative deaths\": 20}, {\"code\": \"RL4\", \"name\": \"THE ROYAL WOLVERHAMPTON NHS TRUST\", \"date of death\": \"2020-03-22T00:00:00\", \"deaths\": 2, \"cumulative deaths\": 22}, {\"code\": \"RL4\", \"name\": \"THE ROYAL WOLVERHAMPTON NHS TRUST\", \"date of death\": \"2020-03-23T00:00:00\", \"deaths\": 5, \"cumulative deaths\": 27}, {\"code\": \"RL4\", \"name\": \"THE ROYAL WOLVERHAMPTON NHS TRUST\", \"date of death\": \"2020-03-24T00:00:00\", \"deaths\": 4, \"cumulative deaths\": 31}, {\"code\": \"RL4\", \"name\": \"THE ROYAL WOLVERHAMPTON NHS TRUST\", \"date of death\": \"2020-03-25T00:00:00\", \"deaths\": 7, \"cumulative deaths\": 38}, {\"code\": \"RL4\", \"name\": \"THE ROYAL WOLVERHAMPTON NHS TRUST\", \"date of death\": \"2020-03-26T00:00:00\", \"deaths\": 3, \"cumulative deaths\": 41}, {\"code\": \"RL4\", \"name\": \"THE ROYAL WOLVERHAMPTON NHS TRUST\", \"date of death\": \"2020-03-27T00:00:00\", \"deaths\": 2, \"cumulative deaths\": 43}, {\"code\": \"RL4\", \"name\": \"THE ROYAL WOLVERHAMPTON NHS TRUST\", \"date of death\": \"2020-03-28T00:00:00\", \"deaths\": 8, \"cumulative deaths\": 51}, {\"code\": \"RL4\", \"name\": \"THE ROYAL WOLVERHAMPTON NHS TRUST\", \"date of death\": \"2020-03-29T00:00:00\", \"deaths\": 6, \"cumulative deaths\": 57}, {\"code\": \"RL4\", \"name\": \"THE ROYAL WOLVERHAMPTON NHS TRUST\", \"date of death\": \"2020-03-30T00:00:00\", \"deaths\": 7, \"cumulative deaths\": 64}, {\"code\": \"RL4\", \"name\": \"THE ROYAL WOLVERHAMPTON NHS TRUST\", \"date of death\": \"2020-03-31T00:00:00\", \"deaths\": 3, \"cumulative deaths\": 67}, {\"code\": \"RL4\", \"name\": \"THE ROYAL WOLVERHAMPTON NHS TRUST\", \"date of death\": \"2020-04-01T00:00:00\", \"deaths\": 13, \"cumulative deaths\": 80}, {\"code\": \"RL4\", \"name\": \"THE ROYAL WOLVERHAMPTON NHS TRUST\", \"date of death\": \"2020-04-02T00:00:00\", \"deaths\": 10, \"cumulative deaths\": 90}, {\"code\": \"RL4\", \"name\": \"THE ROYAL WOLVERHAMPTON NHS TRUST\", \"date of death\": \"2020-04-03T00:00:00\", \"deaths\": 8, \"cumulative deaths\": 98}, {\"code\": \"RL4\", \"name\": \"THE ROYAL WOLVERHAMPTON NHS TRUST\", \"date of death\": \"2020-04-04T00:00:00\", \"deaths\": 9, \"cumulative deaths\": 107}, {\"code\": \"RL4\", \"name\": \"THE ROYAL WOLVERHAMPTON NHS TRUST\", \"date of death\": \"2020-04-05T00:00:00\", \"deaths\": 7, \"cumulative deaths\": 114}, {\"code\": \"RL4\", \"name\": \"THE ROYAL WOLVERHAMPTON NHS TRUST\", \"date of death\": \"2020-04-06T00:00:00\", \"deaths\": 6, \"cumulative deaths\": 120}, {\"code\": \"RL4\", \"name\": \"THE ROYAL WOLVERHAMPTON NHS TRUST\", \"date of death\": \"2020-04-07T00:00:00\", \"deaths\": 6, \"cumulative deaths\": 126}, {\"code\": \"RL4\", \"name\": \"THE ROYAL WOLVERHAMPTON NHS TRUST\", \"date of death\": \"2020-04-08T00:00:00\", \"deaths\": 8, \"cumulative deaths\": 134}, {\"code\": \"RL4\", \"name\": \"THE ROYAL WOLVERHAMPTON NHS TRUST\", \"date of death\": \"2020-04-09T00:00:00\", \"deaths\": 8, \"cumulative deaths\": 142}, {\"code\": \"RL4\", \"name\": \"THE ROYAL WOLVERHAMPTON NHS TRUST\", \"date of death\": \"2020-04-10T00:00:00\", \"deaths\": 10, \"cumulative deaths\": 152}, {\"code\": \"RL4\", \"name\": \"THE ROYAL WOLVERHAMPTON NHS TRUST\", \"date of death\": \"2020-04-11T00:00:00\", \"deaths\": 9, \"cumulative deaths\": 161}, {\"code\": \"RL4\", \"name\": \"THE ROYAL WOLVERHAMPTON NHS TRUST\", \"date of death\": \"2020-04-12T00:00:00\", \"deaths\": 6, \"cumulative deaths\": 167}, {\"code\": \"RL4\", \"name\": \"THE ROYAL WOLVERHAMPTON NHS TRUST\", \"date of death\": \"2020-04-13T00:00:00\", \"deaths\": 8, \"cumulative deaths\": 175}, {\"code\": \"RL4\", \"name\": \"THE ROYAL WOLVERHAMPTON NHS TRUST\", \"date of death\": \"2020-04-14T00:00:00\", \"deaths\": 7, \"cumulative deaths\": 182}, {\"code\": \"RL4\", \"name\": \"THE ROYAL WOLVERHAMPTON NHS TRUST\", \"date of death\": \"2020-04-15T00:00:00\", \"deaths\": 6, \"cumulative deaths\": 188}, {\"code\": \"RL4\", \"name\": \"THE ROYAL WOLVERHAMPTON NHS TRUST\", \"date of death\": \"2020-04-16T00:00:00\", \"deaths\": 7, \"cumulative deaths\": 195}, {\"code\": \"RL4\", \"name\": \"THE ROYAL WOLVERHAMPTON NHS TRUST\", \"date of death\": \"2020-04-17T00:00:00\", \"deaths\": 9, \"cumulative deaths\": 204}, {\"code\": \"RL4\", \"name\": \"THE ROYAL WOLVERHAMPTON NHS TRUST\", \"date of death\": \"2020-04-18T00:00:00\", \"deaths\": 2, \"cumulative deaths\": 206}, {\"code\": \"RL4\", \"name\": \"THE ROYAL WOLVERHAMPTON NHS TRUST\", \"date of death\": \"2020-04-19T00:00:00\", \"deaths\": 1, \"cumulative deaths\": 207}, {\"code\": \"RLY\", \"name\": \"NORTH STAFFORDSHIRE COMBINED HEALTHCARE NHS TRUST\", \"date of death\": \"2020-02-29T00:00:00\", \"deaths\": 0, \"cumulative deaths\": 0}, {\"code\": \"RLY\", \"name\": \"NORTH STAFFORDSHIRE COMBINED HEALTHCARE NHS TRUST\", \"date of death\": \"2020-03-01T00:00:00\", \"deaths\": 0, \"cumulative deaths\": 0}, {\"code\": \"RLY\", \"name\": \"NORTH STAFFORDSHIRE COMBINED HEALTHCARE NHS TRUST\", \"date of death\": \"2020-03-02T00:00:00\", \"deaths\": 0, \"cumulative deaths\": 0}, {\"code\": \"RLY\", \"name\": \"NORTH STAFFORDSHIRE COMBINED HEALTHCARE NHS TRUST\", \"date of death\": \"2020-03-03T00:00:00\", \"deaths\": 0, \"cumulative deaths\": 0}, {\"code\": \"RLY\", \"name\": \"NORTH STAFFORDSHIRE COMBINED HEALTHCARE NHS TRUST\", \"date of death\": \"2020-03-04T00:00:00\", \"deaths\": 0, \"cumulative deaths\": 0}, {\"code\": \"RLY\", \"name\": \"NORTH STAFFORDSHIRE COMBINED HEALTHCARE NHS TRUST\", \"date of death\": \"2020-03-05T00:00:00\", \"deaths\": 0, \"cumulative deaths\": 0}, {\"code\": \"RLY\", \"name\": \"NORTH STAFFORDSHIRE COMBINED HEALTHCARE NHS TRUST\", \"date of death\": \"2020-03-06T00:00:00\", \"deaths\": 0, \"cumulative deaths\": 0}, {\"code\": \"RLY\", \"name\": \"NORTH STAFFORDSHIRE COMBINED HEALTHCARE NHS TRUST\", \"date of death\": \"2020-03-07T00:00:00\", \"deaths\": 0, \"cumulative deaths\": 0}, {\"code\": \"RLY\", \"name\": \"NORTH STAFFORDSHIRE COMBINED HEALTHCARE NHS TRUST\", \"date of death\": \"2020-03-08T00:00:00\", \"deaths\": 0, \"cumulative deaths\": 0}, {\"code\": \"RLY\", \"name\": \"NORTH STAFFORDSHIRE COMBINED HEALTHCARE NHS TRUST\", \"date of death\": \"2020-03-09T00:00:00\", \"deaths\": 0, \"cumulative deaths\": 0}, {\"code\": \"RLY\", \"name\": \"NORTH STAFFORDSHIRE COMBINED HEALTHCARE NHS TRUST\", \"date of death\": \"2020-03-10T00:00:00\", \"deaths\": 0, \"cumulative deaths\": 0}, {\"code\": \"RLY\", \"name\": \"NORTH STAFFORDSHIRE COMBINED HEALTHCARE NHS TRUST\", \"date of death\": \"2020-03-11T00:00:00\", \"deaths\": 0, \"cumulative deaths\": 0}, {\"code\": \"RLY\", \"name\": \"NORTH STAFFORDSHIRE COMBINED HEALTHCARE NHS TRUST\", \"date of death\": \"2020-03-12T00:00:00\", \"deaths\": 0, \"cumulative deaths\": 0}, {\"code\": \"RLY\", \"name\": \"NORTH STAFFORDSHIRE COMBINED HEALTHCARE NHS TRUST\", \"date of death\": \"2020-03-13T00:00:00\", \"deaths\": 0, \"cumulative deaths\": 0}, {\"code\": \"RLY\", \"name\": \"NORTH STAFFORDSHIRE COMBINED HEALTHCARE NHS TRUST\", \"date of death\": \"2020-03-14T00:00:00\", \"deaths\": 0, \"cumulative deaths\": 0}, {\"code\": \"RLY\", \"name\": \"NORTH STAFFORDSHIRE COMBINED HEALTHCARE NHS TRUST\", \"date of death\": \"2020-03-15T00:00:00\", \"deaths\": 0, \"cumulative deaths\": 0}, {\"code\": \"RLY\", \"name\": \"NORTH STAFFORDSHIRE COMBINED HEALTHCARE NHS TRUST\", \"date of death\": \"2020-03-16T00:00:00\", \"deaths\": 0, \"cumulative deaths\": 0}, {\"code\": \"RLY\", \"name\": \"NORTH STAFFORDSHIRE COMBINED HEALTHCARE NHS TRUST\", \"date of death\": \"2020-03-17T00:00:00\", \"deaths\": 0, \"cumulative deaths\": 0}, {\"code\": \"RLY\", \"name\": \"NORTH STAFFORDSHIRE COMBINED HEALTHCARE NHS TRUST\", \"date of death\": \"2020-03-18T00:00:00\", \"deaths\": 0, \"cumulative deaths\": 0}, {\"code\": \"RLY\", \"name\": \"NORTH STAFFORDSHIRE COMBINED HEALTHCARE NHS TRUST\", \"date of death\": \"2020-03-19T00:00:00\", \"deaths\": 0, \"cumulative deaths\": 0}, {\"code\": \"RLY\", \"name\": \"NORTH STAFFORDSHIRE COMBINED HEALTHCARE NHS TRUST\", \"date of death\": \"2020-03-20T00:00:00\", \"deaths\": 0, \"cumulative deaths\": 0}, {\"code\": \"RLY\", \"name\": \"NORTH STAFFORDSHIRE COMBINED HEALTHCARE NHS TRUST\", \"date of death\": \"2020-03-21T00:00:00\", \"deaths\": 0, \"cumulative deaths\": 0}, {\"code\": \"RLY\", \"name\": \"NORTH STAFFORDSHIRE COMBINED HEALTHCARE NHS TRUST\", \"date of death\": \"2020-03-22T00:00:00\", \"deaths\": 0, \"cumulative deaths\": 0}, {\"code\": \"RLY\", \"name\": \"NORTH STAFFORDSHIRE COMBINED HEALTHCARE NHS TRUST\", \"date of death\": \"2020-03-23T00:00:00\", \"deaths\": 0, \"cumulative deaths\": 0}, {\"code\": \"RLY\", \"name\": \"NORTH STAFFORDSHIRE COMBINED HEALTHCARE NHS TRUST\", \"date of death\": \"2020-03-24T00:00:00\", \"deaths\": 0, \"cumulative deaths\": 0}, {\"code\": \"RLY\", \"name\": \"NORTH STAFFORDSHIRE COMBINED HEALTHCARE NHS TRUST\", \"date of death\": \"2020-03-25T00:00:00\", \"deaths\": 0, \"cumulative deaths\": 0}, {\"code\": \"RLY\", \"name\": \"NORTH STAFFORDSHIRE COMBINED HEALTHCARE NHS TRUST\", \"date of death\": \"2020-03-26T00:00:00\", \"deaths\": 0, \"cumulative deaths\": 0}, {\"code\": \"RLY\", \"name\": \"NORTH STAFFORDSHIRE COMBINED HEALTHCARE NHS TRUST\", \"date of death\": \"2020-03-27T00:00:00\", \"deaths\": 0, \"cumulative deaths\": 0}, {\"code\": \"RLY\", \"name\": \"NORTH STAFFORDSHIRE COMBINED HEALTHCARE NHS TRUST\", \"date of death\": \"2020-03-28T00:00:00\", \"deaths\": 0, \"cumulative deaths\": 0}, {\"code\": \"RLY\", \"name\": \"NORTH STAFFORDSHIRE COMBINED HEALTHCARE NHS TRUST\", \"date of death\": \"2020-03-29T00:00:00\", \"deaths\": 0, \"cumulative deaths\": 0}, {\"code\": \"RLY\", \"name\": \"NORTH STAFFORDSHIRE COMBINED HEALTHCARE NHS TRUST\", \"date of death\": \"2020-03-30T00:00:00\", \"deaths\": 0, \"cumulative deaths\": 0}, {\"code\": \"RLY\", \"name\": \"NORTH STAFFORDSHIRE COMBINED HEALTHCARE NHS TRUST\", \"date of death\": \"2020-03-31T00:00:00\", \"deaths\": 0, \"cumulative deaths\": 0}, {\"code\": \"RLY\", \"name\": \"NORTH STAFFORDSHIRE COMBINED HEALTHCARE NHS TRUST\", \"date of death\": \"2020-04-01T00:00:00\", \"deaths\": 0, \"cumulative deaths\": 0}, {\"code\": \"RLY\", \"name\": \"NORTH STAFFORDSHIRE COMBINED HEALTHCARE NHS TRUST\", \"date of death\": \"2020-04-02T00:00:00\", \"deaths\": 0, \"cumulative deaths\": 0}, {\"code\": \"RLY\", \"name\": \"NORTH STAFFORDSHIRE COMBINED HEALTHCARE NHS TRUST\", \"date of death\": \"2020-04-03T00:00:00\", \"deaths\": 0, \"cumulative deaths\": 0}, {\"code\": \"RLY\", \"name\": \"NORTH STAFFORDSHIRE COMBINED HEALTHCARE NHS TRUST\", \"date of death\": \"2020-04-04T00:00:00\", \"deaths\": 0, \"cumulative deaths\": 0}, {\"code\": \"RLY\", \"name\": \"NORTH STAFFORDSHIRE COMBINED HEALTHCARE NHS TRUST\", \"date of death\": \"2020-04-05T00:00:00\", \"deaths\": 0, \"cumulative deaths\": 0}, {\"code\": \"RLY\", \"name\": \"NORTH STAFFORDSHIRE COMBINED HEALTHCARE NHS TRUST\", \"date of death\": \"2020-04-06T00:00:00\", \"deaths\": 0, \"cumulative deaths\": 0}, {\"code\": \"RLY\", \"name\": \"NORTH STAFFORDSHIRE COMBINED HEALTHCARE NHS TRUST\", \"date of death\": \"2020-04-07T00:00:00\", \"deaths\": 0, \"cumulative deaths\": 0}, {\"code\": \"RLY\", \"name\": \"NORTH STAFFORDSHIRE COMBINED HEALTHCARE NHS TRUST\", \"date of death\": \"2020-04-08T00:00:00\", \"deaths\": 0, \"cumulative deaths\": 0}, {\"code\": \"RLY\", \"name\": \"NORTH STAFFORDSHIRE COMBINED HEALTHCARE NHS TRUST\", \"date of death\": \"2020-04-09T00:00:00\", \"deaths\": 0, \"cumulative deaths\": 0}, {\"code\": \"RLY\", \"name\": \"NORTH STAFFORDSHIRE COMBINED HEALTHCARE NHS TRUST\", \"date of death\": \"2020-04-10T00:00:00\", \"deaths\": 0, \"cumulative deaths\": 0}, {\"code\": \"RLY\", \"name\": \"NORTH STAFFORDSHIRE COMBINED HEALTHCARE NHS TRUST\", \"date of death\": \"2020-04-11T00:00:00\", \"deaths\": 0, \"cumulative deaths\": 0}, {\"code\": \"RLY\", \"name\": \"NORTH STAFFORDSHIRE COMBINED HEALTHCARE NHS TRUST\", \"date of death\": \"2020-04-12T00:00:00\", \"deaths\": 1, \"cumulative deaths\": 1}, {\"code\": \"RLY\", \"name\": \"NORTH STAFFORDSHIRE COMBINED HEALTHCARE NHS TRUST\", \"date of death\": \"2020-04-13T00:00:00\", \"deaths\": 0, \"cumulative deaths\": 1}, {\"code\": \"RLY\", \"name\": \"NORTH STAFFORDSHIRE COMBINED HEALTHCARE NHS TRUST\", \"date of death\": \"2020-04-14T00:00:00\", \"deaths\": 0, \"cumulative deaths\": 1}, {\"code\": \"RLY\", \"name\": \"NORTH STAFFORDSHIRE COMBINED HEALTHCARE NHS TRUST\", \"date of death\": \"2020-04-15T00:00:00\", \"deaths\": 0, \"cumulative deaths\": 1}, {\"code\": \"RLY\", \"name\": \"NORTH STAFFORDSHIRE COMBINED HEALTHCARE NHS TRUST\", \"date of death\": \"2020-04-16T00:00:00\", \"deaths\": 0, \"cumulative deaths\": 1}, {\"code\": \"RLY\", \"name\": \"NORTH STAFFORDSHIRE COMBINED HEALTHCARE NHS TRUST\", \"date of death\": \"2020-04-17T00:00:00\", \"deaths\": 0, \"cumulative deaths\": 1}, {\"code\": \"RLY\", \"name\": \"NORTH STAFFORDSHIRE COMBINED HEALTHCARE NHS TRUST\", \"date of death\": \"2020-04-18T00:00:00\", \"deaths\": 0, \"cumulative deaths\": 1}, {\"code\": \"RLY\", \"name\": \"NORTH STAFFORDSHIRE COMBINED HEALTHCARE NHS TRUST\", \"date of death\": \"2020-04-19T00:00:00\", \"deaths\": 0, \"cumulative deaths\": 1}, {\"code\": \"RNA\", \"name\": \"THE DUDLEY GROUP NHS FOUNDATION TRUST\", \"date of death\": \"2020-02-29T00:00:00\", \"deaths\": 0, \"cumulative deaths\": 0}, {\"code\": \"RNA\", \"name\": \"THE DUDLEY GROUP NHS FOUNDATION TRUST\", \"date of death\": \"2020-03-01T00:00:00\", \"deaths\": 0, \"cumulative deaths\": 0}, {\"code\": \"RNA\", \"name\": \"THE DUDLEY GROUP NHS FOUNDATION TRUST\", \"date of death\": \"2020-03-02T00:00:00\", \"deaths\": 0, \"cumulative deaths\": 0}, {\"code\": \"RNA\", \"name\": \"THE DUDLEY GROUP NHS FOUNDATION TRUST\", \"date of death\": \"2020-03-03T00:00:00\", \"deaths\": 0, \"cumulative deaths\": 0}, {\"code\": \"RNA\", \"name\": \"THE DUDLEY GROUP NHS FOUNDATION TRUST\", \"date of death\": \"2020-03-04T00:00:00\", \"deaths\": 0, \"cumulative deaths\": 0}, {\"code\": \"RNA\", \"name\": \"THE DUDLEY GROUP NHS FOUNDATION TRUST\", \"date of death\": \"2020-03-05T00:00:00\", \"deaths\": 0, \"cumulative deaths\": 0}, {\"code\": \"RNA\", \"name\": \"THE DUDLEY GROUP NHS FOUNDATION TRUST\", \"date of death\": \"2020-03-06T00:00:00\", \"deaths\": 0, \"cumulative deaths\": 0}, {\"code\": \"RNA\", \"name\": \"THE DUDLEY GROUP NHS FOUNDATION TRUST\", \"date of death\": \"2020-03-07T00:00:00\", \"deaths\": 0, \"cumulative deaths\": 0}, {\"code\": \"RNA\", \"name\": \"THE DUDLEY GROUP NHS FOUNDATION TRUST\", \"date of death\": \"2020-03-08T00:00:00\", \"deaths\": 1, \"cumulative deaths\": 1}, {\"code\": \"RNA\", \"name\": \"THE DUDLEY GROUP NHS FOUNDATION TRUST\", \"date of death\": \"2020-03-09T00:00:00\", \"deaths\": 0, \"cumulative deaths\": 1}, {\"code\": \"RNA\", \"name\": \"THE DUDLEY GROUP NHS FOUNDATION TRUST\", \"date of death\": \"2020-03-10T00:00:00\", \"deaths\": 0, \"cumulative deaths\": 1}, {\"code\": \"RNA\", \"name\": \"THE DUDLEY GROUP NHS FOUNDATION TRUST\", \"date of death\": \"2020-03-11T00:00:00\", \"deaths\": 0, \"cumulative deaths\": 1}, {\"code\": \"RNA\", \"name\": \"THE DUDLEY GROUP NHS FOUNDATION TRUST\", \"date of death\": \"2020-03-12T00:00:00\", \"deaths\": 1, \"cumulative deaths\": 2}, {\"code\": \"RNA\", \"name\": \"THE DUDLEY GROUP NHS FOUNDATION TRUST\", \"date of death\": \"2020-03-13T00:00:00\", \"deaths\": 2, \"cumulative deaths\": 4}, {\"code\": \"RNA\", \"name\": \"THE DUDLEY GROUP NHS FOUNDATION TRUST\", \"date of death\": \"2020-03-14T00:00:00\", \"deaths\": 0, \"cumulative deaths\": 4}, {\"code\": \"RNA\", \"name\": \"THE DUDLEY GROUP NHS FOUNDATION TRUST\", \"date of death\": \"2020-03-15T00:00:00\", \"deaths\": 1, \"cumulative deaths\": 5}, {\"code\": \"RNA\", \"name\": \"THE DUDLEY GROUP NHS FOUNDATION TRUST\", \"date of death\": \"2020-03-16T00:00:00\", \"deaths\": 2, \"cumulative deaths\": 7}, {\"code\": \"RNA\", \"name\": \"THE DUDLEY GROUP NHS FOUNDATION TRUST\", \"date of death\": \"2020-03-17T00:00:00\", \"deaths\": 0, \"cumulative deaths\": 7}, {\"code\": \"RNA\", \"name\": \"THE DUDLEY GROUP NHS FOUNDATION TRUST\", \"date of death\": \"2020-03-18T00:00:00\", \"deaths\": 0, \"cumulative deaths\": 7}, {\"code\": \"RNA\", \"name\": \"THE DUDLEY GROUP NHS FOUNDATION TRUST\", \"date of death\": \"2020-03-19T00:00:00\", \"deaths\": 1, \"cumulative deaths\": 8}, {\"code\": \"RNA\", \"name\": \"THE DUDLEY GROUP NHS FOUNDATION TRUST\", \"date of death\": \"2020-03-20T00:00:00\", \"deaths\": 2, \"cumulative deaths\": 10}, {\"code\": \"RNA\", \"name\": \"THE DUDLEY GROUP NHS FOUNDATION TRUST\", \"date of death\": \"2020-03-21T00:00:00\", \"deaths\": 2, \"cumulative deaths\": 12}, {\"code\": \"RNA\", \"name\": \"THE DUDLEY GROUP NHS FOUNDATION TRUST\", \"date of death\": \"2020-03-22T00:00:00\", \"deaths\": 0, \"cumulative deaths\": 12}, {\"code\": \"RNA\", \"name\": \"THE DUDLEY GROUP NHS FOUNDATION TRUST\", \"date of death\": \"2020-03-23T00:00:00\", \"deaths\": 1, \"cumulative deaths\": 13}, {\"code\": \"RNA\", \"name\": \"THE DUDLEY GROUP NHS FOUNDATION TRUST\", \"date of death\": \"2020-03-24T00:00:00\", \"deaths\": 3, \"cumulative deaths\": 16}, {\"code\": \"RNA\", \"name\": \"THE DUDLEY GROUP NHS FOUNDATION TRUST\", \"date of death\": \"2020-03-25T00:00:00\", \"deaths\": 3, \"cumulative deaths\": 19}, {\"code\": \"RNA\", \"name\": \"THE DUDLEY GROUP NHS FOUNDATION TRUST\", \"date of death\": \"2020-03-26T00:00:00\", \"deaths\": 6, \"cumulative deaths\": 25}, {\"code\": \"RNA\", \"name\": \"THE DUDLEY GROUP NHS FOUNDATION TRUST\", \"date of death\": \"2020-03-27T00:00:00\", \"deaths\": 5, \"cumulative deaths\": 30}, {\"code\": \"RNA\", \"name\": \"THE DUDLEY GROUP NHS FOUNDATION TRUST\", \"date of death\": \"2020-03-28T00:00:00\", \"deaths\": 3, \"cumulative deaths\": 33}, {\"code\": \"RNA\", \"name\": \"THE DUDLEY GROUP NHS FOUNDATION TRUST\", \"date of death\": \"2020-03-29T00:00:00\", \"deaths\": 9, \"cumulative deaths\": 42}, {\"code\": \"RNA\", \"name\": \"THE DUDLEY GROUP NHS FOUNDATION TRUST\", \"date of death\": \"2020-03-30T00:00:00\", \"deaths\": 10, \"cumulative deaths\": 52}, {\"code\": \"RNA\", \"name\": \"THE DUDLEY GROUP NHS FOUNDATION TRUST\", \"date of death\": \"2020-03-31T00:00:00\", \"deaths\": 8, \"cumulative deaths\": 60}, {\"code\": \"RNA\", \"name\": \"THE DUDLEY GROUP NHS FOUNDATION TRUST\", \"date of death\": \"2020-04-01T00:00:00\", \"deaths\": 8, \"cumulative deaths\": 68}, {\"code\": \"RNA\", \"name\": \"THE DUDLEY GROUP NHS FOUNDATION TRUST\", \"date of death\": \"2020-04-02T00:00:00\", \"deaths\": 14, \"cumulative deaths\": 82}, {\"code\": \"RNA\", \"name\": \"THE DUDLEY GROUP NHS FOUNDATION TRUST\", \"date of death\": \"2020-04-03T00:00:00\", \"deaths\": 9, \"cumulative deaths\": 91}, {\"code\": \"RNA\", \"name\": \"THE DUDLEY GROUP NHS FOUNDATION TRUST\", \"date of death\": \"2020-04-04T00:00:00\", \"deaths\": 5, \"cumulative deaths\": 96}, {\"code\": \"RNA\", \"name\": \"THE DUDLEY GROUP NHS FOUNDATION TRUST\", \"date of death\": \"2020-04-05T00:00:00\", \"deaths\": 4, \"cumulative deaths\": 100}, {\"code\": \"RNA\", \"name\": \"THE DUDLEY GROUP NHS FOUNDATION TRUST\", \"date of death\": \"2020-04-06T00:00:00\", \"deaths\": 6, \"cumulative deaths\": 106}, {\"code\": \"RNA\", \"name\": \"THE DUDLEY GROUP NHS FOUNDATION TRUST\", \"date of death\": \"2020-04-07T00:00:00\", \"deaths\": 8, \"cumulative deaths\": 114}, {\"code\": \"RNA\", \"name\": \"THE DUDLEY GROUP NHS FOUNDATION TRUST\", \"date of death\": \"2020-04-08T00:00:00\", \"deaths\": 7, \"cumulative deaths\": 121}, {\"code\": \"RNA\", \"name\": \"THE DUDLEY GROUP NHS FOUNDATION TRUST\", \"date of death\": \"2020-04-09T00:00:00\", \"deaths\": 7, \"cumulative deaths\": 128}, {\"code\": \"RNA\", \"name\": \"THE DUDLEY GROUP NHS FOUNDATION TRUST\", \"date of death\": \"2020-04-10T00:00:00\", \"deaths\": 4, \"cumulative deaths\": 132}, {\"code\": \"RNA\", \"name\": \"THE DUDLEY GROUP NHS FOUNDATION TRUST\", \"date of death\": \"2020-04-11T00:00:00\", \"deaths\": 6, \"cumulative deaths\": 138}, {\"code\": \"RNA\", \"name\": \"THE DUDLEY GROUP NHS FOUNDATION TRUST\", \"date of death\": \"2020-04-12T00:00:00\", \"deaths\": 9, \"cumulative deaths\": 147}, {\"code\": \"RNA\", \"name\": \"THE DUDLEY GROUP NHS FOUNDATION TRUST\", \"date of death\": \"2020-04-13T00:00:00\", \"deaths\": 8, \"cumulative deaths\": 155}, {\"code\": \"RNA\", \"name\": \"THE DUDLEY GROUP NHS FOUNDATION TRUST\", \"date of death\": \"2020-04-14T00:00:00\", \"deaths\": 3, \"cumulative deaths\": 158}, {\"code\": \"RNA\", \"name\": \"THE DUDLEY GROUP NHS FOUNDATION TRUST\", \"date of death\": \"2020-04-15T00:00:00\", \"deaths\": 7, \"cumulative deaths\": 165}, {\"code\": \"RNA\", \"name\": \"THE DUDLEY GROUP NHS FOUNDATION TRUST\", \"date of death\": \"2020-04-16T00:00:00\", \"deaths\": 2, \"cumulative deaths\": 167}, {\"code\": \"RNA\", \"name\": \"THE DUDLEY GROUP NHS FOUNDATION TRUST\", \"date of death\": \"2020-04-17T00:00:00\", \"deaths\": 3, \"cumulative deaths\": 170}, {\"code\": \"RNA\", \"name\": \"THE DUDLEY GROUP NHS FOUNDATION TRUST\", \"date of death\": \"2020-04-18T00:00:00\", \"deaths\": 2, \"cumulative deaths\": 172}, {\"code\": \"RNA\", \"name\": \"THE DUDLEY GROUP NHS FOUNDATION TRUST\", \"date of death\": \"2020-04-19T00:00:00\", \"deaths\": 0, \"cumulative deaths\": 172}, {\"code\": \"RRJ\", \"name\": \"THE ROYAL ORTHOPAEDIC HOSPITAL NHS FOUNDATION TRUST\", \"date of death\": \"2020-02-29T00:00:00\", \"deaths\": 0, \"cumulative deaths\": 0}, {\"code\": \"RRJ\", \"name\": \"THE ROYAL ORTHOPAEDIC HOSPITAL NHS FOUNDATION TRUST\", \"date of death\": \"2020-03-01T00:00:00\", \"deaths\": 0, \"cumulative deaths\": 0}, {\"code\": \"RRJ\", \"name\": \"THE ROYAL ORTHOPAEDIC HOSPITAL NHS FOUNDATION TRUST\", \"date of death\": \"2020-03-02T00:00:00\", \"deaths\": 0, \"cumulative deaths\": 0}, {\"code\": \"RRJ\", \"name\": \"THE ROYAL ORTHOPAEDIC HOSPITAL NHS FOUNDATION TRUST\", \"date of death\": \"2020-03-03T00:00:00\", \"deaths\": 0, \"cumulative deaths\": 0}, {\"code\": \"RRJ\", \"name\": \"THE ROYAL ORTHOPAEDIC HOSPITAL NHS FOUNDATION TRUST\", \"date of death\": \"2020-03-04T00:00:00\", \"deaths\": 0, \"cumulative deaths\": 0}, {\"code\": \"RRJ\", \"name\": \"THE ROYAL ORTHOPAEDIC HOSPITAL NHS FOUNDATION TRUST\", \"date of death\": \"2020-03-05T00:00:00\", \"deaths\": 0, \"cumulative deaths\": 0}, {\"code\": \"RRJ\", \"name\": \"THE ROYAL ORTHOPAEDIC HOSPITAL NHS FOUNDATION TRUST\", \"date of death\": \"2020-03-06T00:00:00\", \"deaths\": 0, \"cumulative deaths\": 0}, {\"code\": \"RRJ\", \"name\": \"THE ROYAL ORTHOPAEDIC HOSPITAL NHS FOUNDATION TRUST\", \"date of death\": \"2020-03-07T00:00:00\", \"deaths\": 0, \"cumulative deaths\": 0}, {\"code\": \"RRJ\", \"name\": \"THE ROYAL ORTHOPAEDIC HOSPITAL NHS FOUNDATION TRUST\", \"date of death\": \"2020-03-08T00:00:00\", \"deaths\": 0, \"cumulative deaths\": 0}, {\"code\": \"RRJ\", \"name\": \"THE ROYAL ORTHOPAEDIC HOSPITAL NHS FOUNDATION TRUST\", \"date of death\": \"2020-03-09T00:00:00\", \"deaths\": 0, \"cumulative deaths\": 0}, {\"code\": \"RRJ\", \"name\": \"THE ROYAL ORTHOPAEDIC HOSPITAL NHS FOUNDATION TRUST\", \"date of death\": \"2020-03-10T00:00:00\", \"deaths\": 0, \"cumulative deaths\": 0}, {\"code\": \"RRJ\", \"name\": \"THE ROYAL ORTHOPAEDIC HOSPITAL NHS FOUNDATION TRUST\", \"date of death\": \"2020-03-11T00:00:00\", \"deaths\": 0, \"cumulative deaths\": 0}, {\"code\": \"RRJ\", \"name\": \"THE ROYAL ORTHOPAEDIC HOSPITAL NHS FOUNDATION TRUST\", \"date of death\": \"2020-03-12T00:00:00\", \"deaths\": 0, \"cumulative deaths\": 0}, {\"code\": \"RRJ\", \"name\": \"THE ROYAL ORTHOPAEDIC HOSPITAL NHS FOUNDATION TRUST\", \"date of death\": \"2020-03-13T00:00:00\", \"deaths\": 0, \"cumulative deaths\": 0}, {\"code\": \"RRJ\", \"name\": \"THE ROYAL ORTHOPAEDIC HOSPITAL NHS FOUNDATION TRUST\", \"date of death\": \"2020-03-14T00:00:00\", \"deaths\": 0, \"cumulative deaths\": 0}, {\"code\": \"RRJ\", \"name\": \"THE ROYAL ORTHOPAEDIC HOSPITAL NHS FOUNDATION TRUST\", \"date of death\": \"2020-03-15T00:00:00\", \"deaths\": 0, \"cumulative deaths\": 0}, {\"code\": \"RRJ\", \"name\": \"THE ROYAL ORTHOPAEDIC HOSPITAL NHS FOUNDATION TRUST\", \"date of death\": \"2020-03-16T00:00:00\", \"deaths\": 0, \"cumulative deaths\": 0}, {\"code\": \"RRJ\", \"name\": \"THE ROYAL ORTHOPAEDIC HOSPITAL NHS FOUNDATION TRUST\", \"date of death\": \"2020-03-17T00:00:00\", \"deaths\": 0, \"cumulative deaths\": 0}, {\"code\": \"RRJ\", \"name\": \"THE ROYAL ORTHOPAEDIC HOSPITAL NHS FOUNDATION TRUST\", \"date of death\": \"2020-03-18T00:00:00\", \"deaths\": 0, \"cumulative deaths\": 0}, {\"code\": \"RRJ\", \"name\": \"THE ROYAL ORTHOPAEDIC HOSPITAL NHS FOUNDATION TRUST\", \"date of death\": \"2020-03-19T00:00:00\", \"deaths\": 0, \"cumulative deaths\": 0}, {\"code\": \"RRJ\", \"name\": \"THE ROYAL ORTHOPAEDIC HOSPITAL NHS FOUNDATION TRUST\", \"date of death\": \"2020-03-20T00:00:00\", \"deaths\": 0, \"cumulative deaths\": 0}, {\"code\": \"RRJ\", \"name\": \"THE ROYAL ORTHOPAEDIC HOSPITAL NHS FOUNDATION TRUST\", \"date of death\": \"2020-03-21T00:00:00\", \"deaths\": 0, \"cumulative deaths\": 0}, {\"code\": \"RRJ\", \"name\": \"THE ROYAL ORTHOPAEDIC HOSPITAL NHS FOUNDATION TRUST\", \"date of death\": \"2020-03-22T00:00:00\", \"deaths\": 0, \"cumulative deaths\": 0}, {\"code\": \"RRJ\", \"name\": \"THE ROYAL ORTHOPAEDIC HOSPITAL NHS FOUNDATION TRUST\", \"date of death\": \"2020-03-23T00:00:00\", \"deaths\": 0, \"cumulative deaths\": 0}, {\"code\": \"RRJ\", \"name\": \"THE ROYAL ORTHOPAEDIC HOSPITAL NHS FOUNDATION TRUST\", \"date of death\": \"2020-03-24T00:00:00\", \"deaths\": 0, \"cumulative deaths\": 0}, {\"code\": \"RRJ\", \"name\": \"THE ROYAL ORTHOPAEDIC HOSPITAL NHS FOUNDATION TRUST\", \"date of death\": \"2020-03-25T00:00:00\", \"deaths\": 0, \"cumulative deaths\": 0}, {\"code\": \"RRJ\", \"name\": \"THE ROYAL ORTHOPAEDIC HOSPITAL NHS FOUNDATION TRUST\", \"date of death\": \"2020-03-26T00:00:00\", \"deaths\": 0, \"cumulative deaths\": 0}, {\"code\": \"RRJ\", \"name\": \"THE ROYAL ORTHOPAEDIC HOSPITAL NHS FOUNDATION TRUST\", \"date of death\": \"2020-03-27T00:00:00\", \"deaths\": 0, \"cumulative deaths\": 0}, {\"code\": \"RRJ\", \"name\": \"THE ROYAL ORTHOPAEDIC HOSPITAL NHS FOUNDATION TRUST\", \"date of death\": \"2020-03-28T00:00:00\", \"deaths\": 0, \"cumulative deaths\": 0}, {\"code\": \"RRJ\", \"name\": \"THE ROYAL ORTHOPAEDIC HOSPITAL NHS FOUNDATION TRUST\", \"date of death\": \"2020-03-29T00:00:00\", \"deaths\": 0, \"cumulative deaths\": 0}, {\"code\": \"RRJ\", \"name\": \"THE ROYAL ORTHOPAEDIC HOSPITAL NHS FOUNDATION TRUST\", \"date of death\": \"2020-03-30T00:00:00\", \"deaths\": 0, \"cumulative deaths\": 0}, {\"code\": \"RRJ\", \"name\": \"THE ROYAL ORTHOPAEDIC HOSPITAL NHS FOUNDATION TRUST\", \"date of death\": \"2020-03-31T00:00:00\", \"deaths\": 0, \"cumulative deaths\": 0}, {\"code\": \"RRJ\", \"name\": \"THE ROYAL ORTHOPAEDIC HOSPITAL NHS FOUNDATION TRUST\", \"date of death\": \"2020-04-01T00:00:00\", \"deaths\": 1, \"cumulative deaths\": 1}, {\"code\": \"RRJ\", \"name\": \"THE ROYAL ORTHOPAEDIC HOSPITAL NHS FOUNDATION TRUST\", \"date of death\": \"2020-04-02T00:00:00\", \"deaths\": 0, \"cumulative deaths\": 1}, {\"code\": \"RRJ\", \"name\": \"THE ROYAL ORTHOPAEDIC HOSPITAL NHS FOUNDATION TRUST\", \"date of death\": \"2020-04-03T00:00:00\", \"deaths\": 0, \"cumulative deaths\": 1}, {\"code\": \"RRJ\", \"name\": \"THE ROYAL ORTHOPAEDIC HOSPITAL NHS FOUNDATION TRUST\", \"date of death\": \"2020-04-04T00:00:00\", \"deaths\": 0, \"cumulative deaths\": 1}, {\"code\": \"RRJ\", \"name\": \"THE ROYAL ORTHOPAEDIC HOSPITAL NHS FOUNDATION TRUST\", \"date of death\": \"2020-04-05T00:00:00\", \"deaths\": 0, \"cumulative deaths\": 1}, {\"code\": \"RRJ\", \"name\": \"THE ROYAL ORTHOPAEDIC HOSPITAL NHS FOUNDATION TRUST\", \"date of death\": \"2020-04-06T00:00:00\", \"deaths\": 0, \"cumulative deaths\": 1}, {\"code\": \"RRJ\", \"name\": \"THE ROYAL ORTHOPAEDIC HOSPITAL NHS FOUNDATION TRUST\", \"date of death\": \"2020-04-07T00:00:00\", \"deaths\": 0, \"cumulative deaths\": 1}, {\"code\": \"RRJ\", \"name\": \"THE ROYAL ORTHOPAEDIC HOSPITAL NHS FOUNDATION TRUST\", \"date of death\": \"2020-04-08T00:00:00\", \"deaths\": 0, \"cumulative deaths\": 1}, {\"code\": \"RRJ\", \"name\": \"THE ROYAL ORTHOPAEDIC HOSPITAL NHS FOUNDATION TRUST\", \"date of death\": \"2020-04-09T00:00:00\", \"deaths\": 0, \"cumulative deaths\": 1}, {\"code\": \"RRJ\", \"name\": \"THE ROYAL ORTHOPAEDIC HOSPITAL NHS FOUNDATION TRUST\", \"date of death\": \"2020-04-10T00:00:00\", \"deaths\": 1, \"cumulative deaths\": 2}, {\"code\": \"RRJ\", \"name\": \"THE ROYAL ORTHOPAEDIC HOSPITAL NHS FOUNDATION TRUST\", \"date of death\": \"2020-04-11T00:00:00\", \"deaths\": 0, \"cumulative deaths\": 2}, {\"code\": \"RRJ\", \"name\": \"THE ROYAL ORTHOPAEDIC HOSPITAL NHS FOUNDATION TRUST\", \"date of death\": \"2020-04-12T00:00:00\", \"deaths\": 0, \"cumulative deaths\": 2}, {\"code\": \"RRJ\", \"name\": \"THE ROYAL ORTHOPAEDIC HOSPITAL NHS FOUNDATION TRUST\", \"date of death\": \"2020-04-13T00:00:00\", \"deaths\": 0, \"cumulative deaths\": 2}, {\"code\": \"RRJ\", \"name\": \"THE ROYAL ORTHOPAEDIC HOSPITAL NHS FOUNDATION TRUST\", \"date of death\": \"2020-04-14T00:00:00\", \"deaths\": 0, \"cumulative deaths\": 2}, {\"code\": \"RRJ\", \"name\": \"THE ROYAL ORTHOPAEDIC HOSPITAL NHS FOUNDATION TRUST\", \"date of death\": \"2020-04-15T00:00:00\", \"deaths\": 0, \"cumulative deaths\": 2}, {\"code\": \"RRJ\", \"name\": \"THE ROYAL ORTHOPAEDIC HOSPITAL NHS FOUNDATION TRUST\", \"date of death\": \"2020-04-16T00:00:00\", \"deaths\": 0, \"cumulative deaths\": 2}, {\"code\": \"RRJ\", \"name\": \"THE ROYAL ORTHOPAEDIC HOSPITAL NHS FOUNDATION TRUST\", \"date of death\": \"2020-04-17T00:00:00\", \"deaths\": 0, \"cumulative deaths\": 2}, {\"code\": \"RRJ\", \"name\": \"THE ROYAL ORTHOPAEDIC HOSPITAL NHS FOUNDATION TRUST\", \"date of death\": \"2020-04-18T00:00:00\", \"deaths\": 0, \"cumulative deaths\": 2}, {\"code\": \"RRJ\", \"name\": \"THE ROYAL ORTHOPAEDIC HOSPITAL NHS FOUNDATION TRUST\", \"date of death\": \"2020-04-19T00:00:00\", \"deaths\": 0, \"cumulative deaths\": 2}, {\"code\": \"RRK\", \"name\": \"UNIVERSITY HOSPITALS BIRMINGHAM NHS FOUNDATION TRUST\", \"date of death\": \"2020-02-29T00:00:00\", \"deaths\": 0, \"cumulative deaths\": 0}, {\"code\": \"RRK\", \"name\": \"UNIVERSITY HOSPITALS BIRMINGHAM NHS FOUNDATION TRUST\", \"date of death\": \"2020-03-01T00:00:00\", \"deaths\": 0, \"cumulative deaths\": 0}, {\"code\": \"RRK\", \"name\": \"UNIVERSITY HOSPITALS BIRMINGHAM NHS FOUNDATION TRUST\", \"date of death\": \"2020-03-02T00:00:00\", \"deaths\": 0, \"cumulative deaths\": 0}, {\"code\": \"RRK\", \"name\": \"UNIVERSITY HOSPITALS BIRMINGHAM NHS FOUNDATION TRUST\", \"date of death\": \"2020-03-03T00:00:00\", \"deaths\": 0, \"cumulative deaths\": 0}, {\"code\": \"RRK\", \"name\": \"UNIVERSITY HOSPITALS BIRMINGHAM NHS FOUNDATION TRUST\", \"date of death\": \"2020-03-04T00:00:00\", \"deaths\": 0, \"cumulative deaths\": 0}, {\"code\": \"RRK\", \"name\": \"UNIVERSITY HOSPITALS BIRMINGHAM NHS FOUNDATION TRUST\", \"date of death\": \"2020-03-05T00:00:00\", \"deaths\": 0, \"cumulative deaths\": 0}, {\"code\": \"RRK\", \"name\": \"UNIVERSITY HOSPITALS BIRMINGHAM NHS FOUNDATION TRUST\", \"date of death\": \"2020-03-06T00:00:00\", \"deaths\": 0, \"cumulative deaths\": 0}, {\"code\": \"RRK\", \"name\": \"UNIVERSITY HOSPITALS BIRMINGHAM NHS FOUNDATION TRUST\", \"date of death\": \"2020-03-07T00:00:00\", \"deaths\": 0, \"cumulative deaths\": 0}, {\"code\": \"RRK\", \"name\": \"UNIVERSITY HOSPITALS BIRMINGHAM NHS FOUNDATION TRUST\", \"date of death\": \"2020-03-08T00:00:00\", \"deaths\": 0, \"cumulative deaths\": 0}, {\"code\": \"RRK\", \"name\": \"UNIVERSITY HOSPITALS BIRMINGHAM NHS FOUNDATION TRUST\", \"date of death\": \"2020-03-09T00:00:00\", \"deaths\": 0, \"cumulative deaths\": 0}, {\"code\": \"RRK\", \"name\": \"UNIVERSITY HOSPITALS BIRMINGHAM NHS FOUNDATION TRUST\", \"date of death\": \"2020-03-10T00:00:00\", \"deaths\": 0, \"cumulative deaths\": 0}, {\"code\": \"RRK\", \"name\": \"UNIVERSITY HOSPITALS BIRMINGHAM NHS FOUNDATION TRUST\", \"date of death\": \"2020-03-11T00:00:00\", \"deaths\": 0, \"cumulative deaths\": 0}, {\"code\": \"RRK\", \"name\": \"UNIVERSITY HOSPITALS BIRMINGHAM NHS FOUNDATION TRUST\", \"date of death\": \"2020-03-12T00:00:00\", \"deaths\": 0, \"cumulative deaths\": 0}, {\"code\": \"RRK\", \"name\": \"UNIVERSITY HOSPITALS BIRMINGHAM NHS FOUNDATION TRUST\", \"date of death\": \"2020-03-13T00:00:00\", \"deaths\": 0, \"cumulative deaths\": 0}, {\"code\": \"RRK\", \"name\": \"UNIVERSITY HOSPITALS BIRMINGHAM NHS FOUNDATION TRUST\", \"date of death\": \"2020-03-14T00:00:00\", \"deaths\": 1, \"cumulative deaths\": 1}, {\"code\": \"RRK\", \"name\": \"UNIVERSITY HOSPITALS BIRMINGHAM NHS FOUNDATION TRUST\", \"date of death\": \"2020-03-15T00:00:00\", \"deaths\": 1, \"cumulative deaths\": 2}, {\"code\": \"RRK\", \"name\": \"UNIVERSITY HOSPITALS BIRMINGHAM NHS FOUNDATION TRUST\", \"date of death\": \"2020-03-16T00:00:00\", \"deaths\": 0, \"cumulative deaths\": 2}, {\"code\": \"RRK\", \"name\": \"UNIVERSITY HOSPITALS BIRMINGHAM NHS FOUNDATION TRUST\", \"date of death\": \"2020-03-17T00:00:00\", \"deaths\": 1, \"cumulative deaths\": 3}, {\"code\": \"RRK\", \"name\": \"UNIVERSITY HOSPITALS BIRMINGHAM NHS FOUNDATION TRUST\", \"date of death\": \"2020-03-18T00:00:00\", \"deaths\": 1, \"cumulative deaths\": 4}, {\"code\": \"RRK\", \"name\": \"UNIVERSITY HOSPITALS BIRMINGHAM NHS FOUNDATION TRUST\", \"date of death\": \"2020-03-19T00:00:00\", \"deaths\": 2, \"cumulative deaths\": 6}, {\"code\": \"RRK\", \"name\": \"UNIVERSITY HOSPITALS BIRMINGHAM NHS FOUNDATION TRUST\", \"date of death\": \"2020-03-20T00:00:00\", \"deaths\": 5, \"cumulative deaths\": 11}, {\"code\": \"RRK\", \"name\": \"UNIVERSITY HOSPITALS BIRMINGHAM NHS FOUNDATION TRUST\", \"date of death\": \"2020-03-21T00:00:00\", \"deaths\": 2, \"cumulative deaths\": 13}, {\"code\": \"RRK\", \"name\": \"UNIVERSITY HOSPITALS BIRMINGHAM NHS FOUNDATION TRUST\", \"date of death\": \"2020-03-22T00:00:00\", \"deaths\": 9, \"cumulative deaths\": 22}, {\"code\": \"RRK\", \"name\": \"UNIVERSITY HOSPITALS BIRMINGHAM NHS FOUNDATION TRUST\", \"date of death\": \"2020-03-23T00:00:00\", \"deaths\": 5, \"cumulative deaths\": 27}, {\"code\": \"RRK\", \"name\": \"UNIVERSITY HOSPITALS BIRMINGHAM NHS FOUNDATION TRUST\", \"date of death\": \"2020-03-24T00:00:00\", \"deaths\": 5, \"cumulative deaths\": 32}, {\"code\": \"RRK\", \"name\": \"UNIVERSITY HOSPITALS BIRMINGHAM NHS FOUNDATION TRUST\", \"date of death\": \"2020-03-25T00:00:00\", \"deaths\": 12, \"cumulative deaths\": 44}, {\"code\": \"RRK\", \"name\": \"UNIVERSITY HOSPITALS BIRMINGHAM NHS FOUNDATION TRUST\", \"date of death\": \"2020-03-26T00:00:00\", \"deaths\": 13, \"cumulative deaths\": 57}, {\"code\": \"RRK\", \"name\": \"UNIVERSITY HOSPITALS BIRMINGHAM NHS FOUNDATION TRUST\", \"date of death\": \"2020-03-27T00:00:00\", \"deaths\": 19, \"cumulative deaths\": 76}, {\"code\": \"RRK\", \"name\": \"UNIVERSITY HOSPITALS BIRMINGHAM NHS FOUNDATION TRUST\", \"date of death\": \"2020-03-28T00:00:00\", \"deaths\": 21, \"cumulative deaths\": 97}, {\"code\": \"RRK\", \"name\": \"UNIVERSITY HOSPITALS BIRMINGHAM NHS FOUNDATION TRUST\", \"date of death\": \"2020-03-29T00:00:00\", \"deaths\": 39, \"cumulative deaths\": 136}, {\"code\": \"RRK\", \"name\": \"UNIVERSITY HOSPITALS BIRMINGHAM NHS FOUNDATION TRUST\", \"date of death\": \"2020-03-30T00:00:00\", \"deaths\": 25, \"cumulative deaths\": 161}, {\"code\": \"RRK\", \"name\": \"UNIVERSITY HOSPITALS BIRMINGHAM NHS FOUNDATION TRUST\", \"date of death\": \"2020-03-31T00:00:00\", \"deaths\": 1, \"cumulative deaths\": 162}, {\"code\": \"RRK\", \"name\": \"UNIVERSITY HOSPITALS BIRMINGHAM NHS FOUNDATION TRUST\", \"date of death\": \"2020-04-01T00:00:00\", \"deaths\": 26, \"cumulative deaths\": 188}, {\"code\": \"RRK\", \"name\": \"UNIVERSITY HOSPITALS BIRMINGHAM NHS FOUNDATION TRUST\", \"date of death\": \"2020-04-02T00:00:00\", \"deaths\": 26, \"cumulative deaths\": 214}, {\"code\": \"RRK\", \"name\": \"UNIVERSITY HOSPITALS BIRMINGHAM NHS FOUNDATION TRUST\", \"date of death\": \"2020-04-03T00:00:00\", \"deaths\": 17, \"cumulative deaths\": 231}, {\"code\": \"RRK\", \"name\": \"UNIVERSITY HOSPITALS BIRMINGHAM NHS FOUNDATION TRUST\", \"date of death\": \"2020-04-04T00:00:00\", \"deaths\": 24, \"cumulative deaths\": 255}, {\"code\": \"RRK\", \"name\": \"UNIVERSITY HOSPITALS BIRMINGHAM NHS FOUNDATION TRUST\", \"date of death\": \"2020-04-05T00:00:00\", \"deaths\": 35, \"cumulative deaths\": 290}, {\"code\": \"RRK\", \"name\": \"UNIVERSITY HOSPITALS BIRMINGHAM NHS FOUNDATION TRUST\", \"date of death\": \"2020-04-06T00:00:00\", \"deaths\": 29, \"cumulative deaths\": 319}, {\"code\": \"RRK\", \"name\": \"UNIVERSITY HOSPITALS BIRMINGHAM NHS FOUNDATION TRUST\", \"date of death\": \"2020-04-07T00:00:00\", \"deaths\": 25, \"cumulative deaths\": 344}, {\"code\": \"RRK\", \"name\": \"UNIVERSITY HOSPITALS BIRMINGHAM NHS FOUNDATION TRUST\", \"date of death\": \"2020-04-08T00:00:00\", \"deaths\": 36, \"cumulative deaths\": 380}, {\"code\": \"RRK\", \"name\": \"UNIVERSITY HOSPITALS BIRMINGHAM NHS FOUNDATION TRUST\", \"date of death\": \"2020-04-09T00:00:00\", \"deaths\": 22, \"cumulative deaths\": 402}, {\"code\": \"RRK\", \"name\": \"UNIVERSITY HOSPITALS BIRMINGHAM NHS FOUNDATION TRUST\", \"date of death\": \"2020-04-10T00:00:00\", \"deaths\": 23, \"cumulative deaths\": 425}, {\"code\": \"RRK\", \"name\": \"UNIVERSITY HOSPITALS BIRMINGHAM NHS FOUNDATION TRUST\", \"date of death\": \"2020-04-11T00:00:00\", \"deaths\": 29, \"cumulative deaths\": 454}, {\"code\": \"RRK\", \"name\": \"UNIVERSITY HOSPITALS BIRMINGHAM NHS FOUNDATION TRUST\", \"date of death\": \"2020-04-12T00:00:00\", \"deaths\": 19, \"cumulative deaths\": 473}, {\"code\": \"RRK\", \"name\": \"UNIVERSITY HOSPITALS BIRMINGHAM NHS FOUNDATION TRUST\", \"date of death\": \"2020-04-13T00:00:00\", \"deaths\": 18, \"cumulative deaths\": 491}, {\"code\": \"RRK\", \"name\": \"UNIVERSITY HOSPITALS BIRMINGHAM NHS FOUNDATION TRUST\", \"date of death\": \"2020-04-14T00:00:00\", \"deaths\": 28, \"cumulative deaths\": 519}, {\"code\": \"RRK\", \"name\": \"UNIVERSITY HOSPITALS BIRMINGHAM NHS FOUNDATION TRUST\", \"date of death\": \"2020-04-15T00:00:00\", \"deaths\": 28, \"cumulative deaths\": 547}, {\"code\": \"RRK\", \"name\": \"UNIVERSITY HOSPITALS BIRMINGHAM NHS FOUNDATION TRUST\", \"date of death\": \"2020-04-16T00:00:00\", \"deaths\": 19, \"cumulative deaths\": 566}, {\"code\": \"RRK\", \"name\": \"UNIVERSITY HOSPITALS BIRMINGHAM NHS FOUNDATION TRUST\", \"date of death\": \"2020-04-17T00:00:00\", \"deaths\": 24, \"cumulative deaths\": 590}, {\"code\": \"RRK\", \"name\": \"UNIVERSITY HOSPITALS BIRMINGHAM NHS FOUNDATION TRUST\", \"date of death\": \"2020-04-18T00:00:00\", \"deaths\": 10, \"cumulative deaths\": 600}, {\"code\": \"RRK\", \"name\": \"UNIVERSITY HOSPITALS BIRMINGHAM NHS FOUNDATION TRUST\", \"date of death\": \"2020-04-19T00:00:00\", \"deaths\": 0, \"cumulative deaths\": 600}, {\"code\": \"RWP\", \"name\": \"WORCESTERSHIRE ACUTE HOSPITALS NHS TRUST\", \"date of death\": \"2020-02-29T00:00:00\", \"deaths\": 0, \"cumulative deaths\": 0}, {\"code\": \"RWP\", \"name\": \"WORCESTERSHIRE ACUTE HOSPITALS NHS TRUST\", \"date of death\": \"2020-03-01T00:00:00\", \"deaths\": 0, \"cumulative deaths\": 0}, {\"code\": \"RWP\", \"name\": \"WORCESTERSHIRE ACUTE HOSPITALS NHS TRUST\", \"date of death\": \"2020-03-02T00:00:00\", \"deaths\": 0, \"cumulative deaths\": 0}, {\"code\": \"RWP\", \"name\": \"WORCESTERSHIRE ACUTE HOSPITALS NHS TRUST\", \"date of death\": \"2020-03-03T00:00:00\", \"deaths\": 0, \"cumulative deaths\": 0}, {\"code\": \"RWP\", \"name\": \"WORCESTERSHIRE ACUTE HOSPITALS NHS TRUST\", \"date of death\": \"2020-03-04T00:00:00\", \"deaths\": 0, \"cumulative deaths\": 0}, {\"code\": \"RWP\", \"name\": \"WORCESTERSHIRE ACUTE HOSPITALS NHS TRUST\", \"date of death\": \"2020-03-05T00:00:00\", \"deaths\": 0, \"cumulative deaths\": 0}, {\"code\": \"RWP\", \"name\": \"WORCESTERSHIRE ACUTE HOSPITALS NHS TRUST\", \"date of death\": \"2020-03-06T00:00:00\", \"deaths\": 0, \"cumulative deaths\": 0}, {\"code\": \"RWP\", \"name\": \"WORCESTERSHIRE ACUTE HOSPITALS NHS TRUST\", \"date of death\": \"2020-03-07T00:00:00\", \"deaths\": 0, \"cumulative deaths\": 0}, {\"code\": \"RWP\", \"name\": \"WORCESTERSHIRE ACUTE HOSPITALS NHS TRUST\", \"date of death\": \"2020-03-08T00:00:00\", \"deaths\": 0, \"cumulative deaths\": 0}, {\"code\": \"RWP\", \"name\": \"WORCESTERSHIRE ACUTE HOSPITALS NHS TRUST\", \"date of death\": \"2020-03-09T00:00:00\", \"deaths\": 0, \"cumulative deaths\": 0}, {\"code\": \"RWP\", \"name\": \"WORCESTERSHIRE ACUTE HOSPITALS NHS TRUST\", \"date of death\": \"2020-03-10T00:00:00\", \"deaths\": 0, \"cumulative deaths\": 0}, {\"code\": \"RWP\", \"name\": \"WORCESTERSHIRE ACUTE HOSPITALS NHS TRUST\", \"date of death\": \"2020-03-11T00:00:00\", \"deaths\": 0, \"cumulative deaths\": 0}, {\"code\": \"RWP\", \"name\": \"WORCESTERSHIRE ACUTE HOSPITALS NHS TRUST\", \"date of death\": \"2020-03-12T00:00:00\", \"deaths\": 0, \"cumulative deaths\": 0}, {\"code\": \"RWP\", \"name\": \"WORCESTERSHIRE ACUTE HOSPITALS NHS TRUST\", \"date of death\": \"2020-03-13T00:00:00\", \"deaths\": 0, \"cumulative deaths\": 0}, {\"code\": \"RWP\", \"name\": \"WORCESTERSHIRE ACUTE HOSPITALS NHS TRUST\", \"date of death\": \"2020-03-14T00:00:00\", \"deaths\": 0, \"cumulative deaths\": 0}, {\"code\": \"RWP\", \"name\": \"WORCESTERSHIRE ACUTE HOSPITALS NHS TRUST\", \"date of death\": \"2020-03-15T00:00:00\", \"deaths\": 0, \"cumulative deaths\": 0}, {\"code\": \"RWP\", \"name\": \"WORCESTERSHIRE ACUTE HOSPITALS NHS TRUST\", \"date of death\": \"2020-03-16T00:00:00\", \"deaths\": 0, \"cumulative deaths\": 0}, {\"code\": \"RWP\", \"name\": \"WORCESTERSHIRE ACUTE HOSPITALS NHS TRUST\", \"date of death\": \"2020-03-17T00:00:00\", \"deaths\": 0, \"cumulative deaths\": 0}, {\"code\": \"RWP\", \"name\": \"WORCESTERSHIRE ACUTE HOSPITALS NHS TRUST\", \"date of death\": \"2020-03-18T00:00:00\", \"deaths\": 0, \"cumulative deaths\": 0}, {\"code\": \"RWP\", \"name\": \"WORCESTERSHIRE ACUTE HOSPITALS NHS TRUST\", \"date of death\": \"2020-03-19T00:00:00\", \"deaths\": 0, \"cumulative deaths\": 0}, {\"code\": \"RWP\", \"name\": \"WORCESTERSHIRE ACUTE HOSPITALS NHS TRUST\", \"date of death\": \"2020-03-20T00:00:00\", \"deaths\": 3, \"cumulative deaths\": 3}, {\"code\": \"RWP\", \"name\": \"WORCESTERSHIRE ACUTE HOSPITALS NHS TRUST\", \"date of death\": \"2020-03-21T00:00:00\", \"deaths\": 2, \"cumulative deaths\": 5}, {\"code\": \"RWP\", \"name\": \"WORCESTERSHIRE ACUTE HOSPITALS NHS TRUST\", \"date of death\": \"2020-03-22T00:00:00\", \"deaths\": 1, \"cumulative deaths\": 6}, {\"code\": \"RWP\", \"name\": \"WORCESTERSHIRE ACUTE HOSPITALS NHS TRUST\", \"date of death\": \"2020-03-23T00:00:00\", \"deaths\": 1, \"cumulative deaths\": 7}, {\"code\": \"RWP\", \"name\": \"WORCESTERSHIRE ACUTE HOSPITALS NHS TRUST\", \"date of death\": \"2020-03-24T00:00:00\", \"deaths\": 1, \"cumulative deaths\": 8}, {\"code\": \"RWP\", \"name\": \"WORCESTERSHIRE ACUTE HOSPITALS NHS TRUST\", \"date of death\": \"2020-03-25T00:00:00\", \"deaths\": 3, \"cumulative deaths\": 11}, {\"code\": \"RWP\", \"name\": \"WORCESTERSHIRE ACUTE HOSPITALS NHS TRUST\", \"date of death\": \"2020-03-26T00:00:00\", \"deaths\": 5, \"cumulative deaths\": 16}, {\"code\": \"RWP\", \"name\": \"WORCESTERSHIRE ACUTE HOSPITALS NHS TRUST\", \"date of death\": \"2020-03-27T00:00:00\", \"deaths\": 3, \"cumulative deaths\": 19}, {\"code\": \"RWP\", \"name\": \"WORCESTERSHIRE ACUTE HOSPITALS NHS TRUST\", \"date of death\": \"2020-03-28T00:00:00\", \"deaths\": 4, \"cumulative deaths\": 23}, {\"code\": \"RWP\", \"name\": \"WORCESTERSHIRE ACUTE HOSPITALS NHS TRUST\", \"date of death\": \"2020-03-29T00:00:00\", \"deaths\": 4, \"cumulative deaths\": 27}, {\"code\": \"RWP\", \"name\": \"WORCESTERSHIRE ACUTE HOSPITALS NHS TRUST\", \"date of death\": \"2020-03-30T00:00:00\", \"deaths\": 2, \"cumulative deaths\": 29}, {\"code\": \"RWP\", \"name\": \"WORCESTERSHIRE ACUTE HOSPITALS NHS TRUST\", \"date of death\": \"2020-03-31T00:00:00\", \"deaths\": 8, \"cumulative deaths\": 37}, {\"code\": \"RWP\", \"name\": \"WORCESTERSHIRE ACUTE HOSPITALS NHS TRUST\", \"date of death\": \"2020-04-01T00:00:00\", \"deaths\": 11, \"cumulative deaths\": 48}, {\"code\": \"RWP\", \"name\": \"WORCESTERSHIRE ACUTE HOSPITALS NHS TRUST\", \"date of death\": \"2020-04-02T00:00:00\", \"deaths\": 8, \"cumulative deaths\": 56}, {\"code\": \"RWP\", \"name\": \"WORCESTERSHIRE ACUTE HOSPITALS NHS TRUST\", \"date of death\": \"2020-04-03T00:00:00\", \"deaths\": 4, \"cumulative deaths\": 60}, {\"code\": \"RWP\", \"name\": \"WORCESTERSHIRE ACUTE HOSPITALS NHS TRUST\", \"date of death\": \"2020-04-04T00:00:00\", \"deaths\": 7, \"cumulative deaths\": 67}, {\"code\": \"RWP\", \"name\": \"WORCESTERSHIRE ACUTE HOSPITALS NHS TRUST\", \"date of death\": \"2020-04-05T00:00:00\", \"deaths\": 8, \"cumulative deaths\": 75}, {\"code\": \"RWP\", \"name\": \"WORCESTERSHIRE ACUTE HOSPITALS NHS TRUST\", \"date of death\": \"2020-04-06T00:00:00\", \"deaths\": 3, \"cumulative deaths\": 78}, {\"code\": \"RWP\", \"name\": \"WORCESTERSHIRE ACUTE HOSPITALS NHS TRUST\", \"date of death\": \"2020-04-07T00:00:00\", \"deaths\": 5, \"cumulative deaths\": 83}, {\"code\": \"RWP\", \"name\": \"WORCESTERSHIRE ACUTE HOSPITALS NHS TRUST\", \"date of death\": \"2020-04-08T00:00:00\", \"deaths\": 5, \"cumulative deaths\": 88}, {\"code\": \"RWP\", \"name\": \"WORCESTERSHIRE ACUTE HOSPITALS NHS TRUST\", \"date of death\": \"2020-04-09T00:00:00\", \"deaths\": 6, \"cumulative deaths\": 94}, {\"code\": \"RWP\", \"name\": \"WORCESTERSHIRE ACUTE HOSPITALS NHS TRUST\", \"date of death\": \"2020-04-10T00:00:00\", \"deaths\": 8, \"cumulative deaths\": 102}, {\"code\": \"RWP\", \"name\": \"WORCESTERSHIRE ACUTE HOSPITALS NHS TRUST\", \"date of death\": \"2020-04-11T00:00:00\", \"deaths\": 4, \"cumulative deaths\": 106}, {\"code\": \"RWP\", \"name\": \"WORCESTERSHIRE ACUTE HOSPITALS NHS TRUST\", \"date of death\": \"2020-04-12T00:00:00\", \"deaths\": 9, \"cumulative deaths\": 115}, {\"code\": \"RWP\", \"name\": \"WORCESTERSHIRE ACUTE HOSPITALS NHS TRUST\", \"date of death\": \"2020-04-13T00:00:00\", \"deaths\": 9, \"cumulative deaths\": 124}, {\"code\": \"RWP\", \"name\": \"WORCESTERSHIRE ACUTE HOSPITALS NHS TRUST\", \"date of death\": \"2020-04-14T00:00:00\", \"deaths\": 5, \"cumulative deaths\": 129}, {\"code\": \"RWP\", \"name\": \"WORCESTERSHIRE ACUTE HOSPITALS NHS TRUST\", \"date of death\": \"2020-04-15T00:00:00\", \"deaths\": 7, \"cumulative deaths\": 136}, {\"code\": \"RWP\", \"name\": \"WORCESTERSHIRE ACUTE HOSPITALS NHS TRUST\", \"date of death\": \"2020-04-16T00:00:00\", \"deaths\": 4, \"cumulative deaths\": 140}, {\"code\": \"RWP\", \"name\": \"WORCESTERSHIRE ACUTE HOSPITALS NHS TRUST\", \"date of death\": \"2020-04-17T00:00:00\", \"deaths\": 3, \"cumulative deaths\": 143}, {\"code\": \"RWP\", \"name\": \"WORCESTERSHIRE ACUTE HOSPITALS NHS TRUST\", \"date of death\": \"2020-04-18T00:00:00\", \"deaths\": 2, \"cumulative deaths\": 145}, {\"code\": \"RWP\", \"name\": \"WORCESTERSHIRE ACUTE HOSPITALS NHS TRUST\", \"date of death\": \"2020-04-19T00:00:00\", \"deaths\": 1, \"cumulative deaths\": 146}, {\"code\": \"RXK\", \"name\": \"SANDWELL AND WEST BIRMINGHAM HOSPITALS NHS TRUST\", \"date of death\": \"2020-02-29T00:00:00\", \"deaths\": 1, \"cumulative deaths\": 1}, {\"code\": \"RXK\", \"name\": \"SANDWELL AND WEST BIRMINGHAM HOSPITALS NHS TRUST\", \"date of death\": \"2020-03-01T00:00:00\", \"deaths\": 0, \"cumulative deaths\": 1}, {\"code\": \"RXK\", \"name\": \"SANDWELL AND WEST BIRMINGHAM HOSPITALS NHS TRUST\", \"date of death\": \"2020-03-02T00:00:00\", \"deaths\": 0, \"cumulative deaths\": 1}, {\"code\": \"RXK\", \"name\": \"SANDWELL AND WEST BIRMINGHAM HOSPITALS NHS TRUST\", \"date of death\": \"2020-03-03T00:00:00\", \"deaths\": 0, \"cumulative deaths\": 1}, {\"code\": \"RXK\", \"name\": \"SANDWELL AND WEST BIRMINGHAM HOSPITALS NHS TRUST\", \"date of death\": \"2020-03-04T00:00:00\", \"deaths\": 0, \"cumulative deaths\": 1}, {\"code\": \"RXK\", \"name\": \"SANDWELL AND WEST BIRMINGHAM HOSPITALS NHS TRUST\", \"date of death\": \"2020-03-05T00:00:00\", \"deaths\": 0, \"cumulative deaths\": 1}, {\"code\": \"RXK\", \"name\": \"SANDWELL AND WEST BIRMINGHAM HOSPITALS NHS TRUST\", \"date of death\": \"2020-03-06T00:00:00\", \"deaths\": 0, \"cumulative deaths\": 1}, {\"code\": \"RXK\", \"name\": \"SANDWELL AND WEST BIRMINGHAM HOSPITALS NHS TRUST\", \"date of death\": \"2020-03-07T00:00:00\", \"deaths\": 0, \"cumulative deaths\": 1}, {\"code\": \"RXK\", \"name\": \"SANDWELL AND WEST BIRMINGHAM HOSPITALS NHS TRUST\", \"date of death\": \"2020-03-08T00:00:00\", \"deaths\": 0, \"cumulative deaths\": 1}, {\"code\": \"RXK\", \"name\": \"SANDWELL AND WEST BIRMINGHAM HOSPITALS NHS TRUST\", \"date of death\": \"2020-03-09T00:00:00\", \"deaths\": 0, \"cumulative deaths\": 1}, {\"code\": \"RXK\", \"name\": \"SANDWELL AND WEST BIRMINGHAM HOSPITALS NHS TRUST\", \"date of death\": \"2020-03-10T00:00:00\", \"deaths\": 0, \"cumulative deaths\": 1}, {\"code\": \"RXK\", \"name\": \"SANDWELL AND WEST BIRMINGHAM HOSPITALS NHS TRUST\", \"date of death\": \"2020-03-11T00:00:00\", \"deaths\": 0, \"cumulative deaths\": 1}, {\"code\": \"RXK\", \"name\": \"SANDWELL AND WEST BIRMINGHAM HOSPITALS NHS TRUST\", \"date of death\": \"2020-03-12T00:00:00\", \"deaths\": 1, \"cumulative deaths\": 2}, {\"code\": \"RXK\", \"name\": \"SANDWELL AND WEST BIRMINGHAM HOSPITALS NHS TRUST\", \"date of death\": \"2020-03-13T00:00:00\", \"deaths\": 1, \"cumulative deaths\": 3}, {\"code\": \"RXK\", \"name\": \"SANDWELL AND WEST BIRMINGHAM HOSPITALS NHS TRUST\", \"date of death\": \"2020-03-14T00:00:00\", \"deaths\": 0, \"cumulative deaths\": 3}, {\"code\": \"RXK\", \"name\": \"SANDWELL AND WEST BIRMINGHAM HOSPITALS NHS TRUST\", \"date of death\": \"2020-03-15T00:00:00\", \"deaths\": 0, \"cumulative deaths\": 3}, {\"code\": \"RXK\", \"name\": \"SANDWELL AND WEST BIRMINGHAM HOSPITALS NHS TRUST\", \"date of death\": \"2020-03-16T00:00:00\", \"deaths\": 6, \"cumulative deaths\": 9}, {\"code\": \"RXK\", \"name\": \"SANDWELL AND WEST BIRMINGHAM HOSPITALS NHS TRUST\", \"date of death\": \"2020-03-17T00:00:00\", \"deaths\": 1, \"cumulative deaths\": 10}, {\"code\": \"RXK\", \"name\": \"SANDWELL AND WEST BIRMINGHAM HOSPITALS NHS TRUST\", \"date of death\": \"2020-03-18T00:00:00\", \"deaths\": 5, \"cumulative deaths\": 15}, {\"code\": \"RXK\", \"name\": \"SANDWELL AND WEST BIRMINGHAM HOSPITALS NHS TRUST\", \"date of death\": \"2020-03-19T00:00:00\", \"deaths\": 3, \"cumulative deaths\": 18}, {\"code\": \"RXK\", \"name\": \"SANDWELL AND WEST BIRMINGHAM HOSPITALS NHS TRUST\", \"date of death\": \"2020-03-20T00:00:00\", \"deaths\": 1, \"cumulative deaths\": 19}, {\"code\": \"RXK\", \"name\": \"SANDWELL AND WEST BIRMINGHAM HOSPITALS NHS TRUST\", \"date of death\": \"2020-03-21T00:00:00\", \"deaths\": 1, \"cumulative deaths\": 20}, {\"code\": \"RXK\", \"name\": \"SANDWELL AND WEST BIRMINGHAM HOSPITALS NHS TRUST\", \"date of death\": \"2020-03-22T00:00:00\", \"deaths\": 2, \"cumulative deaths\": 22}, {\"code\": \"RXK\", \"name\": \"SANDWELL AND WEST BIRMINGHAM HOSPITALS NHS TRUST\", \"date of death\": \"2020-03-23T00:00:00\", \"deaths\": 7, \"cumulative deaths\": 29}, {\"code\": \"RXK\", \"name\": \"SANDWELL AND WEST BIRMINGHAM HOSPITALS NHS TRUST\", \"date of death\": \"2020-03-24T00:00:00\", \"deaths\": 2, \"cumulative deaths\": 31}, {\"code\": \"RXK\", \"name\": \"SANDWELL AND WEST BIRMINGHAM HOSPITALS NHS TRUST\", \"date of death\": \"2020-03-25T00:00:00\", \"deaths\": 1, \"cumulative deaths\": 32}, {\"code\": \"RXK\", \"name\": \"SANDWELL AND WEST BIRMINGHAM HOSPITALS NHS TRUST\", \"date of death\": \"2020-03-26T00:00:00\", \"deaths\": 4, \"cumulative deaths\": 36}, {\"code\": \"RXK\", \"name\": \"SANDWELL AND WEST BIRMINGHAM HOSPITALS NHS TRUST\", \"date of death\": \"2020-03-27T00:00:00\", \"deaths\": 5, \"cumulative deaths\": 41}, {\"code\": \"RXK\", \"name\": \"SANDWELL AND WEST BIRMINGHAM HOSPITALS NHS TRUST\", \"date of death\": \"2020-03-28T00:00:00\", \"deaths\": 6, \"cumulative deaths\": 47}, {\"code\": \"RXK\", \"name\": \"SANDWELL AND WEST BIRMINGHAM HOSPITALS NHS TRUST\", \"date of death\": \"2020-03-29T00:00:00\", \"deaths\": 14, \"cumulative deaths\": 61}, {\"code\": \"RXK\", \"name\": \"SANDWELL AND WEST BIRMINGHAM HOSPITALS NHS TRUST\", \"date of death\": \"2020-03-30T00:00:00\", \"deaths\": 16, \"cumulative deaths\": 77}, {\"code\": \"RXK\", \"name\": \"SANDWELL AND WEST BIRMINGHAM HOSPITALS NHS TRUST\", \"date of death\": \"2020-03-31T00:00:00\", \"deaths\": 5, \"cumulative deaths\": 82}, {\"code\": \"RXK\", \"name\": \"SANDWELL AND WEST BIRMINGHAM HOSPITALS NHS TRUST\", \"date of death\": \"2020-04-01T00:00:00\", \"deaths\": 8, \"cumulative deaths\": 90}, {\"code\": \"RXK\", \"name\": \"SANDWELL AND WEST BIRMINGHAM HOSPITALS NHS TRUST\", \"date of death\": \"2020-04-02T00:00:00\", \"deaths\": 6, \"cumulative deaths\": 96}, {\"code\": \"RXK\", \"name\": \"SANDWELL AND WEST BIRMINGHAM HOSPITALS NHS TRUST\", \"date of death\": \"2020-04-03T00:00:00\", \"deaths\": 6, \"cumulative deaths\": 102}, {\"code\": \"RXK\", \"name\": \"SANDWELL AND WEST BIRMINGHAM HOSPITALS NHS TRUST\", \"date of death\": \"2020-04-04T00:00:00\", \"deaths\": 12, \"cumulative deaths\": 114}, {\"code\": \"RXK\", \"name\": \"SANDWELL AND WEST BIRMINGHAM HOSPITALS NHS TRUST\", \"date of death\": \"2020-04-05T00:00:00\", \"deaths\": 12, \"cumulative deaths\": 126}, {\"code\": \"RXK\", \"name\": \"SANDWELL AND WEST BIRMINGHAM HOSPITALS NHS TRUST\", \"date of death\": \"2020-04-06T00:00:00\", \"deaths\": 13, \"cumulative deaths\": 139}, {\"code\": \"RXK\", \"name\": \"SANDWELL AND WEST BIRMINGHAM HOSPITALS NHS TRUST\", \"date of death\": \"2020-04-07T00:00:00\", \"deaths\": 8, \"cumulative deaths\": 147}, {\"code\": \"RXK\", \"name\": \"SANDWELL AND WEST BIRMINGHAM HOSPITALS NHS TRUST\", \"date of death\": \"2020-04-08T00:00:00\", \"deaths\": 20, \"cumulative deaths\": 167}, {\"code\": \"RXK\", \"name\": \"SANDWELL AND WEST BIRMINGHAM HOSPITALS NHS TRUST\", \"date of death\": \"2020-04-09T00:00:00\", \"deaths\": 8, \"cumulative deaths\": 175}, {\"code\": \"RXK\", \"name\": \"SANDWELL AND WEST BIRMINGHAM HOSPITALS NHS TRUST\", \"date of death\": \"2020-04-10T00:00:00\", \"deaths\": 15, \"cumulative deaths\": 190}, {\"code\": \"RXK\", \"name\": \"SANDWELL AND WEST BIRMINGHAM HOSPITALS NHS TRUST\", \"date of death\": \"2020-04-11T00:00:00\", \"deaths\": 11, \"cumulative deaths\": 201}, {\"code\": \"RXK\", \"name\": \"SANDWELL AND WEST BIRMINGHAM HOSPITALS NHS TRUST\", \"date of death\": \"2020-04-12T00:00:00\", \"deaths\": 9, \"cumulative deaths\": 210}, {\"code\": \"RXK\", \"name\": \"SANDWELL AND WEST BIRMINGHAM HOSPITALS NHS TRUST\", \"date of death\": \"2020-04-13T00:00:00\", \"deaths\": 7, \"cumulative deaths\": 217}, {\"code\": \"RXK\", \"name\": \"SANDWELL AND WEST BIRMINGHAM HOSPITALS NHS TRUST\", \"date of death\": \"2020-04-14T00:00:00\", \"deaths\": 6, \"cumulative deaths\": 223}, {\"code\": \"RXK\", \"name\": \"SANDWELL AND WEST BIRMINGHAM HOSPITALS NHS TRUST\", \"date of death\": \"2020-04-15T00:00:00\", \"deaths\": 9, \"cumulative deaths\": 232}, {\"code\": \"RXK\", \"name\": \"SANDWELL AND WEST BIRMINGHAM HOSPITALS NHS TRUST\", \"date of death\": \"2020-04-16T00:00:00\", \"deaths\": 6, \"cumulative deaths\": 238}, {\"code\": \"RXK\", \"name\": \"SANDWELL AND WEST BIRMINGHAM HOSPITALS NHS TRUST\", \"date of death\": \"2020-04-17T00:00:00\", \"deaths\": 4, \"cumulative deaths\": 242}, {\"code\": \"RXK\", \"name\": \"SANDWELL AND WEST BIRMINGHAM HOSPITALS NHS TRUST\", \"date of death\": \"2020-04-18T00:00:00\", \"deaths\": 3, \"cumulative deaths\": 245}, {\"code\": \"RXK\", \"name\": \"SANDWELL AND WEST BIRMINGHAM HOSPITALS NHS TRUST\", \"date of death\": \"2020-04-19T00:00:00\", \"deaths\": 0, \"cumulative deaths\": 245}, {\"code\": \"RXW\", \"name\": \"SHREWSBURY AND TELFORD HOSPITAL NHS TRUST\", \"date of death\": \"2020-02-29T00:00:00\", \"deaths\": 0, \"cumulative deaths\": 0}, {\"code\": \"RXW\", \"name\": \"SHREWSBURY AND TELFORD HOSPITAL NHS TRUST\", \"date of death\": \"2020-03-01T00:00:00\", \"deaths\": 0, \"cumulative deaths\": 0}, {\"code\": \"RXW\", \"name\": \"SHREWSBURY AND TELFORD HOSPITAL NHS TRUST\", \"date of death\": \"2020-03-02T00:00:00\", \"deaths\": 0, \"cumulative deaths\": 0}, {\"code\": \"RXW\", \"name\": \"SHREWSBURY AND TELFORD HOSPITAL NHS TRUST\", \"date of death\": \"2020-03-03T00:00:00\", \"deaths\": 0, \"cumulative deaths\": 0}, {\"code\": \"RXW\", \"name\": \"SHREWSBURY AND TELFORD HOSPITAL NHS TRUST\", \"date of death\": \"2020-03-04T00:00:00\", \"deaths\": 0, \"cumulative deaths\": 0}, {\"code\": \"RXW\", \"name\": \"SHREWSBURY AND TELFORD HOSPITAL NHS TRUST\", \"date of death\": \"2020-03-05T00:00:00\", \"deaths\": 0, \"cumulative deaths\": 0}, {\"code\": \"RXW\", \"name\": \"SHREWSBURY AND TELFORD HOSPITAL NHS TRUST\", \"date of death\": \"2020-03-06T00:00:00\", \"deaths\": 0, \"cumulative deaths\": 0}, {\"code\": \"RXW\", \"name\": \"SHREWSBURY AND TELFORD HOSPITAL NHS TRUST\", \"date of death\": \"2020-03-07T00:00:00\", \"deaths\": 0, \"cumulative deaths\": 0}, {\"code\": \"RXW\", \"name\": \"SHREWSBURY AND TELFORD HOSPITAL NHS TRUST\", \"date of death\": \"2020-03-08T00:00:00\", \"deaths\": 0, \"cumulative deaths\": 0}, {\"code\": \"RXW\", \"name\": \"SHREWSBURY AND TELFORD HOSPITAL NHS TRUST\", \"date of death\": \"2020-03-09T00:00:00\", \"deaths\": 0, \"cumulative deaths\": 0}, {\"code\": \"RXW\", \"name\": \"SHREWSBURY AND TELFORD HOSPITAL NHS TRUST\", \"date of death\": \"2020-03-10T00:00:00\", \"deaths\": 0, \"cumulative deaths\": 0}, {\"code\": \"RXW\", \"name\": \"SHREWSBURY AND TELFORD HOSPITAL NHS TRUST\", \"date of death\": \"2020-03-11T00:00:00\", \"deaths\": 0, \"cumulative deaths\": 0}, {\"code\": \"RXW\", \"name\": \"SHREWSBURY AND TELFORD HOSPITAL NHS TRUST\", \"date of death\": \"2020-03-12T00:00:00\", \"deaths\": 0, \"cumulative deaths\": 0}, {\"code\": \"RXW\", \"name\": \"SHREWSBURY AND TELFORD HOSPITAL NHS TRUST\", \"date of death\": \"2020-03-13T00:00:00\", \"deaths\": 0, \"cumulative deaths\": 0}, {\"code\": \"RXW\", \"name\": \"SHREWSBURY AND TELFORD HOSPITAL NHS TRUST\", \"date of death\": \"2020-03-14T00:00:00\", \"deaths\": 0, \"cumulative deaths\": 0}, {\"code\": \"RXW\", \"name\": \"SHREWSBURY AND TELFORD HOSPITAL NHS TRUST\", \"date of death\": \"2020-03-15T00:00:00\", \"deaths\": 1, \"cumulative deaths\": 1}, {\"code\": \"RXW\", \"name\": \"SHREWSBURY AND TELFORD HOSPITAL NHS TRUST\", \"date of death\": \"2020-03-16T00:00:00\", \"deaths\": 0, \"cumulative deaths\": 1}, {\"code\": \"RXW\", \"name\": \"SHREWSBURY AND TELFORD HOSPITAL NHS TRUST\", \"date of death\": \"2020-03-17T00:00:00\", \"deaths\": 0, \"cumulative deaths\": 1}, {\"code\": \"RXW\", \"name\": \"SHREWSBURY AND TELFORD HOSPITAL NHS TRUST\", \"date of death\": \"2020-03-18T00:00:00\", \"deaths\": 0, \"cumulative deaths\": 1}, {\"code\": \"RXW\", \"name\": \"SHREWSBURY AND TELFORD HOSPITAL NHS TRUST\", \"date of death\": \"2020-03-19T00:00:00\", \"deaths\": 1, \"cumulative deaths\": 2}, {\"code\": \"RXW\", \"name\": \"SHREWSBURY AND TELFORD HOSPITAL NHS TRUST\", \"date of death\": \"2020-03-20T00:00:00\", \"deaths\": 0, \"cumulative deaths\": 2}, {\"code\": \"RXW\", \"name\": \"SHREWSBURY AND TELFORD HOSPITAL NHS TRUST\", \"date of death\": \"2020-03-21T00:00:00\", \"deaths\": 1, \"cumulative deaths\": 3}, {\"code\": \"RXW\", \"name\": \"SHREWSBURY AND TELFORD HOSPITAL NHS TRUST\", \"date of death\": \"2020-03-22T00:00:00\", \"deaths\": 0, \"cumulative deaths\": 3}, {\"code\": \"RXW\", \"name\": \"SHREWSBURY AND TELFORD HOSPITAL NHS TRUST\", \"date of death\": \"2020-03-23T00:00:00\", \"deaths\": 0, \"cumulative deaths\": 3}, {\"code\": \"RXW\", \"name\": \"SHREWSBURY AND TELFORD HOSPITAL NHS TRUST\", \"date of death\": \"2020-03-24T00:00:00\", \"deaths\": 0, \"cumulative deaths\": 3}, {\"code\": \"RXW\", \"name\": \"SHREWSBURY AND TELFORD HOSPITAL NHS TRUST\", \"date of death\": \"2020-03-25T00:00:00\", \"deaths\": 0, \"cumulative deaths\": 3}, {\"code\": \"RXW\", \"name\": \"SHREWSBURY AND TELFORD HOSPITAL NHS TRUST\", \"date of death\": \"2020-03-26T00:00:00\", \"deaths\": 3, \"cumulative deaths\": 6}, {\"code\": \"RXW\", \"name\": \"SHREWSBURY AND TELFORD HOSPITAL NHS TRUST\", \"date of death\": \"2020-03-27T00:00:00\", \"deaths\": 2, \"cumulative deaths\": 8}, {\"code\": \"RXW\", \"name\": \"SHREWSBURY AND TELFORD HOSPITAL NHS TRUST\", \"date of death\": \"2020-03-28T00:00:00\", \"deaths\": 4, \"cumulative deaths\": 12}, {\"code\": \"RXW\", \"name\": \"SHREWSBURY AND TELFORD HOSPITAL NHS TRUST\", \"date of death\": \"2020-03-29T00:00:00\", \"deaths\": 3, \"cumulative deaths\": 15}, {\"code\": \"RXW\", \"name\": \"SHREWSBURY AND TELFORD HOSPITAL NHS TRUST\", \"date of death\": \"2020-03-30T00:00:00\", \"deaths\": 2, \"cumulative deaths\": 17}, {\"code\": \"RXW\", \"name\": \"SHREWSBURY AND TELFORD HOSPITAL NHS TRUST\", \"date of death\": \"2020-03-31T00:00:00\", \"deaths\": 1, \"cumulative deaths\": 18}, {\"code\": \"RXW\", \"name\": \"SHREWSBURY AND TELFORD HOSPITAL NHS TRUST\", \"date of death\": \"2020-04-01T00:00:00\", \"deaths\": 3, \"cumulative deaths\": 21}, {\"code\": \"RXW\", \"name\": \"SHREWSBURY AND TELFORD HOSPITAL NHS TRUST\", \"date of death\": \"2020-04-02T00:00:00\", \"deaths\": 2, \"cumulative deaths\": 23}, {\"code\": \"RXW\", \"name\": \"SHREWSBURY AND TELFORD HOSPITAL NHS TRUST\", \"date of death\": \"2020-04-03T00:00:00\", \"deaths\": 4, \"cumulative deaths\": 27}, {\"code\": \"RXW\", \"name\": \"SHREWSBURY AND TELFORD HOSPITAL NHS TRUST\", \"date of death\": \"2020-04-04T00:00:00\", \"deaths\": 4, \"cumulative deaths\": 31}, {\"code\": \"RXW\", \"name\": \"SHREWSBURY AND TELFORD HOSPITAL NHS TRUST\", \"date of death\": \"2020-04-05T00:00:00\", \"deaths\": 3, \"cumulative deaths\": 34}, {\"code\": \"RXW\", \"name\": \"SHREWSBURY AND TELFORD HOSPITAL NHS TRUST\", \"date of death\": \"2020-04-06T00:00:00\", \"deaths\": 0, \"cumulative deaths\": 34}, {\"code\": \"RXW\", \"name\": \"SHREWSBURY AND TELFORD HOSPITAL NHS TRUST\", \"date of death\": \"2020-04-07T00:00:00\", \"deaths\": 1, \"cumulative deaths\": 35}, {\"code\": \"RXW\", \"name\": \"SHREWSBURY AND TELFORD HOSPITAL NHS TRUST\", \"date of death\": \"2020-04-08T00:00:00\", \"deaths\": 2, \"cumulative deaths\": 37}, {\"code\": \"RXW\", \"name\": \"SHREWSBURY AND TELFORD HOSPITAL NHS TRUST\", \"date of death\": \"2020-04-09T00:00:00\", \"deaths\": 0, \"cumulative deaths\": 37}, {\"code\": \"RXW\", \"name\": \"SHREWSBURY AND TELFORD HOSPITAL NHS TRUST\", \"date of death\": \"2020-04-10T00:00:00\", \"deaths\": 2, \"cumulative deaths\": 39}, {\"code\": \"RXW\", \"name\": \"SHREWSBURY AND TELFORD HOSPITAL NHS TRUST\", \"date of death\": \"2020-04-11T00:00:00\", \"deaths\": 8, \"cumulative deaths\": 47}, {\"code\": \"RXW\", \"name\": \"SHREWSBURY AND TELFORD HOSPITAL NHS TRUST\", \"date of death\": \"2020-04-12T00:00:00\", \"deaths\": 2, \"cumulative deaths\": 49}, {\"code\": \"RXW\", \"name\": \"SHREWSBURY AND TELFORD HOSPITAL NHS TRUST\", \"date of death\": \"2020-04-13T00:00:00\", \"deaths\": 3, \"cumulative deaths\": 52}, {\"code\": \"RXW\", \"name\": \"SHREWSBURY AND TELFORD HOSPITAL NHS TRUST\", \"date of death\": \"2020-04-14T00:00:00\", \"deaths\": 0, \"cumulative deaths\": 52}, {\"code\": \"RXW\", \"name\": \"SHREWSBURY AND TELFORD HOSPITAL NHS TRUST\", \"date of death\": \"2020-04-15T00:00:00\", \"deaths\": 3, \"cumulative deaths\": 55}, {\"code\": \"RXW\", \"name\": \"SHREWSBURY AND TELFORD HOSPITAL NHS TRUST\", \"date of death\": \"2020-04-16T00:00:00\", \"deaths\": 2, \"cumulative deaths\": 57}, {\"code\": \"RXW\", \"name\": \"SHREWSBURY AND TELFORD HOSPITAL NHS TRUST\", \"date of death\": \"2020-04-17T00:00:00\", \"deaths\": 1, \"cumulative deaths\": 58}, {\"code\": \"RXW\", \"name\": \"SHREWSBURY AND TELFORD HOSPITAL NHS TRUST\", \"date of death\": \"2020-04-18T00:00:00\", \"deaths\": 3, \"cumulative deaths\": 61}, {\"code\": \"RXW\", \"name\": \"SHREWSBURY AND TELFORD HOSPITAL NHS TRUST\", \"date of death\": \"2020-04-19T00:00:00\", \"deaths\": 0, \"cumulative deaths\": 61}, {\"code\": \"RYW\", \"name\": \"BIRMINGHAM COMMUNITY HEALTHCARE NHS FOUNDATION TRUST\", \"date of death\": \"2020-02-29T00:00:00\", \"deaths\": 0, \"cumulative deaths\": 0}, {\"code\": \"RYW\", \"name\": \"BIRMINGHAM COMMUNITY HEALTHCARE NHS FOUNDATION TRUST\", \"date of death\": \"2020-03-01T00:00:00\", \"deaths\": 0, \"cumulative deaths\": 0}, {\"code\": \"RYW\", \"name\": \"BIRMINGHAM COMMUNITY HEALTHCARE NHS FOUNDATION TRUST\", \"date of death\": \"2020-03-02T00:00:00\", \"deaths\": 0, \"cumulative deaths\": 0}, {\"code\": \"RYW\", \"name\": \"BIRMINGHAM COMMUNITY HEALTHCARE NHS FOUNDATION TRUST\", \"date of death\": \"2020-03-03T00:00:00\", \"deaths\": 0, \"cumulative deaths\": 0}, {\"code\": \"RYW\", \"name\": \"BIRMINGHAM COMMUNITY HEALTHCARE NHS FOUNDATION TRUST\", \"date of death\": \"2020-03-04T00:00:00\", \"deaths\": 0, \"cumulative deaths\": 0}, {\"code\": \"RYW\", \"name\": \"BIRMINGHAM COMMUNITY HEALTHCARE NHS FOUNDATION TRUST\", \"date of death\": \"2020-03-05T00:00:00\", \"deaths\": 0, \"cumulative deaths\": 0}, {\"code\": \"RYW\", \"name\": \"BIRMINGHAM COMMUNITY HEALTHCARE NHS FOUNDATION TRUST\", \"date of death\": \"2020-03-06T00:00:00\", \"deaths\": 0, \"cumulative deaths\": 0}, {\"code\": \"RYW\", \"name\": \"BIRMINGHAM COMMUNITY HEALTHCARE NHS FOUNDATION TRUST\", \"date of death\": \"2020-03-07T00:00:00\", \"deaths\": 0, \"cumulative deaths\": 0}, {\"code\": \"RYW\", \"name\": \"BIRMINGHAM COMMUNITY HEALTHCARE NHS FOUNDATION TRUST\", \"date of death\": \"2020-03-08T00:00:00\", \"deaths\": 0, \"cumulative deaths\": 0}, {\"code\": \"RYW\", \"name\": \"BIRMINGHAM COMMUNITY HEALTHCARE NHS FOUNDATION TRUST\", \"date of death\": \"2020-03-09T00:00:00\", \"deaths\": 0, \"cumulative deaths\": 0}, {\"code\": \"RYW\", \"name\": \"BIRMINGHAM COMMUNITY HEALTHCARE NHS FOUNDATION TRUST\", \"date of death\": \"2020-03-10T00:00:00\", \"deaths\": 0, \"cumulative deaths\": 0}, {\"code\": \"RYW\", \"name\": \"BIRMINGHAM COMMUNITY HEALTHCARE NHS FOUNDATION TRUST\", \"date of death\": \"2020-03-11T00:00:00\", \"deaths\": 0, \"cumulative deaths\": 0}, {\"code\": \"RYW\", \"name\": \"BIRMINGHAM COMMUNITY HEALTHCARE NHS FOUNDATION TRUST\", \"date of death\": \"2020-03-12T00:00:00\", \"deaths\": 0, \"cumulative deaths\": 0}, {\"code\": \"RYW\", \"name\": \"BIRMINGHAM COMMUNITY HEALTHCARE NHS FOUNDATION TRUST\", \"date of death\": \"2020-03-13T00:00:00\", \"deaths\": 0, \"cumulative deaths\": 0}, {\"code\": \"RYW\", \"name\": \"BIRMINGHAM COMMUNITY HEALTHCARE NHS FOUNDATION TRUST\", \"date of death\": \"2020-03-14T00:00:00\", \"deaths\": 0, \"cumulative deaths\": 0}, {\"code\": \"RYW\", \"name\": \"BIRMINGHAM COMMUNITY HEALTHCARE NHS FOUNDATION TRUST\", \"date of death\": \"2020-03-15T00:00:00\", \"deaths\": 0, \"cumulative deaths\": 0}, {\"code\": \"RYW\", \"name\": \"BIRMINGHAM COMMUNITY HEALTHCARE NHS FOUNDATION TRUST\", \"date of death\": \"2020-03-16T00:00:00\", \"deaths\": 0, \"cumulative deaths\": 0}, {\"code\": \"RYW\", \"name\": \"BIRMINGHAM COMMUNITY HEALTHCARE NHS FOUNDATION TRUST\", \"date of death\": \"2020-03-17T00:00:00\", \"deaths\": 0, \"cumulative deaths\": 0}, {\"code\": \"RYW\", \"name\": \"BIRMINGHAM COMMUNITY HEALTHCARE NHS FOUNDATION TRUST\", \"date of death\": \"2020-03-18T00:00:00\", \"deaths\": 0, \"cumulative deaths\": 0}, {\"code\": \"RYW\", \"name\": \"BIRMINGHAM COMMUNITY HEALTHCARE NHS FOUNDATION TRUST\", \"date of death\": \"2020-03-19T00:00:00\", \"deaths\": 0, \"cumulative deaths\": 0}, {\"code\": \"RYW\", \"name\": \"BIRMINGHAM COMMUNITY HEALTHCARE NHS FOUNDATION TRUST\", \"date of death\": \"2020-03-20T00:00:00\", \"deaths\": 0, \"cumulative deaths\": 0}, {\"code\": \"RYW\", \"name\": \"BIRMINGHAM COMMUNITY HEALTHCARE NHS FOUNDATION TRUST\", \"date of death\": \"2020-03-21T00:00:00\", \"deaths\": 0, \"cumulative deaths\": 0}, {\"code\": \"RYW\", \"name\": \"BIRMINGHAM COMMUNITY HEALTHCARE NHS FOUNDATION TRUST\", \"date of death\": \"2020-03-22T00:00:00\", \"deaths\": 0, \"cumulative deaths\": 0}, {\"code\": \"RYW\", \"name\": \"BIRMINGHAM COMMUNITY HEALTHCARE NHS FOUNDATION TRUST\", \"date of death\": \"2020-03-23T00:00:00\", \"deaths\": 0, \"cumulative deaths\": 0}, {\"code\": \"RYW\", \"name\": \"BIRMINGHAM COMMUNITY HEALTHCARE NHS FOUNDATION TRUST\", \"date of death\": \"2020-03-24T00:00:00\", \"deaths\": 0, \"cumulative deaths\": 0}, {\"code\": \"RYW\", \"name\": \"BIRMINGHAM COMMUNITY HEALTHCARE NHS FOUNDATION TRUST\", \"date of death\": \"2020-03-25T00:00:00\", \"deaths\": 0, \"cumulative deaths\": 0}, {\"code\": \"RYW\", \"name\": \"BIRMINGHAM COMMUNITY HEALTHCARE NHS FOUNDATION TRUST\", \"date of death\": \"2020-03-26T00:00:00\", \"deaths\": 0, \"cumulative deaths\": 0}, {\"code\": \"RYW\", \"name\": \"BIRMINGHAM COMMUNITY HEALTHCARE NHS FOUNDATION TRUST\", \"date of death\": \"2020-03-27T00:00:00\", \"deaths\": 0, \"cumulative deaths\": 0}, {\"code\": \"RYW\", \"name\": \"BIRMINGHAM COMMUNITY HEALTHCARE NHS FOUNDATION TRUST\", \"date of death\": \"2020-03-28T00:00:00\", \"deaths\": 0, \"cumulative deaths\": 0}, {\"code\": \"RYW\", \"name\": \"BIRMINGHAM COMMUNITY HEALTHCARE NHS FOUNDATION TRUST\", \"date of death\": \"2020-03-29T00:00:00\", \"deaths\": 0, \"cumulative deaths\": 0}, {\"code\": \"RYW\", \"name\": \"BIRMINGHAM COMMUNITY HEALTHCARE NHS FOUNDATION TRUST\", \"date of death\": \"2020-03-30T00:00:00\", \"deaths\": 1, \"cumulative deaths\": 1}, {\"code\": \"RYW\", \"name\": \"BIRMINGHAM COMMUNITY HEALTHCARE NHS FOUNDATION TRUST\", \"date of death\": \"2020-03-31T00:00:00\", \"deaths\": 0, \"cumulative deaths\": 1}, {\"code\": \"RYW\", \"name\": \"BIRMINGHAM COMMUNITY HEALTHCARE NHS FOUNDATION TRUST\", \"date of death\": \"2020-04-01T00:00:00\", \"deaths\": 0, \"cumulative deaths\": 1}, {\"code\": \"RYW\", \"name\": \"BIRMINGHAM COMMUNITY HEALTHCARE NHS FOUNDATION TRUST\", \"date of death\": \"2020-04-02T00:00:00\", \"deaths\": 1, \"cumulative deaths\": 2}, {\"code\": \"RYW\", \"name\": \"BIRMINGHAM COMMUNITY HEALTHCARE NHS FOUNDATION TRUST\", \"date of death\": \"2020-04-03T00:00:00\", \"deaths\": 0, \"cumulative deaths\": 2}, {\"code\": \"RYW\", \"name\": \"BIRMINGHAM COMMUNITY HEALTHCARE NHS FOUNDATION TRUST\", \"date of death\": \"2020-04-04T00:00:00\", \"deaths\": 1, \"cumulative deaths\": 3}, {\"code\": \"RYW\", \"name\": \"BIRMINGHAM COMMUNITY HEALTHCARE NHS FOUNDATION TRUST\", \"date of death\": \"2020-04-05T00:00:00\", \"deaths\": 0, \"cumulative deaths\": 3}, {\"code\": \"RYW\", \"name\": \"BIRMINGHAM COMMUNITY HEALTHCARE NHS FOUNDATION TRUST\", \"date of death\": \"2020-04-06T00:00:00\", \"deaths\": 2, \"cumulative deaths\": 5}, {\"code\": \"RYW\", \"name\": \"BIRMINGHAM COMMUNITY HEALTHCARE NHS FOUNDATION TRUST\", \"date of death\": \"2020-04-07T00:00:00\", \"deaths\": 2, \"cumulative deaths\": 7}, {\"code\": \"RYW\", \"name\": \"BIRMINGHAM COMMUNITY HEALTHCARE NHS FOUNDATION TRUST\", \"date of death\": \"2020-04-08T00:00:00\", \"deaths\": 0, \"cumulative deaths\": 7}, {\"code\": \"RYW\", \"name\": \"BIRMINGHAM COMMUNITY HEALTHCARE NHS FOUNDATION TRUST\", \"date of death\": \"2020-04-09T00:00:00\", \"deaths\": 1, \"cumulative deaths\": 8}, {\"code\": \"RYW\", \"name\": \"BIRMINGHAM COMMUNITY HEALTHCARE NHS FOUNDATION TRUST\", \"date of death\": \"2020-04-10T00:00:00\", \"deaths\": 1, \"cumulative deaths\": 9}, {\"code\": \"RYW\", \"name\": \"BIRMINGHAM COMMUNITY HEALTHCARE NHS FOUNDATION TRUST\", \"date of death\": \"2020-04-11T00:00:00\", \"deaths\": 1, \"cumulative deaths\": 10}, {\"code\": \"RYW\", \"name\": \"BIRMINGHAM COMMUNITY HEALTHCARE NHS FOUNDATION TRUST\", \"date of death\": \"2020-04-12T00:00:00\", \"deaths\": 1, \"cumulative deaths\": 11}, {\"code\": \"RYW\", \"name\": \"BIRMINGHAM COMMUNITY HEALTHCARE NHS FOUNDATION TRUST\", \"date of death\": \"2020-04-13T00:00:00\", \"deaths\": 1, \"cumulative deaths\": 12}, {\"code\": \"RYW\", \"name\": \"BIRMINGHAM COMMUNITY HEALTHCARE NHS FOUNDATION TRUST\", \"date of death\": \"2020-04-14T00:00:00\", \"deaths\": 0, \"cumulative deaths\": 12}, {\"code\": \"RYW\", \"name\": \"BIRMINGHAM COMMUNITY HEALTHCARE NHS FOUNDATION TRUST\", \"date of death\": \"2020-04-15T00:00:00\", \"deaths\": 2, \"cumulative deaths\": 14}, {\"code\": \"RYW\", \"name\": \"BIRMINGHAM COMMUNITY HEALTHCARE NHS FOUNDATION TRUST\", \"date of death\": \"2020-04-16T00:00:00\", \"deaths\": 0, \"cumulative deaths\": 14}, {\"code\": \"RYW\", \"name\": \"BIRMINGHAM COMMUNITY HEALTHCARE NHS FOUNDATION TRUST\", \"date of death\": \"2020-04-17T00:00:00\", \"deaths\": 1, \"cumulative deaths\": 15}, {\"code\": \"RYW\", \"name\": \"BIRMINGHAM COMMUNITY HEALTHCARE NHS FOUNDATION TRUST\", \"date of death\": \"2020-04-18T00:00:00\", \"deaths\": 0, \"cumulative deaths\": 15}, {\"code\": \"RYW\", \"name\": \"BIRMINGHAM COMMUNITY HEALTHCARE NHS FOUNDATION TRUST\", \"date of death\": \"2020-04-19T00:00:00\", \"deaths\": 0, \"cumulative deaths\": 15}]}}, {\"mode\": \"vega-lite\"});\n",
       "</script>"
      ],
      "text/plain": [
       "alt.Chart(...)"
      ]
     },
     "execution_count": 26,
     "metadata": {},
     "output_type": "execute_result"
    }
   ],
   "source": [
    "alt.Chart(chart_doddbt).mark_bar().encode(\n",
    "    column='date of death',\n",
    "    x='deaths',\n",
    "    y='name',\n",
    "    color='name'\n",
    ").properties(width=220)"
   ]
  },
  {
   "cell_type": "markdown",
   "metadata": {},
   "source": [
    "### Cumulative"
   ]
  },
  {
   "cell_type": "code",
   "execution_count": 27,
   "metadata": {},
   "outputs": [
    {
     "data": {
      "text/html": [
       "\n",
       "<div id=\"altair-viz-f46cf26470984eb0b591f9e181349792\"></div>\n",
       "<script type=\"text/javascript\">\n",
       "  (function(spec, embedOpt){\n",
       "    let outputDiv = document.currentScript.previousElementSibling;\n",
       "    if (outputDiv.id !== \"altair-viz-f46cf26470984eb0b591f9e181349792\") {\n",
       "      outputDiv = document.getElementById(\"altair-viz-f46cf26470984eb0b591f9e181349792\");\n",
       "    }\n",
       "    const paths = {\n",
       "      \"vega\": \"https://cdn.jsdelivr.net/npm//vega@5?noext\",\n",
       "      \"vega-lib\": \"https://cdn.jsdelivr.net/npm//vega-lib?noext\",\n",
       "      \"vega-lite\": \"https://cdn.jsdelivr.net/npm//vega-lite@4.8.1?noext\",\n",
       "      \"vega-embed\": \"https://cdn.jsdelivr.net/npm//vega-embed@6?noext\",\n",
       "    };\n",
       "\n",
       "    function loadScript(lib) {\n",
       "      return new Promise(function(resolve, reject) {\n",
       "        var s = document.createElement('script');\n",
       "        s.src = paths[lib];\n",
       "        s.async = true;\n",
       "        s.onload = () => resolve(paths[lib]);\n",
       "        s.onerror = () => reject(`Error loading script: ${paths[lib]}`);\n",
       "        document.getElementsByTagName(\"head\")[0].appendChild(s);\n",
       "      });\n",
       "    }\n",
       "\n",
       "    function showError(err) {\n",
       "      outputDiv.innerHTML = `<div class=\"error\" style=\"color:red;\">${err}</div>`;\n",
       "      throw err;\n",
       "    }\n",
       "\n",
       "    function displayChart(vegaEmbed) {\n",
       "      vegaEmbed(outputDiv, spec, embedOpt)\n",
       "        .catch(err => showError(`Javascript Error: ${err.message}<br>This usually means there's a typo in your chart specification. See the javascript console for the full traceback.`));\n",
       "    }\n",
       "\n",
       "    if(typeof define === \"function\" && define.amd) {\n",
       "      requirejs.config({paths});\n",
       "      require([\"vega-embed\"], displayChart, err => showError(`Error loading script: ${err.message}`));\n",
       "    } else if (typeof vegaEmbed === \"function\") {\n",
       "      displayChart(vegaEmbed);\n",
       "    } else {\n",
       "      loadScript(\"vega\")\n",
       "        .then(() => loadScript(\"vega-lite\"))\n",
       "        .then(() => loadScript(\"vega-embed\"))\n",
       "        .catch(showError)\n",
       "        .then(() => displayChart(vegaEmbed));\n",
       "    }\n",
       "  })({\"config\": {\"view\": {\"continuousWidth\": 400, \"continuousHeight\": 300}}, \"data\": {\"name\": \"data-457eb793dc24a7c9db36f6272bd11c35\"}, \"mark\": \"line\", \"encoding\": {\"color\": {\"type\": \"nominal\", \"field\": \"name\"}, \"x\": {\"type\": \"temporal\", \"field\": \"date of death\"}, \"y\": {\"type\": \"quantitative\", \"field\": \"cumulative deaths\"}}, \"$schema\": \"https://vega.github.io/schema/vega-lite/v4.8.1.json\", \"datasets\": {\"data-457eb793dc24a7c9db36f6272bd11c35\": [{\"code\": \"R1A\", \"name\": \"WORCESTERSHIRE HEALTH AND CARE NHS TRUST\", \"date of death\": \"2020-02-29T00:00:00\", \"deaths\": 0, \"cumulative deaths\": 0}, {\"code\": \"R1A\", \"name\": \"WORCESTERSHIRE HEALTH AND CARE NHS TRUST\", \"date of death\": \"2020-03-01T00:00:00\", \"deaths\": 0, \"cumulative deaths\": 0}, {\"code\": \"R1A\", \"name\": \"WORCESTERSHIRE HEALTH AND CARE NHS TRUST\", \"date of death\": \"2020-03-02T00:00:00\", \"deaths\": 0, \"cumulative deaths\": 0}, {\"code\": \"R1A\", \"name\": \"WORCESTERSHIRE HEALTH AND CARE NHS TRUST\", \"date of death\": \"2020-03-03T00:00:00\", \"deaths\": 0, \"cumulative deaths\": 0}, {\"code\": \"R1A\", \"name\": \"WORCESTERSHIRE HEALTH AND CARE NHS TRUST\", \"date of death\": \"2020-03-04T00:00:00\", \"deaths\": 0, \"cumulative deaths\": 0}, {\"code\": \"R1A\", \"name\": \"WORCESTERSHIRE HEALTH AND CARE NHS TRUST\", \"date of death\": \"2020-03-05T00:00:00\", \"deaths\": 0, \"cumulative deaths\": 0}, {\"code\": \"R1A\", \"name\": \"WORCESTERSHIRE HEALTH AND CARE NHS TRUST\", \"date of death\": \"2020-03-06T00:00:00\", \"deaths\": 0, \"cumulative deaths\": 0}, {\"code\": \"R1A\", \"name\": \"WORCESTERSHIRE HEALTH AND CARE NHS TRUST\", \"date of death\": \"2020-03-07T00:00:00\", \"deaths\": 0, \"cumulative deaths\": 0}, {\"code\": \"R1A\", \"name\": \"WORCESTERSHIRE HEALTH AND CARE NHS TRUST\", \"date of death\": \"2020-03-08T00:00:00\", \"deaths\": 0, \"cumulative deaths\": 0}, {\"code\": \"R1A\", \"name\": \"WORCESTERSHIRE HEALTH AND CARE NHS TRUST\", \"date of death\": \"2020-03-09T00:00:00\", \"deaths\": 0, \"cumulative deaths\": 0}, {\"code\": \"R1A\", \"name\": \"WORCESTERSHIRE HEALTH AND CARE NHS TRUST\", \"date of death\": \"2020-03-10T00:00:00\", \"deaths\": 0, \"cumulative deaths\": 0}, {\"code\": \"R1A\", \"name\": \"WORCESTERSHIRE HEALTH AND CARE NHS TRUST\", \"date of death\": \"2020-03-11T00:00:00\", \"deaths\": 0, \"cumulative deaths\": 0}, {\"code\": \"R1A\", \"name\": \"WORCESTERSHIRE HEALTH AND CARE NHS TRUST\", \"date of death\": \"2020-03-12T00:00:00\", \"deaths\": 0, \"cumulative deaths\": 0}, {\"code\": \"R1A\", \"name\": \"WORCESTERSHIRE HEALTH AND CARE NHS TRUST\", \"date of death\": \"2020-03-13T00:00:00\", \"deaths\": 0, \"cumulative deaths\": 0}, {\"code\": \"R1A\", \"name\": \"WORCESTERSHIRE HEALTH AND CARE NHS TRUST\", \"date of death\": \"2020-03-14T00:00:00\", \"deaths\": 0, \"cumulative deaths\": 0}, {\"code\": \"R1A\", \"name\": \"WORCESTERSHIRE HEALTH AND CARE NHS TRUST\", \"date of death\": \"2020-03-15T00:00:00\", \"deaths\": 0, \"cumulative deaths\": 0}, {\"code\": \"R1A\", \"name\": \"WORCESTERSHIRE HEALTH AND CARE NHS TRUST\", \"date of death\": \"2020-03-16T00:00:00\", \"deaths\": 0, \"cumulative deaths\": 0}, {\"code\": \"R1A\", \"name\": \"WORCESTERSHIRE HEALTH AND CARE NHS TRUST\", \"date of death\": \"2020-03-17T00:00:00\", \"deaths\": 0, \"cumulative deaths\": 0}, {\"code\": \"R1A\", \"name\": \"WORCESTERSHIRE HEALTH AND CARE NHS TRUST\", \"date of death\": \"2020-03-18T00:00:00\", \"deaths\": 0, \"cumulative deaths\": 0}, {\"code\": \"R1A\", \"name\": \"WORCESTERSHIRE HEALTH AND CARE NHS TRUST\", \"date of death\": \"2020-03-19T00:00:00\", \"deaths\": 0, \"cumulative deaths\": 0}, {\"code\": \"R1A\", \"name\": \"WORCESTERSHIRE HEALTH AND CARE NHS TRUST\", \"date of death\": \"2020-03-20T00:00:00\", \"deaths\": 0, \"cumulative deaths\": 0}, {\"code\": \"R1A\", \"name\": \"WORCESTERSHIRE HEALTH AND CARE NHS TRUST\", \"date of death\": \"2020-03-21T00:00:00\", \"deaths\": 0, \"cumulative deaths\": 0}, {\"code\": \"R1A\", \"name\": \"WORCESTERSHIRE HEALTH AND CARE NHS TRUST\", \"date of death\": \"2020-03-22T00:00:00\", \"deaths\": 0, \"cumulative deaths\": 0}, {\"code\": \"R1A\", \"name\": \"WORCESTERSHIRE HEALTH AND CARE NHS TRUST\", \"date of death\": \"2020-03-23T00:00:00\", \"deaths\": 0, \"cumulative deaths\": 0}, {\"code\": \"R1A\", \"name\": \"WORCESTERSHIRE HEALTH AND CARE NHS TRUST\", \"date of death\": \"2020-03-24T00:00:00\", \"deaths\": 0, \"cumulative deaths\": 0}, {\"code\": \"R1A\", \"name\": \"WORCESTERSHIRE HEALTH AND CARE NHS TRUST\", \"date of death\": \"2020-03-25T00:00:00\", \"deaths\": 0, \"cumulative deaths\": 0}, {\"code\": \"R1A\", \"name\": \"WORCESTERSHIRE HEALTH AND CARE NHS TRUST\", \"date of death\": \"2020-03-26T00:00:00\", \"deaths\": 1, \"cumulative deaths\": 1}, {\"code\": \"R1A\", \"name\": \"WORCESTERSHIRE HEALTH AND CARE NHS TRUST\", \"date of death\": \"2020-03-27T00:00:00\", \"deaths\": 0, \"cumulative deaths\": 1}, {\"code\": \"R1A\", \"name\": \"WORCESTERSHIRE HEALTH AND CARE NHS TRUST\", \"date of death\": \"2020-03-28T00:00:00\", \"deaths\": 0, \"cumulative deaths\": 1}, {\"code\": \"R1A\", \"name\": \"WORCESTERSHIRE HEALTH AND CARE NHS TRUST\", \"date of death\": \"2020-03-29T00:00:00\", \"deaths\": 0, \"cumulative deaths\": 1}, {\"code\": \"R1A\", \"name\": \"WORCESTERSHIRE HEALTH AND CARE NHS TRUST\", \"date of death\": \"2020-03-30T00:00:00\", \"deaths\": 0, \"cumulative deaths\": 1}, {\"code\": \"R1A\", \"name\": \"WORCESTERSHIRE HEALTH AND CARE NHS TRUST\", \"date of death\": \"2020-03-31T00:00:00\", \"deaths\": 0, \"cumulative deaths\": 1}, {\"code\": \"R1A\", \"name\": \"WORCESTERSHIRE HEALTH AND CARE NHS TRUST\", \"date of death\": \"2020-04-01T00:00:00\", \"deaths\": 0, \"cumulative deaths\": 1}, {\"code\": \"R1A\", \"name\": \"WORCESTERSHIRE HEALTH AND CARE NHS TRUST\", \"date of death\": \"2020-04-02T00:00:00\", \"deaths\": 1, \"cumulative deaths\": 2}, {\"code\": \"R1A\", \"name\": \"WORCESTERSHIRE HEALTH AND CARE NHS TRUST\", \"date of death\": \"2020-04-03T00:00:00\", \"deaths\": 0, \"cumulative deaths\": 2}, {\"code\": \"R1A\", \"name\": \"WORCESTERSHIRE HEALTH AND CARE NHS TRUST\", \"date of death\": \"2020-04-04T00:00:00\", \"deaths\": 1, \"cumulative deaths\": 3}, {\"code\": \"R1A\", \"name\": \"WORCESTERSHIRE HEALTH AND CARE NHS TRUST\", \"date of death\": \"2020-04-05T00:00:00\", \"deaths\": 0, \"cumulative deaths\": 3}, {\"code\": \"R1A\", \"name\": \"WORCESTERSHIRE HEALTH AND CARE NHS TRUST\", \"date of death\": \"2020-04-06T00:00:00\", \"deaths\": 0, \"cumulative deaths\": 3}, {\"code\": \"R1A\", \"name\": \"WORCESTERSHIRE HEALTH AND CARE NHS TRUST\", \"date of death\": \"2020-04-07T00:00:00\", \"deaths\": 1, \"cumulative deaths\": 4}, {\"code\": \"R1A\", \"name\": \"WORCESTERSHIRE HEALTH AND CARE NHS TRUST\", \"date of death\": \"2020-04-08T00:00:00\", \"deaths\": 0, \"cumulative deaths\": 4}, {\"code\": \"R1A\", \"name\": \"WORCESTERSHIRE HEALTH AND CARE NHS TRUST\", \"date of death\": \"2020-04-09T00:00:00\", \"deaths\": 0, \"cumulative deaths\": 4}, {\"code\": \"R1A\", \"name\": \"WORCESTERSHIRE HEALTH AND CARE NHS TRUST\", \"date of death\": \"2020-04-10T00:00:00\", \"deaths\": 1, \"cumulative deaths\": 5}, {\"code\": \"R1A\", \"name\": \"WORCESTERSHIRE HEALTH AND CARE NHS TRUST\", \"date of death\": \"2020-04-11T00:00:00\", \"deaths\": 1, \"cumulative deaths\": 6}, {\"code\": \"R1A\", \"name\": \"WORCESTERSHIRE HEALTH AND CARE NHS TRUST\", \"date of death\": \"2020-04-12T00:00:00\", \"deaths\": 2, \"cumulative deaths\": 8}, {\"code\": \"R1A\", \"name\": \"WORCESTERSHIRE HEALTH AND CARE NHS TRUST\", \"date of death\": \"2020-04-13T00:00:00\", \"deaths\": 1, \"cumulative deaths\": 9}, {\"code\": \"R1A\", \"name\": \"WORCESTERSHIRE HEALTH AND CARE NHS TRUST\", \"date of death\": \"2020-04-14T00:00:00\", \"deaths\": 0, \"cumulative deaths\": 9}, {\"code\": \"R1A\", \"name\": \"WORCESTERSHIRE HEALTH AND CARE NHS TRUST\", \"date of death\": \"2020-04-15T00:00:00\", \"deaths\": 1, \"cumulative deaths\": 10}, {\"code\": \"R1A\", \"name\": \"WORCESTERSHIRE HEALTH AND CARE NHS TRUST\", \"date of death\": \"2020-04-16T00:00:00\", \"deaths\": 0, \"cumulative deaths\": 10}, {\"code\": \"R1A\", \"name\": \"WORCESTERSHIRE HEALTH AND CARE NHS TRUST\", \"date of death\": \"2020-04-17T00:00:00\", \"deaths\": 1, \"cumulative deaths\": 11}, {\"code\": \"R1A\", \"name\": \"WORCESTERSHIRE HEALTH AND CARE NHS TRUST\", \"date of death\": \"2020-04-18T00:00:00\", \"deaths\": 3, \"cumulative deaths\": 14}, {\"code\": \"R1A\", \"name\": \"WORCESTERSHIRE HEALTH AND CARE NHS TRUST\", \"date of death\": \"2020-04-19T00:00:00\", \"deaths\": 0, \"cumulative deaths\": 14}, {\"code\": \"R1D\", \"name\": \"SHROPSHIRE COMMUNITY HEALTH NHS TRUST\", \"date of death\": \"2020-02-29T00:00:00\", \"deaths\": 0, \"cumulative deaths\": 0}, {\"code\": \"R1D\", \"name\": \"SHROPSHIRE COMMUNITY HEALTH NHS TRUST\", \"date of death\": \"2020-03-01T00:00:00\", \"deaths\": 0, \"cumulative deaths\": 0}, {\"code\": \"R1D\", \"name\": \"SHROPSHIRE COMMUNITY HEALTH NHS TRUST\", \"date of death\": \"2020-03-02T00:00:00\", \"deaths\": 0, \"cumulative deaths\": 0}, {\"code\": \"R1D\", \"name\": \"SHROPSHIRE COMMUNITY HEALTH NHS TRUST\", \"date of death\": \"2020-03-03T00:00:00\", \"deaths\": 0, \"cumulative deaths\": 0}, {\"code\": \"R1D\", \"name\": \"SHROPSHIRE COMMUNITY HEALTH NHS TRUST\", \"date of death\": \"2020-03-04T00:00:00\", \"deaths\": 0, \"cumulative deaths\": 0}, {\"code\": \"R1D\", \"name\": \"SHROPSHIRE COMMUNITY HEALTH NHS TRUST\", \"date of death\": \"2020-03-05T00:00:00\", \"deaths\": 0, \"cumulative deaths\": 0}, {\"code\": \"R1D\", \"name\": \"SHROPSHIRE COMMUNITY HEALTH NHS TRUST\", \"date of death\": \"2020-03-06T00:00:00\", \"deaths\": 0, \"cumulative deaths\": 0}, {\"code\": \"R1D\", \"name\": \"SHROPSHIRE COMMUNITY HEALTH NHS TRUST\", \"date of death\": \"2020-03-07T00:00:00\", \"deaths\": 0, \"cumulative deaths\": 0}, {\"code\": \"R1D\", \"name\": \"SHROPSHIRE COMMUNITY HEALTH NHS TRUST\", \"date of death\": \"2020-03-08T00:00:00\", \"deaths\": 0, \"cumulative deaths\": 0}, {\"code\": \"R1D\", \"name\": \"SHROPSHIRE COMMUNITY HEALTH NHS TRUST\", \"date of death\": \"2020-03-09T00:00:00\", \"deaths\": 0, \"cumulative deaths\": 0}, {\"code\": \"R1D\", \"name\": \"SHROPSHIRE COMMUNITY HEALTH NHS TRUST\", \"date of death\": \"2020-03-10T00:00:00\", \"deaths\": 0, \"cumulative deaths\": 0}, {\"code\": \"R1D\", \"name\": \"SHROPSHIRE COMMUNITY HEALTH NHS TRUST\", \"date of death\": \"2020-03-11T00:00:00\", \"deaths\": 0, \"cumulative deaths\": 0}, {\"code\": \"R1D\", \"name\": \"SHROPSHIRE COMMUNITY HEALTH NHS TRUST\", \"date of death\": \"2020-03-12T00:00:00\", \"deaths\": 0, \"cumulative deaths\": 0}, {\"code\": \"R1D\", \"name\": \"SHROPSHIRE COMMUNITY HEALTH NHS TRUST\", \"date of death\": \"2020-03-13T00:00:00\", \"deaths\": 0, \"cumulative deaths\": 0}, {\"code\": \"R1D\", \"name\": \"SHROPSHIRE COMMUNITY HEALTH NHS TRUST\", \"date of death\": \"2020-03-14T00:00:00\", \"deaths\": 0, \"cumulative deaths\": 0}, {\"code\": \"R1D\", \"name\": \"SHROPSHIRE COMMUNITY HEALTH NHS TRUST\", \"date of death\": \"2020-03-15T00:00:00\", \"deaths\": 0, \"cumulative deaths\": 0}, {\"code\": \"R1D\", \"name\": \"SHROPSHIRE COMMUNITY HEALTH NHS TRUST\", \"date of death\": \"2020-03-16T00:00:00\", \"deaths\": 0, \"cumulative deaths\": 0}, {\"code\": \"R1D\", \"name\": \"SHROPSHIRE COMMUNITY HEALTH NHS TRUST\", \"date of death\": \"2020-03-17T00:00:00\", \"deaths\": 0, \"cumulative deaths\": 0}, {\"code\": \"R1D\", \"name\": \"SHROPSHIRE COMMUNITY HEALTH NHS TRUST\", \"date of death\": \"2020-03-18T00:00:00\", \"deaths\": 0, \"cumulative deaths\": 0}, {\"code\": \"R1D\", \"name\": \"SHROPSHIRE COMMUNITY HEALTH NHS TRUST\", \"date of death\": \"2020-03-19T00:00:00\", \"deaths\": 0, \"cumulative deaths\": 0}, {\"code\": \"R1D\", \"name\": \"SHROPSHIRE COMMUNITY HEALTH NHS TRUST\", \"date of death\": \"2020-03-20T00:00:00\", \"deaths\": 0, \"cumulative deaths\": 0}, {\"code\": \"R1D\", \"name\": \"SHROPSHIRE COMMUNITY HEALTH NHS TRUST\", \"date of death\": \"2020-03-21T00:00:00\", \"deaths\": 0, \"cumulative deaths\": 0}, {\"code\": \"R1D\", \"name\": \"SHROPSHIRE COMMUNITY HEALTH NHS TRUST\", \"date of death\": \"2020-03-22T00:00:00\", \"deaths\": 0, \"cumulative deaths\": 0}, {\"code\": \"R1D\", \"name\": \"SHROPSHIRE COMMUNITY HEALTH NHS TRUST\", \"date of death\": \"2020-03-23T00:00:00\", \"deaths\": 0, \"cumulative deaths\": 0}, {\"code\": \"R1D\", \"name\": \"SHROPSHIRE COMMUNITY HEALTH NHS TRUST\", \"date of death\": \"2020-03-24T00:00:00\", \"deaths\": 0, \"cumulative deaths\": 0}, {\"code\": \"R1D\", \"name\": \"SHROPSHIRE COMMUNITY HEALTH NHS TRUST\", \"date of death\": \"2020-03-25T00:00:00\", \"deaths\": 0, \"cumulative deaths\": 0}, {\"code\": \"R1D\", \"name\": \"SHROPSHIRE COMMUNITY HEALTH NHS TRUST\", \"date of death\": \"2020-03-26T00:00:00\", \"deaths\": 0, \"cumulative deaths\": 0}, {\"code\": \"R1D\", \"name\": \"SHROPSHIRE COMMUNITY HEALTH NHS TRUST\", \"date of death\": \"2020-03-27T00:00:00\", \"deaths\": 0, \"cumulative deaths\": 0}, {\"code\": \"R1D\", \"name\": \"SHROPSHIRE COMMUNITY HEALTH NHS TRUST\", \"date of death\": \"2020-03-28T00:00:00\", \"deaths\": 0, \"cumulative deaths\": 0}, {\"code\": \"R1D\", \"name\": \"SHROPSHIRE COMMUNITY HEALTH NHS TRUST\", \"date of death\": \"2020-03-29T00:00:00\", \"deaths\": 0, \"cumulative deaths\": 0}, {\"code\": \"R1D\", \"name\": \"SHROPSHIRE COMMUNITY HEALTH NHS TRUST\", \"date of death\": \"2020-03-30T00:00:00\", \"deaths\": 0, \"cumulative deaths\": 0}, {\"code\": \"R1D\", \"name\": \"SHROPSHIRE COMMUNITY HEALTH NHS TRUST\", \"date of death\": \"2020-03-31T00:00:00\", \"deaths\": 0, \"cumulative deaths\": 0}, {\"code\": \"R1D\", \"name\": \"SHROPSHIRE COMMUNITY HEALTH NHS TRUST\", \"date of death\": \"2020-04-01T00:00:00\", \"deaths\": 0, \"cumulative deaths\": 0}, {\"code\": \"R1D\", \"name\": \"SHROPSHIRE COMMUNITY HEALTH NHS TRUST\", \"date of death\": \"2020-04-02T00:00:00\", \"deaths\": 0, \"cumulative deaths\": 0}, {\"code\": \"R1D\", \"name\": \"SHROPSHIRE COMMUNITY HEALTH NHS TRUST\", \"date of death\": \"2020-04-03T00:00:00\", \"deaths\": 0, \"cumulative deaths\": 0}, {\"code\": \"R1D\", \"name\": \"SHROPSHIRE COMMUNITY HEALTH NHS TRUST\", \"date of death\": \"2020-04-04T00:00:00\", \"deaths\": 0, \"cumulative deaths\": 0}, {\"code\": \"R1D\", \"name\": \"SHROPSHIRE COMMUNITY HEALTH NHS TRUST\", \"date of death\": \"2020-04-05T00:00:00\", \"deaths\": 0, \"cumulative deaths\": 0}, {\"code\": \"R1D\", \"name\": \"SHROPSHIRE COMMUNITY HEALTH NHS TRUST\", \"date of death\": \"2020-04-06T00:00:00\", \"deaths\": 0, \"cumulative deaths\": 0}, {\"code\": \"R1D\", \"name\": \"SHROPSHIRE COMMUNITY HEALTH NHS TRUST\", \"date of death\": \"2020-04-07T00:00:00\", \"deaths\": 0, \"cumulative deaths\": 0}, {\"code\": \"R1D\", \"name\": \"SHROPSHIRE COMMUNITY HEALTH NHS TRUST\", \"date of death\": \"2020-04-08T00:00:00\", \"deaths\": 0, \"cumulative deaths\": 0}, {\"code\": \"R1D\", \"name\": \"SHROPSHIRE COMMUNITY HEALTH NHS TRUST\", \"date of death\": \"2020-04-09T00:00:00\", \"deaths\": 0, \"cumulative deaths\": 0}, {\"code\": \"R1D\", \"name\": \"SHROPSHIRE COMMUNITY HEALTH NHS TRUST\", \"date of death\": \"2020-04-10T00:00:00\", \"deaths\": 0, \"cumulative deaths\": 0}, {\"code\": \"R1D\", \"name\": \"SHROPSHIRE COMMUNITY HEALTH NHS TRUST\", \"date of death\": \"2020-04-11T00:00:00\", \"deaths\": 0, \"cumulative deaths\": 0}, {\"code\": \"R1D\", \"name\": \"SHROPSHIRE COMMUNITY HEALTH NHS TRUST\", \"date of death\": \"2020-04-12T00:00:00\", \"deaths\": 1, \"cumulative deaths\": 1}, {\"code\": \"R1D\", \"name\": \"SHROPSHIRE COMMUNITY HEALTH NHS TRUST\", \"date of death\": \"2020-04-13T00:00:00\", \"deaths\": 0, \"cumulative deaths\": 1}, {\"code\": \"R1D\", \"name\": \"SHROPSHIRE COMMUNITY HEALTH NHS TRUST\", \"date of death\": \"2020-04-14T00:00:00\", \"deaths\": 0, \"cumulative deaths\": 1}, {\"code\": \"R1D\", \"name\": \"SHROPSHIRE COMMUNITY HEALTH NHS TRUST\", \"date of death\": \"2020-04-15T00:00:00\", \"deaths\": 1, \"cumulative deaths\": 2}, {\"code\": \"R1D\", \"name\": \"SHROPSHIRE COMMUNITY HEALTH NHS TRUST\", \"date of death\": \"2020-04-16T00:00:00\", \"deaths\": 0, \"cumulative deaths\": 2}, {\"code\": \"R1D\", \"name\": \"SHROPSHIRE COMMUNITY HEALTH NHS TRUST\", \"date of death\": \"2020-04-17T00:00:00\", \"deaths\": 0, \"cumulative deaths\": 2}, {\"code\": \"R1D\", \"name\": \"SHROPSHIRE COMMUNITY HEALTH NHS TRUST\", \"date of death\": \"2020-04-18T00:00:00\", \"deaths\": 1, \"cumulative deaths\": 3}, {\"code\": \"R1D\", \"name\": \"SHROPSHIRE COMMUNITY HEALTH NHS TRUST\", \"date of death\": \"2020-04-19T00:00:00\", \"deaths\": 0, \"cumulative deaths\": 3}, {\"code\": \"RBK\", \"name\": \"WALSALL HEALTHCARE NHS TRUST\", \"date of death\": \"2020-02-29T00:00:00\", \"deaths\": 0, \"cumulative deaths\": 0}, {\"code\": \"RBK\", \"name\": \"WALSALL HEALTHCARE NHS TRUST\", \"date of death\": \"2020-03-01T00:00:00\", \"deaths\": 0, \"cumulative deaths\": 0}, {\"code\": \"RBK\", \"name\": \"WALSALL HEALTHCARE NHS TRUST\", \"date of death\": \"2020-03-02T00:00:00\", \"deaths\": 0, \"cumulative deaths\": 0}, {\"code\": \"RBK\", \"name\": \"WALSALL HEALTHCARE NHS TRUST\", \"date of death\": \"2020-03-03T00:00:00\", \"deaths\": 0, \"cumulative deaths\": 0}, {\"code\": \"RBK\", \"name\": \"WALSALL HEALTHCARE NHS TRUST\", \"date of death\": \"2020-03-04T00:00:00\", \"deaths\": 0, \"cumulative deaths\": 0}, {\"code\": \"RBK\", \"name\": \"WALSALL HEALTHCARE NHS TRUST\", \"date of death\": \"2020-03-05T00:00:00\", \"deaths\": 0, \"cumulative deaths\": 0}, {\"code\": \"RBK\", \"name\": \"WALSALL HEALTHCARE NHS TRUST\", \"date of death\": \"2020-03-06T00:00:00\", \"deaths\": 0, \"cumulative deaths\": 0}, {\"code\": \"RBK\", \"name\": \"WALSALL HEALTHCARE NHS TRUST\", \"date of death\": \"2020-03-07T00:00:00\", \"deaths\": 0, \"cumulative deaths\": 0}, {\"code\": \"RBK\", \"name\": \"WALSALL HEALTHCARE NHS TRUST\", \"date of death\": \"2020-03-08T00:00:00\", \"deaths\": 0, \"cumulative deaths\": 0}, {\"code\": \"RBK\", \"name\": \"WALSALL HEALTHCARE NHS TRUST\", \"date of death\": \"2020-03-09T00:00:00\", \"deaths\": 0, \"cumulative deaths\": 0}, {\"code\": \"RBK\", \"name\": \"WALSALL HEALTHCARE NHS TRUST\", \"date of death\": \"2020-03-10T00:00:00\", \"deaths\": 0, \"cumulative deaths\": 0}, {\"code\": \"RBK\", \"name\": \"WALSALL HEALTHCARE NHS TRUST\", \"date of death\": \"2020-03-11T00:00:00\", \"deaths\": 0, \"cumulative deaths\": 0}, {\"code\": \"RBK\", \"name\": \"WALSALL HEALTHCARE NHS TRUST\", \"date of death\": \"2020-03-12T00:00:00\", \"deaths\": 1, \"cumulative deaths\": 1}, {\"code\": \"RBK\", \"name\": \"WALSALL HEALTHCARE NHS TRUST\", \"date of death\": \"2020-03-13T00:00:00\", \"deaths\": 0, \"cumulative deaths\": 1}, {\"code\": \"RBK\", \"name\": \"WALSALL HEALTHCARE NHS TRUST\", \"date of death\": \"2020-03-14T00:00:00\", \"deaths\": 0, \"cumulative deaths\": 1}, {\"code\": \"RBK\", \"name\": \"WALSALL HEALTHCARE NHS TRUST\", \"date of death\": \"2020-03-15T00:00:00\", \"deaths\": 0, \"cumulative deaths\": 1}, {\"code\": \"RBK\", \"name\": \"WALSALL HEALTHCARE NHS TRUST\", \"date of death\": \"2020-03-16T00:00:00\", \"deaths\": 1, \"cumulative deaths\": 2}, {\"code\": \"RBK\", \"name\": \"WALSALL HEALTHCARE NHS TRUST\", \"date of death\": \"2020-03-17T00:00:00\", \"deaths\": 0, \"cumulative deaths\": 2}, {\"code\": \"RBK\", \"name\": \"WALSALL HEALTHCARE NHS TRUST\", \"date of death\": \"2020-03-18T00:00:00\", \"deaths\": 0, \"cumulative deaths\": 2}, {\"code\": \"RBK\", \"name\": \"WALSALL HEALTHCARE NHS TRUST\", \"date of death\": \"2020-03-19T00:00:00\", \"deaths\": 0, \"cumulative deaths\": 2}, {\"code\": \"RBK\", \"name\": \"WALSALL HEALTHCARE NHS TRUST\", \"date of death\": \"2020-03-20T00:00:00\", \"deaths\": 0, \"cumulative deaths\": 2}, {\"code\": \"RBK\", \"name\": \"WALSALL HEALTHCARE NHS TRUST\", \"date of death\": \"2020-03-21T00:00:00\", \"deaths\": 0, \"cumulative deaths\": 2}, {\"code\": \"RBK\", \"name\": \"WALSALL HEALTHCARE NHS TRUST\", \"date of death\": \"2020-03-22T00:00:00\", \"deaths\": 1, \"cumulative deaths\": 3}, {\"code\": \"RBK\", \"name\": \"WALSALL HEALTHCARE NHS TRUST\", \"date of death\": \"2020-03-23T00:00:00\", \"deaths\": 1, \"cumulative deaths\": 4}, {\"code\": \"RBK\", \"name\": \"WALSALL HEALTHCARE NHS TRUST\", \"date of death\": \"2020-03-24T00:00:00\", \"deaths\": 4, \"cumulative deaths\": 8}, {\"code\": \"RBK\", \"name\": \"WALSALL HEALTHCARE NHS TRUST\", \"date of death\": \"2020-03-25T00:00:00\", \"deaths\": 2, \"cumulative deaths\": 10}, {\"code\": \"RBK\", \"name\": \"WALSALL HEALTHCARE NHS TRUST\", \"date of death\": \"2020-03-26T00:00:00\", \"deaths\": 3, \"cumulative deaths\": 13}, {\"code\": \"RBK\", \"name\": \"WALSALL HEALTHCARE NHS TRUST\", \"date of death\": \"2020-03-27T00:00:00\", \"deaths\": 7, \"cumulative deaths\": 20}, {\"code\": \"RBK\", \"name\": \"WALSALL HEALTHCARE NHS TRUST\", \"date of death\": \"2020-03-28T00:00:00\", \"deaths\": 6, \"cumulative deaths\": 26}, {\"code\": \"RBK\", \"name\": \"WALSALL HEALTHCARE NHS TRUST\", \"date of death\": \"2020-03-29T00:00:00\", \"deaths\": 5, \"cumulative deaths\": 31}, {\"code\": \"RBK\", \"name\": \"WALSALL HEALTHCARE NHS TRUST\", \"date of death\": \"2020-03-30T00:00:00\", \"deaths\": 5, \"cumulative deaths\": 36}, {\"code\": \"RBK\", \"name\": \"WALSALL HEALTHCARE NHS TRUST\", \"date of death\": \"2020-03-31T00:00:00\", \"deaths\": 4, \"cumulative deaths\": 40}, {\"code\": \"RBK\", \"name\": \"WALSALL HEALTHCARE NHS TRUST\", \"date of death\": \"2020-04-01T00:00:00\", \"deaths\": 5, \"cumulative deaths\": 45}, {\"code\": \"RBK\", \"name\": \"WALSALL HEALTHCARE NHS TRUST\", \"date of death\": \"2020-04-02T00:00:00\", \"deaths\": 11, \"cumulative deaths\": 56}, {\"code\": \"RBK\", \"name\": \"WALSALL HEALTHCARE NHS TRUST\", \"date of death\": \"2020-04-03T00:00:00\", \"deaths\": 8, \"cumulative deaths\": 64}, {\"code\": \"RBK\", \"name\": \"WALSALL HEALTHCARE NHS TRUST\", \"date of death\": \"2020-04-04T00:00:00\", \"deaths\": 9, \"cumulative deaths\": 73}, {\"code\": \"RBK\", \"name\": \"WALSALL HEALTHCARE NHS TRUST\", \"date of death\": \"2020-04-05T00:00:00\", \"deaths\": 5, \"cumulative deaths\": 78}, {\"code\": \"RBK\", \"name\": \"WALSALL HEALTHCARE NHS TRUST\", \"date of death\": \"2020-04-06T00:00:00\", \"deaths\": 5, \"cumulative deaths\": 83}, {\"code\": \"RBK\", \"name\": \"WALSALL HEALTHCARE NHS TRUST\", \"date of death\": \"2020-04-07T00:00:00\", \"deaths\": 6, \"cumulative deaths\": 89}, {\"code\": \"RBK\", \"name\": \"WALSALL HEALTHCARE NHS TRUST\", \"date of death\": \"2020-04-08T00:00:00\", \"deaths\": 7, \"cumulative deaths\": 96}, {\"code\": \"RBK\", \"name\": \"WALSALL HEALTHCARE NHS TRUST\", \"date of death\": \"2020-04-09T00:00:00\", \"deaths\": 6, \"cumulative deaths\": 102}, {\"code\": \"RBK\", \"name\": \"WALSALL HEALTHCARE NHS TRUST\", \"date of death\": \"2020-04-10T00:00:00\", \"deaths\": 7, \"cumulative deaths\": 109}, {\"code\": \"RBK\", \"name\": \"WALSALL HEALTHCARE NHS TRUST\", \"date of death\": \"2020-04-11T00:00:00\", \"deaths\": 3, \"cumulative deaths\": 112}, {\"code\": \"RBK\", \"name\": \"WALSALL HEALTHCARE NHS TRUST\", \"date of death\": \"2020-04-12T00:00:00\", \"deaths\": 3, \"cumulative deaths\": 115}, {\"code\": \"RBK\", \"name\": \"WALSALL HEALTHCARE NHS TRUST\", \"date of death\": \"2020-04-13T00:00:00\", \"deaths\": 7, \"cumulative deaths\": 122}, {\"code\": \"RBK\", \"name\": \"WALSALL HEALTHCARE NHS TRUST\", \"date of death\": \"2020-04-14T00:00:00\", \"deaths\": 4, \"cumulative deaths\": 126}, {\"code\": \"RBK\", \"name\": \"WALSALL HEALTHCARE NHS TRUST\", \"date of death\": \"2020-04-15T00:00:00\", \"deaths\": 2, \"cumulative deaths\": 128}, {\"code\": \"RBK\", \"name\": \"WALSALL HEALTHCARE NHS TRUST\", \"date of death\": \"2020-04-16T00:00:00\", \"deaths\": 0, \"cumulative deaths\": 128}, {\"code\": \"RBK\", \"name\": \"WALSALL HEALTHCARE NHS TRUST\", \"date of death\": \"2020-04-17T00:00:00\", \"deaths\": 0, \"cumulative deaths\": 128}, {\"code\": \"RBK\", \"name\": \"WALSALL HEALTHCARE NHS TRUST\", \"date of death\": \"2020-04-18T00:00:00\", \"deaths\": 0, \"cumulative deaths\": 128}, {\"code\": \"RBK\", \"name\": \"WALSALL HEALTHCARE NHS TRUST\", \"date of death\": \"2020-04-19T00:00:00\", \"deaths\": 0, \"cumulative deaths\": 128}, {\"code\": \"RJE\", \"name\": \"UNIVERSITY HOSPITALS OF NORTH MIDLANDS NHS TRUST\", \"date of death\": \"2020-02-29T00:00:00\", \"deaths\": 0, \"cumulative deaths\": 0}, {\"code\": \"RJE\", \"name\": \"UNIVERSITY HOSPITALS OF NORTH MIDLANDS NHS TRUST\", \"date of death\": \"2020-03-01T00:00:00\", \"deaths\": 0, \"cumulative deaths\": 0}, {\"code\": \"RJE\", \"name\": \"UNIVERSITY HOSPITALS OF NORTH MIDLANDS NHS TRUST\", \"date of death\": \"2020-03-02T00:00:00\", \"deaths\": 0, \"cumulative deaths\": 0}, {\"code\": \"RJE\", \"name\": \"UNIVERSITY HOSPITALS OF NORTH MIDLANDS NHS TRUST\", \"date of death\": \"2020-03-03T00:00:00\", \"deaths\": 0, \"cumulative deaths\": 0}, {\"code\": \"RJE\", \"name\": \"UNIVERSITY HOSPITALS OF NORTH MIDLANDS NHS TRUST\", \"date of death\": \"2020-03-04T00:00:00\", \"deaths\": 0, \"cumulative deaths\": 0}, {\"code\": \"RJE\", \"name\": \"UNIVERSITY HOSPITALS OF NORTH MIDLANDS NHS TRUST\", \"date of death\": \"2020-03-05T00:00:00\", \"deaths\": 0, \"cumulative deaths\": 0}, {\"code\": \"RJE\", \"name\": \"UNIVERSITY HOSPITALS OF NORTH MIDLANDS NHS TRUST\", \"date of death\": \"2020-03-06T00:00:00\", \"deaths\": 0, \"cumulative deaths\": 0}, {\"code\": \"RJE\", \"name\": \"UNIVERSITY HOSPITALS OF NORTH MIDLANDS NHS TRUST\", \"date of death\": \"2020-03-07T00:00:00\", \"deaths\": 0, \"cumulative deaths\": 0}, {\"code\": \"RJE\", \"name\": \"UNIVERSITY HOSPITALS OF NORTH MIDLANDS NHS TRUST\", \"date of death\": \"2020-03-08T00:00:00\", \"deaths\": 0, \"cumulative deaths\": 0}, {\"code\": \"RJE\", \"name\": \"UNIVERSITY HOSPITALS OF NORTH MIDLANDS NHS TRUST\", \"date of death\": \"2020-03-09T00:00:00\", \"deaths\": 0, \"cumulative deaths\": 0}, {\"code\": \"RJE\", \"name\": \"UNIVERSITY HOSPITALS OF NORTH MIDLANDS NHS TRUST\", \"date of death\": \"2020-03-10T00:00:00\", \"deaths\": 0, \"cumulative deaths\": 0}, {\"code\": \"RJE\", \"name\": \"UNIVERSITY HOSPITALS OF NORTH MIDLANDS NHS TRUST\", \"date of death\": \"2020-03-11T00:00:00\", \"deaths\": 0, \"cumulative deaths\": 0}, {\"code\": \"RJE\", \"name\": \"UNIVERSITY HOSPITALS OF NORTH MIDLANDS NHS TRUST\", \"date of death\": \"2020-03-12T00:00:00\", \"deaths\": 0, \"cumulative deaths\": 0}, {\"code\": \"RJE\", \"name\": \"UNIVERSITY HOSPITALS OF NORTH MIDLANDS NHS TRUST\", \"date of death\": \"2020-03-13T00:00:00\", \"deaths\": 0, \"cumulative deaths\": 0}, {\"code\": \"RJE\", \"name\": \"UNIVERSITY HOSPITALS OF NORTH MIDLANDS NHS TRUST\", \"date of death\": \"2020-03-14T00:00:00\", \"deaths\": 0, \"cumulative deaths\": 0}, {\"code\": \"RJE\", \"name\": \"UNIVERSITY HOSPITALS OF NORTH MIDLANDS NHS TRUST\", \"date of death\": \"2020-03-15T00:00:00\", \"deaths\": 0, \"cumulative deaths\": 0}, {\"code\": \"RJE\", \"name\": \"UNIVERSITY HOSPITALS OF NORTH MIDLANDS NHS TRUST\", \"date of death\": \"2020-03-16T00:00:00\", \"deaths\": 0, \"cumulative deaths\": 0}, {\"code\": \"RJE\", \"name\": \"UNIVERSITY HOSPITALS OF NORTH MIDLANDS NHS TRUST\", \"date of death\": \"2020-03-17T00:00:00\", \"deaths\": 0, \"cumulative deaths\": 0}, {\"code\": \"RJE\", \"name\": \"UNIVERSITY HOSPITALS OF NORTH MIDLANDS NHS TRUST\", \"date of death\": \"2020-03-18T00:00:00\", \"deaths\": 0, \"cumulative deaths\": 0}, {\"code\": \"RJE\", \"name\": \"UNIVERSITY HOSPITALS OF NORTH MIDLANDS NHS TRUST\", \"date of death\": \"2020-03-19T00:00:00\", \"deaths\": 0, \"cumulative deaths\": 0}, {\"code\": \"RJE\", \"name\": \"UNIVERSITY HOSPITALS OF NORTH MIDLANDS NHS TRUST\", \"date of death\": \"2020-03-20T00:00:00\", \"deaths\": 3, \"cumulative deaths\": 3}, {\"code\": \"RJE\", \"name\": \"UNIVERSITY HOSPITALS OF NORTH MIDLANDS NHS TRUST\", \"date of death\": \"2020-03-21T00:00:00\", \"deaths\": 0, \"cumulative deaths\": 3}, {\"code\": \"RJE\", \"name\": \"UNIVERSITY HOSPITALS OF NORTH MIDLANDS NHS TRUST\", \"date of death\": \"2020-03-22T00:00:00\", \"deaths\": 0, \"cumulative deaths\": 3}, {\"code\": \"RJE\", \"name\": \"UNIVERSITY HOSPITALS OF NORTH MIDLANDS NHS TRUST\", \"date of death\": \"2020-03-23T00:00:00\", \"deaths\": 0, \"cumulative deaths\": 3}, {\"code\": \"RJE\", \"name\": \"UNIVERSITY HOSPITALS OF NORTH MIDLANDS NHS TRUST\", \"date of death\": \"2020-03-24T00:00:00\", \"deaths\": 0, \"cumulative deaths\": 3}, {\"code\": \"RJE\", \"name\": \"UNIVERSITY HOSPITALS OF NORTH MIDLANDS NHS TRUST\", \"date of death\": \"2020-03-25T00:00:00\", \"deaths\": 1, \"cumulative deaths\": 4}, {\"code\": \"RJE\", \"name\": \"UNIVERSITY HOSPITALS OF NORTH MIDLANDS NHS TRUST\", \"date of death\": \"2020-03-26T00:00:00\", \"deaths\": 2, \"cumulative deaths\": 6}, {\"code\": \"RJE\", \"name\": \"UNIVERSITY HOSPITALS OF NORTH MIDLANDS NHS TRUST\", \"date of death\": \"2020-03-27T00:00:00\", \"deaths\": 4, \"cumulative deaths\": 10}, {\"code\": \"RJE\", \"name\": \"UNIVERSITY HOSPITALS OF NORTH MIDLANDS NHS TRUST\", \"date of death\": \"2020-03-28T00:00:00\", \"deaths\": 2, \"cumulative deaths\": 12}, {\"code\": \"RJE\", \"name\": \"UNIVERSITY HOSPITALS OF NORTH MIDLANDS NHS TRUST\", \"date of death\": \"2020-03-29T00:00:00\", \"deaths\": 4, \"cumulative deaths\": 16}, {\"code\": \"RJE\", \"name\": \"UNIVERSITY HOSPITALS OF NORTH MIDLANDS NHS TRUST\", \"date of death\": \"2020-03-30T00:00:00\", \"deaths\": 4, \"cumulative deaths\": 20}, {\"code\": \"RJE\", \"name\": \"UNIVERSITY HOSPITALS OF NORTH MIDLANDS NHS TRUST\", \"date of death\": \"2020-03-31T00:00:00\", \"deaths\": 2, \"cumulative deaths\": 22}, {\"code\": \"RJE\", \"name\": \"UNIVERSITY HOSPITALS OF NORTH MIDLANDS NHS TRUST\", \"date of death\": \"2020-04-01T00:00:00\", \"deaths\": 8, \"cumulative deaths\": 30}, {\"code\": \"RJE\", \"name\": \"UNIVERSITY HOSPITALS OF NORTH MIDLANDS NHS TRUST\", \"date of death\": \"2020-04-02T00:00:00\", \"deaths\": 6, \"cumulative deaths\": 36}, {\"code\": \"RJE\", \"name\": \"UNIVERSITY HOSPITALS OF NORTH MIDLANDS NHS TRUST\", \"date of death\": \"2020-04-03T00:00:00\", \"deaths\": 9, \"cumulative deaths\": 45}, {\"code\": \"RJE\", \"name\": \"UNIVERSITY HOSPITALS OF NORTH MIDLANDS NHS TRUST\", \"date of death\": \"2020-04-04T00:00:00\", \"deaths\": 8, \"cumulative deaths\": 53}, {\"code\": \"RJE\", \"name\": \"UNIVERSITY HOSPITALS OF NORTH MIDLANDS NHS TRUST\", \"date of death\": \"2020-04-05T00:00:00\", \"deaths\": 7, \"cumulative deaths\": 60}, {\"code\": \"RJE\", \"name\": \"UNIVERSITY HOSPITALS OF NORTH MIDLANDS NHS TRUST\", \"date of death\": \"2020-04-06T00:00:00\", \"deaths\": 8, \"cumulative deaths\": 68}, {\"code\": \"RJE\", \"name\": \"UNIVERSITY HOSPITALS OF NORTH MIDLANDS NHS TRUST\", \"date of death\": \"2020-04-07T00:00:00\", \"deaths\": 1, \"cumulative deaths\": 69}, {\"code\": \"RJE\", \"name\": \"UNIVERSITY HOSPITALS OF NORTH MIDLANDS NHS TRUST\", \"date of death\": \"2020-04-08T00:00:00\", \"deaths\": 9, \"cumulative deaths\": 78}, {\"code\": \"RJE\", \"name\": \"UNIVERSITY HOSPITALS OF NORTH MIDLANDS NHS TRUST\", \"date of death\": \"2020-04-09T00:00:00\", \"deaths\": 5, \"cumulative deaths\": 83}, {\"code\": \"RJE\", \"name\": \"UNIVERSITY HOSPITALS OF NORTH MIDLANDS NHS TRUST\", \"date of death\": \"2020-04-10T00:00:00\", \"deaths\": 4, \"cumulative deaths\": 87}, {\"code\": \"RJE\", \"name\": \"UNIVERSITY HOSPITALS OF NORTH MIDLANDS NHS TRUST\", \"date of death\": \"2020-04-11T00:00:00\", \"deaths\": 5, \"cumulative deaths\": 92}, {\"code\": \"RJE\", \"name\": \"UNIVERSITY HOSPITALS OF NORTH MIDLANDS NHS TRUST\", \"date of death\": \"2020-04-12T00:00:00\", \"deaths\": 4, \"cumulative deaths\": 96}, {\"code\": \"RJE\", \"name\": \"UNIVERSITY HOSPITALS OF NORTH MIDLANDS NHS TRUST\", \"date of death\": \"2020-04-13T00:00:00\", \"deaths\": 3, \"cumulative deaths\": 99}, {\"code\": \"RJE\", \"name\": \"UNIVERSITY HOSPITALS OF NORTH MIDLANDS NHS TRUST\", \"date of death\": \"2020-04-14T00:00:00\", \"deaths\": 4, \"cumulative deaths\": 103}, {\"code\": \"RJE\", \"name\": \"UNIVERSITY HOSPITALS OF NORTH MIDLANDS NHS TRUST\", \"date of death\": \"2020-04-15T00:00:00\", \"deaths\": 10, \"cumulative deaths\": 113}, {\"code\": \"RJE\", \"name\": \"UNIVERSITY HOSPITALS OF NORTH MIDLANDS NHS TRUST\", \"date of death\": \"2020-04-16T00:00:00\", \"deaths\": 3, \"cumulative deaths\": 116}, {\"code\": \"RJE\", \"name\": \"UNIVERSITY HOSPITALS OF NORTH MIDLANDS NHS TRUST\", \"date of death\": \"2020-04-17T00:00:00\", \"deaths\": 6, \"cumulative deaths\": 122}, {\"code\": \"RJE\", \"name\": \"UNIVERSITY HOSPITALS OF NORTH MIDLANDS NHS TRUST\", \"date of death\": \"2020-04-18T00:00:00\", \"deaths\": 4, \"cumulative deaths\": 126}, {\"code\": \"RJE\", \"name\": \"UNIVERSITY HOSPITALS OF NORTH MIDLANDS NHS TRUST\", \"date of death\": \"2020-04-19T00:00:00\", \"deaths\": 1, \"cumulative deaths\": 127}, {\"code\": \"RL1\", \"name\": \"THE ROBERT JONES AND AGNES HUNT ORTHOPAEDIC HOSPITAL NHS FOUNDATION TRUST\", \"date of death\": \"2020-02-29T00:00:00\", \"deaths\": 0, \"cumulative deaths\": 0}, {\"code\": \"RL1\", \"name\": \"THE ROBERT JONES AND AGNES HUNT ORTHOPAEDIC HOSPITAL NHS FOUNDATION TRUST\", \"date of death\": \"2020-03-01T00:00:00\", \"deaths\": 0, \"cumulative deaths\": 0}, {\"code\": \"RL1\", \"name\": \"THE ROBERT JONES AND AGNES HUNT ORTHOPAEDIC HOSPITAL NHS FOUNDATION TRUST\", \"date of death\": \"2020-03-02T00:00:00\", \"deaths\": 0, \"cumulative deaths\": 0}, {\"code\": \"RL1\", \"name\": \"THE ROBERT JONES AND AGNES HUNT ORTHOPAEDIC HOSPITAL NHS FOUNDATION TRUST\", \"date of death\": \"2020-03-03T00:00:00\", \"deaths\": 0, \"cumulative deaths\": 0}, {\"code\": \"RL1\", \"name\": \"THE ROBERT JONES AND AGNES HUNT ORTHOPAEDIC HOSPITAL NHS FOUNDATION TRUST\", \"date of death\": \"2020-03-04T00:00:00\", \"deaths\": 0, \"cumulative deaths\": 0}, {\"code\": \"RL1\", \"name\": \"THE ROBERT JONES AND AGNES HUNT ORTHOPAEDIC HOSPITAL NHS FOUNDATION TRUST\", \"date of death\": \"2020-03-05T00:00:00\", \"deaths\": 0, \"cumulative deaths\": 0}, {\"code\": \"RL1\", \"name\": \"THE ROBERT JONES AND AGNES HUNT ORTHOPAEDIC HOSPITAL NHS FOUNDATION TRUST\", \"date of death\": \"2020-03-06T00:00:00\", \"deaths\": 0, \"cumulative deaths\": 0}, {\"code\": \"RL1\", \"name\": \"THE ROBERT JONES AND AGNES HUNT ORTHOPAEDIC HOSPITAL NHS FOUNDATION TRUST\", \"date of death\": \"2020-03-07T00:00:00\", \"deaths\": 0, \"cumulative deaths\": 0}, {\"code\": \"RL1\", \"name\": \"THE ROBERT JONES AND AGNES HUNT ORTHOPAEDIC HOSPITAL NHS FOUNDATION TRUST\", \"date of death\": \"2020-03-08T00:00:00\", \"deaths\": 0, \"cumulative deaths\": 0}, {\"code\": \"RL1\", \"name\": \"THE ROBERT JONES AND AGNES HUNT ORTHOPAEDIC HOSPITAL NHS FOUNDATION TRUST\", \"date of death\": \"2020-03-09T00:00:00\", \"deaths\": 0, \"cumulative deaths\": 0}, {\"code\": \"RL1\", \"name\": \"THE ROBERT JONES AND AGNES HUNT ORTHOPAEDIC HOSPITAL NHS FOUNDATION TRUST\", \"date of death\": \"2020-03-10T00:00:00\", \"deaths\": 0, \"cumulative deaths\": 0}, {\"code\": \"RL1\", \"name\": \"THE ROBERT JONES AND AGNES HUNT ORTHOPAEDIC HOSPITAL NHS FOUNDATION TRUST\", \"date of death\": \"2020-03-11T00:00:00\", \"deaths\": 0, \"cumulative deaths\": 0}, {\"code\": \"RL1\", \"name\": \"THE ROBERT JONES AND AGNES HUNT ORTHOPAEDIC HOSPITAL NHS FOUNDATION TRUST\", \"date of death\": \"2020-03-12T00:00:00\", \"deaths\": 0, \"cumulative deaths\": 0}, {\"code\": \"RL1\", \"name\": \"THE ROBERT JONES AND AGNES HUNT ORTHOPAEDIC HOSPITAL NHS FOUNDATION TRUST\", \"date of death\": \"2020-03-13T00:00:00\", \"deaths\": 0, \"cumulative deaths\": 0}, {\"code\": \"RL1\", \"name\": \"THE ROBERT JONES AND AGNES HUNT ORTHOPAEDIC HOSPITAL NHS FOUNDATION TRUST\", \"date of death\": \"2020-03-14T00:00:00\", \"deaths\": 0, \"cumulative deaths\": 0}, {\"code\": \"RL1\", \"name\": \"THE ROBERT JONES AND AGNES HUNT ORTHOPAEDIC HOSPITAL NHS FOUNDATION TRUST\", \"date of death\": \"2020-03-15T00:00:00\", \"deaths\": 0, \"cumulative deaths\": 0}, {\"code\": \"RL1\", \"name\": \"THE ROBERT JONES AND AGNES HUNT ORTHOPAEDIC HOSPITAL NHS FOUNDATION TRUST\", \"date of death\": \"2020-03-16T00:00:00\", \"deaths\": 0, \"cumulative deaths\": 0}, {\"code\": \"RL1\", \"name\": \"THE ROBERT JONES AND AGNES HUNT ORTHOPAEDIC HOSPITAL NHS FOUNDATION TRUST\", \"date of death\": \"2020-03-17T00:00:00\", \"deaths\": 0, \"cumulative deaths\": 0}, {\"code\": \"RL1\", \"name\": \"THE ROBERT JONES AND AGNES HUNT ORTHOPAEDIC HOSPITAL NHS FOUNDATION TRUST\", \"date of death\": \"2020-03-18T00:00:00\", \"deaths\": 0, \"cumulative deaths\": 0}, {\"code\": \"RL1\", \"name\": \"THE ROBERT JONES AND AGNES HUNT ORTHOPAEDIC HOSPITAL NHS FOUNDATION TRUST\", \"date of death\": \"2020-03-19T00:00:00\", \"deaths\": 0, \"cumulative deaths\": 0}, {\"code\": \"RL1\", \"name\": \"THE ROBERT JONES AND AGNES HUNT ORTHOPAEDIC HOSPITAL NHS FOUNDATION TRUST\", \"date of death\": \"2020-03-20T00:00:00\", \"deaths\": 0, \"cumulative deaths\": 0}, {\"code\": \"RL1\", \"name\": \"THE ROBERT JONES AND AGNES HUNT ORTHOPAEDIC HOSPITAL NHS FOUNDATION TRUST\", \"date of death\": \"2020-03-21T00:00:00\", \"deaths\": 0, \"cumulative deaths\": 0}, {\"code\": \"RL1\", \"name\": \"THE ROBERT JONES AND AGNES HUNT ORTHOPAEDIC HOSPITAL NHS FOUNDATION TRUST\", \"date of death\": \"2020-03-22T00:00:00\", \"deaths\": 0, \"cumulative deaths\": 0}, {\"code\": \"RL1\", \"name\": \"THE ROBERT JONES AND AGNES HUNT ORTHOPAEDIC HOSPITAL NHS FOUNDATION TRUST\", \"date of death\": \"2020-03-23T00:00:00\", \"deaths\": 0, \"cumulative deaths\": 0}, {\"code\": \"RL1\", \"name\": \"THE ROBERT JONES AND AGNES HUNT ORTHOPAEDIC HOSPITAL NHS FOUNDATION TRUST\", \"date of death\": \"2020-03-24T00:00:00\", \"deaths\": 0, \"cumulative deaths\": 0}, {\"code\": \"RL1\", \"name\": \"THE ROBERT JONES AND AGNES HUNT ORTHOPAEDIC HOSPITAL NHS FOUNDATION TRUST\", \"date of death\": \"2020-03-25T00:00:00\", \"deaths\": 0, \"cumulative deaths\": 0}, {\"code\": \"RL1\", \"name\": \"THE ROBERT JONES AND AGNES HUNT ORTHOPAEDIC HOSPITAL NHS FOUNDATION TRUST\", \"date of death\": \"2020-03-26T00:00:00\", \"deaths\": 0, \"cumulative deaths\": 0}, {\"code\": \"RL1\", \"name\": \"THE ROBERT JONES AND AGNES HUNT ORTHOPAEDIC HOSPITAL NHS FOUNDATION TRUST\", \"date of death\": \"2020-03-27T00:00:00\", \"deaths\": 0, \"cumulative deaths\": 0}, {\"code\": \"RL1\", \"name\": \"THE ROBERT JONES AND AGNES HUNT ORTHOPAEDIC HOSPITAL NHS FOUNDATION TRUST\", \"date of death\": \"2020-03-28T00:00:00\", \"deaths\": 0, \"cumulative deaths\": 0}, {\"code\": \"RL1\", \"name\": \"THE ROBERT JONES AND AGNES HUNT ORTHOPAEDIC HOSPITAL NHS FOUNDATION TRUST\", \"date of death\": \"2020-03-29T00:00:00\", \"deaths\": 0, \"cumulative deaths\": 0}, {\"code\": \"RL1\", \"name\": \"THE ROBERT JONES AND AGNES HUNT ORTHOPAEDIC HOSPITAL NHS FOUNDATION TRUST\", \"date of death\": \"2020-03-30T00:00:00\", \"deaths\": 0, \"cumulative deaths\": 0}, {\"code\": \"RL1\", \"name\": \"THE ROBERT JONES AND AGNES HUNT ORTHOPAEDIC HOSPITAL NHS FOUNDATION TRUST\", \"date of death\": \"2020-03-31T00:00:00\", \"deaths\": 0, \"cumulative deaths\": 0}, {\"code\": \"RL1\", \"name\": \"THE ROBERT JONES AND AGNES HUNT ORTHOPAEDIC HOSPITAL NHS FOUNDATION TRUST\", \"date of death\": \"2020-04-01T00:00:00\", \"deaths\": 0, \"cumulative deaths\": 0}, {\"code\": \"RL1\", \"name\": \"THE ROBERT JONES AND AGNES HUNT ORTHOPAEDIC HOSPITAL NHS FOUNDATION TRUST\", \"date of death\": \"2020-04-02T00:00:00\", \"deaths\": 0, \"cumulative deaths\": 0}, {\"code\": \"RL1\", \"name\": \"THE ROBERT JONES AND AGNES HUNT ORTHOPAEDIC HOSPITAL NHS FOUNDATION TRUST\", \"date of death\": \"2020-04-03T00:00:00\", \"deaths\": 0, \"cumulative deaths\": 0}, {\"code\": \"RL1\", \"name\": \"THE ROBERT JONES AND AGNES HUNT ORTHOPAEDIC HOSPITAL NHS FOUNDATION TRUST\", \"date of death\": \"2020-04-04T00:00:00\", \"deaths\": 1, \"cumulative deaths\": 1}, {\"code\": \"RL1\", \"name\": \"THE ROBERT JONES AND AGNES HUNT ORTHOPAEDIC HOSPITAL NHS FOUNDATION TRUST\", \"date of death\": \"2020-04-05T00:00:00\", \"deaths\": 0, \"cumulative deaths\": 1}, {\"code\": \"RL1\", \"name\": \"THE ROBERT JONES AND AGNES HUNT ORTHOPAEDIC HOSPITAL NHS FOUNDATION TRUST\", \"date of death\": \"2020-04-06T00:00:00\", \"deaths\": 0, \"cumulative deaths\": 1}, {\"code\": \"RL1\", \"name\": \"THE ROBERT JONES AND AGNES HUNT ORTHOPAEDIC HOSPITAL NHS FOUNDATION TRUST\", \"date of death\": \"2020-04-07T00:00:00\", \"deaths\": 0, \"cumulative deaths\": 1}, {\"code\": \"RL1\", \"name\": \"THE ROBERT JONES AND AGNES HUNT ORTHOPAEDIC HOSPITAL NHS FOUNDATION TRUST\", \"date of death\": \"2020-04-08T00:00:00\", \"deaths\": 0, \"cumulative deaths\": 1}, {\"code\": \"RL1\", \"name\": \"THE ROBERT JONES AND AGNES HUNT ORTHOPAEDIC HOSPITAL NHS FOUNDATION TRUST\", \"date of death\": \"2020-04-09T00:00:00\", \"deaths\": 1, \"cumulative deaths\": 2}, {\"code\": \"RL1\", \"name\": \"THE ROBERT JONES AND AGNES HUNT ORTHOPAEDIC HOSPITAL NHS FOUNDATION TRUST\", \"date of death\": \"2020-04-10T00:00:00\", \"deaths\": 0, \"cumulative deaths\": 2}, {\"code\": \"RL1\", \"name\": \"THE ROBERT JONES AND AGNES HUNT ORTHOPAEDIC HOSPITAL NHS FOUNDATION TRUST\", \"date of death\": \"2020-04-11T00:00:00\", \"deaths\": 0, \"cumulative deaths\": 2}, {\"code\": \"RL1\", \"name\": \"THE ROBERT JONES AND AGNES HUNT ORTHOPAEDIC HOSPITAL NHS FOUNDATION TRUST\", \"date of death\": \"2020-04-12T00:00:00\", \"deaths\": 0, \"cumulative deaths\": 2}, {\"code\": \"RL1\", \"name\": \"THE ROBERT JONES AND AGNES HUNT ORTHOPAEDIC HOSPITAL NHS FOUNDATION TRUST\", \"date of death\": \"2020-04-13T00:00:00\", \"deaths\": 0, \"cumulative deaths\": 2}, {\"code\": \"RL1\", \"name\": \"THE ROBERT JONES AND AGNES HUNT ORTHOPAEDIC HOSPITAL NHS FOUNDATION TRUST\", \"date of death\": \"2020-04-14T00:00:00\", \"deaths\": 0, \"cumulative deaths\": 2}, {\"code\": \"RL1\", \"name\": \"THE ROBERT JONES AND AGNES HUNT ORTHOPAEDIC HOSPITAL NHS FOUNDATION TRUST\", \"date of death\": \"2020-04-15T00:00:00\", \"deaths\": 0, \"cumulative deaths\": 2}, {\"code\": \"RL1\", \"name\": \"THE ROBERT JONES AND AGNES HUNT ORTHOPAEDIC HOSPITAL NHS FOUNDATION TRUST\", \"date of death\": \"2020-04-16T00:00:00\", \"deaths\": 0, \"cumulative deaths\": 2}, {\"code\": \"RL1\", \"name\": \"THE ROBERT JONES AND AGNES HUNT ORTHOPAEDIC HOSPITAL NHS FOUNDATION TRUST\", \"date of death\": \"2020-04-17T00:00:00\", \"deaths\": 0, \"cumulative deaths\": 2}, {\"code\": \"RL1\", \"name\": \"THE ROBERT JONES AND AGNES HUNT ORTHOPAEDIC HOSPITAL NHS FOUNDATION TRUST\", \"date of death\": \"2020-04-18T00:00:00\", \"deaths\": 0, \"cumulative deaths\": 2}, {\"code\": \"RL1\", \"name\": \"THE ROBERT JONES AND AGNES HUNT ORTHOPAEDIC HOSPITAL NHS FOUNDATION TRUST\", \"date of death\": \"2020-04-19T00:00:00\", \"deaths\": 0, \"cumulative deaths\": 2}, {\"code\": \"RL4\", \"name\": \"THE ROYAL WOLVERHAMPTON NHS TRUST\", \"date of death\": \"2020-02-29T00:00:00\", \"deaths\": 0, \"cumulative deaths\": 0}, {\"code\": \"RL4\", \"name\": \"THE ROYAL WOLVERHAMPTON NHS TRUST\", \"date of death\": \"2020-03-01T00:00:00\", \"deaths\": 0, \"cumulative deaths\": 0}, {\"code\": \"RL4\", \"name\": \"THE ROYAL WOLVERHAMPTON NHS TRUST\", \"date of death\": \"2020-03-02T00:00:00\", \"deaths\": 0, \"cumulative deaths\": 0}, {\"code\": \"RL4\", \"name\": \"THE ROYAL WOLVERHAMPTON NHS TRUST\", \"date of death\": \"2020-03-03T00:00:00\", \"deaths\": 0, \"cumulative deaths\": 0}, {\"code\": \"RL4\", \"name\": \"THE ROYAL WOLVERHAMPTON NHS TRUST\", \"date of death\": \"2020-03-04T00:00:00\", \"deaths\": 0, \"cumulative deaths\": 0}, {\"code\": \"RL4\", \"name\": \"THE ROYAL WOLVERHAMPTON NHS TRUST\", \"date of death\": \"2020-03-05T00:00:00\", \"deaths\": 0, \"cumulative deaths\": 0}, {\"code\": \"RL4\", \"name\": \"THE ROYAL WOLVERHAMPTON NHS TRUST\", \"date of death\": \"2020-03-06T00:00:00\", \"deaths\": 0, \"cumulative deaths\": 0}, {\"code\": \"RL4\", \"name\": \"THE ROYAL WOLVERHAMPTON NHS TRUST\", \"date of death\": \"2020-03-07T00:00:00\", \"deaths\": 0, \"cumulative deaths\": 0}, {\"code\": \"RL4\", \"name\": \"THE ROYAL WOLVERHAMPTON NHS TRUST\", \"date of death\": \"2020-03-08T00:00:00\", \"deaths\": 2, \"cumulative deaths\": 2}, {\"code\": \"RL4\", \"name\": \"THE ROYAL WOLVERHAMPTON NHS TRUST\", \"date of death\": \"2020-03-09T00:00:00\", \"deaths\": 0, \"cumulative deaths\": 2}, {\"code\": \"RL4\", \"name\": \"THE ROYAL WOLVERHAMPTON NHS TRUST\", \"date of death\": \"2020-03-10T00:00:00\", \"deaths\": 0, \"cumulative deaths\": 2}, {\"code\": \"RL4\", \"name\": \"THE ROYAL WOLVERHAMPTON NHS TRUST\", \"date of death\": \"2020-03-11T00:00:00\", \"deaths\": 0, \"cumulative deaths\": 2}, {\"code\": \"RL4\", \"name\": \"THE ROYAL WOLVERHAMPTON NHS TRUST\", \"date of death\": \"2020-03-12T00:00:00\", \"deaths\": 1, \"cumulative deaths\": 3}, {\"code\": \"RL4\", \"name\": \"THE ROYAL WOLVERHAMPTON NHS TRUST\", \"date of death\": \"2020-03-13T00:00:00\", \"deaths\": 0, \"cumulative deaths\": 3}, {\"code\": \"RL4\", \"name\": \"THE ROYAL WOLVERHAMPTON NHS TRUST\", \"date of death\": \"2020-03-14T00:00:00\", \"deaths\": 2, \"cumulative deaths\": 5}, {\"code\": \"RL4\", \"name\": \"THE ROYAL WOLVERHAMPTON NHS TRUST\", \"date of death\": \"2020-03-15T00:00:00\", \"deaths\": 1, \"cumulative deaths\": 6}, {\"code\": \"RL4\", \"name\": \"THE ROYAL WOLVERHAMPTON NHS TRUST\", \"date of death\": \"2020-03-16T00:00:00\", \"deaths\": 1, \"cumulative deaths\": 7}, {\"code\": \"RL4\", \"name\": \"THE ROYAL WOLVERHAMPTON NHS TRUST\", \"date of death\": \"2020-03-17T00:00:00\", \"deaths\": 4, \"cumulative deaths\": 11}, {\"code\": \"RL4\", \"name\": \"THE ROYAL WOLVERHAMPTON NHS TRUST\", \"date of death\": \"2020-03-18T00:00:00\", \"deaths\": 1, \"cumulative deaths\": 12}, {\"code\": \"RL4\", \"name\": \"THE ROYAL WOLVERHAMPTON NHS TRUST\", \"date of death\": \"2020-03-19T00:00:00\", \"deaths\": 1, \"cumulative deaths\": 13}, {\"code\": \"RL4\", \"name\": \"THE ROYAL WOLVERHAMPTON NHS TRUST\", \"date of death\": \"2020-03-20T00:00:00\", \"deaths\": 6, \"cumulative deaths\": 19}, {\"code\": \"RL4\", \"name\": \"THE ROYAL WOLVERHAMPTON NHS TRUST\", \"date of death\": \"2020-03-21T00:00:00\", \"deaths\": 1, \"cumulative deaths\": 20}, {\"code\": \"RL4\", \"name\": \"THE ROYAL WOLVERHAMPTON NHS TRUST\", \"date of death\": \"2020-03-22T00:00:00\", \"deaths\": 2, \"cumulative deaths\": 22}, {\"code\": \"RL4\", \"name\": \"THE ROYAL WOLVERHAMPTON NHS TRUST\", \"date of death\": \"2020-03-23T00:00:00\", \"deaths\": 5, \"cumulative deaths\": 27}, {\"code\": \"RL4\", \"name\": \"THE ROYAL WOLVERHAMPTON NHS TRUST\", \"date of death\": \"2020-03-24T00:00:00\", \"deaths\": 4, \"cumulative deaths\": 31}, {\"code\": \"RL4\", \"name\": \"THE ROYAL WOLVERHAMPTON NHS TRUST\", \"date of death\": \"2020-03-25T00:00:00\", \"deaths\": 7, \"cumulative deaths\": 38}, {\"code\": \"RL4\", \"name\": \"THE ROYAL WOLVERHAMPTON NHS TRUST\", \"date of death\": \"2020-03-26T00:00:00\", \"deaths\": 3, \"cumulative deaths\": 41}, {\"code\": \"RL4\", \"name\": \"THE ROYAL WOLVERHAMPTON NHS TRUST\", \"date of death\": \"2020-03-27T00:00:00\", \"deaths\": 2, \"cumulative deaths\": 43}, {\"code\": \"RL4\", \"name\": \"THE ROYAL WOLVERHAMPTON NHS TRUST\", \"date of death\": \"2020-03-28T00:00:00\", \"deaths\": 8, \"cumulative deaths\": 51}, {\"code\": \"RL4\", \"name\": \"THE ROYAL WOLVERHAMPTON NHS TRUST\", \"date of death\": \"2020-03-29T00:00:00\", \"deaths\": 6, \"cumulative deaths\": 57}, {\"code\": \"RL4\", \"name\": \"THE ROYAL WOLVERHAMPTON NHS TRUST\", \"date of death\": \"2020-03-30T00:00:00\", \"deaths\": 7, \"cumulative deaths\": 64}, {\"code\": \"RL4\", \"name\": \"THE ROYAL WOLVERHAMPTON NHS TRUST\", \"date of death\": \"2020-03-31T00:00:00\", \"deaths\": 3, \"cumulative deaths\": 67}, {\"code\": \"RL4\", \"name\": \"THE ROYAL WOLVERHAMPTON NHS TRUST\", \"date of death\": \"2020-04-01T00:00:00\", \"deaths\": 13, \"cumulative deaths\": 80}, {\"code\": \"RL4\", \"name\": \"THE ROYAL WOLVERHAMPTON NHS TRUST\", \"date of death\": \"2020-04-02T00:00:00\", \"deaths\": 10, \"cumulative deaths\": 90}, {\"code\": \"RL4\", \"name\": \"THE ROYAL WOLVERHAMPTON NHS TRUST\", \"date of death\": \"2020-04-03T00:00:00\", \"deaths\": 8, \"cumulative deaths\": 98}, {\"code\": \"RL4\", \"name\": \"THE ROYAL WOLVERHAMPTON NHS TRUST\", \"date of death\": \"2020-04-04T00:00:00\", \"deaths\": 9, \"cumulative deaths\": 107}, {\"code\": \"RL4\", \"name\": \"THE ROYAL WOLVERHAMPTON NHS TRUST\", \"date of death\": \"2020-04-05T00:00:00\", \"deaths\": 7, \"cumulative deaths\": 114}, {\"code\": \"RL4\", \"name\": \"THE ROYAL WOLVERHAMPTON NHS TRUST\", \"date of death\": \"2020-04-06T00:00:00\", \"deaths\": 6, \"cumulative deaths\": 120}, {\"code\": \"RL4\", \"name\": \"THE ROYAL WOLVERHAMPTON NHS TRUST\", \"date of death\": \"2020-04-07T00:00:00\", \"deaths\": 6, \"cumulative deaths\": 126}, {\"code\": \"RL4\", \"name\": \"THE ROYAL WOLVERHAMPTON NHS TRUST\", \"date of death\": \"2020-04-08T00:00:00\", \"deaths\": 8, \"cumulative deaths\": 134}, {\"code\": \"RL4\", \"name\": \"THE ROYAL WOLVERHAMPTON NHS TRUST\", \"date of death\": \"2020-04-09T00:00:00\", \"deaths\": 8, \"cumulative deaths\": 142}, {\"code\": \"RL4\", \"name\": \"THE ROYAL WOLVERHAMPTON NHS TRUST\", \"date of death\": \"2020-04-10T00:00:00\", \"deaths\": 10, \"cumulative deaths\": 152}, {\"code\": \"RL4\", \"name\": \"THE ROYAL WOLVERHAMPTON NHS TRUST\", \"date of death\": \"2020-04-11T00:00:00\", \"deaths\": 9, \"cumulative deaths\": 161}, {\"code\": \"RL4\", \"name\": \"THE ROYAL WOLVERHAMPTON NHS TRUST\", \"date of death\": \"2020-04-12T00:00:00\", \"deaths\": 6, \"cumulative deaths\": 167}, {\"code\": \"RL4\", \"name\": \"THE ROYAL WOLVERHAMPTON NHS TRUST\", \"date of death\": \"2020-04-13T00:00:00\", \"deaths\": 8, \"cumulative deaths\": 175}, {\"code\": \"RL4\", \"name\": \"THE ROYAL WOLVERHAMPTON NHS TRUST\", \"date of death\": \"2020-04-14T00:00:00\", \"deaths\": 7, \"cumulative deaths\": 182}, {\"code\": \"RL4\", \"name\": \"THE ROYAL WOLVERHAMPTON NHS TRUST\", \"date of death\": \"2020-04-15T00:00:00\", \"deaths\": 6, \"cumulative deaths\": 188}, {\"code\": \"RL4\", \"name\": \"THE ROYAL WOLVERHAMPTON NHS TRUST\", \"date of death\": \"2020-04-16T00:00:00\", \"deaths\": 7, \"cumulative deaths\": 195}, {\"code\": \"RL4\", \"name\": \"THE ROYAL WOLVERHAMPTON NHS TRUST\", \"date of death\": \"2020-04-17T00:00:00\", \"deaths\": 9, \"cumulative deaths\": 204}, {\"code\": \"RL4\", \"name\": \"THE ROYAL WOLVERHAMPTON NHS TRUST\", \"date of death\": \"2020-04-18T00:00:00\", \"deaths\": 2, \"cumulative deaths\": 206}, {\"code\": \"RL4\", \"name\": \"THE ROYAL WOLVERHAMPTON NHS TRUST\", \"date of death\": \"2020-04-19T00:00:00\", \"deaths\": 1, \"cumulative deaths\": 207}, {\"code\": \"RLY\", \"name\": \"NORTH STAFFORDSHIRE COMBINED HEALTHCARE NHS TRUST\", \"date of death\": \"2020-02-29T00:00:00\", \"deaths\": 0, \"cumulative deaths\": 0}, {\"code\": \"RLY\", \"name\": \"NORTH STAFFORDSHIRE COMBINED HEALTHCARE NHS TRUST\", \"date of death\": \"2020-03-01T00:00:00\", \"deaths\": 0, \"cumulative deaths\": 0}, {\"code\": \"RLY\", \"name\": \"NORTH STAFFORDSHIRE COMBINED HEALTHCARE NHS TRUST\", \"date of death\": \"2020-03-02T00:00:00\", \"deaths\": 0, \"cumulative deaths\": 0}, {\"code\": \"RLY\", \"name\": \"NORTH STAFFORDSHIRE COMBINED HEALTHCARE NHS TRUST\", \"date of death\": \"2020-03-03T00:00:00\", \"deaths\": 0, \"cumulative deaths\": 0}, {\"code\": \"RLY\", \"name\": \"NORTH STAFFORDSHIRE COMBINED HEALTHCARE NHS TRUST\", \"date of death\": \"2020-03-04T00:00:00\", \"deaths\": 0, \"cumulative deaths\": 0}, {\"code\": \"RLY\", \"name\": \"NORTH STAFFORDSHIRE COMBINED HEALTHCARE NHS TRUST\", \"date of death\": \"2020-03-05T00:00:00\", \"deaths\": 0, \"cumulative deaths\": 0}, {\"code\": \"RLY\", \"name\": \"NORTH STAFFORDSHIRE COMBINED HEALTHCARE NHS TRUST\", \"date of death\": \"2020-03-06T00:00:00\", \"deaths\": 0, \"cumulative deaths\": 0}, {\"code\": \"RLY\", \"name\": \"NORTH STAFFORDSHIRE COMBINED HEALTHCARE NHS TRUST\", \"date of death\": \"2020-03-07T00:00:00\", \"deaths\": 0, \"cumulative deaths\": 0}, {\"code\": \"RLY\", \"name\": \"NORTH STAFFORDSHIRE COMBINED HEALTHCARE NHS TRUST\", \"date of death\": \"2020-03-08T00:00:00\", \"deaths\": 0, \"cumulative deaths\": 0}, {\"code\": \"RLY\", \"name\": \"NORTH STAFFORDSHIRE COMBINED HEALTHCARE NHS TRUST\", \"date of death\": \"2020-03-09T00:00:00\", \"deaths\": 0, \"cumulative deaths\": 0}, {\"code\": \"RLY\", \"name\": \"NORTH STAFFORDSHIRE COMBINED HEALTHCARE NHS TRUST\", \"date of death\": \"2020-03-10T00:00:00\", \"deaths\": 0, \"cumulative deaths\": 0}, {\"code\": \"RLY\", \"name\": \"NORTH STAFFORDSHIRE COMBINED HEALTHCARE NHS TRUST\", \"date of death\": \"2020-03-11T00:00:00\", \"deaths\": 0, \"cumulative deaths\": 0}, {\"code\": \"RLY\", \"name\": \"NORTH STAFFORDSHIRE COMBINED HEALTHCARE NHS TRUST\", \"date of death\": \"2020-03-12T00:00:00\", \"deaths\": 0, \"cumulative deaths\": 0}, {\"code\": \"RLY\", \"name\": \"NORTH STAFFORDSHIRE COMBINED HEALTHCARE NHS TRUST\", \"date of death\": \"2020-03-13T00:00:00\", \"deaths\": 0, \"cumulative deaths\": 0}, {\"code\": \"RLY\", \"name\": \"NORTH STAFFORDSHIRE COMBINED HEALTHCARE NHS TRUST\", \"date of death\": \"2020-03-14T00:00:00\", \"deaths\": 0, \"cumulative deaths\": 0}, {\"code\": \"RLY\", \"name\": \"NORTH STAFFORDSHIRE COMBINED HEALTHCARE NHS TRUST\", \"date of death\": \"2020-03-15T00:00:00\", \"deaths\": 0, \"cumulative deaths\": 0}, {\"code\": \"RLY\", \"name\": \"NORTH STAFFORDSHIRE COMBINED HEALTHCARE NHS TRUST\", \"date of death\": \"2020-03-16T00:00:00\", \"deaths\": 0, \"cumulative deaths\": 0}, {\"code\": \"RLY\", \"name\": \"NORTH STAFFORDSHIRE COMBINED HEALTHCARE NHS TRUST\", \"date of death\": \"2020-03-17T00:00:00\", \"deaths\": 0, \"cumulative deaths\": 0}, {\"code\": \"RLY\", \"name\": \"NORTH STAFFORDSHIRE COMBINED HEALTHCARE NHS TRUST\", \"date of death\": \"2020-03-18T00:00:00\", \"deaths\": 0, \"cumulative deaths\": 0}, {\"code\": \"RLY\", \"name\": \"NORTH STAFFORDSHIRE COMBINED HEALTHCARE NHS TRUST\", \"date of death\": \"2020-03-19T00:00:00\", \"deaths\": 0, \"cumulative deaths\": 0}, {\"code\": \"RLY\", \"name\": \"NORTH STAFFORDSHIRE COMBINED HEALTHCARE NHS TRUST\", \"date of death\": \"2020-03-20T00:00:00\", \"deaths\": 0, \"cumulative deaths\": 0}, {\"code\": \"RLY\", \"name\": \"NORTH STAFFORDSHIRE COMBINED HEALTHCARE NHS TRUST\", \"date of death\": \"2020-03-21T00:00:00\", \"deaths\": 0, \"cumulative deaths\": 0}, {\"code\": \"RLY\", \"name\": \"NORTH STAFFORDSHIRE COMBINED HEALTHCARE NHS TRUST\", \"date of death\": \"2020-03-22T00:00:00\", \"deaths\": 0, \"cumulative deaths\": 0}, {\"code\": \"RLY\", \"name\": \"NORTH STAFFORDSHIRE COMBINED HEALTHCARE NHS TRUST\", \"date of death\": \"2020-03-23T00:00:00\", \"deaths\": 0, \"cumulative deaths\": 0}, {\"code\": \"RLY\", \"name\": \"NORTH STAFFORDSHIRE COMBINED HEALTHCARE NHS TRUST\", \"date of death\": \"2020-03-24T00:00:00\", \"deaths\": 0, \"cumulative deaths\": 0}, {\"code\": \"RLY\", \"name\": \"NORTH STAFFORDSHIRE COMBINED HEALTHCARE NHS TRUST\", \"date of death\": \"2020-03-25T00:00:00\", \"deaths\": 0, \"cumulative deaths\": 0}, {\"code\": \"RLY\", \"name\": \"NORTH STAFFORDSHIRE COMBINED HEALTHCARE NHS TRUST\", \"date of death\": \"2020-03-26T00:00:00\", \"deaths\": 0, \"cumulative deaths\": 0}, {\"code\": \"RLY\", \"name\": \"NORTH STAFFORDSHIRE COMBINED HEALTHCARE NHS TRUST\", \"date of death\": \"2020-03-27T00:00:00\", \"deaths\": 0, \"cumulative deaths\": 0}, {\"code\": \"RLY\", \"name\": \"NORTH STAFFORDSHIRE COMBINED HEALTHCARE NHS TRUST\", \"date of death\": \"2020-03-28T00:00:00\", \"deaths\": 0, \"cumulative deaths\": 0}, {\"code\": \"RLY\", \"name\": \"NORTH STAFFORDSHIRE COMBINED HEALTHCARE NHS TRUST\", \"date of death\": \"2020-03-29T00:00:00\", \"deaths\": 0, \"cumulative deaths\": 0}, {\"code\": \"RLY\", \"name\": \"NORTH STAFFORDSHIRE COMBINED HEALTHCARE NHS TRUST\", \"date of death\": \"2020-03-30T00:00:00\", \"deaths\": 0, \"cumulative deaths\": 0}, {\"code\": \"RLY\", \"name\": \"NORTH STAFFORDSHIRE COMBINED HEALTHCARE NHS TRUST\", \"date of death\": \"2020-03-31T00:00:00\", \"deaths\": 0, \"cumulative deaths\": 0}, {\"code\": \"RLY\", \"name\": \"NORTH STAFFORDSHIRE COMBINED HEALTHCARE NHS TRUST\", \"date of death\": \"2020-04-01T00:00:00\", \"deaths\": 0, \"cumulative deaths\": 0}, {\"code\": \"RLY\", \"name\": \"NORTH STAFFORDSHIRE COMBINED HEALTHCARE NHS TRUST\", \"date of death\": \"2020-04-02T00:00:00\", \"deaths\": 0, \"cumulative deaths\": 0}, {\"code\": \"RLY\", \"name\": \"NORTH STAFFORDSHIRE COMBINED HEALTHCARE NHS TRUST\", \"date of death\": \"2020-04-03T00:00:00\", \"deaths\": 0, \"cumulative deaths\": 0}, {\"code\": \"RLY\", \"name\": \"NORTH STAFFORDSHIRE COMBINED HEALTHCARE NHS TRUST\", \"date of death\": \"2020-04-04T00:00:00\", \"deaths\": 0, \"cumulative deaths\": 0}, {\"code\": \"RLY\", \"name\": \"NORTH STAFFORDSHIRE COMBINED HEALTHCARE NHS TRUST\", \"date of death\": \"2020-04-05T00:00:00\", \"deaths\": 0, \"cumulative deaths\": 0}, {\"code\": \"RLY\", \"name\": \"NORTH STAFFORDSHIRE COMBINED HEALTHCARE NHS TRUST\", \"date of death\": \"2020-04-06T00:00:00\", \"deaths\": 0, \"cumulative deaths\": 0}, {\"code\": \"RLY\", \"name\": \"NORTH STAFFORDSHIRE COMBINED HEALTHCARE NHS TRUST\", \"date of death\": \"2020-04-07T00:00:00\", \"deaths\": 0, \"cumulative deaths\": 0}, {\"code\": \"RLY\", \"name\": \"NORTH STAFFORDSHIRE COMBINED HEALTHCARE NHS TRUST\", \"date of death\": \"2020-04-08T00:00:00\", \"deaths\": 0, \"cumulative deaths\": 0}, {\"code\": \"RLY\", \"name\": \"NORTH STAFFORDSHIRE COMBINED HEALTHCARE NHS TRUST\", \"date of death\": \"2020-04-09T00:00:00\", \"deaths\": 0, \"cumulative deaths\": 0}, {\"code\": \"RLY\", \"name\": \"NORTH STAFFORDSHIRE COMBINED HEALTHCARE NHS TRUST\", \"date of death\": \"2020-04-10T00:00:00\", \"deaths\": 0, \"cumulative deaths\": 0}, {\"code\": \"RLY\", \"name\": \"NORTH STAFFORDSHIRE COMBINED HEALTHCARE NHS TRUST\", \"date of death\": \"2020-04-11T00:00:00\", \"deaths\": 0, \"cumulative deaths\": 0}, {\"code\": \"RLY\", \"name\": \"NORTH STAFFORDSHIRE COMBINED HEALTHCARE NHS TRUST\", \"date of death\": \"2020-04-12T00:00:00\", \"deaths\": 1, \"cumulative deaths\": 1}, {\"code\": \"RLY\", \"name\": \"NORTH STAFFORDSHIRE COMBINED HEALTHCARE NHS TRUST\", \"date of death\": \"2020-04-13T00:00:00\", \"deaths\": 0, \"cumulative deaths\": 1}, {\"code\": \"RLY\", \"name\": \"NORTH STAFFORDSHIRE COMBINED HEALTHCARE NHS TRUST\", \"date of death\": \"2020-04-14T00:00:00\", \"deaths\": 0, \"cumulative deaths\": 1}, {\"code\": \"RLY\", \"name\": \"NORTH STAFFORDSHIRE COMBINED HEALTHCARE NHS TRUST\", \"date of death\": \"2020-04-15T00:00:00\", \"deaths\": 0, \"cumulative deaths\": 1}, {\"code\": \"RLY\", \"name\": \"NORTH STAFFORDSHIRE COMBINED HEALTHCARE NHS TRUST\", \"date of death\": \"2020-04-16T00:00:00\", \"deaths\": 0, \"cumulative deaths\": 1}, {\"code\": \"RLY\", \"name\": \"NORTH STAFFORDSHIRE COMBINED HEALTHCARE NHS TRUST\", \"date of death\": \"2020-04-17T00:00:00\", \"deaths\": 0, \"cumulative deaths\": 1}, {\"code\": \"RLY\", \"name\": \"NORTH STAFFORDSHIRE COMBINED HEALTHCARE NHS TRUST\", \"date of death\": \"2020-04-18T00:00:00\", \"deaths\": 0, \"cumulative deaths\": 1}, {\"code\": \"RLY\", \"name\": \"NORTH STAFFORDSHIRE COMBINED HEALTHCARE NHS TRUST\", \"date of death\": \"2020-04-19T00:00:00\", \"deaths\": 0, \"cumulative deaths\": 1}, {\"code\": \"RNA\", \"name\": \"THE DUDLEY GROUP NHS FOUNDATION TRUST\", \"date of death\": \"2020-02-29T00:00:00\", \"deaths\": 0, \"cumulative deaths\": 0}, {\"code\": \"RNA\", \"name\": \"THE DUDLEY GROUP NHS FOUNDATION TRUST\", \"date of death\": \"2020-03-01T00:00:00\", \"deaths\": 0, \"cumulative deaths\": 0}, {\"code\": \"RNA\", \"name\": \"THE DUDLEY GROUP NHS FOUNDATION TRUST\", \"date of death\": \"2020-03-02T00:00:00\", \"deaths\": 0, \"cumulative deaths\": 0}, {\"code\": \"RNA\", \"name\": \"THE DUDLEY GROUP NHS FOUNDATION TRUST\", \"date of death\": \"2020-03-03T00:00:00\", \"deaths\": 0, \"cumulative deaths\": 0}, {\"code\": \"RNA\", \"name\": \"THE DUDLEY GROUP NHS FOUNDATION TRUST\", \"date of death\": \"2020-03-04T00:00:00\", \"deaths\": 0, \"cumulative deaths\": 0}, {\"code\": \"RNA\", \"name\": \"THE DUDLEY GROUP NHS FOUNDATION TRUST\", \"date of death\": \"2020-03-05T00:00:00\", \"deaths\": 0, \"cumulative deaths\": 0}, {\"code\": \"RNA\", \"name\": \"THE DUDLEY GROUP NHS FOUNDATION TRUST\", \"date of death\": \"2020-03-06T00:00:00\", \"deaths\": 0, \"cumulative deaths\": 0}, {\"code\": \"RNA\", \"name\": \"THE DUDLEY GROUP NHS FOUNDATION TRUST\", \"date of death\": \"2020-03-07T00:00:00\", \"deaths\": 0, \"cumulative deaths\": 0}, {\"code\": \"RNA\", \"name\": \"THE DUDLEY GROUP NHS FOUNDATION TRUST\", \"date of death\": \"2020-03-08T00:00:00\", \"deaths\": 1, \"cumulative deaths\": 1}, {\"code\": \"RNA\", \"name\": \"THE DUDLEY GROUP NHS FOUNDATION TRUST\", \"date of death\": \"2020-03-09T00:00:00\", \"deaths\": 0, \"cumulative deaths\": 1}, {\"code\": \"RNA\", \"name\": \"THE DUDLEY GROUP NHS FOUNDATION TRUST\", \"date of death\": \"2020-03-10T00:00:00\", \"deaths\": 0, \"cumulative deaths\": 1}, {\"code\": \"RNA\", \"name\": \"THE DUDLEY GROUP NHS FOUNDATION TRUST\", \"date of death\": \"2020-03-11T00:00:00\", \"deaths\": 0, \"cumulative deaths\": 1}, {\"code\": \"RNA\", \"name\": \"THE DUDLEY GROUP NHS FOUNDATION TRUST\", \"date of death\": \"2020-03-12T00:00:00\", \"deaths\": 1, \"cumulative deaths\": 2}, {\"code\": \"RNA\", \"name\": \"THE DUDLEY GROUP NHS FOUNDATION TRUST\", \"date of death\": \"2020-03-13T00:00:00\", \"deaths\": 2, \"cumulative deaths\": 4}, {\"code\": \"RNA\", \"name\": \"THE DUDLEY GROUP NHS FOUNDATION TRUST\", \"date of death\": \"2020-03-14T00:00:00\", \"deaths\": 0, \"cumulative deaths\": 4}, {\"code\": \"RNA\", \"name\": \"THE DUDLEY GROUP NHS FOUNDATION TRUST\", \"date of death\": \"2020-03-15T00:00:00\", \"deaths\": 1, \"cumulative deaths\": 5}, {\"code\": \"RNA\", \"name\": \"THE DUDLEY GROUP NHS FOUNDATION TRUST\", \"date of death\": \"2020-03-16T00:00:00\", \"deaths\": 2, \"cumulative deaths\": 7}, {\"code\": \"RNA\", \"name\": \"THE DUDLEY GROUP NHS FOUNDATION TRUST\", \"date of death\": \"2020-03-17T00:00:00\", \"deaths\": 0, \"cumulative deaths\": 7}, {\"code\": \"RNA\", \"name\": \"THE DUDLEY GROUP NHS FOUNDATION TRUST\", \"date of death\": \"2020-03-18T00:00:00\", \"deaths\": 0, \"cumulative deaths\": 7}, {\"code\": \"RNA\", \"name\": \"THE DUDLEY GROUP NHS FOUNDATION TRUST\", \"date of death\": \"2020-03-19T00:00:00\", \"deaths\": 1, \"cumulative deaths\": 8}, {\"code\": \"RNA\", \"name\": \"THE DUDLEY GROUP NHS FOUNDATION TRUST\", \"date of death\": \"2020-03-20T00:00:00\", \"deaths\": 2, \"cumulative deaths\": 10}, {\"code\": \"RNA\", \"name\": \"THE DUDLEY GROUP NHS FOUNDATION TRUST\", \"date of death\": \"2020-03-21T00:00:00\", \"deaths\": 2, \"cumulative deaths\": 12}, {\"code\": \"RNA\", \"name\": \"THE DUDLEY GROUP NHS FOUNDATION TRUST\", \"date of death\": \"2020-03-22T00:00:00\", \"deaths\": 0, \"cumulative deaths\": 12}, {\"code\": \"RNA\", \"name\": \"THE DUDLEY GROUP NHS FOUNDATION TRUST\", \"date of death\": \"2020-03-23T00:00:00\", \"deaths\": 1, \"cumulative deaths\": 13}, {\"code\": \"RNA\", \"name\": \"THE DUDLEY GROUP NHS FOUNDATION TRUST\", \"date of death\": \"2020-03-24T00:00:00\", \"deaths\": 3, \"cumulative deaths\": 16}, {\"code\": \"RNA\", \"name\": \"THE DUDLEY GROUP NHS FOUNDATION TRUST\", \"date of death\": \"2020-03-25T00:00:00\", \"deaths\": 3, \"cumulative deaths\": 19}, {\"code\": \"RNA\", \"name\": \"THE DUDLEY GROUP NHS FOUNDATION TRUST\", \"date of death\": \"2020-03-26T00:00:00\", \"deaths\": 6, \"cumulative deaths\": 25}, {\"code\": \"RNA\", \"name\": \"THE DUDLEY GROUP NHS FOUNDATION TRUST\", \"date of death\": \"2020-03-27T00:00:00\", \"deaths\": 5, \"cumulative deaths\": 30}, {\"code\": \"RNA\", \"name\": \"THE DUDLEY GROUP NHS FOUNDATION TRUST\", \"date of death\": \"2020-03-28T00:00:00\", \"deaths\": 3, \"cumulative deaths\": 33}, {\"code\": \"RNA\", \"name\": \"THE DUDLEY GROUP NHS FOUNDATION TRUST\", \"date of death\": \"2020-03-29T00:00:00\", \"deaths\": 9, \"cumulative deaths\": 42}, {\"code\": \"RNA\", \"name\": \"THE DUDLEY GROUP NHS FOUNDATION TRUST\", \"date of death\": \"2020-03-30T00:00:00\", \"deaths\": 10, \"cumulative deaths\": 52}, {\"code\": \"RNA\", \"name\": \"THE DUDLEY GROUP NHS FOUNDATION TRUST\", \"date of death\": \"2020-03-31T00:00:00\", \"deaths\": 8, \"cumulative deaths\": 60}, {\"code\": \"RNA\", \"name\": \"THE DUDLEY GROUP NHS FOUNDATION TRUST\", \"date of death\": \"2020-04-01T00:00:00\", \"deaths\": 8, \"cumulative deaths\": 68}, {\"code\": \"RNA\", \"name\": \"THE DUDLEY GROUP NHS FOUNDATION TRUST\", \"date of death\": \"2020-04-02T00:00:00\", \"deaths\": 14, \"cumulative deaths\": 82}, {\"code\": \"RNA\", \"name\": \"THE DUDLEY GROUP NHS FOUNDATION TRUST\", \"date of death\": \"2020-04-03T00:00:00\", \"deaths\": 9, \"cumulative deaths\": 91}, {\"code\": \"RNA\", \"name\": \"THE DUDLEY GROUP NHS FOUNDATION TRUST\", \"date of death\": \"2020-04-04T00:00:00\", \"deaths\": 5, \"cumulative deaths\": 96}, {\"code\": \"RNA\", \"name\": \"THE DUDLEY GROUP NHS FOUNDATION TRUST\", \"date of death\": \"2020-04-05T00:00:00\", \"deaths\": 4, \"cumulative deaths\": 100}, {\"code\": \"RNA\", \"name\": \"THE DUDLEY GROUP NHS FOUNDATION TRUST\", \"date of death\": \"2020-04-06T00:00:00\", \"deaths\": 6, \"cumulative deaths\": 106}, {\"code\": \"RNA\", \"name\": \"THE DUDLEY GROUP NHS FOUNDATION TRUST\", \"date of death\": \"2020-04-07T00:00:00\", \"deaths\": 8, \"cumulative deaths\": 114}, {\"code\": \"RNA\", \"name\": \"THE DUDLEY GROUP NHS FOUNDATION TRUST\", \"date of death\": \"2020-04-08T00:00:00\", \"deaths\": 7, \"cumulative deaths\": 121}, {\"code\": \"RNA\", \"name\": \"THE DUDLEY GROUP NHS FOUNDATION TRUST\", \"date of death\": \"2020-04-09T00:00:00\", \"deaths\": 7, \"cumulative deaths\": 128}, {\"code\": \"RNA\", \"name\": \"THE DUDLEY GROUP NHS FOUNDATION TRUST\", \"date of death\": \"2020-04-10T00:00:00\", \"deaths\": 4, \"cumulative deaths\": 132}, {\"code\": \"RNA\", \"name\": \"THE DUDLEY GROUP NHS FOUNDATION TRUST\", \"date of death\": \"2020-04-11T00:00:00\", \"deaths\": 6, \"cumulative deaths\": 138}, {\"code\": \"RNA\", \"name\": \"THE DUDLEY GROUP NHS FOUNDATION TRUST\", \"date of death\": \"2020-04-12T00:00:00\", \"deaths\": 9, \"cumulative deaths\": 147}, {\"code\": \"RNA\", \"name\": \"THE DUDLEY GROUP NHS FOUNDATION TRUST\", \"date of death\": \"2020-04-13T00:00:00\", \"deaths\": 8, \"cumulative deaths\": 155}, {\"code\": \"RNA\", \"name\": \"THE DUDLEY GROUP NHS FOUNDATION TRUST\", \"date of death\": \"2020-04-14T00:00:00\", \"deaths\": 3, \"cumulative deaths\": 158}, {\"code\": \"RNA\", \"name\": \"THE DUDLEY GROUP NHS FOUNDATION TRUST\", \"date of death\": \"2020-04-15T00:00:00\", \"deaths\": 7, \"cumulative deaths\": 165}, {\"code\": \"RNA\", \"name\": \"THE DUDLEY GROUP NHS FOUNDATION TRUST\", \"date of death\": \"2020-04-16T00:00:00\", \"deaths\": 2, \"cumulative deaths\": 167}, {\"code\": \"RNA\", \"name\": \"THE DUDLEY GROUP NHS FOUNDATION TRUST\", \"date of death\": \"2020-04-17T00:00:00\", \"deaths\": 3, \"cumulative deaths\": 170}, {\"code\": \"RNA\", \"name\": \"THE DUDLEY GROUP NHS FOUNDATION TRUST\", \"date of death\": \"2020-04-18T00:00:00\", \"deaths\": 2, \"cumulative deaths\": 172}, {\"code\": \"RNA\", \"name\": \"THE DUDLEY GROUP NHS FOUNDATION TRUST\", \"date of death\": \"2020-04-19T00:00:00\", \"deaths\": 0, \"cumulative deaths\": 172}, {\"code\": \"RRJ\", \"name\": \"THE ROYAL ORTHOPAEDIC HOSPITAL NHS FOUNDATION TRUST\", \"date of death\": \"2020-02-29T00:00:00\", \"deaths\": 0, \"cumulative deaths\": 0}, {\"code\": \"RRJ\", \"name\": \"THE ROYAL ORTHOPAEDIC HOSPITAL NHS FOUNDATION TRUST\", \"date of death\": \"2020-03-01T00:00:00\", \"deaths\": 0, \"cumulative deaths\": 0}, {\"code\": \"RRJ\", \"name\": \"THE ROYAL ORTHOPAEDIC HOSPITAL NHS FOUNDATION TRUST\", \"date of death\": \"2020-03-02T00:00:00\", \"deaths\": 0, \"cumulative deaths\": 0}, {\"code\": \"RRJ\", \"name\": \"THE ROYAL ORTHOPAEDIC HOSPITAL NHS FOUNDATION TRUST\", \"date of death\": \"2020-03-03T00:00:00\", \"deaths\": 0, \"cumulative deaths\": 0}, {\"code\": \"RRJ\", \"name\": \"THE ROYAL ORTHOPAEDIC HOSPITAL NHS FOUNDATION TRUST\", \"date of death\": \"2020-03-04T00:00:00\", \"deaths\": 0, \"cumulative deaths\": 0}, {\"code\": \"RRJ\", \"name\": \"THE ROYAL ORTHOPAEDIC HOSPITAL NHS FOUNDATION TRUST\", \"date of death\": \"2020-03-05T00:00:00\", \"deaths\": 0, \"cumulative deaths\": 0}, {\"code\": \"RRJ\", \"name\": \"THE ROYAL ORTHOPAEDIC HOSPITAL NHS FOUNDATION TRUST\", \"date of death\": \"2020-03-06T00:00:00\", \"deaths\": 0, \"cumulative deaths\": 0}, {\"code\": \"RRJ\", \"name\": \"THE ROYAL ORTHOPAEDIC HOSPITAL NHS FOUNDATION TRUST\", \"date of death\": \"2020-03-07T00:00:00\", \"deaths\": 0, \"cumulative deaths\": 0}, {\"code\": \"RRJ\", \"name\": \"THE ROYAL ORTHOPAEDIC HOSPITAL NHS FOUNDATION TRUST\", \"date of death\": \"2020-03-08T00:00:00\", \"deaths\": 0, \"cumulative deaths\": 0}, {\"code\": \"RRJ\", \"name\": \"THE ROYAL ORTHOPAEDIC HOSPITAL NHS FOUNDATION TRUST\", \"date of death\": \"2020-03-09T00:00:00\", \"deaths\": 0, \"cumulative deaths\": 0}, {\"code\": \"RRJ\", \"name\": \"THE ROYAL ORTHOPAEDIC HOSPITAL NHS FOUNDATION TRUST\", \"date of death\": \"2020-03-10T00:00:00\", \"deaths\": 0, \"cumulative deaths\": 0}, {\"code\": \"RRJ\", \"name\": \"THE ROYAL ORTHOPAEDIC HOSPITAL NHS FOUNDATION TRUST\", \"date of death\": \"2020-03-11T00:00:00\", \"deaths\": 0, \"cumulative deaths\": 0}, {\"code\": \"RRJ\", \"name\": \"THE ROYAL ORTHOPAEDIC HOSPITAL NHS FOUNDATION TRUST\", \"date of death\": \"2020-03-12T00:00:00\", \"deaths\": 0, \"cumulative deaths\": 0}, {\"code\": \"RRJ\", \"name\": \"THE ROYAL ORTHOPAEDIC HOSPITAL NHS FOUNDATION TRUST\", \"date of death\": \"2020-03-13T00:00:00\", \"deaths\": 0, \"cumulative deaths\": 0}, {\"code\": \"RRJ\", \"name\": \"THE ROYAL ORTHOPAEDIC HOSPITAL NHS FOUNDATION TRUST\", \"date of death\": \"2020-03-14T00:00:00\", \"deaths\": 0, \"cumulative deaths\": 0}, {\"code\": \"RRJ\", \"name\": \"THE ROYAL ORTHOPAEDIC HOSPITAL NHS FOUNDATION TRUST\", \"date of death\": \"2020-03-15T00:00:00\", \"deaths\": 0, \"cumulative deaths\": 0}, {\"code\": \"RRJ\", \"name\": \"THE ROYAL ORTHOPAEDIC HOSPITAL NHS FOUNDATION TRUST\", \"date of death\": \"2020-03-16T00:00:00\", \"deaths\": 0, \"cumulative deaths\": 0}, {\"code\": \"RRJ\", \"name\": \"THE ROYAL ORTHOPAEDIC HOSPITAL NHS FOUNDATION TRUST\", \"date of death\": \"2020-03-17T00:00:00\", \"deaths\": 0, \"cumulative deaths\": 0}, {\"code\": \"RRJ\", \"name\": \"THE ROYAL ORTHOPAEDIC HOSPITAL NHS FOUNDATION TRUST\", \"date of death\": \"2020-03-18T00:00:00\", \"deaths\": 0, \"cumulative deaths\": 0}, {\"code\": \"RRJ\", \"name\": \"THE ROYAL ORTHOPAEDIC HOSPITAL NHS FOUNDATION TRUST\", \"date of death\": \"2020-03-19T00:00:00\", \"deaths\": 0, \"cumulative deaths\": 0}, {\"code\": \"RRJ\", \"name\": \"THE ROYAL ORTHOPAEDIC HOSPITAL NHS FOUNDATION TRUST\", \"date of death\": \"2020-03-20T00:00:00\", \"deaths\": 0, \"cumulative deaths\": 0}, {\"code\": \"RRJ\", \"name\": \"THE ROYAL ORTHOPAEDIC HOSPITAL NHS FOUNDATION TRUST\", \"date of death\": \"2020-03-21T00:00:00\", \"deaths\": 0, \"cumulative deaths\": 0}, {\"code\": \"RRJ\", \"name\": \"THE ROYAL ORTHOPAEDIC HOSPITAL NHS FOUNDATION TRUST\", \"date of death\": \"2020-03-22T00:00:00\", \"deaths\": 0, \"cumulative deaths\": 0}, {\"code\": \"RRJ\", \"name\": \"THE ROYAL ORTHOPAEDIC HOSPITAL NHS FOUNDATION TRUST\", \"date of death\": \"2020-03-23T00:00:00\", \"deaths\": 0, \"cumulative deaths\": 0}, {\"code\": \"RRJ\", \"name\": \"THE ROYAL ORTHOPAEDIC HOSPITAL NHS FOUNDATION TRUST\", \"date of death\": \"2020-03-24T00:00:00\", \"deaths\": 0, \"cumulative deaths\": 0}, {\"code\": \"RRJ\", \"name\": \"THE ROYAL ORTHOPAEDIC HOSPITAL NHS FOUNDATION TRUST\", \"date of death\": \"2020-03-25T00:00:00\", \"deaths\": 0, \"cumulative deaths\": 0}, {\"code\": \"RRJ\", \"name\": \"THE ROYAL ORTHOPAEDIC HOSPITAL NHS FOUNDATION TRUST\", \"date of death\": \"2020-03-26T00:00:00\", \"deaths\": 0, \"cumulative deaths\": 0}, {\"code\": \"RRJ\", \"name\": \"THE ROYAL ORTHOPAEDIC HOSPITAL NHS FOUNDATION TRUST\", \"date of death\": \"2020-03-27T00:00:00\", \"deaths\": 0, \"cumulative deaths\": 0}, {\"code\": \"RRJ\", \"name\": \"THE ROYAL ORTHOPAEDIC HOSPITAL NHS FOUNDATION TRUST\", \"date of death\": \"2020-03-28T00:00:00\", \"deaths\": 0, \"cumulative deaths\": 0}, {\"code\": \"RRJ\", \"name\": \"THE ROYAL ORTHOPAEDIC HOSPITAL NHS FOUNDATION TRUST\", \"date of death\": \"2020-03-29T00:00:00\", \"deaths\": 0, \"cumulative deaths\": 0}, {\"code\": \"RRJ\", \"name\": \"THE ROYAL ORTHOPAEDIC HOSPITAL NHS FOUNDATION TRUST\", \"date of death\": \"2020-03-30T00:00:00\", \"deaths\": 0, \"cumulative deaths\": 0}, {\"code\": \"RRJ\", \"name\": \"THE ROYAL ORTHOPAEDIC HOSPITAL NHS FOUNDATION TRUST\", \"date of death\": \"2020-03-31T00:00:00\", \"deaths\": 0, \"cumulative deaths\": 0}, {\"code\": \"RRJ\", \"name\": \"THE ROYAL ORTHOPAEDIC HOSPITAL NHS FOUNDATION TRUST\", \"date of death\": \"2020-04-01T00:00:00\", \"deaths\": 1, \"cumulative deaths\": 1}, {\"code\": \"RRJ\", \"name\": \"THE ROYAL ORTHOPAEDIC HOSPITAL NHS FOUNDATION TRUST\", \"date of death\": \"2020-04-02T00:00:00\", \"deaths\": 0, \"cumulative deaths\": 1}, {\"code\": \"RRJ\", \"name\": \"THE ROYAL ORTHOPAEDIC HOSPITAL NHS FOUNDATION TRUST\", \"date of death\": \"2020-04-03T00:00:00\", \"deaths\": 0, \"cumulative deaths\": 1}, {\"code\": \"RRJ\", \"name\": \"THE ROYAL ORTHOPAEDIC HOSPITAL NHS FOUNDATION TRUST\", \"date of death\": \"2020-04-04T00:00:00\", \"deaths\": 0, \"cumulative deaths\": 1}, {\"code\": \"RRJ\", \"name\": \"THE ROYAL ORTHOPAEDIC HOSPITAL NHS FOUNDATION TRUST\", \"date of death\": \"2020-04-05T00:00:00\", \"deaths\": 0, \"cumulative deaths\": 1}, {\"code\": \"RRJ\", \"name\": \"THE ROYAL ORTHOPAEDIC HOSPITAL NHS FOUNDATION TRUST\", \"date of death\": \"2020-04-06T00:00:00\", \"deaths\": 0, \"cumulative deaths\": 1}, {\"code\": \"RRJ\", \"name\": \"THE ROYAL ORTHOPAEDIC HOSPITAL NHS FOUNDATION TRUST\", \"date of death\": \"2020-04-07T00:00:00\", \"deaths\": 0, \"cumulative deaths\": 1}, {\"code\": \"RRJ\", \"name\": \"THE ROYAL ORTHOPAEDIC HOSPITAL NHS FOUNDATION TRUST\", \"date of death\": \"2020-04-08T00:00:00\", \"deaths\": 0, \"cumulative deaths\": 1}, {\"code\": \"RRJ\", \"name\": \"THE ROYAL ORTHOPAEDIC HOSPITAL NHS FOUNDATION TRUST\", \"date of death\": \"2020-04-09T00:00:00\", \"deaths\": 0, \"cumulative deaths\": 1}, {\"code\": \"RRJ\", \"name\": \"THE ROYAL ORTHOPAEDIC HOSPITAL NHS FOUNDATION TRUST\", \"date of death\": \"2020-04-10T00:00:00\", \"deaths\": 1, \"cumulative deaths\": 2}, {\"code\": \"RRJ\", \"name\": \"THE ROYAL ORTHOPAEDIC HOSPITAL NHS FOUNDATION TRUST\", \"date of death\": \"2020-04-11T00:00:00\", \"deaths\": 0, \"cumulative deaths\": 2}, {\"code\": \"RRJ\", \"name\": \"THE ROYAL ORTHOPAEDIC HOSPITAL NHS FOUNDATION TRUST\", \"date of death\": \"2020-04-12T00:00:00\", \"deaths\": 0, \"cumulative deaths\": 2}, {\"code\": \"RRJ\", \"name\": \"THE ROYAL ORTHOPAEDIC HOSPITAL NHS FOUNDATION TRUST\", \"date of death\": \"2020-04-13T00:00:00\", \"deaths\": 0, \"cumulative deaths\": 2}, {\"code\": \"RRJ\", \"name\": \"THE ROYAL ORTHOPAEDIC HOSPITAL NHS FOUNDATION TRUST\", \"date of death\": \"2020-04-14T00:00:00\", \"deaths\": 0, \"cumulative deaths\": 2}, {\"code\": \"RRJ\", \"name\": \"THE ROYAL ORTHOPAEDIC HOSPITAL NHS FOUNDATION TRUST\", \"date of death\": \"2020-04-15T00:00:00\", \"deaths\": 0, \"cumulative deaths\": 2}, {\"code\": \"RRJ\", \"name\": \"THE ROYAL ORTHOPAEDIC HOSPITAL NHS FOUNDATION TRUST\", \"date of death\": \"2020-04-16T00:00:00\", \"deaths\": 0, \"cumulative deaths\": 2}, {\"code\": \"RRJ\", \"name\": \"THE ROYAL ORTHOPAEDIC HOSPITAL NHS FOUNDATION TRUST\", \"date of death\": \"2020-04-17T00:00:00\", \"deaths\": 0, \"cumulative deaths\": 2}, {\"code\": \"RRJ\", \"name\": \"THE ROYAL ORTHOPAEDIC HOSPITAL NHS FOUNDATION TRUST\", \"date of death\": \"2020-04-18T00:00:00\", \"deaths\": 0, \"cumulative deaths\": 2}, {\"code\": \"RRJ\", \"name\": \"THE ROYAL ORTHOPAEDIC HOSPITAL NHS FOUNDATION TRUST\", \"date of death\": \"2020-04-19T00:00:00\", \"deaths\": 0, \"cumulative deaths\": 2}, {\"code\": \"RRK\", \"name\": \"UNIVERSITY HOSPITALS BIRMINGHAM NHS FOUNDATION TRUST\", \"date of death\": \"2020-02-29T00:00:00\", \"deaths\": 0, \"cumulative deaths\": 0}, {\"code\": \"RRK\", \"name\": \"UNIVERSITY HOSPITALS BIRMINGHAM NHS FOUNDATION TRUST\", \"date of death\": \"2020-03-01T00:00:00\", \"deaths\": 0, \"cumulative deaths\": 0}, {\"code\": \"RRK\", \"name\": \"UNIVERSITY HOSPITALS BIRMINGHAM NHS FOUNDATION TRUST\", \"date of death\": \"2020-03-02T00:00:00\", \"deaths\": 0, \"cumulative deaths\": 0}, {\"code\": \"RRK\", \"name\": \"UNIVERSITY HOSPITALS BIRMINGHAM NHS FOUNDATION TRUST\", \"date of death\": \"2020-03-03T00:00:00\", \"deaths\": 0, \"cumulative deaths\": 0}, {\"code\": \"RRK\", \"name\": \"UNIVERSITY HOSPITALS BIRMINGHAM NHS FOUNDATION TRUST\", \"date of death\": \"2020-03-04T00:00:00\", \"deaths\": 0, \"cumulative deaths\": 0}, {\"code\": \"RRK\", \"name\": \"UNIVERSITY HOSPITALS BIRMINGHAM NHS FOUNDATION TRUST\", \"date of death\": \"2020-03-05T00:00:00\", \"deaths\": 0, \"cumulative deaths\": 0}, {\"code\": \"RRK\", \"name\": \"UNIVERSITY HOSPITALS BIRMINGHAM NHS FOUNDATION TRUST\", \"date of death\": \"2020-03-06T00:00:00\", \"deaths\": 0, \"cumulative deaths\": 0}, {\"code\": \"RRK\", \"name\": \"UNIVERSITY HOSPITALS BIRMINGHAM NHS FOUNDATION TRUST\", \"date of death\": \"2020-03-07T00:00:00\", \"deaths\": 0, \"cumulative deaths\": 0}, {\"code\": \"RRK\", \"name\": \"UNIVERSITY HOSPITALS BIRMINGHAM NHS FOUNDATION TRUST\", \"date of death\": \"2020-03-08T00:00:00\", \"deaths\": 0, \"cumulative deaths\": 0}, {\"code\": \"RRK\", \"name\": \"UNIVERSITY HOSPITALS BIRMINGHAM NHS FOUNDATION TRUST\", \"date of death\": \"2020-03-09T00:00:00\", \"deaths\": 0, \"cumulative deaths\": 0}, {\"code\": \"RRK\", \"name\": \"UNIVERSITY HOSPITALS BIRMINGHAM NHS FOUNDATION TRUST\", \"date of death\": \"2020-03-10T00:00:00\", \"deaths\": 0, \"cumulative deaths\": 0}, {\"code\": \"RRK\", \"name\": \"UNIVERSITY HOSPITALS BIRMINGHAM NHS FOUNDATION TRUST\", \"date of death\": \"2020-03-11T00:00:00\", \"deaths\": 0, \"cumulative deaths\": 0}, {\"code\": \"RRK\", \"name\": \"UNIVERSITY HOSPITALS BIRMINGHAM NHS FOUNDATION TRUST\", \"date of death\": \"2020-03-12T00:00:00\", \"deaths\": 0, \"cumulative deaths\": 0}, {\"code\": \"RRK\", \"name\": \"UNIVERSITY HOSPITALS BIRMINGHAM NHS FOUNDATION TRUST\", \"date of death\": \"2020-03-13T00:00:00\", \"deaths\": 0, \"cumulative deaths\": 0}, {\"code\": \"RRK\", \"name\": \"UNIVERSITY HOSPITALS BIRMINGHAM NHS FOUNDATION TRUST\", \"date of death\": \"2020-03-14T00:00:00\", \"deaths\": 1, \"cumulative deaths\": 1}, {\"code\": \"RRK\", \"name\": \"UNIVERSITY HOSPITALS BIRMINGHAM NHS FOUNDATION TRUST\", \"date of death\": \"2020-03-15T00:00:00\", \"deaths\": 1, \"cumulative deaths\": 2}, {\"code\": \"RRK\", \"name\": \"UNIVERSITY HOSPITALS BIRMINGHAM NHS FOUNDATION TRUST\", \"date of death\": \"2020-03-16T00:00:00\", \"deaths\": 0, \"cumulative deaths\": 2}, {\"code\": \"RRK\", \"name\": \"UNIVERSITY HOSPITALS BIRMINGHAM NHS FOUNDATION TRUST\", \"date of death\": \"2020-03-17T00:00:00\", \"deaths\": 1, \"cumulative deaths\": 3}, {\"code\": \"RRK\", \"name\": \"UNIVERSITY HOSPITALS BIRMINGHAM NHS FOUNDATION TRUST\", \"date of death\": \"2020-03-18T00:00:00\", \"deaths\": 1, \"cumulative deaths\": 4}, {\"code\": \"RRK\", \"name\": \"UNIVERSITY HOSPITALS BIRMINGHAM NHS FOUNDATION TRUST\", \"date of death\": \"2020-03-19T00:00:00\", \"deaths\": 2, \"cumulative deaths\": 6}, {\"code\": \"RRK\", \"name\": \"UNIVERSITY HOSPITALS BIRMINGHAM NHS FOUNDATION TRUST\", \"date of death\": \"2020-03-20T00:00:00\", \"deaths\": 5, \"cumulative deaths\": 11}, {\"code\": \"RRK\", \"name\": \"UNIVERSITY HOSPITALS BIRMINGHAM NHS FOUNDATION TRUST\", \"date of death\": \"2020-03-21T00:00:00\", \"deaths\": 2, \"cumulative deaths\": 13}, {\"code\": \"RRK\", \"name\": \"UNIVERSITY HOSPITALS BIRMINGHAM NHS FOUNDATION TRUST\", \"date of death\": \"2020-03-22T00:00:00\", \"deaths\": 9, \"cumulative deaths\": 22}, {\"code\": \"RRK\", \"name\": \"UNIVERSITY HOSPITALS BIRMINGHAM NHS FOUNDATION TRUST\", \"date of death\": \"2020-03-23T00:00:00\", \"deaths\": 5, \"cumulative deaths\": 27}, {\"code\": \"RRK\", \"name\": \"UNIVERSITY HOSPITALS BIRMINGHAM NHS FOUNDATION TRUST\", \"date of death\": \"2020-03-24T00:00:00\", \"deaths\": 5, \"cumulative deaths\": 32}, {\"code\": \"RRK\", \"name\": \"UNIVERSITY HOSPITALS BIRMINGHAM NHS FOUNDATION TRUST\", \"date of death\": \"2020-03-25T00:00:00\", \"deaths\": 12, \"cumulative deaths\": 44}, {\"code\": \"RRK\", \"name\": \"UNIVERSITY HOSPITALS BIRMINGHAM NHS FOUNDATION TRUST\", \"date of death\": \"2020-03-26T00:00:00\", \"deaths\": 13, \"cumulative deaths\": 57}, {\"code\": \"RRK\", \"name\": \"UNIVERSITY HOSPITALS BIRMINGHAM NHS FOUNDATION TRUST\", \"date of death\": \"2020-03-27T00:00:00\", \"deaths\": 19, \"cumulative deaths\": 76}, {\"code\": \"RRK\", \"name\": \"UNIVERSITY HOSPITALS BIRMINGHAM NHS FOUNDATION TRUST\", \"date of death\": \"2020-03-28T00:00:00\", \"deaths\": 21, \"cumulative deaths\": 97}, {\"code\": \"RRK\", \"name\": \"UNIVERSITY HOSPITALS BIRMINGHAM NHS FOUNDATION TRUST\", \"date of death\": \"2020-03-29T00:00:00\", \"deaths\": 39, \"cumulative deaths\": 136}, {\"code\": \"RRK\", \"name\": \"UNIVERSITY HOSPITALS BIRMINGHAM NHS FOUNDATION TRUST\", \"date of death\": \"2020-03-30T00:00:00\", \"deaths\": 25, \"cumulative deaths\": 161}, {\"code\": \"RRK\", \"name\": \"UNIVERSITY HOSPITALS BIRMINGHAM NHS FOUNDATION TRUST\", \"date of death\": \"2020-03-31T00:00:00\", \"deaths\": 1, \"cumulative deaths\": 162}, {\"code\": \"RRK\", \"name\": \"UNIVERSITY HOSPITALS BIRMINGHAM NHS FOUNDATION TRUST\", \"date of death\": \"2020-04-01T00:00:00\", \"deaths\": 26, \"cumulative deaths\": 188}, {\"code\": \"RRK\", \"name\": \"UNIVERSITY HOSPITALS BIRMINGHAM NHS FOUNDATION TRUST\", \"date of death\": \"2020-04-02T00:00:00\", \"deaths\": 26, \"cumulative deaths\": 214}, {\"code\": \"RRK\", \"name\": \"UNIVERSITY HOSPITALS BIRMINGHAM NHS FOUNDATION TRUST\", \"date of death\": \"2020-04-03T00:00:00\", \"deaths\": 17, \"cumulative deaths\": 231}, {\"code\": \"RRK\", \"name\": \"UNIVERSITY HOSPITALS BIRMINGHAM NHS FOUNDATION TRUST\", \"date of death\": \"2020-04-04T00:00:00\", \"deaths\": 24, \"cumulative deaths\": 255}, {\"code\": \"RRK\", \"name\": \"UNIVERSITY HOSPITALS BIRMINGHAM NHS FOUNDATION TRUST\", \"date of death\": \"2020-04-05T00:00:00\", \"deaths\": 35, \"cumulative deaths\": 290}, {\"code\": \"RRK\", \"name\": \"UNIVERSITY HOSPITALS BIRMINGHAM NHS FOUNDATION TRUST\", \"date of death\": \"2020-04-06T00:00:00\", \"deaths\": 29, \"cumulative deaths\": 319}, {\"code\": \"RRK\", \"name\": \"UNIVERSITY HOSPITALS BIRMINGHAM NHS FOUNDATION TRUST\", \"date of death\": \"2020-04-07T00:00:00\", \"deaths\": 25, \"cumulative deaths\": 344}, {\"code\": \"RRK\", \"name\": \"UNIVERSITY HOSPITALS BIRMINGHAM NHS FOUNDATION TRUST\", \"date of death\": \"2020-04-08T00:00:00\", \"deaths\": 36, \"cumulative deaths\": 380}, {\"code\": \"RRK\", \"name\": \"UNIVERSITY HOSPITALS BIRMINGHAM NHS FOUNDATION TRUST\", \"date of death\": \"2020-04-09T00:00:00\", \"deaths\": 22, \"cumulative deaths\": 402}, {\"code\": \"RRK\", \"name\": \"UNIVERSITY HOSPITALS BIRMINGHAM NHS FOUNDATION TRUST\", \"date of death\": \"2020-04-10T00:00:00\", \"deaths\": 23, \"cumulative deaths\": 425}, {\"code\": \"RRK\", \"name\": \"UNIVERSITY HOSPITALS BIRMINGHAM NHS FOUNDATION TRUST\", \"date of death\": \"2020-04-11T00:00:00\", \"deaths\": 29, \"cumulative deaths\": 454}, {\"code\": \"RRK\", \"name\": \"UNIVERSITY HOSPITALS BIRMINGHAM NHS FOUNDATION TRUST\", \"date of death\": \"2020-04-12T00:00:00\", \"deaths\": 19, \"cumulative deaths\": 473}, {\"code\": \"RRK\", \"name\": \"UNIVERSITY HOSPITALS BIRMINGHAM NHS FOUNDATION TRUST\", \"date of death\": \"2020-04-13T00:00:00\", \"deaths\": 18, \"cumulative deaths\": 491}, {\"code\": \"RRK\", \"name\": \"UNIVERSITY HOSPITALS BIRMINGHAM NHS FOUNDATION TRUST\", \"date of death\": \"2020-04-14T00:00:00\", \"deaths\": 28, \"cumulative deaths\": 519}, {\"code\": \"RRK\", \"name\": \"UNIVERSITY HOSPITALS BIRMINGHAM NHS FOUNDATION TRUST\", \"date of death\": \"2020-04-15T00:00:00\", \"deaths\": 28, \"cumulative deaths\": 547}, {\"code\": \"RRK\", \"name\": \"UNIVERSITY HOSPITALS BIRMINGHAM NHS FOUNDATION TRUST\", \"date of death\": \"2020-04-16T00:00:00\", \"deaths\": 19, \"cumulative deaths\": 566}, {\"code\": \"RRK\", \"name\": \"UNIVERSITY HOSPITALS BIRMINGHAM NHS FOUNDATION TRUST\", \"date of death\": \"2020-04-17T00:00:00\", \"deaths\": 24, \"cumulative deaths\": 590}, {\"code\": \"RRK\", \"name\": \"UNIVERSITY HOSPITALS BIRMINGHAM NHS FOUNDATION TRUST\", \"date of death\": \"2020-04-18T00:00:00\", \"deaths\": 10, \"cumulative deaths\": 600}, {\"code\": \"RRK\", \"name\": \"UNIVERSITY HOSPITALS BIRMINGHAM NHS FOUNDATION TRUST\", \"date of death\": \"2020-04-19T00:00:00\", \"deaths\": 0, \"cumulative deaths\": 600}, {\"code\": \"RWP\", \"name\": \"WORCESTERSHIRE ACUTE HOSPITALS NHS TRUST\", \"date of death\": \"2020-02-29T00:00:00\", \"deaths\": 0, \"cumulative deaths\": 0}, {\"code\": \"RWP\", \"name\": \"WORCESTERSHIRE ACUTE HOSPITALS NHS TRUST\", \"date of death\": \"2020-03-01T00:00:00\", \"deaths\": 0, \"cumulative deaths\": 0}, {\"code\": \"RWP\", \"name\": \"WORCESTERSHIRE ACUTE HOSPITALS NHS TRUST\", \"date of death\": \"2020-03-02T00:00:00\", \"deaths\": 0, \"cumulative deaths\": 0}, {\"code\": \"RWP\", \"name\": \"WORCESTERSHIRE ACUTE HOSPITALS NHS TRUST\", \"date of death\": \"2020-03-03T00:00:00\", \"deaths\": 0, \"cumulative deaths\": 0}, {\"code\": \"RWP\", \"name\": \"WORCESTERSHIRE ACUTE HOSPITALS NHS TRUST\", \"date of death\": \"2020-03-04T00:00:00\", \"deaths\": 0, \"cumulative deaths\": 0}, {\"code\": \"RWP\", \"name\": \"WORCESTERSHIRE ACUTE HOSPITALS NHS TRUST\", \"date of death\": \"2020-03-05T00:00:00\", \"deaths\": 0, \"cumulative deaths\": 0}, {\"code\": \"RWP\", \"name\": \"WORCESTERSHIRE ACUTE HOSPITALS NHS TRUST\", \"date of death\": \"2020-03-06T00:00:00\", \"deaths\": 0, \"cumulative deaths\": 0}, {\"code\": \"RWP\", \"name\": \"WORCESTERSHIRE ACUTE HOSPITALS NHS TRUST\", \"date of death\": \"2020-03-07T00:00:00\", \"deaths\": 0, \"cumulative deaths\": 0}, {\"code\": \"RWP\", \"name\": \"WORCESTERSHIRE ACUTE HOSPITALS NHS TRUST\", \"date of death\": \"2020-03-08T00:00:00\", \"deaths\": 0, \"cumulative deaths\": 0}, {\"code\": \"RWP\", \"name\": \"WORCESTERSHIRE ACUTE HOSPITALS NHS TRUST\", \"date of death\": \"2020-03-09T00:00:00\", \"deaths\": 0, \"cumulative deaths\": 0}, {\"code\": \"RWP\", \"name\": \"WORCESTERSHIRE ACUTE HOSPITALS NHS TRUST\", \"date of death\": \"2020-03-10T00:00:00\", \"deaths\": 0, \"cumulative deaths\": 0}, {\"code\": \"RWP\", \"name\": \"WORCESTERSHIRE ACUTE HOSPITALS NHS TRUST\", \"date of death\": \"2020-03-11T00:00:00\", \"deaths\": 0, \"cumulative deaths\": 0}, {\"code\": \"RWP\", \"name\": \"WORCESTERSHIRE ACUTE HOSPITALS NHS TRUST\", \"date of death\": \"2020-03-12T00:00:00\", \"deaths\": 0, \"cumulative deaths\": 0}, {\"code\": \"RWP\", \"name\": \"WORCESTERSHIRE ACUTE HOSPITALS NHS TRUST\", \"date of death\": \"2020-03-13T00:00:00\", \"deaths\": 0, \"cumulative deaths\": 0}, {\"code\": \"RWP\", \"name\": \"WORCESTERSHIRE ACUTE HOSPITALS NHS TRUST\", \"date of death\": \"2020-03-14T00:00:00\", \"deaths\": 0, \"cumulative deaths\": 0}, {\"code\": \"RWP\", \"name\": \"WORCESTERSHIRE ACUTE HOSPITALS NHS TRUST\", \"date of death\": \"2020-03-15T00:00:00\", \"deaths\": 0, \"cumulative deaths\": 0}, {\"code\": \"RWP\", \"name\": \"WORCESTERSHIRE ACUTE HOSPITALS NHS TRUST\", \"date of death\": \"2020-03-16T00:00:00\", \"deaths\": 0, \"cumulative deaths\": 0}, {\"code\": \"RWP\", \"name\": \"WORCESTERSHIRE ACUTE HOSPITALS NHS TRUST\", \"date of death\": \"2020-03-17T00:00:00\", \"deaths\": 0, \"cumulative deaths\": 0}, {\"code\": \"RWP\", \"name\": \"WORCESTERSHIRE ACUTE HOSPITALS NHS TRUST\", \"date of death\": \"2020-03-18T00:00:00\", \"deaths\": 0, \"cumulative deaths\": 0}, {\"code\": \"RWP\", \"name\": \"WORCESTERSHIRE ACUTE HOSPITALS NHS TRUST\", \"date of death\": \"2020-03-19T00:00:00\", \"deaths\": 0, \"cumulative deaths\": 0}, {\"code\": \"RWP\", \"name\": \"WORCESTERSHIRE ACUTE HOSPITALS NHS TRUST\", \"date of death\": \"2020-03-20T00:00:00\", \"deaths\": 3, \"cumulative deaths\": 3}, {\"code\": \"RWP\", \"name\": \"WORCESTERSHIRE ACUTE HOSPITALS NHS TRUST\", \"date of death\": \"2020-03-21T00:00:00\", \"deaths\": 2, \"cumulative deaths\": 5}, {\"code\": \"RWP\", \"name\": \"WORCESTERSHIRE ACUTE HOSPITALS NHS TRUST\", \"date of death\": \"2020-03-22T00:00:00\", \"deaths\": 1, \"cumulative deaths\": 6}, {\"code\": \"RWP\", \"name\": \"WORCESTERSHIRE ACUTE HOSPITALS NHS TRUST\", \"date of death\": \"2020-03-23T00:00:00\", \"deaths\": 1, \"cumulative deaths\": 7}, {\"code\": \"RWP\", \"name\": \"WORCESTERSHIRE ACUTE HOSPITALS NHS TRUST\", \"date of death\": \"2020-03-24T00:00:00\", \"deaths\": 1, \"cumulative deaths\": 8}, {\"code\": \"RWP\", \"name\": \"WORCESTERSHIRE ACUTE HOSPITALS NHS TRUST\", \"date of death\": \"2020-03-25T00:00:00\", \"deaths\": 3, \"cumulative deaths\": 11}, {\"code\": \"RWP\", \"name\": \"WORCESTERSHIRE ACUTE HOSPITALS NHS TRUST\", \"date of death\": \"2020-03-26T00:00:00\", \"deaths\": 5, \"cumulative deaths\": 16}, {\"code\": \"RWP\", \"name\": \"WORCESTERSHIRE ACUTE HOSPITALS NHS TRUST\", \"date of death\": \"2020-03-27T00:00:00\", \"deaths\": 3, \"cumulative deaths\": 19}, {\"code\": \"RWP\", \"name\": \"WORCESTERSHIRE ACUTE HOSPITALS NHS TRUST\", \"date of death\": \"2020-03-28T00:00:00\", \"deaths\": 4, \"cumulative deaths\": 23}, {\"code\": \"RWP\", \"name\": \"WORCESTERSHIRE ACUTE HOSPITALS NHS TRUST\", \"date of death\": \"2020-03-29T00:00:00\", \"deaths\": 4, \"cumulative deaths\": 27}, {\"code\": \"RWP\", \"name\": \"WORCESTERSHIRE ACUTE HOSPITALS NHS TRUST\", \"date of death\": \"2020-03-30T00:00:00\", \"deaths\": 2, \"cumulative deaths\": 29}, {\"code\": \"RWP\", \"name\": \"WORCESTERSHIRE ACUTE HOSPITALS NHS TRUST\", \"date of death\": \"2020-03-31T00:00:00\", \"deaths\": 8, \"cumulative deaths\": 37}, {\"code\": \"RWP\", \"name\": \"WORCESTERSHIRE ACUTE HOSPITALS NHS TRUST\", \"date of death\": \"2020-04-01T00:00:00\", \"deaths\": 11, \"cumulative deaths\": 48}, {\"code\": \"RWP\", \"name\": \"WORCESTERSHIRE ACUTE HOSPITALS NHS TRUST\", \"date of death\": \"2020-04-02T00:00:00\", \"deaths\": 8, \"cumulative deaths\": 56}, {\"code\": \"RWP\", \"name\": \"WORCESTERSHIRE ACUTE HOSPITALS NHS TRUST\", \"date of death\": \"2020-04-03T00:00:00\", \"deaths\": 4, \"cumulative deaths\": 60}, {\"code\": \"RWP\", \"name\": \"WORCESTERSHIRE ACUTE HOSPITALS NHS TRUST\", \"date of death\": \"2020-04-04T00:00:00\", \"deaths\": 7, \"cumulative deaths\": 67}, {\"code\": \"RWP\", \"name\": \"WORCESTERSHIRE ACUTE HOSPITALS NHS TRUST\", \"date of death\": \"2020-04-05T00:00:00\", \"deaths\": 8, \"cumulative deaths\": 75}, {\"code\": \"RWP\", \"name\": \"WORCESTERSHIRE ACUTE HOSPITALS NHS TRUST\", \"date of death\": \"2020-04-06T00:00:00\", \"deaths\": 3, \"cumulative deaths\": 78}, {\"code\": \"RWP\", \"name\": \"WORCESTERSHIRE ACUTE HOSPITALS NHS TRUST\", \"date of death\": \"2020-04-07T00:00:00\", \"deaths\": 5, \"cumulative deaths\": 83}, {\"code\": \"RWP\", \"name\": \"WORCESTERSHIRE ACUTE HOSPITALS NHS TRUST\", \"date of death\": \"2020-04-08T00:00:00\", \"deaths\": 5, \"cumulative deaths\": 88}, {\"code\": \"RWP\", \"name\": \"WORCESTERSHIRE ACUTE HOSPITALS NHS TRUST\", \"date of death\": \"2020-04-09T00:00:00\", \"deaths\": 6, \"cumulative deaths\": 94}, {\"code\": \"RWP\", \"name\": \"WORCESTERSHIRE ACUTE HOSPITALS NHS TRUST\", \"date of death\": \"2020-04-10T00:00:00\", \"deaths\": 8, \"cumulative deaths\": 102}, {\"code\": \"RWP\", \"name\": \"WORCESTERSHIRE ACUTE HOSPITALS NHS TRUST\", \"date of death\": \"2020-04-11T00:00:00\", \"deaths\": 4, \"cumulative deaths\": 106}, {\"code\": \"RWP\", \"name\": \"WORCESTERSHIRE ACUTE HOSPITALS NHS TRUST\", \"date of death\": \"2020-04-12T00:00:00\", \"deaths\": 9, \"cumulative deaths\": 115}, {\"code\": \"RWP\", \"name\": \"WORCESTERSHIRE ACUTE HOSPITALS NHS TRUST\", \"date of death\": \"2020-04-13T00:00:00\", \"deaths\": 9, \"cumulative deaths\": 124}, {\"code\": \"RWP\", \"name\": \"WORCESTERSHIRE ACUTE HOSPITALS NHS TRUST\", \"date of death\": \"2020-04-14T00:00:00\", \"deaths\": 5, \"cumulative deaths\": 129}, {\"code\": \"RWP\", \"name\": \"WORCESTERSHIRE ACUTE HOSPITALS NHS TRUST\", \"date of death\": \"2020-04-15T00:00:00\", \"deaths\": 7, \"cumulative deaths\": 136}, {\"code\": \"RWP\", \"name\": \"WORCESTERSHIRE ACUTE HOSPITALS NHS TRUST\", \"date of death\": \"2020-04-16T00:00:00\", \"deaths\": 4, \"cumulative deaths\": 140}, {\"code\": \"RWP\", \"name\": \"WORCESTERSHIRE ACUTE HOSPITALS NHS TRUST\", \"date of death\": \"2020-04-17T00:00:00\", \"deaths\": 3, \"cumulative deaths\": 143}, {\"code\": \"RWP\", \"name\": \"WORCESTERSHIRE ACUTE HOSPITALS NHS TRUST\", \"date of death\": \"2020-04-18T00:00:00\", \"deaths\": 2, \"cumulative deaths\": 145}, {\"code\": \"RWP\", \"name\": \"WORCESTERSHIRE ACUTE HOSPITALS NHS TRUST\", \"date of death\": \"2020-04-19T00:00:00\", \"deaths\": 1, \"cumulative deaths\": 146}, {\"code\": \"RXK\", \"name\": \"SANDWELL AND WEST BIRMINGHAM HOSPITALS NHS TRUST\", \"date of death\": \"2020-02-29T00:00:00\", \"deaths\": 1, \"cumulative deaths\": 1}, {\"code\": \"RXK\", \"name\": \"SANDWELL AND WEST BIRMINGHAM HOSPITALS NHS TRUST\", \"date of death\": \"2020-03-01T00:00:00\", \"deaths\": 0, \"cumulative deaths\": 1}, {\"code\": \"RXK\", \"name\": \"SANDWELL AND WEST BIRMINGHAM HOSPITALS NHS TRUST\", \"date of death\": \"2020-03-02T00:00:00\", \"deaths\": 0, \"cumulative deaths\": 1}, {\"code\": \"RXK\", \"name\": \"SANDWELL AND WEST BIRMINGHAM HOSPITALS NHS TRUST\", \"date of death\": \"2020-03-03T00:00:00\", \"deaths\": 0, \"cumulative deaths\": 1}, {\"code\": \"RXK\", \"name\": \"SANDWELL AND WEST BIRMINGHAM HOSPITALS NHS TRUST\", \"date of death\": \"2020-03-04T00:00:00\", \"deaths\": 0, \"cumulative deaths\": 1}, {\"code\": \"RXK\", \"name\": \"SANDWELL AND WEST BIRMINGHAM HOSPITALS NHS TRUST\", \"date of death\": \"2020-03-05T00:00:00\", \"deaths\": 0, \"cumulative deaths\": 1}, {\"code\": \"RXK\", \"name\": \"SANDWELL AND WEST BIRMINGHAM HOSPITALS NHS TRUST\", \"date of death\": \"2020-03-06T00:00:00\", \"deaths\": 0, \"cumulative deaths\": 1}, {\"code\": \"RXK\", \"name\": \"SANDWELL AND WEST BIRMINGHAM HOSPITALS NHS TRUST\", \"date of death\": \"2020-03-07T00:00:00\", \"deaths\": 0, \"cumulative deaths\": 1}, {\"code\": \"RXK\", \"name\": \"SANDWELL AND WEST BIRMINGHAM HOSPITALS NHS TRUST\", \"date of death\": \"2020-03-08T00:00:00\", \"deaths\": 0, \"cumulative deaths\": 1}, {\"code\": \"RXK\", \"name\": \"SANDWELL AND WEST BIRMINGHAM HOSPITALS NHS TRUST\", \"date of death\": \"2020-03-09T00:00:00\", \"deaths\": 0, \"cumulative deaths\": 1}, {\"code\": \"RXK\", \"name\": \"SANDWELL AND WEST BIRMINGHAM HOSPITALS NHS TRUST\", \"date of death\": \"2020-03-10T00:00:00\", \"deaths\": 0, \"cumulative deaths\": 1}, {\"code\": \"RXK\", \"name\": \"SANDWELL AND WEST BIRMINGHAM HOSPITALS NHS TRUST\", \"date of death\": \"2020-03-11T00:00:00\", \"deaths\": 0, \"cumulative deaths\": 1}, {\"code\": \"RXK\", \"name\": \"SANDWELL AND WEST BIRMINGHAM HOSPITALS NHS TRUST\", \"date of death\": \"2020-03-12T00:00:00\", \"deaths\": 1, \"cumulative deaths\": 2}, {\"code\": \"RXK\", \"name\": \"SANDWELL AND WEST BIRMINGHAM HOSPITALS NHS TRUST\", \"date of death\": \"2020-03-13T00:00:00\", \"deaths\": 1, \"cumulative deaths\": 3}, {\"code\": \"RXK\", \"name\": \"SANDWELL AND WEST BIRMINGHAM HOSPITALS NHS TRUST\", \"date of death\": \"2020-03-14T00:00:00\", \"deaths\": 0, \"cumulative deaths\": 3}, {\"code\": \"RXK\", \"name\": \"SANDWELL AND WEST BIRMINGHAM HOSPITALS NHS TRUST\", \"date of death\": \"2020-03-15T00:00:00\", \"deaths\": 0, \"cumulative deaths\": 3}, {\"code\": \"RXK\", \"name\": \"SANDWELL AND WEST BIRMINGHAM HOSPITALS NHS TRUST\", \"date of death\": \"2020-03-16T00:00:00\", \"deaths\": 6, \"cumulative deaths\": 9}, {\"code\": \"RXK\", \"name\": \"SANDWELL AND WEST BIRMINGHAM HOSPITALS NHS TRUST\", \"date of death\": \"2020-03-17T00:00:00\", \"deaths\": 1, \"cumulative deaths\": 10}, {\"code\": \"RXK\", \"name\": \"SANDWELL AND WEST BIRMINGHAM HOSPITALS NHS TRUST\", \"date of death\": \"2020-03-18T00:00:00\", \"deaths\": 5, \"cumulative deaths\": 15}, {\"code\": \"RXK\", \"name\": \"SANDWELL AND WEST BIRMINGHAM HOSPITALS NHS TRUST\", \"date of death\": \"2020-03-19T00:00:00\", \"deaths\": 3, \"cumulative deaths\": 18}, {\"code\": \"RXK\", \"name\": \"SANDWELL AND WEST BIRMINGHAM HOSPITALS NHS TRUST\", \"date of death\": \"2020-03-20T00:00:00\", \"deaths\": 1, \"cumulative deaths\": 19}, {\"code\": \"RXK\", \"name\": \"SANDWELL AND WEST BIRMINGHAM HOSPITALS NHS TRUST\", \"date of death\": \"2020-03-21T00:00:00\", \"deaths\": 1, \"cumulative deaths\": 20}, {\"code\": \"RXK\", \"name\": \"SANDWELL AND WEST BIRMINGHAM HOSPITALS NHS TRUST\", \"date of death\": \"2020-03-22T00:00:00\", \"deaths\": 2, \"cumulative deaths\": 22}, {\"code\": \"RXK\", \"name\": \"SANDWELL AND WEST BIRMINGHAM HOSPITALS NHS TRUST\", \"date of death\": \"2020-03-23T00:00:00\", \"deaths\": 7, \"cumulative deaths\": 29}, {\"code\": \"RXK\", \"name\": \"SANDWELL AND WEST BIRMINGHAM HOSPITALS NHS TRUST\", \"date of death\": \"2020-03-24T00:00:00\", \"deaths\": 2, \"cumulative deaths\": 31}, {\"code\": \"RXK\", \"name\": \"SANDWELL AND WEST BIRMINGHAM HOSPITALS NHS TRUST\", \"date of death\": \"2020-03-25T00:00:00\", \"deaths\": 1, \"cumulative deaths\": 32}, {\"code\": \"RXK\", \"name\": \"SANDWELL AND WEST BIRMINGHAM HOSPITALS NHS TRUST\", \"date of death\": \"2020-03-26T00:00:00\", \"deaths\": 4, \"cumulative deaths\": 36}, {\"code\": \"RXK\", \"name\": \"SANDWELL AND WEST BIRMINGHAM HOSPITALS NHS TRUST\", \"date of death\": \"2020-03-27T00:00:00\", \"deaths\": 5, \"cumulative deaths\": 41}, {\"code\": \"RXK\", \"name\": \"SANDWELL AND WEST BIRMINGHAM HOSPITALS NHS TRUST\", \"date of death\": \"2020-03-28T00:00:00\", \"deaths\": 6, \"cumulative deaths\": 47}, {\"code\": \"RXK\", \"name\": \"SANDWELL AND WEST BIRMINGHAM HOSPITALS NHS TRUST\", \"date of death\": \"2020-03-29T00:00:00\", \"deaths\": 14, \"cumulative deaths\": 61}, {\"code\": \"RXK\", \"name\": \"SANDWELL AND WEST BIRMINGHAM HOSPITALS NHS TRUST\", \"date of death\": \"2020-03-30T00:00:00\", \"deaths\": 16, \"cumulative deaths\": 77}, {\"code\": \"RXK\", \"name\": \"SANDWELL AND WEST BIRMINGHAM HOSPITALS NHS TRUST\", \"date of death\": \"2020-03-31T00:00:00\", \"deaths\": 5, \"cumulative deaths\": 82}, {\"code\": \"RXK\", \"name\": \"SANDWELL AND WEST BIRMINGHAM HOSPITALS NHS TRUST\", \"date of death\": \"2020-04-01T00:00:00\", \"deaths\": 8, \"cumulative deaths\": 90}, {\"code\": \"RXK\", \"name\": \"SANDWELL AND WEST BIRMINGHAM HOSPITALS NHS TRUST\", \"date of death\": \"2020-04-02T00:00:00\", \"deaths\": 6, \"cumulative deaths\": 96}, {\"code\": \"RXK\", \"name\": \"SANDWELL AND WEST BIRMINGHAM HOSPITALS NHS TRUST\", \"date of death\": \"2020-04-03T00:00:00\", \"deaths\": 6, \"cumulative deaths\": 102}, {\"code\": \"RXK\", \"name\": \"SANDWELL AND WEST BIRMINGHAM HOSPITALS NHS TRUST\", \"date of death\": \"2020-04-04T00:00:00\", \"deaths\": 12, \"cumulative deaths\": 114}, {\"code\": \"RXK\", \"name\": \"SANDWELL AND WEST BIRMINGHAM HOSPITALS NHS TRUST\", \"date of death\": \"2020-04-05T00:00:00\", \"deaths\": 12, \"cumulative deaths\": 126}, {\"code\": \"RXK\", \"name\": \"SANDWELL AND WEST BIRMINGHAM HOSPITALS NHS TRUST\", \"date of death\": \"2020-04-06T00:00:00\", \"deaths\": 13, \"cumulative deaths\": 139}, {\"code\": \"RXK\", \"name\": \"SANDWELL AND WEST BIRMINGHAM HOSPITALS NHS TRUST\", \"date of death\": \"2020-04-07T00:00:00\", \"deaths\": 8, \"cumulative deaths\": 147}, {\"code\": \"RXK\", \"name\": \"SANDWELL AND WEST BIRMINGHAM HOSPITALS NHS TRUST\", \"date of death\": \"2020-04-08T00:00:00\", \"deaths\": 20, \"cumulative deaths\": 167}, {\"code\": \"RXK\", \"name\": \"SANDWELL AND WEST BIRMINGHAM HOSPITALS NHS TRUST\", \"date of death\": \"2020-04-09T00:00:00\", \"deaths\": 8, \"cumulative deaths\": 175}, {\"code\": \"RXK\", \"name\": \"SANDWELL AND WEST BIRMINGHAM HOSPITALS NHS TRUST\", \"date of death\": \"2020-04-10T00:00:00\", \"deaths\": 15, \"cumulative deaths\": 190}, {\"code\": \"RXK\", \"name\": \"SANDWELL AND WEST BIRMINGHAM HOSPITALS NHS TRUST\", \"date of death\": \"2020-04-11T00:00:00\", \"deaths\": 11, \"cumulative deaths\": 201}, {\"code\": \"RXK\", \"name\": \"SANDWELL AND WEST BIRMINGHAM HOSPITALS NHS TRUST\", \"date of death\": \"2020-04-12T00:00:00\", \"deaths\": 9, \"cumulative deaths\": 210}, {\"code\": \"RXK\", \"name\": \"SANDWELL AND WEST BIRMINGHAM HOSPITALS NHS TRUST\", \"date of death\": \"2020-04-13T00:00:00\", \"deaths\": 7, \"cumulative deaths\": 217}, {\"code\": \"RXK\", \"name\": \"SANDWELL AND WEST BIRMINGHAM HOSPITALS NHS TRUST\", \"date of death\": \"2020-04-14T00:00:00\", \"deaths\": 6, \"cumulative deaths\": 223}, {\"code\": \"RXK\", \"name\": \"SANDWELL AND WEST BIRMINGHAM HOSPITALS NHS TRUST\", \"date of death\": \"2020-04-15T00:00:00\", \"deaths\": 9, \"cumulative deaths\": 232}, {\"code\": \"RXK\", \"name\": \"SANDWELL AND WEST BIRMINGHAM HOSPITALS NHS TRUST\", \"date of death\": \"2020-04-16T00:00:00\", \"deaths\": 6, \"cumulative deaths\": 238}, {\"code\": \"RXK\", \"name\": \"SANDWELL AND WEST BIRMINGHAM HOSPITALS NHS TRUST\", \"date of death\": \"2020-04-17T00:00:00\", \"deaths\": 4, \"cumulative deaths\": 242}, {\"code\": \"RXK\", \"name\": \"SANDWELL AND WEST BIRMINGHAM HOSPITALS NHS TRUST\", \"date of death\": \"2020-04-18T00:00:00\", \"deaths\": 3, \"cumulative deaths\": 245}, {\"code\": \"RXK\", \"name\": \"SANDWELL AND WEST BIRMINGHAM HOSPITALS NHS TRUST\", \"date of death\": \"2020-04-19T00:00:00\", \"deaths\": 0, \"cumulative deaths\": 245}, {\"code\": \"RXW\", \"name\": \"SHREWSBURY AND TELFORD HOSPITAL NHS TRUST\", \"date of death\": \"2020-02-29T00:00:00\", \"deaths\": 0, \"cumulative deaths\": 0}, {\"code\": \"RXW\", \"name\": \"SHREWSBURY AND TELFORD HOSPITAL NHS TRUST\", \"date of death\": \"2020-03-01T00:00:00\", \"deaths\": 0, \"cumulative deaths\": 0}, {\"code\": \"RXW\", \"name\": \"SHREWSBURY AND TELFORD HOSPITAL NHS TRUST\", \"date of death\": \"2020-03-02T00:00:00\", \"deaths\": 0, \"cumulative deaths\": 0}, {\"code\": \"RXW\", \"name\": \"SHREWSBURY AND TELFORD HOSPITAL NHS TRUST\", \"date of death\": \"2020-03-03T00:00:00\", \"deaths\": 0, \"cumulative deaths\": 0}, {\"code\": \"RXW\", \"name\": \"SHREWSBURY AND TELFORD HOSPITAL NHS TRUST\", \"date of death\": \"2020-03-04T00:00:00\", \"deaths\": 0, \"cumulative deaths\": 0}, {\"code\": \"RXW\", \"name\": \"SHREWSBURY AND TELFORD HOSPITAL NHS TRUST\", \"date of death\": \"2020-03-05T00:00:00\", \"deaths\": 0, \"cumulative deaths\": 0}, {\"code\": \"RXW\", \"name\": \"SHREWSBURY AND TELFORD HOSPITAL NHS TRUST\", \"date of death\": \"2020-03-06T00:00:00\", \"deaths\": 0, \"cumulative deaths\": 0}, {\"code\": \"RXW\", \"name\": \"SHREWSBURY AND TELFORD HOSPITAL NHS TRUST\", \"date of death\": \"2020-03-07T00:00:00\", \"deaths\": 0, \"cumulative deaths\": 0}, {\"code\": \"RXW\", \"name\": \"SHREWSBURY AND TELFORD HOSPITAL NHS TRUST\", \"date of death\": \"2020-03-08T00:00:00\", \"deaths\": 0, \"cumulative deaths\": 0}, {\"code\": \"RXW\", \"name\": \"SHREWSBURY AND TELFORD HOSPITAL NHS TRUST\", \"date of death\": \"2020-03-09T00:00:00\", \"deaths\": 0, \"cumulative deaths\": 0}, {\"code\": \"RXW\", \"name\": \"SHREWSBURY AND TELFORD HOSPITAL NHS TRUST\", \"date of death\": \"2020-03-10T00:00:00\", \"deaths\": 0, \"cumulative deaths\": 0}, {\"code\": \"RXW\", \"name\": \"SHREWSBURY AND TELFORD HOSPITAL NHS TRUST\", \"date of death\": \"2020-03-11T00:00:00\", \"deaths\": 0, \"cumulative deaths\": 0}, {\"code\": \"RXW\", \"name\": \"SHREWSBURY AND TELFORD HOSPITAL NHS TRUST\", \"date of death\": \"2020-03-12T00:00:00\", \"deaths\": 0, \"cumulative deaths\": 0}, {\"code\": \"RXW\", \"name\": \"SHREWSBURY AND TELFORD HOSPITAL NHS TRUST\", \"date of death\": \"2020-03-13T00:00:00\", \"deaths\": 0, \"cumulative deaths\": 0}, {\"code\": \"RXW\", \"name\": \"SHREWSBURY AND TELFORD HOSPITAL NHS TRUST\", \"date of death\": \"2020-03-14T00:00:00\", \"deaths\": 0, \"cumulative deaths\": 0}, {\"code\": \"RXW\", \"name\": \"SHREWSBURY AND TELFORD HOSPITAL NHS TRUST\", \"date of death\": \"2020-03-15T00:00:00\", \"deaths\": 1, \"cumulative deaths\": 1}, {\"code\": \"RXW\", \"name\": \"SHREWSBURY AND TELFORD HOSPITAL NHS TRUST\", \"date of death\": \"2020-03-16T00:00:00\", \"deaths\": 0, \"cumulative deaths\": 1}, {\"code\": \"RXW\", \"name\": \"SHREWSBURY AND TELFORD HOSPITAL NHS TRUST\", \"date of death\": \"2020-03-17T00:00:00\", \"deaths\": 0, \"cumulative deaths\": 1}, {\"code\": \"RXW\", \"name\": \"SHREWSBURY AND TELFORD HOSPITAL NHS TRUST\", \"date of death\": \"2020-03-18T00:00:00\", \"deaths\": 0, \"cumulative deaths\": 1}, {\"code\": \"RXW\", \"name\": \"SHREWSBURY AND TELFORD HOSPITAL NHS TRUST\", \"date of death\": \"2020-03-19T00:00:00\", \"deaths\": 1, \"cumulative deaths\": 2}, {\"code\": \"RXW\", \"name\": \"SHREWSBURY AND TELFORD HOSPITAL NHS TRUST\", \"date of death\": \"2020-03-20T00:00:00\", \"deaths\": 0, \"cumulative deaths\": 2}, {\"code\": \"RXW\", \"name\": \"SHREWSBURY AND TELFORD HOSPITAL NHS TRUST\", \"date of death\": \"2020-03-21T00:00:00\", \"deaths\": 1, \"cumulative deaths\": 3}, {\"code\": \"RXW\", \"name\": \"SHREWSBURY AND TELFORD HOSPITAL NHS TRUST\", \"date of death\": \"2020-03-22T00:00:00\", \"deaths\": 0, \"cumulative deaths\": 3}, {\"code\": \"RXW\", \"name\": \"SHREWSBURY AND TELFORD HOSPITAL NHS TRUST\", \"date of death\": \"2020-03-23T00:00:00\", \"deaths\": 0, \"cumulative deaths\": 3}, {\"code\": \"RXW\", \"name\": \"SHREWSBURY AND TELFORD HOSPITAL NHS TRUST\", \"date of death\": \"2020-03-24T00:00:00\", \"deaths\": 0, \"cumulative deaths\": 3}, {\"code\": \"RXW\", \"name\": \"SHREWSBURY AND TELFORD HOSPITAL NHS TRUST\", \"date of death\": \"2020-03-25T00:00:00\", \"deaths\": 0, \"cumulative deaths\": 3}, {\"code\": \"RXW\", \"name\": \"SHREWSBURY AND TELFORD HOSPITAL NHS TRUST\", \"date of death\": \"2020-03-26T00:00:00\", \"deaths\": 3, \"cumulative deaths\": 6}, {\"code\": \"RXW\", \"name\": \"SHREWSBURY AND TELFORD HOSPITAL NHS TRUST\", \"date of death\": \"2020-03-27T00:00:00\", \"deaths\": 2, \"cumulative deaths\": 8}, {\"code\": \"RXW\", \"name\": \"SHREWSBURY AND TELFORD HOSPITAL NHS TRUST\", \"date of death\": \"2020-03-28T00:00:00\", \"deaths\": 4, \"cumulative deaths\": 12}, {\"code\": \"RXW\", \"name\": \"SHREWSBURY AND TELFORD HOSPITAL NHS TRUST\", \"date of death\": \"2020-03-29T00:00:00\", \"deaths\": 3, \"cumulative deaths\": 15}, {\"code\": \"RXW\", \"name\": \"SHREWSBURY AND TELFORD HOSPITAL NHS TRUST\", \"date of death\": \"2020-03-30T00:00:00\", \"deaths\": 2, \"cumulative deaths\": 17}, {\"code\": \"RXW\", \"name\": \"SHREWSBURY AND TELFORD HOSPITAL NHS TRUST\", \"date of death\": \"2020-03-31T00:00:00\", \"deaths\": 1, \"cumulative deaths\": 18}, {\"code\": \"RXW\", \"name\": \"SHREWSBURY AND TELFORD HOSPITAL NHS TRUST\", \"date of death\": \"2020-04-01T00:00:00\", \"deaths\": 3, \"cumulative deaths\": 21}, {\"code\": \"RXW\", \"name\": \"SHREWSBURY AND TELFORD HOSPITAL NHS TRUST\", \"date of death\": \"2020-04-02T00:00:00\", \"deaths\": 2, \"cumulative deaths\": 23}, {\"code\": \"RXW\", \"name\": \"SHREWSBURY AND TELFORD HOSPITAL NHS TRUST\", \"date of death\": \"2020-04-03T00:00:00\", \"deaths\": 4, \"cumulative deaths\": 27}, {\"code\": \"RXW\", \"name\": \"SHREWSBURY AND TELFORD HOSPITAL NHS TRUST\", \"date of death\": \"2020-04-04T00:00:00\", \"deaths\": 4, \"cumulative deaths\": 31}, {\"code\": \"RXW\", \"name\": \"SHREWSBURY AND TELFORD HOSPITAL NHS TRUST\", \"date of death\": \"2020-04-05T00:00:00\", \"deaths\": 3, \"cumulative deaths\": 34}, {\"code\": \"RXW\", \"name\": \"SHREWSBURY AND TELFORD HOSPITAL NHS TRUST\", \"date of death\": \"2020-04-06T00:00:00\", \"deaths\": 0, \"cumulative deaths\": 34}, {\"code\": \"RXW\", \"name\": \"SHREWSBURY AND TELFORD HOSPITAL NHS TRUST\", \"date of death\": \"2020-04-07T00:00:00\", \"deaths\": 1, \"cumulative deaths\": 35}, {\"code\": \"RXW\", \"name\": \"SHREWSBURY AND TELFORD HOSPITAL NHS TRUST\", \"date of death\": \"2020-04-08T00:00:00\", \"deaths\": 2, \"cumulative deaths\": 37}, {\"code\": \"RXW\", \"name\": \"SHREWSBURY AND TELFORD HOSPITAL NHS TRUST\", \"date of death\": \"2020-04-09T00:00:00\", \"deaths\": 0, \"cumulative deaths\": 37}, {\"code\": \"RXW\", \"name\": \"SHREWSBURY AND TELFORD HOSPITAL NHS TRUST\", \"date of death\": \"2020-04-10T00:00:00\", \"deaths\": 2, \"cumulative deaths\": 39}, {\"code\": \"RXW\", \"name\": \"SHREWSBURY AND TELFORD HOSPITAL NHS TRUST\", \"date of death\": \"2020-04-11T00:00:00\", \"deaths\": 8, \"cumulative deaths\": 47}, {\"code\": \"RXW\", \"name\": \"SHREWSBURY AND TELFORD HOSPITAL NHS TRUST\", \"date of death\": \"2020-04-12T00:00:00\", \"deaths\": 2, \"cumulative deaths\": 49}, {\"code\": \"RXW\", \"name\": \"SHREWSBURY AND TELFORD HOSPITAL NHS TRUST\", \"date of death\": \"2020-04-13T00:00:00\", \"deaths\": 3, \"cumulative deaths\": 52}, {\"code\": \"RXW\", \"name\": \"SHREWSBURY AND TELFORD HOSPITAL NHS TRUST\", \"date of death\": \"2020-04-14T00:00:00\", \"deaths\": 0, \"cumulative deaths\": 52}, {\"code\": \"RXW\", \"name\": \"SHREWSBURY AND TELFORD HOSPITAL NHS TRUST\", \"date of death\": \"2020-04-15T00:00:00\", \"deaths\": 3, \"cumulative deaths\": 55}, {\"code\": \"RXW\", \"name\": \"SHREWSBURY AND TELFORD HOSPITAL NHS TRUST\", \"date of death\": \"2020-04-16T00:00:00\", \"deaths\": 2, \"cumulative deaths\": 57}, {\"code\": \"RXW\", \"name\": \"SHREWSBURY AND TELFORD HOSPITAL NHS TRUST\", \"date of death\": \"2020-04-17T00:00:00\", \"deaths\": 1, \"cumulative deaths\": 58}, {\"code\": \"RXW\", \"name\": \"SHREWSBURY AND TELFORD HOSPITAL NHS TRUST\", \"date of death\": \"2020-04-18T00:00:00\", \"deaths\": 3, \"cumulative deaths\": 61}, {\"code\": \"RXW\", \"name\": \"SHREWSBURY AND TELFORD HOSPITAL NHS TRUST\", \"date of death\": \"2020-04-19T00:00:00\", \"deaths\": 0, \"cumulative deaths\": 61}, {\"code\": \"RYW\", \"name\": \"BIRMINGHAM COMMUNITY HEALTHCARE NHS FOUNDATION TRUST\", \"date of death\": \"2020-02-29T00:00:00\", \"deaths\": 0, \"cumulative deaths\": 0}, {\"code\": \"RYW\", \"name\": \"BIRMINGHAM COMMUNITY HEALTHCARE NHS FOUNDATION TRUST\", \"date of death\": \"2020-03-01T00:00:00\", \"deaths\": 0, \"cumulative deaths\": 0}, {\"code\": \"RYW\", \"name\": \"BIRMINGHAM COMMUNITY HEALTHCARE NHS FOUNDATION TRUST\", \"date of death\": \"2020-03-02T00:00:00\", \"deaths\": 0, \"cumulative deaths\": 0}, {\"code\": \"RYW\", \"name\": \"BIRMINGHAM COMMUNITY HEALTHCARE NHS FOUNDATION TRUST\", \"date of death\": \"2020-03-03T00:00:00\", \"deaths\": 0, \"cumulative deaths\": 0}, {\"code\": \"RYW\", \"name\": \"BIRMINGHAM COMMUNITY HEALTHCARE NHS FOUNDATION TRUST\", \"date of death\": \"2020-03-04T00:00:00\", \"deaths\": 0, \"cumulative deaths\": 0}, {\"code\": \"RYW\", \"name\": \"BIRMINGHAM COMMUNITY HEALTHCARE NHS FOUNDATION TRUST\", \"date of death\": \"2020-03-05T00:00:00\", \"deaths\": 0, \"cumulative deaths\": 0}, {\"code\": \"RYW\", \"name\": \"BIRMINGHAM COMMUNITY HEALTHCARE NHS FOUNDATION TRUST\", \"date of death\": \"2020-03-06T00:00:00\", \"deaths\": 0, \"cumulative deaths\": 0}, {\"code\": \"RYW\", \"name\": \"BIRMINGHAM COMMUNITY HEALTHCARE NHS FOUNDATION TRUST\", \"date of death\": \"2020-03-07T00:00:00\", \"deaths\": 0, \"cumulative deaths\": 0}, {\"code\": \"RYW\", \"name\": \"BIRMINGHAM COMMUNITY HEALTHCARE NHS FOUNDATION TRUST\", \"date of death\": \"2020-03-08T00:00:00\", \"deaths\": 0, \"cumulative deaths\": 0}, {\"code\": \"RYW\", \"name\": \"BIRMINGHAM COMMUNITY HEALTHCARE NHS FOUNDATION TRUST\", \"date of death\": \"2020-03-09T00:00:00\", \"deaths\": 0, \"cumulative deaths\": 0}, {\"code\": \"RYW\", \"name\": \"BIRMINGHAM COMMUNITY HEALTHCARE NHS FOUNDATION TRUST\", \"date of death\": \"2020-03-10T00:00:00\", \"deaths\": 0, \"cumulative deaths\": 0}, {\"code\": \"RYW\", \"name\": \"BIRMINGHAM COMMUNITY HEALTHCARE NHS FOUNDATION TRUST\", \"date of death\": \"2020-03-11T00:00:00\", \"deaths\": 0, \"cumulative deaths\": 0}, {\"code\": \"RYW\", \"name\": \"BIRMINGHAM COMMUNITY HEALTHCARE NHS FOUNDATION TRUST\", \"date of death\": \"2020-03-12T00:00:00\", \"deaths\": 0, \"cumulative deaths\": 0}, {\"code\": \"RYW\", \"name\": \"BIRMINGHAM COMMUNITY HEALTHCARE NHS FOUNDATION TRUST\", \"date of death\": \"2020-03-13T00:00:00\", \"deaths\": 0, \"cumulative deaths\": 0}, {\"code\": \"RYW\", \"name\": \"BIRMINGHAM COMMUNITY HEALTHCARE NHS FOUNDATION TRUST\", \"date of death\": \"2020-03-14T00:00:00\", \"deaths\": 0, \"cumulative deaths\": 0}, {\"code\": \"RYW\", \"name\": \"BIRMINGHAM COMMUNITY HEALTHCARE NHS FOUNDATION TRUST\", \"date of death\": \"2020-03-15T00:00:00\", \"deaths\": 0, \"cumulative deaths\": 0}, {\"code\": \"RYW\", \"name\": \"BIRMINGHAM COMMUNITY HEALTHCARE NHS FOUNDATION TRUST\", \"date of death\": \"2020-03-16T00:00:00\", \"deaths\": 0, \"cumulative deaths\": 0}, {\"code\": \"RYW\", \"name\": \"BIRMINGHAM COMMUNITY HEALTHCARE NHS FOUNDATION TRUST\", \"date of death\": \"2020-03-17T00:00:00\", \"deaths\": 0, \"cumulative deaths\": 0}, {\"code\": \"RYW\", \"name\": \"BIRMINGHAM COMMUNITY HEALTHCARE NHS FOUNDATION TRUST\", \"date of death\": \"2020-03-18T00:00:00\", \"deaths\": 0, \"cumulative deaths\": 0}, {\"code\": \"RYW\", \"name\": \"BIRMINGHAM COMMUNITY HEALTHCARE NHS FOUNDATION TRUST\", \"date of death\": \"2020-03-19T00:00:00\", \"deaths\": 0, \"cumulative deaths\": 0}, {\"code\": \"RYW\", \"name\": \"BIRMINGHAM COMMUNITY HEALTHCARE NHS FOUNDATION TRUST\", \"date of death\": \"2020-03-20T00:00:00\", \"deaths\": 0, \"cumulative deaths\": 0}, {\"code\": \"RYW\", \"name\": \"BIRMINGHAM COMMUNITY HEALTHCARE NHS FOUNDATION TRUST\", \"date of death\": \"2020-03-21T00:00:00\", \"deaths\": 0, \"cumulative deaths\": 0}, {\"code\": \"RYW\", \"name\": \"BIRMINGHAM COMMUNITY HEALTHCARE NHS FOUNDATION TRUST\", \"date of death\": \"2020-03-22T00:00:00\", \"deaths\": 0, \"cumulative deaths\": 0}, {\"code\": \"RYW\", \"name\": \"BIRMINGHAM COMMUNITY HEALTHCARE NHS FOUNDATION TRUST\", \"date of death\": \"2020-03-23T00:00:00\", \"deaths\": 0, \"cumulative deaths\": 0}, {\"code\": \"RYW\", \"name\": \"BIRMINGHAM COMMUNITY HEALTHCARE NHS FOUNDATION TRUST\", \"date of death\": \"2020-03-24T00:00:00\", \"deaths\": 0, \"cumulative deaths\": 0}, {\"code\": \"RYW\", \"name\": \"BIRMINGHAM COMMUNITY HEALTHCARE NHS FOUNDATION TRUST\", \"date of death\": \"2020-03-25T00:00:00\", \"deaths\": 0, \"cumulative deaths\": 0}, {\"code\": \"RYW\", \"name\": \"BIRMINGHAM COMMUNITY HEALTHCARE NHS FOUNDATION TRUST\", \"date of death\": \"2020-03-26T00:00:00\", \"deaths\": 0, \"cumulative deaths\": 0}, {\"code\": \"RYW\", \"name\": \"BIRMINGHAM COMMUNITY HEALTHCARE NHS FOUNDATION TRUST\", \"date of death\": \"2020-03-27T00:00:00\", \"deaths\": 0, \"cumulative deaths\": 0}, {\"code\": \"RYW\", \"name\": \"BIRMINGHAM COMMUNITY HEALTHCARE NHS FOUNDATION TRUST\", \"date of death\": \"2020-03-28T00:00:00\", \"deaths\": 0, \"cumulative deaths\": 0}, {\"code\": \"RYW\", \"name\": \"BIRMINGHAM COMMUNITY HEALTHCARE NHS FOUNDATION TRUST\", \"date of death\": \"2020-03-29T00:00:00\", \"deaths\": 0, \"cumulative deaths\": 0}, {\"code\": \"RYW\", \"name\": \"BIRMINGHAM COMMUNITY HEALTHCARE NHS FOUNDATION TRUST\", \"date of death\": \"2020-03-30T00:00:00\", \"deaths\": 1, \"cumulative deaths\": 1}, {\"code\": \"RYW\", \"name\": \"BIRMINGHAM COMMUNITY HEALTHCARE NHS FOUNDATION TRUST\", \"date of death\": \"2020-03-31T00:00:00\", \"deaths\": 0, \"cumulative deaths\": 1}, {\"code\": \"RYW\", \"name\": \"BIRMINGHAM COMMUNITY HEALTHCARE NHS FOUNDATION TRUST\", \"date of death\": \"2020-04-01T00:00:00\", \"deaths\": 0, \"cumulative deaths\": 1}, {\"code\": \"RYW\", \"name\": \"BIRMINGHAM COMMUNITY HEALTHCARE NHS FOUNDATION TRUST\", \"date of death\": \"2020-04-02T00:00:00\", \"deaths\": 1, \"cumulative deaths\": 2}, {\"code\": \"RYW\", \"name\": \"BIRMINGHAM COMMUNITY HEALTHCARE NHS FOUNDATION TRUST\", \"date of death\": \"2020-04-03T00:00:00\", \"deaths\": 0, \"cumulative deaths\": 2}, {\"code\": \"RYW\", \"name\": \"BIRMINGHAM COMMUNITY HEALTHCARE NHS FOUNDATION TRUST\", \"date of death\": \"2020-04-04T00:00:00\", \"deaths\": 1, \"cumulative deaths\": 3}, {\"code\": \"RYW\", \"name\": \"BIRMINGHAM COMMUNITY HEALTHCARE NHS FOUNDATION TRUST\", \"date of death\": \"2020-04-05T00:00:00\", \"deaths\": 0, \"cumulative deaths\": 3}, {\"code\": \"RYW\", \"name\": \"BIRMINGHAM COMMUNITY HEALTHCARE NHS FOUNDATION TRUST\", \"date of death\": \"2020-04-06T00:00:00\", \"deaths\": 2, \"cumulative deaths\": 5}, {\"code\": \"RYW\", \"name\": \"BIRMINGHAM COMMUNITY HEALTHCARE NHS FOUNDATION TRUST\", \"date of death\": \"2020-04-07T00:00:00\", \"deaths\": 2, \"cumulative deaths\": 7}, {\"code\": \"RYW\", \"name\": \"BIRMINGHAM COMMUNITY HEALTHCARE NHS FOUNDATION TRUST\", \"date of death\": \"2020-04-08T00:00:00\", \"deaths\": 0, \"cumulative deaths\": 7}, {\"code\": \"RYW\", \"name\": \"BIRMINGHAM COMMUNITY HEALTHCARE NHS FOUNDATION TRUST\", \"date of death\": \"2020-04-09T00:00:00\", \"deaths\": 1, \"cumulative deaths\": 8}, {\"code\": \"RYW\", \"name\": \"BIRMINGHAM COMMUNITY HEALTHCARE NHS FOUNDATION TRUST\", \"date of death\": \"2020-04-10T00:00:00\", \"deaths\": 1, \"cumulative deaths\": 9}, {\"code\": \"RYW\", \"name\": \"BIRMINGHAM COMMUNITY HEALTHCARE NHS FOUNDATION TRUST\", \"date of death\": \"2020-04-11T00:00:00\", \"deaths\": 1, \"cumulative deaths\": 10}, {\"code\": \"RYW\", \"name\": \"BIRMINGHAM COMMUNITY HEALTHCARE NHS FOUNDATION TRUST\", \"date of death\": \"2020-04-12T00:00:00\", \"deaths\": 1, \"cumulative deaths\": 11}, {\"code\": \"RYW\", \"name\": \"BIRMINGHAM COMMUNITY HEALTHCARE NHS FOUNDATION TRUST\", \"date of death\": \"2020-04-13T00:00:00\", \"deaths\": 1, \"cumulative deaths\": 12}, {\"code\": \"RYW\", \"name\": \"BIRMINGHAM COMMUNITY HEALTHCARE NHS FOUNDATION TRUST\", \"date of death\": \"2020-04-14T00:00:00\", \"deaths\": 0, \"cumulative deaths\": 12}, {\"code\": \"RYW\", \"name\": \"BIRMINGHAM COMMUNITY HEALTHCARE NHS FOUNDATION TRUST\", \"date of death\": \"2020-04-15T00:00:00\", \"deaths\": 2, \"cumulative deaths\": 14}, {\"code\": \"RYW\", \"name\": \"BIRMINGHAM COMMUNITY HEALTHCARE NHS FOUNDATION TRUST\", \"date of death\": \"2020-04-16T00:00:00\", \"deaths\": 0, \"cumulative deaths\": 14}, {\"code\": \"RYW\", \"name\": \"BIRMINGHAM COMMUNITY HEALTHCARE NHS FOUNDATION TRUST\", \"date of death\": \"2020-04-17T00:00:00\", \"deaths\": 1, \"cumulative deaths\": 15}, {\"code\": \"RYW\", \"name\": \"BIRMINGHAM COMMUNITY HEALTHCARE NHS FOUNDATION TRUST\", \"date of death\": \"2020-04-18T00:00:00\", \"deaths\": 0, \"cumulative deaths\": 15}, {\"code\": \"RYW\", \"name\": \"BIRMINGHAM COMMUNITY HEALTHCARE NHS FOUNDATION TRUST\", \"date of death\": \"2020-04-19T00:00:00\", \"deaths\": 0, \"cumulative deaths\": 15}]}}, {\"mode\": \"vega-lite\"});\n",
       "</script>"
      ],
      "text/plain": [
       "alt.Chart(...)"
      ]
     },
     "execution_count": 27,
     "metadata": {},
     "output_type": "execute_result"
    }
   ],
   "source": [
    "alt.Chart(chart_doddbt).mark_line().encode(\n",
    "    x='date of death',\n",
    "    y='cumulative deaths',\n",
    "    color='name'\n",
    ")"
   ]
  },
  {
   "cell_type": "markdown",
   "metadata": {},
   "source": [
    "## Deaths on date died Shropshire"
   ]
  },
  {
   "cell_type": "code",
   "execution_count": 28,
   "metadata": {},
   "outputs": [
    {
     "data": {
      "text/html": [
       "\n",
       "<div id=\"altair-viz-46a7f0d169b3460cb87c0d5cfa01c5b3\"></div>\n",
       "<script type=\"text/javascript\">\n",
       "  (function(spec, embedOpt){\n",
       "    let outputDiv = document.currentScript.previousElementSibling;\n",
       "    if (outputDiv.id !== \"altair-viz-46a7f0d169b3460cb87c0d5cfa01c5b3\") {\n",
       "      outputDiv = document.getElementById(\"altair-viz-46a7f0d169b3460cb87c0d5cfa01c5b3\");\n",
       "    }\n",
       "    const paths = {\n",
       "      \"vega\": \"https://cdn.jsdelivr.net/npm//vega@5?noext\",\n",
       "      \"vega-lib\": \"https://cdn.jsdelivr.net/npm//vega-lib?noext\",\n",
       "      \"vega-lite\": \"https://cdn.jsdelivr.net/npm//vega-lite@4.8.1?noext\",\n",
       "      \"vega-embed\": \"https://cdn.jsdelivr.net/npm//vega-embed@6?noext\",\n",
       "    };\n",
       "\n",
       "    function loadScript(lib) {\n",
       "      return new Promise(function(resolve, reject) {\n",
       "        var s = document.createElement('script');\n",
       "        s.src = paths[lib];\n",
       "        s.async = true;\n",
       "        s.onload = () => resolve(paths[lib]);\n",
       "        s.onerror = () => reject(`Error loading script: ${paths[lib]}`);\n",
       "        document.getElementsByTagName(\"head\")[0].appendChild(s);\n",
       "      });\n",
       "    }\n",
       "\n",
       "    function showError(err) {\n",
       "      outputDiv.innerHTML = `<div class=\"error\" style=\"color:red;\">${err}</div>`;\n",
       "      throw err;\n",
       "    }\n",
       "\n",
       "    function displayChart(vegaEmbed) {\n",
       "      vegaEmbed(outputDiv, spec, embedOpt)\n",
       "        .catch(err => showError(`Javascript Error: ${err.message}<br>This usually means there's a typo in your chart specification. See the javascript console for the full traceback.`));\n",
       "    }\n",
       "\n",
       "    if(typeof define === \"function\" && define.amd) {\n",
       "      requirejs.config({paths});\n",
       "      require([\"vega-embed\"], displayChart, err => showError(`Error loading script: ${err.message}`));\n",
       "    } else if (typeof vegaEmbed === \"function\") {\n",
       "      displayChart(vegaEmbed);\n",
       "    } else {\n",
       "      loadScript(\"vega\")\n",
       "        .then(() => loadScript(\"vega-lite\"))\n",
       "        .then(() => loadScript(\"vega-embed\"))\n",
       "        .catch(showError)\n",
       "        .then(() => displayChart(vegaEmbed));\n",
       "    }\n",
       "  })({\"config\": {\"view\": {\"continuousWidth\": 400, \"continuousHeight\": 300}}, \"data\": {\"name\": \"data-2fce19ebdad20b1e9e0421e2cb96357e\"}, \"mark\": \"area\", \"encoding\": {\"x\": {\"type\": \"temporal\", \"field\": \"date of death\"}, \"y\": {\"type\": \"quantitative\", \"field\": \"deaths\"}}, \"$schema\": \"https://vega.github.io/schema/vega-lite/v4.8.1.json\", \"datasets\": {\"data-2fce19ebdad20b1e9e0421e2cb96357e\": [{\"date of death\": \"2020-02-29T00:00:00\", \"deaths\": 0}, {\"date of death\": \"2020-03-01T00:00:00\", \"deaths\": 0}, {\"date of death\": \"2020-03-02T00:00:00\", \"deaths\": 0}, {\"date of death\": \"2020-03-03T00:00:00\", \"deaths\": 0}, {\"date of death\": \"2020-03-04T00:00:00\", \"deaths\": 0}, {\"date of death\": \"2020-03-05T00:00:00\", \"deaths\": 0}, {\"date of death\": \"2020-03-06T00:00:00\", \"deaths\": 0}, {\"date of death\": \"2020-03-07T00:00:00\", \"deaths\": 0}, {\"date of death\": \"2020-03-08T00:00:00\", \"deaths\": 0}, {\"date of death\": \"2020-03-09T00:00:00\", \"deaths\": 0}, {\"date of death\": \"2020-03-10T00:00:00\", \"deaths\": 0}, {\"date of death\": \"2020-03-11T00:00:00\", \"deaths\": 0}, {\"date of death\": \"2020-03-12T00:00:00\", \"deaths\": 0}, {\"date of death\": \"2020-03-13T00:00:00\", \"deaths\": 0}, {\"date of death\": \"2020-03-14T00:00:00\", \"deaths\": 0}, {\"date of death\": \"2020-03-15T00:00:00\", \"deaths\": 1}, {\"date of death\": \"2020-03-16T00:00:00\", \"deaths\": 0}, {\"date of death\": \"2020-03-17T00:00:00\", \"deaths\": 0}, {\"date of death\": \"2020-03-18T00:00:00\", \"deaths\": 0}, {\"date of death\": \"2020-03-19T00:00:00\", \"deaths\": 1}, {\"date of death\": \"2020-03-20T00:00:00\", \"deaths\": 0}, {\"date of death\": \"2020-03-21T00:00:00\", \"deaths\": 1}, {\"date of death\": \"2020-03-22T00:00:00\", \"deaths\": 0}, {\"date of death\": \"2020-03-23T00:00:00\", \"deaths\": 0}, {\"date of death\": \"2020-03-24T00:00:00\", \"deaths\": 0}, {\"date of death\": \"2020-03-25T00:00:00\", \"deaths\": 0}, {\"date of death\": \"2020-03-26T00:00:00\", \"deaths\": 3}, {\"date of death\": \"2020-03-27T00:00:00\", \"deaths\": 2}, {\"date of death\": \"2020-03-28T00:00:00\", \"deaths\": 4}, {\"date of death\": \"2020-03-29T00:00:00\", \"deaths\": 3}, {\"date of death\": \"2020-03-30T00:00:00\", \"deaths\": 2}, {\"date of death\": \"2020-03-31T00:00:00\", \"deaths\": 1}, {\"date of death\": \"2020-04-01T00:00:00\", \"deaths\": 3}, {\"date of death\": \"2020-04-02T00:00:00\", \"deaths\": 2}, {\"date of death\": \"2020-04-03T00:00:00\", \"deaths\": 4}, {\"date of death\": \"2020-04-04T00:00:00\", \"deaths\": 5}, {\"date of death\": \"2020-04-05T00:00:00\", \"deaths\": 3}, {\"date of death\": \"2020-04-06T00:00:00\", \"deaths\": 0}, {\"date of death\": \"2020-04-07T00:00:00\", \"deaths\": 1}, {\"date of death\": \"2020-04-08T00:00:00\", \"deaths\": 2}, {\"date of death\": \"2020-04-09T00:00:00\", \"deaths\": 1}, {\"date of death\": \"2020-04-10T00:00:00\", \"deaths\": 2}, {\"date of death\": \"2020-04-11T00:00:00\", \"deaths\": 8}, {\"date of death\": \"2020-04-12T00:00:00\", \"deaths\": 3}, {\"date of death\": \"2020-04-13T00:00:00\", \"deaths\": 3}, {\"date of death\": \"2020-04-14T00:00:00\", \"deaths\": 0}, {\"date of death\": \"2020-04-15T00:00:00\", \"deaths\": 4}, {\"date of death\": \"2020-04-16T00:00:00\", \"deaths\": 2}, {\"date of death\": \"2020-04-17T00:00:00\", \"deaths\": 1}, {\"date of death\": \"2020-04-18T00:00:00\", \"deaths\": 4}, {\"date of death\": \"2020-04-19T00:00:00\", \"deaths\": 0}]}}, {\"mode\": \"vega-lite\"});\n",
       "</script>"
      ],
      "text/plain": [
       "alt.Chart(...)"
      ]
     },
     "execution_count": 28,
     "metadata": {},
     "output_type": "execute_result"
    }
   ],
   "source": [
    "chart_dodds = chart_doddbt.copy()\n",
    "chart_dodds = chart_dodds[chart_dodds.code.isin(trustcodes_shropshirestar)]\n",
    "chart_dodds = chart_dodds.groupby(['date of death'], as_index=False)['deaths'].sum()\n",
    "alt.Chart(chart_dodds).mark_area().encode(\n",
    "    x='date of death',\n",
    "    y='deaths'\n",
    ")"
   ]
  },
  {
   "cell_type": "markdown",
   "metadata": {},
   "source": [
    "### Cumulative"
   ]
  },
  {
   "cell_type": "code",
   "execution_count": 29,
   "metadata": {},
   "outputs": [
    {
     "data": {
      "text/html": [
       "\n",
       "<div id=\"altair-viz-ea6a397e87b6436f9e06bc3232935baa\"></div>\n",
       "<script type=\"text/javascript\">\n",
       "  (function(spec, embedOpt){\n",
       "    let outputDiv = document.currentScript.previousElementSibling;\n",
       "    if (outputDiv.id !== \"altair-viz-ea6a397e87b6436f9e06bc3232935baa\") {\n",
       "      outputDiv = document.getElementById(\"altair-viz-ea6a397e87b6436f9e06bc3232935baa\");\n",
       "    }\n",
       "    const paths = {\n",
       "      \"vega\": \"https://cdn.jsdelivr.net/npm//vega@5?noext\",\n",
       "      \"vega-lib\": \"https://cdn.jsdelivr.net/npm//vega-lib?noext\",\n",
       "      \"vega-lite\": \"https://cdn.jsdelivr.net/npm//vega-lite@4.8.1?noext\",\n",
       "      \"vega-embed\": \"https://cdn.jsdelivr.net/npm//vega-embed@6?noext\",\n",
       "    };\n",
       "\n",
       "    function loadScript(lib) {\n",
       "      return new Promise(function(resolve, reject) {\n",
       "        var s = document.createElement('script');\n",
       "        s.src = paths[lib];\n",
       "        s.async = true;\n",
       "        s.onload = () => resolve(paths[lib]);\n",
       "        s.onerror = () => reject(`Error loading script: ${paths[lib]}`);\n",
       "        document.getElementsByTagName(\"head\")[0].appendChild(s);\n",
       "      });\n",
       "    }\n",
       "\n",
       "    function showError(err) {\n",
       "      outputDiv.innerHTML = `<div class=\"error\" style=\"color:red;\">${err}</div>`;\n",
       "      throw err;\n",
       "    }\n",
       "\n",
       "    function displayChart(vegaEmbed) {\n",
       "      vegaEmbed(outputDiv, spec, embedOpt)\n",
       "        .catch(err => showError(`Javascript Error: ${err.message}<br>This usually means there's a typo in your chart specification. See the javascript console for the full traceback.`));\n",
       "    }\n",
       "\n",
       "    if(typeof define === \"function\" && define.amd) {\n",
       "      requirejs.config({paths});\n",
       "      require([\"vega-embed\"], displayChart, err => showError(`Error loading script: ${err.message}`));\n",
       "    } else if (typeof vegaEmbed === \"function\") {\n",
       "      displayChart(vegaEmbed);\n",
       "    } else {\n",
       "      loadScript(\"vega\")\n",
       "        .then(() => loadScript(\"vega-lite\"))\n",
       "        .then(() => loadScript(\"vega-embed\"))\n",
       "        .catch(showError)\n",
       "        .then(() => displayChart(vegaEmbed));\n",
       "    }\n",
       "  })({\"config\": {\"view\": {\"continuousWidth\": 400, \"continuousHeight\": 300}}, \"data\": {\"name\": \"data-af2fd66e383770f0dadc1d69b71aa3a8\"}, \"mark\": \"area\", \"encoding\": {\"x\": {\"type\": \"temporal\", \"field\": \"date of death\"}, \"y\": {\"type\": \"quantitative\", \"field\": \"cumulative deaths\"}}, \"$schema\": \"https://vega.github.io/schema/vega-lite/v4.8.1.json\", \"datasets\": {\"data-af2fd66e383770f0dadc1d69b71aa3a8\": [{\"date of death\": \"2020-02-29T00:00:00\", \"cumulative deaths\": 0}, {\"date of death\": \"2020-03-01T00:00:00\", \"cumulative deaths\": 0}, {\"date of death\": \"2020-03-02T00:00:00\", \"cumulative deaths\": 0}, {\"date of death\": \"2020-03-03T00:00:00\", \"cumulative deaths\": 0}, {\"date of death\": \"2020-03-04T00:00:00\", \"cumulative deaths\": 0}, {\"date of death\": \"2020-03-05T00:00:00\", \"cumulative deaths\": 0}, {\"date of death\": \"2020-03-06T00:00:00\", \"cumulative deaths\": 0}, {\"date of death\": \"2020-03-07T00:00:00\", \"cumulative deaths\": 0}, {\"date of death\": \"2020-03-08T00:00:00\", \"cumulative deaths\": 0}, {\"date of death\": \"2020-03-09T00:00:00\", \"cumulative deaths\": 0}, {\"date of death\": \"2020-03-10T00:00:00\", \"cumulative deaths\": 0}, {\"date of death\": \"2020-03-11T00:00:00\", \"cumulative deaths\": 0}, {\"date of death\": \"2020-03-12T00:00:00\", \"cumulative deaths\": 0}, {\"date of death\": \"2020-03-13T00:00:00\", \"cumulative deaths\": 0}, {\"date of death\": \"2020-03-14T00:00:00\", \"cumulative deaths\": 0}, {\"date of death\": \"2020-03-15T00:00:00\", \"cumulative deaths\": 1}, {\"date of death\": \"2020-03-16T00:00:00\", \"cumulative deaths\": 1}, {\"date of death\": \"2020-03-17T00:00:00\", \"cumulative deaths\": 1}, {\"date of death\": \"2020-03-18T00:00:00\", \"cumulative deaths\": 1}, {\"date of death\": \"2020-03-19T00:00:00\", \"cumulative deaths\": 2}, {\"date of death\": \"2020-03-20T00:00:00\", \"cumulative deaths\": 2}, {\"date of death\": \"2020-03-21T00:00:00\", \"cumulative deaths\": 3}, {\"date of death\": \"2020-03-22T00:00:00\", \"cumulative deaths\": 3}, {\"date of death\": \"2020-03-23T00:00:00\", \"cumulative deaths\": 3}, {\"date of death\": \"2020-03-24T00:00:00\", \"cumulative deaths\": 3}, {\"date of death\": \"2020-03-25T00:00:00\", \"cumulative deaths\": 3}, {\"date of death\": \"2020-03-26T00:00:00\", \"cumulative deaths\": 6}, {\"date of death\": \"2020-03-27T00:00:00\", \"cumulative deaths\": 8}, {\"date of death\": \"2020-03-28T00:00:00\", \"cumulative deaths\": 12}, {\"date of death\": \"2020-03-29T00:00:00\", \"cumulative deaths\": 15}, {\"date of death\": \"2020-03-30T00:00:00\", \"cumulative deaths\": 17}, {\"date of death\": \"2020-03-31T00:00:00\", \"cumulative deaths\": 18}, {\"date of death\": \"2020-04-01T00:00:00\", \"cumulative deaths\": 21}, {\"date of death\": \"2020-04-02T00:00:00\", \"cumulative deaths\": 23}, {\"date of death\": \"2020-04-03T00:00:00\", \"cumulative deaths\": 27}, {\"date of death\": \"2020-04-04T00:00:00\", \"cumulative deaths\": 32}, {\"date of death\": \"2020-04-05T00:00:00\", \"cumulative deaths\": 35}, {\"date of death\": \"2020-04-06T00:00:00\", \"cumulative deaths\": 35}, {\"date of death\": \"2020-04-07T00:00:00\", \"cumulative deaths\": 36}, {\"date of death\": \"2020-04-08T00:00:00\", \"cumulative deaths\": 38}, {\"date of death\": \"2020-04-09T00:00:00\", \"cumulative deaths\": 39}, {\"date of death\": \"2020-04-10T00:00:00\", \"cumulative deaths\": 41}, {\"date of death\": \"2020-04-11T00:00:00\", \"cumulative deaths\": 49}, {\"date of death\": \"2020-04-12T00:00:00\", \"cumulative deaths\": 52}, {\"date of death\": \"2020-04-13T00:00:00\", \"cumulative deaths\": 55}, {\"date of death\": \"2020-04-14T00:00:00\", \"cumulative deaths\": 55}, {\"date of death\": \"2020-04-15T00:00:00\", \"cumulative deaths\": 59}, {\"date of death\": \"2020-04-16T00:00:00\", \"cumulative deaths\": 61}, {\"date of death\": \"2020-04-17T00:00:00\", \"cumulative deaths\": 62}, {\"date of death\": \"2020-04-18T00:00:00\", \"cumulative deaths\": 66}, {\"date of death\": \"2020-04-19T00:00:00\", \"cumulative deaths\": 66}]}}, {\"mode\": \"vega-lite\"});\n",
       "</script>"
      ],
      "text/plain": [
       "alt.Chart(...)"
      ]
     },
     "execution_count": 29,
     "metadata": {},
     "output_type": "execute_result"
    }
   ],
   "source": [
    "chart_dodds = chart_doddbt.copy()\n",
    "chart_dodds = chart_dodds[chart_dodds.code.isin(trustcodes_shropshirestar)]\n",
    "chart_dodds = chart_dodds.groupby(['date of death'], as_index=False)['cumulative deaths'].sum()\n",
    "alt.Chart(chart_dodds).mark_area().encode(\n",
    "    x='date of death',\n",
    "    y='cumulative deaths'\n",
    ")"
   ]
  },
  {
   "cell_type": "markdown",
   "metadata": {},
   "source": [
    "## Deaths on date died Express & Star"
   ]
  },
  {
   "cell_type": "code",
   "execution_count": 30,
   "metadata": {},
   "outputs": [
    {
     "data": {
      "text/html": [
       "\n",
       "<div id=\"altair-viz-55a939c41b294faf8cbed0f133f04a9c\"></div>\n",
       "<script type=\"text/javascript\">\n",
       "  (function(spec, embedOpt){\n",
       "    let outputDiv = document.currentScript.previousElementSibling;\n",
       "    if (outputDiv.id !== \"altair-viz-55a939c41b294faf8cbed0f133f04a9c\") {\n",
       "      outputDiv = document.getElementById(\"altair-viz-55a939c41b294faf8cbed0f133f04a9c\");\n",
       "    }\n",
       "    const paths = {\n",
       "      \"vega\": \"https://cdn.jsdelivr.net/npm//vega@5?noext\",\n",
       "      \"vega-lib\": \"https://cdn.jsdelivr.net/npm//vega-lib?noext\",\n",
       "      \"vega-lite\": \"https://cdn.jsdelivr.net/npm//vega-lite@4.8.1?noext\",\n",
       "      \"vega-embed\": \"https://cdn.jsdelivr.net/npm//vega-embed@6?noext\",\n",
       "    };\n",
       "\n",
       "    function loadScript(lib) {\n",
       "      return new Promise(function(resolve, reject) {\n",
       "        var s = document.createElement('script');\n",
       "        s.src = paths[lib];\n",
       "        s.async = true;\n",
       "        s.onload = () => resolve(paths[lib]);\n",
       "        s.onerror = () => reject(`Error loading script: ${paths[lib]}`);\n",
       "        document.getElementsByTagName(\"head\")[0].appendChild(s);\n",
       "      });\n",
       "    }\n",
       "\n",
       "    function showError(err) {\n",
       "      outputDiv.innerHTML = `<div class=\"error\" style=\"color:red;\">${err}</div>`;\n",
       "      throw err;\n",
       "    }\n",
       "\n",
       "    function displayChart(vegaEmbed) {\n",
       "      vegaEmbed(outputDiv, spec, embedOpt)\n",
       "        .catch(err => showError(`Javascript Error: ${err.message}<br>This usually means there's a typo in your chart specification. See the javascript console for the full traceback.`));\n",
       "    }\n",
       "\n",
       "    if(typeof define === \"function\" && define.amd) {\n",
       "      requirejs.config({paths});\n",
       "      require([\"vega-embed\"], displayChart, err => showError(`Error loading script: ${err.message}`));\n",
       "    } else if (typeof vegaEmbed === \"function\") {\n",
       "      displayChart(vegaEmbed);\n",
       "    } else {\n",
       "      loadScript(\"vega\")\n",
       "        .then(() => loadScript(\"vega-lite\"))\n",
       "        .then(() => loadScript(\"vega-embed\"))\n",
       "        .catch(showError)\n",
       "        .then(() => displayChart(vegaEmbed));\n",
       "    }\n",
       "  })({\"config\": {\"view\": {\"continuousWidth\": 400, \"continuousHeight\": 300}}, \"data\": {\"name\": \"data-3ebe52bbff889d31e0ae697b74131003\"}, \"mark\": \"area\", \"encoding\": {\"x\": {\"type\": \"temporal\", \"field\": \"date of death\"}, \"y\": {\"type\": \"quantitative\", \"field\": \"deaths\"}}, \"$schema\": \"https://vega.github.io/schema/vega-lite/v4.8.1.json\", \"datasets\": {\"data-3ebe52bbff889d31e0ae697b74131003\": [{\"date of death\": \"2020-02-29T00:00:00\", \"deaths\": 1}, {\"date of death\": \"2020-03-01T00:00:00\", \"deaths\": 0}, {\"date of death\": \"2020-03-02T00:00:00\", \"deaths\": 0}, {\"date of death\": \"2020-03-03T00:00:00\", \"deaths\": 0}, {\"date of death\": \"2020-03-04T00:00:00\", \"deaths\": 0}, {\"date of death\": \"2020-03-05T00:00:00\", \"deaths\": 0}, {\"date of death\": \"2020-03-06T00:00:00\", \"deaths\": 0}, {\"date of death\": \"2020-03-07T00:00:00\", \"deaths\": 0}, {\"date of death\": \"2020-03-08T00:00:00\", \"deaths\": 3}, {\"date of death\": \"2020-03-09T00:00:00\", \"deaths\": 0}, {\"date of death\": \"2020-03-10T00:00:00\", \"deaths\": 0}, {\"date of death\": \"2020-03-11T00:00:00\", \"deaths\": 0}, {\"date of death\": \"2020-03-12T00:00:00\", \"deaths\": 4}, {\"date of death\": \"2020-03-13T00:00:00\", \"deaths\": 3}, {\"date of death\": \"2020-03-14T00:00:00\", \"deaths\": 3}, {\"date of death\": \"2020-03-15T00:00:00\", \"deaths\": 4}, {\"date of death\": \"2020-03-16T00:00:00\", \"deaths\": 10}, {\"date of death\": \"2020-03-17T00:00:00\", \"deaths\": 6}, {\"date of death\": \"2020-03-18T00:00:00\", \"deaths\": 7}, {\"date of death\": \"2020-03-19T00:00:00\", \"deaths\": 8}, {\"date of death\": \"2020-03-20T00:00:00\", \"deaths\": 17}, {\"date of death\": \"2020-03-21T00:00:00\", \"deaths\": 7}, {\"date of death\": \"2020-03-22T00:00:00\", \"deaths\": 14}, {\"date of death\": \"2020-03-23T00:00:00\", \"deaths\": 19}, {\"date of death\": \"2020-03-24T00:00:00\", \"deaths\": 18}, {\"date of death\": \"2020-03-25T00:00:00\", \"deaths\": 26}, {\"date of death\": \"2020-03-26T00:00:00\", \"deaths\": 34}, {\"date of death\": \"2020-03-27T00:00:00\", \"deaths\": 44}, {\"date of death\": \"2020-03-28T00:00:00\", \"deaths\": 50}, {\"date of death\": \"2020-03-29T00:00:00\", \"deaths\": 80}, {\"date of death\": \"2020-03-30T00:00:00\", \"deaths\": 70}, {\"date of death\": \"2020-03-31T00:00:00\", \"deaths\": 24}, {\"date of death\": \"2020-04-01T00:00:00\", \"deaths\": 72}, {\"date of death\": \"2020-04-02T00:00:00\", \"deaths\": 76}, {\"date of death\": \"2020-04-03T00:00:00\", \"deaths\": 61}, {\"date of death\": \"2020-04-04T00:00:00\", \"deaths\": 73}, {\"date of death\": \"2020-04-05T00:00:00\", \"deaths\": 73}, {\"date of death\": \"2020-04-06T00:00:00\", \"deaths\": 69}, {\"date of death\": \"2020-04-07T00:00:00\", \"deaths\": 57}, {\"date of death\": \"2020-04-08T00:00:00\", \"deaths\": 89}, {\"date of death\": \"2020-04-09T00:00:00\", \"deaths\": 58}, {\"date of death\": \"2020-04-10T00:00:00\", \"deaths\": 67}, {\"date of death\": \"2020-04-11T00:00:00\", \"deaths\": 72}, {\"date of death\": \"2020-04-12T00:00:00\", \"deaths\": 55}, {\"date of death\": \"2020-04-13T00:00:00\", \"deaths\": 55}, {\"date of death\": \"2020-04-14T00:00:00\", \"deaths\": 52}, {\"date of death\": \"2020-04-15T00:00:00\", \"deaths\": 68}, {\"date of death\": \"2020-04-16T00:00:00\", \"deaths\": 39}, {\"date of death\": \"2020-04-17T00:00:00\", \"deaths\": 48}, {\"date of death\": \"2020-04-18T00:00:00\", \"deaths\": 25}, {\"date of death\": \"2020-04-19T00:00:00\", \"deaths\": 2}]}}, {\"mode\": \"vega-lite\"});\n",
       "</script>"
      ],
      "text/plain": [
       "alt.Chart(...)"
      ]
     },
     "execution_count": 30,
     "metadata": {},
     "output_type": "execute_result"
    }
   ],
   "source": [
    "chart_dodde = chart_doddbt.copy()\n",
    "chart_dodde = chart_dodde[chart_dodde.code.isin(trustcodes_expressandstar)]\n",
    "chart_dodde = chart_dodde.groupby(['date of death'], as_index=False)['deaths'].sum()\n",
    "alt.Chart(chart_dodde).mark_area().encode(\n",
    "    x='date of death',\n",
    "    y='deaths'\n",
    ")"
   ]
  },
  {
   "cell_type": "markdown",
   "metadata": {},
   "source": [
    "### Cumulative"
   ]
  },
  {
   "cell_type": "code",
   "execution_count": 31,
   "metadata": {},
   "outputs": [
    {
     "data": {
      "text/html": [
       "\n",
       "<div id=\"altair-viz-898b5c53678f486aa415b9fc9bbda816\"></div>\n",
       "<script type=\"text/javascript\">\n",
       "  (function(spec, embedOpt){\n",
       "    let outputDiv = document.currentScript.previousElementSibling;\n",
       "    if (outputDiv.id !== \"altair-viz-898b5c53678f486aa415b9fc9bbda816\") {\n",
       "      outputDiv = document.getElementById(\"altair-viz-898b5c53678f486aa415b9fc9bbda816\");\n",
       "    }\n",
       "    const paths = {\n",
       "      \"vega\": \"https://cdn.jsdelivr.net/npm//vega@5?noext\",\n",
       "      \"vega-lib\": \"https://cdn.jsdelivr.net/npm//vega-lib?noext\",\n",
       "      \"vega-lite\": \"https://cdn.jsdelivr.net/npm//vega-lite@4.8.1?noext\",\n",
       "      \"vega-embed\": \"https://cdn.jsdelivr.net/npm//vega-embed@6?noext\",\n",
       "    };\n",
       "\n",
       "    function loadScript(lib) {\n",
       "      return new Promise(function(resolve, reject) {\n",
       "        var s = document.createElement('script');\n",
       "        s.src = paths[lib];\n",
       "        s.async = true;\n",
       "        s.onload = () => resolve(paths[lib]);\n",
       "        s.onerror = () => reject(`Error loading script: ${paths[lib]}`);\n",
       "        document.getElementsByTagName(\"head\")[0].appendChild(s);\n",
       "      });\n",
       "    }\n",
       "\n",
       "    function showError(err) {\n",
       "      outputDiv.innerHTML = `<div class=\"error\" style=\"color:red;\">${err}</div>`;\n",
       "      throw err;\n",
       "    }\n",
       "\n",
       "    function displayChart(vegaEmbed) {\n",
       "      vegaEmbed(outputDiv, spec, embedOpt)\n",
       "        .catch(err => showError(`Javascript Error: ${err.message}<br>This usually means there's a typo in your chart specification. See the javascript console for the full traceback.`));\n",
       "    }\n",
       "\n",
       "    if(typeof define === \"function\" && define.amd) {\n",
       "      requirejs.config({paths});\n",
       "      require([\"vega-embed\"], displayChart, err => showError(`Error loading script: ${err.message}`));\n",
       "    } else if (typeof vegaEmbed === \"function\") {\n",
       "      displayChart(vegaEmbed);\n",
       "    } else {\n",
       "      loadScript(\"vega\")\n",
       "        .then(() => loadScript(\"vega-lite\"))\n",
       "        .then(() => loadScript(\"vega-embed\"))\n",
       "        .catch(showError)\n",
       "        .then(() => displayChart(vegaEmbed));\n",
       "    }\n",
       "  })({\"config\": {\"view\": {\"continuousWidth\": 400, \"continuousHeight\": 300}}, \"data\": {\"name\": \"data-7d94ef2f1c56bcf243e3423cbb9735f9\"}, \"mark\": \"area\", \"encoding\": {\"x\": {\"type\": \"temporal\", \"field\": \"date of death\"}, \"y\": {\"type\": \"quantitative\", \"field\": \"cumulative deaths\"}}, \"$schema\": \"https://vega.github.io/schema/vega-lite/v4.8.1.json\", \"datasets\": {\"data-7d94ef2f1c56bcf243e3423cbb9735f9\": [{\"date of death\": \"2020-02-29T00:00:00\", \"cumulative deaths\": 1}, {\"date of death\": \"2020-03-01T00:00:00\", \"cumulative deaths\": 1}, {\"date of death\": \"2020-03-02T00:00:00\", \"cumulative deaths\": 1}, {\"date of death\": \"2020-03-03T00:00:00\", \"cumulative deaths\": 1}, {\"date of death\": \"2020-03-04T00:00:00\", \"cumulative deaths\": 1}, {\"date of death\": \"2020-03-05T00:00:00\", \"cumulative deaths\": 1}, {\"date of death\": \"2020-03-06T00:00:00\", \"cumulative deaths\": 1}, {\"date of death\": \"2020-03-07T00:00:00\", \"cumulative deaths\": 1}, {\"date of death\": \"2020-03-08T00:00:00\", \"cumulative deaths\": 4}, {\"date of death\": \"2020-03-09T00:00:00\", \"cumulative deaths\": 4}, {\"date of death\": \"2020-03-10T00:00:00\", \"cumulative deaths\": 4}, {\"date of death\": \"2020-03-11T00:00:00\", \"cumulative deaths\": 4}, {\"date of death\": \"2020-03-12T00:00:00\", \"cumulative deaths\": 8}, {\"date of death\": \"2020-03-13T00:00:00\", \"cumulative deaths\": 11}, {\"date of death\": \"2020-03-14T00:00:00\", \"cumulative deaths\": 14}, {\"date of death\": \"2020-03-15T00:00:00\", \"cumulative deaths\": 18}, {\"date of death\": \"2020-03-16T00:00:00\", \"cumulative deaths\": 28}, {\"date of death\": \"2020-03-17T00:00:00\", \"cumulative deaths\": 34}, {\"date of death\": \"2020-03-18T00:00:00\", \"cumulative deaths\": 41}, {\"date of death\": \"2020-03-19T00:00:00\", \"cumulative deaths\": 49}, {\"date of death\": \"2020-03-20T00:00:00\", \"cumulative deaths\": 66}, {\"date of death\": \"2020-03-21T00:00:00\", \"cumulative deaths\": 73}, {\"date of death\": \"2020-03-22T00:00:00\", \"cumulative deaths\": 87}, {\"date of death\": \"2020-03-23T00:00:00\", \"cumulative deaths\": 106}, {\"date of death\": \"2020-03-24T00:00:00\", \"cumulative deaths\": 124}, {\"date of death\": \"2020-03-25T00:00:00\", \"cumulative deaths\": 150}, {\"date of death\": \"2020-03-26T00:00:00\", \"cumulative deaths\": 184}, {\"date of death\": \"2020-03-27T00:00:00\", \"cumulative deaths\": 228}, {\"date of death\": \"2020-03-28T00:00:00\", \"cumulative deaths\": 278}, {\"date of death\": \"2020-03-29T00:00:00\", \"cumulative deaths\": 358}, {\"date of death\": \"2020-03-30T00:00:00\", \"cumulative deaths\": 428}, {\"date of death\": \"2020-03-31T00:00:00\", \"cumulative deaths\": 452}, {\"date of death\": \"2020-04-01T00:00:00\", \"cumulative deaths\": 524}, {\"date of death\": \"2020-04-02T00:00:00\", \"cumulative deaths\": 600}, {\"date of death\": \"2020-04-03T00:00:00\", \"cumulative deaths\": 661}, {\"date of death\": \"2020-04-04T00:00:00\", \"cumulative deaths\": 734}, {\"date of death\": \"2020-04-05T00:00:00\", \"cumulative deaths\": 807}, {\"date of death\": \"2020-04-06T00:00:00\", \"cumulative deaths\": 876}, {\"date of death\": \"2020-04-07T00:00:00\", \"cumulative deaths\": 933}, {\"date of death\": \"2020-04-08T00:00:00\", \"cumulative deaths\": 1022}, {\"date of death\": \"2020-04-09T00:00:00\", \"cumulative deaths\": 1080}, {\"date of death\": \"2020-04-10T00:00:00\", \"cumulative deaths\": 1147}, {\"date of death\": \"2020-04-11T00:00:00\", \"cumulative deaths\": 1219}, {\"date of death\": \"2020-04-12T00:00:00\", \"cumulative deaths\": 1274}, {\"date of death\": \"2020-04-13T00:00:00\", \"cumulative deaths\": 1329}, {\"date of death\": \"2020-04-14T00:00:00\", \"cumulative deaths\": 1381}, {\"date of death\": \"2020-04-15T00:00:00\", \"cumulative deaths\": 1449}, {\"date of death\": \"2020-04-16T00:00:00\", \"cumulative deaths\": 1488}, {\"date of death\": \"2020-04-17T00:00:00\", \"cumulative deaths\": 1536}, {\"date of death\": \"2020-04-18T00:00:00\", \"cumulative deaths\": 1561}, {\"date of death\": \"2020-04-19T00:00:00\", \"cumulative deaths\": 1563}]}}, {\"mode\": \"vega-lite\"});\n",
       "</script>"
      ],
      "text/plain": [
       "alt.Chart(...)"
      ]
     },
     "execution_count": 31,
     "metadata": {},
     "output_type": "execute_result"
    }
   ],
   "source": [
    "chart_dodde = chart_doddbt.copy()\n",
    "chart_dodde = chart_dodde[chart_dodde.code.isin(trustcodes_expressandstar)]\n",
    "chart_dodde = chart_dodde.groupby(['date of death'], as_index=False)['cumulative deaths'].sum()\n",
    "alt.Chart(chart_dodde).mark_area().encode(\n",
    "    x='date of death',\n",
    "    y='cumulative deaths'\n",
    ")"
   ]
  },
  {
   "cell_type": "markdown",
   "metadata": {},
   "source": [
    "## Deaths on date died MNA"
   ]
  },
  {
   "cell_type": "code",
   "execution_count": 32,
   "metadata": {},
   "outputs": [
    {
     "data": {
      "text/html": [
       "\n",
       "<div id=\"altair-viz-978bbbfbf3e84cb9a1008c7039338528\"></div>\n",
       "<script type=\"text/javascript\">\n",
       "  (function(spec, embedOpt){\n",
       "    let outputDiv = document.currentScript.previousElementSibling;\n",
       "    if (outputDiv.id !== \"altair-viz-978bbbfbf3e84cb9a1008c7039338528\") {\n",
       "      outputDiv = document.getElementById(\"altair-viz-978bbbfbf3e84cb9a1008c7039338528\");\n",
       "    }\n",
       "    const paths = {\n",
       "      \"vega\": \"https://cdn.jsdelivr.net/npm//vega@5?noext\",\n",
       "      \"vega-lib\": \"https://cdn.jsdelivr.net/npm//vega-lib?noext\",\n",
       "      \"vega-lite\": \"https://cdn.jsdelivr.net/npm//vega-lite@4.8.1?noext\",\n",
       "      \"vega-embed\": \"https://cdn.jsdelivr.net/npm//vega-embed@6?noext\",\n",
       "    };\n",
       "\n",
       "    function loadScript(lib) {\n",
       "      return new Promise(function(resolve, reject) {\n",
       "        var s = document.createElement('script');\n",
       "        s.src = paths[lib];\n",
       "        s.async = true;\n",
       "        s.onload = () => resolve(paths[lib]);\n",
       "        s.onerror = () => reject(`Error loading script: ${paths[lib]}`);\n",
       "        document.getElementsByTagName(\"head\")[0].appendChild(s);\n",
       "      });\n",
       "    }\n",
       "\n",
       "    function showError(err) {\n",
       "      outputDiv.innerHTML = `<div class=\"error\" style=\"color:red;\">${err}</div>`;\n",
       "      throw err;\n",
       "    }\n",
       "\n",
       "    function displayChart(vegaEmbed) {\n",
       "      vegaEmbed(outputDiv, spec, embedOpt)\n",
       "        .catch(err => showError(`Javascript Error: ${err.message}<br>This usually means there's a typo in your chart specification. See the javascript console for the full traceback.`));\n",
       "    }\n",
       "\n",
       "    if(typeof define === \"function\" && define.amd) {\n",
       "      requirejs.config({paths});\n",
       "      require([\"vega-embed\"], displayChart, err => showError(`Error loading script: ${err.message}`));\n",
       "    } else if (typeof vegaEmbed === \"function\") {\n",
       "      displayChart(vegaEmbed);\n",
       "    } else {\n",
       "      loadScript(\"vega\")\n",
       "        .then(() => loadScript(\"vega-lite\"))\n",
       "        .then(() => loadScript(\"vega-embed\"))\n",
       "        .catch(showError)\n",
       "        .then(() => displayChart(vegaEmbed));\n",
       "    }\n",
       "  })({\"config\": {\"view\": {\"continuousWidth\": 400, \"continuousHeight\": 300}}, \"data\": {\"name\": \"data-3ebe52bbff889d31e0ae697b74131003\"}, \"mark\": \"area\", \"encoding\": {\"x\": {\"type\": \"temporal\", \"field\": \"date of death\"}, \"y\": {\"type\": \"quantitative\", \"field\": \"deaths\"}}, \"$schema\": \"https://vega.github.io/schema/vega-lite/v4.8.1.json\", \"datasets\": {\"data-3ebe52bbff889d31e0ae697b74131003\": [{\"date of death\": \"2020-02-29T00:00:00\", \"deaths\": 1}, {\"date of death\": \"2020-03-01T00:00:00\", \"deaths\": 0}, {\"date of death\": \"2020-03-02T00:00:00\", \"deaths\": 0}, {\"date of death\": \"2020-03-03T00:00:00\", \"deaths\": 0}, {\"date of death\": \"2020-03-04T00:00:00\", \"deaths\": 0}, {\"date of death\": \"2020-03-05T00:00:00\", \"deaths\": 0}, {\"date of death\": \"2020-03-06T00:00:00\", \"deaths\": 0}, {\"date of death\": \"2020-03-07T00:00:00\", \"deaths\": 0}, {\"date of death\": \"2020-03-08T00:00:00\", \"deaths\": 3}, {\"date of death\": \"2020-03-09T00:00:00\", \"deaths\": 0}, {\"date of death\": \"2020-03-10T00:00:00\", \"deaths\": 0}, {\"date of death\": \"2020-03-11T00:00:00\", \"deaths\": 0}, {\"date of death\": \"2020-03-12T00:00:00\", \"deaths\": 4}, {\"date of death\": \"2020-03-13T00:00:00\", \"deaths\": 3}, {\"date of death\": \"2020-03-14T00:00:00\", \"deaths\": 3}, {\"date of death\": \"2020-03-15T00:00:00\", \"deaths\": 4}, {\"date of death\": \"2020-03-16T00:00:00\", \"deaths\": 10}, {\"date of death\": \"2020-03-17T00:00:00\", \"deaths\": 6}, {\"date of death\": \"2020-03-18T00:00:00\", \"deaths\": 7}, {\"date of death\": \"2020-03-19T00:00:00\", \"deaths\": 8}, {\"date of death\": \"2020-03-20T00:00:00\", \"deaths\": 17}, {\"date of death\": \"2020-03-21T00:00:00\", \"deaths\": 7}, {\"date of death\": \"2020-03-22T00:00:00\", \"deaths\": 14}, {\"date of death\": \"2020-03-23T00:00:00\", \"deaths\": 19}, {\"date of death\": \"2020-03-24T00:00:00\", \"deaths\": 18}, {\"date of death\": \"2020-03-25T00:00:00\", \"deaths\": 26}, {\"date of death\": \"2020-03-26T00:00:00\", \"deaths\": 34}, {\"date of death\": \"2020-03-27T00:00:00\", \"deaths\": 44}, {\"date of death\": \"2020-03-28T00:00:00\", \"deaths\": 50}, {\"date of death\": \"2020-03-29T00:00:00\", \"deaths\": 80}, {\"date of death\": \"2020-03-30T00:00:00\", \"deaths\": 70}, {\"date of death\": \"2020-03-31T00:00:00\", \"deaths\": 24}, {\"date of death\": \"2020-04-01T00:00:00\", \"deaths\": 72}, {\"date of death\": \"2020-04-02T00:00:00\", \"deaths\": 76}, {\"date of death\": \"2020-04-03T00:00:00\", \"deaths\": 61}, {\"date of death\": \"2020-04-04T00:00:00\", \"deaths\": 73}, {\"date of death\": \"2020-04-05T00:00:00\", \"deaths\": 73}, {\"date of death\": \"2020-04-06T00:00:00\", \"deaths\": 69}, {\"date of death\": \"2020-04-07T00:00:00\", \"deaths\": 57}, {\"date of death\": \"2020-04-08T00:00:00\", \"deaths\": 89}, {\"date of death\": \"2020-04-09T00:00:00\", \"deaths\": 58}, {\"date of death\": \"2020-04-10T00:00:00\", \"deaths\": 67}, {\"date of death\": \"2020-04-11T00:00:00\", \"deaths\": 72}, {\"date of death\": \"2020-04-12T00:00:00\", \"deaths\": 55}, {\"date of death\": \"2020-04-13T00:00:00\", \"deaths\": 55}, {\"date of death\": \"2020-04-14T00:00:00\", \"deaths\": 52}, {\"date of death\": \"2020-04-15T00:00:00\", \"deaths\": 68}, {\"date of death\": \"2020-04-16T00:00:00\", \"deaths\": 39}, {\"date of death\": \"2020-04-17T00:00:00\", \"deaths\": 48}, {\"date of death\": \"2020-04-18T00:00:00\", \"deaths\": 25}, {\"date of death\": \"2020-04-19T00:00:00\", \"deaths\": 2}]}}, {\"mode\": \"vega-lite\"});\n",
       "</script>"
      ],
      "text/plain": [
       "alt.Chart(...)"
      ]
     },
     "execution_count": 32,
     "metadata": {},
     "output_type": "execute_result"
    }
   ],
   "source": [
    "chart_doddmna = chart_doddbt.copy()\n",
    "chart_doddmna = chart_doddmna[chart_doddmna.code.isin(trustcodes_mna)]\n",
    "chart_doddmna = chart_doddmna.groupby(['date of death'], as_index=False)['deaths'].sum()\n",
    "alt.Chart(chart_doddmna).mark_area().encode(\n",
    "    x='date of death',\n",
    "    y='deaths'\n",
    ")"
   ]
  },
  {
   "cell_type": "code",
   "execution_count": 33,
   "metadata": {},
   "outputs": [
    {
     "data": {
      "text/html": [
       "\n",
       "<div id=\"altair-viz-364a9b184fbf450a9be00b510fc97aa3\"></div>\n",
       "<script type=\"text/javascript\">\n",
       "  (function(spec, embedOpt){\n",
       "    let outputDiv = document.currentScript.previousElementSibling;\n",
       "    if (outputDiv.id !== \"altair-viz-364a9b184fbf450a9be00b510fc97aa3\") {\n",
       "      outputDiv = document.getElementById(\"altair-viz-364a9b184fbf450a9be00b510fc97aa3\");\n",
       "    }\n",
       "    const paths = {\n",
       "      \"vega\": \"https://cdn.jsdelivr.net/npm//vega@5?noext\",\n",
       "      \"vega-lib\": \"https://cdn.jsdelivr.net/npm//vega-lib?noext\",\n",
       "      \"vega-lite\": \"https://cdn.jsdelivr.net/npm//vega-lite@4.8.1?noext\",\n",
       "      \"vega-embed\": \"https://cdn.jsdelivr.net/npm//vega-embed@6?noext\",\n",
       "    };\n",
       "\n",
       "    function loadScript(lib) {\n",
       "      return new Promise(function(resolve, reject) {\n",
       "        var s = document.createElement('script');\n",
       "        s.src = paths[lib];\n",
       "        s.async = true;\n",
       "        s.onload = () => resolve(paths[lib]);\n",
       "        s.onerror = () => reject(`Error loading script: ${paths[lib]}`);\n",
       "        document.getElementsByTagName(\"head\")[0].appendChild(s);\n",
       "      });\n",
       "    }\n",
       "\n",
       "    function showError(err) {\n",
       "      outputDiv.innerHTML = `<div class=\"error\" style=\"color:red;\">${err}</div>`;\n",
       "      throw err;\n",
       "    }\n",
       "\n",
       "    function displayChart(vegaEmbed) {\n",
       "      vegaEmbed(outputDiv, spec, embedOpt)\n",
       "        .catch(err => showError(`Javascript Error: ${err.message}<br>This usually means there's a typo in your chart specification. See the javascript console for the full traceback.`));\n",
       "    }\n",
       "\n",
       "    if(typeof define === \"function\" && define.amd) {\n",
       "      requirejs.config({paths});\n",
       "      require([\"vega-embed\"], displayChart, err => showError(`Error loading script: ${err.message}`));\n",
       "    } else if (typeof vegaEmbed === \"function\") {\n",
       "      displayChart(vegaEmbed);\n",
       "    } else {\n",
       "      loadScript(\"vega\")\n",
       "        .then(() => loadScript(\"vega-lite\"))\n",
       "        .then(() => loadScript(\"vega-embed\"))\n",
       "        .catch(showError)\n",
       "        .then(() => displayChart(vegaEmbed));\n",
       "    }\n",
       "  })({\"config\": {\"view\": {\"continuousWidth\": 400, \"continuousHeight\": 300}}, \"data\": {\"name\": \"data-7d94ef2f1c56bcf243e3423cbb9735f9\"}, \"mark\": \"area\", \"encoding\": {\"x\": {\"type\": \"temporal\", \"field\": \"date of death\"}, \"y\": {\"type\": \"quantitative\", \"field\": \"cumulative deaths\"}}, \"$schema\": \"https://vega.github.io/schema/vega-lite/v4.8.1.json\", \"datasets\": {\"data-7d94ef2f1c56bcf243e3423cbb9735f9\": [{\"date of death\": \"2020-02-29T00:00:00\", \"cumulative deaths\": 1}, {\"date of death\": \"2020-03-01T00:00:00\", \"cumulative deaths\": 1}, {\"date of death\": \"2020-03-02T00:00:00\", \"cumulative deaths\": 1}, {\"date of death\": \"2020-03-03T00:00:00\", \"cumulative deaths\": 1}, {\"date of death\": \"2020-03-04T00:00:00\", \"cumulative deaths\": 1}, {\"date of death\": \"2020-03-05T00:00:00\", \"cumulative deaths\": 1}, {\"date of death\": \"2020-03-06T00:00:00\", \"cumulative deaths\": 1}, {\"date of death\": \"2020-03-07T00:00:00\", \"cumulative deaths\": 1}, {\"date of death\": \"2020-03-08T00:00:00\", \"cumulative deaths\": 4}, {\"date of death\": \"2020-03-09T00:00:00\", \"cumulative deaths\": 4}, {\"date of death\": \"2020-03-10T00:00:00\", \"cumulative deaths\": 4}, {\"date of death\": \"2020-03-11T00:00:00\", \"cumulative deaths\": 4}, {\"date of death\": \"2020-03-12T00:00:00\", \"cumulative deaths\": 8}, {\"date of death\": \"2020-03-13T00:00:00\", \"cumulative deaths\": 11}, {\"date of death\": \"2020-03-14T00:00:00\", \"cumulative deaths\": 14}, {\"date of death\": \"2020-03-15T00:00:00\", \"cumulative deaths\": 18}, {\"date of death\": \"2020-03-16T00:00:00\", \"cumulative deaths\": 28}, {\"date of death\": \"2020-03-17T00:00:00\", \"cumulative deaths\": 34}, {\"date of death\": \"2020-03-18T00:00:00\", \"cumulative deaths\": 41}, {\"date of death\": \"2020-03-19T00:00:00\", \"cumulative deaths\": 49}, {\"date of death\": \"2020-03-20T00:00:00\", \"cumulative deaths\": 66}, {\"date of death\": \"2020-03-21T00:00:00\", \"cumulative deaths\": 73}, {\"date of death\": \"2020-03-22T00:00:00\", \"cumulative deaths\": 87}, {\"date of death\": \"2020-03-23T00:00:00\", \"cumulative deaths\": 106}, {\"date of death\": \"2020-03-24T00:00:00\", \"cumulative deaths\": 124}, {\"date of death\": \"2020-03-25T00:00:00\", \"cumulative deaths\": 150}, {\"date of death\": \"2020-03-26T00:00:00\", \"cumulative deaths\": 184}, {\"date of death\": \"2020-03-27T00:00:00\", \"cumulative deaths\": 228}, {\"date of death\": \"2020-03-28T00:00:00\", \"cumulative deaths\": 278}, {\"date of death\": \"2020-03-29T00:00:00\", \"cumulative deaths\": 358}, {\"date of death\": \"2020-03-30T00:00:00\", \"cumulative deaths\": 428}, {\"date of death\": \"2020-03-31T00:00:00\", \"cumulative deaths\": 452}, {\"date of death\": \"2020-04-01T00:00:00\", \"cumulative deaths\": 524}, {\"date of death\": \"2020-04-02T00:00:00\", \"cumulative deaths\": 600}, {\"date of death\": \"2020-04-03T00:00:00\", \"cumulative deaths\": 661}, {\"date of death\": \"2020-04-04T00:00:00\", \"cumulative deaths\": 734}, {\"date of death\": \"2020-04-05T00:00:00\", \"cumulative deaths\": 807}, {\"date of death\": \"2020-04-06T00:00:00\", \"cumulative deaths\": 876}, {\"date of death\": \"2020-04-07T00:00:00\", \"cumulative deaths\": 933}, {\"date of death\": \"2020-04-08T00:00:00\", \"cumulative deaths\": 1022}, {\"date of death\": \"2020-04-09T00:00:00\", \"cumulative deaths\": 1080}, {\"date of death\": \"2020-04-10T00:00:00\", \"cumulative deaths\": 1147}, {\"date of death\": \"2020-04-11T00:00:00\", \"cumulative deaths\": 1219}, {\"date of death\": \"2020-04-12T00:00:00\", \"cumulative deaths\": 1274}, {\"date of death\": \"2020-04-13T00:00:00\", \"cumulative deaths\": 1329}, {\"date of death\": \"2020-04-14T00:00:00\", \"cumulative deaths\": 1381}, {\"date of death\": \"2020-04-15T00:00:00\", \"cumulative deaths\": 1449}, {\"date of death\": \"2020-04-16T00:00:00\", \"cumulative deaths\": 1488}, {\"date of death\": \"2020-04-17T00:00:00\", \"cumulative deaths\": 1536}, {\"date of death\": \"2020-04-18T00:00:00\", \"cumulative deaths\": 1561}, {\"date of death\": \"2020-04-19T00:00:00\", \"cumulative deaths\": 1563}]}}, {\"mode\": \"vega-lite\"});\n",
       "</script>"
      ],
      "text/plain": [
       "alt.Chart(...)"
      ]
     },
     "execution_count": 33,
     "metadata": {},
     "output_type": "execute_result"
    }
   ],
   "source": [
    "chart_doddmna = chart_doddbt.copy()\n",
    "chart_doddmna = chart_doddmna[chart_doddmna.code.isin(trustcodes_mna)]\n",
    "chart_doddmna = chart_doddmna.groupby(['date of death'], as_index=False)['cumulative deaths'].sum()\n",
    "alt.Chart(chart_doddmna).mark_area().encode(\n",
    "    x='date of death',\n",
    "    y='cumulative deaths'\n",
    ")"
   ]
  },
  {
   "cell_type": "code",
   "execution_count": null,
   "metadata": {},
   "outputs": [],
   "source": []
  }
 ],
 "metadata": {
  "kernelspec": {
   "display_name": "Python 3",
   "language": "python",
   "name": "python3"
  },
  "language_info": {
   "codemirror_mode": {
    "name": "ipython",
    "version": 3
   },
   "file_extension": ".py",
   "mimetype": "text/x-python",
   "name": "python",
   "nbconvert_exporter": "python",
   "pygments_lexer": "ipython3",
   "version": "3.8.2"
  }
 },
 "nbformat": 4,
 "nbformat_minor": 4
}
