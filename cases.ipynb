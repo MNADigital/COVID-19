{
 "cells": [
  {
   "cell_type": "code",
   "execution_count": 114,
   "metadata": {},
   "outputs": [],
   "source": [
    "import pandas as pd\n",
    "import untangle # xml\n",
    "import requests # json\n",
    "import re # regular expressions"
   ]
  },
  {
   "cell_type": "code",
   "execution_count": 115,
   "metadata": {},
   "outputs": [],
   "source": [
    "# Configuration\n",
    "our_utla_codes = [\n",
    "    'E08000025', # Birmingham\n",
    "    'E08000027', # Dudley\n",
    "    'E08000028', # Sandwell\n",
    "    'E06000051', # Shropshire\n",
    "    'E10000028', # Staffordshire\n",
    "    'E06000021', # Stoke-on-Trent\n",
    "    'E06000020', # Telford and Wrekin\n",
    "    'E08000030', # Walsall\n",
    "    'E08000031', # Wolverhampton\n",
    "    'E10000034', # Worcestershire\n",
    "]"
   ]
  },
  {
   "cell_type": "code",
   "execution_count": 116,
   "metadata": {},
   "outputs": [],
   "source": [
    "xml = untangle.parse('https://publicdashacc.blob.core.windows.net/publicdata?restype=container&comp=list')"
   ]
  },
  {
   "cell_type": "code",
   "execution_count": 117,
   "metadata": {},
   "outputs": [
    {
     "data": {
      "text/plain": [
       "Element(name = None, attributes = None, cdata = )"
      ]
     },
     "execution_count": 117,
     "metadata": {},
     "output_type": "execute_result"
    }
   ],
   "source": [
    "xml"
   ]
  },
  {
   "cell_type": "code",
   "execution_count": 118,
   "metadata": {},
   "outputs": [],
   "source": [
    "blobs = xml.EnumerationResults.Blobs.Blob"
   ]
  },
  {
   "cell_type": "code",
   "execution_count": 119,
   "metadata": {},
   "outputs": [
    {
     "name": "stdout",
     "output_type": "stream",
     "text": [
      "countries.geojson\n",
      "data_20200409.json\n",
      "data_202004091537.json\n",
      "data_202004101527.json\n",
      "data_202004111452.json\n",
      "data_202004121411.json\n",
      "data_202004131413.json\n",
      "data_202004141435.json\n",
      "data_202004141544.json\n",
      "data_202004151454.json\n",
      "data_202004161444.json\n",
      "regions.geojson\n",
      "utlas.geojson\n"
     ]
    }
   ],
   "source": [
    "for blob in blobs:\n",
    "    print(blob.Name.cdata)"
   ]
  },
  {
   "cell_type": "code",
   "execution_count": 120,
   "metadata": {},
   "outputs": [
    {
     "name": "stdout",
     "output_type": "stream",
     "text": [
      "data_202004161444.json\n"
     ]
    }
   ],
   "source": [
    "jsons = sorted(\n",
    "    list(\n",
    "        filter(\n",
    "            lambda b: re.search('^data_[0-9]+.json$',b),\n",
    "            map(\n",
    "                lambda b: b.Name.cdata,\n",
    "                blobs\n",
    "            )\n",
    "        )\n",
    "    )\n",
    ")\n",
    "\n",
    "latest_json = jsons[-1]\n",
    "print(latest_json)"
   ]
  },
  {
   "cell_type": "code",
   "execution_count": 121,
   "metadata": {},
   "outputs": [
    {
     "name": "stdout",
     "output_type": "stream",
     "text": [
      "https://c19pub.azureedge.net/data_202004161444.json\n"
     ]
    }
   ],
   "source": [
    "host = 'https://c19pub.azureedge.net/'\n",
    "latest_json_url = host + latest_json\n",
    "print(latest_json_url)"
   ]
  },
  {
   "cell_type": "code",
   "execution_count": 122,
   "metadata": {},
   "outputs": [],
   "source": [
    "json = requests.get(latest_json_url).json()"
   ]
  },
  {
   "cell_type": "code",
   "execution_count": 169,
   "metadata": {},
   "outputs": [],
   "source": [
    "new_data = []\n",
    "for (code, data) in json['utlas'].items():\n",
    "    if code in our_utla_codes:\n",
    "        for day in data['dailyConfirmedCases']:\n",
    "            new_data.append([\n",
    "                code,\n",
    "                data['name']['value'],\n",
    "                day['date'],\n",
    "                day['value']\n",
    "            ])\n",
    "df = pd.DataFrame(data=new_data, columns=['code','name','date','value'])"
   ]
  },
  {
   "cell_type": "code",
   "execution_count": 170,
   "metadata": {},
   "outputs": [
    {
     "data": {
      "text/html": [
       "<div>\n",
       "<style scoped>\n",
       "    .dataframe tbody tr th:only-of-type {\n",
       "        vertical-align: middle;\n",
       "    }\n",
       "\n",
       "    .dataframe tbody tr th {\n",
       "        vertical-align: top;\n",
       "    }\n",
       "\n",
       "    .dataframe thead th {\n",
       "        text-align: right;\n",
       "    }\n",
       "</style>\n",
       "<table border=\"1\" class=\"dataframe\">\n",
       "  <thead>\n",
       "    <tr style=\"text-align: right;\">\n",
       "      <th></th>\n",
       "      <th>code</th>\n",
       "      <th>name</th>\n",
       "      <th>date</th>\n",
       "      <th>value</th>\n",
       "    </tr>\n",
       "  </thead>\n",
       "  <tbody>\n",
       "    <tr>\n",
       "      <th>0</th>\n",
       "      <td>E08000025</td>\n",
       "      <td>Birmingham</td>\n",
       "      <td>2020-03-01</td>\n",
       "      <td>1</td>\n",
       "    </tr>\n",
       "    <tr>\n",
       "      <th>1</th>\n",
       "      <td>E08000025</td>\n",
       "      <td>Birmingham</td>\n",
       "      <td>2020-03-02</td>\n",
       "      <td>1</td>\n",
       "    </tr>\n",
       "    <tr>\n",
       "      <th>2</th>\n",
       "      <td>E08000025</td>\n",
       "      <td>Birmingham</td>\n",
       "      <td>2020-03-05</td>\n",
       "      <td>1</td>\n",
       "    </tr>\n",
       "    <tr>\n",
       "      <th>3</th>\n",
       "      <td>E08000025</td>\n",
       "      <td>Birmingham</td>\n",
       "      <td>2020-03-08</td>\n",
       "      <td>1</td>\n",
       "    </tr>\n",
       "    <tr>\n",
       "      <th>4</th>\n",
       "      <td>E08000025</td>\n",
       "      <td>Birmingham</td>\n",
       "      <td>2020-03-09</td>\n",
       "      <td>1</td>\n",
       "    </tr>\n",
       "    <tr>\n",
       "      <th>...</th>\n",
       "      <td>...</td>\n",
       "      <td>...</td>\n",
       "      <td>...</td>\n",
       "      <td>...</td>\n",
       "    </tr>\n",
       "    <tr>\n",
       "      <th>368</th>\n",
       "      <td>E10000034</td>\n",
       "      <td>Worcestershire</td>\n",
       "      <td>2020-04-11</td>\n",
       "      <td>37</td>\n",
       "    </tr>\n",
       "    <tr>\n",
       "      <th>369</th>\n",
       "      <td>E10000034</td>\n",
       "      <td>Worcestershire</td>\n",
       "      <td>2020-04-12</td>\n",
       "      <td>22</td>\n",
       "    </tr>\n",
       "    <tr>\n",
       "      <th>370</th>\n",
       "      <td>E10000034</td>\n",
       "      <td>Worcestershire</td>\n",
       "      <td>2020-04-13</td>\n",
       "      <td>7</td>\n",
       "    </tr>\n",
       "    <tr>\n",
       "      <th>371</th>\n",
       "      <td>E10000034</td>\n",
       "      <td>Worcestershire</td>\n",
       "      <td>2020-04-14</td>\n",
       "      <td>1</td>\n",
       "    </tr>\n",
       "    <tr>\n",
       "      <th>372</th>\n",
       "      <td>E10000034</td>\n",
       "      <td>Worcestershire</td>\n",
       "      <td>2020-04-15</td>\n",
       "      <td>0</td>\n",
       "    </tr>\n",
       "  </tbody>\n",
       "</table>\n",
       "<p>373 rows × 4 columns</p>\n",
       "</div>"
      ],
      "text/plain": [
       "          code            name        date  value\n",
       "0    E08000025      Birmingham  2020-03-01      1\n",
       "1    E08000025      Birmingham  2020-03-02      1\n",
       "2    E08000025      Birmingham  2020-03-05      1\n",
       "3    E08000025      Birmingham  2020-03-08      1\n",
       "4    E08000025      Birmingham  2020-03-09      1\n",
       "..         ...             ...         ...    ...\n",
       "368  E10000034  Worcestershire  2020-04-11     37\n",
       "369  E10000034  Worcestershire  2020-04-12     22\n",
       "370  E10000034  Worcestershire  2020-04-13      7\n",
       "371  E10000034  Worcestershire  2020-04-14      1\n",
       "372  E10000034  Worcestershire  2020-04-15      0\n",
       "\n",
       "[373 rows x 4 columns]"
      ]
     },
     "execution_count": 170,
     "metadata": {},
     "output_type": "execute_result"
    }
   ],
   "source": [
    "df"
   ]
  },
  {
   "cell_type": "code",
   "execution_count": null,
   "metadata": {},
   "outputs": [],
   "source": []
  }
 ],
 "metadata": {
  "kernelspec": {
   "display_name": "Python 3",
   "language": "python",
   "name": "python3"
  },
  "language_info": {
   "codemirror_mode": {
    "name": "ipython",
    "version": 3
   },
   "file_extension": ".py",
   "mimetype": "text/x-python",
   "name": "python",
   "nbconvert_exporter": "python",
   "pygments_lexer": "ipython3",
   "version": "3.8.2"
  }
 },
 "nbformat": 4,
 "nbformat_minor": 4
}
