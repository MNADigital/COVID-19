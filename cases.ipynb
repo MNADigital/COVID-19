{
 "cells": [
  {
   "cell_type": "code",
   "execution_count": 19,
   "metadata": {},
   "outputs": [],
   "source": [
    "import pandas as pd\n",
    "from datetime import date, timedelta\n",
    "import urllib\n",
    "import numpy as np\n",
    "import altair as alt\n",
    "from functools import reduce\n",
    "import untangle\n",
    "import json"
   ]
  },
  {
   "cell_type": "code",
   "execution_count": 3,
   "metadata": {},
   "outputs": [],
   "source": [
    "xml = untangle.parse('https://publicdashacc.blob.core.windows.net/publicdata?restype=container&comp=list')"
   ]
  },
  {
   "cell_type": "code",
   "execution_count": 4,
   "metadata": {},
   "outputs": [
    {
     "data": {
      "text/plain": [
       "Element(name = None, attributes = None, cdata = )"
      ]
     },
     "execution_count": 4,
     "metadata": {},
     "output_type": "execute_result"
    }
   ],
   "source": [
    "xml"
   ]
  },
  {
   "cell_type": "code",
   "execution_count": 5,
   "metadata": {},
   "outputs": [],
   "source": [
    "blobs = xml.EnumerationResults.Blobs.Blob"
   ]
  },
  {
   "cell_type": "code",
   "execution_count": 6,
   "metadata": {},
   "outputs": [
    {
     "name": "stdout",
     "output_type": "stream",
     "text": [
      "countries.geojson\n",
      "data_20200409.json\n",
      "data_202004091537.json\n",
      "data_202004101527.json\n",
      "data_202004111452.json\n",
      "data_202004121411.json\n",
      "data_202004131413.json\n",
      "data_202004141435.json\n",
      "data_202004141544.json\n",
      "data_202004151454.json\n",
      "data_202004161444.json\n",
      "regions.geojson\n",
      "utlas.geojson\n"
     ]
    }
   ],
   "source": [
    "for blob in blobs:\n",
    "    print(blob.Name.cdata)"
   ]
  },
  {
   "cell_type": "code",
   "execution_count": 7,
   "metadata": {},
   "outputs": [
    {
     "name": "stdout",
     "output_type": "stream",
     "text": [
      "data_202004161444.json\n"
     ]
    }
   ],
   "source": [
    "jsons = sorted(\n",
    "    list(\n",
    "        filter(\n",
    "            lambda b: b.endswith('.json'),\n",
    "            map(\n",
    "                lambda b: b.Name.cdata,\n",
    "                blobs\n",
    "            )\n",
    "        )\n",
    "    )\n",
    ")\n",
    "\n",
    "latest_json = jsons[-1]\n",
    "print(latest_json)"
   ]
  },
  {
   "cell_type": "code",
   "execution_count": 8,
   "metadata": {},
   "outputs": [
    {
     "name": "stdout",
     "output_type": "stream",
     "text": [
      "https://c19pub.azureedge.net/data_202004161444.json\n"
     ]
    }
   ],
   "source": [
    "host = 'https://c19pub.azureedge.net/'\n",
    "latest_json_url = host + latest_json\n",
    "print(latest_json_url)"
   ]
  },
  {
   "cell_type": "code",
   "execution_count": 16,
   "metadata": {},
   "outputs": [
    {
     "data": {
      "text/html": [
       "<div>\n",
       "<style scoped>\n",
       "    .dataframe tbody tr th:only-of-type {\n",
       "        vertical-align: middle;\n",
       "    }\n",
       "\n",
       "    .dataframe tbody tr th {\n",
       "        vertical-align: top;\n",
       "    }\n",
       "\n",
       "    .dataframe thead th {\n",
       "        text-align: right;\n",
       "    }\n",
       "</style>\n",
       "<table border=\"1\" class=\"dataframe\">\n",
       "  <thead>\n",
       "    <tr style=\"text-align: right;\">\n",
       "      <th></th>\n",
       "      <th>lastUpdatedAt</th>\n",
       "      <th>disclaimer</th>\n",
       "      <th>overview</th>\n",
       "      <th>countries</th>\n",
       "      <th>regions</th>\n",
       "      <th>utlas</th>\n",
       "    </tr>\n",
       "  </thead>\n",
       "  <tbody>\n",
       "    <tr>\n",
       "      <th>K02000001</th>\n",
       "      <td>2020-04-16T14:44:18.371573Z</td>\n",
       "      <td>Case counts for England and subnational areas ...</td>\n",
       "      <td>{'name': {'value': 'United Kingdom'}, 'totalCa...</td>\n",
       "      <td>NaN</td>\n",
       "      <td>NaN</td>\n",
       "      <td>NaN</td>\n",
       "    </tr>\n",
       "    <tr>\n",
       "      <th>E92000001</th>\n",
       "      <td>2020-04-16T14:44:18.371573Z</td>\n",
       "      <td>Case counts for England and subnational areas ...</td>\n",
       "      <td>NaN</td>\n",
       "      <td>{'name': {'value': 'England'}, 'totalCases': {...</td>\n",
       "      <td>NaN</td>\n",
       "      <td>NaN</td>\n",
       "    </tr>\n",
       "    <tr>\n",
       "      <th>S92000003</th>\n",
       "      <td>2020-04-16T14:44:18.371573Z</td>\n",
       "      <td>Case counts for England and subnational areas ...</td>\n",
       "      <td>NaN</td>\n",
       "      <td>{'name': {'value': 'Scotland'}, 'totalCases': ...</td>\n",
       "      <td>NaN</td>\n",
       "      <td>NaN</td>\n",
       "    </tr>\n",
       "    <tr>\n",
       "      <th>N92000002</th>\n",
       "      <td>2020-04-16T14:44:18.371573Z</td>\n",
       "      <td>Case counts for England and subnational areas ...</td>\n",
       "      <td>NaN</td>\n",
       "      <td>{'name': {'value': 'Northern Ireland'}, 'total...</td>\n",
       "      <td>NaN</td>\n",
       "      <td>NaN</td>\n",
       "    </tr>\n",
       "    <tr>\n",
       "      <th>W92000004</th>\n",
       "      <td>2020-04-16T14:44:18.371573Z</td>\n",
       "      <td>Case counts for England and subnational areas ...</td>\n",
       "      <td>NaN</td>\n",
       "      <td>{'name': {'value': 'Wales'}, 'totalCases': {'v...</td>\n",
       "      <td>NaN</td>\n",
       "      <td>NaN</td>\n",
       "    </tr>\n",
       "    <tr>\n",
       "      <th>...</th>\n",
       "      <td>...</td>\n",
       "      <td>...</td>\n",
       "      <td>...</td>\n",
       "      <td>...</td>\n",
       "      <td>...</td>\n",
       "      <td>...</td>\n",
       "    </tr>\n",
       "    <tr>\n",
       "      <th>E08000015</th>\n",
       "      <td>2020-04-16T14:44:18.371573Z</td>\n",
       "      <td>Case counts for England and subnational areas ...</td>\n",
       "      <td>NaN</td>\n",
       "      <td>NaN</td>\n",
       "      <td>NaN</td>\n",
       "      <td>{'name': {'value': 'Wirral'}, 'totalCases': {'...</td>\n",
       "    </tr>\n",
       "    <tr>\n",
       "      <th>E06000041</th>\n",
       "      <td>2020-04-16T14:44:18.371573Z</td>\n",
       "      <td>Case counts for England and subnational areas ...</td>\n",
       "      <td>NaN</td>\n",
       "      <td>NaN</td>\n",
       "      <td>NaN</td>\n",
       "      <td>{'name': {'value': 'Wokingham'}, 'totalCases':...</td>\n",
       "    </tr>\n",
       "    <tr>\n",
       "      <th>E08000031</th>\n",
       "      <td>2020-04-16T14:44:18.371573Z</td>\n",
       "      <td>Case counts for England and subnational areas ...</td>\n",
       "      <td>NaN</td>\n",
       "      <td>NaN</td>\n",
       "      <td>NaN</td>\n",
       "      <td>{'name': {'value': 'Wolverhampton'}, 'totalCas...</td>\n",
       "    </tr>\n",
       "    <tr>\n",
       "      <th>E10000034</th>\n",
       "      <td>2020-04-16T14:44:18.371573Z</td>\n",
       "      <td>Case counts for England and subnational areas ...</td>\n",
       "      <td>NaN</td>\n",
       "      <td>NaN</td>\n",
       "      <td>NaN</td>\n",
       "      <td>{'name': {'value': 'Worcestershire'}, 'totalCa...</td>\n",
       "    </tr>\n",
       "    <tr>\n",
       "      <th>E06000014</th>\n",
       "      <td>2020-04-16T14:44:18.371573Z</td>\n",
       "      <td>Case counts for England and subnational areas ...</td>\n",
       "      <td>NaN</td>\n",
       "      <td>NaN</td>\n",
       "      <td>NaN</td>\n",
       "      <td>{'name': {'value': 'York'}, 'totalCases': {'va...</td>\n",
       "    </tr>\n",
       "  </tbody>\n",
       "</table>\n",
       "<p>164 rows × 6 columns</p>\n",
       "</div>"
      ],
      "text/plain": [
       "                         lastUpdatedAt  \\\n",
       "K02000001  2020-04-16T14:44:18.371573Z   \n",
       "E92000001  2020-04-16T14:44:18.371573Z   \n",
       "S92000003  2020-04-16T14:44:18.371573Z   \n",
       "N92000002  2020-04-16T14:44:18.371573Z   \n",
       "W92000004  2020-04-16T14:44:18.371573Z   \n",
       "...                                ...   \n",
       "E08000015  2020-04-16T14:44:18.371573Z   \n",
       "E06000041  2020-04-16T14:44:18.371573Z   \n",
       "E08000031  2020-04-16T14:44:18.371573Z   \n",
       "E10000034  2020-04-16T14:44:18.371573Z   \n",
       "E06000014  2020-04-16T14:44:18.371573Z   \n",
       "\n",
       "                                                  disclaimer  \\\n",
       "K02000001  Case counts for England and subnational areas ...   \n",
       "E92000001  Case counts for England and subnational areas ...   \n",
       "S92000003  Case counts for England and subnational areas ...   \n",
       "N92000002  Case counts for England and subnational areas ...   \n",
       "W92000004  Case counts for England and subnational areas ...   \n",
       "...                                                      ...   \n",
       "E08000015  Case counts for England and subnational areas ...   \n",
       "E06000041  Case counts for England and subnational areas ...   \n",
       "E08000031  Case counts for England and subnational areas ...   \n",
       "E10000034  Case counts for England and subnational areas ...   \n",
       "E06000014  Case counts for England and subnational areas ...   \n",
       "\n",
       "                                                    overview  \\\n",
       "K02000001  {'name': {'value': 'United Kingdom'}, 'totalCa...   \n",
       "E92000001                                                NaN   \n",
       "S92000003                                                NaN   \n",
       "N92000002                                                NaN   \n",
       "W92000004                                                NaN   \n",
       "...                                                      ...   \n",
       "E08000015                                                NaN   \n",
       "E06000041                                                NaN   \n",
       "E08000031                                                NaN   \n",
       "E10000034                                                NaN   \n",
       "E06000014                                                NaN   \n",
       "\n",
       "                                                   countries regions  \\\n",
       "K02000001                                                NaN     NaN   \n",
       "E92000001  {'name': {'value': 'England'}, 'totalCases': {...     NaN   \n",
       "S92000003  {'name': {'value': 'Scotland'}, 'totalCases': ...     NaN   \n",
       "N92000002  {'name': {'value': 'Northern Ireland'}, 'total...     NaN   \n",
       "W92000004  {'name': {'value': 'Wales'}, 'totalCases': {'v...     NaN   \n",
       "...                                                      ...     ...   \n",
       "E08000015                                                NaN     NaN   \n",
       "E06000041                                                NaN     NaN   \n",
       "E08000031                                                NaN     NaN   \n",
       "E10000034                                                NaN     NaN   \n",
       "E06000014                                                NaN     NaN   \n",
       "\n",
       "                                                       utlas  \n",
       "K02000001                                                NaN  \n",
       "E92000001                                                NaN  \n",
       "S92000003                                                NaN  \n",
       "N92000002                                                NaN  \n",
       "W92000004                                                NaN  \n",
       "...                                                      ...  \n",
       "E08000015  {'name': {'value': 'Wirral'}, 'totalCases': {'...  \n",
       "E06000041  {'name': {'value': 'Wokingham'}, 'totalCases':...  \n",
       "E08000031  {'name': {'value': 'Wolverhampton'}, 'totalCas...  \n",
       "E10000034  {'name': {'value': 'Worcestershire'}, 'totalCa...  \n",
       "E06000014  {'name': {'value': 'York'}, 'totalCases': {'va...  \n",
       "\n",
       "[164 rows x 6 columns]"
      ]
     },
     "execution_count": 16,
     "metadata": {},
     "output_type": "execute_result"
    }
   ],
   "source": [
    "df = pd.read_json(latest_json_url)\n",
    "df"
   ]
  },
  {
   "cell_type": "code",
   "execution_count": 10,
   "metadata": {},
   "outputs": [
    {
     "data": {
      "text/html": [
       "<div>\n",
       "<style scoped>\n",
       "    .dataframe tbody tr th:only-of-type {\n",
       "        vertical-align: middle;\n",
       "    }\n",
       "\n",
       "    .dataframe tbody tr th {\n",
       "        vertical-align: top;\n",
       "    }\n",
       "\n",
       "    .dataframe thead th {\n",
       "        text-align: right;\n",
       "    }\n",
       "</style>\n",
       "<table border=\"1\" class=\"dataframe\">\n",
       "  <thead>\n",
       "    <tr style=\"text-align: right;\">\n",
       "      <th></th>\n",
       "      <th>index</th>\n",
       "      <th>utlas</th>\n",
       "    </tr>\n",
       "  </thead>\n",
       "  <tbody>\n",
       "    <tr>\n",
       "      <th>0</th>\n",
       "      <td>E09000002</td>\n",
       "      <td>{'name': {'value': 'Barking and Dagenham'}, 't...</td>\n",
       "    </tr>\n",
       "    <tr>\n",
       "      <th>1</th>\n",
       "      <td>E09000003</td>\n",
       "      <td>{'name': {'value': 'Barnet'}, 'totalCases': {'...</td>\n",
       "    </tr>\n",
       "    <tr>\n",
       "      <th>2</th>\n",
       "      <td>E08000016</td>\n",
       "      <td>{'name': {'value': 'Barnsley'}, 'totalCases': ...</td>\n",
       "    </tr>\n",
       "    <tr>\n",
       "      <th>3</th>\n",
       "      <td>E06000022</td>\n",
       "      <td>{'name': {'value': 'Bath and North East Somers...</td>\n",
       "    </tr>\n",
       "    <tr>\n",
       "      <th>4</th>\n",
       "      <td>E06000055</td>\n",
       "      <td>{'name': {'value': 'Bedford'}, 'totalCases': {...</td>\n",
       "    </tr>\n",
       "    <tr>\n",
       "      <th>...</th>\n",
       "      <td>...</td>\n",
       "      <td>...</td>\n",
       "    </tr>\n",
       "    <tr>\n",
       "      <th>145</th>\n",
       "      <td>E08000015</td>\n",
       "      <td>{'name': {'value': 'Wirral'}, 'totalCases': {'...</td>\n",
       "    </tr>\n",
       "    <tr>\n",
       "      <th>146</th>\n",
       "      <td>E06000041</td>\n",
       "      <td>{'name': {'value': 'Wokingham'}, 'totalCases':...</td>\n",
       "    </tr>\n",
       "    <tr>\n",
       "      <th>147</th>\n",
       "      <td>E08000031</td>\n",
       "      <td>{'name': {'value': 'Wolverhampton'}, 'totalCas...</td>\n",
       "    </tr>\n",
       "    <tr>\n",
       "      <th>148</th>\n",
       "      <td>E10000034</td>\n",
       "      <td>{'name': {'value': 'Worcestershire'}, 'totalCa...</td>\n",
       "    </tr>\n",
       "    <tr>\n",
       "      <th>149</th>\n",
       "      <td>E06000014</td>\n",
       "      <td>{'name': {'value': 'York'}, 'totalCases': {'va...</td>\n",
       "    </tr>\n",
       "  </tbody>\n",
       "</table>\n",
       "<p>150 rows × 2 columns</p>\n",
       "</div>"
      ],
      "text/plain": [
       "         index                                              utlas\n",
       "0    E09000002  {'name': {'value': 'Barking and Dagenham'}, 't...\n",
       "1    E09000003  {'name': {'value': 'Barnet'}, 'totalCases': {'...\n",
       "2    E08000016  {'name': {'value': 'Barnsley'}, 'totalCases': ...\n",
       "3    E06000022  {'name': {'value': 'Bath and North East Somers...\n",
       "4    E06000055  {'name': {'value': 'Bedford'}, 'totalCases': {...\n",
       "..         ...                                                ...\n",
       "145  E08000015  {'name': {'value': 'Wirral'}, 'totalCases': {'...\n",
       "146  E06000041  {'name': {'value': 'Wokingham'}, 'totalCases':...\n",
       "147  E08000031  {'name': {'value': 'Wolverhampton'}, 'totalCas...\n",
       "148  E10000034  {'name': {'value': 'Worcestershire'}, 'totalCa...\n",
       "149  E06000014  {'name': {'value': 'York'}, 'totalCases': {'va...\n",
       "\n",
       "[150 rows x 2 columns]"
      ]
     },
     "execution_count": 10,
     "metadata": {},
     "output_type": "execute_result"
    }
   ],
   "source": [
    "utlas = df[df['utlas'].notna()]['utlas']\n",
    "utlas.reset_index()"
   ]
  },
  {
   "cell_type": "code",
   "execution_count": 11,
   "metadata": {},
   "outputs": [
    {
     "data": {
      "text/plain": [
       "{'name': {'value': 'Wolverhampton'},\n",
       " 'totalCases': {'value': 501},\n",
       " 'dailyConfirmedCases': [{'date': '2020-03-05', 'value': 1},\n",
       "  {'date': '2020-03-07', 'value': 3},\n",
       "  {'date': '2020-03-08', 'value': 1},\n",
       "  {'date': '2020-03-10', 'value': 3},\n",
       "  {'date': '2020-03-11', 'value': 5},\n",
       "  {'date': '2020-03-12', 'value': 5},\n",
       "  {'date': '2020-03-13', 'value': 11},\n",
       "  {'date': '2020-03-14', 'value': 8},\n",
       "  {'date': '2020-03-15', 'value': 3},\n",
       "  {'date': '2020-03-16', 'value': 4},\n",
       "  {'date': '2020-03-17', 'value': 15},\n",
       "  {'date': '2020-03-18', 'value': 6},\n",
       "  {'date': '2020-03-19', 'value': 7},\n",
       "  {'date': '2020-03-20', 'value': 15},\n",
       "  {'date': '2020-03-21', 'value': 11},\n",
       "  {'date': '2020-03-22', 'value': 5},\n",
       "  {'date': '2020-03-23', 'value': 9},\n",
       "  {'date': '2020-03-24', 'value': 24},\n",
       "  {'date': '2020-03-25', 'value': 11},\n",
       "  {'date': '2020-03-26', 'value': 13},\n",
       "  {'date': '2020-03-27', 'value': 26},\n",
       "  {'date': '2020-03-28', 'value': 18},\n",
       "  {'date': '2020-03-29', 'value': 12},\n",
       "  {'date': '2020-03-30', 'value': 21},\n",
       "  {'date': '2020-03-31', 'value': 23},\n",
       "  {'date': '2020-04-01', 'value': 19},\n",
       "  {'date': '2020-04-02', 'value': 17},\n",
       "  {'date': '2020-04-03', 'value': 10},\n",
       "  {'date': '2020-04-04', 'value': 20},\n",
       "  {'date': '2020-04-05', 'value': 10},\n",
       "  {'date': '2020-04-06', 'value': 22},\n",
       "  {'date': '2020-04-07', 'value': 15},\n",
       "  {'date': '2020-04-08', 'value': 32},\n",
       "  {'date': '2020-04-09', 'value': 19},\n",
       "  {'date': '2020-04-10', 'value': 25},\n",
       "  {'date': '2020-04-11', 'value': 10},\n",
       "  {'date': '2020-04-12', 'value': 9},\n",
       "  {'date': '2020-04-13', 'value': 28},\n",
       "  {'date': '2020-04-14', 'value': 5},\n",
       "  {'date': '2020-04-15', 'value': 0}],\n",
       " 'dailyTotalConfirmedCases': [{'date': '2020-03-05', 'value': 1},\n",
       "  {'date': '2020-03-07', 'value': 4},\n",
       "  {'date': '2020-03-08', 'value': 5},\n",
       "  {'date': '2020-03-10', 'value': 8},\n",
       "  {'date': '2020-03-11', 'value': 13},\n",
       "  {'date': '2020-03-12', 'value': 18},\n",
       "  {'date': '2020-03-13', 'value': 29},\n",
       "  {'date': '2020-03-14', 'value': 37},\n",
       "  {'date': '2020-03-15', 'value': 40},\n",
       "  {'date': '2020-03-16', 'value': 44},\n",
       "  {'date': '2020-03-17', 'value': 59},\n",
       "  {'date': '2020-03-18', 'value': 65},\n",
       "  {'date': '2020-03-19', 'value': 72},\n",
       "  {'date': '2020-03-20', 'value': 87},\n",
       "  {'date': '2020-03-21', 'value': 98},\n",
       "  {'date': '2020-03-22', 'value': 103},\n",
       "  {'date': '2020-03-23', 'value': 112},\n",
       "  {'date': '2020-03-24', 'value': 136},\n",
       "  {'date': '2020-03-25', 'value': 147},\n",
       "  {'date': '2020-03-26', 'value': 160},\n",
       "  {'date': '2020-03-27', 'value': 186},\n",
       "  {'date': '2020-03-28', 'value': 204},\n",
       "  {'date': '2020-03-29', 'value': 216},\n",
       "  {'date': '2020-03-30', 'value': 237},\n",
       "  {'date': '2020-03-31', 'value': 260},\n",
       "  {'date': '2020-04-01', 'value': 279},\n",
       "  {'date': '2020-04-02', 'value': 296},\n",
       "  {'date': '2020-04-03', 'value': 306},\n",
       "  {'date': '2020-04-04', 'value': 326},\n",
       "  {'date': '2020-04-05', 'value': 336},\n",
       "  {'date': '2020-04-06', 'value': 358},\n",
       "  {'date': '2020-04-07', 'value': 373},\n",
       "  {'date': '2020-04-08', 'value': 405},\n",
       "  {'date': '2020-04-09', 'value': 424},\n",
       "  {'date': '2020-04-10', 'value': 449},\n",
       "  {'date': '2020-04-11', 'value': 459},\n",
       "  {'date': '2020-04-12', 'value': 468},\n",
       "  {'date': '2020-04-13', 'value': 496},\n",
       "  {'date': '2020-04-14', 'value': 501},\n",
       "  {'date': '2020-04-15', 'value': 501}]}"
      ]
     },
     "execution_count": 11,
     "metadata": {},
     "output_type": "execute_result"
    }
   ],
   "source": [
    "wolverhampton_json = utlas['E08000031']\n",
    "wolverhampton_json"
   ]
  },
  {
   "cell_type": "code",
   "execution_count": 12,
   "metadata": {},
   "outputs": [
    {
     "data": {
      "text/html": [
       "<div>\n",
       "<style scoped>\n",
       "    .dataframe tbody tr th:only-of-type {\n",
       "        vertical-align: middle;\n",
       "    }\n",
       "\n",
       "    .dataframe tbody tr th {\n",
       "        vertical-align: top;\n",
       "    }\n",
       "\n",
       "    .dataframe thead th {\n",
       "        text-align: right;\n",
       "    }\n",
       "</style>\n",
       "<table border=\"1\" class=\"dataframe\">\n",
       "  <thead>\n",
       "    <tr style=\"text-align: right;\">\n",
       "      <th></th>\n",
       "      <th>dailyConfirmedCases</th>\n",
       "      <th>dailyTotalConfirmedCases</th>\n",
       "      <th>name.value</th>\n",
       "      <th>totalCases.value</th>\n",
       "    </tr>\n",
       "  </thead>\n",
       "  <tbody>\n",
       "    <tr>\n",
       "      <th>0</th>\n",
       "      <td>[{'date': '2020-03-05', 'value': 1}, {'date': ...</td>\n",
       "      <td>[{'date': '2020-03-05', 'value': 1}, {'date': ...</td>\n",
       "      <td>Wolverhampton</td>\n",
       "      <td>501</td>\n",
       "    </tr>\n",
       "  </tbody>\n",
       "</table>\n",
       "</div>"
      ],
      "text/plain": [
       "                                 dailyConfirmedCases  \\\n",
       "0  [{'date': '2020-03-05', 'value': 1}, {'date': ...   \n",
       "\n",
       "                            dailyTotalConfirmedCases     name.value  \\\n",
       "0  [{'date': '2020-03-05', 'value': 1}, {'date': ...  Wolverhampton   \n",
       "\n",
       "   totalCases.value  \n",
       "0               501  "
      ]
     },
     "execution_count": 12,
     "metadata": {},
     "output_type": "execute_result"
    }
   ],
   "source": [
    "wolverhampton = pd.json_normalize(wolverhampton_json)\n",
    "wolverhampton"
   ]
  },
  {
   "cell_type": "code",
   "execution_count": 13,
   "metadata": {},
   "outputs": [
    {
     "data": {
      "text/plain": [
       "0    [{'date': '2020-03-05', 'value': 1}, {'date': ...\n",
       "Name: dailyTotalConfirmedCases, dtype: object"
      ]
     },
     "execution_count": 13,
     "metadata": {},
     "output_type": "execute_result"
    }
   ],
   "source": [
    "wolverhampton['dailyTotalConfirmedCases']"
   ]
  },
  {
   "cell_type": "code",
   "execution_count": 14,
   "metadata": {},
   "outputs": [
    {
     "data": {
      "text/plain": [
       "[[{'date': '2020-03-05', 'value': 1},\n",
       "  {'date': '2020-03-07', 'value': 4},\n",
       "  {'date': '2020-03-08', 'value': 5},\n",
       "  {'date': '2020-03-10', 'value': 8},\n",
       "  {'date': '2020-03-11', 'value': 13},\n",
       "  {'date': '2020-03-12', 'value': 18},\n",
       "  {'date': '2020-03-13', 'value': 29},\n",
       "  {'date': '2020-03-14', 'value': 37},\n",
       "  {'date': '2020-03-15', 'value': 40},\n",
       "  {'date': '2020-03-16', 'value': 44},\n",
       "  {'date': '2020-03-17', 'value': 59},\n",
       "  {'date': '2020-03-18', 'value': 65},\n",
       "  {'date': '2020-03-19', 'value': 72},\n",
       "  {'date': '2020-03-20', 'value': 87},\n",
       "  {'date': '2020-03-21', 'value': 98},\n",
       "  {'date': '2020-03-22', 'value': 103},\n",
       "  {'date': '2020-03-23', 'value': 112},\n",
       "  {'date': '2020-03-24', 'value': 136},\n",
       "  {'date': '2020-03-25', 'value': 147},\n",
       "  {'date': '2020-03-26', 'value': 160},\n",
       "  {'date': '2020-03-27', 'value': 186},\n",
       "  {'date': '2020-03-28', 'value': 204},\n",
       "  {'date': '2020-03-29', 'value': 216},\n",
       "  {'date': '2020-03-30', 'value': 237},\n",
       "  {'date': '2020-03-31', 'value': 260},\n",
       "  {'date': '2020-04-01', 'value': 279},\n",
       "  {'date': '2020-04-02', 'value': 296},\n",
       "  {'date': '2020-04-03', 'value': 306},\n",
       "  {'date': '2020-04-04', 'value': 326},\n",
       "  {'date': '2020-04-05', 'value': 336},\n",
       "  {'date': '2020-04-06', 'value': 358},\n",
       "  {'date': '2020-04-07', 'value': 373},\n",
       "  {'date': '2020-04-08', 'value': 405},\n",
       "  {'date': '2020-04-09', 'value': 424},\n",
       "  {'date': '2020-04-10', 'value': 449},\n",
       "  {'date': '2020-04-11', 'value': 459},\n",
       "  {'date': '2020-04-12', 'value': 468},\n",
       "  {'date': '2020-04-13', 'value': 496},\n",
       "  {'date': '2020-04-14', 'value': 501},\n",
       "  {'date': '2020-04-15', 'value': 501}]]"
      ]
     },
     "execution_count": 14,
     "metadata": {},
     "output_type": "execute_result"
    }
   ],
   "source": [
    "list(wolverhampton['dailyTotalConfirmedCases'])"
   ]
  },
  {
   "cell_type": "code",
   "execution_count": 17,
   "metadata": {},
   "outputs": [
    {
     "name": "stdout",
     "output_type": "stream",
     "text": [
      "{'date': '2020-03-05', 'value': 1}\n",
      "{'date': '2020-03-07', 'value': 4}\n",
      "{'date': '2020-03-08', 'value': 5}\n",
      "{'date': '2020-03-10', 'value': 8}\n",
      "{'date': '2020-03-11', 'value': 13}\n",
      "{'date': '2020-03-12', 'value': 18}\n",
      "{'date': '2020-03-13', 'value': 29}\n",
      "{'date': '2020-03-14', 'value': 37}\n",
      "{'date': '2020-03-15', 'value': 40}\n",
      "{'date': '2020-03-16', 'value': 44}\n",
      "{'date': '2020-03-17', 'value': 59}\n",
      "{'date': '2020-03-18', 'value': 65}\n",
      "{'date': '2020-03-19', 'value': 72}\n",
      "{'date': '2020-03-20', 'value': 87}\n",
      "{'date': '2020-03-21', 'value': 98}\n",
      "{'date': '2020-03-22', 'value': 103}\n",
      "{'date': '2020-03-23', 'value': 112}\n",
      "{'date': '2020-03-24', 'value': 136}\n",
      "{'date': '2020-03-25', 'value': 147}\n",
      "{'date': '2020-03-26', 'value': 160}\n",
      "{'date': '2020-03-27', 'value': 186}\n",
      "{'date': '2020-03-28', 'value': 204}\n",
      "{'date': '2020-03-29', 'value': 216}\n",
      "{'date': '2020-03-30', 'value': 237}\n",
      "{'date': '2020-03-31', 'value': 260}\n",
      "{'date': '2020-04-01', 'value': 279}\n",
      "{'date': '2020-04-02', 'value': 296}\n",
      "{'date': '2020-04-03', 'value': 306}\n",
      "{'date': '2020-04-04', 'value': 326}\n",
      "{'date': '2020-04-05', 'value': 336}\n",
      "{'date': '2020-04-06', 'value': 358}\n",
      "{'date': '2020-04-07', 'value': 373}\n",
      "{'date': '2020-04-08', 'value': 405}\n",
      "{'date': '2020-04-09', 'value': 424}\n",
      "{'date': '2020-04-10', 'value': 449}\n",
      "{'date': '2020-04-11', 'value': 459}\n",
      "{'date': '2020-04-12', 'value': 468}\n",
      "{'date': '2020-04-13', 'value': 496}\n",
      "{'date': '2020-04-14', 'value': 501}\n",
      "{'date': '2020-04-15', 'value': 501}\n"
     ]
    }
   ],
   "source": [
    "for daylist in wolverhampton['dailyTotalConfirmedCases']:\n",
    "    for day in daylist:\n",
    "        print(day)"
   ]
  },
  {
   "cell_type": "code",
   "execution_count": 20,
   "metadata": {},
   "outputs": [
    {
     "data": {
      "text/plain": [
       "<function json.loads(s, *, cls=None, object_hook=None, parse_float=None, parse_int=None, parse_constant=None, object_pairs_hook=None, **kw)>"
      ]
     },
     "execution_count": 20,
     "metadata": {},
     "output_type": "execute_result"
    }
   ],
   "source": [
    "json.loads"
   ]
  }
 ],
 "metadata": {
  "kernelspec": {
   "display_name": "Python 3",
   "language": "python",
   "name": "python3"
  },
  "language_info": {
   "codemirror_mode": {
    "name": "ipython",
    "version": 3
   },
   "file_extension": ".py",
   "mimetype": "text/x-python",
   "name": "python",
   "nbconvert_exporter": "python",
   "pygments_lexer": "ipython3",
   "version": "3.8.2"
  }
 },
 "nbformat": 4,
 "nbformat_minor": 4
}
