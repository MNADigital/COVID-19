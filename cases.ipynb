{
 "cells": [
  {
   "cell_type": "code",
   "execution_count": 360,
   "metadata": {},
   "outputs": [],
   "source": [
    "import pandas as pd\n",
    "from datetime import date, timedelta\n",
    "import untangle # xml\n",
    "import requests # json\n",
    "import re # regular expressions"
   ]
  },
  {
   "cell_type": "code",
   "execution_count": 361,
   "metadata": {},
   "outputs": [],
   "source": [
    "# Configuration\n",
    "today = date.today()\n",
    "yesterday = date.today() - timedelta(days=1)\n",
    "\n",
    "our_utla_codes = [\n",
    "    'E08000025', # Birmingham\n",
    "    'E08000027', # Dudley\n",
    "    'E08000028', # Sandwell\n",
    "    'E06000051', # Shropshire\n",
    "    'E10000028', # Staffordshire\n",
    "    'E06000021', # Stoke-on-Trent\n",
    "    'E06000020', # Telford and Wrekin\n",
    "    'E08000030', # Walsall\n",
    "    'E08000031', # Wolverhampton\n",
    "    'E10000034', # Worcestershire\n",
    "]\n",
    "utlacodes_expressandstar = [\n",
    "    'E08000025', # Birmingham\n",
    "    'E08000027', # Dudley\n",
    "    'E08000028', # Sandwell\n",
    "    'E10000028', # Staffordshire\n",
    "    'E06000021', # Stoke-on-Trent\n",
    "    'E08000030', # Walsall\n",
    "    'E08000031', # Wolverhampton\n",
    "]\n",
    "utlacodes_blackcountry = [\n",
    "    'E08000027', # Dudley\n",
    "    'E08000028', # Sandwell\n",
    "    'E08000030', # Walsall\n",
    "    'E08000031', # Wolverhampton\n",
    "]\n",
    "utlacodes_blackcountryandbirmingham = [\n",
    "    'E08000025', # Birmingham\n",
    "    'E08000027', # Dudley\n",
    "    'E08000028', # Sandwell\n",
    "    'E08000030', # Walsall\n",
    "    'E08000031', # Wolverhampton\n",
    "]\n",
    "utlacodes_sandwellandbirmingham = [\n",
    "    'E08000025', # Birmingham\n",
    "    'E08000028', # Sandwell\n",
    "]\n",
    "utlacodes_staffordshire = [\n",
    "    'E10000028', # Staffordshire\n",
    "]\n",
    "utlacodes_wolverhampton = [\n",
    "    'E08000031', # Wolverhampton\n",
    "]\n",
    "utlacodes_walsall = [\n",
    "    'E08000030', # Walsall\n",
    "]\n",
    "utlacodes_dudley = [\n",
    "    'E08000027', # Dudley\n",
    "]\n",
    "utlacodes_sandwell = [\n",
    "    'E08000028', # Sandwell\n",
    "]\n",
    "utlacodes_birmingham = [\n",
    "    'E08000025', # Birmingham\n",
    "]\n",
    "utlacodes_stoke = [\n",
    "    'E06000021', # Stoke-on-Trent\n",
    "]\n",
    "utlacodes_staffordshireandstoke = [\n",
    "    'E10000028', # Staffordshire\n",
    "    'E06000021', # Stoke-on-Trent\n",
    "]\n",
    "utlacodes_worcestershire = [\n",
    "    'E10000034', # Worcestershire\n",
    "]"
   ]
  },
  {
   "cell_type": "code",
   "execution_count": 362,
   "metadata": {},
   "outputs": [],
   "source": [
    "# Pull the XML and traverse to the blobs\n",
    "xmlblobs = untangle.parse(\n",
    "    'https://publicdashacc.blob.core.windows.net/publicdata?restype=container&comp=list'\n",
    ").EnumerationResults.Blobs.Blob"
   ]
  },
  {
   "cell_type": "code",
   "execution_count": 363,
   "metadata": {},
   "outputs": [],
   "source": [
    "# Extract the cdata of the names, filter to data_000….json, convert to list, sort descending\n",
    "jsons = sorted(\n",
    "    list(\n",
    "        filter(\n",
    "            lambda b: re.search('^data_[0-9]+.json$',b),\n",
    "            map(\n",
    "                lambda b: b.Name.cdata,\n",
    "                xmlblobs\n",
    "            )\n",
    "        )\n",
    "    ),reverse=False\n",
    ")"
   ]
  },
  {
   "cell_type": "code",
   "execution_count": 364,
   "metadata": {},
   "outputs": [],
   "source": [
    "# Grab the last JSON in the sorted list, append it to the URL\n",
    "latest_json_url = 'https://c19pub.azureedge.net/' + jsons[-1]"
   ]
  },
  {
   "cell_type": "code",
   "execution_count": 365,
   "metadata": {},
   "outputs": [],
   "source": [
    "# Pull the JSON and convert to a Python object\n",
    "json = requests.get(latest_json_url).json()"
   ]
  },
  {
   "cell_type": "code",
   "execution_count": 366,
   "metadata": {},
   "outputs": [],
   "source": [
    "# Filter to MNA's UTLAs, populate utla_data\n",
    "utla_data = []\n",
    "for (code, data) in json['utlas'].items():\n",
    "    if code in our_utla_codes:\n",
    "        for day in data['dailyConfirmedCases']:\n",
    "            utla_data.append([\n",
    "                code,\n",
    "                data['name']['value'],\n",
    "                day['date'],\n",
    "                day['value']\n",
    "            ])"
   ]
  },
  {
   "cell_type": "code",
   "execution_count": 367,
   "metadata": {},
   "outputs": [],
   "source": [
    "# Create a pandas dataframe from utla_data\n",
    "our_utlas = pd.DataFrame(data=utla_data, columns=['code','name','date','new cases'])"
   ]
  },
  {
   "cell_type": "code",
   "execution_count": 368,
   "metadata": {},
   "outputs": [],
   "source": [
    "def get_latest_cases(codes=False,df=our_utlas.copy()):\n",
    "    if codes:\n",
    "            df = df[df.code.isin(codes)]\n",
    "            \n",
    "    df['cumulative cases'] = df.groupby('code').cumsum()\n",
    "    if codes:\n",
    "            df = df.groupby('date', as_index=False).sum()\n",
    "            \n",
    "    max_date = df['date'].max()\n",
    "    df = df[df['date'] == max_date]\n",
    "    return df"
   ]
  }
 ],
 "metadata": {
  "kernelspec": {
   "display_name": "Python 3",
   "language": "python",
   "name": "python3"
  },
  "language_info": {
   "codemirror_mode": {
    "name": "ipython",
    "version": 3
   },
   "file_extension": ".py",
   "mimetype": "text/x-python",
   "name": "python",
   "nbconvert_exporter": "python",
   "pygments_lexer": "ipython3",
   "version": "3.8.2"
  }
 },
 "nbformat": 4,
 "nbformat_minor": 4
}
