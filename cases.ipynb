{
 "cells": [
  {
   "cell_type": "code",
   "execution_count": 175,
   "metadata": {},
   "outputs": [],
   "source": [
    "import pandas as pd\n",
    "import untangle # xml\n",
    "import requests # json\n",
    "import re # regular expressions"
   ]
  },
  {
   "cell_type": "code",
   "execution_count": 176,
   "metadata": {},
   "outputs": [],
   "source": [
    "# Configuration\n",
    "our_utla_codes = [\n",
    "    'E08000025', # Birmingham\n",
    "    'E08000027', # Dudley\n",
    "    'E08000028', # Sandwell\n",
    "    'E06000051', # Shropshire\n",
    "    'E10000028', # Staffordshire\n",
    "    'E06000021', # Stoke-on-Trent\n",
    "    'E06000020', # Telford and Wrekin\n",
    "    'E08000030', # Walsall\n",
    "    'E08000031', # Wolverhampton\n",
    "    'E10000034', # Worcestershire\n",
    "]"
   ]
  },
  {
   "cell_type": "code",
   "execution_count": 186,
   "metadata": {},
   "outputs": [],
   "source": [
    "# Pull the XML and traverse to the blobs\n",
    "xmlblobs = untangle.parse(\n",
    "    'https://publicdashacc.blob.core.windows.net/publicdata?restype=container&comp=list'\n",
    ").EnumerationResults.Blobs.Blob"
   ]
  },
  {
   "cell_type": "code",
   "execution_count": 202,
   "metadata": {},
   "outputs": [],
   "source": [
    "# Extract the cdata of the names, filter to data_000….json, convert to list, sort descending\n",
    "jsons = sorted(\n",
    "    list(\n",
    "        filter(\n",
    "            lambda b: re.search('^data_[0-9]+.json$',b),\n",
    "            map(\n",
    "                lambda b: b.Name.cdata,\n",
    "                xmlblobs\n",
    "            )\n",
    "        )\n",
    "    ),reverse=False\n",
    ")"
   ]
  },
  {
   "cell_type": "code",
   "execution_count": 203,
   "metadata": {},
   "outputs": [],
   "source": [
    "# Grab the last JSON in the sorted list, append it to the URL\n",
    "latest_json_url = 'https://c19pub.azureedge.net/' + jsons[-1]"
   ]
  },
  {
   "cell_type": "code",
   "execution_count": 206,
   "metadata": {},
   "outputs": [],
   "source": [
    "# Pull the JSON and convert to a Python object\n",
    "json = requests.get(latest_json_url).json()"
   ]
  },
  {
   "cell_type": "code",
   "execution_count": 198,
   "metadata": {},
   "outputs": [],
   "source": [
    "# Filter to MNA's UTLAs\n",
    "new_data = []\n",
    "for (code, data) in json['utlas'].items():\n",
    "    if code in our_utla_codes:\n",
    "        for day in data['dailyConfirmedCases']:\n",
    "            new_data.append([\n",
    "                code,\n",
    "                data['name']['value'],\n",
    "                day['date'],\n",
    "                day['value']\n",
    "            ])"
   ]
  },
  {
   "cell_type": "code",
   "execution_count": 199,
   "metadata": {},
   "outputs": [],
   "source": [
    "df = pd.DataFrame(data=new_data, columns=['code','name','date','new cases'])"
   ]
  }
 ],
 "metadata": {
  "kernelspec": {
   "display_name": "Python 3",
   "language": "python",
   "name": "python3"
  },
  "language_info": {
   "codemirror_mode": {
    "name": "ipython",
    "version": 3
   },
   "file_extension": ".py",
   "mimetype": "text/x-python",
   "name": "python",
   "nbconvert_exporter": "python",
   "pygments_lexer": "ipython3",
   "version": "3.8.2"
  }
 },
 "nbformat": 4,
 "nbformat_minor": 4
}
