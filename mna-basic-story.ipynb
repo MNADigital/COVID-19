{
 "cells": [
  {
   "cell_type": "code",
   "execution_count": 292,
   "metadata": {},
   "outputs": [],
   "source": [
    "import pandas as pd\n",
    "from datetime import date, timedelta\n",
    "import urllib\n",
    "import numpy as np\n",
    "import altair as alt"
   ]
  },
  {
   "cell_type": "code",
   "execution_count": 293,
   "metadata": {},
   "outputs": [],
   "source": [
    "# Global variables\n",
    "today = date.today()\n",
    "yesterday = date.today() - timedelta(days=1)"
   ]
  },
  {
   "cell_type": "code",
   "execution_count": 294,
   "metadata": {},
   "outputs": [],
   "source": [
    "# Functions\n",
    "def new_group(code, name, code_list, dataframe):\n",
    "    df = dataframe[dataframe.code.isin(code_list)].groupby(\"date\", as_index=False).sum()\n",
    "    df[\"code\"] = code\n",
    "    df[\"name\"] = name\n",
    "    return df\n",
    "\n",
    "def get_data(code,dataframe):\n",
    "    return dataframe[(dataframe[\"code\"] == code) & ((dataframe[\"date\"] == pd.to_datetime(yesterday)) | (dataframe[\"date\"] == pd.to_datetime(today)))]"
   ]
  },
  {
   "cell_type": "code",
   "execution_count": 295,
   "metadata": {},
   "outputs": [],
   "source": [
    "# NHS\n",
    "nhs_header_row = 15\n",
    "nhs_trust_sheet_name = 'COVID19 total deaths by trust'\n",
    "nhs_csv_trusts = 'nhs_csv_trusts.csv'\n",
    "our_trust_codes = [\n",
    "    'RYW', # Birmingham Community Healthcare NHS Foundation Trust\n",
    "    'RNA', # The Dudley Group NHS Foundation Trust\n",
    "    'RL4', # The Royal Wolverhampton NHS Trust\n",
    "    'RXK', # Sandwell And West Birmingham Hospitals NHS Trust\n",
    "    'RXW', # Shrewsbury And Telford Hospital NHS Trust\n",
    "    'RRJ', # The Royal Orthopaedic Hospital NHS Foundation Trust\n",
    "    'RRK', # University Hospitals Birmingham NHS Foundation Trust\n",
    "    'RJE', # University Hospitals Of North Midlands NHS Trust\n",
    "    'RBK', # Walsall Healthcare NHS Trust\n",
    "    'RWP', # Worcestershire Acute Hospitals NHS Trust\n",
    "    'R1A', # Worcestershire Health And Care NHS Trust\n",
    "    'RL1', # The Robert Jones And Agnes Hunt Orthopaedic Hospital NHS Foundation Trust\n",
    "    'RLY', # NORTH STAFFORDSHIRE COMBINED HEALTHCARE NHS TRUST\n",
    "]\n",
    "nhs_file_format = \"https://www.england.nhs.uk/statistics/wp-content/uploads/sites/2/DIRECTORY/COVID-19-total-announced-deaths-DATE.xlsx\"\n",
    "nhs_file_date_format = \"%-d-%B-%Y\"\n",
    "nhs_file_directory_format = \"%Y/%m\"\n",
    "nhs_latest_file = False\n",
    "\n",
    "nhs_today_file = nhs_file_format.replace(\"DATE\",today.strftime(nhs_file_date_format))\n",
    "nhs_today_file = nhs_today_file.replace(\"DIRECTORY\",today.strftime(nhs_file_directory_format))\n",
    "\n",
    "nhs_yesterday_file = nhs_file_format.replace(\"DATE\",yesterday.strftime(nhs_file_date_format))\n",
    "nhs_yesterday_file = nhs_yesterday_file.replace(\"DIRECTORY\",yesterday.strftime(nhs_file_directory_format))\n",
    "\n",
    "## NHS file handling with fallback\n",
    "try:\n",
    "  urllib.request.urlopen(nhs_today_file)\n",
    "  nhs_latest_file = nhs_today_file\n",
    "except urllib.error.HTTPError as e:\n",
    "  try:\n",
    "    nhs_latest_file = urllib.request.urlopen(nhs_yesterday_file)\n",
    "    nhs_latest_file = nhs_yesterday_file\n",
    "  except urllib.error.HTTPError as e:\n",
    "    pass\n",
    "\n",
    "## Import a specific sheet from the NHS Excel file and convert to CSV\n",
    "nhs_excel = pd.read_excel(nhs_latest_file, header=nhs_header_row, sheet_name=nhs_trust_sheet_name)\n",
    "nhs_excel.to_csv(nhs_csv_trusts)\n",
    "nhs_trusts = pd.read_csv(nhs_csv_trusts)\n",
    "\n",
    "## Filtering down to our_trusts\n",
    "our_trusts = nhs_trusts[nhs_trusts.Code.isin(our_trust_codes)] # filter to our trusts\n",
    "our_trusts = our_trusts.filter(regex='(^Code$|^Name$|[0-9]{4}-.+|^Up to.01-Mar-20$)', axis=1) # filter to only the required columns\n",
    "our_trusts = our_trusts.rename(columns={\"Code\": \"code\", \"Name\" : \"name\"}) # clean up column names\n",
    "our_trusts = pd.melt(our_trusts, id_vars=[\"code\",\"name\"], var_name=\"date\", value_name=\"deaths\") # un-pivot the date columns\n",
    "our_trusts[\"date\"] = our_trusts[\"date\"].str.replace(\"Up to 01-Mar-20\",\"2020-02-29 00:00:00\")\n",
    "our_trusts[\"date\"] = pd.to_datetime(our_trusts.date) # clean all dates to YYYY-MM-DD\n",
    "\n",
    "## Adding cumulative deaths\n",
    "our_trusts[\"cumulative_deaths\"] = our_trusts.groupby(\"name\").cumsum()\n",
    "\n",
    "## Added relative difference\n",
    "our_trusts[\"reldiff\"] = our_trusts.groupby(\"code\")[\"cumulative_deaths\"].pct_change().convert_dtypes(convert_integer=True) # add daily variance\n",
    "\n",
    "## Cleaning float\n",
    "our_trusts[\"deaths\"] = our_trusts[\"deaths\"].convert_dtypes(convert_integer=True)\n",
    "our_trusts[\"cumulative_deaths\"] = our_trusts[\"cumulative_deaths\"].convert_dtypes(convert_integer=True)\n",
    "\n",
    "## Additional Groups / SubTotals\n",
    "### Create Groups\n",
    "#### Total Region\n",
    "group_totalregion_trusts = new_group(\"ManualREG\",\"Total Region\",[\n",
    "    'RYW', # Birmingham Community Healthcare NHS Foundation Trust\n",
    "    'RNA', # The Dudley Group NHS Foundation Trust\n",
    "    'RL4', # The Royal Wolverhampton NHS Trust\n",
    "    'RXK', # Sandwell And West Birmingham Hospitals NHS Trust\n",
    "    'RRJ', # The Royal Orthopaedic Hospital NHS Foundation Trust\n",
    "    'RRK', # University Hospitals Birmingham NHS Foundation Trust\n",
    "    'RJE', # University Hospitals Of North Midlands NHS Trust\n",
    "    'RBK', # Walsall Healthcare NHS Trust\n",
    "    'RLY', # NORTH STAFFORDSHIRE COMBINED HEALTHCARE NHS TRUST\n",
    "],our_trusts)\n",
    "#### Black Country and Birmingham\n",
    "group_blackcountryandbirmingham_trusts = new_group(\"ManualBAB\",\"Black Country and Birmingham\",[\n",
    "    'RYW', # Birmingham Community Healthcare NHS Foundation Trust\n",
    "    'RNA', # The Dudley Group NHS Foundation Trust\n",
    "    'RL4', # The Royal Wolverhampton NHS Trust\n",
    "    'RXK', # Sandwell And West Birmingham Hospitals NHS Trust\n",
    "    'RRJ', # The Royal Orthopaedic Hospital NHS Foundation Trust\n",
    "    'RRK', # University Hospitals Birmingham NHS Foundation Trust\n",
    "    'RBK', # Walsall Healthcare NHS Trust\n",
    "],our_trusts)\n",
    "#### Sandwell and Birmingham\n",
    "group_sandwellandbirmingham_trusts = new_group(\"ManualSAB\",\"Sandwell and Birmingham\",[\n",
    "    'RYW', # Birmingham Community Healthcare NHS Foundation Trust\n",
    "    'RXK', # Sandwell And West Birmingham Hospitals NHS Trust\n",
    "    'RRJ', # The Royal Orthopaedic Hospital NHS Foundation Trust\n",
    "    'RRK', # University Hospitals Birmingham NHS Foundation Trust\n",
    "],our_trusts)\n",
    "\n",
    "#### Worcestershire\n",
    "group_worcestershire_trusts = new_group(\"ManualWOR\",\"Worcestershire\",[\n",
    "    'RWP', # Worcestershire Acute Hospitals NHS Trust\n",
    "    'R1A', # Worcestershire Health And Care NHS Trust\n",
    "],our_trusts)\n",
    "\n",
    "#### Staffordshire\n",
    "group_staffordshire_trusts = new_group(\"ManualSTF\",\"Staffordshire\",[\n",
    "    'RJE', # University Hospitals Of North Midlands NHS Trust\n",
    "    'RLY', # NORTH STAFFORDSHIRE COMBINED HEALTHCARE NHS TRUST\n",
    "],our_trusts)\n",
    "\n",
    "### Add Groups\n",
    "our_trust_groups = pd.DataFrame(columns = [\"code\",\"name\",\"date\",\"deaths\",\"cumulative_deaths\"])\n",
    "our_trust_groups = our_trust_groups.append([\n",
    "    group_sandwellandbirmingham_trusts,\n",
    "    group_worcestershire_trusts,\n",
    "    group_blackcountryandbirmingham_trusts,\n",
    "    group_totalregion_trusts,\n",
    "    group_staffordshire_trusts,\n",
    "], ignore_index=True)"
   ]
  },
  {
   "cell_type": "code",
   "execution_count": null,
   "metadata": {},
   "outputs": [],
   "source": [
    "# Public Health England (PHE)\n",
    "our_utla_codes = [\n",
    "    'E08000025', # Birmingham\n",
    "    'E08000027', # Dudley\n",
    "    'E08000028', # Sandwell\n",
    "    'E06000051', # Shropshire\n",
    "    'E10000028', # Staffordshire\n",
    "    'E06000021', # Stoke-on-Trent\n",
    "    'E06000020', # Telford and Wrekin\n",
    "    'E08000030', # Walsall\n",
    "    'E08000031', # Wolverhampton\n",
    "    'E10000034', # Worcestershire\n",
    "]\n",
    "pheh_dashboard_url = 'https://fingertips.phe.org.uk/documents/Historic%20COVID-19%20Dashboard%20Data.xlsx'\n",
    "\n",
    "pheh_utla_header_row = 7 # zero indexed\n",
    "pheh_utla_sheet = 'UTLAs'\n",
    "pheh_utla_csv_filename = 'pheh-utla.csv'\n",
    "\n",
    "pheh_ukdeaths_header_row = 7\n",
    "pheh_ukdeaths_sheet = 'UK Deaths'\n",
    "pheh_ukdeaths_csv_filename = 'pheh-ukdeaths.csv'\n",
    "\n",
    "pheh_ukcases_header_row = 9 # changed around April 12\n",
    "pheh_ukcases_sheet = 'Countries'\n",
    "pheh_ukcases_csv_filename = 'pheh-ukcases.csv'\n",
    "\n",
    "## Import the Countries / Cases sheet from the PHE Excel file and convert to CSV\n",
    "pheh_ukcases_excel = pd.read_excel(pheh_dashboard_url, header=pheh_ukcases_header_row, sheet_name=pheh_ukcases_sheet)\n",
    "pheh_ukcases_excel.to_csv(pheh_ukcases_csv_filename)\n",
    "pheh_ukcases = pd.read_csv(pheh_ukcases_csv_filename)\n",
    "\n",
    "### Refining the Countries / Cases data\n",
    "pheh_ukcases = pheh_ukcases.rename(columns={\n",
    "    \"Area Code\": \"code\",\n",
    "    \"Area Name\": \"name\",\n",
    "}) # clean up column names\n",
    "pheh_ukcases.drop('Unnamed: 0', axis='columns', inplace=True)\n",
    "pheh_ukcases = pd.melt(pheh_ukcases, id_vars=[\"code\",\"name\"], var_name=\"date\", value_name=\"cases\") # un-pivot the date columns\n",
    "pheh_ukcases[\"date\"] = pd.to_datetime(pheh_ukcases.date) # clean all dates to YYYY-MM-DD\n",
    "pheh_ukcases[\"cases\"] = pheh_ukcases[\"cases\"].convert_dtypes(convert_integer=True)\n",
    "pheh_ukcases.loc[pheh_ukcases.name == \"UK\", \"code\"] = \"Manual UK\"\n",
    "pheh_ukcases[\"diff\"] = pheh_ukcases.groupby(\"code\")[\"cases\"].diff().convert_dtypes(convert_integer=True) # add daily variance\n",
    "pheh_ukcases[\"reldiff\"] = pheh_ukcases.groupby(\"code\")[\"cases\"].pct_change().convert_dtypes(convert_integer=True) # add daily variance\n",
    "\n",
    "## Import the UK Deaths sheet from the PHE Excel file and convert to CSV\n",
    "pheh_ukdeaths_excel = pd.read_excel(pheh_dashboard_url, header=pheh_ukdeaths_header_row, sheet_name=pheh_ukdeaths_sheet)\n",
    "pheh_ukdeaths_excel.to_csv(pheh_ukdeaths_csv_filename)\n",
    "pheh_ukdeaths = pd.read_csv(pheh_ukdeaths_csv_filename)\n",
    "\n",
    "### Refining the UK Deaths data\n",
    "pheh_ukdeaths = pheh_ukdeaths.rename(columns={\n",
    "    \"Date\": \"date\",\n",
    "    \"Deaths\" : \"deaths\",\n",
    "}) # clean up column names\n",
    "pheh_ukdeaths.drop('Unnamed: 0', axis='columns', inplace=True)\n",
    "pheh_ukdeaths.drop('deaths', axis='columns', inplace=True)\n",
    "pheh_ukdeaths = pd.melt(pheh_ukdeaths, id_vars=[\"date\"], var_name=\"name\", value_name=\"deaths\") # un-pivot the date columns\n",
    "pheh_ukdeaths[\"date\"] = pd.to_datetime(pheh_ukdeaths.date) # clean all dates to YYYY-MM-DD\n",
    "pheh_ukdeaths[\"deaths\"] = pheh_ukdeaths[\"deaths\"].convert_dtypes(convert_integer=True)\n",
    "# create a new column, setting a value of x where the name is y\n",
    "country_code_conditions = [\n",
    "    (pheh_ukdeaths[\"name\"] == \"England\"),\n",
    "    (pheh_ukdeaths[\"name\"] == \"Scotland\"),\n",
    "    (pheh_ukdeaths[\"name\"] == \"Wales\"),\n",
    "    (pheh_ukdeaths[\"name\"] == \"Northern Ireland\"),\n",
    "    (pheh_ukdeaths[\"name\"] == \"UK\"),\n",
    "]\n",
    "country_code_choices = [\n",
    "    \"E92000001\",\n",
    "    \"S92000003\",\n",
    "    \"W92000004\",\n",
    "    \"N92000002\",\n",
    "    \"Manual UK\",\n",
    "]\n",
    "pheh_ukdeaths[\"code\"] = np.select(country_code_conditions,country_code_choices)\n",
    "pheh_ukdeaths[\"diff\"] = pheh_ukdeaths.groupby(\"code\")[\"deaths\"].diff().convert_dtypes(convert_integer=True) # add daily variance\n",
    "\n",
    "## Import the UTLA sheet from the PHE Excel file and convert to CSV\n",
    "pheh_utla_excel = pd.read_excel(pheh_dashboard_url, header=pheh_utla_header_row, sheet_name=pheh_utla_sheet)\n",
    "pheh_utla_excel.to_csv(pheh_utla_csv_filename)\n",
    "pheh_utla = pd.read_csv(pheh_utla_csv_filename)\n",
    "\n",
    "### Filtering down to our UTLAs\n",
    "our_utla = pheh_utla.rename(columns={\"Area Code\": \"code\", \"Area Name\" : \"name\"}) # clean up column names\n",
    "our_utla = our_utla[our_utla.code.isin(our_utla_codes)] # filter to our trusts\n",
    "our_utla.drop('Unnamed: 0', axis='columns', inplace=True)\n",
    "our_utla = pd.melt(our_utla, id_vars=[\"code\",\"name\"], var_name=\"date\", value_name=\"cases\") # un-pivot the date columns\n",
    "our_utla[\"date\"] = pd.to_datetime(our_utla.date) # clean all dates to YYYY-MM-DD\n",
    "our_utla[\"diff\"] = our_utla.groupby(\"code\")[\"cases\"].diff().convert_dtypes(convert_integer=True) # add daily variance\n",
    "our_utla[\"reldiff\"] = our_utla.groupby(\"code\")[\"cases\"].pct_change().convert_dtypes(convert_integer=True) # add daily variance\n",
    "\n",
    "\n",
    "## Additional Groups / SubTotals\n",
    "### Create Groups\n",
    "#### Total Region\n",
    "group_totalregion_cases = new_group(\"ManualREG\",\"Total Region\",[\n",
    "    'E08000025', # Birmingham\n",
    "    'E08000027', # Dudley\n",
    "    'E08000028', # Sandwell\n",
    "    'E10000028', # Staffordshire\n",
    "    'E06000021', # Stoke-on-Trent\n",
    "    'E08000030', # Walsall\n",
    "    'E08000031', # Wolverhampton\n",
    "],our_utla)\n",
    "#### Black Country\n",
    "group_blackcountry_cases = new_group(\"ManualBLC\",\"Black Country\",[\n",
    "    'E08000027', # Dudley\n",
    "    'E08000028', # Sandwell\n",
    "    'E08000030', # Walsall\n",
    "    'E08000031', # Wolverhampton\n",
    "],our_utla)\n",
    "#### Black Country and Birmingham\n",
    "group_blackcountryandbirmingham_cases = new_group(\"ManualBAB\",\"Black Country and Birmingham\",[\n",
    "    'E08000025', # Birmingham\n",
    "    'E08000027', # Dudley\n",
    "    'E08000028', # Sandwell\n",
    "    'E08000030', # Walsall\n",
    "    'E08000031', # Wolverhampton\n",
    "],our_utla)\n",
    "#### Sandwell and Birmingham\n",
    "group_sandwellandbirmingham_cases = new_group(\"ManualSAB\",\"Sandwell and Birmingham\",[\n",
    "    'E08000025', # Birmingham\n",
    "    'E08000028', # Sandwell\n",
    "],our_utla)\n",
    "#### Staffordshire\n",
    "group_staffordshire_cases = new_group(\"ManualSTF\",\"Staffordshire\",[   \n",
    "    'E10000028', # Staffordshire\n",
    "    'E06000021', # Stoke-on-Trent\n",
    "],our_utla)\n",
    "\n",
    "### Add Groups\n",
    "our_utla_groups = pd.DataFrame(columns = [\"code\",\"name\",\"date\",\"cases\",\"diff\"])\n",
    "our_utla_groups = our_utla_groups.append([\n",
    "    group_blackcountry_cases,\n",
    "    group_sandwellandbirmingham_cases,\n",
    "    group_staffordshire_cases,\n",
    "    group_blackcountryandbirmingham_cases,\n",
    "    group_totalregion_cases,\n",
    "], ignore_index=True)"
   ]
  },
  {
   "cell_type": "code",
   "execution_count": null,
   "metadata": {},
   "outputs": [],
   "source": [
    "## Data views\n",
    "### Interesting\n",
    "view_reductions = our_utla[our_utla[\"diff\"] < 0] # instances where the cumulative case count went down\n",
    "view_yesterday = our_utla[our_utla[\"date\"] == pd.to_datetime(yesterday)]\n",
    "view_today = our_utla[our_utla[\"date\"] == pd.to_datetime(today)]\n",
    "view_latest_deaths = our_trusts.pivot_table(our_trusts, index=[\"code\",\"name\"], aggfunc=np.sum)\n",
    "\n",
    "### Required\n",
    "#### Country\n",
    "view_uk_cases = get_data(\"Manual UK\",pheh_ukcases)\n",
    "view_uk_deaths = get_data(\"Manual UK\",pheh_ukdeaths)\n",
    "view_england_cases = get_data(\"E92000001\",pheh_ukcases)\n",
    "view_england_deaths = get_data(\"E92000001\",pheh_ukdeaths)\n",
    "view_scotland_cases = get_data(\"S92000003\",pheh_ukcases)\n",
    "view_scotland_deaths = get_data(\"S92000003\",pheh_ukdeaths)\n",
    "view_wales_cases = get_data(\"W92000004\",pheh_ukcases)\n",
    "view_wales_deaths = get_data(\"W92000004\",pheh_ukdeaths)\n",
    "view_northernireland_cases = get_data(\"N92000002\",pheh_ukcases)\n",
    "view_northernireland_deaths = get_data(\"N92000002\",pheh_ukdeaths)\n",
    "\n",
    "#### Total Region\n",
    "view_totalregion_cases = get_data(\"ManualREG\",our_utla_groups)\n",
    "view_totalregion_deaths = get_data(\"ManualREG\",our_trust_groups)\n",
    "\n",
    "#### Black Country and Birmingham\n",
    "view_blackcountry_cases = get_data(\"ManualBLC\",our_utla_groups)\n",
    "view_blackcountryandbirmingham_cases = get_data(\"ManualBAB\",our_utla_groups)\n",
    "view_blackcountryandbirmingham_deaths = get_data(\"ManualBAB\",our_trust_groups)\n",
    "\n",
    "#### Wolverhampton\n",
    "view_wolverhampton_cases = get_data(\"E08000031\",our_utla)\n",
    "view_wolverhampton_deaths = get_data(\"RL4\",our_trusts)\n",
    "\n",
    "#### Walsall\n",
    "view_walsall_cases = get_data(\"E08000030\",our_utla)\n",
    "view_walsall_deaths = get_data(\"RBK\",our_trusts)\n",
    "\n",
    "#### Dudley\n",
    "view_dudley_cases = get_data(\"E08000027\",our_utla)\n",
    "view_dudley_deaths = get_data(\"RNA\",our_trusts)\n",
    "\n",
    "#### Sandwell and Birmingham\n",
    "view_sandwell_cases = get_data(\"E08000028\",our_utla)\n",
    "view_birmingham_cases = get_data(\"E08000025\",our_utla)\n",
    "view_total_sandwellandbirmingham_cases = get_data(\"ManualSAB\",our_utla_groups)\n",
    "view_total_sandwellandbirmingham_deaths = get_data(\"ManualSAB\",our_trust_groups)\n",
    "\n",
    "#### Staffordshire\n",
    "view_staffordshire_cases = get_data(\"E10000028\",our_utla)\n",
    "view_stoke_cases = get_data(\"E06000021\",our_utla)\n",
    "view_total_staffordshire_cases = get_data(\"ManualSTF\",our_utla_groups)\n",
    "view_total_staffordshire_deaths = get_data(\"ManualSTF\",our_trust_groups)\n",
    "\n",
    "#### Worcestershire\n",
    "view_worcestershire_cases = get_data(\"E10000034\",our_utla)\n",
    "view_worcetershire_deaths = get_data(\"ManualWOR\",our_trust_groups)"
   ]
  },
  {
   "cell_type": "markdown",
   "metadata": {},
   "source": [
    "# UK"
   ]
  },
  {
   "cell_type": "code",
   "execution_count": null,
   "metadata": {},
   "outputs": [],
   "source": [
    "view_uk_cases"
   ]
  },
  {
   "cell_type": "code",
   "execution_count": null,
   "metadata": {},
   "outputs": [],
   "source": [
    "view_uk_deaths"
   ]
  },
  {
   "cell_type": "markdown",
   "metadata": {},
   "source": [
    "# England"
   ]
  },
  {
   "cell_type": "code",
   "execution_count": null,
   "metadata": {},
   "outputs": [],
   "source": [
    "view_england_cases"
   ]
  },
  {
   "cell_type": "code",
   "execution_count": null,
   "metadata": {},
   "outputs": [],
   "source": [
    "view_england_deaths"
   ]
  },
  {
   "cell_type": "markdown",
   "metadata": {},
   "source": [
    "# Scotland"
   ]
  },
  {
   "cell_type": "code",
   "execution_count": null,
   "metadata": {},
   "outputs": [],
   "source": [
    "view_scotland_cases"
   ]
  },
  {
   "cell_type": "code",
   "execution_count": null,
   "metadata": {},
   "outputs": [],
   "source": [
    "view_scotland_deaths"
   ]
  },
  {
   "cell_type": "markdown",
   "metadata": {},
   "source": [
    "# Wales"
   ]
  },
  {
   "cell_type": "code",
   "execution_count": null,
   "metadata": {},
   "outputs": [],
   "source": [
    "view_wales_cases"
   ]
  },
  {
   "cell_type": "code",
   "execution_count": null,
   "metadata": {},
   "outputs": [],
   "source": [
    "view_wales_deaths"
   ]
  },
  {
   "cell_type": "markdown",
   "metadata": {},
   "source": [
    "# Northern Ireland"
   ]
  },
  {
   "cell_type": "code",
   "execution_count": null,
   "metadata": {},
   "outputs": [],
   "source": [
    "view_northernireland_cases"
   ]
  },
  {
   "cell_type": "code",
   "execution_count": null,
   "metadata": {},
   "outputs": [],
   "source": [
    "view_northernireland_deaths"
   ]
  },
  {
   "cell_type": "markdown",
   "metadata": {},
   "source": [
    "# Total E&S Region\n",
    "_Combining Black Country, Birmingham and Staffordshire._"
   ]
  },
  {
   "cell_type": "code",
   "execution_count": null,
   "metadata": {},
   "outputs": [],
   "source": [
    "view_totalregion_cases"
   ]
  },
  {
   "cell_type": "code",
   "execution_count": null,
   "metadata": {},
   "outputs": [],
   "source": [
    "view_totalregion_deaths"
   ]
  },
  {
   "cell_type": "markdown",
   "metadata": {},
   "source": [
    "# Total Black Country and Birmingham"
   ]
  },
  {
   "cell_type": "code",
   "execution_count": null,
   "metadata": {},
   "outputs": [],
   "source": [
    "view_blackcountry_cases"
   ]
  },
  {
   "cell_type": "code",
   "execution_count": null,
   "metadata": {},
   "outputs": [],
   "source": [
    "view_blackcountryandbirmingham_cases"
   ]
  },
  {
   "cell_type": "code",
   "execution_count": null,
   "metadata": {},
   "outputs": [],
   "source": [
    "view_blackcountryandbirmingham_deaths"
   ]
  },
  {
   "cell_type": "markdown",
   "metadata": {},
   "source": [
    "# Wolverhampton"
   ]
  },
  {
   "cell_type": "code",
   "execution_count": null,
   "metadata": {},
   "outputs": [],
   "source": [
    "view_wolverhampton_cases"
   ]
  },
  {
   "cell_type": "code",
   "execution_count": null,
   "metadata": {},
   "outputs": [],
   "source": [
    "view_wolverhampton_deaths"
   ]
  },
  {
   "cell_type": "markdown",
   "metadata": {},
   "source": [
    "# Walsall"
   ]
  },
  {
   "cell_type": "code",
   "execution_count": null,
   "metadata": {},
   "outputs": [],
   "source": [
    "view_walsall_cases"
   ]
  },
  {
   "cell_type": "code",
   "execution_count": null,
   "metadata": {},
   "outputs": [],
   "source": [
    "view_walsall_deaths"
   ]
  },
  {
   "cell_type": "markdown",
   "metadata": {},
   "source": [
    "# Dudley"
   ]
  },
  {
   "cell_type": "code",
   "execution_count": null,
   "metadata": {},
   "outputs": [],
   "source": [
    "view_dudley_cases"
   ]
  },
  {
   "cell_type": "code",
   "execution_count": null,
   "metadata": {},
   "outputs": [],
   "source": [
    "view_dudley_deaths"
   ]
  },
  {
   "cell_type": "markdown",
   "metadata": {},
   "source": [
    "# Sandwell and Birmingham"
   ]
  },
  {
   "cell_type": "code",
   "execution_count": null,
   "metadata": {},
   "outputs": [],
   "source": [
    "view_sandwell_cases"
   ]
  },
  {
   "cell_type": "code",
   "execution_count": null,
   "metadata": {},
   "outputs": [],
   "source": [
    "view_birmingham_cases"
   ]
  },
  {
   "cell_type": "code",
   "execution_count": null,
   "metadata": {},
   "outputs": [],
   "source": [
    "view_total_sandwellandbirmingham_cases"
   ]
  },
  {
   "cell_type": "code",
   "execution_count": null,
   "metadata": {},
   "outputs": [],
   "source": [
    "view_total_sandwellandbirmingham_deaths"
   ]
  },
  {
   "cell_type": "markdown",
   "metadata": {},
   "source": [
    "# Staffordshire"
   ]
  },
  {
   "cell_type": "code",
   "execution_count": null,
   "metadata": {},
   "outputs": [],
   "source": [
    "view_staffordshire_cases"
   ]
  },
  {
   "cell_type": "code",
   "execution_count": null,
   "metadata": {},
   "outputs": [],
   "source": [
    "view_stoke_cases"
   ]
  },
  {
   "cell_type": "code",
   "execution_count": null,
   "metadata": {},
   "outputs": [],
   "source": [
    "view_total_staffordshire_cases"
   ]
  },
  {
   "cell_type": "markdown",
   "metadata": {},
   "source": [
    "## Total Staffordshire Deaths\n",
    "_North Staffordshire Combined Healthcare NHS Trust (RLY) + University Hospitals of North Midlands NHS Trust (RJE)_"
   ]
  },
  {
   "cell_type": "code",
   "execution_count": null,
   "metadata": {},
   "outputs": [],
   "source": [
    "view_total_staffordshire_deaths"
   ]
  },
  {
   "cell_type": "markdown",
   "metadata": {},
   "source": [
    "# Worcestershire"
   ]
  },
  {
   "cell_type": "code",
   "execution_count": null,
   "metadata": {},
   "outputs": [],
   "source": [
    "view_worcestershire_cases"
   ]
  },
  {
   "cell_type": "code",
   "execution_count": null,
   "metadata": {},
   "outputs": [],
   "source": [
    "view_worcetershire_deaths"
   ]
  },
  {
   "cell_type": "markdown",
   "metadata": {},
   "source": [
    "---\n",
    "# Visualisations"
   ]
  },
  {
   "cell_type": "markdown",
   "metadata": {},
   "source": [
    "## Cumulative Deaths at E&S region trusts"
   ]
  },
  {
   "cell_type": "code",
   "execution_count": null,
   "metadata": {},
   "outputs": [],
   "source": [
    "eands_trust_codes = [\n",
    "    'RNA', # The Dudley Group NHS Foundation Trust\n",
    "    'RL4', # The Royal Wolverhampton NHS Trust\n",
    "    'RXK', # Sandwell And West Birmingham Hospitals NHS Trust\n",
    "    'RRK', # University Hospitals Birmingham NHS Foundation Trust\n",
    "    'RBK', # Walsall Healthcare NHS Trust\n",
    "    'RJE', # University Hospitals Of North Midlands NHS Trust\n",
    "]\n",
    "eands_trust_data = our_trusts[our_trusts.code.isin(eands_trust_codes)]\n",
    "\n",
    "alt.Chart(eands_trust_data).mark_line().encode(\n",
    "    x='date',\n",
    "    y='cumulative_deaths',\n",
    "    color='name',\n",
    "    tooltip='name'\n",
    ")"
   ]
  },
  {
   "cell_type": "markdown",
   "metadata": {},
   "source": [
    "## Relative change in cases at country level"
   ]
  },
  {
   "cell_type": "code",
   "execution_count": null,
   "metadata": {},
   "outputs": [],
   "source": [
    "alt.Chart(pheh_ukcases).mark_line().encode(\n",
    "    x='date',\n",
    "    y='reldiff',\n",
    "    color='name',\n",
    "    tooltip='name',\n",
    ")"
   ]
  },
  {
   "cell_type": "markdown",
   "metadata": {},
   "source": [
    "## Relative change in deaths at our trusts"
   ]
  },
  {
   "cell_type": "code",
   "execution_count": null,
   "metadata": {},
   "outputs": [],
   "source": [
    "alt.Chart(our_trusts).mark_line().encode(\n",
    "    x='date',\n",
    "    y='reldiff',\n",
    "    color='name',\n",
    "    tooltip='name',\n",
    ")"
   ]
  },
  {
   "cell_type": "markdown",
   "metadata": {},
   "source": [
    "## Relative change in cases in our UTLAs"
   ]
  },
  {
   "cell_type": "code",
   "execution_count": null,
   "metadata": {},
   "outputs": [],
   "source": [
    "alt.Chart(our_utla).mark_line().encode(\n",
    "    x='date',\n",
    "    y='reldiff',\n",
    "    color='name',\n",
    "    tooltip='name',\n",
    ")"
   ]
  },
  {
   "cell_type": "code",
   "execution_count": null,
   "metadata": {},
   "outputs": [],
   "source": []
  }
 ],
 "metadata": {
  "kernelspec": {
   "display_name": "Python 3",
   "language": "python",
   "name": "python3"
  },
  "language_info": {
   "codemirror_mode": {
    "name": "ipython",
    "version": 3
   },
   "file_extension": ".py",
   "mimetype": "text/x-python",
   "name": "python",
   "nbconvert_exporter": "python",
   "pygments_lexer": "ipython3",
   "version": "3.8.2"
  }
 },
 "nbformat": 4,
 "nbformat_minor": 4
}
