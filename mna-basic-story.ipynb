{
 "cells": [
  {
   "cell_type": "code",
   "execution_count": 565,
   "metadata": {},
   "outputs": [],
   "source": [
    "import pandas as pd\n",
    "from datetime import date, timedelta\n",
    "import urllib\n",
    "import numpy as np\n",
    "import altair as alt"
   ]
  },
  {
   "cell_type": "code",
   "execution_count": 566,
   "metadata": {},
   "outputs": [],
   "source": [
    "# Global variables\n",
    "today = date.today()\n",
    "yesterday = date.today() - timedelta(days=1)"
   ]
  },
  {
   "cell_type": "code",
   "execution_count": 567,
   "metadata": {},
   "outputs": [],
   "source": [
    "# Functions\n",
    "def new_group(code, name, code_list, dataframe):\n",
    "    df = dataframe[dataframe.code.isin(code_list)].groupby(\"date\", as_index=False).sum()\n",
    "    df[\"code\"] = code\n",
    "    df[\"name\"] = name\n",
    "    return df\n",
    "\n",
    "def get_data(code,dataframe):\n",
    "    return dataframe[(dataframe[\"code\"] == code) & ((dataframe[\"date\"] == pd.to_datetime(yesterday)) | (dataframe[\"date\"] == pd.to_datetime(today)))]"
   ]
  },
  {
   "cell_type": "code",
   "execution_count": 568,
   "metadata": {},
   "outputs": [],
   "source": [
    "# NHS\n",
    "nhs_header_row = 15\n",
    "nhs_trust_sheet_name = 'COVID19 total deaths by trust'\n",
    "nhs_csv_trusts = 'nhs_csv_trusts.csv'\n",
    "our_trust_codes = [\n",
    "    'RYW', # Birmingham Community Healthcare NHS Foundation Trust\n",
    "    'RNA', # The Dudley Group NHS Foundation Trust\n",
    "    'RL4', # The Royal Wolverhampton NHS Trust\n",
    "    'RXK', # Sandwell And West Birmingham Hospitals NHS Trust\n",
    "    'RXW', # Shrewsbury And Telford Hospital NHS Trust\n",
    "    'RRJ', # The Royal Orthopaedic Hospital NHS Foundation Trust\n",
    "    'RRK', # University Hospitals Birmingham NHS Foundation Trust\n",
    "    'RJE', # University Hospitals Of North Midlands NHS Trust\n",
    "    'RBK', # Walsall Healthcare NHS Trust\n",
    "    'RWP', # Worcestershire Acute Hospitals NHS Trust\n",
    "    'R1A', # Worcestershire Health And Care NHS Trust\n",
    "    'RL1', # The Robert Jones And Agnes Hunt Orthopaedic Hospital NHS Foundation Trust\n",
    "]\n",
    "nhs_file_format = \"https://www.england.nhs.uk/statistics/wp-content/uploads/sites/2/DIRECTORY/COVID-19-total-announced-deaths-DATE.xlsx\"\n",
    "nhs_file_date_format = \"%-d-%B-%Y\"\n",
    "nhs_file_directory_format = \"%Y/%m\"\n",
    "nhs_latest_file = False\n",
    "\n",
    "nhs_today_file = nhs_file_format.replace(\"DATE\",today.strftime(nhs_file_date_format))\n",
    "nhs_today_file = nhs_today_file.replace(\"DIRECTORY\",today.strftime(nhs_file_directory_format))\n",
    "\n",
    "nhs_yesterday_file = nhs_file_format.replace(\"DATE\",yesterday.strftime(nhs_file_date_format))\n",
    "nhs_yesterday_file = nhs_yesterday_file.replace(\"DIRECTORY\",yesterday.strftime(nhs_file_directory_format))\n",
    "\n",
    "## NHS file handling with fallback\n",
    "try:\n",
    "  urllib.request.urlopen(nhs_today_file)\n",
    "  nhs_latest_file = nhs_today_file\n",
    "except urllib.error.HTTPError as e:\n",
    "  try:\n",
    "    nhs_latest_file = urllib.request.urlopen(nhs_yesterday_file)\n",
    "    nhs_latest_file = nhs_yesterday_file\n",
    "  except urllib.error.HTTPError as e:\n",
    "    pass\n",
    "\n",
    "## Import a specific sheet from the NHS Excel file and convert to CSV\n",
    "nhs_excel = pd.read_excel(nhs_latest_file, header=nhs_header_row, sheet_name=nhs_trust_sheet_name)\n",
    "nhs_excel.to_csv(nhs_csv_trusts)\n",
    "nhs_trusts = pd.read_csv(nhs_csv_trusts)\n",
    "\n",
    "## Filtering down to our_trusts\n",
    "our_trusts = nhs_trusts[nhs_trusts.Code.isin(our_trust_codes)] # filter to our trusts\n",
    "our_trusts = our_trusts.filter(regex='(^Code$|^Name$|[0-9]{4}-.+|^Up to.01-Mar-20$)', axis=1) # filter to only the required columns\n",
    "our_trusts = our_trusts.rename(columns={\"Code\": \"code\", \"Name\" : \"name\"}) # clean up column names\n",
    "our_trusts = pd.melt(our_trusts, id_vars=[\"code\",\"name\"], var_name=\"date\", value_name=\"deaths\") # un-pivot the date columns\n",
    "our_trusts[\"date\"] = our_trusts[\"date\"].str.replace(\"Up to 01-Mar-20\",\"2020-02-29 00:00:00\")\n",
    "our_trusts[\"date\"] = pd.to_datetime(our_trusts.date) # clean all dates to YYYY-MM-DD\n",
    "\n",
    "## Adding cumulative deaths\n",
    "our_trusts[\"cumulative_deaths\"] = our_trusts.groupby(\"name\").cumsum()\n",
    "\n",
    "## Cleaning float\n",
    "our_trusts[\"deaths\"] = our_trusts[\"deaths\"].convert_dtypes(convert_integer=True)\n",
    "our_trusts[\"cumulative_deaths\"] = our_trusts[\"cumulative_deaths\"].convert_dtypes(convert_integer=True)\n",
    "\n",
    "## Additional Groups / SubTotals\n",
    "### Create Groups\n",
    "#### Total Region\n",
    "group_totalregion_trusts = new_group(\"ManualREG\",\"Total Region\",[\n",
    "    'RYW', # Birmingham Community Healthcare NHS Foundation Trust\n",
    "    'RNA', # The Dudley Group NHS Foundation Trust\n",
    "    'RL4', # The Royal Wolverhampton NHS Trust\n",
    "    'RXK', # Sandwell And West Birmingham Hospitals NHS Trust\n",
    "    'RXW', # Shrewsbury And Telford Hospital NHS Trust\n",
    "    'RRJ', # The Royal Orthopaedic Hospital NHS Foundation Trust\n",
    "    'RRK', # University Hospitals Birmingham NHS Foundation Trust\n",
    "    'RJE', # University Hospitals Of North Midlands NHS Trust\n",
    "    'RBK', # Walsall Healthcare NHS Trust\n",
    "    'RWP', # Worcestershire Acute Hospitals NHS Trust\n",
    "    'R1A', # Worcestershire Health And Care NHS Trust\n",
    "    'RL1', # The Robert Jones And Agnes Hunt Orthopaedic Hospital NHS Foundation Trust\n",
    "],our_trusts)\n",
    "#### Black Country and Birmingham\n",
    "group_blackcountryandbirmingham_trusts = new_group(\"ManualBAB\",\"Black Country and Birmingham\",[\n",
    "    'RYW', # Birmingham Community Healthcare NHS Foundation Trust\n",
    "    'RNA', # The Dudley Group NHS Foundation Trust\n",
    "    'RL4', # The Royal Wolverhampton NHS Trust\n",
    "    'RXK', # Sandwell And West Birmingham Hospitals NHS Trust\n",
    "    'RRJ', # The Royal Orthopaedic Hospital NHS Foundation Trust\n",
    "    'RRK', # University Hospitals Birmingham NHS Foundation Trust\n",
    "    'RBK', # Walsall Healthcare NHS Trust\n",
    "],our_trusts)\n",
    "#### Sandwell and Birmingham\n",
    "group_sandwellandbirmingham_trusts = new_group(\"ManualSAB\",\"Sandwell and Birmingham\",[\n",
    "    'RYW', # Birmingham Community Healthcare NHS Foundation Trust\n",
    "    'RXK', # Sandwell And West Birmingham Hospitals NHS Trust\n",
    "    'RRJ', # The Royal Orthopaedic Hospital NHS Foundation Trust\n",
    "    'RRK', # University Hospitals Birmingham NHS Foundation Trust\n",
    "],our_trusts)\n",
    "\n",
    "#### Worcestershire\n",
    "group_worcestershire_trusts = new_group(\"ManualWOR\",\"Worcestershire\",[\n",
    "    'RWP', # Worcestershire Acute Hospitals NHS Trust\n",
    "    'R1A', # Worcestershire Health And Care NHS Trust\n",
    "],our_trusts)\n",
    "\n",
    "### Add Groups\n",
    "our_trust_groups = pd.DataFrame(columns = [\"code\",\"name\",\"date\",\"deaths\",\"cumulative_deaths\"])\n",
    "our_trust_groups = our_trust_groups.append([\n",
    "    group_sandwellandbirmingham_trusts,\n",
    "    group_worcestershire_trusts,\n",
    "    group_blackcountryandbirmingham_trusts,\n",
    "    group_totalregion_trusts\n",
    "], ignore_index=True)"
   ]
  },
  {
   "cell_type": "code",
   "execution_count": 569,
   "metadata": {},
   "outputs": [],
   "source": [
    "# Public Health England (PHE)\n",
    "our_utla_codes = [\n",
    "    'E08000025', # Birmingham\n",
    "    'E08000027', # Dudley\n",
    "    'E08000028', # Sandwell\n",
    "    'E06000051', # Shropshire\n",
    "    'E10000028', # Staffordshire\n",
    "    'E06000021', # Stoke-on-Trent\n",
    "    'E06000020', # Telford and Wrekin\n",
    "    'E08000030', # Walsall\n",
    "    'E08000031', # Wolverhampton\n",
    "    'E10000034', # Worcestershire\n",
    "]\n",
    "pheh_dashboard_url = 'https://fingertips.phe.org.uk/documents/Historic%20COVID-19%20Dashboard%20Data.xlsx'\n",
    "\n",
    "pheh_utla_header_row = 7 # zero indexed\n",
    "pheh_utla_sheet = 'UTLAs'\n",
    "pheh_utla_csv_filename = 'pheh-utla.csv'\n",
    "\n",
    "pheh_ukdeaths_header_row = 7\n",
    "pheh_ukdeaths_sheet = 'UK Deaths'\n",
    "pheh_ukdeaths_csv_filename = 'pheh-ukdeaths.csv'\n",
    "\n",
    "pheh_ukcases_header_row = 7\n",
    "pheh_ukcases_sheet = 'Countries'\n",
    "pheh_ukcases_csv_filename = 'pheh-ukcases.csv'\n",
    "\n",
    "## Import the Countries / Cases sheet from the PHE Excel file and convert to CSV\n",
    "pheh_ukcases_excel = pd.read_excel(pheh_dashboard_url, header=pheh_ukcases_header_row, sheet_name=pheh_ukcases_sheet)\n",
    "pheh_ukcases_excel.to_csv(pheh_ukcases_csv_filename)\n",
    "pheh_ukcases = pd.read_csv(pheh_ukcases_csv_filename)\n",
    "\n",
    "### Refining the Countries / Cases data\n",
    "pheh_ukcases = pheh_ukcases.rename(columns={\n",
    "    \"Area Code\": \"code\",\n",
    "    \"Area Name\": \"name\",\n",
    "}) # clean up column names\n",
    "pheh_ukcases.drop('Unnamed: 0', axis='columns', inplace=True)\n",
    "pheh_ukcases = pd.melt(pheh_ukcases, id_vars=[\"code\",\"name\"], var_name=\"date\", value_name=\"cases\") # un-pivot the date columns\n",
    "pheh_ukcases[\"date\"] = pd.to_datetime(pheh_ukcases.date) # clean all dates to YYYY-MM-DD\n",
    "pheh_ukcases[\"cases\"] = pheh_ukcases[\"cases\"].convert_dtypes(convert_integer=True)\n",
    "pheh_ukcases.loc[pheh_ukcases.name == \"UK\", \"code\"] = \"Manual UK\"\n",
    "\n",
    "## Import the UK Deaths sheet from the PHE Excel file and convert to CSV\n",
    "pheh_ukdeaths_excel = pd.read_excel(pheh_dashboard_url, header=pheh_ukdeaths_header_row, sheet_name=pheh_ukdeaths_sheet)\n",
    "pheh_ukdeaths_excel.to_csv(pheh_ukdeaths_csv_filename)\n",
    "pheh_ukdeaths = pd.read_csv(pheh_ukdeaths_csv_filename)\n",
    "\n",
    "### Refining the UK Deaths data\n",
    "pheh_ukdeaths = pheh_ukdeaths.rename(columns={\n",
    "    \"Date\": \"date\",\n",
    "    \"Deaths\" : \"deaths\",\n",
    "}) # clean up column names\n",
    "pheh_ukdeaths.drop('Unnamed: 0', axis='columns', inplace=True)\n",
    "pheh_ukdeaths.drop('deaths', axis='columns', inplace=True)\n",
    "pheh_ukdeaths = pd.melt(pheh_ukdeaths, id_vars=[\"date\"], var_name=\"name\", value_name=\"deaths\") # un-pivot the date columns\n",
    "pheh_ukdeaths[\"date\"] = pd.to_datetime(pheh_ukdeaths.date) # clean all dates to YYYY-MM-DD\n",
    "pheh_ukdeaths[\"deaths\"] = pheh_ukdeaths[\"deaths\"].convert_dtypes(convert_integer=True)\n",
    "# create a new column, setting a value of x where the name is y\n",
    "country_code_conditions = [\n",
    "    (pheh_ukdeaths[\"name\"] == \"England\"),\n",
    "    (pheh_ukdeaths[\"name\"] == \"Scotland\"),\n",
    "    (pheh_ukdeaths[\"name\"] == \"Wales\"),\n",
    "    (pheh_ukdeaths[\"name\"] == \"Northern Ireland\"),\n",
    "    (pheh_ukdeaths[\"name\"] == \"UK\"),\n",
    "]\n",
    "country_code_choices = [\n",
    "    \"E92000001\",\n",
    "    \"S92000003\",\n",
    "    \"W92000004\",\n",
    "    \"N92000002\",\n",
    "    \"Manual UK\",\n",
    "]\n",
    "pheh_ukdeaths[\"code\"] = np.select(country_code_conditions,country_code_choices)\n",
    "\n",
    "## Import the UTLA sheet from the PHE Excel file and convert to CSV\n",
    "pheh_utla_excel = pd.read_excel(pheh_dashboard_url, header=pheh_utla_header_row, sheet_name=pheh_utla_sheet)\n",
    "pheh_utla_excel.to_csv(pheh_utla_csv_filename)\n",
    "pheh_utla = pd.read_csv(pheh_utla_csv_filename)\n",
    "\n",
    "### Filtering down to our UTLAs\n",
    "our_utla = pheh_utla.rename(columns={\"Area Code\": \"code\", \"Area Name\" : \"name\"}) # clean up column names\n",
    "our_utla = our_utla[our_utla.code.isin(our_utla_codes)] # filter to our trusts\n",
    "our_utla.drop('Unnamed: 0', axis='columns', inplace=True)\n",
    "our_utla = pd.melt(our_utla, id_vars=[\"code\",\"name\"], var_name=\"date\", value_name=\"cases\") # un-pivot the date columns\n",
    "our_utla[\"date\"] = pd.to_datetime(our_utla.date) # clean all dates to YYYY-MM-DD\n",
    "our_utla[\"diff\"] = our_utla.groupby(\"code\")[\"cases\"].diff().convert_dtypes(convert_integer=True) # add daily variance\n",
    "\n",
    "## Additional Groups / SubTotals\n",
    "### Create Groups\n",
    "#### Total Region\n",
    "group_totalregion_cases = new_group(\"ManualREG\",\"Total Region\",[\n",
    "    'E08000025', # Birmingham\n",
    "    'E08000027', # Dudley\n",
    "    'E08000028', # Sandwell\n",
    "    'E06000051', # Shropshire\n",
    "    'E10000028', # Staffordshire\n",
    "    'E06000021', # Stoke-on-Trent\n",
    "    'E06000020', # Telford and Wrekin\n",
    "    'E08000030', # Walsall\n",
    "    'E08000031', # Wolverhampton\n",
    "    'E10000034', # Worcestershire\n",
    "],our_utla)\n",
    "#### Black Country\n",
    "group_blackcountry_cases = new_group(\"ManualBLC\",\"Black Country\",[\n",
    "    'E08000027', # Dudley\n",
    "    'E08000028', # Sandwell\n",
    "    'E08000030', # Walsall\n",
    "    'E08000031', # Wolverhampton\n",
    "],our_utla)\n",
    "#### Black Country and Birmingham\n",
    "group_blackcountryandbirmingham_cases = new_group(\"ManualBAB\",\"Black Country and Birmingham\",[\n",
    "    'E08000025', # Birmingham\n",
    "    'E08000027', # Dudley\n",
    "    'E08000028', # Sandwell\n",
    "    'E08000030', # Walsall\n",
    "    'E08000031', # Wolverhampton\n",
    "],our_utla)\n",
    "#### Sandwell and Birmingham\n",
    "group_sandwellandbirmingham_cases = new_group(\"ManualSAB\",\"Sandwell and Birmingham\",[\n",
    "    'E08000025', # Birmingham\n",
    "    'E08000028', # Sandwell\n",
    "],our_utla)\n",
    "#### Staffordshire\n",
    "group_staffordshire_cases = new_group(\"ManualSTF\",\"Staffordshire\",[   \n",
    "    'E10000028', # Staffordshire\n",
    "    'E06000021', # Stoke-on-Trent\n",
    "],our_utla)\n",
    "\n",
    "### Add Groups\n",
    "our_utla_groups = pd.DataFrame(columns = [\"code\",\"name\",\"date\",\"cases\",\"diff\"])\n",
    "our_utla_groups = our_utla_groups.append([\n",
    "    group_blackcountry_cases,\n",
    "    group_sandwellandbirmingham_cases,\n",
    "    group_staffordshire_cases,\n",
    "    group_blackcountryandbirmingham_cases,\n",
    "    group_totalregion_cases,\n",
    "], ignore_index=True)"
   ]
  },
  {
   "cell_type": "code",
   "execution_count": 570,
   "metadata": {},
   "outputs": [],
   "source": [
    "## Data views\n",
    "### Interesting\n",
    "view_reductions = our_utla[our_utla[\"diff\"] < 0] # instances where the cumulative case count went down\n",
    "view_yesterday = our_utla[our_utla[\"date\"] == pd.to_datetime(yesterday)]\n",
    "view_today = our_utla[our_utla[\"date\"] == pd.to_datetime(today)]\n",
    "view_latest_deaths = our_trusts.pivot_table(our_trusts, index=[\"code\",\"name\"], aggfunc=np.sum)\n",
    "\n",
    "### Required\n",
    "#### Country\n",
    "view_uk_cases = get_data(\"Manual UK\",pheh_ukcases)\n",
    "view_uk_deaths = get_data(\"Manual UK\",pheh_ukdeaths)\n",
    "view_england_cases = get_data(\"E92000001\",pheh_ukcases)\n",
    "view_england_deaths = get_data(\"E92000001\",pheh_ukdeaths)\n",
    "view_scotland_cases = get_data(\"S92000003\",pheh_ukcases)\n",
    "view_scotland_deaths = get_data(\"S92000003\",pheh_ukdeaths)\n",
    "view_wales_cases = get_data(\"W92000004\",pheh_ukcases)\n",
    "view_wales_deaths = get_data(\"W92000004\",pheh_ukdeaths)\n",
    "view_northernireland_cases = get_data(\"N92000002\",pheh_ukcases)\n",
    "view_northernireland_deaths = get_data(\"N92000002\",pheh_ukdeaths)\n",
    "\n",
    "#### Total Region\n",
    "view_totalregion_cases = get_data(\"ManualREG\",our_utla_groups)\n",
    "view_totalregion_deaths = get_data(\"ManualREG\",our_trust_groups)\n",
    "\n",
    "#### Black Country and Birmingham\n",
    "view_blackcountry_cases = get_data(\"ManualBLC\",our_utla_groups)\n",
    "view_blackcountryandbirmingham_cases = get_data(\"ManualBAB\",our_utla_groups)\n",
    "view_blackcountryandbirmingham_deaths = get_data(\"ManualBAB\",our_trust_groups)\n",
    "\n",
    "#### Wolverhampton\n",
    "view_wolverhampton_cases = get_data(\"E08000031\",our_utla)\n",
    "view_wolverhampton_deaths = get_data(\"RL4\",our_trusts)\n",
    "\n",
    "#### Walsall\n",
    "view_walsall_cases = get_data(\"E08000030\",our_utla)\n",
    "view_walsall_deaths = get_data(\"RBK\",our_trusts)\n",
    "\n",
    "#### Dudley\n",
    "view_dudley_cases = get_data(\"E08000027\",our_utla)\n",
    "view_dudley_deaths = get_data(\"RNA\",our_trusts)\n",
    "\n",
    "#### Sandwell and Birmingham\n",
    "view_sandwell_cases = get_data(\"E08000028\",our_utla)\n",
    "view_birmingham_cases = get_data(\"E08000025\",our_utla)\n",
    "view_total_sandwellandbirmingham_cases = get_data(\"ManualSAB\",our_utla_groups)\n",
    "view_total_sandwellandbirmingham_deaths = get_data(\"ManualSAB\",our_trust_groups)\n",
    "\n",
    "#### Staffordshire\n",
    "view_staffordshire_cases = get_data(\"E10000028\",our_utla)\n",
    "view_stoke_cases = get_data(\"E06000021\",our_utla)\n",
    "view_total_staffordshire_cases = get_data(\"ManualSTF\",our_utla_groups)\n",
    "\n",
    "#### Worcestershire\n",
    "view_worcestershire_cases = get_data(\"E10000034\",our_utla)\n",
    "view_worcetershire_deaths = get_data(\"ManualWOR\",our_trust_groups)"
   ]
  },
  {
   "cell_type": "markdown",
   "metadata": {},
   "source": [
    "# UK"
   ]
  },
  {
   "cell_type": "code",
   "execution_count": 571,
   "metadata": {},
   "outputs": [
    {
     "data": {
      "text/html": [
       "<div>\n",
       "<style scoped>\n",
       "    .dataframe tbody tr th:only-of-type {\n",
       "        vertical-align: middle;\n",
       "    }\n",
       "\n",
       "    .dataframe tbody tr th {\n",
       "        vertical-align: top;\n",
       "    }\n",
       "\n",
       "    .dataframe thead th {\n",
       "        text-align: right;\n",
       "    }\n",
       "</style>\n",
       "<table border=\"1\" class=\"dataframe\">\n",
       "  <thead>\n",
       "    <tr style=\"text-align: right;\">\n",
       "      <th></th>\n",
       "      <th>code</th>\n",
       "      <th>name</th>\n",
       "      <th>date</th>\n",
       "      <th>cases</th>\n",
       "    </tr>\n",
       "  </thead>\n",
       "  <tbody>\n",
       "    <tr>\n",
       "      <th>159</th>\n",
       "      <td>Manual UK</td>\n",
       "      <td>UK</td>\n",
       "      <td>2020-04-09</td>\n",
       "      <td>65077</td>\n",
       "    </tr>\n",
       "  </tbody>\n",
       "</table>\n",
       "</div>"
      ],
      "text/plain": [
       "          code name       date  cases\n",
       "159  Manual UK   UK 2020-04-09  65077"
      ]
     },
     "execution_count": 571,
     "metadata": {},
     "output_type": "execute_result"
    }
   ],
   "source": [
    "view_uk_cases"
   ]
  },
  {
   "cell_type": "code",
   "execution_count": 572,
   "metadata": {},
   "outputs": [
    {
     "data": {
      "text/html": [
       "<div>\n",
       "<style scoped>\n",
       "    .dataframe tbody tr th:only-of-type {\n",
       "        vertical-align: middle;\n",
       "    }\n",
       "\n",
       "    .dataframe tbody tr th {\n",
       "        vertical-align: top;\n",
       "    }\n",
       "\n",
       "    .dataframe thead th {\n",
       "        text-align: right;\n",
       "    }\n",
       "</style>\n",
       "<table border=\"1\" class=\"dataframe\">\n",
       "  <thead>\n",
       "    <tr style=\"text-align: right;\">\n",
       "      <th></th>\n",
       "      <th>date</th>\n",
       "      <th>name</th>\n",
       "      <th>deaths</th>\n",
       "      <th>code</th>\n",
       "    </tr>\n",
       "  </thead>\n",
       "  <tbody>\n",
       "    <tr>\n",
       "      <th>30</th>\n",
       "      <td>2020-04-09</td>\n",
       "      <td>UK</td>\n",
       "      <td>7978</td>\n",
       "      <td>Manual UK</td>\n",
       "    </tr>\n",
       "  </tbody>\n",
       "</table>\n",
       "</div>"
      ],
      "text/plain": [
       "         date name  deaths       code\n",
       "30 2020-04-09   UK    7978  Manual UK"
      ]
     },
     "execution_count": 572,
     "metadata": {},
     "output_type": "execute_result"
    }
   ],
   "source": [
    "view_uk_deaths"
   ]
  },
  {
   "cell_type": "markdown",
   "metadata": {},
   "source": [
    "# England"
   ]
  },
  {
   "cell_type": "code",
   "execution_count": 573,
   "metadata": {},
   "outputs": [
    {
     "data": {
      "text/html": [
       "<div>\n",
       "<style scoped>\n",
       "    .dataframe tbody tr th:only-of-type {\n",
       "        vertical-align: middle;\n",
       "    }\n",
       "\n",
       "    .dataframe tbody tr th {\n",
       "        vertical-align: top;\n",
       "    }\n",
       "\n",
       "    .dataframe thead th {\n",
       "        text-align: right;\n",
       "    }\n",
       "</style>\n",
       "<table border=\"1\" class=\"dataframe\">\n",
       "  <thead>\n",
       "    <tr style=\"text-align: right;\">\n",
       "      <th></th>\n",
       "      <th>code</th>\n",
       "      <th>name</th>\n",
       "      <th>date</th>\n",
       "      <th>cases</th>\n",
       "    </tr>\n",
       "  </thead>\n",
       "  <tbody>\n",
       "    <tr>\n",
       "      <th>155</th>\n",
       "      <td>E92000001</td>\n",
       "      <td>England</td>\n",
       "      <td>2020-04-09</td>\n",
       "      <td>54554</td>\n",
       "    </tr>\n",
       "  </tbody>\n",
       "</table>\n",
       "</div>"
      ],
      "text/plain": [
       "          code      name       date  cases\n",
       "155  E92000001  England  2020-04-09  54554"
      ]
     },
     "execution_count": 573,
     "metadata": {},
     "output_type": "execute_result"
    }
   ],
   "source": [
    "view_england_cases"
   ]
  },
  {
   "cell_type": "code",
   "execution_count": 574,
   "metadata": {},
   "outputs": [
    {
     "data": {
      "text/html": [
       "<div>\n",
       "<style scoped>\n",
       "    .dataframe tbody tr th:only-of-type {\n",
       "        vertical-align: middle;\n",
       "    }\n",
       "\n",
       "    .dataframe tbody tr th {\n",
       "        vertical-align: top;\n",
       "    }\n",
       "\n",
       "    .dataframe thead th {\n",
       "        text-align: right;\n",
       "    }\n",
       "</style>\n",
       "<table border=\"1\" class=\"dataframe\">\n",
       "  <thead>\n",
       "    <tr style=\"text-align: right;\">\n",
       "      <th></th>\n",
       "      <th>date</th>\n",
       "      <th>name</th>\n",
       "      <th>deaths</th>\n",
       "      <th>code</th>\n",
       "    </tr>\n",
       "  </thead>\n",
       "  <tbody>\n",
       "    <tr>\n",
       "      <th>61</th>\n",
       "      <td>2020-04-09</td>\n",
       "      <td>England</td>\n",
       "      <td>7248</td>\n",
       "      <td>E92000001</td>\n",
       "    </tr>\n",
       "  </tbody>\n",
       "</table>\n",
       "</div>"
      ],
      "text/plain": [
       "         date     name  deaths       code\n",
       "61 2020-04-09  England    7248  E92000001"
      ]
     },
     "execution_count": 574,
     "metadata": {},
     "output_type": "execute_result"
    }
   ],
   "source": [
    "view_england_deaths"
   ]
  },
  {
   "cell_type": "markdown",
   "metadata": {},
   "source": [
    "# Scotland"
   ]
  },
  {
   "cell_type": "code",
   "execution_count": 575,
   "metadata": {},
   "outputs": [
    {
     "data": {
      "text/html": [
       "<div>\n",
       "<style scoped>\n",
       "    .dataframe tbody tr th:only-of-type {\n",
       "        vertical-align: middle;\n",
       "    }\n",
       "\n",
       "    .dataframe tbody tr th {\n",
       "        vertical-align: top;\n",
       "    }\n",
       "\n",
       "    .dataframe thead th {\n",
       "        text-align: right;\n",
       "    }\n",
       "</style>\n",
       "<table border=\"1\" class=\"dataframe\">\n",
       "  <thead>\n",
       "    <tr style=\"text-align: right;\">\n",
       "      <th></th>\n",
       "      <th>code</th>\n",
       "      <th>name</th>\n",
       "      <th>date</th>\n",
       "      <th>cases</th>\n",
       "    </tr>\n",
       "  </thead>\n",
       "  <tbody>\n",
       "    <tr>\n",
       "      <th>156</th>\n",
       "      <td>S92000003</td>\n",
       "      <td>Scotland</td>\n",
       "      <td>2020-04-09</td>\n",
       "      <td>4957</td>\n",
       "    </tr>\n",
       "  </tbody>\n",
       "</table>\n",
       "</div>"
      ],
      "text/plain": [
       "          code      name       date  cases\n",
       "156  S92000003  Scotland 2020-04-09   4957"
      ]
     },
     "execution_count": 575,
     "metadata": {},
     "output_type": "execute_result"
    }
   ],
   "source": [
    "view_scotland_cases"
   ]
  },
  {
   "cell_type": "code",
   "execution_count": 576,
   "metadata": {},
   "outputs": [
    {
     "data": {
      "text/html": [
       "<div>\n",
       "<style scoped>\n",
       "    .dataframe tbody tr th:only-of-type {\n",
       "        vertical-align: middle;\n",
       "    }\n",
       "\n",
       "    .dataframe tbody tr th {\n",
       "        vertical-align: top;\n",
       "    }\n",
       "\n",
       "    .dataframe thead th {\n",
       "        text-align: right;\n",
       "    }\n",
       "</style>\n",
       "<table border=\"1\" class=\"dataframe\">\n",
       "  <thead>\n",
       "    <tr style=\"text-align: right;\">\n",
       "      <th></th>\n",
       "      <th>date</th>\n",
       "      <th>name</th>\n",
       "      <th>deaths</th>\n",
       "      <th>code</th>\n",
       "    </tr>\n",
       "  </thead>\n",
       "  <tbody>\n",
       "    <tr>\n",
       "      <th>92</th>\n",
       "      <td>2020-04-09</td>\n",
       "      <td>Scotland</td>\n",
       "      <td>366</td>\n",
       "      <td>S92000003</td>\n",
       "    </tr>\n",
       "  </tbody>\n",
       "</table>\n",
       "</div>"
      ],
      "text/plain": [
       "         date      name  deaths       code\n",
       "92 2020-04-09  Scotland     366  S92000003"
      ]
     },
     "execution_count": 576,
     "metadata": {},
     "output_type": "execute_result"
    }
   ],
   "source": [
    "view_scotland_deaths"
   ]
  },
  {
   "cell_type": "markdown",
   "metadata": {},
   "source": [
    "# Wales"
   ]
  },
  {
   "cell_type": "code",
   "execution_count": 577,
   "metadata": {},
   "outputs": [
    {
     "data": {
      "text/html": [
       "<div>\n",
       "<style scoped>\n",
       "    .dataframe tbody tr th:only-of-type {\n",
       "        vertical-align: middle;\n",
       "    }\n",
       "\n",
       "    .dataframe tbody tr th {\n",
       "        vertical-align: top;\n",
       "    }\n",
       "\n",
       "    .dataframe thead th {\n",
       "        text-align: right;\n",
       "    }\n",
       "</style>\n",
       "<table border=\"1\" class=\"dataframe\">\n",
       "  <thead>\n",
       "    <tr style=\"text-align: right;\">\n",
       "      <th></th>\n",
       "      <th>code</th>\n",
       "      <th>name</th>\n",
       "      <th>date</th>\n",
       "      <th>cases</th>\n",
       "    </tr>\n",
       "  </thead>\n",
       "  <tbody>\n",
       "    <tr>\n",
       "      <th>157</th>\n",
       "      <td>W92000004</td>\n",
       "      <td>Wales</td>\n",
       "      <td>2020-04-09</td>\n",
       "      <td>4089</td>\n",
       "    </tr>\n",
       "  </tbody>\n",
       "</table>\n",
       "</div>"
      ],
      "text/plain": [
       "          code   name       date  cases\n",
       "157  W92000004  Wales 2020-04-09   4089"
      ]
     },
     "execution_count": 577,
     "metadata": {},
     "output_type": "execute_result"
    }
   ],
   "source": [
    "view_wales_cases"
   ]
  },
  {
   "cell_type": "code",
   "execution_count": 578,
   "metadata": {},
   "outputs": [
    {
     "data": {
      "text/html": [
       "<div>\n",
       "<style scoped>\n",
       "    .dataframe tbody tr th:only-of-type {\n",
       "        vertical-align: middle;\n",
       "    }\n",
       "\n",
       "    .dataframe tbody tr th {\n",
       "        vertical-align: top;\n",
       "    }\n",
       "\n",
       "    .dataframe thead th {\n",
       "        text-align: right;\n",
       "    }\n",
       "</style>\n",
       "<table border=\"1\" class=\"dataframe\">\n",
       "  <thead>\n",
       "    <tr style=\"text-align: right;\">\n",
       "      <th></th>\n",
       "      <th>date</th>\n",
       "      <th>name</th>\n",
       "      <th>deaths</th>\n",
       "      <th>code</th>\n",
       "    </tr>\n",
       "  </thead>\n",
       "  <tbody>\n",
       "    <tr>\n",
       "      <th>123</th>\n",
       "      <td>2020-04-09</td>\n",
       "      <td>Wales</td>\n",
       "      <td>286</td>\n",
       "      <td>W92000004</td>\n",
       "    </tr>\n",
       "  </tbody>\n",
       "</table>\n",
       "</div>"
      ],
      "text/plain": [
       "          date   name  deaths       code\n",
       "123 2020-04-09  Wales     286  W92000004"
      ]
     },
     "execution_count": 578,
     "metadata": {},
     "output_type": "execute_result"
    }
   ],
   "source": [
    "view_wales_deaths"
   ]
  },
  {
   "cell_type": "markdown",
   "metadata": {},
   "source": [
    "# Northern Ireland"
   ]
  },
  {
   "cell_type": "code",
   "execution_count": 579,
   "metadata": {},
   "outputs": [
    {
     "data": {
      "text/html": [
       "<div>\n",
       "<style scoped>\n",
       "    .dataframe tbody tr th:only-of-type {\n",
       "        vertical-align: middle;\n",
       "    }\n",
       "\n",
       "    .dataframe tbody tr th {\n",
       "        vertical-align: top;\n",
       "    }\n",
       "\n",
       "    .dataframe thead th {\n",
       "        text-align: right;\n",
       "    }\n",
       "</style>\n",
       "<table border=\"1\" class=\"dataframe\">\n",
       "  <thead>\n",
       "    <tr style=\"text-align: right;\">\n",
       "      <th></th>\n",
       "      <th>code</th>\n",
       "      <th>name</th>\n",
       "      <th>date</th>\n",
       "      <th>cases</th>\n",
       "    </tr>\n",
       "  </thead>\n",
       "  <tbody>\n",
       "    <tr>\n",
       "      <th>158</th>\n",
       "      <td>N92000002</td>\n",
       "      <td>Northern Ireland</td>\n",
       "      <td>2020-04-09</td>\n",
       "      <td>1477</td>\n",
       "    </tr>\n",
       "  </tbody>\n",
       "</table>\n",
       "</div>"
      ],
      "text/plain": [
       "          code              name       date  cases\n",
       "158  N92000002  Northern Ireland 2020-04-09   1477"
      ]
     },
     "execution_count": 579,
     "metadata": {},
     "output_type": "execute_result"
    }
   ],
   "source": [
    "view_northernireland_cases"
   ]
  },
  {
   "cell_type": "code",
   "execution_count": 580,
   "metadata": {},
   "outputs": [
    {
     "data": {
      "text/html": [
       "<div>\n",
       "<style scoped>\n",
       "    .dataframe tbody tr th:only-of-type {\n",
       "        vertical-align: middle;\n",
       "    }\n",
       "\n",
       "    .dataframe tbody tr th {\n",
       "        vertical-align: top;\n",
       "    }\n",
       "\n",
       "    .dataframe thead th {\n",
       "        text-align: right;\n",
       "    }\n",
       "</style>\n",
       "<table border=\"1\" class=\"dataframe\">\n",
       "  <thead>\n",
       "    <tr style=\"text-align: right;\">\n",
       "      <th></th>\n",
       "      <th>date</th>\n",
       "      <th>name</th>\n",
       "      <th>deaths</th>\n",
       "      <th>code</th>\n",
       "    </tr>\n",
       "  </thead>\n",
       "  <tbody>\n",
       "    <tr>\n",
       "      <th>154</th>\n",
       "      <td>2020-04-09</td>\n",
       "      <td>Northern Ireland</td>\n",
       "      <td>78</td>\n",
       "      <td>N92000002</td>\n",
       "    </tr>\n",
       "  </tbody>\n",
       "</table>\n",
       "</div>"
      ],
      "text/plain": [
       "          date              name  deaths       code\n",
       "154 2020-04-09  Northern Ireland      78  N92000002"
      ]
     },
     "execution_count": 580,
     "metadata": {},
     "output_type": "execute_result"
    }
   ],
   "source": [
    "view_northernireland_deaths"
   ]
  },
  {
   "cell_type": "markdown",
   "metadata": {},
   "source": [
    "# Total Region\n",
    "_Combining Black Country, Birmingham and Staffordshire._"
   ]
  },
  {
   "cell_type": "code",
   "execution_count": 581,
   "metadata": {},
   "outputs": [
    {
     "data": {
      "text/html": [
       "<div>\n",
       "<style scoped>\n",
       "    .dataframe tbody tr th:only-of-type {\n",
       "        vertical-align: middle;\n",
       "    }\n",
       "\n",
       "    .dataframe tbody tr th {\n",
       "        vertical-align: top;\n",
       "    }\n",
       "\n",
       "    .dataframe thead th {\n",
       "        text-align: right;\n",
       "    }\n",
       "</style>\n",
       "<table border=\"1\" class=\"dataframe\">\n",
       "  <thead>\n",
       "    <tr style=\"text-align: right;\">\n",
       "      <th></th>\n",
       "      <th>code</th>\n",
       "      <th>name</th>\n",
       "      <th>date</th>\n",
       "      <th>cases</th>\n",
       "      <th>diff</th>\n",
       "    </tr>\n",
       "  </thead>\n",
       "  <tbody>\n",
       "    <tr>\n",
       "      <th>159</th>\n",
       "      <td>ManualREG</td>\n",
       "      <td>Total Region</td>\n",
       "      <td>2020-04-09</td>\n",
       "      <td>4715</td>\n",
       "      <td>226</td>\n",
       "    </tr>\n",
       "  </tbody>\n",
       "</table>\n",
       "</div>"
      ],
      "text/plain": [
       "          code          name       date cases diff\n",
       "159  ManualREG  Total Region 2020-04-09  4715  226"
      ]
     },
     "execution_count": 581,
     "metadata": {},
     "output_type": "execute_result"
    }
   ],
   "source": [
    "view_totalregion_cases"
   ]
  },
  {
   "cell_type": "code",
   "execution_count": 582,
   "metadata": {},
   "outputs": [
    {
     "data": {
      "text/html": [
       "<div>\n",
       "<style scoped>\n",
       "    .dataframe tbody tr th:only-of-type {\n",
       "        vertical-align: middle;\n",
       "    }\n",
       "\n",
       "    .dataframe tbody tr th {\n",
       "        vertical-align: top;\n",
       "    }\n",
       "\n",
       "    .dataframe thead th {\n",
       "        text-align: right;\n",
       "    }\n",
       "</style>\n",
       "<table border=\"1\" class=\"dataframe\">\n",
       "  <thead>\n",
       "    <tr style=\"text-align: right;\">\n",
       "      <th></th>\n",
       "      <th>code</th>\n",
       "      <th>name</th>\n",
       "      <th>date</th>\n",
       "      <th>deaths</th>\n",
       "      <th>cumulative_deaths</th>\n",
       "    </tr>\n",
       "  </thead>\n",
       "  <tbody>\n",
       "    <tr>\n",
       "      <th>163</th>\n",
       "      <td>ManualREG</td>\n",
       "      <td>Total Region</td>\n",
       "      <td>2020-04-09</td>\n",
       "      <td>4</td>\n",
       "      <td>1024</td>\n",
       "    </tr>\n",
       "  </tbody>\n",
       "</table>\n",
       "</div>"
      ],
      "text/plain": [
       "          code          name       date deaths cumulative_deaths\n",
       "163  ManualREG  Total Region 2020-04-09      4              1024"
      ]
     },
     "execution_count": 582,
     "metadata": {},
     "output_type": "execute_result"
    }
   ],
   "source": [
    "view_totalregion_deaths"
   ]
  },
  {
   "cell_type": "markdown",
   "metadata": {},
   "source": [
    "# Total Black Country and Birmingham"
   ]
  },
  {
   "cell_type": "code",
   "execution_count": 583,
   "metadata": {},
   "outputs": [
    {
     "data": {
      "text/html": [
       "<div>\n",
       "<style scoped>\n",
       "    .dataframe tbody tr th:only-of-type {\n",
       "        vertical-align: middle;\n",
       "    }\n",
       "\n",
       "    .dataframe tbody tr th {\n",
       "        vertical-align: top;\n",
       "    }\n",
       "\n",
       "    .dataframe thead th {\n",
       "        text-align: right;\n",
       "    }\n",
       "</style>\n",
       "<table border=\"1\" class=\"dataframe\">\n",
       "  <thead>\n",
       "    <tr style=\"text-align: right;\">\n",
       "      <th></th>\n",
       "      <th>code</th>\n",
       "      <th>name</th>\n",
       "      <th>date</th>\n",
       "      <th>cases</th>\n",
       "      <th>diff</th>\n",
       "    </tr>\n",
       "  </thead>\n",
       "  <tbody>\n",
       "    <tr>\n",
       "      <th>31</th>\n",
       "      <td>ManualBLC</td>\n",
       "      <td>Black Country</td>\n",
       "      <td>2020-04-09</td>\n",
       "      <td>1597</td>\n",
       "      <td>82</td>\n",
       "    </tr>\n",
       "  </tbody>\n",
       "</table>\n",
       "</div>"
      ],
      "text/plain": [
       "         code           name       date cases diff\n",
       "31  ManualBLC  Black Country 2020-04-09  1597   82"
      ]
     },
     "execution_count": 583,
     "metadata": {},
     "output_type": "execute_result"
    }
   ],
   "source": [
    "view_blackcountry_cases"
   ]
  },
  {
   "cell_type": "code",
   "execution_count": 584,
   "metadata": {},
   "outputs": [
    {
     "data": {
      "text/html": [
       "<div>\n",
       "<style scoped>\n",
       "    .dataframe tbody tr th:only-of-type {\n",
       "        vertical-align: middle;\n",
       "    }\n",
       "\n",
       "    .dataframe tbody tr th {\n",
       "        vertical-align: top;\n",
       "    }\n",
       "\n",
       "    .dataframe thead th {\n",
       "        text-align: right;\n",
       "    }\n",
       "</style>\n",
       "<table border=\"1\" class=\"dataframe\">\n",
       "  <thead>\n",
       "    <tr style=\"text-align: right;\">\n",
       "      <th></th>\n",
       "      <th>code</th>\n",
       "      <th>name</th>\n",
       "      <th>date</th>\n",
       "      <th>cases</th>\n",
       "      <th>diff</th>\n",
       "    </tr>\n",
       "  </thead>\n",
       "  <tbody>\n",
       "    <tr>\n",
       "      <th>127</th>\n",
       "      <td>ManualBAB</td>\n",
       "      <td>Black Country and Birmingham</td>\n",
       "      <td>2020-04-09</td>\n",
       "      <td>3121</td>\n",
       "      <td>144</td>\n",
       "    </tr>\n",
       "  </tbody>\n",
       "</table>\n",
       "</div>"
      ],
      "text/plain": [
       "          code                          name       date cases diff\n",
       "127  ManualBAB  Black Country and Birmingham 2020-04-09  3121  144"
      ]
     },
     "execution_count": 584,
     "metadata": {},
     "output_type": "execute_result"
    }
   ],
   "source": [
    "view_blackcountryandbirmingham_cases"
   ]
  },
  {
   "cell_type": "code",
   "execution_count": 585,
   "metadata": {},
   "outputs": [
    {
     "data": {
      "text/html": [
       "<div>\n",
       "<style scoped>\n",
       "    .dataframe tbody tr th:only-of-type {\n",
       "        vertical-align: middle;\n",
       "    }\n",
       "\n",
       "    .dataframe tbody tr th {\n",
       "        vertical-align: top;\n",
       "    }\n",
       "\n",
       "    .dataframe thead th {\n",
       "        text-align: right;\n",
       "    }\n",
       "</style>\n",
       "<table border=\"1\" class=\"dataframe\">\n",
       "  <thead>\n",
       "    <tr style=\"text-align: right;\">\n",
       "      <th></th>\n",
       "      <th>code</th>\n",
       "      <th>name</th>\n",
       "      <th>date</th>\n",
       "      <th>deaths</th>\n",
       "      <th>cumulative_deaths</th>\n",
       "    </tr>\n",
       "  </thead>\n",
       "  <tbody>\n",
       "    <tr>\n",
       "      <th>122</th>\n",
       "      <td>ManualBAB</td>\n",
       "      <td>Black Country and Birmingham</td>\n",
       "      <td>2020-04-09</td>\n",
       "      <td>3</td>\n",
       "      <td>825</td>\n",
       "    </tr>\n",
       "  </tbody>\n",
       "</table>\n",
       "</div>"
      ],
      "text/plain": [
       "          code                          name       date deaths  \\\n",
       "122  ManualBAB  Black Country and Birmingham 2020-04-09      3   \n",
       "\n",
       "    cumulative_deaths  \n",
       "122               825  "
      ]
     },
     "execution_count": 585,
     "metadata": {},
     "output_type": "execute_result"
    }
   ],
   "source": [
    "view_blackcountryandbirmingham_deaths"
   ]
  },
  {
   "cell_type": "markdown",
   "metadata": {},
   "source": [
    "# Wolverhampton"
   ]
  },
  {
   "cell_type": "code",
   "execution_count": 586,
   "metadata": {},
   "outputs": [
    {
     "data": {
      "text/html": [
       "<div>\n",
       "<style scoped>\n",
       "    .dataframe tbody tr th:only-of-type {\n",
       "        vertical-align: middle;\n",
       "    }\n",
       "\n",
       "    .dataframe tbody tr th {\n",
       "        vertical-align: top;\n",
       "    }\n",
       "\n",
       "    .dataframe thead th {\n",
       "        text-align: right;\n",
       "    }\n",
       "</style>\n",
       "<table border=\"1\" class=\"dataframe\">\n",
       "  <thead>\n",
       "    <tr style=\"text-align: right;\">\n",
       "      <th></th>\n",
       "      <th>code</th>\n",
       "      <th>name</th>\n",
       "      <th>date</th>\n",
       "      <th>cases</th>\n",
       "      <th>diff</th>\n",
       "    </tr>\n",
       "  </thead>\n",
       "  <tbody>\n",
       "    <tr>\n",
       "      <th>317</th>\n",
       "      <td>E08000031</td>\n",
       "      <td>Wolverhampton</td>\n",
       "      <td>2020-04-09</td>\n",
       "      <td>368</td>\n",
       "      <td>14</td>\n",
       "    </tr>\n",
       "  </tbody>\n",
       "</table>\n",
       "</div>"
      ],
      "text/plain": [
       "          code           name       date  cases  diff\n",
       "317  E08000031  Wolverhampton 2020-04-09    368    14"
      ]
     },
     "execution_count": 586,
     "metadata": {},
     "output_type": "execute_result"
    }
   ],
   "source": [
    "view_wolverhampton_cases"
   ]
  },
  {
   "cell_type": "code",
   "execution_count": 587,
   "metadata": {},
   "outputs": [
    {
     "data": {
      "text/html": [
       "<div>\n",
       "<style scoped>\n",
       "    .dataframe tbody tr th:only-of-type {\n",
       "        vertical-align: middle;\n",
       "    }\n",
       "\n",
       "    .dataframe tbody tr th {\n",
       "        vertical-align: top;\n",
       "    }\n",
       "\n",
       "    .dataframe thead th {\n",
       "        text-align: right;\n",
       "    }\n",
       "</style>\n",
       "<table border=\"1\" class=\"dataframe\">\n",
       "  <thead>\n",
       "    <tr style=\"text-align: right;\">\n",
       "      <th></th>\n",
       "      <th>code</th>\n",
       "      <th>name</th>\n",
       "      <th>date</th>\n",
       "      <th>deaths</th>\n",
       "      <th>cumulative_deaths</th>\n",
       "    </tr>\n",
       "  </thead>\n",
       "  <tbody>\n",
       "    <tr>\n",
       "      <th>486</th>\n",
       "      <td>RL4</td>\n",
       "      <td>THE ROYAL WOLVERHAMPTON NHS TRUST</td>\n",
       "      <td>2020-04-09</td>\n",
       "      <td>2</td>\n",
       "      <td>133</td>\n",
       "    </tr>\n",
       "  </tbody>\n",
       "</table>\n",
       "</div>"
      ],
      "text/plain": [
       "    code                               name       date  deaths  \\\n",
       "486  RL4  THE ROYAL WOLVERHAMPTON NHS TRUST 2020-04-09       2   \n",
       "\n",
       "     cumulative_deaths  \n",
       "486                133  "
      ]
     },
     "execution_count": 587,
     "metadata": {},
     "output_type": "execute_result"
    }
   ],
   "source": [
    "view_wolverhampton_deaths"
   ]
  },
  {
   "cell_type": "markdown",
   "metadata": {},
   "source": [
    "# Walsall"
   ]
  },
  {
   "cell_type": "code",
   "execution_count": 588,
   "metadata": {},
   "outputs": [
    {
     "data": {
      "text/html": [
       "<div>\n",
       "<style scoped>\n",
       "    .dataframe tbody tr th:only-of-type {\n",
       "        vertical-align: middle;\n",
       "    }\n",
       "\n",
       "    .dataframe tbody tr th {\n",
       "        vertical-align: top;\n",
       "    }\n",
       "\n",
       "    .dataframe thead th {\n",
       "        text-align: right;\n",
       "    }\n",
       "</style>\n",
       "<table border=\"1\" class=\"dataframe\">\n",
       "  <thead>\n",
       "    <tr style=\"text-align: right;\">\n",
       "      <th></th>\n",
       "      <th>code</th>\n",
       "      <th>name</th>\n",
       "      <th>date</th>\n",
       "      <th>cases</th>\n",
       "      <th>diff</th>\n",
       "    </tr>\n",
       "  </thead>\n",
       "  <tbody>\n",
       "    <tr>\n",
       "      <th>316</th>\n",
       "      <td>E08000030</td>\n",
       "      <td>Walsall</td>\n",
       "      <td>2020-04-09</td>\n",
       "      <td>436</td>\n",
       "      <td>15</td>\n",
       "    </tr>\n",
       "  </tbody>\n",
       "</table>\n",
       "</div>"
      ],
      "text/plain": [
       "          code     name       date  cases  diff\n",
       "316  E08000030  Walsall 2020-04-09    436    15"
      ]
     },
     "execution_count": 588,
     "metadata": {},
     "output_type": "execute_result"
    }
   ],
   "source": [
    "view_walsall_cases"
   ]
  },
  {
   "cell_type": "code",
   "execution_count": 589,
   "metadata": {},
   "outputs": [
    {
     "data": {
      "text/html": [
       "<div>\n",
       "<style scoped>\n",
       "    .dataframe tbody tr th:only-of-type {\n",
       "        vertical-align: middle;\n",
       "    }\n",
       "\n",
       "    .dataframe tbody tr th {\n",
       "        vertical-align: top;\n",
       "    }\n",
       "\n",
       "    .dataframe thead th {\n",
       "        text-align: right;\n",
       "    }\n",
       "</style>\n",
       "<table border=\"1\" class=\"dataframe\">\n",
       "  <thead>\n",
       "    <tr style=\"text-align: right;\">\n",
       "      <th></th>\n",
       "      <th>code</th>\n",
       "      <th>name</th>\n",
       "      <th>date</th>\n",
       "      <th>deaths</th>\n",
       "      <th>cumulative_deaths</th>\n",
       "    </tr>\n",
       "  </thead>\n",
       "  <tbody>\n",
       "    <tr>\n",
       "      <th>489</th>\n",
       "      <td>RBK</td>\n",
       "      <td>WALSALL HEALTHCARE NHS TRUST</td>\n",
       "      <td>2020-04-09</td>\n",
       "      <td>0</td>\n",
       "      <td>73</td>\n",
       "    </tr>\n",
       "  </tbody>\n",
       "</table>\n",
       "</div>"
      ],
      "text/plain": [
       "    code                          name       date  deaths  cumulative_deaths\n",
       "489  RBK  WALSALL HEALTHCARE NHS TRUST 2020-04-09       0                 73"
      ]
     },
     "execution_count": 589,
     "metadata": {},
     "output_type": "execute_result"
    }
   ],
   "source": [
    "view_walsall_deaths"
   ]
  },
  {
   "cell_type": "markdown",
   "metadata": {},
   "source": [
    "# Dudley"
   ]
  },
  {
   "cell_type": "code",
   "execution_count": 590,
   "metadata": {},
   "outputs": [
    {
     "data": {
      "text/html": [
       "<div>\n",
       "<style scoped>\n",
       "    .dataframe tbody tr th:only-of-type {\n",
       "        vertical-align: middle;\n",
       "    }\n",
       "\n",
       "    .dataframe tbody tr th {\n",
       "        vertical-align: top;\n",
       "    }\n",
       "\n",
       "    .dataframe thead th {\n",
       "        text-align: right;\n",
       "    }\n",
       "</style>\n",
       "<table border=\"1\" class=\"dataframe\">\n",
       "  <thead>\n",
       "    <tr style=\"text-align: right;\">\n",
       "      <th></th>\n",
       "      <th>code</th>\n",
       "      <th>name</th>\n",
       "      <th>date</th>\n",
       "      <th>cases</th>\n",
       "      <th>diff</th>\n",
       "    </tr>\n",
       "  </thead>\n",
       "  <tbody>\n",
       "    <tr>\n",
       "      <th>314</th>\n",
       "      <td>E08000027</td>\n",
       "      <td>Dudley</td>\n",
       "      <td>2020-04-09</td>\n",
       "      <td>358</td>\n",
       "      <td>17</td>\n",
       "    </tr>\n",
       "  </tbody>\n",
       "</table>\n",
       "</div>"
      ],
      "text/plain": [
       "          code    name       date  cases  diff\n",
       "314  E08000027  Dudley 2020-04-09    358    17"
      ]
     },
     "execution_count": 590,
     "metadata": {},
     "output_type": "execute_result"
    }
   ],
   "source": [
    "view_dudley_cases"
   ]
  },
  {
   "cell_type": "code",
   "execution_count": 591,
   "metadata": {},
   "outputs": [
    {
     "data": {
      "text/html": [
       "<div>\n",
       "<style scoped>\n",
       "    .dataframe tbody tr th:only-of-type {\n",
       "        vertical-align: middle;\n",
       "    }\n",
       "\n",
       "    .dataframe tbody tr th {\n",
       "        vertical-align: top;\n",
       "    }\n",
       "\n",
       "    .dataframe thead th {\n",
       "        text-align: right;\n",
       "    }\n",
       "</style>\n",
       "<table border=\"1\" class=\"dataframe\">\n",
       "  <thead>\n",
       "    <tr style=\"text-align: right;\">\n",
       "      <th></th>\n",
       "      <th>code</th>\n",
       "      <th>name</th>\n",
       "      <th>date</th>\n",
       "      <th>deaths</th>\n",
       "      <th>cumulative_deaths</th>\n",
       "    </tr>\n",
       "  </thead>\n",
       "  <tbody>\n",
       "    <tr>\n",
       "      <th>483</th>\n",
       "      <td>RNA</td>\n",
       "      <td>THE DUDLEY GROUP NHS FOUNDATION TRUST</td>\n",
       "      <td>2020-04-09</td>\n",
       "      <td>0</td>\n",
       "      <td>119</td>\n",
       "    </tr>\n",
       "  </tbody>\n",
       "</table>\n",
       "</div>"
      ],
      "text/plain": [
       "    code                                   name       date  deaths  \\\n",
       "483  RNA  THE DUDLEY GROUP NHS FOUNDATION TRUST 2020-04-09       0   \n",
       "\n",
       "     cumulative_deaths  \n",
       "483                119  "
      ]
     },
     "execution_count": 591,
     "metadata": {},
     "output_type": "execute_result"
    }
   ],
   "source": [
    "view_dudley_deaths"
   ]
  },
  {
   "cell_type": "markdown",
   "metadata": {},
   "source": [
    "# Sandwell and Birmingham"
   ]
  },
  {
   "cell_type": "code",
   "execution_count": 592,
   "metadata": {},
   "outputs": [
    {
     "data": {
      "text/html": [
       "<div>\n",
       "<style scoped>\n",
       "    .dataframe tbody tr th:only-of-type {\n",
       "        vertical-align: middle;\n",
       "    }\n",
       "\n",
       "    .dataframe tbody tr th {\n",
       "        vertical-align: top;\n",
       "    }\n",
       "\n",
       "    .dataframe thead th {\n",
       "        text-align: right;\n",
       "    }\n",
       "</style>\n",
       "<table border=\"1\" class=\"dataframe\">\n",
       "  <thead>\n",
       "    <tr style=\"text-align: right;\">\n",
       "      <th></th>\n",
       "      <th>code</th>\n",
       "      <th>name</th>\n",
       "      <th>date</th>\n",
       "      <th>cases</th>\n",
       "      <th>diff</th>\n",
       "    </tr>\n",
       "  </thead>\n",
       "  <tbody>\n",
       "    <tr>\n",
       "      <th>315</th>\n",
       "      <td>E08000028</td>\n",
       "      <td>Sandwell</td>\n",
       "      <td>2020-04-09</td>\n",
       "      <td>435</td>\n",
       "      <td>36</td>\n",
       "    </tr>\n",
       "  </tbody>\n",
       "</table>\n",
       "</div>"
      ],
      "text/plain": [
       "          code      name       date  cases  diff\n",
       "315  E08000028  Sandwell 2020-04-09    435    36"
      ]
     },
     "execution_count": 592,
     "metadata": {},
     "output_type": "execute_result"
    }
   ],
   "source": [
    "view_sandwell_cases"
   ]
  },
  {
   "cell_type": "code",
   "execution_count": 593,
   "metadata": {},
   "outputs": [
    {
     "data": {
      "text/html": [
       "<div>\n",
       "<style scoped>\n",
       "    .dataframe tbody tr th:only-of-type {\n",
       "        vertical-align: middle;\n",
       "    }\n",
       "\n",
       "    .dataframe tbody tr th {\n",
       "        vertical-align: top;\n",
       "    }\n",
       "\n",
       "    .dataframe thead th {\n",
       "        text-align: right;\n",
       "    }\n",
       "</style>\n",
       "<table border=\"1\" class=\"dataframe\">\n",
       "  <thead>\n",
       "    <tr style=\"text-align: right;\">\n",
       "      <th></th>\n",
       "      <th>code</th>\n",
       "      <th>name</th>\n",
       "      <th>date</th>\n",
       "      <th>cases</th>\n",
       "      <th>diff</th>\n",
       "    </tr>\n",
       "  </thead>\n",
       "  <tbody>\n",
       "    <tr>\n",
       "      <th>313</th>\n",
       "      <td>E08000025</td>\n",
       "      <td>Birmingham</td>\n",
       "      <td>2020-04-09</td>\n",
       "      <td>1524</td>\n",
       "      <td>62</td>\n",
       "    </tr>\n",
       "  </tbody>\n",
       "</table>\n",
       "</div>"
      ],
      "text/plain": [
       "          code        name       date  cases  diff\n",
       "313  E08000025  Birmingham 2020-04-09   1524    62"
      ]
     },
     "execution_count": 593,
     "metadata": {},
     "output_type": "execute_result"
    }
   ],
   "source": [
    "view_birmingham_cases"
   ]
  },
  {
   "cell_type": "code",
   "execution_count": 594,
   "metadata": {},
   "outputs": [
    {
     "data": {
      "text/html": [
       "<div>\n",
       "<style scoped>\n",
       "    .dataframe tbody tr th:only-of-type {\n",
       "        vertical-align: middle;\n",
       "    }\n",
       "\n",
       "    .dataframe tbody tr th {\n",
       "        vertical-align: top;\n",
       "    }\n",
       "\n",
       "    .dataframe thead th {\n",
       "        text-align: right;\n",
       "    }\n",
       "</style>\n",
       "<table border=\"1\" class=\"dataframe\">\n",
       "  <thead>\n",
       "    <tr style=\"text-align: right;\">\n",
       "      <th></th>\n",
       "      <th>code</th>\n",
       "      <th>name</th>\n",
       "      <th>date</th>\n",
       "      <th>cases</th>\n",
       "      <th>diff</th>\n",
       "    </tr>\n",
       "  </thead>\n",
       "  <tbody>\n",
       "    <tr>\n",
       "      <th>63</th>\n",
       "      <td>ManualSAB</td>\n",
       "      <td>Sandwell and Birmingham</td>\n",
       "      <td>2020-04-09</td>\n",
       "      <td>1959</td>\n",
       "      <td>98</td>\n",
       "    </tr>\n",
       "  </tbody>\n",
       "</table>\n",
       "</div>"
      ],
      "text/plain": [
       "         code                     name       date cases diff\n",
       "63  ManualSAB  Sandwell and Birmingham 2020-04-09  1959   98"
      ]
     },
     "execution_count": 594,
     "metadata": {},
     "output_type": "execute_result"
    }
   ],
   "source": [
    "view_total_sandwellandbirmingham_cases"
   ]
  },
  {
   "cell_type": "code",
   "execution_count": 595,
   "metadata": {},
   "outputs": [
    {
     "data": {
      "text/html": [
       "<div>\n",
       "<style scoped>\n",
       "    .dataframe tbody tr th:only-of-type {\n",
       "        vertical-align: middle;\n",
       "    }\n",
       "\n",
       "    .dataframe tbody tr th {\n",
       "        vertical-align: top;\n",
       "    }\n",
       "\n",
       "    .dataframe thead th {\n",
       "        text-align: right;\n",
       "    }\n",
       "</style>\n",
       "<table border=\"1\" class=\"dataframe\">\n",
       "  <thead>\n",
       "    <tr style=\"text-align: right;\">\n",
       "      <th></th>\n",
       "      <th>code</th>\n",
       "      <th>name</th>\n",
       "      <th>date</th>\n",
       "      <th>deaths</th>\n",
       "      <th>cumulative_deaths</th>\n",
       "    </tr>\n",
       "  </thead>\n",
       "  <tbody>\n",
       "    <tr>\n",
       "      <th>40</th>\n",
       "      <td>ManualSAB</td>\n",
       "      <td>Sandwell and Birmingham</td>\n",
       "      <td>2020-04-09</td>\n",
       "      <td>1</td>\n",
       "      <td>500</td>\n",
       "    </tr>\n",
       "  </tbody>\n",
       "</table>\n",
       "</div>"
      ],
      "text/plain": [
       "         code                     name       date deaths cumulative_deaths\n",
       "40  ManualSAB  Sandwell and Birmingham 2020-04-09      1               500"
      ]
     },
     "execution_count": 595,
     "metadata": {},
     "output_type": "execute_result"
    }
   ],
   "source": [
    "view_total_sandwellandbirmingham_deaths"
   ]
  },
  {
   "cell_type": "markdown",
   "metadata": {},
   "source": [
    "# Staffordshire"
   ]
  },
  {
   "cell_type": "code",
   "execution_count": 596,
   "metadata": {},
   "outputs": [
    {
     "data": {
      "text/html": [
       "<div>\n",
       "<style scoped>\n",
       "    .dataframe tbody tr th:only-of-type {\n",
       "        vertical-align: middle;\n",
       "    }\n",
       "\n",
       "    .dataframe tbody tr th {\n",
       "        vertical-align: top;\n",
       "    }\n",
       "\n",
       "    .dataframe thead th {\n",
       "        text-align: right;\n",
       "    }\n",
       "</style>\n",
       "<table border=\"1\" class=\"dataframe\">\n",
       "  <thead>\n",
       "    <tr style=\"text-align: right;\">\n",
       "      <th></th>\n",
       "      <th>code</th>\n",
       "      <th>name</th>\n",
       "      <th>date</th>\n",
       "      <th>cases</th>\n",
       "      <th>diff</th>\n",
       "    </tr>\n",
       "  </thead>\n",
       "  <tbody>\n",
       "    <tr>\n",
       "      <th>318</th>\n",
       "      <td>E10000028</td>\n",
       "      <td>Staffordshire</td>\n",
       "      <td>2020-04-09</td>\n",
       "      <td>701</td>\n",
       "      <td>28</td>\n",
       "    </tr>\n",
       "  </tbody>\n",
       "</table>\n",
       "</div>"
      ],
      "text/plain": [
       "          code           name       date  cases  diff\n",
       "318  E10000028  Staffordshire 2020-04-09    701    28"
      ]
     },
     "execution_count": 596,
     "metadata": {},
     "output_type": "execute_result"
    }
   ],
   "source": [
    "view_staffordshire_cases"
   ]
  },
  {
   "cell_type": "code",
   "execution_count": 597,
   "metadata": {},
   "outputs": [
    {
     "data": {
      "text/html": [
       "<div>\n",
       "<style scoped>\n",
       "    .dataframe tbody tr th:only-of-type {\n",
       "        vertical-align: middle;\n",
       "    }\n",
       "\n",
       "    .dataframe tbody tr th {\n",
       "        vertical-align: top;\n",
       "    }\n",
       "\n",
       "    .dataframe thead th {\n",
       "        text-align: right;\n",
       "    }\n",
       "</style>\n",
       "<table border=\"1\" class=\"dataframe\">\n",
       "  <thead>\n",
       "    <tr style=\"text-align: right;\">\n",
       "      <th></th>\n",
       "      <th>code</th>\n",
       "      <th>name</th>\n",
       "      <th>date</th>\n",
       "      <th>cases</th>\n",
       "      <th>diff</th>\n",
       "    </tr>\n",
       "  </thead>\n",
       "  <tbody>\n",
       "    <tr>\n",
       "      <th>311</th>\n",
       "      <td>E06000021</td>\n",
       "      <td>Stoke-on-Trent</td>\n",
       "      <td>2020-04-09</td>\n",
       "      <td>136</td>\n",
       "      <td>6</td>\n",
       "    </tr>\n",
       "  </tbody>\n",
       "</table>\n",
       "</div>"
      ],
      "text/plain": [
       "          code            name       date  cases  diff\n",
       "311  E06000021  Stoke-on-Trent 2020-04-09    136     6"
      ]
     },
     "execution_count": 597,
     "metadata": {},
     "output_type": "execute_result"
    }
   ],
   "source": [
    "view_stoke_cases"
   ]
  },
  {
   "cell_type": "code",
   "execution_count": 598,
   "metadata": {},
   "outputs": [
    {
     "data": {
      "text/html": [
       "<div>\n",
       "<style scoped>\n",
       "    .dataframe tbody tr th:only-of-type {\n",
       "        vertical-align: middle;\n",
       "    }\n",
       "\n",
       "    .dataframe tbody tr th {\n",
       "        vertical-align: top;\n",
       "    }\n",
       "\n",
       "    .dataframe thead th {\n",
       "        text-align: right;\n",
       "    }\n",
       "</style>\n",
       "<table border=\"1\" class=\"dataframe\">\n",
       "  <thead>\n",
       "    <tr style=\"text-align: right;\">\n",
       "      <th></th>\n",
       "      <th>code</th>\n",
       "      <th>name</th>\n",
       "      <th>date</th>\n",
       "      <th>cases</th>\n",
       "      <th>diff</th>\n",
       "    </tr>\n",
       "  </thead>\n",
       "  <tbody>\n",
       "    <tr>\n",
       "      <th>95</th>\n",
       "      <td>ManualSTF</td>\n",
       "      <td>Staffordshire</td>\n",
       "      <td>2020-04-09</td>\n",
       "      <td>837</td>\n",
       "      <td>34</td>\n",
       "    </tr>\n",
       "  </tbody>\n",
       "</table>\n",
       "</div>"
      ],
      "text/plain": [
       "         code           name       date cases diff\n",
       "95  ManualSTF  Staffordshire 2020-04-09   837   34"
      ]
     },
     "execution_count": 598,
     "metadata": {},
     "output_type": "execute_result"
    }
   ],
   "source": [
    "view_total_staffordshire_cases"
   ]
  },
  {
   "cell_type": "markdown",
   "metadata": {},
   "source": [
    "# Worcestershire"
   ]
  },
  {
   "cell_type": "code",
   "execution_count": 599,
   "metadata": {},
   "outputs": [
    {
     "data": {
      "text/html": [
       "<div>\n",
       "<style scoped>\n",
       "    .dataframe tbody tr th:only-of-type {\n",
       "        vertical-align: middle;\n",
       "    }\n",
       "\n",
       "    .dataframe tbody tr th {\n",
       "        vertical-align: top;\n",
       "    }\n",
       "\n",
       "    .dataframe thead th {\n",
       "        text-align: right;\n",
       "    }\n",
       "</style>\n",
       "<table border=\"1\" class=\"dataframe\">\n",
       "  <thead>\n",
       "    <tr style=\"text-align: right;\">\n",
       "      <th></th>\n",
       "      <th>code</th>\n",
       "      <th>name</th>\n",
       "      <th>date</th>\n",
       "      <th>cases</th>\n",
       "      <th>diff</th>\n",
       "    </tr>\n",
       "  </thead>\n",
       "  <tbody>\n",
       "    <tr>\n",
       "      <th>319</th>\n",
       "      <td>E10000034</td>\n",
       "      <td>Worcestershire</td>\n",
       "      <td>2020-04-09</td>\n",
       "      <td>471</td>\n",
       "      <td>32</td>\n",
       "    </tr>\n",
       "  </tbody>\n",
       "</table>\n",
       "</div>"
      ],
      "text/plain": [
       "          code            name       date  cases  diff\n",
       "319  E10000034  Worcestershire 2020-04-09    471    32"
      ]
     },
     "execution_count": 599,
     "metadata": {},
     "output_type": "execute_result"
    }
   ],
   "source": [
    "view_worcestershire_cases"
   ]
  },
  {
   "cell_type": "code",
   "execution_count": 600,
   "metadata": {},
   "outputs": [
    {
     "data": {
      "text/html": [
       "<div>\n",
       "<style scoped>\n",
       "    .dataframe tbody tr th:only-of-type {\n",
       "        vertical-align: middle;\n",
       "    }\n",
       "\n",
       "    .dataframe tbody tr th {\n",
       "        vertical-align: top;\n",
       "    }\n",
       "\n",
       "    .dataframe thead th {\n",
       "        text-align: right;\n",
       "    }\n",
       "</style>\n",
       "<table border=\"1\" class=\"dataframe\">\n",
       "  <thead>\n",
       "    <tr style=\"text-align: right;\">\n",
       "      <th></th>\n",
       "      <th>code</th>\n",
       "      <th>name</th>\n",
       "      <th>date</th>\n",
       "      <th>deaths</th>\n",
       "      <th>cumulative_deaths</th>\n",
       "    </tr>\n",
       "  </thead>\n",
       "  <tbody>\n",
       "    <tr>\n",
       "      <th>81</th>\n",
       "      <td>ManualWOR</td>\n",
       "      <td>Worcestershire</td>\n",
       "      <td>2020-04-09</td>\n",
       "      <td>0</td>\n",
       "      <td>83</td>\n",
       "    </tr>\n",
       "  </tbody>\n",
       "</table>\n",
       "</div>"
      ],
      "text/plain": [
       "         code            name       date deaths cumulative_deaths\n",
       "81  ManualWOR  Worcestershire 2020-04-09      0                83"
      ]
     },
     "execution_count": 600,
     "metadata": {},
     "output_type": "execute_result"
    }
   ],
   "source": [
    "view_worcetershire_deaths"
   ]
  },
  {
   "cell_type": "markdown",
   "metadata": {},
   "source": [
    "---\n",
    "# Visualisations"
   ]
  },
  {
   "cell_type": "code",
   "execution_count": 601,
   "metadata": {},
   "outputs": [
    {
     "data": {
      "text/html": [
       "\n",
       "<div id=\"altair-viz-109aaa1c96414e138bd4606c9c0c62ab\"></div>\n",
       "<script type=\"text/javascript\">\n",
       "  (function(spec, embedOpt){\n",
       "    let outputDiv = document.currentScript.previousElementSibling;\n",
       "    if (outputDiv.id !== \"altair-viz-109aaa1c96414e138bd4606c9c0c62ab\") {\n",
       "      outputDiv = document.getElementById(\"altair-viz-109aaa1c96414e138bd4606c9c0c62ab\");\n",
       "    }\n",
       "    const paths = {\n",
       "      \"vega\": \"https://cdn.jsdelivr.net/npm//vega@5?noext\",\n",
       "      \"vega-lib\": \"https://cdn.jsdelivr.net/npm//vega-lib?noext\",\n",
       "      \"vega-lite\": \"https://cdn.jsdelivr.net/npm//vega-lite@4.8.1?noext\",\n",
       "      \"vega-embed\": \"https://cdn.jsdelivr.net/npm//vega-embed@6?noext\",\n",
       "    };\n",
       "\n",
       "    function loadScript(lib) {\n",
       "      return new Promise(function(resolve, reject) {\n",
       "        var s = document.createElement('script');\n",
       "        s.src = paths[lib];\n",
       "        s.async = true;\n",
       "        s.onload = () => resolve(paths[lib]);\n",
       "        s.onerror = () => reject(`Error loading script: ${paths[lib]}`);\n",
       "        document.getElementsByTagName(\"head\")[0].appendChild(s);\n",
       "      });\n",
       "    }\n",
       "\n",
       "    function showError(err) {\n",
       "      outputDiv.innerHTML = `<div class=\"error\" style=\"color:red;\">${err}</div>`;\n",
       "      throw err;\n",
       "    }\n",
       "\n",
       "    function displayChart(vegaEmbed) {\n",
       "      vegaEmbed(outputDiv, spec, embedOpt)\n",
       "        .catch(err => showError(`Javascript Error: ${err.message}<br>This usually means there's a typo in your chart specification. See the javascript console for the full traceback.`));\n",
       "    }\n",
       "\n",
       "    if(typeof define === \"function\" && define.amd) {\n",
       "      requirejs.config({paths});\n",
       "      require([\"vega-embed\"], displayChart, err => showError(`Error loading script: ${err.message}`));\n",
       "    } else if (typeof vegaEmbed === \"function\") {\n",
       "      displayChart(vegaEmbed);\n",
       "    } else {\n",
       "      loadScript(\"vega\")\n",
       "        .then(() => loadScript(\"vega-lite\"))\n",
       "        .then(() => loadScript(\"vega-embed\"))\n",
       "        .catch(showError)\n",
       "        .then(() => displayChart(vegaEmbed));\n",
       "    }\n",
       "  })({\"config\": {\"view\": {\"continuousWidth\": 400, \"continuousHeight\": 300}}, \"data\": {\"name\": \"data-f5e8b27c35f069978acdbd414f6028e0\"}, \"mark\": \"line\", \"encoding\": {\"color\": {\"type\": \"nominal\", \"field\": \"name\"}, \"tooltip\": {\"type\": \"nominal\", \"field\": \"name\"}, \"x\": {\"type\": \"temporal\", \"field\": \"date\"}, \"y\": {\"type\": \"quantitative\", \"field\": \"cumulative_deaths\"}}, \"$schema\": \"https://vega.github.io/schema/vega-lite/v4.8.1.json\", \"datasets\": {\"data-f5e8b27c35f069978acdbd414f6028e0\": [{\"code\": \"RXK\", \"name\": \"SANDWELL AND WEST BIRMINGHAM HOSPITALS NHS TRUST\", \"date\": \"2020-02-29T00:00:00\", \"deaths\": 1, \"cumulative_deaths\": 1}, {\"code\": \"RNA\", \"name\": \"THE DUDLEY GROUP NHS FOUNDATION TRUST\", \"date\": \"2020-02-29T00:00:00\", \"deaths\": 0, \"cumulative_deaths\": 0}, {\"code\": \"RL4\", \"name\": \"THE ROYAL WOLVERHAMPTON NHS TRUST\", \"date\": \"2020-02-29T00:00:00\", \"deaths\": 0, \"cumulative_deaths\": 0}, {\"code\": \"RRK\", \"name\": \"UNIVERSITY HOSPITALS BIRMINGHAM NHS FOUNDATION TRUST\", \"date\": \"2020-02-29T00:00:00\", \"deaths\": 0, \"cumulative_deaths\": 0}, {\"code\": \"RJE\", \"name\": \"UNIVERSITY HOSPITALS OF NORTH MIDLANDS NHS TRUST\", \"date\": \"2020-02-29T00:00:00\", \"deaths\": 0, \"cumulative_deaths\": 0}, {\"code\": \"RBK\", \"name\": \"WALSALL HEALTHCARE NHS TRUST\", \"date\": \"2020-02-29T00:00:00\", \"deaths\": 0, \"cumulative_deaths\": 0}, {\"code\": \"RXK\", \"name\": \"SANDWELL AND WEST BIRMINGHAM HOSPITALS NHS TRUST\", \"date\": \"2020-03-01T00:00:00\", \"deaths\": 0, \"cumulative_deaths\": 1}, {\"code\": \"RNA\", \"name\": \"THE DUDLEY GROUP NHS FOUNDATION TRUST\", \"date\": \"2020-03-01T00:00:00\", \"deaths\": 0, \"cumulative_deaths\": 0}, {\"code\": \"RL4\", \"name\": \"THE ROYAL WOLVERHAMPTON NHS TRUST\", \"date\": \"2020-03-01T00:00:00\", \"deaths\": 0, \"cumulative_deaths\": 0}, {\"code\": \"RRK\", \"name\": \"UNIVERSITY HOSPITALS BIRMINGHAM NHS FOUNDATION TRUST\", \"date\": \"2020-03-01T00:00:00\", \"deaths\": 0, \"cumulative_deaths\": 0}, {\"code\": \"RJE\", \"name\": \"UNIVERSITY HOSPITALS OF NORTH MIDLANDS NHS TRUST\", \"date\": \"2020-03-01T00:00:00\", \"deaths\": 0, \"cumulative_deaths\": 0}, {\"code\": \"RBK\", \"name\": \"WALSALL HEALTHCARE NHS TRUST\", \"date\": \"2020-03-01T00:00:00\", \"deaths\": 0, \"cumulative_deaths\": 0}, {\"code\": \"RXK\", \"name\": \"SANDWELL AND WEST BIRMINGHAM HOSPITALS NHS TRUST\", \"date\": \"2020-03-02T00:00:00\", \"deaths\": 0, \"cumulative_deaths\": 1}, {\"code\": \"RNA\", \"name\": \"THE DUDLEY GROUP NHS FOUNDATION TRUST\", \"date\": \"2020-03-02T00:00:00\", \"deaths\": 0, \"cumulative_deaths\": 0}, {\"code\": \"RL4\", \"name\": \"THE ROYAL WOLVERHAMPTON NHS TRUST\", \"date\": \"2020-03-02T00:00:00\", \"deaths\": 0, \"cumulative_deaths\": 0}, {\"code\": \"RRK\", \"name\": \"UNIVERSITY HOSPITALS BIRMINGHAM NHS FOUNDATION TRUST\", \"date\": \"2020-03-02T00:00:00\", \"deaths\": 0, \"cumulative_deaths\": 0}, {\"code\": \"RJE\", \"name\": \"UNIVERSITY HOSPITALS OF NORTH MIDLANDS NHS TRUST\", \"date\": \"2020-03-02T00:00:00\", \"deaths\": 0, \"cumulative_deaths\": 0}, {\"code\": \"RBK\", \"name\": \"WALSALL HEALTHCARE NHS TRUST\", \"date\": \"2020-03-02T00:00:00\", \"deaths\": 0, \"cumulative_deaths\": 0}, {\"code\": \"RXK\", \"name\": \"SANDWELL AND WEST BIRMINGHAM HOSPITALS NHS TRUST\", \"date\": \"2020-03-03T00:00:00\", \"deaths\": 0, \"cumulative_deaths\": 1}, {\"code\": \"RNA\", \"name\": \"THE DUDLEY GROUP NHS FOUNDATION TRUST\", \"date\": \"2020-03-03T00:00:00\", \"deaths\": 0, \"cumulative_deaths\": 0}, {\"code\": \"RL4\", \"name\": \"THE ROYAL WOLVERHAMPTON NHS TRUST\", \"date\": \"2020-03-03T00:00:00\", \"deaths\": 0, \"cumulative_deaths\": 0}, {\"code\": \"RRK\", \"name\": \"UNIVERSITY HOSPITALS BIRMINGHAM NHS FOUNDATION TRUST\", \"date\": \"2020-03-03T00:00:00\", \"deaths\": 0, \"cumulative_deaths\": 0}, {\"code\": \"RJE\", \"name\": \"UNIVERSITY HOSPITALS OF NORTH MIDLANDS NHS TRUST\", \"date\": \"2020-03-03T00:00:00\", \"deaths\": 0, \"cumulative_deaths\": 0}, {\"code\": \"RBK\", \"name\": \"WALSALL HEALTHCARE NHS TRUST\", \"date\": \"2020-03-03T00:00:00\", \"deaths\": 0, \"cumulative_deaths\": 0}, {\"code\": \"RXK\", \"name\": \"SANDWELL AND WEST BIRMINGHAM HOSPITALS NHS TRUST\", \"date\": \"2020-03-04T00:00:00\", \"deaths\": 0, \"cumulative_deaths\": 1}, {\"code\": \"RNA\", \"name\": \"THE DUDLEY GROUP NHS FOUNDATION TRUST\", \"date\": \"2020-03-04T00:00:00\", \"deaths\": 0, \"cumulative_deaths\": 0}, {\"code\": \"RL4\", \"name\": \"THE ROYAL WOLVERHAMPTON NHS TRUST\", \"date\": \"2020-03-04T00:00:00\", \"deaths\": 0, \"cumulative_deaths\": 0}, {\"code\": \"RRK\", \"name\": \"UNIVERSITY HOSPITALS BIRMINGHAM NHS FOUNDATION TRUST\", \"date\": \"2020-03-04T00:00:00\", \"deaths\": 0, \"cumulative_deaths\": 0}, {\"code\": \"RJE\", \"name\": \"UNIVERSITY HOSPITALS OF NORTH MIDLANDS NHS TRUST\", \"date\": \"2020-03-04T00:00:00\", \"deaths\": 0, \"cumulative_deaths\": 0}, {\"code\": \"RBK\", \"name\": \"WALSALL HEALTHCARE NHS TRUST\", \"date\": \"2020-03-04T00:00:00\", \"deaths\": 0, \"cumulative_deaths\": 0}, {\"code\": \"RXK\", \"name\": \"SANDWELL AND WEST BIRMINGHAM HOSPITALS NHS TRUST\", \"date\": \"2020-03-05T00:00:00\", \"deaths\": 0, \"cumulative_deaths\": 1}, {\"code\": \"RNA\", \"name\": \"THE DUDLEY GROUP NHS FOUNDATION TRUST\", \"date\": \"2020-03-05T00:00:00\", \"deaths\": 0, \"cumulative_deaths\": 0}, {\"code\": \"RL4\", \"name\": \"THE ROYAL WOLVERHAMPTON NHS TRUST\", \"date\": \"2020-03-05T00:00:00\", \"deaths\": 0, \"cumulative_deaths\": 0}, {\"code\": \"RRK\", \"name\": \"UNIVERSITY HOSPITALS BIRMINGHAM NHS FOUNDATION TRUST\", \"date\": \"2020-03-05T00:00:00\", \"deaths\": 0, \"cumulative_deaths\": 0}, {\"code\": \"RJE\", \"name\": \"UNIVERSITY HOSPITALS OF NORTH MIDLANDS NHS TRUST\", \"date\": \"2020-03-05T00:00:00\", \"deaths\": 0, \"cumulative_deaths\": 0}, {\"code\": \"RBK\", \"name\": \"WALSALL HEALTHCARE NHS TRUST\", \"date\": \"2020-03-05T00:00:00\", \"deaths\": 0, \"cumulative_deaths\": 0}, {\"code\": \"RXK\", \"name\": \"SANDWELL AND WEST BIRMINGHAM HOSPITALS NHS TRUST\", \"date\": \"2020-03-06T00:00:00\", \"deaths\": 0, \"cumulative_deaths\": 1}, {\"code\": \"RNA\", \"name\": \"THE DUDLEY GROUP NHS FOUNDATION TRUST\", \"date\": \"2020-03-06T00:00:00\", \"deaths\": 0, \"cumulative_deaths\": 0}, {\"code\": \"RL4\", \"name\": \"THE ROYAL WOLVERHAMPTON NHS TRUST\", \"date\": \"2020-03-06T00:00:00\", \"deaths\": 0, \"cumulative_deaths\": 0}, {\"code\": \"RRK\", \"name\": \"UNIVERSITY HOSPITALS BIRMINGHAM NHS FOUNDATION TRUST\", \"date\": \"2020-03-06T00:00:00\", \"deaths\": 0, \"cumulative_deaths\": 0}, {\"code\": \"RJE\", \"name\": \"UNIVERSITY HOSPITALS OF NORTH MIDLANDS NHS TRUST\", \"date\": \"2020-03-06T00:00:00\", \"deaths\": 0, \"cumulative_deaths\": 0}, {\"code\": \"RBK\", \"name\": \"WALSALL HEALTHCARE NHS TRUST\", \"date\": \"2020-03-06T00:00:00\", \"deaths\": 0, \"cumulative_deaths\": 0}, {\"code\": \"RXK\", \"name\": \"SANDWELL AND WEST BIRMINGHAM HOSPITALS NHS TRUST\", \"date\": \"2020-03-07T00:00:00\", \"deaths\": 0, \"cumulative_deaths\": 1}, {\"code\": \"RNA\", \"name\": \"THE DUDLEY GROUP NHS FOUNDATION TRUST\", \"date\": \"2020-03-07T00:00:00\", \"deaths\": 0, \"cumulative_deaths\": 0}, {\"code\": \"RL4\", \"name\": \"THE ROYAL WOLVERHAMPTON NHS TRUST\", \"date\": \"2020-03-07T00:00:00\", \"deaths\": 0, \"cumulative_deaths\": 0}, {\"code\": \"RRK\", \"name\": \"UNIVERSITY HOSPITALS BIRMINGHAM NHS FOUNDATION TRUST\", \"date\": \"2020-03-07T00:00:00\", \"deaths\": 0, \"cumulative_deaths\": 0}, {\"code\": \"RJE\", \"name\": \"UNIVERSITY HOSPITALS OF NORTH MIDLANDS NHS TRUST\", \"date\": \"2020-03-07T00:00:00\", \"deaths\": 0, \"cumulative_deaths\": 0}, {\"code\": \"RBK\", \"name\": \"WALSALL HEALTHCARE NHS TRUST\", \"date\": \"2020-03-07T00:00:00\", \"deaths\": 0, \"cumulative_deaths\": 0}, {\"code\": \"RXK\", \"name\": \"SANDWELL AND WEST BIRMINGHAM HOSPITALS NHS TRUST\", \"date\": \"2020-03-08T00:00:00\", \"deaths\": 0, \"cumulative_deaths\": 1}, {\"code\": \"RNA\", \"name\": \"THE DUDLEY GROUP NHS FOUNDATION TRUST\", \"date\": \"2020-03-08T00:00:00\", \"deaths\": 1, \"cumulative_deaths\": 1}, {\"code\": \"RL4\", \"name\": \"THE ROYAL WOLVERHAMPTON NHS TRUST\", \"date\": \"2020-03-08T00:00:00\", \"deaths\": 2, \"cumulative_deaths\": 2}, {\"code\": \"RRK\", \"name\": \"UNIVERSITY HOSPITALS BIRMINGHAM NHS FOUNDATION TRUST\", \"date\": \"2020-03-08T00:00:00\", \"deaths\": 0, \"cumulative_deaths\": 0}, {\"code\": \"RJE\", \"name\": \"UNIVERSITY HOSPITALS OF NORTH MIDLANDS NHS TRUST\", \"date\": \"2020-03-08T00:00:00\", \"deaths\": 0, \"cumulative_deaths\": 0}, {\"code\": \"RBK\", \"name\": \"WALSALL HEALTHCARE NHS TRUST\", \"date\": \"2020-03-08T00:00:00\", \"deaths\": 0, \"cumulative_deaths\": 0}, {\"code\": \"RXK\", \"name\": \"SANDWELL AND WEST BIRMINGHAM HOSPITALS NHS TRUST\", \"date\": \"2020-03-09T00:00:00\", \"deaths\": 0, \"cumulative_deaths\": 1}, {\"code\": \"RNA\", \"name\": \"THE DUDLEY GROUP NHS FOUNDATION TRUST\", \"date\": \"2020-03-09T00:00:00\", \"deaths\": 0, \"cumulative_deaths\": 1}, {\"code\": \"RL4\", \"name\": \"THE ROYAL WOLVERHAMPTON NHS TRUST\", \"date\": \"2020-03-09T00:00:00\", \"deaths\": 0, \"cumulative_deaths\": 2}, {\"code\": \"RRK\", \"name\": \"UNIVERSITY HOSPITALS BIRMINGHAM NHS FOUNDATION TRUST\", \"date\": \"2020-03-09T00:00:00\", \"deaths\": 0, \"cumulative_deaths\": 0}, {\"code\": \"RJE\", \"name\": \"UNIVERSITY HOSPITALS OF NORTH MIDLANDS NHS TRUST\", \"date\": \"2020-03-09T00:00:00\", \"deaths\": 0, \"cumulative_deaths\": 0}, {\"code\": \"RBK\", \"name\": \"WALSALL HEALTHCARE NHS TRUST\", \"date\": \"2020-03-09T00:00:00\", \"deaths\": 0, \"cumulative_deaths\": 0}, {\"code\": \"RXK\", \"name\": \"SANDWELL AND WEST BIRMINGHAM HOSPITALS NHS TRUST\", \"date\": \"2020-03-10T00:00:00\", \"deaths\": 0, \"cumulative_deaths\": 1}, {\"code\": \"RNA\", \"name\": \"THE DUDLEY GROUP NHS FOUNDATION TRUST\", \"date\": \"2020-03-10T00:00:00\", \"deaths\": 0, \"cumulative_deaths\": 1}, {\"code\": \"RL4\", \"name\": \"THE ROYAL WOLVERHAMPTON NHS TRUST\", \"date\": \"2020-03-10T00:00:00\", \"deaths\": 0, \"cumulative_deaths\": 2}, {\"code\": \"RRK\", \"name\": \"UNIVERSITY HOSPITALS BIRMINGHAM NHS FOUNDATION TRUST\", \"date\": \"2020-03-10T00:00:00\", \"deaths\": 0, \"cumulative_deaths\": 0}, {\"code\": \"RJE\", \"name\": \"UNIVERSITY HOSPITALS OF NORTH MIDLANDS NHS TRUST\", \"date\": \"2020-03-10T00:00:00\", \"deaths\": 0, \"cumulative_deaths\": 0}, {\"code\": \"RBK\", \"name\": \"WALSALL HEALTHCARE NHS TRUST\", \"date\": \"2020-03-10T00:00:00\", \"deaths\": 0, \"cumulative_deaths\": 0}, {\"code\": \"RXK\", \"name\": \"SANDWELL AND WEST BIRMINGHAM HOSPITALS NHS TRUST\", \"date\": \"2020-03-11T00:00:00\", \"deaths\": 0, \"cumulative_deaths\": 1}, {\"code\": \"RNA\", \"name\": \"THE DUDLEY GROUP NHS FOUNDATION TRUST\", \"date\": \"2020-03-11T00:00:00\", \"deaths\": 0, \"cumulative_deaths\": 1}, {\"code\": \"RL4\", \"name\": \"THE ROYAL WOLVERHAMPTON NHS TRUST\", \"date\": \"2020-03-11T00:00:00\", \"deaths\": 0, \"cumulative_deaths\": 2}, {\"code\": \"RRK\", \"name\": \"UNIVERSITY HOSPITALS BIRMINGHAM NHS FOUNDATION TRUST\", \"date\": \"2020-03-11T00:00:00\", \"deaths\": 0, \"cumulative_deaths\": 0}, {\"code\": \"RJE\", \"name\": \"UNIVERSITY HOSPITALS OF NORTH MIDLANDS NHS TRUST\", \"date\": \"2020-03-11T00:00:00\", \"deaths\": 0, \"cumulative_deaths\": 0}, {\"code\": \"RBK\", \"name\": \"WALSALL HEALTHCARE NHS TRUST\", \"date\": \"2020-03-11T00:00:00\", \"deaths\": 0, \"cumulative_deaths\": 0}, {\"code\": \"RXK\", \"name\": \"SANDWELL AND WEST BIRMINGHAM HOSPITALS NHS TRUST\", \"date\": \"2020-03-12T00:00:00\", \"deaths\": 1, \"cumulative_deaths\": 2}, {\"code\": \"RNA\", \"name\": \"THE DUDLEY GROUP NHS FOUNDATION TRUST\", \"date\": \"2020-03-12T00:00:00\", \"deaths\": 1, \"cumulative_deaths\": 2}, {\"code\": \"RL4\", \"name\": \"THE ROYAL WOLVERHAMPTON NHS TRUST\", \"date\": \"2020-03-12T00:00:00\", \"deaths\": 1, \"cumulative_deaths\": 3}, {\"code\": \"RRK\", \"name\": \"UNIVERSITY HOSPITALS BIRMINGHAM NHS FOUNDATION TRUST\", \"date\": \"2020-03-12T00:00:00\", \"deaths\": 0, \"cumulative_deaths\": 0}, {\"code\": \"RJE\", \"name\": \"UNIVERSITY HOSPITALS OF NORTH MIDLANDS NHS TRUST\", \"date\": \"2020-03-12T00:00:00\", \"deaths\": 0, \"cumulative_deaths\": 0}, {\"code\": \"RBK\", \"name\": \"WALSALL HEALTHCARE NHS TRUST\", \"date\": \"2020-03-12T00:00:00\", \"deaths\": 1, \"cumulative_deaths\": 1}, {\"code\": \"RXK\", \"name\": \"SANDWELL AND WEST BIRMINGHAM HOSPITALS NHS TRUST\", \"date\": \"2020-03-13T00:00:00\", \"deaths\": 1, \"cumulative_deaths\": 3}, {\"code\": \"RNA\", \"name\": \"THE DUDLEY GROUP NHS FOUNDATION TRUST\", \"date\": \"2020-03-13T00:00:00\", \"deaths\": 2, \"cumulative_deaths\": 4}, {\"code\": \"RL4\", \"name\": \"THE ROYAL WOLVERHAMPTON NHS TRUST\", \"date\": \"2020-03-13T00:00:00\", \"deaths\": 0, \"cumulative_deaths\": 3}, {\"code\": \"RRK\", \"name\": \"UNIVERSITY HOSPITALS BIRMINGHAM NHS FOUNDATION TRUST\", \"date\": \"2020-03-13T00:00:00\", \"deaths\": 0, \"cumulative_deaths\": 0}, {\"code\": \"RJE\", \"name\": \"UNIVERSITY HOSPITALS OF NORTH MIDLANDS NHS TRUST\", \"date\": \"2020-03-13T00:00:00\", \"deaths\": 0, \"cumulative_deaths\": 0}, {\"code\": \"RBK\", \"name\": \"WALSALL HEALTHCARE NHS TRUST\", \"date\": \"2020-03-13T00:00:00\", \"deaths\": 0, \"cumulative_deaths\": 1}, {\"code\": \"RXK\", \"name\": \"SANDWELL AND WEST BIRMINGHAM HOSPITALS NHS TRUST\", \"date\": \"2020-03-14T00:00:00\", \"deaths\": 0, \"cumulative_deaths\": 3}, {\"code\": \"RNA\", \"name\": \"THE DUDLEY GROUP NHS FOUNDATION TRUST\", \"date\": \"2020-03-14T00:00:00\", \"deaths\": 0, \"cumulative_deaths\": 4}, {\"code\": \"RL4\", \"name\": \"THE ROYAL WOLVERHAMPTON NHS TRUST\", \"date\": \"2020-03-14T00:00:00\", \"deaths\": 2, \"cumulative_deaths\": 5}, {\"code\": \"RRK\", \"name\": \"UNIVERSITY HOSPITALS BIRMINGHAM NHS FOUNDATION TRUST\", \"date\": \"2020-03-14T00:00:00\", \"deaths\": 1, \"cumulative_deaths\": 1}, {\"code\": \"RJE\", \"name\": \"UNIVERSITY HOSPITALS OF NORTH MIDLANDS NHS TRUST\", \"date\": \"2020-03-14T00:00:00\", \"deaths\": 0, \"cumulative_deaths\": 0}, {\"code\": \"RBK\", \"name\": \"WALSALL HEALTHCARE NHS TRUST\", \"date\": \"2020-03-14T00:00:00\", \"deaths\": 0, \"cumulative_deaths\": 1}, {\"code\": \"RXK\", \"name\": \"SANDWELL AND WEST BIRMINGHAM HOSPITALS NHS TRUST\", \"date\": \"2020-03-15T00:00:00\", \"deaths\": 0, \"cumulative_deaths\": 3}, {\"code\": \"RNA\", \"name\": \"THE DUDLEY GROUP NHS FOUNDATION TRUST\", \"date\": \"2020-03-15T00:00:00\", \"deaths\": 1, \"cumulative_deaths\": 5}, {\"code\": \"RL4\", \"name\": \"THE ROYAL WOLVERHAMPTON NHS TRUST\", \"date\": \"2020-03-15T00:00:00\", \"deaths\": 1, \"cumulative_deaths\": 6}, {\"code\": \"RRK\", \"name\": \"UNIVERSITY HOSPITALS BIRMINGHAM NHS FOUNDATION TRUST\", \"date\": \"2020-03-15T00:00:00\", \"deaths\": 1, \"cumulative_deaths\": 2}, {\"code\": \"RJE\", \"name\": \"UNIVERSITY HOSPITALS OF NORTH MIDLANDS NHS TRUST\", \"date\": \"2020-03-15T00:00:00\", \"deaths\": 0, \"cumulative_deaths\": 0}, {\"code\": \"RBK\", \"name\": \"WALSALL HEALTHCARE NHS TRUST\", \"date\": \"2020-03-15T00:00:00\", \"deaths\": 0, \"cumulative_deaths\": 1}, {\"code\": \"RXK\", \"name\": \"SANDWELL AND WEST BIRMINGHAM HOSPITALS NHS TRUST\", \"date\": \"2020-03-16T00:00:00\", \"deaths\": 6, \"cumulative_deaths\": 9}, {\"code\": \"RNA\", \"name\": \"THE DUDLEY GROUP NHS FOUNDATION TRUST\", \"date\": \"2020-03-16T00:00:00\", \"deaths\": 2, \"cumulative_deaths\": 7}, {\"code\": \"RL4\", \"name\": \"THE ROYAL WOLVERHAMPTON NHS TRUST\", \"date\": \"2020-03-16T00:00:00\", \"deaths\": 1, \"cumulative_deaths\": 7}, {\"code\": \"RRK\", \"name\": \"UNIVERSITY HOSPITALS BIRMINGHAM NHS FOUNDATION TRUST\", \"date\": \"2020-03-16T00:00:00\", \"deaths\": 0, \"cumulative_deaths\": 2}, {\"code\": \"RJE\", \"name\": \"UNIVERSITY HOSPITALS OF NORTH MIDLANDS NHS TRUST\", \"date\": \"2020-03-16T00:00:00\", \"deaths\": 0, \"cumulative_deaths\": 0}, {\"code\": \"RBK\", \"name\": \"WALSALL HEALTHCARE NHS TRUST\", \"date\": \"2020-03-16T00:00:00\", \"deaths\": 1, \"cumulative_deaths\": 2}, {\"code\": \"RXK\", \"name\": \"SANDWELL AND WEST BIRMINGHAM HOSPITALS NHS TRUST\", \"date\": \"2020-03-17T00:00:00\", \"deaths\": 1, \"cumulative_deaths\": 10}, {\"code\": \"RNA\", \"name\": \"THE DUDLEY GROUP NHS FOUNDATION TRUST\", \"date\": \"2020-03-17T00:00:00\", \"deaths\": 0, \"cumulative_deaths\": 7}, {\"code\": \"RL4\", \"name\": \"THE ROYAL WOLVERHAMPTON NHS TRUST\", \"date\": \"2020-03-17T00:00:00\", \"deaths\": 4, \"cumulative_deaths\": 11}, {\"code\": \"RRK\", \"name\": \"UNIVERSITY HOSPITALS BIRMINGHAM NHS FOUNDATION TRUST\", \"date\": \"2020-03-17T00:00:00\", \"deaths\": 1, \"cumulative_deaths\": 3}, {\"code\": \"RJE\", \"name\": \"UNIVERSITY HOSPITALS OF NORTH MIDLANDS NHS TRUST\", \"date\": \"2020-03-17T00:00:00\", \"deaths\": 0, \"cumulative_deaths\": 0}, {\"code\": \"RBK\", \"name\": \"WALSALL HEALTHCARE NHS TRUST\", \"date\": \"2020-03-17T00:00:00\", \"deaths\": 0, \"cumulative_deaths\": 2}, {\"code\": \"RXK\", \"name\": \"SANDWELL AND WEST BIRMINGHAM HOSPITALS NHS TRUST\", \"date\": \"2020-03-18T00:00:00\", \"deaths\": 5, \"cumulative_deaths\": 15}, {\"code\": \"RNA\", \"name\": \"THE DUDLEY GROUP NHS FOUNDATION TRUST\", \"date\": \"2020-03-18T00:00:00\", \"deaths\": 0, \"cumulative_deaths\": 7}, {\"code\": \"RL4\", \"name\": \"THE ROYAL WOLVERHAMPTON NHS TRUST\", \"date\": \"2020-03-18T00:00:00\", \"deaths\": 1, \"cumulative_deaths\": 12}, {\"code\": \"RRK\", \"name\": \"UNIVERSITY HOSPITALS BIRMINGHAM NHS FOUNDATION TRUST\", \"date\": \"2020-03-18T00:00:00\", \"deaths\": 1, \"cumulative_deaths\": 4}, {\"code\": \"RJE\", \"name\": \"UNIVERSITY HOSPITALS OF NORTH MIDLANDS NHS TRUST\", \"date\": \"2020-03-18T00:00:00\", \"deaths\": 0, \"cumulative_deaths\": 0}, {\"code\": \"RBK\", \"name\": \"WALSALL HEALTHCARE NHS TRUST\", \"date\": \"2020-03-18T00:00:00\", \"deaths\": 0, \"cumulative_deaths\": 2}, {\"code\": \"RXK\", \"name\": \"SANDWELL AND WEST BIRMINGHAM HOSPITALS NHS TRUST\", \"date\": \"2020-03-19T00:00:00\", \"deaths\": 3, \"cumulative_deaths\": 18}, {\"code\": \"RNA\", \"name\": \"THE DUDLEY GROUP NHS FOUNDATION TRUST\", \"date\": \"2020-03-19T00:00:00\", \"deaths\": 1, \"cumulative_deaths\": 8}, {\"code\": \"RL4\", \"name\": \"THE ROYAL WOLVERHAMPTON NHS TRUST\", \"date\": \"2020-03-19T00:00:00\", \"deaths\": 1, \"cumulative_deaths\": 13}, {\"code\": \"RRK\", \"name\": \"UNIVERSITY HOSPITALS BIRMINGHAM NHS FOUNDATION TRUST\", \"date\": \"2020-03-19T00:00:00\", \"deaths\": 2, \"cumulative_deaths\": 6}, {\"code\": \"RJE\", \"name\": \"UNIVERSITY HOSPITALS OF NORTH MIDLANDS NHS TRUST\", \"date\": \"2020-03-19T00:00:00\", \"deaths\": 0, \"cumulative_deaths\": 0}, {\"code\": \"RBK\", \"name\": \"WALSALL HEALTHCARE NHS TRUST\", \"date\": \"2020-03-19T00:00:00\", \"deaths\": 0, \"cumulative_deaths\": 2}, {\"code\": \"RXK\", \"name\": \"SANDWELL AND WEST BIRMINGHAM HOSPITALS NHS TRUST\", \"date\": \"2020-03-20T00:00:00\", \"deaths\": 1, \"cumulative_deaths\": 19}, {\"code\": \"RNA\", \"name\": \"THE DUDLEY GROUP NHS FOUNDATION TRUST\", \"date\": \"2020-03-20T00:00:00\", \"deaths\": 2, \"cumulative_deaths\": 10}, {\"code\": \"RL4\", \"name\": \"THE ROYAL WOLVERHAMPTON NHS TRUST\", \"date\": \"2020-03-20T00:00:00\", \"deaths\": 6, \"cumulative_deaths\": 19}, {\"code\": \"RRK\", \"name\": \"UNIVERSITY HOSPITALS BIRMINGHAM NHS FOUNDATION TRUST\", \"date\": \"2020-03-20T00:00:00\", \"deaths\": 5, \"cumulative_deaths\": 11}, {\"code\": \"RJE\", \"name\": \"UNIVERSITY HOSPITALS OF NORTH MIDLANDS NHS TRUST\", \"date\": \"2020-03-20T00:00:00\", \"deaths\": 3, \"cumulative_deaths\": 3}, {\"code\": \"RBK\", \"name\": \"WALSALL HEALTHCARE NHS TRUST\", \"date\": \"2020-03-20T00:00:00\", \"deaths\": 0, \"cumulative_deaths\": 2}, {\"code\": \"RXK\", \"name\": \"SANDWELL AND WEST BIRMINGHAM HOSPITALS NHS TRUST\", \"date\": \"2020-03-21T00:00:00\", \"deaths\": 1, \"cumulative_deaths\": 20}, {\"code\": \"RNA\", \"name\": \"THE DUDLEY GROUP NHS FOUNDATION TRUST\", \"date\": \"2020-03-21T00:00:00\", \"deaths\": 2, \"cumulative_deaths\": 12}, {\"code\": \"RL4\", \"name\": \"THE ROYAL WOLVERHAMPTON NHS TRUST\", \"date\": \"2020-03-21T00:00:00\", \"deaths\": 1, \"cumulative_deaths\": 20}, {\"code\": \"RRK\", \"name\": \"UNIVERSITY HOSPITALS BIRMINGHAM NHS FOUNDATION TRUST\", \"date\": \"2020-03-21T00:00:00\", \"deaths\": 2, \"cumulative_deaths\": 13}, {\"code\": \"RJE\", \"name\": \"UNIVERSITY HOSPITALS OF NORTH MIDLANDS NHS TRUST\", \"date\": \"2020-03-21T00:00:00\", \"deaths\": 0, \"cumulative_deaths\": 3}, {\"code\": \"RBK\", \"name\": \"WALSALL HEALTHCARE NHS TRUST\", \"date\": \"2020-03-21T00:00:00\", \"deaths\": 0, \"cumulative_deaths\": 2}, {\"code\": \"RXK\", \"name\": \"SANDWELL AND WEST BIRMINGHAM HOSPITALS NHS TRUST\", \"date\": \"2020-03-22T00:00:00\", \"deaths\": 2, \"cumulative_deaths\": 22}, {\"code\": \"RNA\", \"name\": \"THE DUDLEY GROUP NHS FOUNDATION TRUST\", \"date\": \"2020-03-22T00:00:00\", \"deaths\": 0, \"cumulative_deaths\": 12}, {\"code\": \"RL4\", \"name\": \"THE ROYAL WOLVERHAMPTON NHS TRUST\", \"date\": \"2020-03-22T00:00:00\", \"deaths\": 2, \"cumulative_deaths\": 22}, {\"code\": \"RRK\", \"name\": \"UNIVERSITY HOSPITALS BIRMINGHAM NHS FOUNDATION TRUST\", \"date\": \"2020-03-22T00:00:00\", \"deaths\": 9, \"cumulative_deaths\": 22}, {\"code\": \"RJE\", \"name\": \"UNIVERSITY HOSPITALS OF NORTH MIDLANDS NHS TRUST\", \"date\": \"2020-03-22T00:00:00\", \"deaths\": 0, \"cumulative_deaths\": 3}, {\"code\": \"RBK\", \"name\": \"WALSALL HEALTHCARE NHS TRUST\", \"date\": \"2020-03-22T00:00:00\", \"deaths\": 1, \"cumulative_deaths\": 3}, {\"code\": \"RXK\", \"name\": \"SANDWELL AND WEST BIRMINGHAM HOSPITALS NHS TRUST\", \"date\": \"2020-03-23T00:00:00\", \"deaths\": 7, \"cumulative_deaths\": 29}, {\"code\": \"RNA\", \"name\": \"THE DUDLEY GROUP NHS FOUNDATION TRUST\", \"date\": \"2020-03-23T00:00:00\", \"deaths\": 1, \"cumulative_deaths\": 13}, {\"code\": \"RL4\", \"name\": \"THE ROYAL WOLVERHAMPTON NHS TRUST\", \"date\": \"2020-03-23T00:00:00\", \"deaths\": 5, \"cumulative_deaths\": 27}, {\"code\": \"RRK\", \"name\": \"UNIVERSITY HOSPITALS BIRMINGHAM NHS FOUNDATION TRUST\", \"date\": \"2020-03-23T00:00:00\", \"deaths\": 5, \"cumulative_deaths\": 27}, {\"code\": \"RJE\", \"name\": \"UNIVERSITY HOSPITALS OF NORTH MIDLANDS NHS TRUST\", \"date\": \"2020-03-23T00:00:00\", \"deaths\": 0, \"cumulative_deaths\": 3}, {\"code\": \"RBK\", \"name\": \"WALSALL HEALTHCARE NHS TRUST\", \"date\": \"2020-03-23T00:00:00\", \"deaths\": 1, \"cumulative_deaths\": 4}, {\"code\": \"RXK\", \"name\": \"SANDWELL AND WEST BIRMINGHAM HOSPITALS NHS TRUST\", \"date\": \"2020-03-24T00:00:00\", \"deaths\": 2, \"cumulative_deaths\": 31}, {\"code\": \"RNA\", \"name\": \"THE DUDLEY GROUP NHS FOUNDATION TRUST\", \"date\": \"2020-03-24T00:00:00\", \"deaths\": 3, \"cumulative_deaths\": 16}, {\"code\": \"RL4\", \"name\": \"THE ROYAL WOLVERHAMPTON NHS TRUST\", \"date\": \"2020-03-24T00:00:00\", \"deaths\": 4, \"cumulative_deaths\": 31}, {\"code\": \"RRK\", \"name\": \"UNIVERSITY HOSPITALS BIRMINGHAM NHS FOUNDATION TRUST\", \"date\": \"2020-03-24T00:00:00\", \"deaths\": 5, \"cumulative_deaths\": 32}, {\"code\": \"RJE\", \"name\": \"UNIVERSITY HOSPITALS OF NORTH MIDLANDS NHS TRUST\", \"date\": \"2020-03-24T00:00:00\", \"deaths\": 0, \"cumulative_deaths\": 3}, {\"code\": \"RBK\", \"name\": \"WALSALL HEALTHCARE NHS TRUST\", \"date\": \"2020-03-24T00:00:00\", \"deaths\": 3, \"cumulative_deaths\": 7}, {\"code\": \"RXK\", \"name\": \"SANDWELL AND WEST BIRMINGHAM HOSPITALS NHS TRUST\", \"date\": \"2020-03-25T00:00:00\", \"deaths\": 1, \"cumulative_deaths\": 32}, {\"code\": \"RNA\", \"name\": \"THE DUDLEY GROUP NHS FOUNDATION TRUST\", \"date\": \"2020-03-25T00:00:00\", \"deaths\": 3, \"cumulative_deaths\": 19}, {\"code\": \"RL4\", \"name\": \"THE ROYAL WOLVERHAMPTON NHS TRUST\", \"date\": \"2020-03-25T00:00:00\", \"deaths\": 7, \"cumulative_deaths\": 38}, {\"code\": \"RRK\", \"name\": \"UNIVERSITY HOSPITALS BIRMINGHAM NHS FOUNDATION TRUST\", \"date\": \"2020-03-25T00:00:00\", \"deaths\": 12, \"cumulative_deaths\": 44}, {\"code\": \"RJE\", \"name\": \"UNIVERSITY HOSPITALS OF NORTH MIDLANDS NHS TRUST\", \"date\": \"2020-03-25T00:00:00\", \"deaths\": 1, \"cumulative_deaths\": 4}, {\"code\": \"RBK\", \"name\": \"WALSALL HEALTHCARE NHS TRUST\", \"date\": \"2020-03-25T00:00:00\", \"deaths\": 1, \"cumulative_deaths\": 8}, {\"code\": \"RXK\", \"name\": \"SANDWELL AND WEST BIRMINGHAM HOSPITALS NHS TRUST\", \"date\": \"2020-03-26T00:00:00\", \"deaths\": 4, \"cumulative_deaths\": 36}, {\"code\": \"RNA\", \"name\": \"THE DUDLEY GROUP NHS FOUNDATION TRUST\", \"date\": \"2020-03-26T00:00:00\", \"deaths\": 6, \"cumulative_deaths\": 25}, {\"code\": \"RL4\", \"name\": \"THE ROYAL WOLVERHAMPTON NHS TRUST\", \"date\": \"2020-03-26T00:00:00\", \"deaths\": 3, \"cumulative_deaths\": 41}, {\"code\": \"RRK\", \"name\": \"UNIVERSITY HOSPITALS BIRMINGHAM NHS FOUNDATION TRUST\", \"date\": \"2020-03-26T00:00:00\", \"deaths\": 13, \"cumulative_deaths\": 57}, {\"code\": \"RJE\", \"name\": \"UNIVERSITY HOSPITALS OF NORTH MIDLANDS NHS TRUST\", \"date\": \"2020-03-26T00:00:00\", \"deaths\": 2, \"cumulative_deaths\": 6}, {\"code\": \"RBK\", \"name\": \"WALSALL HEALTHCARE NHS TRUST\", \"date\": \"2020-03-26T00:00:00\", \"deaths\": 2, \"cumulative_deaths\": 10}, {\"code\": \"RXK\", \"name\": \"SANDWELL AND WEST BIRMINGHAM HOSPITALS NHS TRUST\", \"date\": \"2020-03-27T00:00:00\", \"deaths\": 5, \"cumulative_deaths\": 41}, {\"code\": \"RNA\", \"name\": \"THE DUDLEY GROUP NHS FOUNDATION TRUST\", \"date\": \"2020-03-27T00:00:00\", \"deaths\": 5, \"cumulative_deaths\": 30}, {\"code\": \"RL4\", \"name\": \"THE ROYAL WOLVERHAMPTON NHS TRUST\", \"date\": \"2020-03-27T00:00:00\", \"deaths\": 2, \"cumulative_deaths\": 43}, {\"code\": \"RRK\", \"name\": \"UNIVERSITY HOSPITALS BIRMINGHAM NHS FOUNDATION TRUST\", \"date\": \"2020-03-27T00:00:00\", \"deaths\": 19, \"cumulative_deaths\": 76}, {\"code\": \"RJE\", \"name\": \"UNIVERSITY HOSPITALS OF NORTH MIDLANDS NHS TRUST\", \"date\": \"2020-03-27T00:00:00\", \"deaths\": 4, \"cumulative_deaths\": 10}, {\"code\": \"RBK\", \"name\": \"WALSALL HEALTHCARE NHS TRUST\", \"date\": \"2020-03-27T00:00:00\", \"deaths\": 6, \"cumulative_deaths\": 16}, {\"code\": \"RXK\", \"name\": \"SANDWELL AND WEST BIRMINGHAM HOSPITALS NHS TRUST\", \"date\": \"2020-03-28T00:00:00\", \"deaths\": 6, \"cumulative_deaths\": 47}, {\"code\": \"RNA\", \"name\": \"THE DUDLEY GROUP NHS FOUNDATION TRUST\", \"date\": \"2020-03-28T00:00:00\", \"deaths\": 3, \"cumulative_deaths\": 33}, {\"code\": \"RL4\", \"name\": \"THE ROYAL WOLVERHAMPTON NHS TRUST\", \"date\": \"2020-03-28T00:00:00\", \"deaths\": 8, \"cumulative_deaths\": 51}, {\"code\": \"RRK\", \"name\": \"UNIVERSITY HOSPITALS BIRMINGHAM NHS FOUNDATION TRUST\", \"date\": \"2020-03-28T00:00:00\", \"deaths\": 21, \"cumulative_deaths\": 97}, {\"code\": \"RJE\", \"name\": \"UNIVERSITY HOSPITALS OF NORTH MIDLANDS NHS TRUST\", \"date\": \"2020-03-28T00:00:00\", \"deaths\": 2, \"cumulative_deaths\": 12}, {\"code\": \"RBK\", \"name\": \"WALSALL HEALTHCARE NHS TRUST\", \"date\": \"2020-03-28T00:00:00\", \"deaths\": 4, \"cumulative_deaths\": 20}, {\"code\": \"RXK\", \"name\": \"SANDWELL AND WEST BIRMINGHAM HOSPITALS NHS TRUST\", \"date\": \"2020-03-29T00:00:00\", \"deaths\": 14, \"cumulative_deaths\": 61}, {\"code\": \"RNA\", \"name\": \"THE DUDLEY GROUP NHS FOUNDATION TRUST\", \"date\": \"2020-03-29T00:00:00\", \"deaths\": 9, \"cumulative_deaths\": 42}, {\"code\": \"RL4\", \"name\": \"THE ROYAL WOLVERHAMPTON NHS TRUST\", \"date\": \"2020-03-29T00:00:00\", \"deaths\": 6, \"cumulative_deaths\": 57}, {\"code\": \"RRK\", \"name\": \"UNIVERSITY HOSPITALS BIRMINGHAM NHS FOUNDATION TRUST\", \"date\": \"2020-03-29T00:00:00\", \"deaths\": 39, \"cumulative_deaths\": 136}, {\"code\": \"RJE\", \"name\": \"UNIVERSITY HOSPITALS OF NORTH MIDLANDS NHS TRUST\", \"date\": \"2020-03-29T00:00:00\", \"deaths\": 4, \"cumulative_deaths\": 16}, {\"code\": \"RBK\", \"name\": \"WALSALL HEALTHCARE NHS TRUST\", \"date\": \"2020-03-29T00:00:00\", \"deaths\": 5, \"cumulative_deaths\": 25}, {\"code\": \"RXK\", \"name\": \"SANDWELL AND WEST BIRMINGHAM HOSPITALS NHS TRUST\", \"date\": \"2020-03-30T00:00:00\", \"deaths\": 15, \"cumulative_deaths\": 76}, {\"code\": \"RNA\", \"name\": \"THE DUDLEY GROUP NHS FOUNDATION TRUST\", \"date\": \"2020-03-30T00:00:00\", \"deaths\": 10, \"cumulative_deaths\": 52}, {\"code\": \"RL4\", \"name\": \"THE ROYAL WOLVERHAMPTON NHS TRUST\", \"date\": \"2020-03-30T00:00:00\", \"deaths\": 7, \"cumulative_deaths\": 64}, {\"code\": \"RRK\", \"name\": \"UNIVERSITY HOSPITALS BIRMINGHAM NHS FOUNDATION TRUST\", \"date\": \"2020-03-30T00:00:00\", \"deaths\": 25, \"cumulative_deaths\": 161}, {\"code\": \"RJE\", \"name\": \"UNIVERSITY HOSPITALS OF NORTH MIDLANDS NHS TRUST\", \"date\": \"2020-03-30T00:00:00\", \"deaths\": 4, \"cumulative_deaths\": 20}, {\"code\": \"RBK\", \"name\": \"WALSALL HEALTHCARE NHS TRUST\", \"date\": \"2020-03-30T00:00:00\", \"deaths\": 5, \"cumulative_deaths\": 30}, {\"code\": \"RXK\", \"name\": \"SANDWELL AND WEST BIRMINGHAM HOSPITALS NHS TRUST\", \"date\": \"2020-03-31T00:00:00\", \"deaths\": 5, \"cumulative_deaths\": 81}, {\"code\": \"RNA\", \"name\": \"THE DUDLEY GROUP NHS FOUNDATION TRUST\", \"date\": \"2020-03-31T00:00:00\", \"deaths\": 8, \"cumulative_deaths\": 60}, {\"code\": \"RL4\", \"name\": \"THE ROYAL WOLVERHAMPTON NHS TRUST\", \"date\": \"2020-03-31T00:00:00\", \"deaths\": 3, \"cumulative_deaths\": 67}, {\"code\": \"RRK\", \"name\": \"UNIVERSITY HOSPITALS BIRMINGHAM NHS FOUNDATION TRUST\", \"date\": \"2020-03-31T00:00:00\", \"deaths\": 1, \"cumulative_deaths\": 162}, {\"code\": \"RJE\", \"name\": \"UNIVERSITY HOSPITALS OF NORTH MIDLANDS NHS TRUST\", \"date\": \"2020-03-31T00:00:00\", \"deaths\": 2, \"cumulative_deaths\": 22}, {\"code\": \"RBK\", \"name\": \"WALSALL HEALTHCARE NHS TRUST\", \"date\": \"2020-03-31T00:00:00\", \"deaths\": 3, \"cumulative_deaths\": 33}, {\"code\": \"RXK\", \"name\": \"SANDWELL AND WEST BIRMINGHAM HOSPITALS NHS TRUST\", \"date\": \"2020-04-01T00:00:00\", \"deaths\": 7, \"cumulative_deaths\": 88}, {\"code\": \"RNA\", \"name\": \"THE DUDLEY GROUP NHS FOUNDATION TRUST\", \"date\": \"2020-04-01T00:00:00\", \"deaths\": 8, \"cumulative_deaths\": 68}, {\"code\": \"RL4\", \"name\": \"THE ROYAL WOLVERHAMPTON NHS TRUST\", \"date\": \"2020-04-01T00:00:00\", \"deaths\": 13, \"cumulative_deaths\": 80}, {\"code\": \"RRK\", \"name\": \"UNIVERSITY HOSPITALS BIRMINGHAM NHS FOUNDATION TRUST\", \"date\": \"2020-04-01T00:00:00\", \"deaths\": 26, \"cumulative_deaths\": 188}, {\"code\": \"RJE\", \"name\": \"UNIVERSITY HOSPITALS OF NORTH MIDLANDS NHS TRUST\", \"date\": \"2020-04-01T00:00:00\", \"deaths\": 8, \"cumulative_deaths\": 30}, {\"code\": \"RBK\", \"name\": \"WALSALL HEALTHCARE NHS TRUST\", \"date\": \"2020-04-01T00:00:00\", \"deaths\": 4, \"cumulative_deaths\": 37}, {\"code\": \"RXK\", \"name\": \"SANDWELL AND WEST BIRMINGHAM HOSPITALS NHS TRUST\", \"date\": \"2020-04-02T00:00:00\", \"deaths\": 6, \"cumulative_deaths\": 94}, {\"code\": \"RNA\", \"name\": \"THE DUDLEY GROUP NHS FOUNDATION TRUST\", \"date\": \"2020-04-02T00:00:00\", \"deaths\": 14, \"cumulative_deaths\": 82}, {\"code\": \"RL4\", \"name\": \"THE ROYAL WOLVERHAMPTON NHS TRUST\", \"date\": \"2020-04-02T00:00:00\", \"deaths\": 10, \"cumulative_deaths\": 90}, {\"code\": \"RRK\", \"name\": \"UNIVERSITY HOSPITALS BIRMINGHAM NHS FOUNDATION TRUST\", \"date\": \"2020-04-02T00:00:00\", \"deaths\": 26, \"cumulative_deaths\": 214}, {\"code\": \"RJE\", \"name\": \"UNIVERSITY HOSPITALS OF NORTH MIDLANDS NHS TRUST\", \"date\": \"2020-04-02T00:00:00\", \"deaths\": 6, \"cumulative_deaths\": 36}, {\"code\": \"RBK\", \"name\": \"WALSALL HEALTHCARE NHS TRUST\", \"date\": \"2020-04-02T00:00:00\", \"deaths\": 10, \"cumulative_deaths\": 47}, {\"code\": \"RXK\", \"name\": \"SANDWELL AND WEST BIRMINGHAM HOSPITALS NHS TRUST\", \"date\": \"2020-04-03T00:00:00\", \"deaths\": 6, \"cumulative_deaths\": 100}, {\"code\": \"RNA\", \"name\": \"THE DUDLEY GROUP NHS FOUNDATION TRUST\", \"date\": \"2020-04-03T00:00:00\", \"deaths\": 9, \"cumulative_deaths\": 91}, {\"code\": \"RL4\", \"name\": \"THE ROYAL WOLVERHAMPTON NHS TRUST\", \"date\": \"2020-04-03T00:00:00\", \"deaths\": 8, \"cumulative_deaths\": 98}, {\"code\": \"RRK\", \"name\": \"UNIVERSITY HOSPITALS BIRMINGHAM NHS FOUNDATION TRUST\", \"date\": \"2020-04-03T00:00:00\", \"deaths\": 17, \"cumulative_deaths\": 231}, {\"code\": \"RJE\", \"name\": \"UNIVERSITY HOSPITALS OF NORTH MIDLANDS NHS TRUST\", \"date\": \"2020-04-03T00:00:00\", \"deaths\": 9, \"cumulative_deaths\": 45}, {\"code\": \"RBK\", \"name\": \"WALSALL HEALTHCARE NHS TRUST\", \"date\": \"2020-04-03T00:00:00\", \"deaths\": 8, \"cumulative_deaths\": 55}, {\"code\": \"RXK\", \"name\": \"SANDWELL AND WEST BIRMINGHAM HOSPITALS NHS TRUST\", \"date\": \"2020-04-04T00:00:00\", \"deaths\": 10, \"cumulative_deaths\": 110}, {\"code\": \"RNA\", \"name\": \"THE DUDLEY GROUP NHS FOUNDATION TRUST\", \"date\": \"2020-04-04T00:00:00\", \"deaths\": 5, \"cumulative_deaths\": 96}, {\"code\": \"RL4\", \"name\": \"THE ROYAL WOLVERHAMPTON NHS TRUST\", \"date\": \"2020-04-04T00:00:00\", \"deaths\": 8, \"cumulative_deaths\": 106}, {\"code\": \"RRK\", \"name\": \"UNIVERSITY HOSPITALS BIRMINGHAM NHS FOUNDATION TRUST\", \"date\": \"2020-04-04T00:00:00\", \"deaths\": 24, \"cumulative_deaths\": 255}, {\"code\": \"RJE\", \"name\": \"UNIVERSITY HOSPITALS OF NORTH MIDLANDS NHS TRUST\", \"date\": \"2020-04-04T00:00:00\", \"deaths\": 8, \"cumulative_deaths\": 53}, {\"code\": \"RBK\", \"name\": \"WALSALL HEALTHCARE NHS TRUST\", \"date\": \"2020-04-04T00:00:00\", \"deaths\": 6, \"cumulative_deaths\": 61}, {\"code\": \"RXK\", \"name\": \"SANDWELL AND WEST BIRMINGHAM HOSPITALS NHS TRUST\", \"date\": \"2020-04-05T00:00:00\", \"deaths\": 7, \"cumulative_deaths\": 117}, {\"code\": \"RNA\", \"name\": \"THE DUDLEY GROUP NHS FOUNDATION TRUST\", \"date\": \"2020-04-05T00:00:00\", \"deaths\": 3, \"cumulative_deaths\": 99}, {\"code\": \"RL4\", \"name\": \"THE ROYAL WOLVERHAMPTON NHS TRUST\", \"date\": \"2020-04-05T00:00:00\", \"deaths\": 7, \"cumulative_deaths\": 113}, {\"code\": \"RRK\", \"name\": \"UNIVERSITY HOSPITALS BIRMINGHAM NHS FOUNDATION TRUST\", \"date\": \"2020-04-05T00:00:00\", \"deaths\": 35, \"cumulative_deaths\": 290}, {\"code\": \"RJE\", \"name\": \"UNIVERSITY HOSPITALS OF NORTH MIDLANDS NHS TRUST\", \"date\": \"2020-04-05T00:00:00\", \"deaths\": 7, \"cumulative_deaths\": 60}, {\"code\": \"RBK\", \"name\": \"WALSALL HEALTHCARE NHS TRUST\", \"date\": \"2020-04-05T00:00:00\", \"deaths\": 3, \"cumulative_deaths\": 64}, {\"code\": \"RXK\", \"name\": \"SANDWELL AND WEST BIRMINGHAM HOSPITALS NHS TRUST\", \"date\": \"2020-04-06T00:00:00\", \"deaths\": 4, \"cumulative_deaths\": 121}, {\"code\": \"RNA\", \"name\": \"THE DUDLEY GROUP NHS FOUNDATION TRUST\", \"date\": \"2020-04-06T00:00:00\", \"deaths\": 6, \"cumulative_deaths\": 105}, {\"code\": \"RL4\", \"name\": \"THE ROYAL WOLVERHAMPTON NHS TRUST\", \"date\": \"2020-04-06T00:00:00\", \"deaths\": 5, \"cumulative_deaths\": 118}, {\"code\": \"RRK\", \"name\": \"UNIVERSITY HOSPITALS BIRMINGHAM NHS FOUNDATION TRUST\", \"date\": \"2020-04-06T00:00:00\", \"deaths\": 29, \"cumulative_deaths\": 319}, {\"code\": \"RJE\", \"name\": \"UNIVERSITY HOSPITALS OF NORTH MIDLANDS NHS TRUST\", \"date\": \"2020-04-06T00:00:00\", \"deaths\": 8, \"cumulative_deaths\": 68}, {\"code\": \"RBK\", \"name\": \"WALSALL HEALTHCARE NHS TRUST\", \"date\": \"2020-04-06T00:00:00\", \"deaths\": 1, \"cumulative_deaths\": 65}, {\"code\": \"RXK\", \"name\": \"SANDWELL AND WEST BIRMINGHAM HOSPITALS NHS TRUST\", \"date\": \"2020-04-07T00:00:00\", \"deaths\": 2, \"cumulative_deaths\": 123}, {\"code\": \"RNA\", \"name\": \"THE DUDLEY GROUP NHS FOUNDATION TRUST\", \"date\": \"2020-04-07T00:00:00\", \"deaths\": 7, \"cumulative_deaths\": 112}, {\"code\": \"RL4\", \"name\": \"THE ROYAL WOLVERHAMPTON NHS TRUST\", \"date\": \"2020-04-07T00:00:00\", \"deaths\": 6, \"cumulative_deaths\": 124}, {\"code\": \"RRK\", \"name\": \"UNIVERSITY HOSPITALS BIRMINGHAM NHS FOUNDATION TRUST\", \"date\": \"2020-04-07T00:00:00\", \"deaths\": 24, \"cumulative_deaths\": 343}, {\"code\": \"RJE\", \"name\": \"UNIVERSITY HOSPITALS OF NORTH MIDLANDS NHS TRUST\", \"date\": \"2020-04-07T00:00:00\", \"deaths\": 1, \"cumulative_deaths\": 69}, {\"code\": \"RBK\", \"name\": \"WALSALL HEALTHCARE NHS TRUST\", \"date\": \"2020-04-07T00:00:00\", \"deaths\": 5, \"cumulative_deaths\": 70}, {\"code\": \"RXK\", \"name\": \"SANDWELL AND WEST BIRMINGHAM HOSPITALS NHS TRUST\", \"date\": \"2020-04-08T00:00:00\", \"deaths\": 3, \"cumulative_deaths\": 126}, {\"code\": \"RNA\", \"name\": \"THE DUDLEY GROUP NHS FOUNDATION TRUST\", \"date\": \"2020-04-08T00:00:00\", \"deaths\": 7, \"cumulative_deaths\": 119}, {\"code\": \"RL4\", \"name\": \"THE ROYAL WOLVERHAMPTON NHS TRUST\", \"date\": \"2020-04-08T00:00:00\", \"deaths\": 7, \"cumulative_deaths\": 131}, {\"code\": \"RRK\", \"name\": \"UNIVERSITY HOSPITALS BIRMINGHAM NHS FOUNDATION TRUST\", \"date\": \"2020-04-08T00:00:00\", \"deaths\": 22, \"cumulative_deaths\": 365}, {\"code\": \"RJE\", \"name\": \"UNIVERSITY HOSPITALS OF NORTH MIDLANDS NHS TRUST\", \"date\": \"2020-04-08T00:00:00\", \"deaths\": 8, \"cumulative_deaths\": 77}, {\"code\": \"RBK\", \"name\": \"WALSALL HEALTHCARE NHS TRUST\", \"date\": \"2020-04-08T00:00:00\", \"deaths\": 3, \"cumulative_deaths\": 73}, {\"code\": \"RXK\", \"name\": \"SANDWELL AND WEST BIRMINGHAM HOSPITALS NHS TRUST\", \"date\": \"2020-04-09T00:00:00\", \"deaths\": 0, \"cumulative_deaths\": 126}, {\"code\": \"RNA\", \"name\": \"THE DUDLEY GROUP NHS FOUNDATION TRUST\", \"date\": \"2020-04-09T00:00:00\", \"deaths\": 0, \"cumulative_deaths\": 119}, {\"code\": \"RL4\", \"name\": \"THE ROYAL WOLVERHAMPTON NHS TRUST\", \"date\": \"2020-04-09T00:00:00\", \"deaths\": 2, \"cumulative_deaths\": 133}, {\"code\": \"RRK\", \"name\": \"UNIVERSITY HOSPITALS BIRMINGHAM NHS FOUNDATION TRUST\", \"date\": \"2020-04-09T00:00:00\", \"deaths\": 0, \"cumulative_deaths\": 365}, {\"code\": \"RJE\", \"name\": \"UNIVERSITY HOSPITALS OF NORTH MIDLANDS NHS TRUST\", \"date\": \"2020-04-09T00:00:00\", \"deaths\": 1, \"cumulative_deaths\": 78}, {\"code\": \"RBK\", \"name\": \"WALSALL HEALTHCARE NHS TRUST\", \"date\": \"2020-04-09T00:00:00\", \"deaths\": 0, \"cumulative_deaths\": 73}]}}, {\"mode\": \"vega-lite\"});\n",
       "</script>"
      ],
      "text/plain": [
       "alt.Chart(...)"
      ]
     },
     "execution_count": 601,
     "metadata": {},
     "output_type": "execute_result"
    }
   ],
   "source": [
    "eands_trust_codes = [\n",
    "    'RNA', # The Dudley Group NHS Foundation Trust\n",
    "    'RL4', # The Royal Wolverhampton NHS Trust\n",
    "    'RXK', # Sandwell And West Birmingham Hospitals NHS Trust\n",
    "    'RRK', # University Hospitals Birmingham NHS Foundation Trust\n",
    "    'RBK', # Walsall Healthcare NHS Trust\n",
    "    'RJE', # University Hospitals Of North Midlands NHS Trust\n",
    "]\n",
    "eands_trust_data = our_trusts[our_trusts.code.isin(eands_trust_codes)]\n",
    "\n",
    "alt.Chart(eands_trust_data).mark_line().encode(\n",
    "    x='date',\n",
    "    y='cumulative_deaths',\n",
    "    color='name',\n",
    "    tooltip='name'\n",
    ")"
   ]
  }
 ],
 "metadata": {
  "kernelspec": {
   "display_name": "Python 3",
   "language": "python",
   "name": "python3"
  },
  "language_info": {
   "codemirror_mode": {
    "name": "ipython",
    "version": 3
   },
   "file_extension": ".py",
   "mimetype": "text/x-python",
   "name": "python",
   "nbconvert_exporter": "python",
   "pygments_lexer": "ipython3",
   "version": "3.8.2"
  }
 },
 "nbformat": 4,
 "nbformat_minor": 4
}
